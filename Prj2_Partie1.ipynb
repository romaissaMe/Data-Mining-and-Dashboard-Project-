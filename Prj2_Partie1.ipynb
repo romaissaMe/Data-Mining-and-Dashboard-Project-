{
 "cells": [
  {
   "cell_type": "code",
   "execution_count": 15,
   "metadata": {},
   "outputs": [],
   "source": [
    "import numpy as np\n",
    "import pandas as pd\n",
    "import matplotlib.pyplot as plt\n",
    "import seaborn as sns\n",
    "from sklearn.model_selection import train_test_split\n",
    "from algorithms import DecisionTree, RandomForest, KNN"
   ]
  },
  {
   "cell_type": "code",
   "execution_count": 2,
   "metadata": {},
   "outputs": [
    {
     "data": {
      "text/html": [
       "<div>\n",
       "<style scoped>\n",
       "    .dataframe tbody tr th:only-of-type {\n",
       "        vertical-align: middle;\n",
       "    }\n",
       "\n",
       "    .dataframe tbody tr th {\n",
       "        vertical-align: top;\n",
       "    }\n",
       "\n",
       "    .dataframe thead th {\n",
       "        text-align: right;\n",
       "    }\n",
       "</style>\n",
       "<table border=\"1\" class=\"dataframe\">\n",
       "  <thead>\n",
       "    <tr style=\"text-align: right;\">\n",
       "      <th></th>\n",
       "      <th>Fertility</th>\n",
       "      <th>N</th>\n",
       "      <th>P</th>\n",
       "      <th>K</th>\n",
       "      <th>pH</th>\n",
       "      <th>EC</th>\n",
       "      <th>S</th>\n",
       "      <th>Zn</th>\n",
       "      <th>Fe</th>\n",
       "      <th>Cu</th>\n",
       "      <th>Mn</th>\n",
       "      <th>B</th>\n",
       "      <th>OM</th>\n",
       "    </tr>\n",
       "  </thead>\n",
       "  <tbody>\n",
       "    <tr>\n",
       "      <th>0</th>\n",
       "      <td>0</td>\n",
       "      <td>138</td>\n",
       "      <td>8.6</td>\n",
       "      <td>560</td>\n",
       "      <td>7.46</td>\n",
       "      <td>0.62</td>\n",
       "      <td>5.90</td>\n",
       "      <td>0.24</td>\n",
       "      <td>0.31</td>\n",
       "      <td>0.77</td>\n",
       "      <td>8.71</td>\n",
       "      <td>0.11</td>\n",
       "      <td>1.2040</td>\n",
       "    </tr>\n",
       "    <tr>\n",
       "      <th>1</th>\n",
       "      <td>2</td>\n",
       "      <td>333</td>\n",
       "      <td>14.9</td>\n",
       "      <td>422</td>\n",
       "      <td>8.26</td>\n",
       "      <td>0.48</td>\n",
       "      <td>8.45</td>\n",
       "      <td>0.51</td>\n",
       "      <td>3.32</td>\n",
       "      <td>1.08</td>\n",
       "      <td>9.21</td>\n",
       "      <td>0.32</td>\n",
       "      <td>2.0124</td>\n",
       "    </tr>\n",
       "    <tr>\n",
       "      <th>2</th>\n",
       "      <td>0</td>\n",
       "      <td>245</td>\n",
       "      <td>8.1</td>\n",
       "      <td>560</td>\n",
       "      <td>7.31</td>\n",
       "      <td>0.63</td>\n",
       "      <td>11.60</td>\n",
       "      <td>0.29</td>\n",
       "      <td>0.43</td>\n",
       "      <td>0.57</td>\n",
       "      <td>7.73</td>\n",
       "      <td>0.74</td>\n",
       "      <td>1.3416</td>\n",
       "    </tr>\n",
       "    <tr>\n",
       "      <th>3</th>\n",
       "      <td>0</td>\n",
       "      <td>245</td>\n",
       "      <td>8.3</td>\n",
       "      <td>560</td>\n",
       "      <td>7.58</td>\n",
       "      <td>0.74</td>\n",
       "      <td>8.20</td>\n",
       "      <td>0.32</td>\n",
       "      <td>0.96</td>\n",
       "      <td>1.57</td>\n",
       "      <td>2.67</td>\n",
       "      <td>0.59</td>\n",
       "      <td>1.4276</td>\n",
       "    </tr>\n",
       "    <tr>\n",
       "      <th>4</th>\n",
       "      <td>0</td>\n",
       "      <td>182</td>\n",
       "      <td>10.7</td>\n",
       "      <td>708</td>\n",
       "      <td>7.48</td>\n",
       "      <td>0.57</td>\n",
       "      <td>14.20</td>\n",
       "      <td>0.59</td>\n",
       "      <td>0.92</td>\n",
       "      <td>1.15</td>\n",
       "      <td>6.69</td>\n",
       "      <td>0.65</td>\n",
       "      <td>1.9092</td>\n",
       "    </tr>\n",
       "    <tr>\n",
       "      <th>...</th>\n",
       "      <td>...</td>\n",
       "      <td>...</td>\n",
       "      <td>...</td>\n",
       "      <td>...</td>\n",
       "      <td>...</td>\n",
       "      <td>...</td>\n",
       "      <td>...</td>\n",
       "      <td>...</td>\n",
       "      <td>...</td>\n",
       "      <td>...</td>\n",
       "      <td>...</td>\n",
       "      <td>...</td>\n",
       "      <td>...</td>\n",
       "    </tr>\n",
       "    <tr>\n",
       "      <th>617</th>\n",
       "      <td>1</td>\n",
       "      <td>351</td>\n",
       "      <td>10.7</td>\n",
       "      <td>623</td>\n",
       "      <td>7.96</td>\n",
       "      <td>0.51</td>\n",
       "      <td>7.24</td>\n",
       "      <td>0.36</td>\n",
       "      <td>4.69</td>\n",
       "      <td>0.69</td>\n",
       "      <td>11.03</td>\n",
       "      <td>0.69</td>\n",
       "      <td>0.4988</td>\n",
       "    </tr>\n",
       "    <tr>\n",
       "      <th>618</th>\n",
       "      <td>1</td>\n",
       "      <td>264</td>\n",
       "      <td>9.0</td>\n",
       "      <td>486</td>\n",
       "      <td>7.24</td>\n",
       "      <td>0.47</td>\n",
       "      <td>3.92</td>\n",
       "      <td>0.35</td>\n",
       "      <td>8.26</td>\n",
       "      <td>0.45</td>\n",
       "      <td>7.98</td>\n",
       "      <td>0.40</td>\n",
       "      <td>0.1720</td>\n",
       "    </tr>\n",
       "    <tr>\n",
       "      <th>619</th>\n",
       "      <td>1</td>\n",
       "      <td>276</td>\n",
       "      <td>9.2</td>\n",
       "      <td>370</td>\n",
       "      <td>7.62</td>\n",
       "      <td>0.62</td>\n",
       "      <td>6.64</td>\n",
       "      <td>0.42</td>\n",
       "      <td>3.57</td>\n",
       "      <td>0.63</td>\n",
       "      <td>6.48</td>\n",
       "      <td>0.32</td>\n",
       "      <td>0.8428</td>\n",
       "    </tr>\n",
       "    <tr>\n",
       "      <th>620</th>\n",
       "      <td>2</td>\n",
       "      <td>320</td>\n",
       "      <td>13.8</td>\n",
       "      <td>391</td>\n",
       "      <td>7.38</td>\n",
       "      <td>0.65</td>\n",
       "      <td>5.43</td>\n",
       "      <td>0.58</td>\n",
       "      <td>4.58</td>\n",
       "      <td>1.02</td>\n",
       "      <td>13.25</td>\n",
       "      <td>0.53</td>\n",
       "      <td>1.8404</td>\n",
       "    </tr>\n",
       "    <tr>\n",
       "      <th>621</th>\n",
       "      <td>0</td>\n",
       "      <td>264</td>\n",
       "      <td>10.3</td>\n",
       "      <td>475</td>\n",
       "      <td>7.49</td>\n",
       "      <td>0.74</td>\n",
       "      <td>10.56</td>\n",
       "      <td>0.45</td>\n",
       "      <td>7.36</td>\n",
       "      <td>1.87</td>\n",
       "      <td>10.63</td>\n",
       "      <td>0.63</td>\n",
       "      <td>1.5136</td>\n",
       "    </tr>\n",
       "  </tbody>\n",
       "</table>\n",
       "<p>622 rows × 13 columns</p>\n",
       "</div>"
      ],
      "text/plain": [
       "     Fertility    N     P    K    pH    EC      S    Zn    Fe    Cu     Mn  \\\n",
       "0            0  138   8.6  560  7.46  0.62   5.90  0.24  0.31  0.77   8.71   \n",
       "1            2  333  14.9  422  8.26  0.48   8.45  0.51  3.32  1.08   9.21   \n",
       "2            0  245   8.1  560  7.31  0.63  11.60  0.29  0.43  0.57   7.73   \n",
       "3            0  245   8.3  560  7.58  0.74   8.20  0.32  0.96  1.57   2.67   \n",
       "4            0  182  10.7  708  7.48  0.57  14.20  0.59  0.92  1.15   6.69   \n",
       "..         ...  ...   ...  ...   ...   ...    ...   ...   ...   ...    ...   \n",
       "617          1  351  10.7  623  7.96  0.51   7.24  0.36  4.69  0.69  11.03   \n",
       "618          1  264   9.0  486  7.24  0.47   3.92  0.35  8.26  0.45   7.98   \n",
       "619          1  276   9.2  370  7.62  0.62   6.64  0.42  3.57  0.63   6.48   \n",
       "620          2  320  13.8  391  7.38  0.65   5.43  0.58  4.58  1.02  13.25   \n",
       "621          0  264  10.3  475  7.49  0.74  10.56  0.45  7.36  1.87  10.63   \n",
       "\n",
       "        B      OM  \n",
       "0    0.11  1.2040  \n",
       "1    0.32  2.0124  \n",
       "2    0.74  1.3416  \n",
       "3    0.59  1.4276  \n",
       "4    0.65  1.9092  \n",
       "..    ...     ...  \n",
       "617  0.69  0.4988  \n",
       "618  0.40  0.1720  \n",
       "619  0.32  0.8428  \n",
       "620  0.53  1.8404  \n",
       "621  0.63  1.5136  \n",
       "\n",
       "[622 rows x 13 columns]"
      ]
     },
     "execution_count": 2,
     "metadata": {},
     "output_type": "execute_result"
    }
   ],
   "source": [
    "data = pd.read_csv(\"./new_dataset_1.csv\")\n",
    "data"
   ]
  },
  {
   "cell_type": "code",
   "execution_count": 3,
   "metadata": {},
   "outputs": [],
   "source": [
    "X, y = data.iloc[:, 1:].values, data.iloc[:, 0].values\n",
    "X_train, X_test, y_train, y_test = train_test_split(X, y, test_size=0.2)"
   ]
  },
  {
   "cell_type": "markdown",
   "metadata": {},
   "source": [
    "Decision Tree"
   ]
  },
  {
   "cell_type": "code",
   "execution_count": 4,
   "metadata": {},
   "outputs": [],
   "source": [
    "decision_tree_model = DecisionTree()\n",
    "decision_tree_model.fit(X_train, y_train)\n",
    "y_pred = decision_tree_model.predict(X_test)"
   ]
  },
  {
   "cell_type": "code",
   "execution_count": 5,
   "metadata": {},
   "outputs": [
    {
     "name": "stdout",
     "output_type": "stream",
     "text": [
      "0.904\n"
     ]
    }
   ],
   "source": [
    "from sklearn.metrics import accuracy_score\n",
    "print(accuracy_score(y_test, y_pred))"
   ]
  },
  {
   "cell_type": "code",
   "execution_count": 17,
   "metadata": {},
   "outputs": [
    {
     "data": {
      "image/png": "[encoded data removed]",
      "text/plain": [
       "<Figure size 640x480 with 2 Axes>"
      ]
     },
     "metadata": {},
     "output_type": "display_data"
    }
   ],
   "source": [
    "from sklearn.metrics import confusion_matrix\n",
    "cm = confusion_matrix(y_test, y_pred)\n",
    "sns.heatmap(cm, annot=True, fmt=\"d\")\n",
    "plt.title('Confusion matrix')\n",
    "plt.ylabel('Actual label')\n",
    "plt.xlabel('Predicted label')\n",
    "plt.show()"
   ]
  },
  {
   "cell_type": "markdown",
   "metadata": {},
   "source": [
    "RandomForest"
   ]
  },
  {
   "cell_type": "code",
   "execution_count": 6,
   "metadata": {},
   "outputs": [],
   "source": [
    "RandomForest_model = RandomForest()\n",
    "RandomForest_model.fit(X_train, y_train)\n",
    "y_pred = RandomForest_model.predict(X_test)"
   ]
  },
  {
   "cell_type": "code",
   "execution_count": 7,
   "metadata": {},
   "outputs": [
    {
     "name": "stdout",
     "output_type": "stream",
     "text": [
      "0.904\n"
     ]
    }
   ],
   "source": [
    "from sklearn.metrics import accuracy_score\n",
    "print(accuracy_score(y_test, y_pred))"
   ]
  },
  {
   "cell_type": "markdown",
   "metadata": {},
   "source": [
    "KNN"
   ]
  },
  {
   "cell_type": "code",
   "execution_count": 10,
   "metadata": {},
   "outputs": [],
   "source": [
    "knn_model = KNN()\n",
    "knn_model.fit(X_train, y_train)\n",
    "knn_pred = knn_model.predict(X_test)"
   ]
  },
  {
   "cell_type": "code",
   "execution_count": 11,
   "metadata": {},
   "outputs": [
    {
     "name": "stdout",
     "output_type": "stream",
     "text": [
      "0.888\n"
     ]
    }
   ],
   "source": [
    "from sklearn.metrics import accuracy_score\n",
    "print(accuracy_score(y_test, knn_pred))"
   ]
  }
 ],
 "metadata": {
  "kernelspec": {
   "display_name": "Python 3",
   "language": "python",
   "name": "python3"
  },
  "language_info": {
   "codemirror_mode": {
    "name": "ipython",
    "version": 3
   },
   "file_extension": ".py",
   "mimetype": "text/x-python",
   "name": "python",
   "nbconvert_exporter": "python",
   "pygments_lexer": "ipython3",
   "version": "3.11.4"
  }
 },
 "nbformat": 4,
 "nbformat_minor": 2
}
