{
 "cells": [
  {
   "cell_type": "code",
   "execution_count": 2,
   "metadata": {},
   "outputs": [],
   "source": [
    "import numpy as np\n",
    "import pandas as pd\n",
    "import matplotlib.pyplot as plt\n",
    "import seaborn as sns\n",
    "import plotly.express as px"
   ]
  },
  {
   "cell_type": "markdown",
   "metadata": {},
   "source": [
    "Importation du Dataset et visualisation"
   ]
  },
  {
   "cell_type": "code",
   "execution_count": 7,
   "metadata": {},
   "outputs": [
    {
     "data": {
      "text/html": [
       "<div>\n",
       "<style scoped>\n",
       "    .dataframe tbody tr th:only-of-type {\n",
       "        vertical-align: middle;\n",
       "    }\n",
       "\n",
       "    .dataframe tbody tr th {\n",
       "        vertical-align: top;\n",
       "    }\n",
       "\n",
       "    .dataframe thead th {\n",
       "        text-align: right;\n",
       "    }\n",
       "</style>\n",
       "<table border=\"1\" class=\"dataframe\">\n",
       "  <thead>\n",
       "    <tr style=\"text-align: right;\">\n",
       "      <th></th>\n",
       "      <th>Temperature</th>\n",
       "      <th>Humidity</th>\n",
       "      <th>Rainfall</th>\n",
       "      <th>Soil</th>\n",
       "      <th>Crop</th>\n",
       "      <th>Fertilizer</th>\n",
       "    </tr>\n",
       "  </thead>\n",
       "  <tbody>\n",
       "    <tr>\n",
       "      <th>0</th>\n",
       "      <td>24.87</td>\n",
       "      <td>82.84</td>\n",
       "      <td>295.61</td>\n",
       "      <td>Clayey</td>\n",
       "      <td>rice</td>\n",
       "      <td>DAP</td>\n",
       "    </tr>\n",
       "    <tr>\n",
       "      <th>1</th>\n",
       "      <td>28.69</td>\n",
       "      <td>96.65</td>\n",
       "      <td>178.96</td>\n",
       "      <td>laterite</td>\n",
       "      <td>Coconut</td>\n",
       "      <td>Good NPK</td>\n",
       "    </tr>\n",
       "    <tr>\n",
       "      <th>2</th>\n",
       "      <td>20.27</td>\n",
       "      <td>81.64</td>\n",
       "      <td>270.44</td>\n",
       "      <td>silty clay</td>\n",
       "      <td>rice</td>\n",
       "      <td>MOP</td>\n",
       "    </tr>\n",
       "    <tr>\n",
       "      <th>3</th>\n",
       "      <td>25.07</td>\n",
       "      <td>95.02</td>\n",
       "      <td>192.90</td>\n",
       "      <td>sandy</td>\n",
       "      <td>Coconut</td>\n",
       "      <td>Urea</td>\n",
       "    </tr>\n",
       "    <tr>\n",
       "      <th>4</th>\n",
       "      <td>25.04</td>\n",
       "      <td>95.90</td>\n",
       "      <td>174.80</td>\n",
       "      <td>coastal</td>\n",
       "      <td>Coconut</td>\n",
       "      <td>Urea</td>\n",
       "    </tr>\n",
       "    <tr>\n",
       "      <th>...</th>\n",
       "      <td>...</td>\n",
       "      <td>...</td>\n",
       "      <td>...</td>\n",
       "      <td>...</td>\n",
       "      <td>...</td>\n",
       "      <td>...</td>\n",
       "    </tr>\n",
       "    <tr>\n",
       "      <th>290</th>\n",
       "      <td>26.07</td>\n",
       "      <td>96.70</td>\n",
       "      <td>143.53</td>\n",
       "      <td>sandy</td>\n",
       "      <td>Coconut</td>\n",
       "      <td>MOP</td>\n",
       "    </tr>\n",
       "    <tr>\n",
       "      <th>291</th>\n",
       "      <td>25.63</td>\n",
       "      <td>83.53</td>\n",
       "      <td>209.90</td>\n",
       "      <td>silty clay</td>\n",
       "      <td>rice</td>\n",
       "      <td>MOP</td>\n",
       "    </tr>\n",
       "    <tr>\n",
       "      <th>292</th>\n",
       "      <td>24.52</td>\n",
       "      <td>83.54</td>\n",
       "      <td>230.45</td>\n",
       "      <td>Clayey</td>\n",
       "      <td>rice</td>\n",
       "      <td>MOP</td>\n",
       "    </tr>\n",
       "    <tr>\n",
       "      <th>293</th>\n",
       "      <td>25.66</td>\n",
       "      <td>83.47</td>\n",
       "      <td>217.38</td>\n",
       "      <td>Clayey</td>\n",
       "      <td>rice</td>\n",
       "      <td>MOP</td>\n",
       "    </tr>\n",
       "    <tr>\n",
       "      <th>294</th>\n",
       "      <td>23.83</td>\n",
       "      <td>84.81</td>\n",
       "      <td>298.56</td>\n",
       "      <td>silty clay</td>\n",
       "      <td>rice</td>\n",
       "      <td>MOP</td>\n",
       "    </tr>\n",
       "  </tbody>\n",
       "</table>\n",
       "<p>295 rows × 6 columns</p>\n",
       "</div>"
      ],
      "text/plain": [
       "     Temperature  Humidity  Rainfall        Soil     Crop Fertilizer\n",
       "0          24.87     82.84    295.61      Clayey     rice        DAP\n",
       "1          28.69     96.65    178.96    laterite  Coconut   Good NPK\n",
       "2          20.27     81.64    270.44  silty clay     rice        MOP\n",
       "3          25.07     95.02    192.90       sandy  Coconut       Urea\n",
       "4          25.04     95.90    174.80     coastal  Coconut       Urea\n",
       "..           ...       ...       ...         ...      ...        ...\n",
       "290        26.07     96.70    143.53       sandy  Coconut        MOP\n",
       "291        25.63     83.53    209.90  silty clay     rice        MOP\n",
       "292        24.52     83.54    230.45      Clayey     rice        MOP\n",
       "293        25.66     83.47    217.38      Clayey     rice        MOP\n",
       "294        23.83     84.81    298.56  silty clay     rice        MOP\n",
       "\n",
       "[295 rows x 6 columns]"
      ]
     },
     "execution_count": 7,
     "metadata": {},
     "output_type": "execute_result"
    }
   ],
   "source": [
    "dataset = \"./Dataset3.xlsx\"\n",
    "dataset3 = pd.read_excel(dataset)\n",
    "dataset3"
   ]
  },
  {
   "cell_type": "markdown",
   "metadata": {},
   "source": [
    "Description globale du Dataset"
   ]
  },
  {
   "cell_type": "code",
   "execution_count": 8,
   "metadata": {},
   "outputs": [],
   "source": [
    "def description(dataset):\n",
    "    nb_lignes=dataset.shape[0] #nombre de lignes\n",
    "    nb_colonnes=dataset.shape[1] #nombre de colonnes\n",
    "    print(\"nombre de lignes: \",nb_lignes)\n",
    "    print(\"nombre de colonnes: \",nb_colonnes)\n",
    "    attributs=dataset.columns #les attributs du Dataset\n",
    "    print(\"attributs: \",attributs)\n",
    "    type_attributs=dataset.dtypes #type de chaque attribut\n",
    "    print(type_attributs)\n",
    "\n",
    "    for attribut in attributs:\n",
    "        val_uniques = len(dataset[attribut].unique()) #le nombre des valeurs uniques de chaque attribut\n",
    "        print(\"valeurs uniques de: \",attribut,val_uniques)\n",
    "    "
   ]
  },
  {
   "cell_type": "code",
   "execution_count": 10,
   "metadata": {},
   "outputs": [
    {
     "name": "stdout",
     "output_type": "stream",
     "text": [
      "nombre de lignes:  295\n",
      "nombre de colonnes:  6\n",
      "attributs:  Index(['Temperature', 'Humidity', 'Rainfall', 'Soil', 'Crop', 'Fertilizer'], dtype='object')\n",
      "Temperature    float64\n",
      "Humidity       float64\n",
      "Rainfall       float64\n",
      "Soil            object\n",
      "Crop            object\n",
      "Fertilizer      object\n",
      "dtype: object\n",
      "valeurs uniques de:  Temperature 173\n",
      "valeurs uniques de:  Humidity 187\n",
      "valeurs uniques de:  Rainfall 195\n",
      "valeurs uniques de:  Soil 7\n",
      "valeurs uniques de:  Crop 2\n",
      "valeurs uniques de:  Fertilizer 4\n"
     ]
    }
   ],
   "source": [
    "description(dataset3)"
   ]
  },
  {
   "cell_type": "markdown",
   "metadata": {},
   "source": [
    "Prétraitement du Dataset"
   ]
  },
  {
   "cell_type": "markdown",
   "metadata": {},
   "source": [
    "Elimination des redondances"
   ]
  },
  {
   "cell_type": "code",
   "execution_count": 11,
   "metadata": {},
   "outputs": [
    {
     "data": {
      "text/html": [
       "<div>\n",
       "<style scoped>\n",
       "    .dataframe tbody tr th:only-of-type {\n",
       "        vertical-align: middle;\n",
       "    }\n",
       "\n",
       "    .dataframe tbody tr th {\n",
       "        vertical-align: top;\n",
       "    }\n",
       "\n",
       "    .dataframe thead th {\n",
       "        text-align: right;\n",
       "    }\n",
       "</style>\n",
       "<table border=\"1\" class=\"dataframe\">\n",
       "  <thead>\n",
       "    <tr style=\"text-align: right;\">\n",
       "      <th></th>\n",
       "      <th>Temperature</th>\n",
       "      <th>Humidity</th>\n",
       "      <th>Rainfall</th>\n",
       "      <th>Soil</th>\n",
       "      <th>Crop</th>\n",
       "      <th>Fertilizer</th>\n",
       "    </tr>\n",
       "  </thead>\n",
       "  <tbody>\n",
       "    <tr>\n",
       "      <th>0</th>\n",
       "      <td>24.87</td>\n",
       "      <td>82.84</td>\n",
       "      <td>295.61</td>\n",
       "      <td>Clayey</td>\n",
       "      <td>rice</td>\n",
       "      <td>DAP</td>\n",
       "    </tr>\n",
       "    <tr>\n",
       "      <th>1</th>\n",
       "      <td>28.69</td>\n",
       "      <td>96.65</td>\n",
       "      <td>178.96</td>\n",
       "      <td>laterite</td>\n",
       "      <td>Coconut</td>\n",
       "      <td>Good NPK</td>\n",
       "    </tr>\n",
       "    <tr>\n",
       "      <th>2</th>\n",
       "      <td>20.27</td>\n",
       "      <td>81.64</td>\n",
       "      <td>270.44</td>\n",
       "      <td>silty clay</td>\n",
       "      <td>rice</td>\n",
       "      <td>MOP</td>\n",
       "    </tr>\n",
       "    <tr>\n",
       "      <th>3</th>\n",
       "      <td>25.07</td>\n",
       "      <td>95.02</td>\n",
       "      <td>192.90</td>\n",
       "      <td>sandy</td>\n",
       "      <td>Coconut</td>\n",
       "      <td>Urea</td>\n",
       "    </tr>\n",
       "    <tr>\n",
       "      <th>4</th>\n",
       "      <td>25.04</td>\n",
       "      <td>95.90</td>\n",
       "      <td>174.80</td>\n",
       "      <td>coastal</td>\n",
       "      <td>Coconut</td>\n",
       "      <td>Urea</td>\n",
       "    </tr>\n",
       "    <tr>\n",
       "      <th>...</th>\n",
       "      <td>...</td>\n",
       "      <td>...</td>\n",
       "      <td>...</td>\n",
       "      <td>...</td>\n",
       "      <td>...</td>\n",
       "      <td>...</td>\n",
       "    </tr>\n",
       "    <tr>\n",
       "      <th>290</th>\n",
       "      <td>26.07</td>\n",
       "      <td>96.70</td>\n",
       "      <td>143.53</td>\n",
       "      <td>sandy</td>\n",
       "      <td>Coconut</td>\n",
       "      <td>MOP</td>\n",
       "    </tr>\n",
       "    <tr>\n",
       "      <th>291</th>\n",
       "      <td>25.63</td>\n",
       "      <td>83.53</td>\n",
       "      <td>209.90</td>\n",
       "      <td>silty clay</td>\n",
       "      <td>rice</td>\n",
       "      <td>MOP</td>\n",
       "    </tr>\n",
       "    <tr>\n",
       "      <th>292</th>\n",
       "      <td>24.52</td>\n",
       "      <td>83.54</td>\n",
       "      <td>230.45</td>\n",
       "      <td>Clayey</td>\n",
       "      <td>rice</td>\n",
       "      <td>MOP</td>\n",
       "    </tr>\n",
       "    <tr>\n",
       "      <th>293</th>\n",
       "      <td>25.66</td>\n",
       "      <td>83.47</td>\n",
       "      <td>217.38</td>\n",
       "      <td>Clayey</td>\n",
       "      <td>rice</td>\n",
       "      <td>MOP</td>\n",
       "    </tr>\n",
       "    <tr>\n",
       "      <th>294</th>\n",
       "      <td>23.83</td>\n",
       "      <td>84.81</td>\n",
       "      <td>298.56</td>\n",
       "      <td>silty clay</td>\n",
       "      <td>rice</td>\n",
       "      <td>MOP</td>\n",
       "    </tr>\n",
       "  </tbody>\n",
       "</table>\n",
       "<p>295 rows × 6 columns</p>\n",
       "</div>"
      ],
      "text/plain": [
       "     Temperature  Humidity  Rainfall        Soil     Crop Fertilizer\n",
       "0          24.87     82.84    295.61      Clayey     rice        DAP\n",
       "1          28.69     96.65    178.96    laterite  Coconut   Good NPK\n",
       "2          20.27     81.64    270.44  silty clay     rice        MOP\n",
       "3          25.07     95.02    192.90       sandy  Coconut       Urea\n",
       "4          25.04     95.90    174.80     coastal  Coconut       Urea\n",
       "..           ...       ...       ...         ...      ...        ...\n",
       "290        26.07     96.70    143.53       sandy  Coconut        MOP\n",
       "291        25.63     83.53    209.90  silty clay     rice        MOP\n",
       "292        24.52     83.54    230.45      Clayey     rice        MOP\n",
       "293        25.66     83.47    217.38      Clayey     rice        MOP\n",
       "294        23.83     84.81    298.56  silty clay     rice        MOP\n",
       "\n",
       "[295 rows x 6 columns]"
      ]
     },
     "execution_count": 11,
     "metadata": {},
     "output_type": "execute_result"
    }
   ],
   "source": [
    "dataset3.drop_duplicates()"
   ]
  },
  {
   "cell_type": "markdown",
   "metadata": {},
   "source": [
    "Discretization d'un attribut"
   ]
  },
  {
   "cell_type": "code",
   "execution_count": 17,
   "metadata": {},
   "outputs": [],
   "source": [
    "import math\n",
    "\n",
    "def discretisation_width(dataset,colonne,k=None):\n",
    "    n = dataset.shape[0]\n",
    "    if k==None:\n",
    "        k = round(1 + (10 / 3) * math.log10(n))  \n",
    "\n",
    "    val_column=dataset[colonne]\n",
    "    largeur = (float(max(val_column)) - float(min(val_column))) / k  \n",
    "    \n",
    "    intervales = []\n",
    "    for i in range(k):\n",
    "        valI_min = round((min(val_column) + largeur * i), 4)\n",
    "        valI_max = round((min(val_column) + largeur * (i + 1)), 4)\n",
    "        limites = (valI_min, valI_max)\n",
    "        intervales.append((i, limites))\n",
    "    \n",
    "    for index,valeur in enumerate(val_column):\n",
    "        for i, limites in intervales:\n",
    "            valMin, valMax = limites\n",
    "            if valeur==max(val_column):\n",
    "                dataset.at[index, colonne] = k-1\n",
    "            if valMin <= valeur < valMax:\n",
    "                dataset.at[index, colonne] = i\n",
    "                break\n",
    "    \n",
    "    dataset3[colonne] = dataset3[colonne].astype('category')\n",
    "    return intervales\n"
   ]
  },
  {
   "cell_type": "code",
<<<<<<< HEAD
   "execution_count": 18,
=======
   "execution_count": 82,
>>>>>>> 6e5a886cd5e0521e04db639c4c4889daded48c2a
   "metadata": {},
   "outputs": [],
   "source": [
    "def discretisation_frequency(dataset,colonne,Q):\n",
    "    n = dataset.shape[0]\n",
    "    quantile=n/Q \n",
    "\n",
    "    val_column=dataset[colonne]\n",
    "    sorted_column=sorted(val_column)\n",
    "    \n",
    "    intervales = []\n",
    "    for i in range(Q):\n",
    "        valI_min=sorted_column[int((n*i)/Q)]\n",
    "        if int((n*(i+1))/Q)>=len(sorted_column):\n",
    "            valI_max=sorted_column[len(sorted_column)-1]+1\n",
    "        else:\n",
    "            valI_max=sorted_column[int((n*(i+1))/Q)]\n",
    "        limites = (valI_min, valI_max)\n",
    "        intervales.append((i, limites))\n",
    "    \n",
    "    for index,valeur in enumerate(val_column):\n",
    "        for i, limites in intervales:\n",
    "            valMin, valMax = limites\n",
    "            if valMin <= valeur < valMax:\n",
    "                dataset.at[index, colonne] = i\n",
    "                break\n",
    "    \n",
    "    dataset3[colonne] = dataset3[colonne].astype('category')\n",
    "    return intervales  "
   ]
  },
  {
   "cell_type": "code",
<<<<<<< HEAD
   "execution_count": 19,
=======
   "execution_count": 83,
>>>>>>> 6e5a886cd5e0521e04db639c4c4889daded48c2a
   "metadata": {},
   "outputs": [],
   "source": [
    "data=dataset3.copy() #pour faire les deux types de discretisation et comparer"
   ]
  },
  {
   "cell_type": "code",
<<<<<<< HEAD
   "execution_count": 20,
=======
   "execution_count": 84,
>>>>>>> 6e5a886cd5e0521e04db639c4c4889daded48c2a
   "metadata": {},
   "outputs": [],
   "source": [
    "Temp_before=[item for item in dataset3['Temperature']] #Colonne temperature avant discretisation\n"
   ]
  },
  {
   "cell_type": "code",
<<<<<<< HEAD
   "execution_count": 21,
=======
   "execution_count": 85,
>>>>>>> 6e5a886cd5e0521e04db639c4c4889daded48c2a
   "metadata": {},
   "outputs": [],
   "source": [
    "intervales_width=discretisation_width(dataset3,'Temperature',3) #en utilsant le dataset3"
   ]
  },
  {
   "cell_type": "code",
   "execution_count": 22,
   "metadata": {},
   "outputs": [],
   "source": [
    "intervales_freq=discretisation_frequency(data,'Temperature',3) #en utilsant la copie du dataset3"
   ]
  },
  {
   "cell_type": "code",
   "execution_count": 23,
   "metadata": {},
   "outputs": [],
   "source": [
    "Temp_after_width=data['Temperature'] #Colonne temperature apres discretisation avec width"
   ]
  },
  {
   "cell_type": "code",
   "execution_count": 24,
   "metadata": {},
   "outputs": [],
   "source": [
    "Temp_after_freq=dataset3['Temperature'] #Colonne temperature apres discretisation avec frequency"
   ]
  },
  {
   "cell_type": "code",
<<<<<<< HEAD
   "execution_count": 25,
=======
   "execution_count": 89,
>>>>>>> 6e5a886cd5e0521e04db639c4c4889daded48c2a
   "metadata": {},
   "outputs": [
    {
     "name": "stdout",
     "output_type": "stream",
     "text": [
      "[(0, (20.05, 23.3233)), (1, (23.3233, 26.5967)), (2, (26.5967, 29.87))]\n",
      "    Temperature  Humidity  Rainfall        Soil     Crop Fertilizer\n",
      "0           1.0     82.84    295.61      Clayey     rice        DAP\n",
      "1           2.0     96.65    178.96    laterite  Coconut   Good NPK\n",
      "2           0.0     81.64    270.44  silty clay     rice        MOP\n",
      "3           1.0     95.02    192.90       sandy  Coconut       Urea\n",
      "4           1.0     95.90    174.80     coastal  Coconut       Urea\n",
      "..          ...       ...       ...         ...      ...        ...\n",
      "290         1.0     96.70    143.53       sandy  Coconut        MOP\n",
      "291         1.0     83.53    209.90  silty clay     rice        MOP\n",
      "292         1.0     83.54    230.45      Clayey     rice        MOP\n",
      "293         1.0     83.47    217.38      Clayey     rice        MOP\n",
      "294         1.0     84.81    298.56  silty clay     rice        MOP\n",
      "\n",
      "[295 rows x 6 columns]\n"
     ]
    }
   ],
   "source": [
    "print(intervales_width)\n",
    "print(dataset3)"
   ]
  },
  {
   "cell_type": "code",
   "execution_count": 26,
   "metadata": {},
   "outputs": [
    {
     "data": {
<<<<<<< HEAD
      "image/png": "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",
=======
      "image/png": "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",
>>>>>>> 6e5a886cd5e0521e04db639c4c4889daded48c2a
      "text/plain": [
       "<Figure size 1000x600 with 1 Axes>"
      ]
     },
     "metadata": {},
     "output_type": "display_data"
    }
   ],
   "source": [
    "import matplotlib.pyplot as plt\n",
    "plt.figure(figsize=(10, 6))\n",
    "plt.scatter(Temp_before, np.arange(len(Temp_before)), alpha=0.7, label='Continuous Data')\n",
    "plt.scatter(Temp_after_width, np.arange(len(Temp_after_width)), alpha=0.7, label='Width Discretized Data')\n",
    "plt.legend()\n",
    "plt.xlabel('Value')\n",
    "plt.ylabel('Index')\n",
    "plt.title('Scatter Plot of Continuous and Discretized Data(Width)')\n",
    "plt.show()"
   ]
  },
  {
   "cell_type": "code",
   "execution_count": 27,
   "metadata": {},
   "outputs": [
    {
     "data": {
      "image/png": "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",
      "text/plain": [
       "<Figure size 1000x600 with 1 Axes>"
      ]
     },
     "metadata": {},
     "output_type": "display_data"
    }
   ],
   "source": [
    "import matplotlib.pyplot as plt\n",
    "plt.figure(figsize=(10, 6))\n",
    "plt.scatter(Temp_before, np.arange(len(Temp_before)), alpha=0.7, label='Continuous Data')\n",
    "plt.scatter(Temp_after_freq, np.arange(len(Temp_after_freq)), alpha=0.7, label='Frequency Discretized Data')\n",
    "plt.legend()\n",
    "plt.xlabel('Value')\n",
    "plt.ylabel('Index')\n",
    "plt.title('Scatter Plot of Continuous and Discretized Data(Frequency)')\n",
    "plt.show()"
   ]
  },
  {
   "cell_type": "code",
   "execution_count": 28,
   "metadata": {},
   "outputs": [],
   "source": [
    "#discretization des autres attributs(pour faciliter l extraction des motifs frequents)\n",
    "intervales=discretisation_width(dataset3,'Humidity',4)"
   ]
  },
  {
   "cell_type": "code",
<<<<<<< HEAD
   "execution_count": 29,
=======
   "execution_count": 95,
>>>>>>> 6e5a886cd5e0521e04db639c4c4889daded48c2a
   "metadata": {},
   "outputs": [
    {
     "name": "stdout",
     "output_type": "stream",
     "text": [
      "[(0, (80.12, 85.085)), (1, (85.085, 90.05)), (2, (90.05, 95.015)), (3, (95.015, 99.98))]\n"
     ]
    },
    {
     "data": {
      "text/html": [
       "<div>\n",
       "<style scoped>\n",
       "    .dataframe tbody tr th:only-of-type {\n",
       "        vertical-align: middle;\n",
       "    }\n",
       "\n",
       "    .dataframe tbody tr th {\n",
       "        vertical-align: top;\n",
       "    }\n",
       "\n",
       "    .dataframe thead th {\n",
       "        text-align: right;\n",
       "    }\n",
       "</style>\n",
       "<table border=\"1\" class=\"dataframe\">\n",
       "  <thead>\n",
       "    <tr style=\"text-align: right;\">\n",
       "      <th></th>\n",
       "      <th>Temperature</th>\n",
       "      <th>Humidity</th>\n",
       "      <th>Rainfall</th>\n",
       "      <th>Soil</th>\n",
       "      <th>Crop</th>\n",
       "      <th>Fertilizer</th>\n",
       "    </tr>\n",
       "  </thead>\n",
       "  <tbody>\n",
       "    <tr>\n",
       "      <th>0</th>\n",
       "      <td>1.0</td>\n",
       "      <td>0.0</td>\n",
       "      <td>295.61</td>\n",
       "      <td>Clayey</td>\n",
       "      <td>rice</td>\n",
       "      <td>DAP</td>\n",
       "    </tr>\n",
       "    <tr>\n",
       "      <th>1</th>\n",
       "      <td>2.0</td>\n",
       "      <td>3.0</td>\n",
       "      <td>178.96</td>\n",
       "      <td>laterite</td>\n",
       "      <td>Coconut</td>\n",
       "      <td>Good NPK</td>\n",
       "    </tr>\n",
       "    <tr>\n",
       "      <th>2</th>\n",
       "      <td>0.0</td>\n",
       "      <td>0.0</td>\n",
       "      <td>270.44</td>\n",
       "      <td>silty clay</td>\n",
       "      <td>rice</td>\n",
       "      <td>MOP</td>\n",
       "    </tr>\n",
       "    <tr>\n",
       "      <th>3</th>\n",
       "      <td>1.0</td>\n",
       "      <td>3.0</td>\n",
       "      <td>192.90</td>\n",
       "      <td>sandy</td>\n",
       "      <td>Coconut</td>\n",
       "      <td>Urea</td>\n",
       "    </tr>\n",
       "    <tr>\n",
       "      <th>4</th>\n",
       "      <td>1.0</td>\n",
       "      <td>3.0</td>\n",
       "      <td>174.80</td>\n",
       "      <td>coastal</td>\n",
       "      <td>Coconut</td>\n",
       "      <td>Urea</td>\n",
       "    </tr>\n",
       "    <tr>\n",
       "      <th>...</th>\n",
       "      <td>...</td>\n",
       "      <td>...</td>\n",
       "      <td>...</td>\n",
       "      <td>...</td>\n",
       "      <td>...</td>\n",
       "      <td>...</td>\n",
       "    </tr>\n",
       "    <tr>\n",
       "      <th>290</th>\n",
       "      <td>1.0</td>\n",
       "      <td>3.0</td>\n",
       "      <td>143.53</td>\n",
       "      <td>sandy</td>\n",
       "      <td>Coconut</td>\n",
       "      <td>MOP</td>\n",
       "    </tr>\n",
       "    <tr>\n",
       "      <th>291</th>\n",
       "      <td>1.0</td>\n",
       "      <td>0.0</td>\n",
       "      <td>209.90</td>\n",
       "      <td>silty clay</td>\n",
       "      <td>rice</td>\n",
       "      <td>MOP</td>\n",
       "    </tr>\n",
       "    <tr>\n",
       "      <th>292</th>\n",
       "      <td>1.0</td>\n",
       "      <td>0.0</td>\n",
       "      <td>230.45</td>\n",
       "      <td>Clayey</td>\n",
       "      <td>rice</td>\n",
       "      <td>MOP</td>\n",
       "    </tr>\n",
       "    <tr>\n",
       "      <th>293</th>\n",
       "      <td>1.0</td>\n",
       "      <td>0.0</td>\n",
       "      <td>217.38</td>\n",
       "      <td>Clayey</td>\n",
       "      <td>rice</td>\n",
       "      <td>MOP</td>\n",
       "    </tr>\n",
       "    <tr>\n",
       "      <th>294</th>\n",
       "      <td>1.0</td>\n",
       "      <td>0.0</td>\n",
       "      <td>298.56</td>\n",
       "      <td>silty clay</td>\n",
       "      <td>rice</td>\n",
       "      <td>MOP</td>\n",
       "    </tr>\n",
       "  </tbody>\n",
       "</table>\n",
       "<p>295 rows × 6 columns</p>\n",
       "</div>"
      ],
      "text/plain": [
       "    Temperature Humidity  Rainfall        Soil     Crop Fertilizer\n",
       "0           1.0      0.0    295.61      Clayey     rice        DAP\n",
       "1           2.0      3.0    178.96    laterite  Coconut   Good NPK\n",
       "2           0.0      0.0    270.44  silty clay     rice        MOP\n",
       "3           1.0      3.0    192.90       sandy  Coconut       Urea\n",
       "4           1.0      3.0    174.80     coastal  Coconut       Urea\n",
       "..          ...      ...       ...         ...      ...        ...\n",
       "290         1.0      3.0    143.53       sandy  Coconut        MOP\n",
       "291         1.0      0.0    209.90  silty clay     rice        MOP\n",
       "292         1.0      0.0    230.45      Clayey     rice        MOP\n",
       "293         1.0      0.0    217.38      Clayey     rice        MOP\n",
       "294         1.0      0.0    298.56  silty clay     rice        MOP\n",
       "\n",
       "[295 rows x 6 columns]"
      ]
     },
     "execution_count": 29,
     "metadata": {},
     "output_type": "execute_result"
    }
   ],
   "source": [
    "print(intervales)\n",
    "dataset3"
   ]
  },
  {
   "cell_type": "code",
   "execution_count": 30,
   "metadata": {},
   "outputs": [],
   "source": [
    "Intervales=discretisation_width(dataset3,'Rainfall',4)"
   ]
  },
  {
   "cell_type": "code",
   "execution_count": 31,
   "metadata": {},
   "outputs": [
    {
     "name": "stdout",
     "output_type": "stream",
     "text": [
      "[(0, (131.09, 172.9575)), (1, (172.9575, 214.825)), (2, (214.825, 256.6925)), (3, (256.6925, 298.56))]\n"
     ]
    },
    {
     "data": {
      "text/html": [
       "<div>\n",
       "<style scoped>\n",
       "    .dataframe tbody tr th:only-of-type {\n",
       "        vertical-align: middle;\n",
       "    }\n",
       "\n",
       "    .dataframe tbody tr th {\n",
       "        vertical-align: top;\n",
       "    }\n",
       "\n",
       "    .dataframe thead th {\n",
       "        text-align: right;\n",
       "    }\n",
       "</style>\n",
       "<table border=\"1\" class=\"dataframe\">\n",
       "  <thead>\n",
       "    <tr style=\"text-align: right;\">\n",
       "      <th></th>\n",
       "      <th>Temperature</th>\n",
       "      <th>Humidity</th>\n",
       "      <th>Rainfall</th>\n",
       "      <th>Soil</th>\n",
       "      <th>Crop</th>\n",
       "      <th>Fertilizer</th>\n",
       "    </tr>\n",
       "  </thead>\n",
       "  <tbody>\n",
       "    <tr>\n",
       "      <th>0</th>\n",
       "      <td>1.0</td>\n",
       "      <td>0.0</td>\n",
       "      <td>3.0</td>\n",
       "      <td>Clayey</td>\n",
       "      <td>rice</td>\n",
       "      <td>DAP</td>\n",
       "    </tr>\n",
       "    <tr>\n",
       "      <th>1</th>\n",
       "      <td>2.0</td>\n",
       "      <td>3.0</td>\n",
       "      <td>1.0</td>\n",
       "      <td>laterite</td>\n",
       "      <td>Coconut</td>\n",
       "      <td>Good NPK</td>\n",
       "    </tr>\n",
       "    <tr>\n",
       "      <th>2</th>\n",
       "      <td>0.0</td>\n",
       "      <td>0.0</td>\n",
       "      <td>3.0</td>\n",
       "      <td>silty clay</td>\n",
       "      <td>rice</td>\n",
       "      <td>MOP</td>\n",
       "    </tr>\n",
       "    <tr>\n",
       "      <th>3</th>\n",
       "      <td>1.0</td>\n",
       "      <td>3.0</td>\n",
       "      <td>1.0</td>\n",
       "      <td>sandy</td>\n",
       "      <td>Coconut</td>\n",
       "      <td>Urea</td>\n",
       "    </tr>\n",
       "    <tr>\n",
       "      <th>4</th>\n",
       "      <td>1.0</td>\n",
       "      <td>3.0</td>\n",
       "      <td>1.0</td>\n",
       "      <td>coastal</td>\n",
       "      <td>Coconut</td>\n",
       "      <td>Urea</td>\n",
       "    </tr>\n",
       "    <tr>\n",
       "      <th>...</th>\n",
       "      <td>...</td>\n",
       "      <td>...</td>\n",
       "      <td>...</td>\n",
       "      <td>...</td>\n",
       "      <td>...</td>\n",
       "      <td>...</td>\n",
       "    </tr>\n",
       "    <tr>\n",
       "      <th>290</th>\n",
       "      <td>1.0</td>\n",
       "      <td>3.0</td>\n",
       "      <td>0.0</td>\n",
       "      <td>sandy</td>\n",
       "      <td>Coconut</td>\n",
       "      <td>MOP</td>\n",
       "    </tr>\n",
       "    <tr>\n",
       "      <th>291</th>\n",
       "      <td>1.0</td>\n",
       "      <td>0.0</td>\n",
       "      <td>1.0</td>\n",
       "      <td>silty clay</td>\n",
       "      <td>rice</td>\n",
       "      <td>MOP</td>\n",
       "    </tr>\n",
       "    <tr>\n",
       "      <th>292</th>\n",
       "      <td>1.0</td>\n",
       "      <td>0.0</td>\n",
       "      <td>2.0</td>\n",
       "      <td>Clayey</td>\n",
       "      <td>rice</td>\n",
       "      <td>MOP</td>\n",
       "    </tr>\n",
       "    <tr>\n",
       "      <th>293</th>\n",
       "      <td>1.0</td>\n",
       "      <td>0.0</td>\n",
       "      <td>2.0</td>\n",
       "      <td>Clayey</td>\n",
       "      <td>rice</td>\n",
       "      <td>MOP</td>\n",
       "    </tr>\n",
       "    <tr>\n",
       "      <th>294</th>\n",
       "      <td>1.0</td>\n",
       "      <td>0.0</td>\n",
       "      <td>3.0</td>\n",
       "      <td>silty clay</td>\n",
       "      <td>rice</td>\n",
       "      <td>MOP</td>\n",
       "    </tr>\n",
       "  </tbody>\n",
       "</table>\n",
       "<p>295 rows × 6 columns</p>\n",
       "</div>"
      ],
      "text/plain": [
       "    Temperature Humidity Rainfall        Soil     Crop Fertilizer\n",
       "0           1.0      0.0      3.0      Clayey     rice        DAP\n",
       "1           2.0      3.0      1.0    laterite  Coconut   Good NPK\n",
       "2           0.0      0.0      3.0  silty clay     rice        MOP\n",
       "3           1.0      3.0      1.0       sandy  Coconut       Urea\n",
       "4           1.0      3.0      1.0     coastal  Coconut       Urea\n",
       "..          ...      ...      ...         ...      ...        ...\n",
       "290         1.0      3.0      0.0       sandy  Coconut        MOP\n",
       "291         1.0      0.0      1.0  silty clay     rice        MOP\n",
       "292         1.0      0.0      2.0      Clayey     rice        MOP\n",
       "293         1.0      0.0      2.0      Clayey     rice        MOP\n",
       "294         1.0      0.0      3.0  silty clay     rice        MOP\n",
       "\n",
       "[295 rows x 6 columns]"
      ]
     },
     "execution_count": 31,
     "metadata": {},
     "output_type": "execute_result"
    }
   ],
   "source": [
    "print(Intervales)\n",
    "dataset3"
   ]
  },
  {
   "cell_type": "markdown",
   "metadata": {},
   "source": [
    "Frequent Patterns"
   ]
  },
  {
   "cell_type": "markdown",
   "metadata": {},
   "source": [
    "Definition des transactions et des items"
   ]
  },
  {
   "cell_type": "code",
   "execution_count": 32,
   "metadata": {},
   "outputs": [
    {
     "data": {
      "text/html": [
       "<div>\n",
       "<style scoped>\n",
       "    .dataframe tbody tr th:only-of-type {\n",
       "        vertical-align: middle;\n",
       "    }\n",
       "\n",
       "    .dataframe tbody tr th {\n",
       "        vertical-align: top;\n",
       "    }\n",
       "\n",
       "    .dataframe thead th {\n",
       "        text-align: right;\n",
       "    }\n",
       "</style>\n",
       "<table border=\"1\" class=\"dataframe\">\n",
       "  <thead>\n",
       "    <tr style=\"text-align: right;\">\n",
       "      <th></th>\n",
       "      <th>Temperature</th>\n",
       "      <th>Humidity</th>\n",
       "      <th>Rainfall</th>\n",
       "      <th>Soil</th>\n",
       "      <th>Crop</th>\n",
       "      <th>Fertilizer</th>\n",
       "      <th>ItemsColumn</th>\n",
       "    </tr>\n",
       "  </thead>\n",
       "  <tbody>\n",
       "    <tr>\n",
       "      <th>0</th>\n",
       "      <td>1.0</td>\n",
       "      <td>0.0</td>\n",
       "      <td>3.0</td>\n",
       "      <td>Clayey</td>\n",
       "      <td>rice</td>\n",
       "      <td>DAP</td>\n",
       "      <td>(1.0, 0.0, 3.0, rice, DAP)</td>\n",
       "    </tr>\n",
       "    <tr>\n",
       "      <th>1</th>\n",
       "      <td>2.0</td>\n",
       "      <td>3.0</td>\n",
       "      <td>1.0</td>\n",
       "      <td>laterite</td>\n",
       "      <td>Coconut</td>\n",
       "      <td>Good NPK</td>\n",
       "      <td>(2.0, 3.0, 1.0, Coconut, Good NPK)</td>\n",
       "    </tr>\n",
       "    <tr>\n",
       "      <th>2</th>\n",
       "      <td>0.0</td>\n",
       "      <td>0.0</td>\n",
       "      <td>3.0</td>\n",
       "      <td>silty clay</td>\n",
       "      <td>rice</td>\n",
       "      <td>MOP</td>\n",
       "      <td>(0.0, 0.0, 3.0, rice, MOP)</td>\n",
       "    </tr>\n",
       "    <tr>\n",
       "      <th>3</th>\n",
       "      <td>1.0</td>\n",
       "      <td>3.0</td>\n",
       "      <td>1.0</td>\n",
       "      <td>sandy</td>\n",
       "      <td>Coconut</td>\n",
       "      <td>Urea</td>\n",
       "      <td>(1.0, 3.0, 1.0, Coconut, Urea)</td>\n",
       "    </tr>\n",
       "    <tr>\n",
       "      <th>4</th>\n",
       "      <td>1.0</td>\n",
       "      <td>3.0</td>\n",
       "      <td>1.0</td>\n",
       "      <td>coastal</td>\n",
       "      <td>Coconut</td>\n",
       "      <td>Urea</td>\n",
       "      <td>(1.0, 3.0, 1.0, Coconut, Urea)</td>\n",
       "    </tr>\n",
       "    <tr>\n",
       "      <th>...</th>\n",
       "      <td>...</td>\n",
       "      <td>...</td>\n",
       "      <td>...</td>\n",
       "      <td>...</td>\n",
       "      <td>...</td>\n",
       "      <td>...</td>\n",
       "      <td>...</td>\n",
       "    </tr>\n",
       "    <tr>\n",
       "      <th>290</th>\n",
       "      <td>1.0</td>\n",
       "      <td>3.0</td>\n",
       "      <td>0.0</td>\n",
       "      <td>sandy</td>\n",
       "      <td>Coconut</td>\n",
       "      <td>MOP</td>\n",
       "      <td>(1.0, 3.0, 0.0, Coconut, MOP)</td>\n",
       "    </tr>\n",
       "    <tr>\n",
       "      <th>291</th>\n",
       "      <td>1.0</td>\n",
       "      <td>0.0</td>\n",
       "      <td>1.0</td>\n",
       "      <td>silty clay</td>\n",
       "      <td>rice</td>\n",
       "      <td>MOP</td>\n",
       "      <td>(1.0, 0.0, 1.0, rice, MOP)</td>\n",
       "    </tr>\n",
       "    <tr>\n",
       "      <th>292</th>\n",
       "      <td>1.0</td>\n",
       "      <td>0.0</td>\n",
       "      <td>2.0</td>\n",
       "      <td>Clayey</td>\n",
       "      <td>rice</td>\n",
       "      <td>MOP</td>\n",
       "      <td>(1.0, 0.0, 2.0, rice, MOP)</td>\n",
       "    </tr>\n",
       "    <tr>\n",
       "      <th>293</th>\n",
       "      <td>1.0</td>\n",
       "      <td>0.0</td>\n",
       "      <td>2.0</td>\n",
       "      <td>Clayey</td>\n",
       "      <td>rice</td>\n",
       "      <td>MOP</td>\n",
       "      <td>(1.0, 0.0, 2.0, rice, MOP)</td>\n",
       "    </tr>\n",
       "    <tr>\n",
       "      <th>294</th>\n",
       "      <td>1.0</td>\n",
       "      <td>0.0</td>\n",
       "      <td>3.0</td>\n",
       "      <td>silty clay</td>\n",
       "      <td>rice</td>\n",
       "      <td>MOP</td>\n",
       "      <td>(1.0, 0.0, 3.0, rice, MOP)</td>\n",
       "    </tr>\n",
       "  </tbody>\n",
       "</table>\n",
       "<p>295 rows × 7 columns</p>\n",
       "</div>"
      ],
      "text/plain": [
       "    Temperature Humidity Rainfall        Soil     Crop Fertilizer  \\\n",
       "0           1.0      0.0      3.0      Clayey     rice        DAP   \n",
       "1           2.0      3.0      1.0    laterite  Coconut   Good NPK   \n",
       "2           0.0      0.0      3.0  silty clay     rice        MOP   \n",
       "3           1.0      3.0      1.0       sandy  Coconut       Urea   \n",
       "4           1.0      3.0      1.0     coastal  Coconut       Urea   \n",
       "..          ...      ...      ...         ...      ...        ...   \n",
       "290         1.0      3.0      0.0       sandy  Coconut        MOP   \n",
       "291         1.0      0.0      1.0  silty clay     rice        MOP   \n",
       "292         1.0      0.0      2.0      Clayey     rice        MOP   \n",
       "293         1.0      0.0      2.0      Clayey     rice        MOP   \n",
       "294         1.0      0.0      3.0  silty clay     rice        MOP   \n",
       "\n",
       "                            ItemsColumn  \n",
       "0            (1.0, 0.0, 3.0, rice, DAP)  \n",
       "1    (2.0, 3.0, 1.0, Coconut, Good NPK)  \n",
       "2            (0.0, 0.0, 3.0, rice, MOP)  \n",
       "3        (1.0, 3.0, 1.0, Coconut, Urea)  \n",
       "4        (1.0, 3.0, 1.0, Coconut, Urea)  \n",
       "..                                  ...  \n",
       "290       (1.0, 3.0, 0.0, Coconut, MOP)  \n",
       "291          (1.0, 0.0, 1.0, rice, MOP)  \n",
       "292          (1.0, 0.0, 2.0, rice, MOP)  \n",
       "293          (1.0, 0.0, 2.0, rice, MOP)  \n",
       "294          (1.0, 0.0, 3.0, rice, MOP)  \n",
       "\n",
       "[295 rows x 7 columns]"
      ]
     },
     "execution_count": 32,
     "metadata": {},
     "output_type": "execute_result"
    }
   ],
   "source": [
    "dataset3['ItemsColumn']=dataset3.apply(lambda row: (row['Temperature'],row['Humidity'],row['Rainfall'],row['Crop'],row['Fertilizer']), axis=1)\n",
    "dataset3"
   ]
  },
  {
   "cell_type": "code",
   "execution_count": 33,
   "metadata": {},
   "outputs": [
    {
     "data": {
      "text/html": [
       "<div>\n",
       "<style scoped>\n",
       "    .dataframe tbody tr th:only-of-type {\n",
       "        vertical-align: middle;\n",
       "    }\n",
       "\n",
       "    .dataframe tbody tr th {\n",
       "        vertical-align: top;\n",
       "    }\n",
       "\n",
       "    .dataframe thead th {\n",
       "        text-align: right;\n",
       "    }\n",
       "</style>\n",
       "<table border=\"1\" class=\"dataframe\">\n",
       "  <thead>\n",
       "    <tr style=\"text-align: right;\">\n",
       "      <th></th>\n",
       "      <th>Transaction</th>\n",
       "      <th>Items</th>\n",
       "    </tr>\n",
       "  </thead>\n",
       "  <tbody>\n",
       "    <tr>\n",
       "      <th>0</th>\n",
       "      <td>Clayey</td>\n",
       "      <td>[(1.0, 0.0, 3.0, rice, DAP), (1.0, 0.0, 2.0, r...</td>\n",
       "    </tr>\n",
       "    <tr>\n",
       "      <th>1</th>\n",
       "      <td>alluvial</td>\n",
       "      <td>[(1.0, 2.0, 0.0, Coconut, Urea), (2.0, 3.0, 2....</td>\n",
       "    </tr>\n",
       "    <tr>\n",
       "      <th>2</th>\n",
       "      <td>clay loam</td>\n",
       "      <td>[(0.0, 0.0, 2.0, rice, Urea), (1.0, 0.0, 2.0, ...</td>\n",
       "    </tr>\n",
       "    <tr>\n",
       "      <th>3</th>\n",
       "      <td>coastal</td>\n",
       "      <td>[(1.0, 3.0, 1.0, Coconut, Urea), (1.0, 3.0, 0....</td>\n",
       "    </tr>\n",
       "    <tr>\n",
       "      <th>4</th>\n",
       "      <td>laterite</td>\n",
       "      <td>[(2.0, 3.0, 1.0, Coconut, Good NPK), (1.0, 3.0...</td>\n",
       "    </tr>\n",
       "    <tr>\n",
       "      <th>5</th>\n",
       "      <td>sandy</td>\n",
       "      <td>[(1.0, 3.0, 1.0, Coconut, Urea), (2.0, 2.0, 0....</td>\n",
       "    </tr>\n",
       "    <tr>\n",
       "      <th>6</th>\n",
       "      <td>silty clay</td>\n",
       "      <td>[(0.0, 0.0, 3.0, rice, MOP), (0.0, 0.0, 2.0, r...</td>\n",
       "    </tr>\n",
       "  </tbody>\n",
       "</table>\n",
       "</div>"
      ],
      "text/plain": [
       "  Transaction                                              Items\n",
       "0      Clayey  [(1.0, 0.0, 3.0, rice, DAP), (1.0, 0.0, 2.0, r...\n",
       "1    alluvial  [(1.0, 2.0, 0.0, Coconut, Urea), (2.0, 3.0, 2....\n",
       "2   clay loam  [(0.0, 0.0, 2.0, rice, Urea), (1.0, 0.0, 2.0, ...\n",
       "3     coastal  [(1.0, 3.0, 1.0, Coconut, Urea), (1.0, 3.0, 0....\n",
       "4    laterite  [(2.0, 3.0, 1.0, Coconut, Good NPK), (1.0, 3.0...\n",
       "5       sandy  [(1.0, 3.0, 1.0, Coconut, Urea), (2.0, 2.0, 0....\n",
       "6  silty clay  [(0.0, 0.0, 3.0, rice, MOP), (0.0, 0.0, 2.0, r..."
      ]
     },
     "execution_count": 33,
     "metadata": {},
     "output_type": "execute_result"
    }
   ],
   "source": [
    "dataitems=pd.DataFrame(dataset3.groupby('Soil')['ItemsColumn'],columns=['Transaction','Items'])\n",
    "dataitems['Items']=dataitems['Items'].apply(list)\n",
    "dataitems.to_csv('./dataitems.csv')\n",
    "dataitems"
   ]
  },
  {
   "cell_type": "markdown",
   "metadata": {},
   "source": [
    "Generation des candidats"
   ]
  },
  {
   "cell_type": "code",
   "execution_count": 40,
   "metadata": {},
   "outputs": [],
   "source": [
    "from itertools import combinations\n",
    "\n",
    "def generate_CK(k,L):\n",
    "    if k==1:\n",
    "        CK = L\n",
    "        return CK\n",
    "    \n",
    "    items=[item for item, support in L]\n",
    "\n",
    "    if k==2:\n",
    "        CK = list(set(combinations(items, 2)))\n",
    "        return CK\n",
    "    \n",
    "    CK=[]\n",
    "    for i in range(len(items)-1):\n",
    "        for j in range(i+1,len(items)):\n",
    "            item=list(set(items[i]) | set(items[j]))\n",
    "            combins = list(set(combinations(item,k-1)))\n",
    "            c=True\n",
    "            if item not in CK:\n",
    "                for comb in combins:\n",
    "                    if comb not in items:\n",
    "                        c=False\n",
    "                        break\n",
    "                if c:\n",
    "                    CK.append(item)\n",
    "    return CK\n",
    "            \n",
    "    "
   ]
  },
  {
   "cell_type": "markdown",
   "metadata": {},
   "source": [
    "Calcul du support"
   ]
  },
  {
   "cell_type": "code",
   "execution_count": 41,
   "metadata": {},
   "outputs": [],
   "source": [
    "def calculate_support(dataitems,Ck, k):\n",
    "    supports = [0] * len(Ck)\n",
    "    \n",
    "    if k == 1:\n",
    "        for i, item in enumerate(Ck):\n",
    "            for index, row in dataitems.iterrows():\n",
    "                if item in row['Items']:\n",
    "                    supports[i] += 1\n",
    "    else:\n",
    "        for i, item in enumerate(Ck):\n",
    "            for index, row in dataitems.iterrows():\n",
    "                if all(i in row['Items'] for i in item):\n",
    "                    supports[i] += 1\n",
    "    \n",
    "    \n",
    "    # Create a dictionary where keys are itemsets and values are the support counts\n",
    "    support_dict = {tuple(itemset): support for itemset, support in zip(Ck, supports)}\n",
    "    \n",
    "    return support_dict\n",
    "\n"
   ]
  },
  {
   "cell_type": "markdown",
   "metadata": {},
   "source": [
    "Generation des Lk"
   ]
  },
  {
   "cell_type": "code",
   "execution_count": 42,
   "metadata": {},
   "outputs": [],
   "source": [
    "def generate_Lk(df,Ck,k, supp_min):\n",
    "    Lk = []\n",
    "    support = calculate_support(df,Ck,k)\n",
    "    for item, support in support.items():\n",
    "        if support >= supp_min:\n",
    "            Lk.append((item,support))\n",
    "    return Lk"
   ]
  },
  {
   "cell_type": "markdown",
   "metadata": {},
   "source": [
    "Algorithme"
   ]
  },
  {
   "cell_type": "code",
   "execution_count": 47,
   "metadata": {},
   "outputs": [],
   "source": [
    "def apriori(df,supp_min):\n",
    "    all_items=[item for items in df['Items'].values for item in items]\n",
    "    Lk=list(set(all_items))\n",
    "\n",
    "    k=1\n",
    "    #supp_min=3\n",
    "    Ck=[]\n",
    "    frequent_pattern=[]\n",
    "    \n",
    "    while(Lk):\n",
    "        Ck=generate_CK(k,Lk)\n",
    "        Lk=generate_Lk(df,Ck,k,supp_min)\n",
    "        frequent_pattern+=[item for item in Lk]\n",
    "        k+=1\n",
    "    return frequent_pattern\n"
   ]
  },
  {
   "cell_type": "code",
   "execution_count": 65,
   "metadata": {},
   "outputs": [],
   "source": [
    "def nb_plot_FP_per_Support(data, support):\n",
    "    nb_FP=[]\n",
    "    for i in range(2,support):\n",
    "        FP=apriori(data,i)\n",
    "        nb_FP.append((i,len(FP)))\n",
    "    support_levels = [x[0] for x in nb_FP]\n",
    "    num_patterns = [x[1] for x in nb_FP]\n",
    "    fig = px.line(x=support_levels, y=num_patterns, title=\"Number of Frequent Patterns for Different Support Levels\") \n",
    "    fig.update_layout(xaxis_title=\"Support Levels\", yaxis_title=\"Number of Frequent Patterns\", font=dict(size=14))\n",
    "    fig.show()"
   ]
  },
  {
   "cell_type": "code",
   "execution_count": 66,
   "metadata": {},
   "outputs": [
    {
     "data": {
      "application/vnd.plotly.v1+json": {
       "config": {
        "plotlyServerURL": "https://plot.ly"
       },
       "data": [
        {
         "hovertemplate": "x=%{x}<br>y=%{y}<extra></extra>",
         "legendgroup": "",
         "line": {
          "color": "#636efa",
          "dash": "solid"
         },
         "marker": {
          "symbol": "circle"
         },
         "mode": "lines",
         "name": "",
         "orientation": "v",
         "showlegend": false,
         "type": "scatter",
         "x": [
          2,
          3,
          4
         ],
         "xaxis": "x",
         "y": [
          1792,
          162,
          6
         ],
         "yaxis": "y"
        }
       ],
       "layout": {
        "font": {
         "size": 14
        },
        "legend": {
         "tracegroupgap": 0
        },
        "template": {
         "data": {
          "bar": [
           {
            "error_x": {
             "color": "#2a3f5f"
            },
            "error_y": {
             "color": "#2a3f5f"
            },
            "marker": {
             "line": {
              "color": "#E5ECF6",
              "width": 0.5
             },
             "pattern": {
              "fillmode": "overlay",
              "size": 10,
              "solidity": 0.2
             }
            },
            "type": "bar"
           }
          ],
          "barpolar": [
           {
            "marker": {
             "line": {
              "color": "#E5ECF6",
              "width": 0.5
             },
             "pattern": {
              "fillmode": "overlay",
              "size": 10,
              "solidity": 0.2
             }
            },
            "type": "barpolar"
           }
          ],
          "carpet": [
           {
            "aaxis": {
             "endlinecolor": "#2a3f5f",
             "gridcolor": "white",
             "linecolor": "white",
             "minorgridcolor": "white",
             "startlinecolor": "#2a3f5f"
            },
            "baxis": {
             "endlinecolor": "#2a3f5f",
             "gridcolor": "white",
             "linecolor": "white",
             "minorgridcolor": "white",
             "startlinecolor": "#2a3f5f"
            },
            "type": "carpet"
           }
          ],
          "choropleth": [
           {
            "colorbar": {
             "outlinewidth": 0,
             "ticks": ""
            },
            "type": "choropleth"
           }
          ],
          "contour": [
           {
            "colorbar": {
             "outlinewidth": 0,
             "ticks": ""
            },
            "colorscale": [
             [
              0,
              "#0d0887"
             ],
             [
              0.1111111111111111,
              "#46039f"
             ],
             [
              0.2222222222222222,
              "#7201a8"
             ],
             [
              0.3333333333333333,
              "#9c179e"
             ],
             [
              0.4444444444444444,
              "#bd3786"
             ],
             [
              0.5555555555555556,
              "#d8576b"
             ],
             [
              0.6666666666666666,
              "#ed7953"
             ],
             [
              0.7777777777777778,
              "#fb9f3a"
             ],
             [
              0.8888888888888888,
              "#fdca26"
             ],
             [
              1,
              "#f0f921"
             ]
            ],
            "type": "contour"
           }
          ],
          "contourcarpet": [
           {
            "colorbar": {
             "outlinewidth": 0,
             "ticks": ""
            },
            "type": "contourcarpet"
           }
          ],
          "heatmap": [
           {
            "colorbar": {
             "outlinewidth": 0,
             "ticks": ""
            },
            "colorscale": [
             [
              0,
              "#0d0887"
             ],
             [
              0.1111111111111111,
              "#46039f"
             ],
             [
              0.2222222222222222,
              "#7201a8"
             ],
             [
              0.3333333333333333,
              "#9c179e"
             ],
             [
              0.4444444444444444,
              "#bd3786"
             ],
             [
              0.5555555555555556,
              "#d8576b"
             ],
             [
              0.6666666666666666,
              "#ed7953"
             ],
             [
              0.7777777777777778,
              "#fb9f3a"
             ],
             [
              0.8888888888888888,
              "#fdca26"
             ],
             [
              1,
              "#f0f921"
             ]
            ],
            "type": "heatmap"
           }
          ],
          "heatmapgl": [
           {
            "colorbar": {
             "outlinewidth": 0,
             "ticks": ""
            },
            "colorscale": [
             [
              0,
              "#0d0887"
             ],
             [
              0.1111111111111111,
              "#46039f"
             ],
             [
              0.2222222222222222,
              "#7201a8"
             ],
             [
              0.3333333333333333,
              "#9c179e"
             ],
             [
              0.4444444444444444,
              "#bd3786"
             ],
             [
              0.5555555555555556,
              "#d8576b"
             ],
             [
              0.6666666666666666,
              "#ed7953"
             ],
             [
              0.7777777777777778,
              "#fb9f3a"
             ],
             [
              0.8888888888888888,
              "#fdca26"
             ],
             [
              1,
              "#f0f921"
             ]
            ],
            "type": "heatmapgl"
           }
          ],
          "histogram": [
           {
            "marker": {
             "pattern": {
              "fillmode": "overlay",
              "size": 10,
              "solidity": 0.2
             }
            },
            "type": "histogram"
           }
          ],
          "histogram2d": [
           {
            "colorbar": {
             "outlinewidth": 0,
             "ticks": ""
            },
            "colorscale": [
             [
              0,
              "#0d0887"
             ],
             [
              0.1111111111111111,
              "#46039f"
             ],
             [
              0.2222222222222222,
              "#7201a8"
             ],
             [
              0.3333333333333333,
              "#9c179e"
             ],
             [
              0.4444444444444444,
              "#bd3786"
             ],
             [
              0.5555555555555556,
              "#d8576b"
             ],
             [
              0.6666666666666666,
              "#ed7953"
             ],
             [
              0.7777777777777778,
              "#fb9f3a"
             ],
             [
              0.8888888888888888,
              "#fdca26"
             ],
             [
              1,
              "#f0f921"
             ]
            ],
            "type": "histogram2d"
           }
          ],
          "histogram2dcontour": [
           {
            "colorbar": {
             "outlinewidth": 0,
             "ticks": ""
            },
            "colorscale": [
             [
              0,
              "#0d0887"
             ],
             [
              0.1111111111111111,
              "#46039f"
             ],
             [
              0.2222222222222222,
              "#7201a8"
             ],
             [
              0.3333333333333333,
              "#9c179e"
             ],
             [
              0.4444444444444444,
              "#bd3786"
             ],
             [
              0.5555555555555556,
              "#d8576b"
             ],
             [
              0.6666666666666666,
              "#ed7953"
             ],
             [
              0.7777777777777778,
              "#fb9f3a"
             ],
             [
              0.8888888888888888,
              "#fdca26"
             ],
             [
              1,
              "#f0f921"
             ]
            ],
            "type": "histogram2dcontour"
           }
          ],
          "mesh3d": [
           {
            "colorbar": {
             "outlinewidth": 0,
             "ticks": ""
            },
            "type": "mesh3d"
           }
          ],
          "parcoords": [
           {
            "line": {
             "colorbar": {
              "outlinewidth": 0,
              "ticks": ""
             }
            },
            "type": "parcoords"
           }
          ],
          "pie": [
           {
            "automargin": true,
            "type": "pie"
           }
          ],
          "scatter": [
           {
            "fillpattern": {
             "fillmode": "overlay",
             "size": 10,
             "solidity": 0.2
            },
            "type": "scatter"
           }
          ],
          "scatter3d": [
           {
            "line": {
             "colorbar": {
              "outlinewidth": 0,
              "ticks": ""
             }
            },
            "marker": {
             "colorbar": {
              "outlinewidth": 0,
              "ticks": ""
             }
            },
            "type": "scatter3d"
           }
          ],
          "scattercarpet": [
           {
            "marker": {
             "colorbar": {
              "outlinewidth": 0,
              "ticks": ""
             }
            },
            "type": "scattercarpet"
           }
          ],
          "scattergeo": [
           {
            "marker": {
             "colorbar": {
              "outlinewidth": 0,
              "ticks": ""
             }
            },
            "type": "scattergeo"
           }
          ],
          "scattergl": [
           {
            "marker": {
             "colorbar": {
              "outlinewidth": 0,
              "ticks": ""
             }
            },
            "type": "scattergl"
           }
          ],
          "scattermapbox": [
           {
            "marker": {
             "colorbar": {
              "outlinewidth": 0,
              "ticks": ""
             }
            },
            "type": "scattermapbox"
           }
          ],
          "scatterpolar": [
           {
            "marker": {
             "colorbar": {
              "outlinewidth": 0,
              "ticks": ""
             }
            },
            "type": "scatterpolar"
           }
          ],
          "scatterpolargl": [
           {
            "marker": {
             "colorbar": {
              "outlinewidth": 0,
              "ticks": ""
             }
            },
            "type": "scatterpolargl"
           }
          ],
          "scatterternary": [
           {
            "marker": {
             "colorbar": {
              "outlinewidth": 0,
              "ticks": ""
             }
            },
            "type": "scatterternary"
           }
          ],
          "surface": [
           {
            "colorbar": {
             "outlinewidth": 0,
             "ticks": ""
            },
            "colorscale": [
             [
              0,
              "#0d0887"
             ],
             [
              0.1111111111111111,
              "#46039f"
             ],
             [
              0.2222222222222222,
              "#7201a8"
             ],
             [
              0.3333333333333333,
              "#9c179e"
             ],
             [
              0.4444444444444444,
              "#bd3786"
             ],
             [
              0.5555555555555556,
              "#d8576b"
             ],
             [
              0.6666666666666666,
              "#ed7953"
             ],
             [
              0.7777777777777778,
              "#fb9f3a"
             ],
             [
              0.8888888888888888,
              "#fdca26"
             ],
             [
              1,
              "#f0f921"
             ]
            ],
            "type": "surface"
           }
          ],
          "table": [
           {
            "cells": {
             "fill": {
              "color": "#EBF0F8"
             },
             "line": {
              "color": "white"
             }
            },
            "header": {
             "fill": {
              "color": "#C8D4E3"
             },
             "line": {
              "color": "white"
             }
            },
            "type": "table"
           }
          ]
         },
         "layout": {
          "annotationdefaults": {
           "arrowcolor": "#2a3f5f",
           "arrowhead": 0,
           "arrowwidth": 1
          },
          "autotypenumbers": "strict",
          "coloraxis": {
           "colorbar": {
            "outlinewidth": 0,
            "ticks": ""
           }
          },
          "colorscale": {
           "diverging": [
            [
             0,
             "#8e0152"
            ],
            [
             0.1,
             "#c51b7d"
            ],
            [
             0.2,
             "#de77ae"
            ],
            [
             0.3,
             "#f1b6da"
            ],
            [
             0.4,
             "#fde0ef"
            ],
            [
             0.5,
             "#f7f7f7"
            ],
            [
             0.6,
             "#e6f5d0"
            ],
            [
             0.7,
             "#b8e186"
            ],
            [
             0.8,
             "#7fbc41"
            ],
            [
             0.9,
             "#4d9221"
            ],
            [
             1,
             "#276419"
            ]
           ],
           "sequential": [
            [
             0,
             "#0d0887"
            ],
            [
             0.1111111111111111,
             "#46039f"
            ],
            [
             0.2222222222222222,
             "#7201a8"
            ],
            [
             0.3333333333333333,
             "#9c179e"
            ],
            [
             0.4444444444444444,
             "#bd3786"
            ],
            [
             0.5555555555555556,
             "#d8576b"
            ],
            [
             0.6666666666666666,
             "#ed7953"
            ],
            [
             0.7777777777777778,
             "#fb9f3a"
            ],
            [
             0.8888888888888888,
             "#fdca26"
            ],
            [
             1,
             "#f0f921"
            ]
           ],
           "sequentialminus": [
            [
             0,
             "#0d0887"
            ],
            [
             0.1111111111111111,
             "#46039f"
            ],
            [
             0.2222222222222222,
             "#7201a8"
            ],
            [
             0.3333333333333333,
             "#9c179e"
            ],
            [
             0.4444444444444444,
             "#bd3786"
            ],
            [
             0.5555555555555556,
             "#d8576b"
            ],
            [
             0.6666666666666666,
             "#ed7953"
            ],
            [
             0.7777777777777778,
             "#fb9f3a"
            ],
            [
             0.8888888888888888,
             "#fdca26"
            ],
            [
             1,
             "#f0f921"
            ]
           ]
          },
          "colorway": [
           "#636efa",
           "#EF553B",
           "#00cc96",
           "#ab63fa",
           "#FFA15A",
           "#19d3f3",
           "#FF6692",
           "#B6E880",
           "#FF97FF",
           "#FECB52"
          ],
          "font": {
           "color": "#2a3f5f"
          },
          "geo": {
           "bgcolor": "white",
           "lakecolor": "white",
           "landcolor": "#E5ECF6",
           "showlakes": true,
           "showland": true,
           "subunitcolor": "white"
          },
          "hoverlabel": {
           "align": "left"
          },
          "hovermode": "closest",
          "mapbox": {
           "style": "light"
          },
          "paper_bgcolor": "white",
          "plot_bgcolor": "#E5ECF6",
          "polar": {
           "angularaxis": {
            "gridcolor": "white",
            "linecolor": "white",
            "ticks": ""
           },
           "bgcolor": "#E5ECF6",
           "radialaxis": {
            "gridcolor": "white",
            "linecolor": "white",
            "ticks": ""
           }
          },
          "scene": {
           "xaxis": {
            "backgroundcolor": "#E5ECF6",
            "gridcolor": "white",
            "gridwidth": 2,
            "linecolor": "white",
            "showbackground": true,
            "ticks": "",
            "zerolinecolor": "white"
           },
           "yaxis": {
            "backgroundcolor": "#E5ECF6",
            "gridcolor": "white",
            "gridwidth": 2,
            "linecolor": "white",
            "showbackground": true,
            "ticks": "",
            "zerolinecolor": "white"
           },
           "zaxis": {
            "backgroundcolor": "#E5ECF6",
            "gridcolor": "white",
            "gridwidth": 2,
            "linecolor": "white",
            "showbackground": true,
            "ticks": "",
            "zerolinecolor": "white"
           }
          },
          "shapedefaults": {
           "line": {
            "color": "#2a3f5f"
           }
          },
          "ternary": {
           "aaxis": {
            "gridcolor": "white",
            "linecolor": "white",
            "ticks": ""
           },
           "baxis": {
            "gridcolor": "white",
            "linecolor": "white",
            "ticks": ""
           },
           "bgcolor": "#E5ECF6",
           "caxis": {
            "gridcolor": "white",
            "linecolor": "white",
            "ticks": ""
           }
          },
          "title": {
           "x": 0.05
          },
          "xaxis": {
           "automargin": true,
           "gridcolor": "white",
           "linecolor": "white",
           "ticks": "",
           "title": {
            "standoff": 15
           },
           "zerolinecolor": "white",
           "zerolinewidth": 2
          },
          "yaxis": {
           "automargin": true,
           "gridcolor": "white",
           "linecolor": "white",
           "ticks": "",
           "title": {
            "standoff": 15
           },
           "zerolinecolor": "white",
           "zerolinewidth": 2
          }
         }
        },
        "title": {
         "text": "Number of Frequent Patterns for Different Support Levels"
        },
        "xaxis": {
         "anchor": "y",
         "domain": [
          0,
          1
         ],
         "title": {
          "text": "Support Levels"
         }
        },
        "yaxis": {
         "anchor": "x",
         "domain": [
          0,
          1
         ],
         "title": {
          "text": "Number of Frequent Patterns"
         }
        }
       }
      }
     },
     "metadata": {},
     "output_type": "display_data"
    }
   ],
   "source": [
    "nb_plot_FP_per_Support(dataitems,5)"
   ]
  },
  {
   "cell_type": "code",
   "execution_count": 61,
   "metadata": {},
   "outputs": [
    {
     "name": "stdout",
     "output_type": "stream",
     "text": [
      "[((1.0, 2.0, 0.0, 'Coconut', 'MOP'), 3), ((2.0, 3.0, 0.0, 'Coconut', 'DAP'), 4), ((2.0, 2.0, 0.0, 'Coconut', 'MOP'), 3), ((2.0, 3.0, 0.0, 'Coconut', 'MOP'), 3), ((2.0, 3.0, 1.0, 'Coconut', 'DAP'), 3), ((1.0, 2.0, 0.0, 'Coconut', 'Urea'), 4), ((2.0, 3.0, 1.0, 'Coconut', 'MOP'), 3), ((1.0, 0.0, 1.0, 'Coconut', 'MOP'), 3), ((2.0, 3.0, 1.0, 'Coconut', 'Urea'), 3), ((2.0, 2.0, 0.0, 'Coconut', 'Urea'), 3), ((1.0, 3.0, 1.0, 'Coconut', 'DAP'), 3), ((1.0, 0.0, 3.0, 'rice', 'Urea'), 3), ((2.0, 3.0, 0.0, 'Coconut', 'Urea'), 4), ((1.0, 0.0, 2.0, 'rice', 'DAP'), 3), ((0.0, 0.0, 3.0, 'rice', 'DAP'), 3), ((1.0, 0.0, 1.0, 'rice', 'Good NPK'), 3), ((1.0, 0.0, 1.0, 'rice', 'DAP'), 3), ((1.0, 0.0, 2.0, 'rice', 'MOP'), 3), ((1.0, 0.0, 1.0, 'Coconut', 'Urea'), 3), ((2.0, 3.0, 2.0, 'Coconut', 'MOP'), 3), ((1.0, 0.0, 1.0, 'rice', 'MOP'), 3), ((2.0, 2.0, 0.0, 'Coconut', 'Good NPK'), 3), ((0.0, 0.0, 2.0, 'rice', 'Urea'), 3), ((1.0, 0.0, 2.0, 'rice', 'Urea'), 3), (((1.0, 0.0, 2.0, 'rice', 'DAP'), (0.0, 0.0, 3.0, 'rice', 'DAP')), 3), (((1.0, 2.0, 0.0, 'Coconut', 'MOP'), (1.0, 0.0, 1.0, 'Coconut', 'Urea')), 3), (((1.0, 0.0, 1.0, 'rice', 'DAP'), (1.0, 0.0, 1.0, 'rice', 'MOP')), 3), (((2.0, 3.0, 0.0, 'Coconut', 'DAP'), (2.0, 3.0, 0.0, 'Coconut', 'Urea')), 4), (((1.0, 2.0, 0.0, 'Coconut', 'Urea'), (1.0, 0.0, 1.0, 'Coconut', 'MOP')), 3), (((1.0, 0.0, 1.0, 'rice', 'Good NPK'), (1.0, 0.0, 1.0, 'rice', 'MOP')), 3), (((2.0, 3.0, 0.0, 'Coconut', 'DAP'), (1.0, 0.0, 1.0, 'Coconut', 'Urea')), 3), (((2.0, 3.0, 0.0, 'Coconut', 'MOP'), (1.0, 3.0, 1.0, 'Coconut', 'DAP')), 3), (((1.0, 2.0, 0.0, 'Coconut', 'Urea'), (2.0, 3.0, 0.0, 'Coconut', 'Urea')), 4), (((2.0, 3.0, 1.0, 'Coconut', 'Urea'), (1.0, 3.0, 1.0, 'Coconut', 'DAP')), 3), (((1.0, 0.0, 1.0, 'rice', 'Good NPK'), (1.0, 0.0, 1.0, 'rice', 'DAP')), 3), (((0.0, 0.0, 2.0, 'rice', 'Urea'), (1.0, 0.0, 2.0, 'rice', 'Urea')), 3), (((2.0, 3.0, 1.0, 'Coconut', 'DAP'), (2.0, 3.0, 0.0, 'Coconut', 'Urea')), 3), (((1.0, 0.0, 2.0, 'rice', 'MOP'), (1.0, 0.0, 2.0, 'rice', 'Urea')), 3), (((1.0, 2.0, 0.0, 'Coconut', 'Urea'), (1.0, 3.0, 1.0, 'Coconut', 'DAP')), 3), (((0.0, 0.0, 3.0, 'rice', 'DAP'), (1.0, 0.0, 1.0, 'rice', 'DAP')), 3), (((1.0, 0.0, 2.0, 'rice', 'MOP'), (0.0, 0.0, 2.0, 'rice', 'Urea')), 3), (((2.0, 3.0, 0.0, 'Coconut', 'DAP'), (2.0, 3.0, 1.0, 'Coconut', 'MOP')), 3), (((1.0, 0.0, 2.0, 'rice', 'DAP'), (1.0, 0.0, 1.0, 'rice', 'MOP')), 3), (((1.0, 2.0, 0.0, 'Coconut', 'MOP'), (1.0, 0.0, 1.0, 'Coconut', 'MOP')), 3), (((2.0, 3.0, 0.0, 'Coconut', 'DAP'), (2.0, 3.0, 0.0, 'Coconut', 'MOP')), 3), (((1.0, 2.0, 0.0, 'Coconut', 'MOP'), (2.0, 3.0, 0.0, 'Coconut', 'DAP')), 3), (((2.0, 3.0, 0.0, 'Coconut', 'DAP'), (2.0, 3.0, 1.0, 'Coconut', 'DAP')), 3), (((1.0, 0.0, 3.0, 'rice', 'Urea'), (0.0, 0.0, 3.0, 'rice', 'DAP')), 3), (((1.0, 0.0, 2.0, 'rice', 'DAP'), (1.0, 0.0, 1.0, 'rice', 'DAP')), 3), (((2.0, 3.0, 0.0, 'Coconut', 'DAP'), (1.0, 0.0, 1.0, 'Coconut', 'MOP')), 3), (((0.0, 0.0, 3.0, 'rice', 'DAP'), (1.0, 0.0, 1.0, 'rice', 'Good NPK')), 3), (((2.0, 3.0, 1.0, 'Coconut', 'DAP'), (2.0, 2.0, 0.0, 'Coconut', 'Good NPK')), 3), (((1.0, 0.0, 1.0, 'rice', 'DAP'), (1.0, 0.0, 2.0, 'rice', 'Urea')), 3), (((1.0, 0.0, 1.0, 'rice', 'DAP'), (0.0, 0.0, 2.0, 'rice', 'Urea')), 3), (((1.0, 0.0, 1.0, 'rice', 'Good NPK'), (1.0, 0.0, 2.0, 'rice', 'Urea')), 3), (((2.0, 2.0, 0.0, 'Coconut', 'MOP'), (1.0, 2.0, 0.0, 'Coconut', 'Urea')), 3), (((2.0, 3.0, 0.0, 'Coconut', 'Urea'), (2.0, 3.0, 2.0, 'Coconut', 'MOP')), 3), (((1.0, 0.0, 1.0, 'rice', 'Good NPK'), (0.0, 0.0, 2.0, 'rice', 'Urea')), 3), (((0.0, 0.0, 3.0, 'rice', 'DAP'), (1.0, 0.0, 2.0, 'rice', 'Urea')), 3), (((1.0, 2.0, 0.0, 'Coconut', 'Urea'), (2.0, 3.0, 2.0, 'Coconut', 'MOP')), 3), (((1.0, 0.0, 1.0, 'Coconut', 'MOP'), (2.0, 2.0, 0.0, 'Coconut', 'Urea')), 3), (((2.0, 3.0, 0.0, 'Coconut', 'DAP'), (1.0, 3.0, 1.0, 'Coconut', 'DAP')), 3), (((1.0, 0.0, 2.0, 'rice', 'DAP'), (1.0, 0.0, 1.0, 'rice', 'Good NPK')), 3), (((0.0, 0.0, 3.0, 'rice', 'DAP'), (0.0, 0.0, 2.0, 'rice', 'Urea')), 3), (((2.0, 3.0, 1.0, 'Coconut', 'MOP'), (2.0, 3.0, 2.0, 'Coconut', 'MOP')), 3), (((1.0, 2.0, 0.0, 'Coconut', 'MOP'), (2.0, 3.0, 0.0, 'Coconut', 'Urea')), 3), (((2.0, 3.0, 0.0, 'Coconut', 'MOP'), (2.0, 3.0, 1.0, 'Coconut', 'Urea')), 3), (((1.0, 0.0, 3.0, 'rice', 'Urea'), (1.0, 0.0, 1.0, 'rice', 'MOP')), 3), (((1.0, 0.0, 2.0, 'rice', 'DAP'), (1.0, 0.0, 2.0, 'rice', 'Urea')), 3), (((1.0, 0.0, 2.0, 'rice', 'DAP'), (0.0, 0.0, 2.0, 'rice', 'Urea')), 3), (((1.0, 0.0, 1.0, 'rice', 'DAP'), (1.0, 0.0, 2.0, 'rice', 'MOP')), 3), (((2.0, 3.0, 1.0, 'Coconut', 'DAP'), (1.0, 3.0, 1.0, 'Coconut', 'DAP')), 3), (((1.0, 0.0, 3.0, 'rice', 'Urea'), (1.0, 0.0, 1.0, 'rice', 'DAP')), 3), (((1.0, 0.0, 1.0, 'rice', 'Good NPK'), (1.0, 0.0, 2.0, 'rice', 'MOP')), 3), (((1.0, 2.0, 0.0, 'Coconut', 'Urea'), (2.0, 3.0, 1.0, 'Coconut', 'Urea')), 3), (((2.0, 3.0, 0.0, 'Coconut', 'MOP'), (1.0, 2.0, 0.0, 'Coconut', 'Urea')), 3), (((0.0, 0.0, 3.0, 'rice', 'DAP'), (1.0, 0.0, 2.0, 'rice', 'MOP')), 3), (((2.0, 3.0, 0.0, 'Coconut', 'DAP'), (2.0, 3.0, 2.0, 'Coconut', 'MOP')), 3), (((1.0, 2.0, 0.0, 'Coconut', 'Urea'), (2.0, 2.0, 0.0, 'Coconut', 'Urea')), 3), (((1.0, 3.0, 1.0, 'Coconut', 'DAP'), (2.0, 2.0, 0.0, 'Coconut', 'Good NPK')), 3), (((2.0, 2.0, 0.0, 'Coconut', 'Urea'), (2.0, 3.0, 0.0, 'Coconut', 'Urea')), 3), (((2.0, 3.0, 0.0, 'Coconut', 'MOP'), (2.0, 2.0, 0.0, 'Coconut', 'Good NPK')), 3), (((1.0, 0.0, 3.0, 'rice', 'Urea'), (1.0, 0.0, 1.0, 'rice', 'Good NPK')), 3), (((2.0, 3.0, 1.0, 'Coconut', 'Urea'), (2.0, 2.0, 0.0, 'Coconut', 'Good NPK')), 3), (((2.0, 2.0, 0.0, 'Coconut', 'Urea'), (1.0, 0.0, 1.0, 'Coconut', 'Urea')), 3), (((1.0, 0.0, 2.0, 'rice', 'DAP'), (1.0, 0.0, 2.0, 'rice', 'MOP')), 3), (((2.0, 3.0, 0.0, 'Coconut', 'Urea'), (2.0, 2.0, 0.0, 'Coconut', 'Good NPK')), 3), (((1.0, 0.0, 3.0, 'rice', 'Urea'), (1.0, 0.0, 2.0, 'rice', 'Urea')), 3), (((1.0, 0.0, 3.0, 'rice', 'Urea'), (0.0, 0.0, 2.0, 'rice', 'Urea')), 3), (((1.0, 3.0, 1.0, 'Coconut', 'DAP'), (2.0, 3.0, 0.0, 'Coconut', 'Urea')), 3), (((2.0, 3.0, 0.0, 'Coconut', 'DAP'), (2.0, 2.0, 0.0, 'Coconut', 'MOP')), 3), (((2.0, 3.0, 0.0, 'Coconut', 'MOP'), (2.0, 3.0, 0.0, 'Coconut', 'Urea')), 3), (((2.0, 3.0, 0.0, 'Coconut', 'DAP'), (2.0, 3.0, 1.0, 'Coconut', 'Urea')), 3), (((1.0, 2.0, 0.0, 'Coconut', 'MOP'), (2.0, 2.0, 0.0, 'Coconut', 'Urea')), 3), (((2.0, 3.0, 1.0, 'Coconut', 'Urea'), (2.0, 3.0, 0.0, 'Coconut', 'Urea')), 3), (((2.0, 2.0, 0.0, 'Coconut', 'MOP'), (2.0, 3.0, 0.0, 'Coconut', 'Urea')), 3), (((1.0, 2.0, 0.0, 'Coconut', 'MOP'), (1.0, 2.0, 0.0, 'Coconut', 'Urea')), 3), (((2.0, 3.0, 0.0, 'Coconut', 'DAP'), (2.0, 2.0, 0.0, 'Coconut', 'Urea')), 3), (((2.0, 3.0, 0.0, 'Coconut', 'Urea'), (1.0, 0.0, 1.0, 'Coconut', 'Urea')), 3), (((0.0, 0.0, 3.0, 'rice', 'DAP'), (1.0, 0.0, 1.0, 'rice', 'MOP')), 3), (((2.0, 3.0, 0.0, 'Coconut', 'DAP'), (1.0, 2.0, 0.0, 'Coconut', 'Urea')), 4), (((2.0, 3.0, 1.0, 'Coconut', 'MOP'), (2.0, 3.0, 0.0, 'Coconut', 'Urea')), 3), (((1.0, 2.0, 0.0, 'Coconut', 'Urea'), (1.0, 0.0, 1.0, 'Coconut', 'Urea')), 3), (((2.0, 3.0, 1.0, 'Coconut', 'DAP'), (2.0, 3.0, 1.0, 'Coconut', 'Urea')), 3), (((1.0, 0.0, 1.0, 'Coconut', 'MOP'), (2.0, 3.0, 0.0, 'Coconut', 'Urea')), 3), (((1.0, 0.0, 3.0, 'rice', 'Urea'), (1.0, 0.0, 2.0, 'rice', 'MOP')), 3), (((2.0, 3.0, 0.0, 'Coconut', 'DAP'), (2.0, 2.0, 0.0, 'Coconut', 'Good NPK')), 3), (((1.0, 0.0, 1.0, 'Coconut', 'MOP'), (1.0, 0.0, 1.0, 'Coconut', 'Urea')), 3), (((1.0, 0.0, 2.0, 'rice', 'MOP'), (1.0, 0.0, 1.0, 'rice', 'MOP')), 3), (((1.0, 0.0, 1.0, 'rice', 'MOP'), (1.0, 0.0, 2.0, 'rice', 'Urea')), 3), (((1.0, 0.0, 1.0, 'rice', 'MOP'), (0.0, 0.0, 2.0, 'rice', 'Urea')), 3), (((2.0, 3.0, 0.0, 'Coconut', 'MOP'), (2.0, 3.0, 1.0, 'Coconut', 'DAP')), 3), (((1.0, 0.0, 3.0, 'rice', 'Urea'), (1.0, 0.0, 2.0, 'rice', 'DAP')), 3), (((1.0, 2.0, 0.0, 'Coconut', 'Urea'), (2.0, 2.0, 0.0, 'Coconut', 'Good NPK')), 3), (((2.0, 3.0, 1.0, 'Coconut', 'DAP'), (1.0, 2.0, 0.0, 'Coconut', 'Urea')), 3), (((1.0, 2.0, 0.0, 'Coconut', 'Urea'), (2.0, 3.0, 1.0, 'Coconut', 'MOP')), 3), (((1.0, 2.0, 0.0, 'Coconut', 'MOP'), (1.0, 2.0, 0.0, 'Coconut', 'Urea'), (1.0, 0.0, 1.0, 'Coconut', 'MOP'), (1.0, 0.0, 1.0, 'Coconut', 'Urea')), 3), (((1.0, 2.0, 0.0, 'Coconut', 'MOP'), (2.0, 3.0, 0.0, 'Coconut', 'DAP'), (1.0, 0.0, 1.0, 'Coconut', 'Urea')), 3), (((1.0, 2.0, 0.0, 'Coconut', 'MOP'), (1.0, 0.0, 1.0, 'Coconut', 'MOP'), (1.0, 0.0, 1.0, 'Coconut', 'Urea')), 3), (((1.0, 2.0, 0.0, 'Coconut', 'MOP'), (2.0, 3.0, 0.0, 'Coconut', 'DAP'), (1.0, 0.0, 1.0, 'Coconut', 'MOP'), (1.0, 0.0, 1.0, 'Coconut', 'Urea')), 3), (((1.0, 2.0, 0.0, 'Coconut', 'MOP'), (1.0, 2.0, 0.0, 'Coconut', 'Urea'), (2.0, 2.0, 0.0, 'Coconut', 'Urea'), (1.0, 0.0, 1.0, 'Coconut', 'Urea')), 3), (((1.0, 2.0, 0.0, 'Coconut', 'MOP'), (2.0, 2.0, 0.0, 'Coconut', 'Urea'), (1.0, 0.0, 1.0, 'Coconut', 'Urea')), 3), (((1.0, 2.0, 0.0, 'Coconut', 'MOP'), (1.0, 2.0, 0.0, 'Coconut', 'Urea'), (1.0, 0.0, 1.0, 'Coconut', 'Urea')), 3), (((0.0, 0.0, 3.0, 'rice', 'DAP'), (1.0, 0.0, 1.0, 'rice', 'DAP'), (1.0, 0.0, 1.0, 'rice', 'MOP')), 3), (((0.0, 0.0, 3.0, 'rice', 'DAP'), (1.0, 0.0, 1.0, 'rice', 'DAP'), (1.0, 0.0, 2.0, 'rice', 'MOP'), (1.0, 0.0, 1.0, 'rice', 'MOP')), 3), (((2.0, 3.0, 0.0, 'Coconut', 'DAP'), (1.0, 2.0, 0.0, 'Coconut', 'Urea'), (1.0, 0.0, 1.0, 'Coconut', 'MOP'), (1.0, 0.0, 1.0, 'Coconut', 'Urea')), 3), (((1.0, 2.0, 0.0, 'Coconut', 'MOP'), (1.0, 2.0, 0.0, 'Coconut', 'Urea'), (1.0, 0.0, 1.0, 'Coconut', 'MOP')), 3), (((2.0, 3.0, 0.0, 'Coconut', 'DAP'), (1.0, 2.0, 0.0, 'Coconut', 'Urea'), (1.0, 0.0, 1.0, 'Coconut', 'MOP')), 3), (((1.0, 2.0, 0.0, 'Coconut', 'Urea'), (1.0, 0.0, 1.0, 'Coconut', 'MOP'), (1.0, 0.0, 1.0, 'Coconut', 'Urea')), 3), (((2.0, 3.0, 0.0, 'Coconut', 'DAP'), (1.0, 0.0, 1.0, 'Coconut', 'MOP'), (1.0, 0.0, 1.0, 'Coconut', 'Urea')), 3), (((2.0, 3.0, 0.0, 'Coconut', 'DAP'), (1.0, 2.0, 0.0, 'Coconut', 'Urea'), (2.0, 2.0, 0.0, 'Coconut', 'Urea'), (1.0, 0.0, 1.0, 'Coconut', 'Urea')), 3), (((2.0, 3.0, 0.0, 'Coconut', 'DAP'), (2.0, 2.0, 0.0, 'Coconut', 'Urea'), (1.0, 0.0, 1.0, 'Coconut', 'Urea')), 3), (((2.0, 3.0, 0.0, 'Coconut', 'DAP'), (1.0, 2.0, 0.0, 'Coconut', 'Urea'), (1.0, 0.0, 1.0, 'Coconut', 'Urea')), 3), (((2.0, 3.0, 0.0, 'Coconut', 'DAP'), (1.0, 2.0, 0.0, 'Coconut', 'Urea'), (1.0, 3.0, 1.0, 'Coconut', 'DAP')), 3), (((0.0, 0.0, 3.0, 'rice', 'DAP'), (1.0, 0.0, 1.0, 'rice', 'DAP'), (1.0, 0.0, 2.0, 'rice', 'MOP'), (0.0, 0.0, 2.0, 'rice', 'Urea')), 3), (((0.0, 0.0, 3.0, 'rice', 'DAP'), (1.0, 0.0, 1.0, 'rice', 'DAP'), (1.0, 0.0, 2.0, 'rice', 'Urea')), 3), (((0.0, 0.0, 3.0, 'rice', 'DAP'), (1.0, 0.0, 1.0, 'rice', 'DAP'), (0.0, 0.0, 2.0, 'rice', 'Urea')), 3), (((0.0, 0.0, 3.0, 'rice', 'DAP'), (1.0, 0.0, 1.0, 'rice', 'DAP'), (1.0, 0.0, 2.0, 'rice', 'MOP')), 3), (((0.0, 0.0, 3.0, 'rice', 'DAP'), (1.0, 0.0, 1.0, 'rice', 'DAP'), (1.0, 0.0, 1.0, 'rice', 'MOP'), (0.0, 0.0, 2.0, 'rice', 'Urea')), 3), (((1.0, 0.0, 2.0, 'rice', 'MOP'), (1.0, 0.0, 1.0, 'rice', 'MOP'), (0.0, 0.0, 2.0, 'rice', 'Urea')), 3), (((1.0, 2.0, 0.0, 'Coconut', 'MOP'), (2.0, 3.0, 0.0, 'Coconut', 'DAP'), (1.0, 0.0, 1.0, 'Coconut', 'MOP')), 3), (((2.0, 3.0, 0.0, 'Coconut', 'DAP'), (2.0, 3.0, 1.0, 'Coconut', 'DAP'), (2.0, 2.0, 0.0, 'Coconut', 'Good NPK')), 3), (((2.0, 3.0, 0.0, 'Coconut', 'DAP'), (2.0, 3.0, 1.0, 'Coconut', 'DAP'), (1.0, 3.0, 1.0, 'Coconut', 'DAP')), 3), (((2.0, 3.0, 0.0, 'Coconut', 'DAP'), (2.0, 3.0, 1.0, 'Coconut', 'DAP'), (1.0, 2.0, 0.0, 'Coconut', 'Urea')), 3), (((0.0, 0.0, 3.0, 'rice', 'DAP'), (1.0, 0.0, 1.0, 'rice', 'DAP'), (1.0, 0.0, 2.0, 'rice', 'MOP'), (1.0, 0.0, 2.0, 'rice', 'Urea')), 3), (((2.0, 3.0, 0.0, 'Coconut', 'DAP'), (2.0, 2.0, 0.0, 'Coconut', 'MOP'), (1.0, 2.0, 0.0, 'Coconut', 'Urea')), 3), (((2.0, 3.0, 0.0, 'Coconut', 'DAP'), (1.0, 2.0, 0.0, 'Coconut', 'Urea'), (2.0, 3.0, 2.0, 'Coconut', 'MOP')), 3), (((2.0, 3.0, 0.0, 'Coconut', 'DAP'), (2.0, 3.0, 1.0, 'Coconut', 'DAP'), (1.0, 2.0, 0.0, 'Coconut', 'Urea'), (1.0, 3.0, 1.0, 'Coconut', 'DAP')), 3), (((0.0, 0.0, 3.0, 'rice', 'DAP'), (1.0, 0.0, 2.0, 'rice', 'MOP'), (0.0, 0.0, 2.0, 'rice', 'Urea')), 3), (((0.0, 0.0, 3.0, 'rice', 'DAP'), (1.0, 0.0, 1.0, 'rice', 'MOP'), (0.0, 0.0, 2.0, 'rice', 'Urea')), 3), (((2.0, 3.0, 1.0, 'Coconut', 'MOP'), (2.0, 3.0, 0.0, 'Coconut', 'Urea'), (2.0, 3.0, 2.0, 'Coconut', 'MOP')), 3), (((2.0, 3.0, 1.0, 'Coconut', 'DAP'), (1.0, 2.0, 0.0, 'Coconut', 'Urea'), (1.0, 3.0, 1.0, 'Coconut', 'DAP')), 3), (((0.0, 0.0, 3.0, 'rice', 'DAP'), (1.0, 0.0, 2.0, 'rice', 'MOP'), (1.0, 0.0, 1.0, 'rice', 'MOP')), 3), (((1.0, 2.0, 0.0, 'Coconut', 'Urea'), (2.0, 2.0, 0.0, 'Coconut', 'Urea'), (1.0, 0.0, 1.0, 'Coconut', 'Urea')), 3), (((1.0, 2.0, 0.0, 'Coconut', 'MOP'), (1.0, 2.0, 0.0, 'Coconut', 'Urea'), (2.0, 2.0, 0.0, 'Coconut', 'Urea')), 3), (((2.0, 3.0, 0.0, 'Coconut', 'DAP'), (1.0, 2.0, 0.0, 'Coconut', 'Urea'), (2.0, 2.0, 0.0, 'Coconut', 'Urea')), 3), (((2.0, 3.0, 0.0, 'Coconut', 'DAP'), (1.0, 2.0, 0.0, 'Coconut', 'Urea'), (2.0, 2.0, 0.0, 'Coconut', 'Good NPK')), 3), (((2.0, 3.0, 1.0, 'Coconut', 'DAP'), (1.0, 2.0, 0.0, 'Coconut', 'Urea'), (2.0, 2.0, 0.0, 'Coconut', 'Good NPK')), 3), (((2.0, 3.0, 0.0, 'Coconut', 'DAP'), (1.0, 2.0, 0.0, 'Coconut', 'Urea'), (1.0, 0.0, 1.0, 'Coconut', 'MOP'), (1.0, 0.0, 1.0, 'Coconut', 'Urea')), 3), (((2.0, 3.0, 0.0, 'Coconut', 'DAP'), (1.0, 2.0, 0.0, 'Coconut', 'Urea'), (2.0, 2.0, 0.0, 'Coconut', 'Urea'), (1.0, 0.0, 1.0, 'Coconut', 'Urea')), 3), (((2.0, 3.0, 0.0, 'Coconut', 'DAP'), (2.0, 3.0, 1.0, 'Coconut', 'DAP'), (1.0, 2.0, 0.0, 'Coconut', 'Urea'), (1.0, 3.0, 1.0, 'Coconut', 'DAP')), 3), (((2.0, 3.0, 0.0, 'Coconut', 'DAP'), (2.0, 3.0, 1.0, 'Coconut', 'DAP'), (1.0, 2.0, 0.0, 'Coconut', 'Urea'), (2.0, 2.0, 0.0, 'Coconut', 'Good NPK')), 3)]\n"
     ]
    }
   ],
   "source": [
    "FP=apriori(dataitems,3) #prennant un exemple pour support=3\n",
    "print(FP)"
   ]
  },
  {
   "cell_type": "markdown",
   "metadata": {},
   "source": [
    "Association Rules"
   ]
  },
  {
   "cell_type": "markdown",
   "metadata": {},
   "source": [
    "Calcul de la confiance"
   ]
  },
  {
   "cell_type": "code",
   "execution_count": 71,
   "metadata": {},
   "outputs": [],
   "source": [
    "def confiance(item1,item2,data):\n",
    "    \n",
    "    P_A_B = 0\n",
    "    P_A = 0\n",
    "    for index, row in data.iterrows():\n",
    "        if all(i in row['Items'] for i in item1) and all(i in row['Items'] for i in item2):\n",
    "            P_A_B += 1\n",
    "        if all(i in row['Items'] for i in item1):\n",
    "            P_A += 1\n",
    "\n",
    "    return round((P_A_B / P_A),2) if P_A != 0 else 0\n",
    "  "
   ]
  },
  {
   "cell_type": "markdown",
   "metadata": {},
   "source": [
    "Extraction des regles d'association"
   ]
  },
  {
   "cell_type": "code",
   "execution_count": 72,
   "metadata": {},
   "outputs": [],
   "source": [
    "from itertools import permutations\n",
    "def generate_association_rules(FP,conf_min,dataitems):\n",
    "    \n",
    "    frequent_2=[]\n",
    "    for itemset,support in FP:\n",
    "        if len(itemset) >= 2 and isinstance(itemset[0],tuple):\n",
    "            frequent_2.append((itemset,support))\n",
    "    #print(frequent_2)\n",
    "\n",
    "    association_rules = []\n",
    "\n",
    "    for itemset,support in frequent_2:\n",
    "        for r in range(1, len(itemset)):\n",
    "            for antecedent in combinations(itemset, r):\n",
    "                consequent = tuple(set(itemset) - set(antecedent))\n",
    "                conf=confiance(antecedent,consequent,dataitems)\n",
    "                if(conf>=conf_min):\n",
    "                    association_rules.append((set(antecedent), set(consequent),support,conf))\n",
    "\n",
    "    return association_rules\n"
   ]
  },
  {
   "cell_type": "code",
   "execution_count": 95,
   "metadata": {},
   "outputs": [],
   "source": [
    "def AR_per_confiance_level(FP,dataitems):\n",
    "    i=0.1\n",
    "    nb_rules=[]\n",
    "    while(i<1):\n",
    "        association_rules=generate_association_rules(FP,i,dataitems)\n",
    "        nb_rules.append((i,len(association_rules)))\n",
    "        i+=0.1\n",
    "    confiance_levels = [x[0] for x in nb_rules]\n",
    "    num_rules = [x[1] for x in nb_rules]\n",
    "    fig = px.line(x=confiance_levels, y=num_rules, title=\"Number of Association Rules for Different Confiance Levels\")\n",
    "    fig.update_layout(xaxis_title=\"Confiance Levels\", yaxis_title=\"Number of Association Rules\", width=800, height=500)\n",
    "    fig.show()\n",
    "  "
   ]
  },
  {
   "cell_type": "code",
   "execution_count": 96,
   "metadata": {},
   "outputs": [
    {
     "data": {
      "application/vnd.plotly.v1+json": {
       "config": {
        "plotlyServerURL": "https://plot.ly"
       },
       "data": [
        {
         "hovertemplate": "x=%{x}<br>y=%{y}<extra></extra>",
         "legendgroup": "",
         "line": {
          "color": "#636efa",
          "dash": "solid"
         },
         "marker": {
          "symbol": "circle"
         },
         "mode": "lines",
         "name": "",
         "orientation": "v",
         "showlegend": false,
         "type": "scatter",
         "x": [
          0.1,
          0.2,
          0.30000000000000004,
          0.4,
          0.5,
          0.6,
          0.7,
          0.7999999999999999,
          0.8999999999999999,
          0.9999999999999999
         ],
         "xaxis": "x",
         "y": [
          572,
          572,
          572,
          572,
          572,
          572,
          572,
          474,
          474,
          474
         ],
         "yaxis": "y"
        }
       ],
       "layout": {
        "height": 500,
        "legend": {
         "tracegroupgap": 0
        },
        "template": {
         "data": {
          "bar": [
           {
            "error_x": {
             "color": "#2a3f5f"
            },
            "error_y": {
             "color": "#2a3f5f"
            },
            "marker": {
             "line": {
              "color": "#E5ECF6",
              "width": 0.5
             },
             "pattern": {
              "fillmode": "overlay",
              "size": 10,
              "solidity": 0.2
             }
            },
            "type": "bar"
           }
          ],
          "barpolar": [
           {
            "marker": {
             "line": {
              "color": "#E5ECF6",
              "width": 0.5
             },
             "pattern": {
              "fillmode": "overlay",
              "size": 10,
              "solidity": 0.2
             }
            },
            "type": "barpolar"
           }
          ],
          "carpet": [
           {
            "aaxis": {
             "endlinecolor": "#2a3f5f",
             "gridcolor": "white",
             "linecolor": "white",
             "minorgridcolor": "white",
             "startlinecolor": "#2a3f5f"
            },
            "baxis": {
             "endlinecolor": "#2a3f5f",
             "gridcolor": "white",
             "linecolor": "white",
             "minorgridcolor": "white",
             "startlinecolor": "#2a3f5f"
            },
            "type": "carpet"
           }
          ],
          "choropleth": [
           {
            "colorbar": {
             "outlinewidth": 0,
             "ticks": ""
            },
            "type": "choropleth"
           }
          ],
          "contour": [
           {
            "colorbar": {
             "outlinewidth": 0,
             "ticks": ""
            },
            "colorscale": [
             [
              0,
              "#0d0887"
             ],
             [
              0.1111111111111111,
              "#46039f"
             ],
             [
              0.2222222222222222,
              "#7201a8"
             ],
             [
              0.3333333333333333,
              "#9c179e"
             ],
             [
              0.4444444444444444,
              "#bd3786"
             ],
             [
              0.5555555555555556,
              "#d8576b"
             ],
             [
              0.6666666666666666,
              "#ed7953"
             ],
             [
              0.7777777777777778,
              "#fb9f3a"
             ],
             [
              0.8888888888888888,
              "#fdca26"
             ],
             [
              1,
              "#f0f921"
             ]
            ],
            "type": "contour"
           }
          ],
          "contourcarpet": [
           {
            "colorbar": {
             "outlinewidth": 0,
             "ticks": ""
            },
            "type": "contourcarpet"
           }
          ],
          "heatmap": [
           {
            "colorbar": {
             "outlinewidth": 0,
             "ticks": ""
            },
            "colorscale": [
             [
              0,
              "#0d0887"
             ],
             [
              0.1111111111111111,
              "#46039f"
             ],
             [
              0.2222222222222222,
              "#7201a8"
             ],
             [
              0.3333333333333333,
              "#9c179e"
             ],
             [
              0.4444444444444444,
              "#bd3786"
             ],
             [
              0.5555555555555556,
              "#d8576b"
             ],
             [
              0.6666666666666666,
              "#ed7953"
             ],
             [
              0.7777777777777778,
              "#fb9f3a"
             ],
             [
              0.8888888888888888,
              "#fdca26"
             ],
             [
              1,
              "#f0f921"
             ]
            ],
            "type": "heatmap"
           }
          ],
          "heatmapgl": [
           {
            "colorbar": {
             "outlinewidth": 0,
             "ticks": ""
            },
            "colorscale": [
             [
              0,
              "#0d0887"
             ],
             [
              0.1111111111111111,
              "#46039f"
             ],
             [
              0.2222222222222222,
              "#7201a8"
             ],
             [
              0.3333333333333333,
              "#9c179e"
             ],
             [
              0.4444444444444444,
              "#bd3786"
             ],
             [
              0.5555555555555556,
              "#d8576b"
             ],
             [
              0.6666666666666666,
              "#ed7953"
             ],
             [
              0.7777777777777778,
              "#fb9f3a"
             ],
             [
              0.8888888888888888,
              "#fdca26"
             ],
             [
              1,
              "#f0f921"
             ]
            ],
            "type": "heatmapgl"
           }
          ],
          "histogram": [
           {
            "marker": {
             "pattern": {
              "fillmode": "overlay",
              "size": 10,
              "solidity": 0.2
             }
            },
            "type": "histogram"
           }
          ],
          "histogram2d": [
           {
            "colorbar": {
             "outlinewidth": 0,
             "ticks": ""
            },
            "colorscale": [
             [
              0,
              "#0d0887"
             ],
             [
              0.1111111111111111,
              "#46039f"
             ],
             [
              0.2222222222222222,
              "#7201a8"
             ],
             [
              0.3333333333333333,
              "#9c179e"
             ],
             [
              0.4444444444444444,
              "#bd3786"
             ],
             [
              0.5555555555555556,
              "#d8576b"
             ],
             [
              0.6666666666666666,
              "#ed7953"
             ],
             [
              0.7777777777777778,
              "#fb9f3a"
             ],
             [
              0.8888888888888888,
              "#fdca26"
             ],
             [
              1,
              "#f0f921"
             ]
            ],
            "type": "histogram2d"
           }
          ],
          "histogram2dcontour": [
           {
            "colorbar": {
             "outlinewidth": 0,
             "ticks": ""
            },
            "colorscale": [
             [
              0,
              "#0d0887"
             ],
             [
              0.1111111111111111,
              "#46039f"
             ],
             [
              0.2222222222222222,
              "#7201a8"
             ],
             [
              0.3333333333333333,
              "#9c179e"
             ],
             [
              0.4444444444444444,
              "#bd3786"
             ],
             [
              0.5555555555555556,
              "#d8576b"
             ],
             [
              0.6666666666666666,
              "#ed7953"
             ],
             [
              0.7777777777777778,
              "#fb9f3a"
             ],
             [
              0.8888888888888888,
              "#fdca26"
             ],
             [
              1,
              "#f0f921"
             ]
            ],
            "type": "histogram2dcontour"
           }
          ],
          "mesh3d": [
           {
            "colorbar": {
             "outlinewidth": 0,
             "ticks": ""
            },
            "type": "mesh3d"
           }
          ],
          "parcoords": [
           {
            "line": {
             "colorbar": {
              "outlinewidth": 0,
              "ticks": ""
             }
            },
            "type": "parcoords"
           }
          ],
          "pie": [
           {
            "automargin": true,
            "type": "pie"
           }
          ],
          "scatter": [
           {
            "fillpattern": {
             "fillmode": "overlay",
             "size": 10,
             "solidity": 0.2
            },
            "type": "scatter"
           }
          ],
          "scatter3d": [
           {
            "line": {
             "colorbar": {
              "outlinewidth": 0,
              "ticks": ""
             }
            },
            "marker": {
             "colorbar": {
              "outlinewidth": 0,
              "ticks": ""
             }
            },
            "type": "scatter3d"
           }
          ],
          "scattercarpet": [
           {
            "marker": {
             "colorbar": {
              "outlinewidth": 0,
              "ticks": ""
             }
            },
            "type": "scattercarpet"
           }
          ],
          "scattergeo": [
           {
            "marker": {
             "colorbar": {
              "outlinewidth": 0,
              "ticks": ""
             }
            },
            "type": "scattergeo"
           }
          ],
          "scattergl": [
           {
            "marker": {
             "colorbar": {
              "outlinewidth": 0,
              "ticks": ""
             }
            },
            "type": "scattergl"
           }
          ],
          "scattermapbox": [
           {
            "marker": {
             "colorbar": {
              "outlinewidth": 0,
              "ticks": ""
             }
            },
            "type": "scattermapbox"
           }
          ],
          "scatterpolar": [
           {
            "marker": {
             "colorbar": {
              "outlinewidth": 0,
              "ticks": ""
             }
            },
            "type": "scatterpolar"
           }
          ],
          "scatterpolargl": [
           {
            "marker": {
             "colorbar": {
              "outlinewidth": 0,
              "ticks": ""
             }
            },
            "type": "scatterpolargl"
           }
          ],
          "scatterternary": [
           {
            "marker": {
             "colorbar": {
              "outlinewidth": 0,
              "ticks": ""
             }
            },
            "type": "scatterternary"
           }
          ],
          "surface": [
           {
            "colorbar": {
             "outlinewidth": 0,
             "ticks": ""
            },
            "colorscale": [
             [
              0,
              "#0d0887"
             ],
             [
              0.1111111111111111,
              "#46039f"
             ],
             [
              0.2222222222222222,
              "#7201a8"
             ],
             [
              0.3333333333333333,
              "#9c179e"
             ],
             [
              0.4444444444444444,
              "#bd3786"
             ],
             [
              0.5555555555555556,
              "#d8576b"
             ],
             [
              0.6666666666666666,
              "#ed7953"
             ],
             [
              0.7777777777777778,
              "#fb9f3a"
             ],
             [
              0.8888888888888888,
              "#fdca26"
             ],
             [
              1,
              "#f0f921"
             ]
            ],
            "type": "surface"
           }
          ],
          "table": [
           {
            "cells": {
             "fill": {
              "color": "#EBF0F8"
             },
             "line": {
              "color": "white"
             }
            },
            "header": {
             "fill": {
              "color": "#C8D4E3"
             },
             "line": {
              "color": "white"
             }
            },
            "type": "table"
           }
          ]
         },
         "layout": {
          "annotationdefaults": {
           "arrowcolor": "#2a3f5f",
           "arrowhead": 0,
           "arrowwidth": 1
          },
          "autotypenumbers": "strict",
          "coloraxis": {
           "colorbar": {
            "outlinewidth": 0,
            "ticks": ""
           }
          },
          "colorscale": {
           "diverging": [
            [
             0,
             "#8e0152"
            ],
            [
             0.1,
             "#c51b7d"
            ],
            [
             0.2,
             "#de77ae"
            ],
            [
             0.3,
             "#f1b6da"
            ],
            [
             0.4,
             "#fde0ef"
            ],
            [
             0.5,
             "#f7f7f7"
            ],
            [
             0.6,
             "#e6f5d0"
            ],
            [
             0.7,
             "#b8e186"
            ],
            [
             0.8,
             "#7fbc41"
            ],
            [
             0.9,
             "#4d9221"
            ],
            [
             1,
             "#276419"
            ]
           ],
           "sequential": [
            [
             0,
             "#0d0887"
            ],
            [
             0.1111111111111111,
             "#46039f"
            ],
            [
             0.2222222222222222,
             "#7201a8"
            ],
            [
             0.3333333333333333,
             "#9c179e"
            ],
            [
             0.4444444444444444,
             "#bd3786"
            ],
            [
             0.5555555555555556,
             "#d8576b"
            ],
            [
             0.6666666666666666,
             "#ed7953"
            ],
            [
             0.7777777777777778,
             "#fb9f3a"
            ],
            [
             0.8888888888888888,
             "#fdca26"
            ],
            [
             1,
             "#f0f921"
            ]
           ],
           "sequentialminus": [
            [
             0,
             "#0d0887"
            ],
            [
             0.1111111111111111,
             "#46039f"
            ],
            [
             0.2222222222222222,
             "#7201a8"
            ],
            [
             0.3333333333333333,
             "#9c179e"
            ],
            [
             0.4444444444444444,
             "#bd3786"
            ],
            [
             0.5555555555555556,
             "#d8576b"
            ],
            [
             0.6666666666666666,
             "#ed7953"
            ],
            [
             0.7777777777777778,
             "#fb9f3a"
            ],
            [
             0.8888888888888888,
             "#fdca26"
            ],
            [
             1,
             "#f0f921"
            ]
           ]
          },
          "colorway": [
           "#636efa",
           "#EF553B",
           "#00cc96",
           "#ab63fa",
           "#FFA15A",
           "#19d3f3",
           "#FF6692",
           "#B6E880",
           "#FF97FF",
           "#FECB52"
          ],
          "font": {
           "color": "#2a3f5f"
          },
          "geo": {
           "bgcolor": "white",
           "lakecolor": "white",
           "landcolor": "#E5ECF6",
           "showlakes": true,
           "showland": true,
           "subunitcolor": "white"
          },
          "hoverlabel": {
           "align": "left"
          },
          "hovermode": "closest",
          "mapbox": {
           "style": "light"
          },
          "paper_bgcolor": "white",
          "plot_bgcolor": "#E5ECF6",
          "polar": {
           "angularaxis": {
            "gridcolor": "white",
            "linecolor": "white",
            "ticks": ""
           },
           "bgcolor": "#E5ECF6",
           "radialaxis": {
            "gridcolor": "white",
            "linecolor": "white",
            "ticks": ""
           }
          },
          "scene": {
           "xaxis": {
            "backgroundcolor": "#E5ECF6",
            "gridcolor": "white",
            "gridwidth": 2,
            "linecolor": "white",
            "showbackground": true,
            "ticks": "",
            "zerolinecolor": "white"
           },
           "yaxis": {
            "backgroundcolor": "#E5ECF6",
            "gridcolor": "white",
            "gridwidth": 2,
            "linecolor": "white",
            "showbackground": true,
            "ticks": "",
            "zerolinecolor": "white"
           },
           "zaxis": {
            "backgroundcolor": "#E5ECF6",
            "gridcolor": "white",
            "gridwidth": 2,
            "linecolor": "white",
            "showbackground": true,
            "ticks": "",
            "zerolinecolor": "white"
           }
          },
          "shapedefaults": {
           "line": {
            "color": "#2a3f5f"
           }
          },
          "ternary": {
           "aaxis": {
            "gridcolor": "white",
            "linecolor": "white",
            "ticks": ""
           },
           "baxis": {
            "gridcolor": "white",
            "linecolor": "white",
            "ticks": ""
           },
           "bgcolor": "#E5ECF6",
           "caxis": {
            "gridcolor": "white",
            "linecolor": "white",
            "ticks": ""
           }
          },
          "title": {
           "x": 0.05
          },
          "xaxis": {
           "automargin": true,
           "gridcolor": "white",
           "linecolor": "white",
           "ticks": "",
           "title": {
            "standoff": 15
           },
           "zerolinecolor": "white",
           "zerolinewidth": 2
          },
          "yaxis": {
           "automargin": true,
           "gridcolor": "white",
           "linecolor": "white",
           "ticks": "",
           "title": {
            "standoff": 15
           },
           "zerolinecolor": "white",
           "zerolinewidth": 2
          }
         }
        },
        "title": {
         "text": "Number of Association Rules for Different Confiance Levels"
        },
        "width": 800,
        "xaxis": {
         "anchor": "y",
         "domain": [
          0,
          1
         ],
         "title": {
          "text": "Confiance Levels"
         }
        },
        "yaxis": {
         "anchor": "x",
         "domain": [
          0,
          1
         ],
         "title": {
          "text": "Number of Association Rules"
         }
        }
       }
      }
     },
     "metadata": {},
     "output_type": "display_data"
    }
   ],
   "source": [
    "AR_per_confiance_level(FP,dataitems)\n"
   ]
  },
  {
   "cell_type": "code",
   "execution_count": 75,
   "metadata": {},
   "outputs": [],
   "source": [
    "def afficher_association_rules(association_rules):\n",
    "    for rule in association_rules:\n",
    "        item1,item2,support,confiance=rule\n",
    "        print(f\"{item1} -> {item2} ({support},{confiance})\")"
   ]
  },
  {
   "cell_type": "code",
   "execution_count": 76,
   "metadata": {},
   "outputs": [],
   "source": [
    "def afficher_rules(rules):\n",
    "    for rule,mesure in rules:\n",
    "        item1,item2,support,confiance=rule\n",
    "        print(f\"{item1} -> {item2} ({support},{confiance},{mesure})\")"
   ]
  },
  {
   "cell_type": "code",
   "execution_count": 77,
   "metadata": {},
   "outputs": [
    {
     "name": "stdout",
     "output_type": "stream",
     "text": [
      "{(1.0, 0.0, 2.0, 'rice', 'DAP')} -> {(0.0, 0.0, 3.0, 'rice', 'DAP')} (3,1.0)\n",
      "{(0.0, 0.0, 3.0, 'rice', 'DAP')} -> {(1.0, 0.0, 2.0, 'rice', 'DAP')} (3,1.0)\n",
      "{(1.0, 2.0, 0.0, 'Coconut', 'MOP')} -> {(1.0, 0.0, 1.0, 'Coconut', 'Urea')} (3,1.0)\n",
      "{(1.0, 0.0, 1.0, 'Coconut', 'Urea')} -> {(1.0, 2.0, 0.0, 'Coconut', 'MOP')} (3,1.0)\n",
      "{(1.0, 0.0, 1.0, 'rice', 'DAP')} -> {(1.0, 0.0, 1.0, 'rice', 'MOP')} (3,1.0)\n",
      "{(1.0, 0.0, 1.0, 'rice', 'MOP')} -> {(1.0, 0.0, 1.0, 'rice', 'DAP')} (3,1.0)\n",
      "{(2.0, 3.0, 0.0, 'Coconut', 'DAP')} -> {(2.0, 3.0, 0.0, 'Coconut', 'Urea')} (4,1.0)\n",
      "{(2.0, 3.0, 0.0, 'Coconut', 'Urea')} -> {(2.0, 3.0, 0.0, 'Coconut', 'DAP')} (4,1.0)\n",
      "{(1.0, 2.0, 0.0, 'Coconut', 'Urea')} -> {(1.0, 0.0, 1.0, 'Coconut', 'MOP')} (3,0.75)\n",
      "{(1.0, 0.0, 1.0, 'Coconut', 'MOP')} -> {(1.0, 2.0, 0.0, 'Coconut', 'Urea')} (3,1.0)\n",
      "{(1.0, 0.0, 1.0, 'rice', 'Good NPK')} -> {(1.0, 0.0, 1.0, 'rice', 'MOP')} (3,1.0)\n",
      "{(1.0, 0.0, 1.0, 'rice', 'MOP')} -> {(1.0, 0.0, 1.0, 'rice', 'Good NPK')} (3,1.0)\n",
      "{(2.0, 3.0, 0.0, 'Coconut', 'DAP')} -> {(1.0, 0.0, 1.0, 'Coconut', 'Urea')} (3,0.75)\n",
      "{(1.0, 0.0, 1.0, 'Coconut', 'Urea')} -> {(2.0, 3.0, 0.0, 'Coconut', 'DAP')} (3,1.0)\n",
      "{(2.0, 3.0, 0.0, 'Coconut', 'MOP')} -> {(1.0, 3.0, 1.0, 'Coconut', 'DAP')} (3,1.0)\n",
      "{(1.0, 3.0, 1.0, 'Coconut', 'DAP')} -> {(2.0, 3.0, 0.0, 'Coconut', 'MOP')} (3,1.0)\n",
      "{(1.0, 2.0, 0.0, 'Coconut', 'Urea')} -> {(2.0, 3.0, 0.0, 'Coconut', 'Urea')} (4,1.0)\n",
      "{(2.0, 3.0, 0.0, 'Coconut', 'Urea')} -> {(1.0, 2.0, 0.0, 'Coconut', 'Urea')} (4,1.0)\n",
      "{(2.0, 3.0, 1.0, 'Coconut', 'Urea')} -> {(1.0, 3.0, 1.0, 'Coconut', 'DAP')} (3,1.0)\n",
      "{(1.0, 3.0, 1.0, 'Coconut', 'DAP')} -> {(2.0, 3.0, 1.0, 'Coconut', 'Urea')} (3,1.0)\n",
      "{(1.0, 0.0, 1.0, 'rice', 'Good NPK')} -> {(1.0, 0.0, 1.0, 'rice', 'DAP')} (3,1.0)\n",
      "{(1.0, 0.0, 1.0, 'rice', 'DAP')} -> {(1.0, 0.0, 1.0, 'rice', 'Good NPK')} (3,1.0)\n",
      "{(0.0, 0.0, 2.0, 'rice', 'Urea')} -> {(1.0, 0.0, 2.0, 'rice', 'Urea')} (3,1.0)\n",
      "{(1.0, 0.0, 2.0, 'rice', 'Urea')} -> {(0.0, 0.0, 2.0, 'rice', 'Urea')} (3,1.0)\n",
      "{(2.0, 3.0, 1.0, 'Coconut', 'DAP')} -> {(2.0, 3.0, 0.0, 'Coconut', 'Urea')} (3,1.0)\n",
      "{(2.0, 3.0, 0.0, 'Coconut', 'Urea')} -> {(2.0, 3.0, 1.0, 'Coconut', 'DAP')} (3,0.75)\n",
      "{(1.0, 0.0, 2.0, 'rice', 'MOP')} -> {(1.0, 0.0, 2.0, 'rice', 'Urea')} (3,1.0)\n",
      "{(1.0, 0.0, 2.0, 'rice', 'Urea')} -> {(1.0, 0.0, 2.0, 'rice', 'MOP')} (3,1.0)\n",
      "{(1.0, 2.0, 0.0, 'Coconut', 'Urea')} -> {(1.0, 3.0, 1.0, 'Coconut', 'DAP')} (3,0.75)\n",
      "{(1.0, 3.0, 1.0, 'Coconut', 'DAP')} -> {(1.0, 2.0, 0.0, 'Coconut', 'Urea')} (3,1.0)\n",
      "{(0.0, 0.0, 3.0, 'rice', 'DAP')} -> {(1.0, 0.0, 1.0, 'rice', 'DAP')} (3,1.0)\n",
      "{(1.0, 0.0, 1.0, 'rice', 'DAP')} -> {(0.0, 0.0, 3.0, 'rice', 'DAP')} (3,1.0)\n",
      "{(1.0, 0.0, 2.0, 'rice', 'MOP')} -> {(0.0, 0.0, 2.0, 'rice', 'Urea')} (3,1.0)\n",
      "{(0.0, 0.0, 2.0, 'rice', 'Urea')} -> {(1.0, 0.0, 2.0, 'rice', 'MOP')} (3,1.0)\n",
      "{(2.0, 3.0, 0.0, 'Coconut', 'DAP')} -> {(2.0, 3.0, 1.0, 'Coconut', 'MOP')} (3,0.75)\n",
      "{(2.0, 3.0, 1.0, 'Coconut', 'MOP')} -> {(2.0, 3.0, 0.0, 'Coconut', 'DAP')} (3,1.0)\n",
      "{(1.0, 0.0, 2.0, 'rice', 'DAP')} -> {(1.0, 0.0, 1.0, 'rice', 'MOP')} (3,1.0)\n",
      "{(1.0, 0.0, 1.0, 'rice', 'MOP')} -> {(1.0, 0.0, 2.0, 'rice', 'DAP')} (3,1.0)\n",
      "{(1.0, 2.0, 0.0, 'Coconut', 'MOP')} -> {(1.0, 0.0, 1.0, 'Coconut', 'MOP')} (3,1.0)\n",
      "{(1.0, 0.0, 1.0, 'Coconut', 'MOP')} -> {(1.0, 2.0, 0.0, 'Coconut', 'MOP')} (3,1.0)\n",
      "{(2.0, 3.0, 0.0, 'Coconut', 'DAP')} -> {(2.0, 3.0, 0.0, 'Coconut', 'MOP')} (3,0.75)\n",
      "{(2.0, 3.0, 0.0, 'Coconut', 'MOP')} -> {(2.0, 3.0, 0.0, 'Coconut', 'DAP')} (3,1.0)\n",
      "{(1.0, 2.0, 0.0, 'Coconut', 'MOP')} -> {(2.0, 3.0, 0.0, 'Coconut', 'DAP')} (3,1.0)\n",
      "{(2.0, 3.0, 0.0, 'Coconut', 'DAP')} -> {(1.0, 2.0, 0.0, 'Coconut', 'MOP')} (3,0.75)\n",
      "{(2.0, 3.0, 0.0, 'Coconut', 'DAP')} -> {(2.0, 3.0, 1.0, 'Coconut', 'DAP')} (3,0.75)\n",
      "{(2.0, 3.0, 1.0, 'Coconut', 'DAP')} -> {(2.0, 3.0, 0.0, 'Coconut', 'DAP')} (3,1.0)\n",
      "{(1.0, 0.0, 3.0, 'rice', 'Urea')} -> {(0.0, 0.0, 3.0, 'rice', 'DAP')} (3,1.0)\n",
      "{(0.0, 0.0, 3.0, 'rice', 'DAP')} -> {(1.0, 0.0, 3.0, 'rice', 'Urea')} (3,1.0)\n",
      "{(1.0, 0.0, 2.0, 'rice', 'DAP')} -> {(1.0, 0.0, 1.0, 'rice', 'DAP')} (3,1.0)\n",
      "{(1.0, 0.0, 1.0, 'rice', 'DAP')} -> {(1.0, 0.0, 2.0, 'rice', 'DAP')} (3,1.0)\n",
      "{(2.0, 3.0, 0.0, 'Coconut', 'DAP')} -> {(1.0, 0.0, 1.0, 'Coconut', 'MOP')} (3,0.75)\n",
      "{(1.0, 0.0, 1.0, 'Coconut', 'MOP')} -> {(2.0, 3.0, 0.0, 'Coconut', 'DAP')} (3,1.0)\n",
      "{(0.0, 0.0, 3.0, 'rice', 'DAP')} -> {(1.0, 0.0, 1.0, 'rice', 'Good NPK')} (3,1.0)\n",
      "{(1.0, 0.0, 1.0, 'rice', 'Good NPK')} -> {(0.0, 0.0, 3.0, 'rice', 'DAP')} (3,1.0)\n",
      "{(2.0, 3.0, 1.0, 'Coconut', 'DAP')} -> {(2.0, 2.0, 0.0, 'Coconut', 'Good NPK')} (3,1.0)\n",
      "{(2.0, 2.0, 0.0, 'Coconut', 'Good NPK')} -> {(2.0, 3.0, 1.0, 'Coconut', 'DAP')} (3,1.0)\n",
      "{(1.0, 0.0, 1.0, 'rice', 'DAP')} -> {(1.0, 0.0, 2.0, 'rice', 'Urea')} (3,1.0)\n",
      "{(1.0, 0.0, 2.0, 'rice', 'Urea')} -> {(1.0, 0.0, 1.0, 'rice', 'DAP')} (3,1.0)\n",
      "{(1.0, 0.0, 1.0, 'rice', 'DAP')} -> {(0.0, 0.0, 2.0, 'rice', 'Urea')} (3,1.0)\n",
      "{(0.0, 0.0, 2.0, 'rice', 'Urea')} -> {(1.0, 0.0, 1.0, 'rice', 'DAP')} (3,1.0)\n",
      "{(1.0, 0.0, 1.0, 'rice', 'Good NPK')} -> {(1.0, 0.0, 2.0, 'rice', 'Urea')} (3,1.0)\n",
      "{(1.0, 0.0, 2.0, 'rice', 'Urea')} -> {(1.0, 0.0, 1.0, 'rice', 'Good NPK')} (3,1.0)\n",
      "{(2.0, 2.0, 0.0, 'Coconut', 'MOP')} -> {(1.0, 2.0, 0.0, 'Coconut', 'Urea')} (3,1.0)\n",
      "{(1.0, 2.0, 0.0, 'Coconut', 'Urea')} -> {(2.0, 2.0, 0.0, 'Coconut', 'MOP')} (3,0.75)\n",
      "{(2.0, 3.0, 0.0, 'Coconut', 'Urea')} -> {(2.0, 3.0, 2.0, 'Coconut', 'MOP')} (3,0.75)\n",
      "{(2.0, 3.0, 2.0, 'Coconut', 'MOP')} -> {(2.0, 3.0, 0.0, 'Coconut', 'Urea')} (3,1.0)\n",
      "{(1.0, 0.0, 1.0, 'rice', 'Good NPK')} -> {(0.0, 0.0, 2.0, 'rice', 'Urea')} (3,1.0)\n",
      "{(0.0, 0.0, 2.0, 'rice', 'Urea')} -> {(1.0, 0.0, 1.0, 'rice', 'Good NPK')} (3,1.0)\n",
      "{(0.0, 0.0, 3.0, 'rice', 'DAP')} -> {(1.0, 0.0, 2.0, 'rice', 'Urea')} (3,1.0)\n",
      "{(1.0, 0.0, 2.0, 'rice', 'Urea')} -> {(0.0, 0.0, 3.0, 'rice', 'DAP')} (3,1.0)\n",
      "{(1.0, 2.0, 0.0, 'Coconut', 'Urea')} -> {(2.0, 3.0, 2.0, 'Coconut', 'MOP')} (3,0.75)\n",
      "{(2.0, 3.0, 2.0, 'Coconut', 'MOP')} -> {(1.0, 2.0, 0.0, 'Coconut', 'Urea')} (3,1.0)\n",
      "{(1.0, 0.0, 1.0, 'Coconut', 'MOP')} -> {(2.0, 2.0, 0.0, 'Coconut', 'Urea')} (3,1.0)\n",
      "{(2.0, 2.0, 0.0, 'Coconut', 'Urea')} -> {(1.0, 0.0, 1.0, 'Coconut', 'MOP')} (3,1.0)\n",
      "{(2.0, 3.0, 0.0, 'Coconut', 'DAP')} -> {(1.0, 3.0, 1.0, 'Coconut', 'DAP')} (3,0.75)\n",
      "{(1.0, 3.0, 1.0, 'Coconut', 'DAP')} -> {(2.0, 3.0, 0.0, 'Coconut', 'DAP')} (3,1.0)\n",
      "{(1.0, 0.0, 2.0, 'rice', 'DAP')} -> {(1.0, 0.0, 1.0, 'rice', 'Good NPK')} (3,1.0)\n",
      "{(1.0, 0.0, 1.0, 'rice', 'Good NPK')} -> {(1.0, 0.0, 2.0, 'rice', 'DAP')} (3,1.0)\n",
      "{(0.0, 0.0, 3.0, 'rice', 'DAP')} -> {(0.0, 0.0, 2.0, 'rice', 'Urea')} (3,1.0)\n",
      "{(0.0, 0.0, 2.0, 'rice', 'Urea')} -> {(0.0, 0.0, 3.0, 'rice', 'DAP')} (3,1.0)\n",
      "{(2.0, 3.0, 1.0, 'Coconut', 'MOP')} -> {(2.0, 3.0, 2.0, 'Coconut', 'MOP')} (3,1.0)\n",
      "{(2.0, 3.0, 2.0, 'Coconut', 'MOP')} -> {(2.0, 3.0, 1.0, 'Coconut', 'MOP')} (3,1.0)\n",
      "{(1.0, 2.0, 0.0, 'Coconut', 'MOP')} -> {(2.0, 3.0, 0.0, 'Coconut', 'Urea')} (3,1.0)\n",
      "{(2.0, 3.0, 0.0, 'Coconut', 'Urea')} -> {(1.0, 2.0, 0.0, 'Coconut', 'MOP')} (3,0.75)\n",
      "{(2.0, 3.0, 0.0, 'Coconut', 'MOP')} -> {(2.0, 3.0, 1.0, 'Coconut', 'Urea')} (3,1.0)\n",
      "{(2.0, 3.0, 1.0, 'Coconut', 'Urea')} -> {(2.0, 3.0, 0.0, 'Coconut', 'MOP')} (3,1.0)\n",
      "{(1.0, 0.0, 3.0, 'rice', 'Urea')} -> {(1.0, 0.0, 1.0, 'rice', 'MOP')} (3,1.0)\n",
      "{(1.0, 0.0, 1.0, 'rice', 'MOP')} -> {(1.0, 0.0, 3.0, 'rice', 'Urea')} (3,1.0)\n",
      "{(1.0, 0.0, 2.0, 'rice', 'DAP')} -> {(1.0, 0.0, 2.0, 'rice', 'Urea')} (3,1.0)\n",
      "{(1.0, 0.0, 2.0, 'rice', 'Urea')} -> {(1.0, 0.0, 2.0, 'rice', 'DAP')} (3,1.0)\n",
      "{(1.0, 0.0, 2.0, 'rice', 'DAP')} -> {(0.0, 0.0, 2.0, 'rice', 'Urea')} (3,1.0)\n",
      "{(0.0, 0.0, 2.0, 'rice', 'Urea')} -> {(1.0, 0.0, 2.0, 'rice', 'DAP')} (3,1.0)\n",
      "{(1.0, 0.0, 1.0, 'rice', 'DAP')} -> {(1.0, 0.0, 2.0, 'rice', 'MOP')} (3,1.0)\n",
      "{(1.0, 0.0, 2.0, 'rice', 'MOP')} -> {(1.0, 0.0, 1.0, 'rice', 'DAP')} (3,1.0)\n",
      "{(2.0, 3.0, 1.0, 'Coconut', 'DAP')} -> {(1.0, 3.0, 1.0, 'Coconut', 'DAP')} (3,1.0)\n",
      "{(1.0, 3.0, 1.0, 'Coconut', 'DAP')} -> {(2.0, 3.0, 1.0, 'Coconut', 'DAP')} (3,1.0)\n",
      "{(1.0, 0.0, 3.0, 'rice', 'Urea')} -> {(1.0, 0.0, 1.0, 'rice', 'DAP')} (3,1.0)\n",
      "{(1.0, 0.0, 1.0, 'rice', 'DAP')} -> {(1.0, 0.0, 3.0, 'rice', 'Urea')} (3,1.0)\n",
      "{(1.0, 0.0, 1.0, 'rice', 'Good NPK')} -> {(1.0, 0.0, 2.0, 'rice', 'MOP')} (3,1.0)\n",
      "{(1.0, 0.0, 2.0, 'rice', 'MOP')} -> {(1.0, 0.0, 1.0, 'rice', 'Good NPK')} (3,1.0)\n",
      "{(1.0, 2.0, 0.0, 'Coconut', 'Urea')} -> {(2.0, 3.0, 1.0, 'Coconut', 'Urea')} (3,0.75)\n",
      "{(2.0, 3.0, 1.0, 'Coconut', 'Urea')} -> {(1.0, 2.0, 0.0, 'Coconut', 'Urea')} (3,1.0)\n",
      "{(2.0, 3.0, 0.0, 'Coconut', 'MOP')} -> {(1.0, 2.0, 0.0, 'Coconut', 'Urea')} (3,1.0)\n",
      "{(1.0, 2.0, 0.0, 'Coconut', 'Urea')} -> {(2.0, 3.0, 0.0, 'Coconut', 'MOP')} (3,0.75)\n",
      "{(0.0, 0.0, 3.0, 'rice', 'DAP')} -> {(1.0, 0.0, 2.0, 'rice', 'MOP')} (3,1.0)\n",
      "{(1.0, 0.0, 2.0, 'rice', 'MOP')} -> {(0.0, 0.0, 3.0, 'rice', 'DAP')} (3,1.0)\n",
      "{(2.0, 3.0, 0.0, 'Coconut', 'DAP')} -> {(2.0, 3.0, 2.0, 'Coconut', 'MOP')} (3,0.75)\n",
      "{(2.0, 3.0, 2.0, 'Coconut', 'MOP')} -> {(2.0, 3.0, 0.0, 'Coconut', 'DAP')} (3,1.0)\n",
      "{(1.0, 2.0, 0.0, 'Coconut', 'Urea')} -> {(2.0, 2.0, 0.0, 'Coconut', 'Urea')} (3,0.75)\n",
      "{(2.0, 2.0, 0.0, 'Coconut', 'Urea')} -> {(1.0, 2.0, 0.0, 'Coconut', 'Urea')} (3,1.0)\n",
      "{(1.0, 3.0, 1.0, 'Coconut', 'DAP')} -> {(2.0, 2.0, 0.0, 'Coconut', 'Good NPK')} (3,1.0)\n",
      "{(2.0, 2.0, 0.0, 'Coconut', 'Good NPK')} -> {(1.0, 3.0, 1.0, 'Coconut', 'DAP')} (3,1.0)\n",
      "{(2.0, 2.0, 0.0, 'Coconut', 'Urea')} -> {(2.0, 3.0, 0.0, 'Coconut', 'Urea')} (3,1.0)\n",
      "{(2.0, 3.0, 0.0, 'Coconut', 'Urea')} -> {(2.0, 2.0, 0.0, 'Coconut', 'Urea')} (3,0.75)\n",
      "{(2.0, 3.0, 0.0, 'Coconut', 'MOP')} -> {(2.0, 2.0, 0.0, 'Coconut', 'Good NPK')} (3,1.0)\n",
      "{(2.0, 2.0, 0.0, 'Coconut', 'Good NPK')} -> {(2.0, 3.0, 0.0, 'Coconut', 'MOP')} (3,1.0)\n",
      "{(1.0, 0.0, 3.0, 'rice', 'Urea')} -> {(1.0, 0.0, 1.0, 'rice', 'Good NPK')} (3,1.0)\n",
      "{(1.0, 0.0, 1.0, 'rice', 'Good NPK')} -> {(1.0, 0.0, 3.0, 'rice', 'Urea')} (3,1.0)\n",
      "{(2.0, 3.0, 1.0, 'Coconut', 'Urea')} -> {(2.0, 2.0, 0.0, 'Coconut', 'Good NPK')} (3,1.0)\n",
      "{(2.0, 2.0, 0.0, 'Coconut', 'Good NPK')} -> {(2.0, 3.0, 1.0, 'Coconut', 'Urea')} (3,1.0)\n",
      "{(2.0, 2.0, 0.0, 'Coconut', 'Urea')} -> {(1.0, 0.0, 1.0, 'Coconut', 'Urea')} (3,1.0)\n",
      "{(1.0, 0.0, 1.0, 'Coconut', 'Urea')} -> {(2.0, 2.0, 0.0, 'Coconut', 'Urea')} (3,1.0)\n",
      "{(1.0, 0.0, 2.0, 'rice', 'DAP')} -> {(1.0, 0.0, 2.0, 'rice', 'MOP')} (3,1.0)\n",
      "{(1.0, 0.0, 2.0, 'rice', 'MOP')} -> {(1.0, 0.0, 2.0, 'rice', 'DAP')} (3,1.0)\n",
      "{(2.0, 3.0, 0.0, 'Coconut', 'Urea')} -> {(2.0, 2.0, 0.0, 'Coconut', 'Good NPK')} (3,0.75)\n",
      "{(2.0, 2.0, 0.0, 'Coconut', 'Good NPK')} -> {(2.0, 3.0, 0.0, 'Coconut', 'Urea')} (3,1.0)\n",
      "{(1.0, 0.0, 3.0, 'rice', 'Urea')} -> {(1.0, 0.0, 2.0, 'rice', 'Urea')} (3,1.0)\n",
      "{(1.0, 0.0, 2.0, 'rice', 'Urea')} -> {(1.0, 0.0, 3.0, 'rice', 'Urea')} (3,1.0)\n",
      "{(1.0, 0.0, 3.0, 'rice', 'Urea')} -> {(0.0, 0.0, 2.0, 'rice', 'Urea')} (3,1.0)\n",
      "{(0.0, 0.0, 2.0, 'rice', 'Urea')} -> {(1.0, 0.0, 3.0, 'rice', 'Urea')} (3,1.0)\n",
      "{(1.0, 3.0, 1.0, 'Coconut', 'DAP')} -> {(2.0, 3.0, 0.0, 'Coconut', 'Urea')} (3,1.0)\n",
      "{(2.0, 3.0, 0.0, 'Coconut', 'Urea')} -> {(1.0, 3.0, 1.0, 'Coconut', 'DAP')} (3,0.75)\n",
      "{(2.0, 3.0, 0.0, 'Coconut', 'DAP')} -> {(2.0, 2.0, 0.0, 'Coconut', 'MOP')} (3,0.75)\n",
      "{(2.0, 2.0, 0.0, 'Coconut', 'MOP')} -> {(2.0, 3.0, 0.0, 'Coconut', 'DAP')} (3,1.0)\n",
      "{(2.0, 3.0, 0.0, 'Coconut', 'MOP')} -> {(2.0, 3.0, 0.0, 'Coconut', 'Urea')} (3,1.0)\n",
      "{(2.0, 3.0, 0.0, 'Coconut', 'Urea')} -> {(2.0, 3.0, 0.0, 'Coconut', 'MOP')} (3,0.75)\n",
      "{(2.0, 3.0, 0.0, 'Coconut', 'DAP')} -> {(2.0, 3.0, 1.0, 'Coconut', 'Urea')} (3,0.75)\n",
      "{(2.0, 3.0, 1.0, 'Coconut', 'Urea')} -> {(2.0, 3.0, 0.0, 'Coconut', 'DAP')} (3,1.0)\n",
      "{(1.0, 2.0, 0.0, 'Coconut', 'MOP')} -> {(2.0, 2.0, 0.0, 'Coconut', 'Urea')} (3,1.0)\n",
      "{(2.0, 2.0, 0.0, 'Coconut', 'Urea')} -> {(1.0, 2.0, 0.0, 'Coconut', 'MOP')} (3,1.0)\n",
      "{(2.0, 3.0, 1.0, 'Coconut', 'Urea')} -> {(2.0, 3.0, 0.0, 'Coconut', 'Urea')} (3,1.0)\n",
      "{(2.0, 3.0, 0.0, 'Coconut', 'Urea')} -> {(2.0, 3.0, 1.0, 'Coconut', 'Urea')} (3,0.75)\n",
      "{(2.0, 2.0, 0.0, 'Coconut', 'MOP')} -> {(2.0, 3.0, 0.0, 'Coconut', 'Urea')} (3,1.0)\n",
      "{(2.0, 3.0, 0.0, 'Coconut', 'Urea')} -> {(2.0, 2.0, 0.0, 'Coconut', 'MOP')} (3,0.75)\n",
      "{(1.0, 2.0, 0.0, 'Coconut', 'MOP')} -> {(1.0, 2.0, 0.0, 'Coconut', 'Urea')} (3,1.0)\n",
      "{(1.0, 2.0, 0.0, 'Coconut', 'Urea')} -> {(1.0, 2.0, 0.0, 'Coconut', 'MOP')} (3,0.75)\n",
      "{(2.0, 3.0, 0.0, 'Coconut', 'DAP')} -> {(2.0, 2.0, 0.0, 'Coconut', 'Urea')} (3,0.75)\n",
      "{(2.0, 2.0, 0.0, 'Coconut', 'Urea')} -> {(2.0, 3.0, 0.0, 'Coconut', 'DAP')} (3,1.0)\n",
      "{(2.0, 3.0, 0.0, 'Coconut', 'Urea')} -> {(1.0, 0.0, 1.0, 'Coconut', 'Urea')} (3,0.75)\n",
      "{(1.0, 0.0, 1.0, 'Coconut', 'Urea')} -> {(2.0, 3.0, 0.0, 'Coconut', 'Urea')} (3,1.0)\n",
      "{(0.0, 0.0, 3.0, 'rice', 'DAP')} -> {(1.0, 0.0, 1.0, 'rice', 'MOP')} (3,1.0)\n",
      "{(1.0, 0.0, 1.0, 'rice', 'MOP')} -> {(0.0, 0.0, 3.0, 'rice', 'DAP')} (3,1.0)\n",
      "{(2.0, 3.0, 0.0, 'Coconut', 'DAP')} -> {(1.0, 2.0, 0.0, 'Coconut', 'Urea')} (4,1.0)\n",
      "{(1.0, 2.0, 0.0, 'Coconut', 'Urea')} -> {(2.0, 3.0, 0.0, 'Coconut', 'DAP')} (4,1.0)\n",
      "{(2.0, 3.0, 1.0, 'Coconut', 'MOP')} -> {(2.0, 3.0, 0.0, 'Coconut', 'Urea')} (3,1.0)\n",
      "{(2.0, 3.0, 0.0, 'Coconut', 'Urea')} -> {(2.0, 3.0, 1.0, 'Coconut', 'MOP')} (3,0.75)\n",
      "{(1.0, 2.0, 0.0, 'Coconut', 'Urea')} -> {(1.0, 0.0, 1.0, 'Coconut', 'Urea')} (3,0.75)\n",
      "{(1.0, 0.0, 1.0, 'Coconut', 'Urea')} -> {(1.0, 2.0, 0.0, 'Coconut', 'Urea')} (3,1.0)\n",
      "{(2.0, 3.0, 1.0, 'Coconut', 'DAP')} -> {(2.0, 3.0, 1.0, 'Coconut', 'Urea')} (3,1.0)\n",
      "{(2.0, 3.0, 1.0, 'Coconut', 'Urea')} -> {(2.0, 3.0, 1.0, 'Coconut', 'DAP')} (3,1.0)\n",
      "{(1.0, 0.0, 1.0, 'Coconut', 'MOP')} -> {(2.0, 3.0, 0.0, 'Coconut', 'Urea')} (3,1.0)\n",
      "{(2.0, 3.0, 0.0, 'Coconut', 'Urea')} -> {(1.0, 0.0, 1.0, 'Coconut', 'MOP')} (3,0.75)\n",
      "{(1.0, 0.0, 3.0, 'rice', 'Urea')} -> {(1.0, 0.0, 2.0, 'rice', 'MOP')} (3,1.0)\n",
      "{(1.0, 0.0, 2.0, 'rice', 'MOP')} -> {(1.0, 0.0, 3.0, 'rice', 'Urea')} (3,1.0)\n",
      "{(2.0, 3.0, 0.0, 'Coconut', 'DAP')} -> {(2.0, 2.0, 0.0, 'Coconut', 'Good NPK')} (3,0.75)\n",
      "{(2.0, 2.0, 0.0, 'Coconut', 'Good NPK')} -> {(2.0, 3.0, 0.0, 'Coconut', 'DAP')} (3,1.0)\n",
      "{(1.0, 0.0, 1.0, 'Coconut', 'MOP')} -> {(1.0, 0.0, 1.0, 'Coconut', 'Urea')} (3,1.0)\n",
      "{(1.0, 0.0, 1.0, 'Coconut', 'Urea')} -> {(1.0, 0.0, 1.0, 'Coconut', 'MOP')} (3,1.0)\n",
      "{(1.0, 0.0, 2.0, 'rice', 'MOP')} -> {(1.0, 0.0, 1.0, 'rice', 'MOP')} (3,1.0)\n",
      "{(1.0, 0.0, 1.0, 'rice', 'MOP')} -> {(1.0, 0.0, 2.0, 'rice', 'MOP')} (3,1.0)\n",
      "{(1.0, 0.0, 1.0, 'rice', 'MOP')} -> {(1.0, 0.0, 2.0, 'rice', 'Urea')} (3,1.0)\n",
      "{(1.0, 0.0, 2.0, 'rice', 'Urea')} -> {(1.0, 0.0, 1.0, 'rice', 'MOP')} (3,1.0)\n",
      "{(1.0, 0.0, 1.0, 'rice', 'MOP')} -> {(0.0, 0.0, 2.0, 'rice', 'Urea')} (3,1.0)\n",
      "{(0.0, 0.0, 2.0, 'rice', 'Urea')} -> {(1.0, 0.0, 1.0, 'rice', 'MOP')} (3,1.0)\n",
      "{(2.0, 3.0, 0.0, 'Coconut', 'MOP')} -> {(2.0, 3.0, 1.0, 'Coconut', 'DAP')} (3,1.0)\n",
      "{(2.0, 3.0, 1.0, 'Coconut', 'DAP')} -> {(2.0, 3.0, 0.0, 'Coconut', 'MOP')} (3,1.0)\n",
      "{(1.0, 0.0, 3.0, 'rice', 'Urea')} -> {(1.0, 0.0, 2.0, 'rice', 'DAP')} (3,1.0)\n",
      "{(1.0, 0.0, 2.0, 'rice', 'DAP')} -> {(1.0, 0.0, 3.0, 'rice', 'Urea')} (3,1.0)\n",
      "{(1.0, 2.0, 0.0, 'Coconut', 'Urea')} -> {(2.0, 2.0, 0.0, 'Coconut', 'Good NPK')} (3,0.75)\n",
      "{(2.0, 2.0, 0.0, 'Coconut', 'Good NPK')} -> {(1.0, 2.0, 0.0, 'Coconut', 'Urea')} (3,1.0)\n",
      "{(2.0, 3.0, 1.0, 'Coconut', 'DAP')} -> {(1.0, 2.0, 0.0, 'Coconut', 'Urea')} (3,1.0)\n",
      "{(1.0, 2.0, 0.0, 'Coconut', 'Urea')} -> {(2.0, 3.0, 1.0, 'Coconut', 'DAP')} (3,0.75)\n",
      "{(1.0, 2.0, 0.0, 'Coconut', 'Urea')} -> {(2.0, 3.0, 1.0, 'Coconut', 'MOP')} (3,0.75)\n",
      "{(2.0, 3.0, 1.0, 'Coconut', 'MOP')} -> {(1.0, 2.0, 0.0, 'Coconut', 'Urea')} (3,1.0)\n",
      "{(1.0, 2.0, 0.0, 'Coconut', 'MOP')} -> {(1.0, 2.0, 0.0, 'Coconut', 'Urea'), (1.0, 0.0, 1.0, 'Coconut', 'MOP'), (1.0, 0.0, 1.0, 'Coconut', 'Urea')} (3,1.0)\n",
      "{(1.0, 2.0, 0.0, 'Coconut', 'Urea')} -> {(1.0, 2.0, 0.0, 'Coconut', 'MOP'), (1.0, 0.0, 1.0, 'Coconut', 'MOP'), (1.0, 0.0, 1.0, 'Coconut', 'Urea')} (3,0.75)\n",
      "{(1.0, 0.0, 1.0, 'Coconut', 'MOP')} -> {(1.0, 2.0, 0.0, 'Coconut', 'MOP'), (1.0, 2.0, 0.0, 'Coconut', 'Urea'), (1.0, 0.0, 1.0, 'Coconut', 'Urea')} (3,1.0)\n",
      "{(1.0, 0.0, 1.0, 'Coconut', 'Urea')} -> {(1.0, 2.0, 0.0, 'Coconut', 'MOP'), (1.0, 2.0, 0.0, 'Coconut', 'Urea'), (1.0, 0.0, 1.0, 'Coconut', 'MOP')} (3,1.0)\n",
      "{(1.0, 2.0, 0.0, 'Coconut', 'MOP'), (1.0, 2.0, 0.0, 'Coconut', 'Urea')} -> {(1.0, 0.0, 1.0, 'Coconut', 'MOP'), (1.0, 0.0, 1.0, 'Coconut', 'Urea')} (3,1.0)\n",
      "{(1.0, 2.0, 0.0, 'Coconut', 'MOP'), (1.0, 0.0, 1.0, 'Coconut', 'MOP')} -> {(1.0, 2.0, 0.0, 'Coconut', 'Urea'), (1.0, 0.0, 1.0, 'Coconut', 'Urea')} (3,1.0)\n",
      "{(1.0, 2.0, 0.0, 'Coconut', 'MOP'), (1.0, 0.0, 1.0, 'Coconut', 'Urea')} -> {(1.0, 2.0, 0.0, 'Coconut', 'Urea'), (1.0, 0.0, 1.0, 'Coconut', 'MOP')} (3,1.0)\n",
      "{(1.0, 2.0, 0.0, 'Coconut', 'Urea'), (1.0, 0.0, 1.0, 'Coconut', 'MOP')} -> {(1.0, 2.0, 0.0, 'Coconut', 'MOP'), (1.0, 0.0, 1.0, 'Coconut', 'Urea')} (3,1.0)\n",
      "{(1.0, 2.0, 0.0, 'Coconut', 'Urea'), (1.0, 0.0, 1.0, 'Coconut', 'Urea')} -> {(1.0, 2.0, 0.0, 'Coconut', 'MOP'), (1.0, 0.0, 1.0, 'Coconut', 'MOP')} (3,1.0)\n",
      "{(1.0, 0.0, 1.0, 'Coconut', 'MOP'), (1.0, 0.0, 1.0, 'Coconut', 'Urea')} -> {(1.0, 2.0, 0.0, 'Coconut', 'MOP'), (1.0, 2.0, 0.0, 'Coconut', 'Urea')} (3,1.0)\n",
      "{(1.0, 2.0, 0.0, 'Coconut', 'MOP'), (1.0, 2.0, 0.0, 'Coconut', 'Urea'), (1.0, 0.0, 1.0, 'Coconut', 'MOP')} -> {(1.0, 0.0, 1.0, 'Coconut', 'Urea')} (3,1.0)\n",
      "{(1.0, 2.0, 0.0, 'Coconut', 'MOP'), (1.0, 2.0, 0.0, 'Coconut', 'Urea'), (1.0, 0.0, 1.0, 'Coconut', 'Urea')} -> {(1.0, 0.0, 1.0, 'Coconut', 'MOP')} (3,1.0)\n",
      "{(1.0, 2.0, 0.0, 'Coconut', 'MOP'), (1.0, 0.0, 1.0, 'Coconut', 'MOP'), (1.0, 0.0, 1.0, 'Coconut', 'Urea')} -> {(1.0, 2.0, 0.0, 'Coconut', 'Urea')} (3,1.0)\n",
      "{(1.0, 2.0, 0.0, 'Coconut', 'Urea'), (1.0, 0.0, 1.0, 'Coconut', 'MOP'), (1.0, 0.0, 1.0, 'Coconut', 'Urea')} -> {(1.0, 2.0, 0.0, 'Coconut', 'MOP')} (3,1.0)\n",
      "{(1.0, 2.0, 0.0, 'Coconut', 'MOP')} -> {(2.0, 3.0, 0.0, 'Coconut', 'DAP'), (1.0, 0.0, 1.0, 'Coconut', 'Urea')} (3,1.0)\n",
      "{(2.0, 3.0, 0.0, 'Coconut', 'DAP')} -> {(1.0, 2.0, 0.0, 'Coconut', 'MOP'), (1.0, 0.0, 1.0, 'Coconut', 'Urea')} (3,0.75)\n",
      "{(1.0, 0.0, 1.0, 'Coconut', 'Urea')} -> {(1.0, 2.0, 0.0, 'Coconut', 'MOP'), (2.0, 3.0, 0.0, 'Coconut', 'DAP')} (3,1.0)\n",
      "{(1.0, 2.0, 0.0, 'Coconut', 'MOP'), (2.0, 3.0, 0.0, 'Coconut', 'DAP')} -> {(1.0, 0.0, 1.0, 'Coconut', 'Urea')} (3,1.0)\n",
      "{(1.0, 2.0, 0.0, 'Coconut', 'MOP'), (1.0, 0.0, 1.0, 'Coconut', 'Urea')} -> {(2.0, 3.0, 0.0, 'Coconut', 'DAP')} (3,1.0)\n",
      "{(2.0, 3.0, 0.0, 'Coconut', 'DAP'), (1.0, 0.0, 1.0, 'Coconut', 'Urea')} -> {(1.0, 2.0, 0.0, 'Coconut', 'MOP')} (3,1.0)\n",
      "{(1.0, 2.0, 0.0, 'Coconut', 'MOP')} -> {(1.0, 0.0, 1.0, 'Coconut', 'MOP'), (1.0, 0.0, 1.0, 'Coconut', 'Urea')} (3,1.0)\n",
      "{(1.0, 0.0, 1.0, 'Coconut', 'MOP')} -> {(1.0, 2.0, 0.0, 'Coconut', 'MOP'), (1.0, 0.0, 1.0, 'Coconut', 'Urea')} (3,1.0)\n",
      "{(1.0, 0.0, 1.0, 'Coconut', 'Urea')} -> {(1.0, 2.0, 0.0, 'Coconut', 'MOP'), (1.0, 0.0, 1.0, 'Coconut', 'MOP')} (3,1.0)\n",
      "{(1.0, 2.0, 0.0, 'Coconut', 'MOP'), (1.0, 0.0, 1.0, 'Coconut', 'MOP')} -> {(1.0, 0.0, 1.0, 'Coconut', 'Urea')} (3,1.0)\n",
      "{(1.0, 2.0, 0.0, 'Coconut', 'MOP'), (1.0, 0.0, 1.0, 'Coconut', 'Urea')} -> {(1.0, 0.0, 1.0, 'Coconut', 'MOP')} (3,1.0)\n",
      "{(1.0, 0.0, 1.0, 'Coconut', 'MOP'), (1.0, 0.0, 1.0, 'Coconut', 'Urea')} -> {(1.0, 2.0, 0.0, 'Coconut', 'MOP')} (3,1.0)\n",
      "{(1.0, 2.0, 0.0, 'Coconut', 'MOP')} -> {(2.0, 3.0, 0.0, 'Coconut', 'DAP'), (1.0, 0.0, 1.0, 'Coconut', 'MOP'), (1.0, 0.0, 1.0, 'Coconut', 'Urea')} (3,1.0)\n",
      "{(2.0, 3.0, 0.0, 'Coconut', 'DAP')} -> {(1.0, 2.0, 0.0, 'Coconut', 'MOP'), (1.0, 0.0, 1.0, 'Coconut', 'MOP'), (1.0, 0.0, 1.0, 'Coconut', 'Urea')} (3,0.75)\n",
      "{(1.0, 0.0, 1.0, 'Coconut', 'MOP')} -> {(1.0, 2.0, 0.0, 'Coconut', 'MOP'), (2.0, 3.0, 0.0, 'Coconut', 'DAP'), (1.0, 0.0, 1.0, 'Coconut', 'Urea')} (3,1.0)\n",
      "{(1.0, 0.0, 1.0, 'Coconut', 'Urea')} -> {(1.0, 2.0, 0.0, 'Coconut', 'MOP'), (2.0, 3.0, 0.0, 'Coconut', 'DAP'), (1.0, 0.0, 1.0, 'Coconut', 'MOP')} (3,1.0)\n",
      "{(1.0, 2.0, 0.0, 'Coconut', 'MOP'), (2.0, 3.0, 0.0, 'Coconut', 'DAP')} -> {(1.0, 0.0, 1.0, 'Coconut', 'MOP'), (1.0, 0.0, 1.0, 'Coconut', 'Urea')} (3,1.0)\n",
      "{(1.0, 2.0, 0.0, 'Coconut', 'MOP'), (1.0, 0.0, 1.0, 'Coconut', 'MOP')} -> {(2.0, 3.0, 0.0, 'Coconut', 'DAP'), (1.0, 0.0, 1.0, 'Coconut', 'Urea')} (3,1.0)\n",
      "{(1.0, 2.0, 0.0, 'Coconut', 'MOP'), (1.0, 0.0, 1.0, 'Coconut', 'Urea')} -> {(2.0, 3.0, 0.0, 'Coconut', 'DAP'), (1.0, 0.0, 1.0, 'Coconut', 'MOP')} (3,1.0)\n",
      "{(2.0, 3.0, 0.0, 'Coconut', 'DAP'), (1.0, 0.0, 1.0, 'Coconut', 'MOP')} -> {(1.0, 2.0, 0.0, 'Coconut', 'MOP'), (1.0, 0.0, 1.0, 'Coconut', 'Urea')} (3,1.0)\n",
      "{(2.0, 3.0, 0.0, 'Coconut', 'DAP'), (1.0, 0.0, 1.0, 'Coconut', 'Urea')} -> {(1.0, 2.0, 0.0, 'Coconut', 'MOP'), (1.0, 0.0, 1.0, 'Coconut', 'MOP')} (3,1.0)\n",
      "{(1.0, 0.0, 1.0, 'Coconut', 'MOP'), (1.0, 0.0, 1.0, 'Coconut', 'Urea')} -> {(1.0, 2.0, 0.0, 'Coconut', 'MOP'), (2.0, 3.0, 0.0, 'Coconut', 'DAP')} (3,1.0)\n",
      "{(1.0, 2.0, 0.0, 'Coconut', 'MOP'), (2.0, 3.0, 0.0, 'Coconut', 'DAP'), (1.0, 0.0, 1.0, 'Coconut', 'MOP')} -> {(1.0, 0.0, 1.0, 'Coconut', 'Urea')} (3,1.0)\n",
      "{(1.0, 2.0, 0.0, 'Coconut', 'MOP'), (2.0, 3.0, 0.0, 'Coconut', 'DAP'), (1.0, 0.0, 1.0, 'Coconut', 'Urea')} -> {(1.0, 0.0, 1.0, 'Coconut', 'MOP')} (3,1.0)\n",
      "{(1.0, 2.0, 0.0, 'Coconut', 'MOP'), (1.0, 0.0, 1.0, 'Coconut', 'MOP'), (1.0, 0.0, 1.0, 'Coconut', 'Urea')} -> {(2.0, 3.0, 0.0, 'Coconut', 'DAP')} (3,1.0)\n",
      "{(2.0, 3.0, 0.0, 'Coconut', 'DAP'), (1.0, 0.0, 1.0, 'Coconut', 'MOP'), (1.0, 0.0, 1.0, 'Coconut', 'Urea')} -> {(1.0, 2.0, 0.0, 'Coconut', 'MOP')} (3,1.0)\n",
      "{(1.0, 2.0, 0.0, 'Coconut', 'MOP')} -> {(1.0, 2.0, 0.0, 'Coconut', 'Urea'), (2.0, 2.0, 0.0, 'Coconut', 'Urea'), (1.0, 0.0, 1.0, 'Coconut', 'Urea')} (3,1.0)\n",
      "{(1.0, 2.0, 0.0, 'Coconut', 'Urea')} -> {(1.0, 2.0, 0.0, 'Coconut', 'MOP'), (2.0, 2.0, 0.0, 'Coconut', 'Urea'), (1.0, 0.0, 1.0, 'Coconut', 'Urea')} (3,0.75)\n",
      "{(2.0, 2.0, 0.0, 'Coconut', 'Urea')} -> {(1.0, 2.0, 0.0, 'Coconut', 'MOP'), (1.0, 2.0, 0.0, 'Coconut', 'Urea'), (1.0, 0.0, 1.0, 'Coconut', 'Urea')} (3,1.0)\n",
      "{(1.0, 0.0, 1.0, 'Coconut', 'Urea')} -> {(1.0, 2.0, 0.0, 'Coconut', 'MOP'), (1.0, 2.0, 0.0, 'Coconut', 'Urea'), (2.0, 2.0, 0.0, 'Coconut', 'Urea')} (3,1.0)\n",
      "{(1.0, 2.0, 0.0, 'Coconut', 'MOP'), (1.0, 2.0, 0.0, 'Coconut', 'Urea')} -> {(2.0, 2.0, 0.0, 'Coconut', 'Urea'), (1.0, 0.0, 1.0, 'Coconut', 'Urea')} (3,1.0)\n",
      "{(1.0, 2.0, 0.0, 'Coconut', 'MOP'), (2.0, 2.0, 0.0, 'Coconut', 'Urea')} -> {(1.0, 2.0, 0.0, 'Coconut', 'Urea'), (1.0, 0.0, 1.0, 'Coconut', 'Urea')} (3,1.0)\n",
      "{(1.0, 2.0, 0.0, 'Coconut', 'MOP'), (1.0, 0.0, 1.0, 'Coconut', 'Urea')} -> {(1.0, 2.0, 0.0, 'Coconut', 'Urea'), (2.0, 2.0, 0.0, 'Coconut', 'Urea')} (3,1.0)\n",
      "{(1.0, 2.0, 0.0, 'Coconut', 'Urea'), (2.0, 2.0, 0.0, 'Coconut', 'Urea')} -> {(1.0, 2.0, 0.0, 'Coconut', 'MOP'), (1.0, 0.0, 1.0, 'Coconut', 'Urea')} (3,1.0)\n",
      "{(1.0, 2.0, 0.0, 'Coconut', 'Urea'), (1.0, 0.0, 1.0, 'Coconut', 'Urea')} -> {(1.0, 2.0, 0.0, 'Coconut', 'MOP'), (2.0, 2.0, 0.0, 'Coconut', 'Urea')} (3,1.0)\n",
      "{(2.0, 2.0, 0.0, 'Coconut', 'Urea'), (1.0, 0.0, 1.0, 'Coconut', 'Urea')} -> {(1.0, 2.0, 0.0, 'Coconut', 'MOP'), (1.0, 2.0, 0.0, 'Coconut', 'Urea')} (3,1.0)\n",
      "{(1.0, 2.0, 0.0, 'Coconut', 'MOP'), (1.0, 2.0, 0.0, 'Coconut', 'Urea'), (2.0, 2.0, 0.0, 'Coconut', 'Urea')} -> {(1.0, 0.0, 1.0, 'Coconut', 'Urea')} (3,1.0)\n",
      "{(1.0, 2.0, 0.0, 'Coconut', 'MOP'), (1.0, 2.0, 0.0, 'Coconut', 'Urea'), (1.0, 0.0, 1.0, 'Coconut', 'Urea')} -> {(2.0, 2.0, 0.0, 'Coconut', 'Urea')} (3,1.0)\n",
      "{(1.0, 2.0, 0.0, 'Coconut', 'MOP'), (2.0, 2.0, 0.0, 'Coconut', 'Urea'), (1.0, 0.0, 1.0, 'Coconut', 'Urea')} -> {(1.0, 2.0, 0.0, 'Coconut', 'Urea')} (3,1.0)\n",
      "{(1.0, 2.0, 0.0, 'Coconut', 'Urea'), (2.0, 2.0, 0.0, 'Coconut', 'Urea'), (1.0, 0.0, 1.0, 'Coconut', 'Urea')} -> {(1.0, 2.0, 0.0, 'Coconut', 'MOP')} (3,1.0)\n",
      "{(1.0, 2.0, 0.0, 'Coconut', 'MOP')} -> {(2.0, 2.0, 0.0, 'Coconut', 'Urea'), (1.0, 0.0, 1.0, 'Coconut', 'Urea')} (3,1.0)\n",
      "{(2.0, 2.0, 0.0, 'Coconut', 'Urea')} -> {(1.0, 2.0, 0.0, 'Coconut', 'MOP'), (1.0, 0.0, 1.0, 'Coconut', 'Urea')} (3,1.0)\n",
      "{(1.0, 0.0, 1.0, 'Coconut', 'Urea')} -> {(1.0, 2.0, 0.0, 'Coconut', 'MOP'), (2.0, 2.0, 0.0, 'Coconut', 'Urea')} (3,1.0)\n",
      "{(1.0, 2.0, 0.0, 'Coconut', 'MOP'), (2.0, 2.0, 0.0, 'Coconut', 'Urea')} -> {(1.0, 0.0, 1.0, 'Coconut', 'Urea')} (3,1.0)\n",
      "{(1.0, 2.0, 0.0, 'Coconut', 'MOP'), (1.0, 0.0, 1.0, 'Coconut', 'Urea')} -> {(2.0, 2.0, 0.0, 'Coconut', 'Urea')} (3,1.0)\n",
      "{(2.0, 2.0, 0.0, 'Coconut', 'Urea'), (1.0, 0.0, 1.0, 'Coconut', 'Urea')} -> {(1.0, 2.0, 0.0, 'Coconut', 'MOP')} (3,1.0)\n",
      "{(1.0, 2.0, 0.0, 'Coconut', 'MOP')} -> {(1.0, 2.0, 0.0, 'Coconut', 'Urea'), (1.0, 0.0, 1.0, 'Coconut', 'Urea')} (3,1.0)\n",
      "{(1.0, 2.0, 0.0, 'Coconut', 'Urea')} -> {(1.0, 2.0, 0.0, 'Coconut', 'MOP'), (1.0, 0.0, 1.0, 'Coconut', 'Urea')} (3,0.75)\n",
      "{(1.0, 0.0, 1.0, 'Coconut', 'Urea')} -> {(1.0, 2.0, 0.0, 'Coconut', 'MOP'), (1.0, 2.0, 0.0, 'Coconut', 'Urea')} (3,1.0)\n",
      "{(1.0, 2.0, 0.0, 'Coconut', 'MOP'), (1.0, 2.0, 0.0, 'Coconut', 'Urea')} -> {(1.0, 0.0, 1.0, 'Coconut', 'Urea')} (3,1.0)\n",
      "{(1.0, 2.0, 0.0, 'Coconut', 'MOP'), (1.0, 0.0, 1.0, 'Coconut', 'Urea')} -> {(1.0, 2.0, 0.0, 'Coconut', 'Urea')} (3,1.0)\n",
      "{(1.0, 2.0, 0.0, 'Coconut', 'Urea'), (1.0, 0.0, 1.0, 'Coconut', 'Urea')} -> {(1.0, 2.0, 0.0, 'Coconut', 'MOP')} (3,1.0)\n",
      "{(0.0, 0.0, 3.0, 'rice', 'DAP')} -> {(1.0, 0.0, 1.0, 'rice', 'DAP'), (1.0, 0.0, 1.0, 'rice', 'MOP')} (3,1.0)\n",
      "{(1.0, 0.0, 1.0, 'rice', 'DAP')} -> {(0.0, 0.0, 3.0, 'rice', 'DAP'), (1.0, 0.0, 1.0, 'rice', 'MOP')} (3,1.0)\n",
      "{(1.0, 0.0, 1.0, 'rice', 'MOP')} -> {(0.0, 0.0, 3.0, 'rice', 'DAP'), (1.0, 0.0, 1.0, 'rice', 'DAP')} (3,1.0)\n",
      "{(0.0, 0.0, 3.0, 'rice', 'DAP'), (1.0, 0.0, 1.0, 'rice', 'DAP')} -> {(1.0, 0.0, 1.0, 'rice', 'MOP')} (3,1.0)\n",
      "{(0.0, 0.0, 3.0, 'rice', 'DAP'), (1.0, 0.0, 1.0, 'rice', 'MOP')} -> {(1.0, 0.0, 1.0, 'rice', 'DAP')} (3,1.0)\n",
      "{(1.0, 0.0, 1.0, 'rice', 'DAP'), (1.0, 0.0, 1.0, 'rice', 'MOP')} -> {(0.0, 0.0, 3.0, 'rice', 'DAP')} (3,1.0)\n",
      "{(0.0, 0.0, 3.0, 'rice', 'DAP')} -> {(1.0, 0.0, 2.0, 'rice', 'MOP'), (1.0, 0.0, 1.0, 'rice', 'DAP'), (1.0, 0.0, 1.0, 'rice', 'MOP')} (3,1.0)\n",
      "{(1.0, 0.0, 1.0, 'rice', 'DAP')} -> {(0.0, 0.0, 3.0, 'rice', 'DAP'), (1.0, 0.0, 2.0, 'rice', 'MOP'), (1.0, 0.0, 1.0, 'rice', 'MOP')} (3,1.0)\n",
      "{(1.0, 0.0, 2.0, 'rice', 'MOP')} -> {(0.0, 0.0, 3.0, 'rice', 'DAP'), (1.0, 0.0, 1.0, 'rice', 'DAP'), (1.0, 0.0, 1.0, 'rice', 'MOP')} (3,1.0)\n",
      "{(1.0, 0.0, 1.0, 'rice', 'MOP')} -> {(0.0, 0.0, 3.0, 'rice', 'DAP'), (1.0, 0.0, 1.0, 'rice', 'DAP'), (1.0, 0.0, 2.0, 'rice', 'MOP')} (3,1.0)\n",
      "{(0.0, 0.0, 3.0, 'rice', 'DAP'), (1.0, 0.0, 1.0, 'rice', 'DAP')} -> {(1.0, 0.0, 2.0, 'rice', 'MOP'), (1.0, 0.0, 1.0, 'rice', 'MOP')} (3,1.0)\n",
      "{(0.0, 0.0, 3.0, 'rice', 'DAP'), (1.0, 0.0, 2.0, 'rice', 'MOP')} -> {(1.0, 0.0, 1.0, 'rice', 'DAP'), (1.0, 0.0, 1.0, 'rice', 'MOP')} (3,1.0)\n",
      "{(0.0, 0.0, 3.0, 'rice', 'DAP'), (1.0, 0.0, 1.0, 'rice', 'MOP')} -> {(1.0, 0.0, 2.0, 'rice', 'MOP'), (1.0, 0.0, 1.0, 'rice', 'DAP')} (3,1.0)\n",
      "{(1.0, 0.0, 2.0, 'rice', 'MOP'), (1.0, 0.0, 1.0, 'rice', 'DAP')} -> {(0.0, 0.0, 3.0, 'rice', 'DAP'), (1.0, 0.0, 1.0, 'rice', 'MOP')} (3,1.0)\n",
      "{(1.0, 0.0, 1.0, 'rice', 'DAP'), (1.0, 0.0, 1.0, 'rice', 'MOP')} -> {(0.0, 0.0, 3.0, 'rice', 'DAP'), (1.0, 0.0, 2.0, 'rice', 'MOP')} (3,1.0)\n",
      "{(1.0, 0.0, 2.0, 'rice', 'MOP'), (1.0, 0.0, 1.0, 'rice', 'MOP')} -> {(0.0, 0.0, 3.0, 'rice', 'DAP'), (1.0, 0.0, 1.0, 'rice', 'DAP')} (3,1.0)\n",
      "{(0.0, 0.0, 3.0, 'rice', 'DAP'), (1.0, 0.0, 1.0, 'rice', 'DAP'), (1.0, 0.0, 2.0, 'rice', 'MOP')} -> {(1.0, 0.0, 1.0, 'rice', 'MOP')} (3,1.0)\n",
      "{(0.0, 0.0, 3.0, 'rice', 'DAP'), (1.0, 0.0, 1.0, 'rice', 'DAP'), (1.0, 0.0, 1.0, 'rice', 'MOP')} -> {(1.0, 0.0, 2.0, 'rice', 'MOP')} (3,1.0)\n",
      "{(0.0, 0.0, 3.0, 'rice', 'DAP'), (1.0, 0.0, 2.0, 'rice', 'MOP'), (1.0, 0.0, 1.0, 'rice', 'MOP')} -> {(1.0, 0.0, 1.0, 'rice', 'DAP')} (3,1.0)\n",
      "{(1.0, 0.0, 2.0, 'rice', 'MOP'), (1.0, 0.0, 1.0, 'rice', 'DAP'), (1.0, 0.0, 1.0, 'rice', 'MOP')} -> {(0.0, 0.0, 3.0, 'rice', 'DAP')} (3,1.0)\n",
      "{(2.0, 3.0, 0.0, 'Coconut', 'DAP')} -> {(1.0, 2.0, 0.0, 'Coconut', 'Urea'), (1.0, 0.0, 1.0, 'Coconut', 'MOP'), (1.0, 0.0, 1.0, 'Coconut', 'Urea')} (3,0.75)\n",
      "{(1.0, 2.0, 0.0, 'Coconut', 'Urea')} -> {(2.0, 3.0, 0.0, 'Coconut', 'DAP'), (1.0, 0.0, 1.0, 'Coconut', 'MOP'), (1.0, 0.0, 1.0, 'Coconut', 'Urea')} (3,0.75)\n",
      "{(1.0, 0.0, 1.0, 'Coconut', 'MOP')} -> {(2.0, 3.0, 0.0, 'Coconut', 'DAP'), (1.0, 2.0, 0.0, 'Coconut', 'Urea'), (1.0, 0.0, 1.0, 'Coconut', 'Urea')} (3,1.0)\n",
      "{(1.0, 0.0, 1.0, 'Coconut', 'Urea')} -> {(2.0, 3.0, 0.0, 'Coconut', 'DAP'), (1.0, 2.0, 0.0, 'Coconut', 'Urea'), (1.0, 0.0, 1.0, 'Coconut', 'MOP')} (3,1.0)\n",
      "{(2.0, 3.0, 0.0, 'Coconut', 'DAP'), (1.0, 2.0, 0.0, 'Coconut', 'Urea')} -> {(1.0, 0.0, 1.0, 'Coconut', 'MOP'), (1.0, 0.0, 1.0, 'Coconut', 'Urea')} (3,0.75)\n",
      "{(2.0, 3.0, 0.0, 'Coconut', 'DAP'), (1.0, 0.0, 1.0, 'Coconut', 'MOP')} -> {(1.0, 2.0, 0.0, 'Coconut', 'Urea'), (1.0, 0.0, 1.0, 'Coconut', 'Urea')} (3,1.0)\n",
      "{(2.0, 3.0, 0.0, 'Coconut', 'DAP'), (1.0, 0.0, 1.0, 'Coconut', 'Urea')} -> {(1.0, 2.0, 0.0, 'Coconut', 'Urea'), (1.0, 0.0, 1.0, 'Coconut', 'MOP')} (3,1.0)\n",
      "{(1.0, 2.0, 0.0, 'Coconut', 'Urea'), (1.0, 0.0, 1.0, 'Coconut', 'MOP')} -> {(2.0, 3.0, 0.0, 'Coconut', 'DAP'), (1.0, 0.0, 1.0, 'Coconut', 'Urea')} (3,1.0)\n",
      "{(1.0, 2.0, 0.0, 'Coconut', 'Urea'), (1.0, 0.0, 1.0, 'Coconut', 'Urea')} -> {(2.0, 3.0, 0.0, 'Coconut', 'DAP'), (1.0, 0.0, 1.0, 'Coconut', 'MOP')} (3,1.0)\n",
      "{(1.0, 0.0, 1.0, 'Coconut', 'MOP'), (1.0, 0.0, 1.0, 'Coconut', 'Urea')} -> {(2.0, 3.0, 0.0, 'Coconut', 'DAP'), (1.0, 2.0, 0.0, 'Coconut', 'Urea')} (3,1.0)\n",
      "{(2.0, 3.0, 0.0, 'Coconut', 'DAP'), (1.0, 2.0, 0.0, 'Coconut', 'Urea'), (1.0, 0.0, 1.0, 'Coconut', 'MOP')} -> {(1.0, 0.0, 1.0, 'Coconut', 'Urea')} (3,1.0)\n",
      "{(2.0, 3.0, 0.0, 'Coconut', 'DAP'), (1.0, 2.0, 0.0, 'Coconut', 'Urea'), (1.0, 0.0, 1.0, 'Coconut', 'Urea')} -> {(1.0, 0.0, 1.0, 'Coconut', 'MOP')} (3,1.0)\n",
      "{(2.0, 3.0, 0.0, 'Coconut', 'DAP'), (1.0, 0.0, 1.0, 'Coconut', 'MOP'), (1.0, 0.0, 1.0, 'Coconut', 'Urea')} -> {(1.0, 2.0, 0.0, 'Coconut', 'Urea')} (3,1.0)\n",
      "{(1.0, 2.0, 0.0, 'Coconut', 'Urea'), (1.0, 0.0, 1.0, 'Coconut', 'MOP'), (1.0, 0.0, 1.0, 'Coconut', 'Urea')} -> {(2.0, 3.0, 0.0, 'Coconut', 'DAP')} (3,1.0)\n",
      "{(1.0, 2.0, 0.0, 'Coconut', 'MOP')} -> {(1.0, 2.0, 0.0, 'Coconut', 'Urea'), (1.0, 0.0, 1.0, 'Coconut', 'MOP')} (3,1.0)\n",
      "{(1.0, 2.0, 0.0, 'Coconut', 'Urea')} -> {(1.0, 2.0, 0.0, 'Coconut', 'MOP'), (1.0, 0.0, 1.0, 'Coconut', 'MOP')} (3,0.75)\n",
      "{(1.0, 0.0, 1.0, 'Coconut', 'MOP')} -> {(1.0, 2.0, 0.0, 'Coconut', 'MOP'), (1.0, 2.0, 0.0, 'Coconut', 'Urea')} (3,1.0)\n",
      "{(1.0, 2.0, 0.0, 'Coconut', 'MOP'), (1.0, 2.0, 0.0, 'Coconut', 'Urea')} -> {(1.0, 0.0, 1.0, 'Coconut', 'MOP')} (3,1.0)\n",
      "{(1.0, 2.0, 0.0, 'Coconut', 'MOP'), (1.0, 0.0, 1.0, 'Coconut', 'MOP')} -> {(1.0, 2.0, 0.0, 'Coconut', 'Urea')} (3,1.0)\n",
      "{(1.0, 2.0, 0.0, 'Coconut', 'Urea'), (1.0, 0.0, 1.0, 'Coconut', 'MOP')} -> {(1.0, 2.0, 0.0, 'Coconut', 'MOP')} (3,1.0)\n",
      "{(2.0, 3.0, 0.0, 'Coconut', 'DAP')} -> {(1.0, 2.0, 0.0, 'Coconut', 'Urea'), (1.0, 0.0, 1.0, 'Coconut', 'MOP')} (3,0.75)\n",
      "{(1.0, 2.0, 0.0, 'Coconut', 'Urea')} -> {(2.0, 3.0, 0.0, 'Coconut', 'DAP'), (1.0, 0.0, 1.0, 'Coconut', 'MOP')} (3,0.75)\n",
      "{(1.0, 0.0, 1.0, 'Coconut', 'MOP')} -> {(2.0, 3.0, 0.0, 'Coconut', 'DAP'), (1.0, 2.0, 0.0, 'Coconut', 'Urea')} (3,1.0)\n",
      "{(2.0, 3.0, 0.0, 'Coconut', 'DAP'), (1.0, 2.0, 0.0, 'Coconut', 'Urea')} -> {(1.0, 0.0, 1.0, 'Coconut', 'MOP')} (3,0.75)\n",
      "{(2.0, 3.0, 0.0, 'Coconut', 'DAP'), (1.0, 0.0, 1.0, 'Coconut', 'MOP')} -> {(1.0, 2.0, 0.0, 'Coconut', 'Urea')} (3,1.0)\n",
      "{(1.0, 2.0, 0.0, 'Coconut', 'Urea'), (1.0, 0.0, 1.0, 'Coconut', 'MOP')} -> {(2.0, 3.0, 0.0, 'Coconut', 'DAP')} (3,1.0)\n",
      "{(1.0, 2.0, 0.0, 'Coconut', 'Urea')} -> {(1.0, 0.0, 1.0, 'Coconut', 'MOP'), (1.0, 0.0, 1.0, 'Coconut', 'Urea')} (3,0.75)\n",
      "{(1.0, 0.0, 1.0, 'Coconut', 'MOP')} -> {(1.0, 2.0, 0.0, 'Coconut', 'Urea'), (1.0, 0.0, 1.0, 'Coconut', 'Urea')} (3,1.0)\n",
      "{(1.0, 0.0, 1.0, 'Coconut', 'Urea')} -> {(1.0, 2.0, 0.0, 'Coconut', 'Urea'), (1.0, 0.0, 1.0, 'Coconut', 'MOP')} (3,1.0)\n",
      "{(1.0, 2.0, 0.0, 'Coconut', 'Urea'), (1.0, 0.0, 1.0, 'Coconut', 'MOP')} -> {(1.0, 0.0, 1.0, 'Coconut', 'Urea')} (3,1.0)\n",
      "{(1.0, 2.0, 0.0, 'Coconut', 'Urea'), (1.0, 0.0, 1.0, 'Coconut', 'Urea')} -> {(1.0, 0.0, 1.0, 'Coconut', 'MOP')} (3,1.0)\n",
      "{(1.0, 0.0, 1.0, 'Coconut', 'MOP'), (1.0, 0.0, 1.0, 'Coconut', 'Urea')} -> {(1.0, 2.0, 0.0, 'Coconut', 'Urea')} (3,1.0)\n",
      "{(2.0, 3.0, 0.0, 'Coconut', 'DAP')} -> {(1.0, 0.0, 1.0, 'Coconut', 'MOP'), (1.0, 0.0, 1.0, 'Coconut', 'Urea')} (3,0.75)\n",
      "{(1.0, 0.0, 1.0, 'Coconut', 'MOP')} -> {(2.0, 3.0, 0.0, 'Coconut', 'DAP'), (1.0, 0.0, 1.0, 'Coconut', 'Urea')} (3,1.0)\n",
      "{(1.0, 0.0, 1.0, 'Coconut', 'Urea')} -> {(2.0, 3.0, 0.0, 'Coconut', 'DAP'), (1.0, 0.0, 1.0, 'Coconut', 'MOP')} (3,1.0)\n",
      "{(2.0, 3.0, 0.0, 'Coconut', 'DAP'), (1.0, 0.0, 1.0, 'Coconut', 'MOP')} -> {(1.0, 0.0, 1.0, 'Coconut', 'Urea')} (3,1.0)\n",
      "{(2.0, 3.0, 0.0, 'Coconut', 'DAP'), (1.0, 0.0, 1.0, 'Coconut', 'Urea')} -> {(1.0, 0.0, 1.0, 'Coconut', 'MOP')} (3,1.0)\n",
      "{(1.0, 0.0, 1.0, 'Coconut', 'MOP'), (1.0, 0.0, 1.0, 'Coconut', 'Urea')} -> {(2.0, 3.0, 0.0, 'Coconut', 'DAP')} (3,1.0)\n",
      "{(2.0, 3.0, 0.0, 'Coconut', 'DAP')} -> {(1.0, 2.0, 0.0, 'Coconut', 'Urea'), (2.0, 2.0, 0.0, 'Coconut', 'Urea'), (1.0, 0.0, 1.0, 'Coconut', 'Urea')} (3,0.75)\n",
      "{(1.0, 2.0, 0.0, 'Coconut', 'Urea')} -> {(2.0, 3.0, 0.0, 'Coconut', 'DAP'), (2.0, 2.0, 0.0, 'Coconut', 'Urea'), (1.0, 0.0, 1.0, 'Coconut', 'Urea')} (3,0.75)\n",
      "{(2.0, 2.0, 0.0, 'Coconut', 'Urea')} -> {(2.0, 3.0, 0.0, 'Coconut', 'DAP'), (1.0, 2.0, 0.0, 'Coconut', 'Urea'), (1.0, 0.0, 1.0, 'Coconut', 'Urea')} (3,1.0)\n",
      "{(1.0, 0.0, 1.0, 'Coconut', 'Urea')} -> {(2.0, 3.0, 0.0, 'Coconut', 'DAP'), (1.0, 2.0, 0.0, 'Coconut', 'Urea'), (2.0, 2.0, 0.0, 'Coconut', 'Urea')} (3,1.0)\n",
      "{(2.0, 3.0, 0.0, 'Coconut', 'DAP'), (1.0, 2.0, 0.0, 'Coconut', 'Urea')} -> {(2.0, 2.0, 0.0, 'Coconut', 'Urea'), (1.0, 0.0, 1.0, 'Coconut', 'Urea')} (3,0.75)\n",
      "{(2.0, 3.0, 0.0, 'Coconut', 'DAP'), (2.0, 2.0, 0.0, 'Coconut', 'Urea')} -> {(1.0, 2.0, 0.0, 'Coconut', 'Urea'), (1.0, 0.0, 1.0, 'Coconut', 'Urea')} (3,1.0)\n",
      "{(2.0, 3.0, 0.0, 'Coconut', 'DAP'), (1.0, 0.0, 1.0, 'Coconut', 'Urea')} -> {(1.0, 2.0, 0.0, 'Coconut', 'Urea'), (2.0, 2.0, 0.0, 'Coconut', 'Urea')} (3,1.0)\n",
      "{(1.0, 2.0, 0.0, 'Coconut', 'Urea'), (2.0, 2.0, 0.0, 'Coconut', 'Urea')} -> {(2.0, 3.0, 0.0, 'Coconut', 'DAP'), (1.0, 0.0, 1.0, 'Coconut', 'Urea')} (3,1.0)\n",
      "{(1.0, 2.0, 0.0, 'Coconut', 'Urea'), (1.0, 0.0, 1.0, 'Coconut', 'Urea')} -> {(2.0, 3.0, 0.0, 'Coconut', 'DAP'), (2.0, 2.0, 0.0, 'Coconut', 'Urea')} (3,1.0)\n",
      "{(2.0, 2.0, 0.0, 'Coconut', 'Urea'), (1.0, 0.0, 1.0, 'Coconut', 'Urea')} -> {(2.0, 3.0, 0.0, 'Coconut', 'DAP'), (1.0, 2.0, 0.0, 'Coconut', 'Urea')} (3,1.0)\n",
      "{(2.0, 3.0, 0.0, 'Coconut', 'DAP'), (1.0, 2.0, 0.0, 'Coconut', 'Urea'), (2.0, 2.0, 0.0, 'Coconut', 'Urea')} -> {(1.0, 0.0, 1.0, 'Coconut', 'Urea')} (3,1.0)\n",
      "{(2.0, 3.0, 0.0, 'Coconut', 'DAP'), (1.0, 2.0, 0.0, 'Coconut', 'Urea'), (1.0, 0.0, 1.0, 'Coconut', 'Urea')} -> {(2.0, 2.0, 0.0, 'Coconut', 'Urea')} (3,1.0)\n",
      "{(2.0, 3.0, 0.0, 'Coconut', 'DAP'), (2.0, 2.0, 0.0, 'Coconut', 'Urea'), (1.0, 0.0, 1.0, 'Coconut', 'Urea')} -> {(1.0, 2.0, 0.0, 'Coconut', 'Urea')} (3,1.0)\n",
      "{(1.0, 2.0, 0.0, 'Coconut', 'Urea'), (2.0, 2.0, 0.0, 'Coconut', 'Urea'), (1.0, 0.0, 1.0, 'Coconut', 'Urea')} -> {(2.0, 3.0, 0.0, 'Coconut', 'DAP')} (3,1.0)\n",
      "{(2.0, 3.0, 0.0, 'Coconut', 'DAP')} -> {(2.0, 2.0, 0.0, 'Coconut', 'Urea'), (1.0, 0.0, 1.0, 'Coconut', 'Urea')} (3,0.75)\n",
      "{(2.0, 2.0, 0.0, 'Coconut', 'Urea')} -> {(2.0, 3.0, 0.0, 'Coconut', 'DAP'), (1.0, 0.0, 1.0, 'Coconut', 'Urea')} (3,1.0)\n",
      "{(1.0, 0.0, 1.0, 'Coconut', 'Urea')} -> {(2.0, 3.0, 0.0, 'Coconut', 'DAP'), (2.0, 2.0, 0.0, 'Coconut', 'Urea')} (3,1.0)\n",
      "{(2.0, 3.0, 0.0, 'Coconut', 'DAP'), (2.0, 2.0, 0.0, 'Coconut', 'Urea')} -> {(1.0, 0.0, 1.0, 'Coconut', 'Urea')} (3,1.0)\n",
      "{(2.0, 3.0, 0.0, 'Coconut', 'DAP'), (1.0, 0.0, 1.0, 'Coconut', 'Urea')} -> {(2.0, 2.0, 0.0, 'Coconut', 'Urea')} (3,1.0)\n",
      "{(2.0, 2.0, 0.0, 'Coconut', 'Urea'), (1.0, 0.0, 1.0, 'Coconut', 'Urea')} -> {(2.0, 3.0, 0.0, 'Coconut', 'DAP')} (3,1.0)\n",
      "{(2.0, 3.0, 0.0, 'Coconut', 'DAP')} -> {(1.0, 2.0, 0.0, 'Coconut', 'Urea'), (1.0, 0.0, 1.0, 'Coconut', 'Urea')} (3,0.75)\n",
      "{(1.0, 2.0, 0.0, 'Coconut', 'Urea')} -> {(2.0, 3.0, 0.0, 'Coconut', 'DAP'), (1.0, 0.0, 1.0, 'Coconut', 'Urea')} (3,0.75)\n",
      "{(1.0, 0.0, 1.0, 'Coconut', 'Urea')} -> {(2.0, 3.0, 0.0, 'Coconut', 'DAP'), (1.0, 2.0, 0.0, 'Coconut', 'Urea')} (3,1.0)\n",
      "{(2.0, 3.0, 0.0, 'Coconut', 'DAP'), (1.0, 2.0, 0.0, 'Coconut', 'Urea')} -> {(1.0, 0.0, 1.0, 'Coconut', 'Urea')} (3,0.75)\n",
      "{(2.0, 3.0, 0.0, 'Coconut', 'DAP'), (1.0, 0.0, 1.0, 'Coconut', 'Urea')} -> {(1.0, 2.0, 0.0, 'Coconut', 'Urea')} (3,1.0)\n",
      "{(1.0, 2.0, 0.0, 'Coconut', 'Urea'), (1.0, 0.0, 1.0, 'Coconut', 'Urea')} -> {(2.0, 3.0, 0.0, 'Coconut', 'DAP')} (3,1.0)\n",
      "{(2.0, 3.0, 0.0, 'Coconut', 'DAP')} -> {(1.0, 2.0, 0.0, 'Coconut', 'Urea'), (1.0, 3.0, 1.0, 'Coconut', 'DAP')} (3,0.75)\n",
      "{(1.0, 2.0, 0.0, 'Coconut', 'Urea')} -> {(2.0, 3.0, 0.0, 'Coconut', 'DAP'), (1.0, 3.0, 1.0, 'Coconut', 'DAP')} (3,0.75)\n",
      "{(1.0, 3.0, 1.0, 'Coconut', 'DAP')} -> {(2.0, 3.0, 0.0, 'Coconut', 'DAP'), (1.0, 2.0, 0.0, 'Coconut', 'Urea')} (3,1.0)\n",
      "{(2.0, 3.0, 0.0, 'Coconut', 'DAP'), (1.0, 2.0, 0.0, 'Coconut', 'Urea')} -> {(1.0, 3.0, 1.0, 'Coconut', 'DAP')} (3,0.75)\n",
      "{(2.0, 3.0, 0.0, 'Coconut', 'DAP'), (1.0, 3.0, 1.0, 'Coconut', 'DAP')} -> {(1.0, 2.0, 0.0, 'Coconut', 'Urea')} (3,1.0)\n",
      "{(1.0, 2.0, 0.0, 'Coconut', 'Urea'), (1.0, 3.0, 1.0, 'Coconut', 'DAP')} -> {(2.0, 3.0, 0.0, 'Coconut', 'DAP')} (3,1.0)\n",
      "{(0.0, 0.0, 3.0, 'rice', 'DAP')} -> {(1.0, 0.0, 2.0, 'rice', 'MOP'), (1.0, 0.0, 1.0, 'rice', 'DAP'), (0.0, 0.0, 2.0, 'rice', 'Urea')} (3,1.0)\n",
      "{(1.0, 0.0, 1.0, 'rice', 'DAP')} -> {(0.0, 0.0, 3.0, 'rice', 'DAP'), (1.0, 0.0, 2.0, 'rice', 'MOP'), (0.0, 0.0, 2.0, 'rice', 'Urea')} (3,1.0)\n",
      "{(1.0, 0.0, 2.0, 'rice', 'MOP')} -> {(0.0, 0.0, 3.0, 'rice', 'DAP'), (1.0, 0.0, 1.0, 'rice', 'DAP'), (0.0, 0.0, 2.0, 'rice', 'Urea')} (3,1.0)\n",
      "{(0.0, 0.0, 2.0, 'rice', 'Urea')} -> {(0.0, 0.0, 3.0, 'rice', 'DAP'), (1.0, 0.0, 1.0, 'rice', 'DAP'), (1.0, 0.0, 2.0, 'rice', 'MOP')} (3,1.0)\n",
      "{(0.0, 0.0, 3.0, 'rice', 'DAP'), (1.0, 0.0, 1.0, 'rice', 'DAP')} -> {(1.0, 0.0, 2.0, 'rice', 'MOP'), (0.0, 0.0, 2.0, 'rice', 'Urea')} (3,1.0)\n",
      "{(0.0, 0.0, 3.0, 'rice', 'DAP'), (1.0, 0.0, 2.0, 'rice', 'MOP')} -> {(0.0, 0.0, 2.0, 'rice', 'Urea'), (1.0, 0.0, 1.0, 'rice', 'DAP')} (3,1.0)\n",
      "{(0.0, 0.0, 3.0, 'rice', 'DAP'), (0.0, 0.0, 2.0, 'rice', 'Urea')} -> {(1.0, 0.0, 2.0, 'rice', 'MOP'), (1.0, 0.0, 1.0, 'rice', 'DAP')} (3,1.0)\n",
      "{(1.0, 0.0, 2.0, 'rice', 'MOP'), (1.0, 0.0, 1.0, 'rice', 'DAP')} -> {(0.0, 0.0, 3.0, 'rice', 'DAP'), (0.0, 0.0, 2.0, 'rice', 'Urea')} (3,1.0)\n",
      "{(0.0, 0.0, 2.0, 'rice', 'Urea'), (1.0, 0.0, 1.0, 'rice', 'DAP')} -> {(0.0, 0.0, 3.0, 'rice', 'DAP'), (1.0, 0.0, 2.0, 'rice', 'MOP')} (3,1.0)\n",
      "{(1.0, 0.0, 2.0, 'rice', 'MOP'), (0.0, 0.0, 2.0, 'rice', 'Urea')} -> {(0.0, 0.0, 3.0, 'rice', 'DAP'), (1.0, 0.0, 1.0, 'rice', 'DAP')} (3,1.0)\n",
      "{(0.0, 0.0, 3.0, 'rice', 'DAP'), (1.0, 0.0, 1.0, 'rice', 'DAP'), (1.0, 0.0, 2.0, 'rice', 'MOP')} -> {(0.0, 0.0, 2.0, 'rice', 'Urea')} (3,1.0)\n",
      "{(0.0, 0.0, 3.0, 'rice', 'DAP'), (1.0, 0.0, 1.0, 'rice', 'DAP'), (0.0, 0.0, 2.0, 'rice', 'Urea')} -> {(1.0, 0.0, 2.0, 'rice', 'MOP')} (3,1.0)\n",
      "{(0.0, 0.0, 3.0, 'rice', 'DAP'), (1.0, 0.0, 2.0, 'rice', 'MOP'), (0.0, 0.0, 2.0, 'rice', 'Urea')} -> {(1.0, 0.0, 1.0, 'rice', 'DAP')} (3,1.0)\n",
      "{(1.0, 0.0, 2.0, 'rice', 'MOP'), (1.0, 0.0, 1.0, 'rice', 'DAP'), (0.0, 0.0, 2.0, 'rice', 'Urea')} -> {(0.0, 0.0, 3.0, 'rice', 'DAP')} (3,1.0)\n",
      "{(0.0, 0.0, 3.0, 'rice', 'DAP')} -> {(1.0, 0.0, 1.0, 'rice', 'DAP'), (1.0, 0.0, 2.0, 'rice', 'Urea')} (3,1.0)\n",
      "{(1.0, 0.0, 1.0, 'rice', 'DAP')} -> {(0.0, 0.0, 3.0, 'rice', 'DAP'), (1.0, 0.0, 2.0, 'rice', 'Urea')} (3,1.0)\n",
      "{(1.0, 0.0, 2.0, 'rice', 'Urea')} -> {(0.0, 0.0, 3.0, 'rice', 'DAP'), (1.0, 0.0, 1.0, 'rice', 'DAP')} (3,1.0)\n",
      "{(0.0, 0.0, 3.0, 'rice', 'DAP'), (1.0, 0.0, 1.0, 'rice', 'DAP')} -> {(1.0, 0.0, 2.0, 'rice', 'Urea')} (3,1.0)\n",
      "{(0.0, 0.0, 3.0, 'rice', 'DAP'), (1.0, 0.0, 2.0, 'rice', 'Urea')} -> {(1.0, 0.0, 1.0, 'rice', 'DAP')} (3,1.0)\n",
      "{(1.0, 0.0, 1.0, 'rice', 'DAP'), (1.0, 0.0, 2.0, 'rice', 'Urea')} -> {(0.0, 0.0, 3.0, 'rice', 'DAP')} (3,1.0)\n",
      "{(0.0, 0.0, 3.0, 'rice', 'DAP')} -> {(0.0, 0.0, 2.0, 'rice', 'Urea'), (1.0, 0.0, 1.0, 'rice', 'DAP')} (3,1.0)\n",
      "{(1.0, 0.0, 1.0, 'rice', 'DAP')} -> {(0.0, 0.0, 3.0, 'rice', 'DAP'), (0.0, 0.0, 2.0, 'rice', 'Urea')} (3,1.0)\n",
      "{(0.0, 0.0, 2.0, 'rice', 'Urea')} -> {(0.0, 0.0, 3.0, 'rice', 'DAP'), (1.0, 0.0, 1.0, 'rice', 'DAP')} (3,1.0)\n",
      "{(0.0, 0.0, 3.0, 'rice', 'DAP'), (1.0, 0.0, 1.0, 'rice', 'DAP')} -> {(0.0, 0.0, 2.0, 'rice', 'Urea')} (3,1.0)\n",
      "{(0.0, 0.0, 3.0, 'rice', 'DAP'), (0.0, 0.0, 2.0, 'rice', 'Urea')} -> {(1.0, 0.0, 1.0, 'rice', 'DAP')} (3,1.0)\n",
      "{(0.0, 0.0, 2.0, 'rice', 'Urea'), (1.0, 0.0, 1.0, 'rice', 'DAP')} -> {(0.0, 0.0, 3.0, 'rice', 'DAP')} (3,1.0)\n",
      "{(0.0, 0.0, 3.0, 'rice', 'DAP')} -> {(1.0, 0.0, 2.0, 'rice', 'MOP'), (1.0, 0.0, 1.0, 'rice', 'DAP')} (3,1.0)\n",
      "{(1.0, 0.0, 1.0, 'rice', 'DAP')} -> {(0.0, 0.0, 3.0, 'rice', 'DAP'), (1.0, 0.0, 2.0, 'rice', 'MOP')} (3,1.0)\n",
      "{(1.0, 0.0, 2.0, 'rice', 'MOP')} -> {(0.0, 0.0, 3.0, 'rice', 'DAP'), (1.0, 0.0, 1.0, 'rice', 'DAP')} (3,1.0)\n",
      "{(0.0, 0.0, 3.0, 'rice', 'DAP'), (1.0, 0.0, 1.0, 'rice', 'DAP')} -> {(1.0, 0.0, 2.0, 'rice', 'MOP')} (3,1.0)\n",
      "{(0.0, 0.0, 3.0, 'rice', 'DAP'), (1.0, 0.0, 2.0, 'rice', 'MOP')} -> {(1.0, 0.0, 1.0, 'rice', 'DAP')} (3,1.0)\n",
      "{(1.0, 0.0, 2.0, 'rice', 'MOP'), (1.0, 0.0, 1.0, 'rice', 'DAP')} -> {(0.0, 0.0, 3.0, 'rice', 'DAP')} (3,1.0)\n",
      "{(0.0, 0.0, 3.0, 'rice', 'DAP')} -> {(0.0, 0.0, 2.0, 'rice', 'Urea'), (1.0, 0.0, 1.0, 'rice', 'DAP'), (1.0, 0.0, 1.0, 'rice', 'MOP')} (3,1.0)\n",
      "{(1.0, 0.0, 1.0, 'rice', 'DAP')} -> {(0.0, 0.0, 3.0, 'rice', 'DAP'), (0.0, 0.0, 2.0, 'rice', 'Urea'), (1.0, 0.0, 1.0, 'rice', 'MOP')} (3,1.0)\n",
      "{(1.0, 0.0, 1.0, 'rice', 'MOP')} -> {(0.0, 0.0, 3.0, 'rice', 'DAP'), (1.0, 0.0, 1.0, 'rice', 'DAP'), (0.0, 0.0, 2.0, 'rice', 'Urea')} (3,1.0)\n",
      "{(0.0, 0.0, 2.0, 'rice', 'Urea')} -> {(0.0, 0.0, 3.0, 'rice', 'DAP'), (1.0, 0.0, 1.0, 'rice', 'DAP'), (1.0, 0.0, 1.0, 'rice', 'MOP')} (3,1.0)\n",
      "{(0.0, 0.0, 3.0, 'rice', 'DAP'), (1.0, 0.0, 1.0, 'rice', 'DAP')} -> {(0.0, 0.0, 2.0, 'rice', 'Urea'), (1.0, 0.0, 1.0, 'rice', 'MOP')} (3,1.0)\n",
      "{(0.0, 0.0, 3.0, 'rice', 'DAP'), (1.0, 0.0, 1.0, 'rice', 'MOP')} -> {(0.0, 0.0, 2.0, 'rice', 'Urea'), (1.0, 0.0, 1.0, 'rice', 'DAP')} (3,1.0)\n",
      "{(0.0, 0.0, 3.0, 'rice', 'DAP'), (0.0, 0.0, 2.0, 'rice', 'Urea')} -> {(1.0, 0.0, 1.0, 'rice', 'DAP'), (1.0, 0.0, 1.0, 'rice', 'MOP')} (3,1.0)\n",
      "{(1.0, 0.0, 1.0, 'rice', 'DAP'), (1.0, 0.0, 1.0, 'rice', 'MOP')} -> {(0.0, 0.0, 3.0, 'rice', 'DAP'), (0.0, 0.0, 2.0, 'rice', 'Urea')} (3,1.0)\n",
      "{(0.0, 0.0, 2.0, 'rice', 'Urea'), (1.0, 0.0, 1.0, 'rice', 'DAP')} -> {(0.0, 0.0, 3.0, 'rice', 'DAP'), (1.0, 0.0, 1.0, 'rice', 'MOP')} (3,1.0)\n",
      "{(0.0, 0.0, 2.0, 'rice', 'Urea'), (1.0, 0.0, 1.0, 'rice', 'MOP')} -> {(0.0, 0.0, 3.0, 'rice', 'DAP'), (1.0, 0.0, 1.0, 'rice', 'DAP')} (3,1.0)\n",
      "{(0.0, 0.0, 3.0, 'rice', 'DAP'), (1.0, 0.0, 1.0, 'rice', 'DAP'), (1.0, 0.0, 1.0, 'rice', 'MOP')} -> {(0.0, 0.0, 2.0, 'rice', 'Urea')} (3,1.0)\n",
      "{(0.0, 0.0, 3.0, 'rice', 'DAP'), (1.0, 0.0, 1.0, 'rice', 'DAP'), (0.0, 0.0, 2.0, 'rice', 'Urea')} -> {(1.0, 0.0, 1.0, 'rice', 'MOP')} (3,1.0)\n",
      "{(0.0, 0.0, 3.0, 'rice', 'DAP'), (0.0, 0.0, 2.0, 'rice', 'Urea'), (1.0, 0.0, 1.0, 'rice', 'MOP')} -> {(1.0, 0.0, 1.0, 'rice', 'DAP')} (3,1.0)\n",
      "{(0.0, 0.0, 2.0, 'rice', 'Urea'), (1.0, 0.0, 1.0, 'rice', 'DAP'), (1.0, 0.0, 1.0, 'rice', 'MOP')} -> {(0.0, 0.0, 3.0, 'rice', 'DAP')} (3,1.0)\n",
      "{(1.0, 0.0, 2.0, 'rice', 'MOP')} -> {(0.0, 0.0, 2.0, 'rice', 'Urea'), (1.0, 0.0, 1.0, 'rice', 'MOP')} (3,1.0)\n",
      "{(1.0, 0.0, 1.0, 'rice', 'MOP')} -> {(1.0, 0.0, 2.0, 'rice', 'MOP'), (0.0, 0.0, 2.0, 'rice', 'Urea')} (3,1.0)\n",
      "{(0.0, 0.0, 2.0, 'rice', 'Urea')} -> {(1.0, 0.0, 2.0, 'rice', 'MOP'), (1.0, 0.0, 1.0, 'rice', 'MOP')} (3,1.0)\n",
      "{(1.0, 0.0, 2.0, 'rice', 'MOP'), (1.0, 0.0, 1.0, 'rice', 'MOP')} -> {(0.0, 0.0, 2.0, 'rice', 'Urea')} (3,1.0)\n",
      "{(1.0, 0.0, 2.0, 'rice', 'MOP'), (0.0, 0.0, 2.0, 'rice', 'Urea')} -> {(1.0, 0.0, 1.0, 'rice', 'MOP')} (3,1.0)\n",
      "{(0.0, 0.0, 2.0, 'rice', 'Urea'), (1.0, 0.0, 1.0, 'rice', 'MOP')} -> {(1.0, 0.0, 2.0, 'rice', 'MOP')} (3,1.0)\n",
      "{(1.0, 2.0, 0.0, 'Coconut', 'MOP')} -> {(2.0, 3.0, 0.0, 'Coconut', 'DAP'), (1.0, 0.0, 1.0, 'Coconut', 'MOP')} (3,1.0)\n",
      "{(2.0, 3.0, 0.0, 'Coconut', 'DAP')} -> {(1.0, 2.0, 0.0, 'Coconut', 'MOP'), (1.0, 0.0, 1.0, 'Coconut', 'MOP')} (3,0.75)\n",
      "{(1.0, 0.0, 1.0, 'Coconut', 'MOP')} -> {(1.0, 2.0, 0.0, 'Coconut', 'MOP'), (2.0, 3.0, 0.0, 'Coconut', 'DAP')} (3,1.0)\n",
      "{(1.0, 2.0, 0.0, 'Coconut', 'MOP'), (2.0, 3.0, 0.0, 'Coconut', 'DAP')} -> {(1.0, 0.0, 1.0, 'Coconut', 'MOP')} (3,1.0)\n",
      "{(1.0, 2.0, 0.0, 'Coconut', 'MOP'), (1.0, 0.0, 1.0, 'Coconut', 'MOP')} -> {(2.0, 3.0, 0.0, 'Coconut', 'DAP')} (3,1.0)\n",
      "{(2.0, 3.0, 0.0, 'Coconut', 'DAP'), (1.0, 0.0, 1.0, 'Coconut', 'MOP')} -> {(1.0, 2.0, 0.0, 'Coconut', 'MOP')} (3,1.0)\n",
      "{(2.0, 3.0, 0.0, 'Coconut', 'DAP')} -> {(2.0, 3.0, 1.0, 'Coconut', 'DAP'), (2.0, 2.0, 0.0, 'Coconut', 'Good NPK')} (3,0.75)\n",
      "{(2.0, 3.0, 1.0, 'Coconut', 'DAP')} -> {(2.0, 3.0, 0.0, 'Coconut', 'DAP'), (2.0, 2.0, 0.0, 'Coconut', 'Good NPK')} (3,1.0)\n",
      "{(2.0, 2.0, 0.0, 'Coconut', 'Good NPK')} -> {(2.0, 3.0, 0.0, 'Coconut', 'DAP'), (2.0, 3.0, 1.0, 'Coconut', 'DAP')} (3,1.0)\n",
      "{(2.0, 3.0, 0.0, 'Coconut', 'DAP'), (2.0, 3.0, 1.0, 'Coconut', 'DAP')} -> {(2.0, 2.0, 0.0, 'Coconut', 'Good NPK')} (3,1.0)\n",
      "{(2.0, 3.0, 0.0, 'Coconut', 'DAP'), (2.0, 2.0, 0.0, 'Coconut', 'Good NPK')} -> {(2.0, 3.0, 1.0, 'Coconut', 'DAP')} (3,1.0)\n",
      "{(2.0, 3.0, 1.0, 'Coconut', 'DAP'), (2.0, 2.0, 0.0, 'Coconut', 'Good NPK')} -> {(2.0, 3.0, 0.0, 'Coconut', 'DAP')} (3,1.0)\n",
      "{(2.0, 3.0, 0.0, 'Coconut', 'DAP')} -> {(2.0, 3.0, 1.0, 'Coconut', 'DAP'), (1.0, 3.0, 1.0, 'Coconut', 'DAP')} (3,0.75)\n",
      "{(2.0, 3.0, 1.0, 'Coconut', 'DAP')} -> {(2.0, 3.0, 0.0, 'Coconut', 'DAP'), (1.0, 3.0, 1.0, 'Coconut', 'DAP')} (3,1.0)\n",
      "{(1.0, 3.0, 1.0, 'Coconut', 'DAP')} -> {(2.0, 3.0, 0.0, 'Coconut', 'DAP'), (2.0, 3.0, 1.0, 'Coconut', 'DAP')} (3,1.0)\n",
      "{(2.0, 3.0, 0.0, 'Coconut', 'DAP'), (2.0, 3.0, 1.0, 'Coconut', 'DAP')} -> {(1.0, 3.0, 1.0, 'Coconut', 'DAP')} (3,1.0)\n",
      "{(2.0, 3.0, 0.0, 'Coconut', 'DAP'), (1.0, 3.0, 1.0, 'Coconut', 'DAP')} -> {(2.0, 3.0, 1.0, 'Coconut', 'DAP')} (3,1.0)\n",
      "{(2.0, 3.0, 1.0, 'Coconut', 'DAP'), (1.0, 3.0, 1.0, 'Coconut', 'DAP')} -> {(2.0, 3.0, 0.0, 'Coconut', 'DAP')} (3,1.0)\n",
      "{(2.0, 3.0, 0.0, 'Coconut', 'DAP')} -> {(2.0, 3.0, 1.0, 'Coconut', 'DAP'), (1.0, 2.0, 0.0, 'Coconut', 'Urea')} (3,0.75)\n",
      "{(2.0, 3.0, 1.0, 'Coconut', 'DAP')} -> {(2.0, 3.0, 0.0, 'Coconut', 'DAP'), (1.0, 2.0, 0.0, 'Coconut', 'Urea')} (3,1.0)\n",
      "{(1.0, 2.0, 0.0, 'Coconut', 'Urea')} -> {(2.0, 3.0, 0.0, 'Coconut', 'DAP'), (2.0, 3.0, 1.0, 'Coconut', 'DAP')} (3,0.75)\n",
      "{(2.0, 3.0, 0.0, 'Coconut', 'DAP'), (2.0, 3.0, 1.0, 'Coconut', 'DAP')} -> {(1.0, 2.0, 0.0, 'Coconut', 'Urea')} (3,1.0)\n",
      "{(2.0, 3.0, 0.0, 'Coconut', 'DAP'), (1.0, 2.0, 0.0, 'Coconut', 'Urea')} -> {(2.0, 3.0, 1.0, 'Coconut', 'DAP')} (3,0.75)\n",
      "{(2.0, 3.0, 1.0, 'Coconut', 'DAP'), (1.0, 2.0, 0.0, 'Coconut', 'Urea')} -> {(2.0, 3.0, 0.0, 'Coconut', 'DAP')} (3,1.0)\n",
      "{(0.0, 0.0, 3.0, 'rice', 'DAP')} -> {(1.0, 0.0, 2.0, 'rice', 'MOP'), (1.0, 0.0, 1.0, 'rice', 'DAP'), (1.0, 0.0, 2.0, 'rice', 'Urea')} (3,1.0)\n",
      "{(1.0, 0.0, 1.0, 'rice', 'DAP')} -> {(0.0, 0.0, 3.0, 'rice', 'DAP'), (1.0, 0.0, 2.0, 'rice', 'Urea'), (1.0, 0.0, 2.0, 'rice', 'MOP')} (3,1.0)\n",
      "{(1.0, 0.0, 2.0, 'rice', 'MOP')} -> {(0.0, 0.0, 3.0, 'rice', 'DAP'), (1.0, 0.0, 1.0, 'rice', 'DAP'), (1.0, 0.0, 2.0, 'rice', 'Urea')} (3,1.0)\n",
      "{(1.0, 0.0, 2.0, 'rice', 'Urea')} -> {(0.0, 0.0, 3.0, 'rice', 'DAP'), (1.0, 0.0, 1.0, 'rice', 'DAP'), (1.0, 0.0, 2.0, 'rice', 'MOP')} (3,1.0)\n",
      "{(0.0, 0.0, 3.0, 'rice', 'DAP'), (1.0, 0.0, 1.0, 'rice', 'DAP')} -> {(1.0, 0.0, 2.0, 'rice', 'MOP'), (1.0, 0.0, 2.0, 'rice', 'Urea')} (3,1.0)\n",
      "{(0.0, 0.0, 3.0, 'rice', 'DAP'), (1.0, 0.0, 2.0, 'rice', 'MOP')} -> {(1.0, 0.0, 1.0, 'rice', 'DAP'), (1.0, 0.0, 2.0, 'rice', 'Urea')} (3,1.0)\n",
      "{(0.0, 0.0, 3.0, 'rice', 'DAP'), (1.0, 0.0, 2.0, 'rice', 'Urea')} -> {(1.0, 0.0, 2.0, 'rice', 'MOP'), (1.0, 0.0, 1.0, 'rice', 'DAP')} (3,1.0)\n",
      "{(1.0, 0.0, 2.0, 'rice', 'MOP'), (1.0, 0.0, 1.0, 'rice', 'DAP')} -> {(0.0, 0.0, 3.0, 'rice', 'DAP'), (1.0, 0.0, 2.0, 'rice', 'Urea')} (3,1.0)\n",
      "{(1.0, 0.0, 1.0, 'rice', 'DAP'), (1.0, 0.0, 2.0, 'rice', 'Urea')} -> {(0.0, 0.0, 3.0, 'rice', 'DAP'), (1.0, 0.0, 2.0, 'rice', 'MOP')} (3,1.0)\n",
      "{(1.0, 0.0, 2.0, 'rice', 'MOP'), (1.0, 0.0, 2.0, 'rice', 'Urea')} -> {(0.0, 0.0, 3.0, 'rice', 'DAP'), (1.0, 0.0, 1.0, 'rice', 'DAP')} (3,1.0)\n",
      "{(0.0, 0.0, 3.0, 'rice', 'DAP'), (1.0, 0.0, 1.0, 'rice', 'DAP'), (1.0, 0.0, 2.0, 'rice', 'MOP')} -> {(1.0, 0.0, 2.0, 'rice', 'Urea')} (3,1.0)\n",
      "{(0.0, 0.0, 3.0, 'rice', 'DAP'), (1.0, 0.0, 1.0, 'rice', 'DAP'), (1.0, 0.0, 2.0, 'rice', 'Urea')} -> {(1.0, 0.0, 2.0, 'rice', 'MOP')} (3,1.0)\n",
      "{(0.0, 0.0, 3.0, 'rice', 'DAP'), (1.0, 0.0, 2.0, 'rice', 'Urea'), (1.0, 0.0, 2.0, 'rice', 'MOP')} -> {(1.0, 0.0, 1.0, 'rice', 'DAP')} (3,1.0)\n",
      "{(1.0, 0.0, 2.0, 'rice', 'MOP'), (1.0, 0.0, 1.0, 'rice', 'DAP'), (1.0, 0.0, 2.0, 'rice', 'Urea')} -> {(0.0, 0.0, 3.0, 'rice', 'DAP')} (3,1.0)\n",
      "{(2.0, 3.0, 0.0, 'Coconut', 'DAP')} -> {(2.0, 2.0, 0.0, 'Coconut', 'MOP'), (1.0, 2.0, 0.0, 'Coconut', 'Urea')} (3,0.75)\n",
      "{(2.0, 2.0, 0.0, 'Coconut', 'MOP')} -> {(2.0, 3.0, 0.0, 'Coconut', 'DAP'), (1.0, 2.0, 0.0, 'Coconut', 'Urea')} (3,1.0)\n",
      "{(1.0, 2.0, 0.0, 'Coconut', 'Urea')} -> {(2.0, 3.0, 0.0, 'Coconut', 'DAP'), (2.0, 2.0, 0.0, 'Coconut', 'MOP')} (3,0.75)\n",
      "{(2.0, 3.0, 0.0, 'Coconut', 'DAP'), (2.0, 2.0, 0.0, 'Coconut', 'MOP')} -> {(1.0, 2.0, 0.0, 'Coconut', 'Urea')} (3,1.0)\n",
      "{(2.0, 3.0, 0.0, 'Coconut', 'DAP'), (1.0, 2.0, 0.0, 'Coconut', 'Urea')} -> {(2.0, 2.0, 0.0, 'Coconut', 'MOP')} (3,0.75)\n",
      "{(2.0, 2.0, 0.0, 'Coconut', 'MOP'), (1.0, 2.0, 0.0, 'Coconut', 'Urea')} -> {(2.0, 3.0, 0.0, 'Coconut', 'DAP')} (3,1.0)\n",
      "{(2.0, 3.0, 0.0, 'Coconut', 'DAP')} -> {(1.0, 2.0, 0.0, 'Coconut', 'Urea'), (2.0, 3.0, 2.0, 'Coconut', 'MOP')} (3,0.75)\n",
      "{(1.0, 2.0, 0.0, 'Coconut', 'Urea')} -> {(2.0, 3.0, 0.0, 'Coconut', 'DAP'), (2.0, 3.0, 2.0, 'Coconut', 'MOP')} (3,0.75)\n",
      "{(2.0, 3.0, 2.0, 'Coconut', 'MOP')} -> {(2.0, 3.0, 0.0, 'Coconut', 'DAP'), (1.0, 2.0, 0.0, 'Coconut', 'Urea')} (3,1.0)\n",
      "{(2.0, 3.0, 0.0, 'Coconut', 'DAP'), (1.0, 2.0, 0.0, 'Coconut', 'Urea')} -> {(2.0, 3.0, 2.0, 'Coconut', 'MOP')} (3,0.75)\n",
      "{(2.0, 3.0, 0.0, 'Coconut', 'DAP'), (2.0, 3.0, 2.0, 'Coconut', 'MOP')} -> {(1.0, 2.0, 0.0, 'Coconut', 'Urea')} (3,1.0)\n",
      "{(1.0, 2.0, 0.0, 'Coconut', 'Urea'), (2.0, 3.0, 2.0, 'Coconut', 'MOP')} -> {(2.0, 3.0, 0.0, 'Coconut', 'DAP')} (3,1.0)\n",
      "{(2.0, 3.0, 0.0, 'Coconut', 'DAP')} -> {(2.0, 3.0, 1.0, 'Coconut', 'DAP'), (1.0, 2.0, 0.0, 'Coconut', 'Urea'), (1.0, 3.0, 1.0, 'Coconut', 'DAP')} (3,0.75)\n",
      "{(2.0, 3.0, 1.0, 'Coconut', 'DAP')} -> {(2.0, 3.0, 0.0, 'Coconut', 'DAP'), (1.0, 2.0, 0.0, 'Coconut', 'Urea'), (1.0, 3.0, 1.0, 'Coconut', 'DAP')} (3,1.0)\n",
      "{(1.0, 2.0, 0.0, 'Coconut', 'Urea')} -> {(2.0, 3.0, 0.0, 'Coconut', 'DAP'), (2.0, 3.0, 1.0, 'Coconut', 'DAP'), (1.0, 3.0, 1.0, 'Coconut', 'DAP')} (3,0.75)\n",
      "{(1.0, 3.0, 1.0, 'Coconut', 'DAP')} -> {(2.0, 3.0, 0.0, 'Coconut', 'DAP'), (2.0, 3.0, 1.0, 'Coconut', 'DAP'), (1.0, 2.0, 0.0, 'Coconut', 'Urea')} (3,1.0)\n",
      "{(2.0, 3.0, 0.0, 'Coconut', 'DAP'), (2.0, 3.0, 1.0, 'Coconut', 'DAP')} -> {(1.0, 2.0, 0.0, 'Coconut', 'Urea'), (1.0, 3.0, 1.0, 'Coconut', 'DAP')} (3,1.0)\n",
      "{(2.0, 3.0, 0.0, 'Coconut', 'DAP'), (1.0, 2.0, 0.0, 'Coconut', 'Urea')} -> {(2.0, 3.0, 1.0, 'Coconut', 'DAP'), (1.0, 3.0, 1.0, 'Coconut', 'DAP')} (3,0.75)\n",
      "{(2.0, 3.0, 0.0, 'Coconut', 'DAP'), (1.0, 3.0, 1.0, 'Coconut', 'DAP')} -> {(2.0, 3.0, 1.0, 'Coconut', 'DAP'), (1.0, 2.0, 0.0, 'Coconut', 'Urea')} (3,1.0)\n",
      "{(2.0, 3.0, 1.0, 'Coconut', 'DAP'), (1.0, 2.0, 0.0, 'Coconut', 'Urea')} -> {(2.0, 3.0, 0.0, 'Coconut', 'DAP'), (1.0, 3.0, 1.0, 'Coconut', 'DAP')} (3,1.0)\n",
      "{(2.0, 3.0, 1.0, 'Coconut', 'DAP'), (1.0, 3.0, 1.0, 'Coconut', 'DAP')} -> {(2.0, 3.0, 0.0, 'Coconut', 'DAP'), (1.0, 2.0, 0.0, 'Coconut', 'Urea')} (3,1.0)\n",
      "{(1.0, 2.0, 0.0, 'Coconut', 'Urea'), (1.0, 3.0, 1.0, 'Coconut', 'DAP')} -> {(2.0, 3.0, 0.0, 'Coconut', 'DAP'), (2.0, 3.0, 1.0, 'Coconut', 'DAP')} (3,1.0)\n",
      "{(2.0, 3.0, 0.0, 'Coconut', 'DAP'), (2.0, 3.0, 1.0, 'Coconut', 'DAP'), (1.0, 2.0, 0.0, 'Coconut', 'Urea')} -> {(1.0, 3.0, 1.0, 'Coconut', 'DAP')} (3,1.0)\n",
      "{(2.0, 3.0, 0.0, 'Coconut', 'DAP'), (2.0, 3.0, 1.0, 'Coconut', 'DAP'), (1.0, 3.0, 1.0, 'Coconut', 'DAP')} -> {(1.0, 2.0, 0.0, 'Coconut', 'Urea')} (3,1.0)\n",
      "{(2.0, 3.0, 0.0, 'Coconut', 'DAP'), (1.0, 2.0, 0.0, 'Coconut', 'Urea'), (1.0, 3.0, 1.0, 'Coconut', 'DAP')} -> {(2.0, 3.0, 1.0, 'Coconut', 'DAP')} (3,1.0)\n",
      "{(2.0, 3.0, 1.0, 'Coconut', 'DAP'), (1.0, 2.0, 0.0, 'Coconut', 'Urea'), (1.0, 3.0, 1.0, 'Coconut', 'DAP')} -> {(2.0, 3.0, 0.0, 'Coconut', 'DAP')} (3,1.0)\n",
      "{(0.0, 0.0, 3.0, 'rice', 'DAP')} -> {(1.0, 0.0, 2.0, 'rice', 'MOP'), (0.0, 0.0, 2.0, 'rice', 'Urea')} (3,1.0)\n",
      "{(1.0, 0.0, 2.0, 'rice', 'MOP')} -> {(0.0, 0.0, 3.0, 'rice', 'DAP'), (0.0, 0.0, 2.0, 'rice', 'Urea')} (3,1.0)\n",
      "{(0.0, 0.0, 2.0, 'rice', 'Urea')} -> {(0.0, 0.0, 3.0, 'rice', 'DAP'), (1.0, 0.0, 2.0, 'rice', 'MOP')} (3,1.0)\n",
      "{(0.0, 0.0, 3.0, 'rice', 'DAP'), (1.0, 0.0, 2.0, 'rice', 'MOP')} -> {(0.0, 0.0, 2.0, 'rice', 'Urea')} (3,1.0)\n",
      "{(0.0, 0.0, 3.0, 'rice', 'DAP'), (0.0, 0.0, 2.0, 'rice', 'Urea')} -> {(1.0, 0.0, 2.0, 'rice', 'MOP')} (3,1.0)\n",
      "{(1.0, 0.0, 2.0, 'rice', 'MOP'), (0.0, 0.0, 2.0, 'rice', 'Urea')} -> {(0.0, 0.0, 3.0, 'rice', 'DAP')} (3,1.0)\n",
      "{(0.0, 0.0, 3.0, 'rice', 'DAP')} -> {(0.0, 0.0, 2.0, 'rice', 'Urea'), (1.0, 0.0, 1.0, 'rice', 'MOP')} (3,1.0)\n",
      "{(1.0, 0.0, 1.0, 'rice', 'MOP')} -> {(0.0, 0.0, 3.0, 'rice', 'DAP'), (0.0, 0.0, 2.0, 'rice', 'Urea')} (3,1.0)\n",
      "{(0.0, 0.0, 2.0, 'rice', 'Urea')} -> {(0.0, 0.0, 3.0, 'rice', 'DAP'), (1.0, 0.0, 1.0, 'rice', 'MOP')} (3,1.0)\n",
      "{(0.0, 0.0, 3.0, 'rice', 'DAP'), (1.0, 0.0, 1.0, 'rice', 'MOP')} -> {(0.0, 0.0, 2.0, 'rice', 'Urea')} (3,1.0)\n",
      "{(0.0, 0.0, 3.0, 'rice', 'DAP'), (0.0, 0.0, 2.0, 'rice', 'Urea')} -> {(1.0, 0.0, 1.0, 'rice', 'MOP')} (3,1.0)\n",
      "{(0.0, 0.0, 2.0, 'rice', 'Urea'), (1.0, 0.0, 1.0, 'rice', 'MOP')} -> {(0.0, 0.0, 3.0, 'rice', 'DAP')} (3,1.0)\n",
      "{(2.0, 3.0, 1.0, 'Coconut', 'MOP')} -> {(2.0, 3.0, 0.0, 'Coconut', 'Urea'), (2.0, 3.0, 2.0, 'Coconut', 'MOP')} (3,1.0)\n",
      "{(2.0, 3.0, 0.0, 'Coconut', 'Urea')} -> {(2.0, 3.0, 1.0, 'Coconut', 'MOP'), (2.0, 3.0, 2.0, 'Coconut', 'MOP')} (3,0.75)\n",
      "{(2.0, 3.0, 2.0, 'Coconut', 'MOP')} -> {(2.0, 3.0, 1.0, 'Coconut', 'MOP'), (2.0, 3.0, 0.0, 'Coconut', 'Urea')} (3,1.0)\n",
      "{(2.0, 3.0, 1.0, 'Coconut', 'MOP'), (2.0, 3.0, 0.0, 'Coconut', 'Urea')} -> {(2.0, 3.0, 2.0, 'Coconut', 'MOP')} (3,1.0)\n",
      "{(2.0, 3.0, 1.0, 'Coconut', 'MOP'), (2.0, 3.0, 2.0, 'Coconut', 'MOP')} -> {(2.0, 3.0, 0.0, 'Coconut', 'Urea')} (3,1.0)\n",
      "{(2.0, 3.0, 0.0, 'Coconut', 'Urea'), (2.0, 3.0, 2.0, 'Coconut', 'MOP')} -> {(2.0, 3.0, 1.0, 'Coconut', 'MOP')} (3,1.0)\n",
      "{(2.0, 3.0, 1.0, 'Coconut', 'DAP')} -> {(1.0, 2.0, 0.0, 'Coconut', 'Urea'), (1.0, 3.0, 1.0, 'Coconut', 'DAP')} (3,1.0)\n",
      "{(1.0, 2.0, 0.0, 'Coconut', 'Urea')} -> {(2.0, 3.0, 1.0, 'Coconut', 'DAP'), (1.0, 3.0, 1.0, 'Coconut', 'DAP')} (3,0.75)\n",
      "{(1.0, 3.0, 1.0, 'Coconut', 'DAP')} -> {(2.0, 3.0, 1.0, 'Coconut', 'DAP'), (1.0, 2.0, 0.0, 'Coconut', 'Urea')} (3,1.0)\n",
      "{(2.0, 3.0, 1.0, 'Coconut', 'DAP'), (1.0, 2.0, 0.0, 'Coconut', 'Urea')} -> {(1.0, 3.0, 1.0, 'Coconut', 'DAP')} (3,1.0)\n",
      "{(2.0, 3.0, 1.0, 'Coconut', 'DAP'), (1.0, 3.0, 1.0, 'Coconut', 'DAP')} -> {(1.0, 2.0, 0.0, 'Coconut', 'Urea')} (3,1.0)\n",
      "{(1.0, 2.0, 0.0, 'Coconut', 'Urea'), (1.0, 3.0, 1.0, 'Coconut', 'DAP')} -> {(2.0, 3.0, 1.0, 'Coconut', 'DAP')} (3,1.0)\n",
      "{(0.0, 0.0, 3.0, 'rice', 'DAP')} -> {(1.0, 0.0, 2.0, 'rice', 'MOP'), (1.0, 0.0, 1.0, 'rice', 'MOP')} (3,1.0)\n",
      "{(1.0, 0.0, 2.0, 'rice', 'MOP')} -> {(0.0, 0.0, 3.0, 'rice', 'DAP'), (1.0, 0.0, 1.0, 'rice', 'MOP')} (3,1.0)\n",
      "{(1.0, 0.0, 1.0, 'rice', 'MOP')} -> {(0.0, 0.0, 3.0, 'rice', 'DAP'), (1.0, 0.0, 2.0, 'rice', 'MOP')} (3,1.0)\n",
      "{(0.0, 0.0, 3.0, 'rice', 'DAP'), (1.0, 0.0, 2.0, 'rice', 'MOP')} -> {(1.0, 0.0, 1.0, 'rice', 'MOP')} (3,1.0)\n",
      "{(0.0, 0.0, 3.0, 'rice', 'DAP'), (1.0, 0.0, 1.0, 'rice', 'MOP')} -> {(1.0, 0.0, 2.0, 'rice', 'MOP')} (3,1.0)\n",
      "{(1.0, 0.0, 2.0, 'rice', 'MOP'), (1.0, 0.0, 1.0, 'rice', 'MOP')} -> {(0.0, 0.0, 3.0, 'rice', 'DAP')} (3,1.0)\n",
      "{(1.0, 2.0, 0.0, 'Coconut', 'Urea')} -> {(2.0, 2.0, 0.0, 'Coconut', 'Urea'), (1.0, 0.0, 1.0, 'Coconut', 'Urea')} (3,0.75)\n",
      "{(2.0, 2.0, 0.0, 'Coconut', 'Urea')} -> {(1.0, 2.0, 0.0, 'Coconut', 'Urea'), (1.0, 0.0, 1.0, 'Coconut', 'Urea')} (3,1.0)\n",
      "{(1.0, 0.0, 1.0, 'Coconut', 'Urea')} -> {(1.0, 2.0, 0.0, 'Coconut', 'Urea'), (2.0, 2.0, 0.0, 'Coconut', 'Urea')} (3,1.0)\n",
      "{(1.0, 2.0, 0.0, 'Coconut', 'Urea'), (2.0, 2.0, 0.0, 'Coconut', 'Urea')} -> {(1.0, 0.0, 1.0, 'Coconut', 'Urea')} (3,1.0)\n",
      "{(1.0, 2.0, 0.0, 'Coconut', 'Urea'), (1.0, 0.0, 1.0, 'Coconut', 'Urea')} -> {(2.0, 2.0, 0.0, 'Coconut', 'Urea')} (3,1.0)\n",
      "{(2.0, 2.0, 0.0, 'Coconut', 'Urea'), (1.0, 0.0, 1.0, 'Coconut', 'Urea')} -> {(1.0, 2.0, 0.0, 'Coconut', 'Urea')} (3,1.0)\n",
      "{(1.0, 2.0, 0.0, 'Coconut', 'MOP')} -> {(1.0, 2.0, 0.0, 'Coconut', 'Urea'), (2.0, 2.0, 0.0, 'Coconut', 'Urea')} (3,1.0)\n",
      "{(1.0, 2.0, 0.0, 'Coconut', 'Urea')} -> {(1.0, 2.0, 0.0, 'Coconut', 'MOP'), (2.0, 2.0, 0.0, 'Coconut', 'Urea')} (3,0.75)\n",
      "{(2.0, 2.0, 0.0, 'Coconut', 'Urea')} -> {(1.0, 2.0, 0.0, 'Coconut', 'MOP'), (1.0, 2.0, 0.0, 'Coconut', 'Urea')} (3,1.0)\n",
      "{(1.0, 2.0, 0.0, 'Coconut', 'MOP'), (1.0, 2.0, 0.0, 'Coconut', 'Urea')} -> {(2.0, 2.0, 0.0, 'Coconut', 'Urea')} (3,1.0)\n",
      "{(1.0, 2.0, 0.0, 'Coconut', 'MOP'), (2.0, 2.0, 0.0, 'Coconut', 'Urea')} -> {(1.0, 2.0, 0.0, 'Coconut', 'Urea')} (3,1.0)\n",
      "{(1.0, 2.0, 0.0, 'Coconut', 'Urea'), (2.0, 2.0, 0.0, 'Coconut', 'Urea')} -> {(1.0, 2.0, 0.0, 'Coconut', 'MOP')} (3,1.0)\n",
      "{(2.0, 3.0, 0.0, 'Coconut', 'DAP')} -> {(1.0, 2.0, 0.0, 'Coconut', 'Urea'), (2.0, 2.0, 0.0, 'Coconut', 'Urea')} (3,0.75)\n",
      "{(1.0, 2.0, 0.0, 'Coconut', 'Urea')} -> {(2.0, 3.0, 0.0, 'Coconut', 'DAP'), (2.0, 2.0, 0.0, 'Coconut', 'Urea')} (3,0.75)\n",
      "{(2.0, 2.0, 0.0, 'Coconut', 'Urea')} -> {(2.0, 3.0, 0.0, 'Coconut', 'DAP'), (1.0, 2.0, 0.0, 'Coconut', 'Urea')} (3,1.0)\n",
      "{(2.0, 3.0, 0.0, 'Coconut', 'DAP'), (1.0, 2.0, 0.0, 'Coconut', 'Urea')} -> {(2.0, 2.0, 0.0, 'Coconut', 'Urea')} (3,0.75)\n",
      "{(2.0, 3.0, 0.0, 'Coconut', 'DAP'), (2.0, 2.0, 0.0, 'Coconut', 'Urea')} -> {(1.0, 2.0, 0.0, 'Coconut', 'Urea')} (3,1.0)\n",
      "{(1.0, 2.0, 0.0, 'Coconut', 'Urea'), (2.0, 2.0, 0.0, 'Coconut', 'Urea')} -> {(2.0, 3.0, 0.0, 'Coconut', 'DAP')} (3,1.0)\n",
      "{(2.0, 3.0, 0.0, 'Coconut', 'DAP')} -> {(1.0, 2.0, 0.0, 'Coconut', 'Urea'), (2.0, 2.0, 0.0, 'Coconut', 'Good NPK')} (3,0.75)\n",
      "{(1.0, 2.0, 0.0, 'Coconut', 'Urea')} -> {(2.0, 3.0, 0.0, 'Coconut', 'DAP'), (2.0, 2.0, 0.0, 'Coconut', 'Good NPK')} (3,0.75)\n",
      "{(2.0, 2.0, 0.0, 'Coconut', 'Good NPK')} -> {(2.0, 3.0, 0.0, 'Coconut', 'DAP'), (1.0, 2.0, 0.0, 'Coconut', 'Urea')} (3,1.0)\n",
      "{(2.0, 3.0, 0.0, 'Coconut', 'DAP'), (1.0, 2.0, 0.0, 'Coconut', 'Urea')} -> {(2.0, 2.0, 0.0, 'Coconut', 'Good NPK')} (3,0.75)\n",
      "{(2.0, 3.0, 0.0, 'Coconut', 'DAP'), (2.0, 2.0, 0.0, 'Coconut', 'Good NPK')} -> {(1.0, 2.0, 0.0, 'Coconut', 'Urea')} (3,1.0)\n",
      "{(1.0, 2.0, 0.0, 'Coconut', 'Urea'), (2.0, 2.0, 0.0, 'Coconut', 'Good NPK')} -> {(2.0, 3.0, 0.0, 'Coconut', 'DAP')} (3,1.0)\n",
      "{(2.0, 3.0, 1.0, 'Coconut', 'DAP')} -> {(1.0, 2.0, 0.0, 'Coconut', 'Urea'), (2.0, 2.0, 0.0, 'Coconut', 'Good NPK')} (3,1.0)\n",
      "{(1.0, 2.0, 0.0, 'Coconut', 'Urea')} -> {(2.0, 3.0, 1.0, 'Coconut', 'DAP'), (2.0, 2.0, 0.0, 'Coconut', 'Good NPK')} (3,0.75)\n",
      "{(2.0, 2.0, 0.0, 'Coconut', 'Good NPK')} -> {(2.0, 3.0, 1.0, 'Coconut', 'DAP'), (1.0, 2.0, 0.0, 'Coconut', 'Urea')} (3,1.0)\n",
      "{(2.0, 3.0, 1.0, 'Coconut', 'DAP'), (1.0, 2.0, 0.0, 'Coconut', 'Urea')} -> {(2.0, 2.0, 0.0, 'Coconut', 'Good NPK')} (3,1.0)\n",
      "{(2.0, 3.0, 1.0, 'Coconut', 'DAP'), (2.0, 2.0, 0.0, 'Coconut', 'Good NPK')} -> {(1.0, 2.0, 0.0, 'Coconut', 'Urea')} (3,1.0)\n",
      "{(1.0, 2.0, 0.0, 'Coconut', 'Urea'), (2.0, 2.0, 0.0, 'Coconut', 'Good NPK')} -> {(2.0, 3.0, 1.0, 'Coconut', 'DAP')} (3,1.0)\n",
      "{(2.0, 3.0, 0.0, 'Coconut', 'DAP')} -> {(1.0, 2.0, 0.0, 'Coconut', 'Urea'), (1.0, 0.0, 1.0, 'Coconut', 'MOP'), (1.0, 0.0, 1.0, 'Coconut', 'Urea')} (3,0.75)\n",
      "{(1.0, 2.0, 0.0, 'Coconut', 'Urea')} -> {(2.0, 3.0, 0.0, 'Coconut', 'DAP'), (1.0, 0.0, 1.0, 'Coconut', 'MOP'), (1.0, 0.0, 1.0, 'Coconut', 'Urea')} (3,0.75)\n",
      "{(1.0, 0.0, 1.0, 'Coconut', 'MOP')} -> {(2.0, 3.0, 0.0, 'Coconut', 'DAP'), (1.0, 2.0, 0.0, 'Coconut', 'Urea'), (1.0, 0.0, 1.0, 'Coconut', 'Urea')} (3,1.0)\n",
      "{(1.0, 0.0, 1.0, 'Coconut', 'Urea')} -> {(2.0, 3.0, 0.0, 'Coconut', 'DAP'), (1.0, 2.0, 0.0, 'Coconut', 'Urea'), (1.0, 0.0, 1.0, 'Coconut', 'MOP')} (3,1.0)\n",
      "{(2.0, 3.0, 0.0, 'Coconut', 'DAP'), (1.0, 2.0, 0.0, 'Coconut', 'Urea')} -> {(1.0, 0.0, 1.0, 'Coconut', 'MOP'), (1.0, 0.0, 1.0, 'Coconut', 'Urea')} (3,0.75)\n",
      "{(2.0, 3.0, 0.0, 'Coconut', 'DAP'), (1.0, 0.0, 1.0, 'Coconut', 'MOP')} -> {(1.0, 2.0, 0.0, 'Coconut', 'Urea'), (1.0, 0.0, 1.0, 'Coconut', 'Urea')} (3,1.0)\n",
      "{(2.0, 3.0, 0.0, 'Coconut', 'DAP'), (1.0, 0.0, 1.0, 'Coconut', 'Urea')} -> {(1.0, 2.0, 0.0, 'Coconut', 'Urea'), (1.0, 0.0, 1.0, 'Coconut', 'MOP')} (3,1.0)\n",
      "{(1.0, 2.0, 0.0, 'Coconut', 'Urea'), (1.0, 0.0, 1.0, 'Coconut', 'MOP')} -> {(2.0, 3.0, 0.0, 'Coconut', 'DAP'), (1.0, 0.0, 1.0, 'Coconut', 'Urea')} (3,1.0)\n",
      "{(1.0, 2.0, 0.0, 'Coconut', 'Urea'), (1.0, 0.0, 1.0, 'Coconut', 'Urea')} -> {(2.0, 3.0, 0.0, 'Coconut', 'DAP'), (1.0, 0.0, 1.0, 'Coconut', 'MOP')} (3,1.0)\n",
      "{(1.0, 0.0, 1.0, 'Coconut', 'MOP'), (1.0, 0.0, 1.0, 'Coconut', 'Urea')} -> {(2.0, 3.0, 0.0, 'Coconut', 'DAP'), (1.0, 2.0, 0.0, 'Coconut', 'Urea')} (3,1.0)\n",
      "{(2.0, 3.0, 0.0, 'Coconut', 'DAP'), (1.0, 2.0, 0.0, 'Coconut', 'Urea'), (1.0, 0.0, 1.0, 'Coconut', 'MOP')} -> {(1.0, 0.0, 1.0, 'Coconut', 'Urea')} (3,1.0)\n",
      "{(2.0, 3.0, 0.0, 'Coconut', 'DAP'), (1.0, 2.0, 0.0, 'Coconut', 'Urea'), (1.0, 0.0, 1.0, 'Coconut', 'Urea')} -> {(1.0, 0.0, 1.0, 'Coconut', 'MOP')} (3,1.0)\n",
      "{(2.0, 3.0, 0.0, 'Coconut', 'DAP'), (1.0, 0.0, 1.0, 'Coconut', 'MOP'), (1.0, 0.0, 1.0, 'Coconut', 'Urea')} -> {(1.0, 2.0, 0.0, 'Coconut', 'Urea')} (3,1.0)\n",
      "{(1.0, 2.0, 0.0, 'Coconut', 'Urea'), (1.0, 0.0, 1.0, 'Coconut', 'MOP'), (1.0, 0.0, 1.0, 'Coconut', 'Urea')} -> {(2.0, 3.0, 0.0, 'Coconut', 'DAP')} (3,1.0)\n",
      "{(2.0, 3.0, 0.0, 'Coconut', 'DAP')} -> {(1.0, 2.0, 0.0, 'Coconut', 'Urea'), (2.0, 2.0, 0.0, 'Coconut', 'Urea'), (1.0, 0.0, 1.0, 'Coconut', 'Urea')} (3,0.75)\n",
      "{(1.0, 2.0, 0.0, 'Coconut', 'Urea')} -> {(2.0, 3.0, 0.0, 'Coconut', 'DAP'), (2.0, 2.0, 0.0, 'Coconut', 'Urea'), (1.0, 0.0, 1.0, 'Coconut', 'Urea')} (3,0.75)\n",
      "{(2.0, 2.0, 0.0, 'Coconut', 'Urea')} -> {(2.0, 3.0, 0.0, 'Coconut', 'DAP'), (1.0, 2.0, 0.0, 'Coconut', 'Urea'), (1.0, 0.0, 1.0, 'Coconut', 'Urea')} (3,1.0)\n",
      "{(1.0, 0.0, 1.0, 'Coconut', 'Urea')} -> {(2.0, 3.0, 0.0, 'Coconut', 'DAP'), (1.0, 2.0, 0.0, 'Coconut', 'Urea'), (2.0, 2.0, 0.0, 'Coconut', 'Urea')} (3,1.0)\n",
      "{(2.0, 3.0, 0.0, 'Coconut', 'DAP'), (1.0, 2.0, 0.0, 'Coconut', 'Urea')} -> {(2.0, 2.0, 0.0, 'Coconut', 'Urea'), (1.0, 0.0, 1.0, 'Coconut', 'Urea')} (3,0.75)\n",
      "{(2.0, 3.0, 0.0, 'Coconut', 'DAP'), (2.0, 2.0, 0.0, 'Coconut', 'Urea')} -> {(1.0, 2.0, 0.0, 'Coconut', 'Urea'), (1.0, 0.0, 1.0, 'Coconut', 'Urea')} (3,1.0)\n",
      "{(2.0, 3.0, 0.0, 'Coconut', 'DAP'), (1.0, 0.0, 1.0, 'Coconut', 'Urea')} -> {(1.0, 2.0, 0.0, 'Coconut', 'Urea'), (2.0, 2.0, 0.0, 'Coconut', 'Urea')} (3,1.0)\n",
      "{(1.0, 2.0, 0.0, 'Coconut', 'Urea'), (2.0, 2.0, 0.0, 'Coconut', 'Urea')} -> {(2.0, 3.0, 0.0, 'Coconut', 'DAP'), (1.0, 0.0, 1.0, 'Coconut', 'Urea')} (3,1.0)\n",
      "{(1.0, 2.0, 0.0, 'Coconut', 'Urea'), (1.0, 0.0, 1.0, 'Coconut', 'Urea')} -> {(2.0, 3.0, 0.0, 'Coconut', 'DAP'), (2.0, 2.0, 0.0, 'Coconut', 'Urea')} (3,1.0)\n",
      "{(2.0, 2.0, 0.0, 'Coconut', 'Urea'), (1.0, 0.0, 1.0, 'Coconut', 'Urea')} -> {(2.0, 3.0, 0.0, 'Coconut', 'DAP'), (1.0, 2.0, 0.0, 'Coconut', 'Urea')} (3,1.0)\n",
      "{(2.0, 3.0, 0.0, 'Coconut', 'DAP'), (1.0, 2.0, 0.0, 'Coconut', 'Urea'), (2.0, 2.0, 0.0, 'Coconut', 'Urea')} -> {(1.0, 0.0, 1.0, 'Coconut', 'Urea')} (3,1.0)\n",
      "{(2.0, 3.0, 0.0, 'Coconut', 'DAP'), (1.0, 2.0, 0.0, 'Coconut', 'Urea'), (1.0, 0.0, 1.0, 'Coconut', 'Urea')} -> {(2.0, 2.0, 0.0, 'Coconut', 'Urea')} (3,1.0)\n",
      "{(2.0, 3.0, 0.0, 'Coconut', 'DAP'), (2.0, 2.0, 0.0, 'Coconut', 'Urea'), (1.0, 0.0, 1.0, 'Coconut', 'Urea')} -> {(1.0, 2.0, 0.0, 'Coconut', 'Urea')} (3,1.0)\n",
      "{(1.0, 2.0, 0.0, 'Coconut', 'Urea'), (2.0, 2.0, 0.0, 'Coconut', 'Urea'), (1.0, 0.0, 1.0, 'Coconut', 'Urea')} -> {(2.0, 3.0, 0.0, 'Coconut', 'DAP')} (3,1.0)\n",
      "{(2.0, 3.0, 0.0, 'Coconut', 'DAP')} -> {(2.0, 3.0, 1.0, 'Coconut', 'DAP'), (1.0, 2.0, 0.0, 'Coconut', 'Urea'), (1.0, 3.0, 1.0, 'Coconut', 'DAP')} (3,0.75)\n",
      "{(2.0, 3.0, 1.0, 'Coconut', 'DAP')} -> {(2.0, 3.0, 0.0, 'Coconut', 'DAP'), (1.0, 2.0, 0.0, 'Coconut', 'Urea'), (1.0, 3.0, 1.0, 'Coconut', 'DAP')} (3,1.0)\n",
      "{(1.0, 2.0, 0.0, 'Coconut', 'Urea')} -> {(2.0, 3.0, 0.0, 'Coconut', 'DAP'), (2.0, 3.0, 1.0, 'Coconut', 'DAP'), (1.0, 3.0, 1.0, 'Coconut', 'DAP')} (3,0.75)\n",
      "{(1.0, 3.0, 1.0, 'Coconut', 'DAP')} -> {(2.0, 3.0, 0.0, 'Coconut', 'DAP'), (2.0, 3.0, 1.0, 'Coconut', 'DAP'), (1.0, 2.0, 0.0, 'Coconut', 'Urea')} (3,1.0)\n",
      "{(2.0, 3.0, 0.0, 'Coconut', 'DAP'), (2.0, 3.0, 1.0, 'Coconut', 'DAP')} -> {(1.0, 2.0, 0.0, 'Coconut', 'Urea'), (1.0, 3.0, 1.0, 'Coconut', 'DAP')} (3,1.0)\n",
      "{(2.0, 3.0, 0.0, 'Coconut', 'DAP'), (1.0, 2.0, 0.0, 'Coconut', 'Urea')} -> {(2.0, 3.0, 1.0, 'Coconut', 'DAP'), (1.0, 3.0, 1.0, 'Coconut', 'DAP')} (3,0.75)\n",
      "{(2.0, 3.0, 0.0, 'Coconut', 'DAP'), (1.0, 3.0, 1.0, 'Coconut', 'DAP')} -> {(2.0, 3.0, 1.0, 'Coconut', 'DAP'), (1.0, 2.0, 0.0, 'Coconut', 'Urea')} (3,1.0)\n",
      "{(2.0, 3.0, 1.0, 'Coconut', 'DAP'), (1.0, 2.0, 0.0, 'Coconut', 'Urea')} -> {(2.0, 3.0, 0.0, 'Coconut', 'DAP'), (1.0, 3.0, 1.0, 'Coconut', 'DAP')} (3,1.0)\n",
      "{(2.0, 3.0, 1.0, 'Coconut', 'DAP'), (1.0, 3.0, 1.0, 'Coconut', 'DAP')} -> {(2.0, 3.0, 0.0, 'Coconut', 'DAP'), (1.0, 2.0, 0.0, 'Coconut', 'Urea')} (3,1.0)\n",
      "{(1.0, 2.0, 0.0, 'Coconut', 'Urea'), (1.0, 3.0, 1.0, 'Coconut', 'DAP')} -> {(2.0, 3.0, 0.0, 'Coconut', 'DAP'), (2.0, 3.0, 1.0, 'Coconut', 'DAP')} (3,1.0)\n",
      "{(2.0, 3.0, 0.0, 'Coconut', 'DAP'), (2.0, 3.0, 1.0, 'Coconut', 'DAP'), (1.0, 2.0, 0.0, 'Coconut', 'Urea')} -> {(1.0, 3.0, 1.0, 'Coconut', 'DAP')} (3,1.0)\n",
      "{(2.0, 3.0, 0.0, 'Coconut', 'DAP'), (2.0, 3.0, 1.0, 'Coconut', 'DAP'), (1.0, 3.0, 1.0, 'Coconut', 'DAP')} -> {(1.0, 2.0, 0.0, 'Coconut', 'Urea')} (3,1.0)\n",
      "{(2.0, 3.0, 0.0, 'Coconut', 'DAP'), (1.0, 2.0, 0.0, 'Coconut', 'Urea'), (1.0, 3.0, 1.0, 'Coconut', 'DAP')} -> {(2.0, 3.0, 1.0, 'Coconut', 'DAP')} (3,1.0)\n",
      "{(2.0, 3.0, 1.0, 'Coconut', 'DAP'), (1.0, 2.0, 0.0, 'Coconut', 'Urea'), (1.0, 3.0, 1.0, 'Coconut', 'DAP')} -> {(2.0, 3.0, 0.0, 'Coconut', 'DAP')} (3,1.0)\n",
      "{(2.0, 3.0, 0.0, 'Coconut', 'DAP')} -> {(2.0, 3.0, 1.0, 'Coconut', 'DAP'), (2.0, 2.0, 0.0, 'Coconut', 'Good NPK'), (1.0, 2.0, 0.0, 'Coconut', 'Urea')} (3,0.75)\n",
      "{(2.0, 3.0, 1.0, 'Coconut', 'DAP')} -> {(2.0, 3.0, 0.0, 'Coconut', 'DAP'), (1.0, 2.0, 0.0, 'Coconut', 'Urea'), (2.0, 2.0, 0.0, 'Coconut', 'Good NPK')} (3,1.0)\n",
      "{(1.0, 2.0, 0.0, 'Coconut', 'Urea')} -> {(2.0, 3.0, 0.0, 'Coconut', 'DAP'), (2.0, 3.0, 1.0, 'Coconut', 'DAP'), (2.0, 2.0, 0.0, 'Coconut', 'Good NPK')} (3,0.75)\n",
      "{(2.0, 2.0, 0.0, 'Coconut', 'Good NPK')} -> {(2.0, 3.0, 0.0, 'Coconut', 'DAP'), (2.0, 3.0, 1.0, 'Coconut', 'DAP'), (1.0, 2.0, 0.0, 'Coconut', 'Urea')} (3,1.0)\n",
      "{(2.0, 3.0, 0.0, 'Coconut', 'DAP'), (2.0, 3.0, 1.0, 'Coconut', 'DAP')} -> {(1.0, 2.0, 0.0, 'Coconut', 'Urea'), (2.0, 2.0, 0.0, 'Coconut', 'Good NPK')} (3,1.0)\n",
      "{(2.0, 3.0, 0.0, 'Coconut', 'DAP'), (1.0, 2.0, 0.0, 'Coconut', 'Urea')} -> {(2.0, 3.0, 1.0, 'Coconut', 'DAP'), (2.0, 2.0, 0.0, 'Coconut', 'Good NPK')} (3,0.75)\n",
      "{(2.0, 3.0, 0.0, 'Coconut', 'DAP'), (2.0, 2.0, 0.0, 'Coconut', 'Good NPK')} -> {(2.0, 3.0, 1.0, 'Coconut', 'DAP'), (1.0, 2.0, 0.0, 'Coconut', 'Urea')} (3,1.0)\n",
      "{(2.0, 3.0, 1.0, 'Coconut', 'DAP'), (1.0, 2.0, 0.0, 'Coconut', 'Urea')} -> {(2.0, 3.0, 0.0, 'Coconut', 'DAP'), (2.0, 2.0, 0.0, 'Coconut', 'Good NPK')} (3,1.0)\n",
      "{(2.0, 3.0, 1.0, 'Coconut', 'DAP'), (2.0, 2.0, 0.0, 'Coconut', 'Good NPK')} -> {(2.0, 3.0, 0.0, 'Coconut', 'DAP'), (1.0, 2.0, 0.0, 'Coconut', 'Urea')} (3,1.0)\n",
      "{(1.0, 2.0, 0.0, 'Coconut', 'Urea'), (2.0, 2.0, 0.0, 'Coconut', 'Good NPK')} -> {(2.0, 3.0, 0.0, 'Coconut', 'DAP'), (2.0, 3.0, 1.0, 'Coconut', 'DAP')} (3,1.0)\n",
      "{(2.0, 3.0, 0.0, 'Coconut', 'DAP'), (2.0, 3.0, 1.0, 'Coconut', 'DAP'), (1.0, 2.0, 0.0, 'Coconut', 'Urea')} -> {(2.0, 2.0, 0.0, 'Coconut', 'Good NPK')} (3,1.0)\n",
      "{(2.0, 3.0, 0.0, 'Coconut', 'DAP'), (2.0, 3.0, 1.0, 'Coconut', 'DAP'), (2.0, 2.0, 0.0, 'Coconut', 'Good NPK')} -> {(1.0, 2.0, 0.0, 'Coconut', 'Urea')} (3,1.0)\n",
      "{(2.0, 3.0, 0.0, 'Coconut', 'DAP'), (1.0, 2.0, 0.0, 'Coconut', 'Urea'), (2.0, 2.0, 0.0, 'Coconut', 'Good NPK')} -> {(2.0, 3.0, 1.0, 'Coconut', 'DAP')} (3,1.0)\n",
      "{(2.0, 3.0, 1.0, 'Coconut', 'DAP'), (2.0, 2.0, 0.0, 'Coconut', 'Good NPK'), (1.0, 2.0, 0.0, 'Coconut', 'Urea')} -> {(2.0, 3.0, 0.0, 'Coconut', 'DAP')} (3,1.0)\n"
     ]
    }
   ],
   "source": [
    "association_rules=generate_association_rules(FP,0.7,dataitems) #prennant un exemple pour confiance=0.7\n",
    "afficher_association_rules(association_rules)\n"
   ]
  },
  {
   "cell_type": "markdown",
   "metadata": {},
   "source": [
    "Extraction des fortes regles d'association"
   ]
  },
  {
   "cell_type": "markdown",
   "metadata": {},
   "source": [
    "Calcul Confidence"
   ]
  },
  {
   "cell_type": "code",
   "execution_count": 78,
   "metadata": {},
   "outputs": [
    {
     "name": "stdout",
     "output_type": "stream",
     "text": [
      "{(1.0, 0.0, 2.0, 'rice', 'DAP')} -> {(0.0, 0.0, 3.0, 'rice', 'DAP')} (3,1.0)\n",
      "{(0.0, 0.0, 3.0, 'rice', 'DAP')} -> {(1.0, 0.0, 2.0, 'rice', 'DAP')} (3,1.0)\n",
      "{(1.0, 2.0, 0.0, 'Coconut', 'MOP')} -> {(1.0, 0.0, 1.0, 'Coconut', 'Urea')} (3,1.0)\n",
      "{(1.0, 0.0, 1.0, 'Coconut', 'Urea')} -> {(1.0, 2.0, 0.0, 'Coconut', 'MOP')} (3,1.0)\n",
      "{(1.0, 0.0, 1.0, 'rice', 'DAP')} -> {(1.0, 0.0, 1.0, 'rice', 'MOP')} (3,1.0)\n",
      "{(1.0, 0.0, 1.0, 'rice', 'MOP')} -> {(1.0, 0.0, 1.0, 'rice', 'DAP')} (3,1.0)\n",
      "{(2.0, 3.0, 0.0, 'Coconut', 'DAP')} -> {(2.0, 3.0, 0.0, 'Coconut', 'Urea')} (4,1.0)\n",
      "{(2.0, 3.0, 0.0, 'Coconut', 'Urea')} -> {(2.0, 3.0, 0.0, 'Coconut', 'DAP')} (4,1.0)\n",
      "{(1.0, 0.0, 1.0, 'Coconut', 'MOP')} -> {(1.0, 2.0, 0.0, 'Coconut', 'Urea')} (3,1.0)\n",
      "{(1.0, 0.0, 1.0, 'rice', 'Good NPK')} -> {(1.0, 0.0, 1.0, 'rice', 'MOP')} (3,1.0)\n",
      "{(1.0, 0.0, 1.0, 'rice', 'MOP')} -> {(1.0, 0.0, 1.0, 'rice', 'Good NPK')} (3,1.0)\n",
      "{(1.0, 0.0, 1.0, 'Coconut', 'Urea')} -> {(2.0, 3.0, 0.0, 'Coconut', 'DAP')} (3,1.0)\n",
      "{(2.0, 3.0, 0.0, 'Coconut', 'MOP')} -> {(1.0, 3.0, 1.0, 'Coconut', 'DAP')} (3,1.0)\n",
      "{(1.0, 3.0, 1.0, 'Coconut', 'DAP')} -> {(2.0, 3.0, 0.0, 'Coconut', 'MOP')} (3,1.0)\n",
      "{(1.0, 2.0, 0.0, 'Coconut', 'Urea')} -> {(2.0, 3.0, 0.0, 'Coconut', 'Urea')} (4,1.0)\n",
      "{(2.0, 3.0, 0.0, 'Coconut', 'Urea')} -> {(1.0, 2.0, 0.0, 'Coconut', 'Urea')} (4,1.0)\n",
      "{(2.0, 3.0, 1.0, 'Coconut', 'Urea')} -> {(1.0, 3.0, 1.0, 'Coconut', 'DAP')} (3,1.0)\n",
      "{(1.0, 3.0, 1.0, 'Coconut', 'DAP')} -> {(2.0, 3.0, 1.0, 'Coconut', 'Urea')} (3,1.0)\n",
      "{(1.0, 0.0, 1.0, 'rice', 'Good NPK')} -> {(1.0, 0.0, 1.0, 'rice', 'DAP')} (3,1.0)\n",
      "{(1.0, 0.0, 1.0, 'rice', 'DAP')} -> {(1.0, 0.0, 1.0, 'rice', 'Good NPK')} (3,1.0)\n",
      "{(0.0, 0.0, 2.0, 'rice', 'Urea')} -> {(1.0, 0.0, 2.0, 'rice', 'Urea')} (3,1.0)\n",
      "{(1.0, 0.0, 2.0, 'rice', 'Urea')} -> {(0.0, 0.0, 2.0, 'rice', 'Urea')} (3,1.0)\n",
      "{(2.0, 3.0, 1.0, 'Coconut', 'DAP')} -> {(2.0, 3.0, 0.0, 'Coconut', 'Urea')} (3,1.0)\n",
      "{(1.0, 0.0, 2.0, 'rice', 'MOP')} -> {(1.0, 0.0, 2.0, 'rice', 'Urea')} (3,1.0)\n",
      "{(1.0, 0.0, 2.0, 'rice', 'Urea')} -> {(1.0, 0.0, 2.0, 'rice', 'MOP')} (3,1.0)\n",
      "{(1.0, 3.0, 1.0, 'Coconut', 'DAP')} -> {(1.0, 2.0, 0.0, 'Coconut', 'Urea')} (3,1.0)\n",
      "{(0.0, 0.0, 3.0, 'rice', 'DAP')} -> {(1.0, 0.0, 1.0, 'rice', 'DAP')} (3,1.0)\n",
      "{(1.0, 0.0, 1.0, 'rice', 'DAP')} -> {(0.0, 0.0, 3.0, 'rice', 'DAP')} (3,1.0)\n",
      "{(1.0, 0.0, 2.0, 'rice', 'MOP')} -> {(0.0, 0.0, 2.0, 'rice', 'Urea')} (3,1.0)\n",
      "{(0.0, 0.0, 2.0, 'rice', 'Urea')} -> {(1.0, 0.0, 2.0, 'rice', 'MOP')} (3,1.0)\n",
      "{(2.0, 3.0, 1.0, 'Coconut', 'MOP')} -> {(2.0, 3.0, 0.0, 'Coconut', 'DAP')} (3,1.0)\n",
      "{(1.0, 0.0, 2.0, 'rice', 'DAP')} -> {(1.0, 0.0, 1.0, 'rice', 'MOP')} (3,1.0)\n",
      "{(1.0, 0.0, 1.0, 'rice', 'MOP')} -> {(1.0, 0.0, 2.0, 'rice', 'DAP')} (3,1.0)\n",
      "{(1.0, 2.0, 0.0, 'Coconut', 'MOP')} -> {(1.0, 0.0, 1.0, 'Coconut', 'MOP')} (3,1.0)\n",
      "{(1.0, 0.0, 1.0, 'Coconut', 'MOP')} -> {(1.0, 2.0, 0.0, 'Coconut', 'MOP')} (3,1.0)\n",
      "{(2.0, 3.0, 0.0, 'Coconut', 'MOP')} -> {(2.0, 3.0, 0.0, 'Coconut', 'DAP')} (3,1.0)\n",
      "{(1.0, 2.0, 0.0, 'Coconut', 'MOP')} -> {(2.0, 3.0, 0.0, 'Coconut', 'DAP')} (3,1.0)\n",
      "{(2.0, 3.0, 1.0, 'Coconut', 'DAP')} -> {(2.0, 3.0, 0.0, 'Coconut', 'DAP')} (3,1.0)\n",
      "{(1.0, 0.0, 3.0, 'rice', 'Urea')} -> {(0.0, 0.0, 3.0, 'rice', 'DAP')} (3,1.0)\n",
      "{(0.0, 0.0, 3.0, 'rice', 'DAP')} -> {(1.0, 0.0, 3.0, 'rice', 'Urea')} (3,1.0)\n",
      "{(1.0, 0.0, 2.0, 'rice', 'DAP')} -> {(1.0, 0.0, 1.0, 'rice', 'DAP')} (3,1.0)\n",
      "{(1.0, 0.0, 1.0, 'rice', 'DAP')} -> {(1.0, 0.0, 2.0, 'rice', 'DAP')} (3,1.0)\n",
      "{(1.0, 0.0, 1.0, 'Coconut', 'MOP')} -> {(2.0, 3.0, 0.0, 'Coconut', 'DAP')} (3,1.0)\n",
      "{(0.0, 0.0, 3.0, 'rice', 'DAP')} -> {(1.0, 0.0, 1.0, 'rice', 'Good NPK')} (3,1.0)\n",
      "{(1.0, 0.0, 1.0, 'rice', 'Good NPK')} -> {(0.0, 0.0, 3.0, 'rice', 'DAP')} (3,1.0)\n",
      "{(2.0, 3.0, 1.0, 'Coconut', 'DAP')} -> {(2.0, 2.0, 0.0, 'Coconut', 'Good NPK')} (3,1.0)\n",
      "{(2.0, 2.0, 0.0, 'Coconut', 'Good NPK')} -> {(2.0, 3.0, 1.0, 'Coconut', 'DAP')} (3,1.0)\n",
      "{(1.0, 0.0, 1.0, 'rice', 'DAP')} -> {(1.0, 0.0, 2.0, 'rice', 'Urea')} (3,1.0)\n",
      "{(1.0, 0.0, 2.0, 'rice', 'Urea')} -> {(1.0, 0.0, 1.0, 'rice', 'DAP')} (3,1.0)\n",
      "{(1.0, 0.0, 1.0, 'rice', 'DAP')} -> {(0.0, 0.0, 2.0, 'rice', 'Urea')} (3,1.0)\n",
      "{(0.0, 0.0, 2.0, 'rice', 'Urea')} -> {(1.0, 0.0, 1.0, 'rice', 'DAP')} (3,1.0)\n",
      "{(1.0, 0.0, 1.0, 'rice', 'Good NPK')} -> {(1.0, 0.0, 2.0, 'rice', 'Urea')} (3,1.0)\n",
      "{(1.0, 0.0, 2.0, 'rice', 'Urea')} -> {(1.0, 0.0, 1.0, 'rice', 'Good NPK')} (3,1.0)\n",
      "{(2.0, 2.0, 0.0, 'Coconut', 'MOP')} -> {(1.0, 2.0, 0.0, 'Coconut', 'Urea')} (3,1.0)\n",
      "{(2.0, 3.0, 2.0, 'Coconut', 'MOP')} -> {(2.0, 3.0, 0.0, 'Coconut', 'Urea')} (3,1.0)\n",
      "{(1.0, 0.0, 1.0, 'rice', 'Good NPK')} -> {(0.0, 0.0, 2.0, 'rice', 'Urea')} (3,1.0)\n",
      "{(0.0, 0.0, 2.0, 'rice', 'Urea')} -> {(1.0, 0.0, 1.0, 'rice', 'Good NPK')} (3,1.0)\n",
      "{(0.0, 0.0, 3.0, 'rice', 'DAP')} -> {(1.0, 0.0, 2.0, 'rice', 'Urea')} (3,1.0)\n",
      "{(1.0, 0.0, 2.0, 'rice', 'Urea')} -> {(0.0, 0.0, 3.0, 'rice', 'DAP')} (3,1.0)\n",
      "{(2.0, 3.0, 2.0, 'Coconut', 'MOP')} -> {(1.0, 2.0, 0.0, 'Coconut', 'Urea')} (3,1.0)\n",
      "{(1.0, 0.0, 1.0, 'Coconut', 'MOP')} -> {(2.0, 2.0, 0.0, 'Coconut', 'Urea')} (3,1.0)\n",
      "{(2.0, 2.0, 0.0, 'Coconut', 'Urea')} -> {(1.0, 0.0, 1.0, 'Coconut', 'MOP')} (3,1.0)\n",
      "{(1.0, 3.0, 1.0, 'Coconut', 'DAP')} -> {(2.0, 3.0, 0.0, 'Coconut', 'DAP')} (3,1.0)\n",
      "{(1.0, 0.0, 2.0, 'rice', 'DAP')} -> {(1.0, 0.0, 1.0, 'rice', 'Good NPK')} (3,1.0)\n",
      "{(1.0, 0.0, 1.0, 'rice', 'Good NPK')} -> {(1.0, 0.0, 2.0, 'rice', 'DAP')} (3,1.0)\n",
      "{(0.0, 0.0, 3.0, 'rice', 'DAP')} -> {(0.0, 0.0, 2.0, 'rice', 'Urea')} (3,1.0)\n",
      "{(0.0, 0.0, 2.0, 'rice', 'Urea')} -> {(0.0, 0.0, 3.0, 'rice', 'DAP')} (3,1.0)\n",
      "{(2.0, 3.0, 1.0, 'Coconut', 'MOP')} -> {(2.0, 3.0, 2.0, 'Coconut', 'MOP')} (3,1.0)\n",
      "{(2.0, 3.0, 2.0, 'Coconut', 'MOP')} -> {(2.0, 3.0, 1.0, 'Coconut', 'MOP')} (3,1.0)\n",
      "{(1.0, 2.0, 0.0, 'Coconut', 'MOP')} -> {(2.0, 3.0, 0.0, 'Coconut', 'Urea')} (3,1.0)\n",
      "{(2.0, 3.0, 0.0, 'Coconut', 'MOP')} -> {(2.0, 3.0, 1.0, 'Coconut', 'Urea')} (3,1.0)\n",
      "{(2.0, 3.0, 1.0, 'Coconut', 'Urea')} -> {(2.0, 3.0, 0.0, 'Coconut', 'MOP')} (3,1.0)\n",
      "{(1.0, 0.0, 3.0, 'rice', 'Urea')} -> {(1.0, 0.0, 1.0, 'rice', 'MOP')} (3,1.0)\n",
      "{(1.0, 0.0, 1.0, 'rice', 'MOP')} -> {(1.0, 0.0, 3.0, 'rice', 'Urea')} (3,1.0)\n",
      "{(1.0, 0.0, 2.0, 'rice', 'DAP')} -> {(1.0, 0.0, 2.0, 'rice', 'Urea')} (3,1.0)\n",
      "{(1.0, 0.0, 2.0, 'rice', 'Urea')} -> {(1.0, 0.0, 2.0, 'rice', 'DAP')} (3,1.0)\n",
      "{(1.0, 0.0, 2.0, 'rice', 'DAP')} -> {(0.0, 0.0, 2.0, 'rice', 'Urea')} (3,1.0)\n",
      "{(0.0, 0.0, 2.0, 'rice', 'Urea')} -> {(1.0, 0.0, 2.0, 'rice', 'DAP')} (3,1.0)\n",
      "{(1.0, 0.0, 1.0, 'rice', 'DAP')} -> {(1.0, 0.0, 2.0, 'rice', 'MOP')} (3,1.0)\n",
      "{(1.0, 0.0, 2.0, 'rice', 'MOP')} -> {(1.0, 0.0, 1.0, 'rice', 'DAP')} (3,1.0)\n",
      "{(2.0, 3.0, 1.0, 'Coconut', 'DAP')} -> {(1.0, 3.0, 1.0, 'Coconut', 'DAP')} (3,1.0)\n",
      "{(1.0, 3.0, 1.0, 'Coconut', 'DAP')} -> {(2.0, 3.0, 1.0, 'Coconut', 'DAP')} (3,1.0)\n",
      "{(1.0, 0.0, 3.0, 'rice', 'Urea')} -> {(1.0, 0.0, 1.0, 'rice', 'DAP')} (3,1.0)\n",
      "{(1.0, 0.0, 1.0, 'rice', 'DAP')} -> {(1.0, 0.0, 3.0, 'rice', 'Urea')} (3,1.0)\n",
      "{(1.0, 0.0, 1.0, 'rice', 'Good NPK')} -> {(1.0, 0.0, 2.0, 'rice', 'MOP')} (3,1.0)\n",
      "{(1.0, 0.0, 2.0, 'rice', 'MOP')} -> {(1.0, 0.0, 1.0, 'rice', 'Good NPK')} (3,1.0)\n",
      "{(2.0, 3.0, 1.0, 'Coconut', 'Urea')} -> {(1.0, 2.0, 0.0, 'Coconut', 'Urea')} (3,1.0)\n",
      "{(2.0, 3.0, 0.0, 'Coconut', 'MOP')} -> {(1.0, 2.0, 0.0, 'Coconut', 'Urea')} (3,1.0)\n",
      "{(0.0, 0.0, 3.0, 'rice', 'DAP')} -> {(1.0, 0.0, 2.0, 'rice', 'MOP')} (3,1.0)\n",
      "{(1.0, 0.0, 2.0, 'rice', 'MOP')} -> {(0.0, 0.0, 3.0, 'rice', 'DAP')} (3,1.0)\n",
      "{(2.0, 3.0, 2.0, 'Coconut', 'MOP')} -> {(2.0, 3.0, 0.0, 'Coconut', 'DAP')} (3,1.0)\n",
      "{(2.0, 2.0, 0.0, 'Coconut', 'Urea')} -> {(1.0, 2.0, 0.0, 'Coconut', 'Urea')} (3,1.0)\n",
      "{(1.0, 3.0, 1.0, 'Coconut', 'DAP')} -> {(2.0, 2.0, 0.0, 'Coconut', 'Good NPK')} (3,1.0)\n",
      "{(2.0, 2.0, 0.0, 'Coconut', 'Good NPK')} -> {(1.0, 3.0, 1.0, 'Coconut', 'DAP')} (3,1.0)\n",
      "{(2.0, 2.0, 0.0, 'Coconut', 'Urea')} -> {(2.0, 3.0, 0.0, 'Coconut', 'Urea')} (3,1.0)\n",
      "{(2.0, 3.0, 0.0, 'Coconut', 'MOP')} -> {(2.0, 2.0, 0.0, 'Coconut', 'Good NPK')} (3,1.0)\n",
      "{(2.0, 2.0, 0.0, 'Coconut', 'Good NPK')} -> {(2.0, 3.0, 0.0, 'Coconut', 'MOP')} (3,1.0)\n",
      "{(1.0, 0.0, 3.0, 'rice', 'Urea')} -> {(1.0, 0.0, 1.0, 'rice', 'Good NPK')} (3,1.0)\n",
      "{(1.0, 0.0, 1.0, 'rice', 'Good NPK')} -> {(1.0, 0.0, 3.0, 'rice', 'Urea')} (3,1.0)\n",
      "{(2.0, 3.0, 1.0, 'Coconut', 'Urea')} -> {(2.0, 2.0, 0.0, 'Coconut', 'Good NPK')} (3,1.0)\n",
      "{(2.0, 2.0, 0.0, 'Coconut', 'Good NPK')} -> {(2.0, 3.0, 1.0, 'Coconut', 'Urea')} (3,1.0)\n",
      "{(2.0, 2.0, 0.0, 'Coconut', 'Urea')} -> {(1.0, 0.0, 1.0, 'Coconut', 'Urea')} (3,1.0)\n",
      "{(1.0, 0.0, 1.0, 'Coconut', 'Urea')} -> {(2.0, 2.0, 0.0, 'Coconut', 'Urea')} (3,1.0)\n",
      "{(1.0, 0.0, 2.0, 'rice', 'DAP')} -> {(1.0, 0.0, 2.0, 'rice', 'MOP')} (3,1.0)\n",
      "{(1.0, 0.0, 2.0, 'rice', 'MOP')} -> {(1.0, 0.0, 2.0, 'rice', 'DAP')} (3,1.0)\n",
      "{(2.0, 2.0, 0.0, 'Coconut', 'Good NPK')} -> {(2.0, 3.0, 0.0, 'Coconut', 'Urea')} (3,1.0)\n",
      "{(1.0, 0.0, 3.0, 'rice', 'Urea')} -> {(1.0, 0.0, 2.0, 'rice', 'Urea')} (3,1.0)\n",
      "{(1.0, 0.0, 2.0, 'rice', 'Urea')} -> {(1.0, 0.0, 3.0, 'rice', 'Urea')} (3,1.0)\n",
      "{(1.0, 0.0, 3.0, 'rice', 'Urea')} -> {(0.0, 0.0, 2.0, 'rice', 'Urea')} (3,1.0)\n",
      "{(0.0, 0.0, 2.0, 'rice', 'Urea')} -> {(1.0, 0.0, 3.0, 'rice', 'Urea')} (3,1.0)\n",
      "{(1.0, 3.0, 1.0, 'Coconut', 'DAP')} -> {(2.0, 3.0, 0.0, 'Coconut', 'Urea')} (3,1.0)\n",
      "{(2.0, 2.0, 0.0, 'Coconut', 'MOP')} -> {(2.0, 3.0, 0.0, 'Coconut', 'DAP')} (3,1.0)\n",
      "{(2.0, 3.0, 0.0, 'Coconut', 'MOP')} -> {(2.0, 3.0, 0.0, 'Coconut', 'Urea')} (3,1.0)\n",
      "{(2.0, 3.0, 1.0, 'Coconut', 'Urea')} -> {(2.0, 3.0, 0.0, 'Coconut', 'DAP')} (3,1.0)\n",
      "{(1.0, 2.0, 0.0, 'Coconut', 'MOP')} -> {(2.0, 2.0, 0.0, 'Coconut', 'Urea')} (3,1.0)\n",
      "{(2.0, 2.0, 0.0, 'Coconut', 'Urea')} -> {(1.0, 2.0, 0.0, 'Coconut', 'MOP')} (3,1.0)\n",
      "{(2.0, 3.0, 1.0, 'Coconut', 'Urea')} -> {(2.0, 3.0, 0.0, 'Coconut', 'Urea')} (3,1.0)\n",
      "{(2.0, 2.0, 0.0, 'Coconut', 'MOP')} -> {(2.0, 3.0, 0.0, 'Coconut', 'Urea')} (3,1.0)\n",
      "{(1.0, 2.0, 0.0, 'Coconut', 'MOP')} -> {(1.0, 2.0, 0.0, 'Coconut', 'Urea')} (3,1.0)\n",
      "{(2.0, 2.0, 0.0, 'Coconut', 'Urea')} -> {(2.0, 3.0, 0.0, 'Coconut', 'DAP')} (3,1.0)\n",
      "{(1.0, 0.0, 1.0, 'Coconut', 'Urea')} -> {(2.0, 3.0, 0.0, 'Coconut', 'Urea')} (3,1.0)\n",
      "{(0.0, 0.0, 3.0, 'rice', 'DAP')} -> {(1.0, 0.0, 1.0, 'rice', 'MOP')} (3,1.0)\n",
      "{(1.0, 0.0, 1.0, 'rice', 'MOP')} -> {(0.0, 0.0, 3.0, 'rice', 'DAP')} (3,1.0)\n",
      "{(2.0, 3.0, 0.0, 'Coconut', 'DAP')} -> {(1.0, 2.0, 0.0, 'Coconut', 'Urea')} (4,1.0)\n",
      "{(1.0, 2.0, 0.0, 'Coconut', 'Urea')} -> {(2.0, 3.0, 0.0, 'Coconut', 'DAP')} (4,1.0)\n",
      "{(2.0, 3.0, 1.0, 'Coconut', 'MOP')} -> {(2.0, 3.0, 0.0, 'Coconut', 'Urea')} (3,1.0)\n",
      "{(1.0, 0.0, 1.0, 'Coconut', 'Urea')} -> {(1.0, 2.0, 0.0, 'Coconut', 'Urea')} (3,1.0)\n",
      "{(2.0, 3.0, 1.0, 'Coconut', 'DAP')} -> {(2.0, 3.0, 1.0, 'Coconut', 'Urea')} (3,1.0)\n",
      "{(2.0, 3.0, 1.0, 'Coconut', 'Urea')} -> {(2.0, 3.0, 1.0, 'Coconut', 'DAP')} (3,1.0)\n",
      "{(1.0, 0.0, 1.0, 'Coconut', 'MOP')} -> {(2.0, 3.0, 0.0, 'Coconut', 'Urea')} (3,1.0)\n",
      "{(1.0, 0.0, 3.0, 'rice', 'Urea')} -> {(1.0, 0.0, 2.0, 'rice', 'MOP')} (3,1.0)\n",
      "{(1.0, 0.0, 2.0, 'rice', 'MOP')} -> {(1.0, 0.0, 3.0, 'rice', 'Urea')} (3,1.0)\n",
      "{(2.0, 2.0, 0.0, 'Coconut', 'Good NPK')} -> {(2.0, 3.0, 0.0, 'Coconut', 'DAP')} (3,1.0)\n",
      "{(1.0, 0.0, 1.0, 'Coconut', 'MOP')} -> {(1.0, 0.0, 1.0, 'Coconut', 'Urea')} (3,1.0)\n",
      "{(1.0, 0.0, 1.0, 'Coconut', 'Urea')} -> {(1.0, 0.0, 1.0, 'Coconut', 'MOP')} (3,1.0)\n",
      "{(1.0, 0.0, 2.0, 'rice', 'MOP')} -> {(1.0, 0.0, 1.0, 'rice', 'MOP')} (3,1.0)\n",
      "{(1.0, 0.0, 1.0, 'rice', 'MOP')} -> {(1.0, 0.0, 2.0, 'rice', 'MOP')} (3,1.0)\n",
      "{(1.0, 0.0, 1.0, 'rice', 'MOP')} -> {(1.0, 0.0, 2.0, 'rice', 'Urea')} (3,1.0)\n",
      "{(1.0, 0.0, 2.0, 'rice', 'Urea')} -> {(1.0, 0.0, 1.0, 'rice', 'MOP')} (3,1.0)\n",
      "{(1.0, 0.0, 1.0, 'rice', 'MOP')} -> {(0.0, 0.0, 2.0, 'rice', 'Urea')} (3,1.0)\n",
      "{(0.0, 0.0, 2.0, 'rice', 'Urea')} -> {(1.0, 0.0, 1.0, 'rice', 'MOP')} (3,1.0)\n",
      "{(2.0, 3.0, 0.0, 'Coconut', 'MOP')} -> {(2.0, 3.0, 1.0, 'Coconut', 'DAP')} (3,1.0)\n",
      "{(2.0, 3.0, 1.0, 'Coconut', 'DAP')} -> {(2.0, 3.0, 0.0, 'Coconut', 'MOP')} (3,1.0)\n",
      "{(1.0, 0.0, 3.0, 'rice', 'Urea')} -> {(1.0, 0.0, 2.0, 'rice', 'DAP')} (3,1.0)\n",
      "{(1.0, 0.0, 2.0, 'rice', 'DAP')} -> {(1.0, 0.0, 3.0, 'rice', 'Urea')} (3,1.0)\n",
      "{(2.0, 2.0, 0.0, 'Coconut', 'Good NPK')} -> {(1.0, 2.0, 0.0, 'Coconut', 'Urea')} (3,1.0)\n",
      "{(2.0, 3.0, 1.0, 'Coconut', 'DAP')} -> {(1.0, 2.0, 0.0, 'Coconut', 'Urea')} (3,1.0)\n",
      "{(2.0, 3.0, 1.0, 'Coconut', 'MOP')} -> {(1.0, 2.0, 0.0, 'Coconut', 'Urea')} (3,1.0)\n",
      "{(1.0, 2.0, 0.0, 'Coconut', 'MOP')} -> {(1.0, 2.0, 0.0, 'Coconut', 'Urea'), (1.0, 0.0, 1.0, 'Coconut', 'MOP'), (1.0, 0.0, 1.0, 'Coconut', 'Urea')} (3,1.0)\n",
      "{(1.0, 0.0, 1.0, 'Coconut', 'MOP')} -> {(1.0, 2.0, 0.0, 'Coconut', 'MOP'), (1.0, 2.0, 0.0, 'Coconut', 'Urea'), (1.0, 0.0, 1.0, 'Coconut', 'Urea')} (3,1.0)\n",
      "{(1.0, 0.0, 1.0, 'Coconut', 'Urea')} -> {(1.0, 2.0, 0.0, 'Coconut', 'MOP'), (1.0, 2.0, 0.0, 'Coconut', 'Urea'), (1.0, 0.0, 1.0, 'Coconut', 'MOP')} (3,1.0)\n",
      "{(1.0, 2.0, 0.0, 'Coconut', 'MOP'), (1.0, 2.0, 0.0, 'Coconut', 'Urea')} -> {(1.0, 0.0, 1.0, 'Coconut', 'MOP'), (1.0, 0.0, 1.0, 'Coconut', 'Urea')} (3,1.0)\n",
      "{(1.0, 2.0, 0.0, 'Coconut', 'MOP'), (1.0, 0.0, 1.0, 'Coconut', 'MOP')} -> {(1.0, 2.0, 0.0, 'Coconut', 'Urea'), (1.0, 0.0, 1.0, 'Coconut', 'Urea')} (3,1.0)\n",
      "{(1.0, 2.0, 0.0, 'Coconut', 'MOP'), (1.0, 0.0, 1.0, 'Coconut', 'Urea')} -> {(1.0, 2.0, 0.0, 'Coconut', 'Urea'), (1.0, 0.0, 1.0, 'Coconut', 'MOP')} (3,1.0)\n",
      "{(1.0, 2.0, 0.0, 'Coconut', 'Urea'), (1.0, 0.0, 1.0, 'Coconut', 'MOP')} -> {(1.0, 2.0, 0.0, 'Coconut', 'MOP'), (1.0, 0.0, 1.0, 'Coconut', 'Urea')} (3,1.0)\n",
      "{(1.0, 2.0, 0.0, 'Coconut', 'Urea'), (1.0, 0.0, 1.0, 'Coconut', 'Urea')} -> {(1.0, 2.0, 0.0, 'Coconut', 'MOP'), (1.0, 0.0, 1.0, 'Coconut', 'MOP')} (3,1.0)\n",
      "{(1.0, 0.0, 1.0, 'Coconut', 'MOP'), (1.0, 0.0, 1.0, 'Coconut', 'Urea')} -> {(1.0, 2.0, 0.0, 'Coconut', 'MOP'), (1.0, 2.0, 0.0, 'Coconut', 'Urea')} (3,1.0)\n",
      "{(1.0, 2.0, 0.0, 'Coconut', 'MOP'), (1.0, 2.0, 0.0, 'Coconut', 'Urea'), (1.0, 0.0, 1.0, 'Coconut', 'MOP')} -> {(1.0, 0.0, 1.0, 'Coconut', 'Urea')} (3,1.0)\n",
      "{(1.0, 2.0, 0.0, 'Coconut', 'MOP'), (1.0, 2.0, 0.0, 'Coconut', 'Urea'), (1.0, 0.0, 1.0, 'Coconut', 'Urea')} -> {(1.0, 0.0, 1.0, 'Coconut', 'MOP')} (3,1.0)\n",
      "{(1.0, 2.0, 0.0, 'Coconut', 'MOP'), (1.0, 0.0, 1.0, 'Coconut', 'MOP'), (1.0, 0.0, 1.0, 'Coconut', 'Urea')} -> {(1.0, 2.0, 0.0, 'Coconut', 'Urea')} (3,1.0)\n",
      "{(1.0, 2.0, 0.0, 'Coconut', 'Urea'), (1.0, 0.0, 1.0, 'Coconut', 'MOP'), (1.0, 0.0, 1.0, 'Coconut', 'Urea')} -> {(1.0, 2.0, 0.0, 'Coconut', 'MOP')} (3,1.0)\n",
      "{(1.0, 2.0, 0.0, 'Coconut', 'MOP')} -> {(2.0, 3.0, 0.0, 'Coconut', 'DAP'), (1.0, 0.0, 1.0, 'Coconut', 'Urea')} (3,1.0)\n",
      "{(1.0, 0.0, 1.0, 'Coconut', 'Urea')} -> {(1.0, 2.0, 0.0, 'Coconut', 'MOP'), (2.0, 3.0, 0.0, 'Coconut', 'DAP')} (3,1.0)\n",
      "{(1.0, 2.0, 0.0, 'Coconut', 'MOP'), (2.0, 3.0, 0.0, 'Coconut', 'DAP')} -> {(1.0, 0.0, 1.0, 'Coconut', 'Urea')} (3,1.0)\n",
      "{(1.0, 2.0, 0.0, 'Coconut', 'MOP'), (1.0, 0.0, 1.0, 'Coconut', 'Urea')} -> {(2.0, 3.0, 0.0, 'Coconut', 'DAP')} (3,1.0)\n",
      "{(2.0, 3.0, 0.0, 'Coconut', 'DAP'), (1.0, 0.0, 1.0, 'Coconut', 'Urea')} -> {(1.0, 2.0, 0.0, 'Coconut', 'MOP')} (3,1.0)\n",
      "{(1.0, 2.0, 0.0, 'Coconut', 'MOP')} -> {(1.0, 0.0, 1.0, 'Coconut', 'MOP'), (1.0, 0.0, 1.0, 'Coconut', 'Urea')} (3,1.0)\n",
      "{(1.0, 0.0, 1.0, 'Coconut', 'MOP')} -> {(1.0, 2.0, 0.0, 'Coconut', 'MOP'), (1.0, 0.0, 1.0, 'Coconut', 'Urea')} (3,1.0)\n",
      "{(1.0, 0.0, 1.0, 'Coconut', 'Urea')} -> {(1.0, 2.0, 0.0, 'Coconut', 'MOP'), (1.0, 0.0, 1.0, 'Coconut', 'MOP')} (3,1.0)\n",
      "{(1.0, 2.0, 0.0, 'Coconut', 'MOP'), (1.0, 0.0, 1.0, 'Coconut', 'MOP')} -> {(1.0, 0.0, 1.0, 'Coconut', 'Urea')} (3,1.0)\n",
      "{(1.0, 2.0, 0.0, 'Coconut', 'MOP'), (1.0, 0.0, 1.0, 'Coconut', 'Urea')} -> {(1.0, 0.0, 1.0, 'Coconut', 'MOP')} (3,1.0)\n",
      "{(1.0, 0.0, 1.0, 'Coconut', 'MOP'), (1.0, 0.0, 1.0, 'Coconut', 'Urea')} -> {(1.0, 2.0, 0.0, 'Coconut', 'MOP')} (3,1.0)\n",
      "{(1.0, 2.0, 0.0, 'Coconut', 'MOP')} -> {(2.0, 3.0, 0.0, 'Coconut', 'DAP'), (1.0, 0.0, 1.0, 'Coconut', 'MOP'), (1.0, 0.0, 1.0, 'Coconut', 'Urea')} (3,1.0)\n",
      "{(1.0, 0.0, 1.0, 'Coconut', 'MOP')} -> {(1.0, 2.0, 0.0, 'Coconut', 'MOP'), (2.0, 3.0, 0.0, 'Coconut', 'DAP'), (1.0, 0.0, 1.0, 'Coconut', 'Urea')} (3,1.0)\n",
      "{(1.0, 0.0, 1.0, 'Coconut', 'Urea')} -> {(1.0, 2.0, 0.0, 'Coconut', 'MOP'), (2.0, 3.0, 0.0, 'Coconut', 'DAP'), (1.0, 0.0, 1.0, 'Coconut', 'MOP')} (3,1.0)\n",
      "{(1.0, 2.0, 0.0, 'Coconut', 'MOP'), (2.0, 3.0, 0.0, 'Coconut', 'DAP')} -> {(1.0, 0.0, 1.0, 'Coconut', 'MOP'), (1.0, 0.0, 1.0, 'Coconut', 'Urea')} (3,1.0)\n",
      "{(1.0, 2.0, 0.0, 'Coconut', 'MOP'), (1.0, 0.0, 1.0, 'Coconut', 'MOP')} -> {(2.0, 3.0, 0.0, 'Coconut', 'DAP'), (1.0, 0.0, 1.0, 'Coconut', 'Urea')} (3,1.0)\n",
      "{(1.0, 2.0, 0.0, 'Coconut', 'MOP'), (1.0, 0.0, 1.0, 'Coconut', 'Urea')} -> {(2.0, 3.0, 0.0, 'Coconut', 'DAP'), (1.0, 0.0, 1.0, 'Coconut', 'MOP')} (3,1.0)\n",
      "{(2.0, 3.0, 0.0, 'Coconut', 'DAP'), (1.0, 0.0, 1.0, 'Coconut', 'MOP')} -> {(1.0, 2.0, 0.0, 'Coconut', 'MOP'), (1.0, 0.0, 1.0, 'Coconut', 'Urea')} (3,1.0)\n",
      "{(2.0, 3.0, 0.0, 'Coconut', 'DAP'), (1.0, 0.0, 1.0, 'Coconut', 'Urea')} -> {(1.0, 2.0, 0.0, 'Coconut', 'MOP'), (1.0, 0.0, 1.0, 'Coconut', 'MOP')} (3,1.0)\n",
      "{(1.0, 0.0, 1.0, 'Coconut', 'MOP'), (1.0, 0.0, 1.0, 'Coconut', 'Urea')} -> {(1.0, 2.0, 0.0, 'Coconut', 'MOP'), (2.0, 3.0, 0.0, 'Coconut', 'DAP')} (3,1.0)\n",
      "{(1.0, 2.0, 0.0, 'Coconut', 'MOP'), (2.0, 3.0, 0.0, 'Coconut', 'DAP'), (1.0, 0.0, 1.0, 'Coconut', 'MOP')} -> {(1.0, 0.0, 1.0, 'Coconut', 'Urea')} (3,1.0)\n",
      "{(1.0, 2.0, 0.0, 'Coconut', 'MOP'), (2.0, 3.0, 0.0, 'Coconut', 'DAP'), (1.0, 0.0, 1.0, 'Coconut', 'Urea')} -> {(1.0, 0.0, 1.0, 'Coconut', 'MOP')} (3,1.0)\n",
      "{(1.0, 2.0, 0.0, 'Coconut', 'MOP'), (1.0, 0.0, 1.0, 'Coconut', 'MOP'), (1.0, 0.0, 1.0, 'Coconut', 'Urea')} -> {(2.0, 3.0, 0.0, 'Coconut', 'DAP')} (3,1.0)\n",
      "{(2.0, 3.0, 0.0, 'Coconut', 'DAP'), (1.0, 0.0, 1.0, 'Coconut', 'MOP'), (1.0, 0.0, 1.0, 'Coconut', 'Urea')} -> {(1.0, 2.0, 0.0, 'Coconut', 'MOP')} (3,1.0)\n",
      "{(1.0, 2.0, 0.0, 'Coconut', 'MOP')} -> {(1.0, 2.0, 0.0, 'Coconut', 'Urea'), (2.0, 2.0, 0.0, 'Coconut', 'Urea'), (1.0, 0.0, 1.0, 'Coconut', 'Urea')} (3,1.0)\n",
      "{(2.0, 2.0, 0.0, 'Coconut', 'Urea')} -> {(1.0, 2.0, 0.0, 'Coconut', 'MOP'), (1.0, 2.0, 0.0, 'Coconut', 'Urea'), (1.0, 0.0, 1.0, 'Coconut', 'Urea')} (3,1.0)\n",
      "{(1.0, 0.0, 1.0, 'Coconut', 'Urea')} -> {(1.0, 2.0, 0.0, 'Coconut', 'MOP'), (1.0, 2.0, 0.0, 'Coconut', 'Urea'), (2.0, 2.0, 0.0, 'Coconut', 'Urea')} (3,1.0)\n",
      "{(1.0, 2.0, 0.0, 'Coconut', 'MOP'), (1.0, 2.0, 0.0, 'Coconut', 'Urea')} -> {(2.0, 2.0, 0.0, 'Coconut', 'Urea'), (1.0, 0.0, 1.0, 'Coconut', 'Urea')} (3,1.0)\n",
      "{(1.0, 2.0, 0.0, 'Coconut', 'MOP'), (2.0, 2.0, 0.0, 'Coconut', 'Urea')} -> {(1.0, 2.0, 0.0, 'Coconut', 'Urea'), (1.0, 0.0, 1.0, 'Coconut', 'Urea')} (3,1.0)\n",
      "{(1.0, 2.0, 0.0, 'Coconut', 'MOP'), (1.0, 0.0, 1.0, 'Coconut', 'Urea')} -> {(1.0, 2.0, 0.0, 'Coconut', 'Urea'), (2.0, 2.0, 0.0, 'Coconut', 'Urea')} (3,1.0)\n",
      "{(1.0, 2.0, 0.0, 'Coconut', 'Urea'), (2.0, 2.0, 0.0, 'Coconut', 'Urea')} -> {(1.0, 2.0, 0.0, 'Coconut', 'MOP'), (1.0, 0.0, 1.0, 'Coconut', 'Urea')} (3,1.0)\n",
      "{(1.0, 2.0, 0.0, 'Coconut', 'Urea'), (1.0, 0.0, 1.0, 'Coconut', 'Urea')} -> {(1.0, 2.0, 0.0, 'Coconut', 'MOP'), (2.0, 2.0, 0.0, 'Coconut', 'Urea')} (3,1.0)\n",
      "{(2.0, 2.0, 0.0, 'Coconut', 'Urea'), (1.0, 0.0, 1.0, 'Coconut', 'Urea')} -> {(1.0, 2.0, 0.0, 'Coconut', 'MOP'), (1.0, 2.0, 0.0, 'Coconut', 'Urea')} (3,1.0)\n",
      "{(1.0, 2.0, 0.0, 'Coconut', 'MOP'), (1.0, 2.0, 0.0, 'Coconut', 'Urea'), (2.0, 2.0, 0.0, 'Coconut', 'Urea')} -> {(1.0, 0.0, 1.0, 'Coconut', 'Urea')} (3,1.0)\n",
      "{(1.0, 2.0, 0.0, 'Coconut', 'MOP'), (1.0, 2.0, 0.0, 'Coconut', 'Urea'), (1.0, 0.0, 1.0, 'Coconut', 'Urea')} -> {(2.0, 2.0, 0.0, 'Coconut', 'Urea')} (3,1.0)\n",
      "{(1.0, 2.0, 0.0, 'Coconut', 'MOP'), (2.0, 2.0, 0.0, 'Coconut', 'Urea'), (1.0, 0.0, 1.0, 'Coconut', 'Urea')} -> {(1.0, 2.0, 0.0, 'Coconut', 'Urea')} (3,1.0)\n",
      "{(1.0, 2.0, 0.0, 'Coconut', 'Urea'), (2.0, 2.0, 0.0, 'Coconut', 'Urea'), (1.0, 0.0, 1.0, 'Coconut', 'Urea')} -> {(1.0, 2.0, 0.0, 'Coconut', 'MOP')} (3,1.0)\n",
      "{(1.0, 2.0, 0.0, 'Coconut', 'MOP')} -> {(2.0, 2.0, 0.0, 'Coconut', 'Urea'), (1.0, 0.0, 1.0, 'Coconut', 'Urea')} (3,1.0)\n",
      "{(2.0, 2.0, 0.0, 'Coconut', 'Urea')} -> {(1.0, 2.0, 0.0, 'Coconut', 'MOP'), (1.0, 0.0, 1.0, 'Coconut', 'Urea')} (3,1.0)\n",
      "{(1.0, 0.0, 1.0, 'Coconut', 'Urea')} -> {(1.0, 2.0, 0.0, 'Coconut', 'MOP'), (2.0, 2.0, 0.0, 'Coconut', 'Urea')} (3,1.0)\n",
      "{(1.0, 2.0, 0.0, 'Coconut', 'MOP'), (2.0, 2.0, 0.0, 'Coconut', 'Urea')} -> {(1.0, 0.0, 1.0, 'Coconut', 'Urea')} (3,1.0)\n",
      "{(1.0, 2.0, 0.0, 'Coconut', 'MOP'), (1.0, 0.0, 1.0, 'Coconut', 'Urea')} -> {(2.0, 2.0, 0.0, 'Coconut', 'Urea')} (3,1.0)\n",
      "{(2.0, 2.0, 0.0, 'Coconut', 'Urea'), (1.0, 0.0, 1.0, 'Coconut', 'Urea')} -> {(1.0, 2.0, 0.0, 'Coconut', 'MOP')} (3,1.0)\n",
      "{(1.0, 2.0, 0.0, 'Coconut', 'MOP')} -> {(1.0, 2.0, 0.0, 'Coconut', 'Urea'), (1.0, 0.0, 1.0, 'Coconut', 'Urea')} (3,1.0)\n",
      "{(1.0, 0.0, 1.0, 'Coconut', 'Urea')} -> {(1.0, 2.0, 0.0, 'Coconut', 'MOP'), (1.0, 2.0, 0.0, 'Coconut', 'Urea')} (3,1.0)\n",
      "{(1.0, 2.0, 0.0, 'Coconut', 'MOP'), (1.0, 2.0, 0.0, 'Coconut', 'Urea')} -> {(1.0, 0.0, 1.0, 'Coconut', 'Urea')} (3,1.0)\n",
      "{(1.0, 2.0, 0.0, 'Coconut', 'MOP'), (1.0, 0.0, 1.0, 'Coconut', 'Urea')} -> {(1.0, 2.0, 0.0, 'Coconut', 'Urea')} (3,1.0)\n",
      "{(1.0, 2.0, 0.0, 'Coconut', 'Urea'), (1.0, 0.0, 1.0, 'Coconut', 'Urea')} -> {(1.0, 2.0, 0.0, 'Coconut', 'MOP')} (3,1.0)\n",
      "{(0.0, 0.0, 3.0, 'rice', 'DAP')} -> {(1.0, 0.0, 1.0, 'rice', 'DAP'), (1.0, 0.0, 1.0, 'rice', 'MOP')} (3,1.0)\n",
      "{(1.0, 0.0, 1.0, 'rice', 'DAP')} -> {(0.0, 0.0, 3.0, 'rice', 'DAP'), (1.0, 0.0, 1.0, 'rice', 'MOP')} (3,1.0)\n",
      "{(1.0, 0.0, 1.0, 'rice', 'MOP')} -> {(0.0, 0.0, 3.0, 'rice', 'DAP'), (1.0, 0.0, 1.0, 'rice', 'DAP')} (3,1.0)\n",
      "{(0.0, 0.0, 3.0, 'rice', 'DAP'), (1.0, 0.0, 1.0, 'rice', 'DAP')} -> {(1.0, 0.0, 1.0, 'rice', 'MOP')} (3,1.0)\n",
      "{(0.0, 0.0, 3.0, 'rice', 'DAP'), (1.0, 0.0, 1.0, 'rice', 'MOP')} -> {(1.0, 0.0, 1.0, 'rice', 'DAP')} (3,1.0)\n",
      "{(1.0, 0.0, 1.0, 'rice', 'DAP'), (1.0, 0.0, 1.0, 'rice', 'MOP')} -> {(0.0, 0.0, 3.0, 'rice', 'DAP')} (3,1.0)\n",
      "{(0.0, 0.0, 3.0, 'rice', 'DAP')} -> {(1.0, 0.0, 2.0, 'rice', 'MOP'), (1.0, 0.0, 1.0, 'rice', 'DAP'), (1.0, 0.0, 1.0, 'rice', 'MOP')} (3,1.0)\n",
      "{(1.0, 0.0, 1.0, 'rice', 'DAP')} -> {(0.0, 0.0, 3.0, 'rice', 'DAP'), (1.0, 0.0, 2.0, 'rice', 'MOP'), (1.0, 0.0, 1.0, 'rice', 'MOP')} (3,1.0)\n",
      "{(1.0, 0.0, 2.0, 'rice', 'MOP')} -> {(0.0, 0.0, 3.0, 'rice', 'DAP'), (1.0, 0.0, 1.0, 'rice', 'DAP'), (1.0, 0.0, 1.0, 'rice', 'MOP')} (3,1.0)\n",
      "{(1.0, 0.0, 1.0, 'rice', 'MOP')} -> {(0.0, 0.0, 3.0, 'rice', 'DAP'), (1.0, 0.0, 1.0, 'rice', 'DAP'), (1.0, 0.0, 2.0, 'rice', 'MOP')} (3,1.0)\n",
      "{(0.0, 0.0, 3.0, 'rice', 'DAP'), (1.0, 0.0, 1.0, 'rice', 'DAP')} -> {(1.0, 0.0, 2.0, 'rice', 'MOP'), (1.0, 0.0, 1.0, 'rice', 'MOP')} (3,1.0)\n",
      "{(0.0, 0.0, 3.0, 'rice', 'DAP'), (1.0, 0.0, 2.0, 'rice', 'MOP')} -> {(1.0, 0.0, 1.0, 'rice', 'DAP'), (1.0, 0.0, 1.0, 'rice', 'MOP')} (3,1.0)\n",
      "{(0.0, 0.0, 3.0, 'rice', 'DAP'), (1.0, 0.0, 1.0, 'rice', 'MOP')} -> {(1.0, 0.0, 2.0, 'rice', 'MOP'), (1.0, 0.0, 1.0, 'rice', 'DAP')} (3,1.0)\n",
      "{(1.0, 0.0, 2.0, 'rice', 'MOP'), (1.0, 0.0, 1.0, 'rice', 'DAP')} -> {(0.0, 0.0, 3.0, 'rice', 'DAP'), (1.0, 0.0, 1.0, 'rice', 'MOP')} (3,1.0)\n",
      "{(1.0, 0.0, 1.0, 'rice', 'DAP'), (1.0, 0.0, 1.0, 'rice', 'MOP')} -> {(0.0, 0.0, 3.0, 'rice', 'DAP'), (1.0, 0.0, 2.0, 'rice', 'MOP')} (3,1.0)\n",
      "{(1.0, 0.0, 2.0, 'rice', 'MOP'), (1.0, 0.0, 1.0, 'rice', 'MOP')} -> {(0.0, 0.0, 3.0, 'rice', 'DAP'), (1.0, 0.0, 1.0, 'rice', 'DAP')} (3,1.0)\n",
      "{(0.0, 0.0, 3.0, 'rice', 'DAP'), (1.0, 0.0, 1.0, 'rice', 'DAP'), (1.0, 0.0, 2.0, 'rice', 'MOP')} -> {(1.0, 0.0, 1.0, 'rice', 'MOP')} (3,1.0)\n",
      "{(0.0, 0.0, 3.0, 'rice', 'DAP'), (1.0, 0.0, 1.0, 'rice', 'DAP'), (1.0, 0.0, 1.0, 'rice', 'MOP')} -> {(1.0, 0.0, 2.0, 'rice', 'MOP')} (3,1.0)\n",
      "{(0.0, 0.0, 3.0, 'rice', 'DAP'), (1.0, 0.0, 2.0, 'rice', 'MOP'), (1.0, 0.0, 1.0, 'rice', 'MOP')} -> {(1.0, 0.0, 1.0, 'rice', 'DAP')} (3,1.0)\n",
      "{(1.0, 0.0, 2.0, 'rice', 'MOP'), (1.0, 0.0, 1.0, 'rice', 'DAP'), (1.0, 0.0, 1.0, 'rice', 'MOP')} -> {(0.0, 0.0, 3.0, 'rice', 'DAP')} (3,1.0)\n",
      "{(1.0, 0.0, 1.0, 'Coconut', 'MOP')} -> {(2.0, 3.0, 0.0, 'Coconut', 'DAP'), (1.0, 2.0, 0.0, 'Coconut', 'Urea'), (1.0, 0.0, 1.0, 'Coconut', 'Urea')} (3,1.0)\n",
      "{(1.0, 0.0, 1.0, 'Coconut', 'Urea')} -> {(2.0, 3.0, 0.0, 'Coconut', 'DAP'), (1.0, 2.0, 0.0, 'Coconut', 'Urea'), (1.0, 0.0, 1.0, 'Coconut', 'MOP')} (3,1.0)\n",
      "{(2.0, 3.0, 0.0, 'Coconut', 'DAP'), (1.0, 0.0, 1.0, 'Coconut', 'MOP')} -> {(1.0, 2.0, 0.0, 'Coconut', 'Urea'), (1.0, 0.0, 1.0, 'Coconut', 'Urea')} (3,1.0)\n",
      "{(2.0, 3.0, 0.0, 'Coconut', 'DAP'), (1.0, 0.0, 1.0, 'Coconut', 'Urea')} -> {(1.0, 2.0, 0.0, 'Coconut', 'Urea'), (1.0, 0.0, 1.0, 'Coconut', 'MOP')} (3,1.0)\n",
      "{(1.0, 2.0, 0.0, 'Coconut', 'Urea'), (1.0, 0.0, 1.0, 'Coconut', 'MOP')} -> {(2.0, 3.0, 0.0, 'Coconut', 'DAP'), (1.0, 0.0, 1.0, 'Coconut', 'Urea')} (3,1.0)\n",
      "{(1.0, 2.0, 0.0, 'Coconut', 'Urea'), (1.0, 0.0, 1.0, 'Coconut', 'Urea')} -> {(2.0, 3.0, 0.0, 'Coconut', 'DAP'), (1.0, 0.0, 1.0, 'Coconut', 'MOP')} (3,1.0)\n",
      "{(1.0, 0.0, 1.0, 'Coconut', 'MOP'), (1.0, 0.0, 1.0, 'Coconut', 'Urea')} -> {(2.0, 3.0, 0.0, 'Coconut', 'DAP'), (1.0, 2.0, 0.0, 'Coconut', 'Urea')} (3,1.0)\n",
      "{(2.0, 3.0, 0.0, 'Coconut', 'DAP'), (1.0, 2.0, 0.0, 'Coconut', 'Urea'), (1.0, 0.0, 1.0, 'Coconut', 'MOP')} -> {(1.0, 0.0, 1.0, 'Coconut', 'Urea')} (3,1.0)\n",
      "{(2.0, 3.0, 0.0, 'Coconut', 'DAP'), (1.0, 2.0, 0.0, 'Coconut', 'Urea'), (1.0, 0.0, 1.0, 'Coconut', 'Urea')} -> {(1.0, 0.0, 1.0, 'Coconut', 'MOP')} (3,1.0)\n",
      "{(2.0, 3.0, 0.0, 'Coconut', 'DAP'), (1.0, 0.0, 1.0, 'Coconut', 'MOP'), (1.0, 0.0, 1.0, 'Coconut', 'Urea')} -> {(1.0, 2.0, 0.0, 'Coconut', 'Urea')} (3,1.0)\n",
      "{(1.0, 2.0, 0.0, 'Coconut', 'Urea'), (1.0, 0.0, 1.0, 'Coconut', 'MOP'), (1.0, 0.0, 1.0, 'Coconut', 'Urea')} -> {(2.0, 3.0, 0.0, 'Coconut', 'DAP')} (3,1.0)\n",
      "{(1.0, 2.0, 0.0, 'Coconut', 'MOP')} -> {(1.0, 2.0, 0.0, 'Coconut', 'Urea'), (1.0, 0.0, 1.0, 'Coconut', 'MOP')} (3,1.0)\n",
      "{(1.0, 0.0, 1.0, 'Coconut', 'MOP')} -> {(1.0, 2.0, 0.0, 'Coconut', 'MOP'), (1.0, 2.0, 0.0, 'Coconut', 'Urea')} (3,1.0)\n",
      "{(1.0, 2.0, 0.0, 'Coconut', 'MOP'), (1.0, 2.0, 0.0, 'Coconut', 'Urea')} -> {(1.0, 0.0, 1.0, 'Coconut', 'MOP')} (3,1.0)\n",
      "{(1.0, 2.0, 0.0, 'Coconut', 'MOP'), (1.0, 0.0, 1.0, 'Coconut', 'MOP')} -> {(1.0, 2.0, 0.0, 'Coconut', 'Urea')} (3,1.0)\n",
      "{(1.0, 2.0, 0.0, 'Coconut', 'Urea'), (1.0, 0.0, 1.0, 'Coconut', 'MOP')} -> {(1.0, 2.0, 0.0, 'Coconut', 'MOP')} (3,1.0)\n",
      "{(1.0, 0.0, 1.0, 'Coconut', 'MOP')} -> {(2.0, 3.0, 0.0, 'Coconut', 'DAP'), (1.0, 2.0, 0.0, 'Coconut', 'Urea')} (3,1.0)\n",
      "{(2.0, 3.0, 0.0, 'Coconut', 'DAP'), (1.0, 0.0, 1.0, 'Coconut', 'MOP')} -> {(1.0, 2.0, 0.0, 'Coconut', 'Urea')} (3,1.0)\n",
      "{(1.0, 2.0, 0.0, 'Coconut', 'Urea'), (1.0, 0.0, 1.0, 'Coconut', 'MOP')} -> {(2.0, 3.0, 0.0, 'Coconut', 'DAP')} (3,1.0)\n",
      "{(1.0, 0.0, 1.0, 'Coconut', 'MOP')} -> {(1.0, 2.0, 0.0, 'Coconut', 'Urea'), (1.0, 0.0, 1.0, 'Coconut', 'Urea')} (3,1.0)\n",
      "{(1.0, 0.0, 1.0, 'Coconut', 'Urea')} -> {(1.0, 2.0, 0.0, 'Coconut', 'Urea'), (1.0, 0.0, 1.0, 'Coconut', 'MOP')} (3,1.0)\n",
      "{(1.0, 2.0, 0.0, 'Coconut', 'Urea'), (1.0, 0.0, 1.0, 'Coconut', 'MOP')} -> {(1.0, 0.0, 1.0, 'Coconut', 'Urea')} (3,1.0)\n",
      "{(1.0, 2.0, 0.0, 'Coconut', 'Urea'), (1.0, 0.0, 1.0, 'Coconut', 'Urea')} -> {(1.0, 0.0, 1.0, 'Coconut', 'MOP')} (3,1.0)\n",
      "{(1.0, 0.0, 1.0, 'Coconut', 'MOP'), (1.0, 0.0, 1.0, 'Coconut', 'Urea')} -> {(1.0, 2.0, 0.0, 'Coconut', 'Urea')} (3,1.0)\n",
      "{(1.0, 0.0, 1.0, 'Coconut', 'MOP')} -> {(2.0, 3.0, 0.0, 'Coconut', 'DAP'), (1.0, 0.0, 1.0, 'Coconut', 'Urea')} (3,1.0)\n",
      "{(1.0, 0.0, 1.0, 'Coconut', 'Urea')} -> {(2.0, 3.0, 0.0, 'Coconut', 'DAP'), (1.0, 0.0, 1.0, 'Coconut', 'MOP')} (3,1.0)\n",
      "{(2.0, 3.0, 0.0, 'Coconut', 'DAP'), (1.0, 0.0, 1.0, 'Coconut', 'MOP')} -> {(1.0, 0.0, 1.0, 'Coconut', 'Urea')} (3,1.0)\n",
      "{(2.0, 3.0, 0.0, 'Coconut', 'DAP'), (1.0, 0.0, 1.0, 'Coconut', 'Urea')} -> {(1.0, 0.0, 1.0, 'Coconut', 'MOP')} (3,1.0)\n",
      "{(1.0, 0.0, 1.0, 'Coconut', 'MOP'), (1.0, 0.0, 1.0, 'Coconut', 'Urea')} -> {(2.0, 3.0, 0.0, 'Coconut', 'DAP')} (3,1.0)\n",
      "{(2.0, 2.0, 0.0, 'Coconut', 'Urea')} -> {(2.0, 3.0, 0.0, 'Coconut', 'DAP'), (1.0, 2.0, 0.0, 'Coconut', 'Urea'), (1.0, 0.0, 1.0, 'Coconut', 'Urea')} (3,1.0)\n",
      "{(1.0, 0.0, 1.0, 'Coconut', 'Urea')} -> {(2.0, 3.0, 0.0, 'Coconut', 'DAP'), (1.0, 2.0, 0.0, 'Coconut', 'Urea'), (2.0, 2.0, 0.0, 'Coconut', 'Urea')} (3,1.0)\n",
      "{(2.0, 3.0, 0.0, 'Coconut', 'DAP'), (2.0, 2.0, 0.0, 'Coconut', 'Urea')} -> {(1.0, 2.0, 0.0, 'Coconut', 'Urea'), (1.0, 0.0, 1.0, 'Coconut', 'Urea')} (3,1.0)\n",
      "{(2.0, 3.0, 0.0, 'Coconut', 'DAP'), (1.0, 0.0, 1.0, 'Coconut', 'Urea')} -> {(1.0, 2.0, 0.0, 'Coconut', 'Urea'), (2.0, 2.0, 0.0, 'Coconut', 'Urea')} (3,1.0)\n",
      "{(1.0, 2.0, 0.0, 'Coconut', 'Urea'), (2.0, 2.0, 0.0, 'Coconut', 'Urea')} -> {(2.0, 3.0, 0.0, 'Coconut', 'DAP'), (1.0, 0.0, 1.0, 'Coconut', 'Urea')} (3,1.0)\n",
      "{(1.0, 2.0, 0.0, 'Coconut', 'Urea'), (1.0, 0.0, 1.0, 'Coconut', 'Urea')} -> {(2.0, 3.0, 0.0, 'Coconut', 'DAP'), (2.0, 2.0, 0.0, 'Coconut', 'Urea')} (3,1.0)\n",
      "{(2.0, 2.0, 0.0, 'Coconut', 'Urea'), (1.0, 0.0, 1.0, 'Coconut', 'Urea')} -> {(2.0, 3.0, 0.0, 'Coconut', 'DAP'), (1.0, 2.0, 0.0, 'Coconut', 'Urea')} (3,1.0)\n",
      "{(2.0, 3.0, 0.0, 'Coconut', 'DAP'), (1.0, 2.0, 0.0, 'Coconut', 'Urea'), (2.0, 2.0, 0.0, 'Coconut', 'Urea')} -> {(1.0, 0.0, 1.0, 'Coconut', 'Urea')} (3,1.0)\n",
      "{(2.0, 3.0, 0.0, 'Coconut', 'DAP'), (1.0, 2.0, 0.0, 'Coconut', 'Urea'), (1.0, 0.0, 1.0, 'Coconut', 'Urea')} -> {(2.0, 2.0, 0.0, 'Coconut', 'Urea')} (3,1.0)\n",
      "{(2.0, 3.0, 0.0, 'Coconut', 'DAP'), (2.0, 2.0, 0.0, 'Coconut', 'Urea'), (1.0, 0.0, 1.0, 'Coconut', 'Urea')} -> {(1.0, 2.0, 0.0, 'Coconut', 'Urea')} (3,1.0)\n",
      "{(1.0, 2.0, 0.0, 'Coconut', 'Urea'), (2.0, 2.0, 0.0, 'Coconut', 'Urea'), (1.0, 0.0, 1.0, 'Coconut', 'Urea')} -> {(2.0, 3.0, 0.0, 'Coconut', 'DAP')} (3,1.0)\n",
      "{(2.0, 2.0, 0.0, 'Coconut', 'Urea')} -> {(2.0, 3.0, 0.0, 'Coconut', 'DAP'), (1.0, 0.0, 1.0, 'Coconut', 'Urea')} (3,1.0)\n",
      "{(1.0, 0.0, 1.0, 'Coconut', 'Urea')} -> {(2.0, 3.0, 0.0, 'Coconut', 'DAP'), (2.0, 2.0, 0.0, 'Coconut', 'Urea')} (3,1.0)\n",
      "{(2.0, 3.0, 0.0, 'Coconut', 'DAP'), (2.0, 2.0, 0.0, 'Coconut', 'Urea')} -> {(1.0, 0.0, 1.0, 'Coconut', 'Urea')} (3,1.0)\n",
      "{(2.0, 3.0, 0.0, 'Coconut', 'DAP'), (1.0, 0.0, 1.0, 'Coconut', 'Urea')} -> {(2.0, 2.0, 0.0, 'Coconut', 'Urea')} (3,1.0)\n",
      "{(2.0, 2.0, 0.0, 'Coconut', 'Urea'), (1.0, 0.0, 1.0, 'Coconut', 'Urea')} -> {(2.0, 3.0, 0.0, 'Coconut', 'DAP')} (3,1.0)\n",
      "{(1.0, 0.0, 1.0, 'Coconut', 'Urea')} -> {(2.0, 3.0, 0.0, 'Coconut', 'DAP'), (1.0, 2.0, 0.0, 'Coconut', 'Urea')} (3,1.0)\n",
      "{(2.0, 3.0, 0.0, 'Coconut', 'DAP'), (1.0, 0.0, 1.0, 'Coconut', 'Urea')} -> {(1.0, 2.0, 0.0, 'Coconut', 'Urea')} (3,1.0)\n",
      "{(1.0, 2.0, 0.0, 'Coconut', 'Urea'), (1.0, 0.0, 1.0, 'Coconut', 'Urea')} -> {(2.0, 3.0, 0.0, 'Coconut', 'DAP')} (3,1.0)\n",
      "{(1.0, 3.0, 1.0, 'Coconut', 'DAP')} -> {(2.0, 3.0, 0.0, 'Coconut', 'DAP'), (1.0, 2.0, 0.0, 'Coconut', 'Urea')} (3,1.0)\n",
      "{(2.0, 3.0, 0.0, 'Coconut', 'DAP'), (1.0, 3.0, 1.0, 'Coconut', 'DAP')} -> {(1.0, 2.0, 0.0, 'Coconut', 'Urea')} (3,1.0)\n",
      "{(1.0, 2.0, 0.0, 'Coconut', 'Urea'), (1.0, 3.0, 1.0, 'Coconut', 'DAP')} -> {(2.0, 3.0, 0.0, 'Coconut', 'DAP')} (3,1.0)\n",
      "{(0.0, 0.0, 3.0, 'rice', 'DAP')} -> {(1.0, 0.0, 2.0, 'rice', 'MOP'), (1.0, 0.0, 1.0, 'rice', 'DAP'), (0.0, 0.0, 2.0, 'rice', 'Urea')} (3,1.0)\n",
      "{(1.0, 0.0, 1.0, 'rice', 'DAP')} -> {(0.0, 0.0, 3.0, 'rice', 'DAP'), (1.0, 0.0, 2.0, 'rice', 'MOP'), (0.0, 0.0, 2.0, 'rice', 'Urea')} (3,1.0)\n",
      "{(1.0, 0.0, 2.0, 'rice', 'MOP')} -> {(0.0, 0.0, 3.0, 'rice', 'DAP'), (1.0, 0.0, 1.0, 'rice', 'DAP'), (0.0, 0.0, 2.0, 'rice', 'Urea')} (3,1.0)\n",
      "{(0.0, 0.0, 2.0, 'rice', 'Urea')} -> {(0.0, 0.0, 3.0, 'rice', 'DAP'), (1.0, 0.0, 1.0, 'rice', 'DAP'), (1.0, 0.0, 2.0, 'rice', 'MOP')} (3,1.0)\n",
      "{(0.0, 0.0, 3.0, 'rice', 'DAP'), (1.0, 0.0, 1.0, 'rice', 'DAP')} -> {(1.0, 0.0, 2.0, 'rice', 'MOP'), (0.0, 0.0, 2.0, 'rice', 'Urea')} (3,1.0)\n",
      "{(0.0, 0.0, 3.0, 'rice', 'DAP'), (1.0, 0.0, 2.0, 'rice', 'MOP')} -> {(0.0, 0.0, 2.0, 'rice', 'Urea'), (1.0, 0.0, 1.0, 'rice', 'DAP')} (3,1.0)\n",
      "{(0.0, 0.0, 3.0, 'rice', 'DAP'), (0.0, 0.0, 2.0, 'rice', 'Urea')} -> {(1.0, 0.0, 2.0, 'rice', 'MOP'), (1.0, 0.0, 1.0, 'rice', 'DAP')} (3,1.0)\n",
      "{(1.0, 0.0, 2.0, 'rice', 'MOP'), (1.0, 0.0, 1.0, 'rice', 'DAP')} -> {(0.0, 0.0, 3.0, 'rice', 'DAP'), (0.0, 0.0, 2.0, 'rice', 'Urea')} (3,1.0)\n",
      "{(0.0, 0.0, 2.0, 'rice', 'Urea'), (1.0, 0.0, 1.0, 'rice', 'DAP')} -> {(0.0, 0.0, 3.0, 'rice', 'DAP'), (1.0, 0.0, 2.0, 'rice', 'MOP')} (3,1.0)\n",
      "{(1.0, 0.0, 2.0, 'rice', 'MOP'), (0.0, 0.0, 2.0, 'rice', 'Urea')} -> {(0.0, 0.0, 3.0, 'rice', 'DAP'), (1.0, 0.0, 1.0, 'rice', 'DAP')} (3,1.0)\n",
      "{(0.0, 0.0, 3.0, 'rice', 'DAP'), (1.0, 0.0, 1.0, 'rice', 'DAP'), (1.0, 0.0, 2.0, 'rice', 'MOP')} -> {(0.0, 0.0, 2.0, 'rice', 'Urea')} (3,1.0)\n",
      "{(0.0, 0.0, 3.0, 'rice', 'DAP'), (1.0, 0.0, 1.0, 'rice', 'DAP'), (0.0, 0.0, 2.0, 'rice', 'Urea')} -> {(1.0, 0.0, 2.0, 'rice', 'MOP')} (3,1.0)\n",
      "{(0.0, 0.0, 3.0, 'rice', 'DAP'), (1.0, 0.0, 2.0, 'rice', 'MOP'), (0.0, 0.0, 2.0, 'rice', 'Urea')} -> {(1.0, 0.0, 1.0, 'rice', 'DAP')} (3,1.0)\n",
      "{(1.0, 0.0, 2.0, 'rice', 'MOP'), (1.0, 0.0, 1.0, 'rice', 'DAP'), (0.0, 0.0, 2.0, 'rice', 'Urea')} -> {(0.0, 0.0, 3.0, 'rice', 'DAP')} (3,1.0)\n",
      "{(0.0, 0.0, 3.0, 'rice', 'DAP')} -> {(1.0, 0.0, 1.0, 'rice', 'DAP'), (1.0, 0.0, 2.0, 'rice', 'Urea')} (3,1.0)\n",
      "{(1.0, 0.0, 1.0, 'rice', 'DAP')} -> {(0.0, 0.0, 3.0, 'rice', 'DAP'), (1.0, 0.0, 2.0, 'rice', 'Urea')} (3,1.0)\n",
      "{(1.0, 0.0, 2.0, 'rice', 'Urea')} -> {(0.0, 0.0, 3.0, 'rice', 'DAP'), (1.0, 0.0, 1.0, 'rice', 'DAP')} (3,1.0)\n",
      "{(0.0, 0.0, 3.0, 'rice', 'DAP'), (1.0, 0.0, 1.0, 'rice', 'DAP')} -> {(1.0, 0.0, 2.0, 'rice', 'Urea')} (3,1.0)\n",
      "{(0.0, 0.0, 3.0, 'rice', 'DAP'), (1.0, 0.0, 2.0, 'rice', 'Urea')} -> {(1.0, 0.0, 1.0, 'rice', 'DAP')} (3,1.0)\n",
      "{(1.0, 0.0, 1.0, 'rice', 'DAP'), (1.0, 0.0, 2.0, 'rice', 'Urea')} -> {(0.0, 0.0, 3.0, 'rice', 'DAP')} (3,1.0)\n",
      "{(0.0, 0.0, 3.0, 'rice', 'DAP')} -> {(0.0, 0.0, 2.0, 'rice', 'Urea'), (1.0, 0.0, 1.0, 'rice', 'DAP')} (3,1.0)\n",
      "{(1.0, 0.0, 1.0, 'rice', 'DAP')} -> {(0.0, 0.0, 3.0, 'rice', 'DAP'), (0.0, 0.0, 2.0, 'rice', 'Urea')} (3,1.0)\n",
      "{(0.0, 0.0, 2.0, 'rice', 'Urea')} -> {(0.0, 0.0, 3.0, 'rice', 'DAP'), (1.0, 0.0, 1.0, 'rice', 'DAP')} (3,1.0)\n",
      "{(0.0, 0.0, 3.0, 'rice', 'DAP'), (1.0, 0.0, 1.0, 'rice', 'DAP')} -> {(0.0, 0.0, 2.0, 'rice', 'Urea')} (3,1.0)\n",
      "{(0.0, 0.0, 3.0, 'rice', 'DAP'), (0.0, 0.0, 2.0, 'rice', 'Urea')} -> {(1.0, 0.0, 1.0, 'rice', 'DAP')} (3,1.0)\n",
      "{(0.0, 0.0, 2.0, 'rice', 'Urea'), (1.0, 0.0, 1.0, 'rice', 'DAP')} -> {(0.0, 0.0, 3.0, 'rice', 'DAP')} (3,1.0)\n",
      "{(0.0, 0.0, 3.0, 'rice', 'DAP')} -> {(1.0, 0.0, 2.0, 'rice', 'MOP'), (1.0, 0.0, 1.0, 'rice', 'DAP')} (3,1.0)\n",
      "{(1.0, 0.0, 1.0, 'rice', 'DAP')} -> {(0.0, 0.0, 3.0, 'rice', 'DAP'), (1.0, 0.0, 2.0, 'rice', 'MOP')} (3,1.0)\n",
      "{(1.0, 0.0, 2.0, 'rice', 'MOP')} -> {(0.0, 0.0, 3.0, 'rice', 'DAP'), (1.0, 0.0, 1.0, 'rice', 'DAP')} (3,1.0)\n",
      "{(0.0, 0.0, 3.0, 'rice', 'DAP'), (1.0, 0.0, 1.0, 'rice', 'DAP')} -> {(1.0, 0.0, 2.0, 'rice', 'MOP')} (3,1.0)\n",
      "{(0.0, 0.0, 3.0, 'rice', 'DAP'), (1.0, 0.0, 2.0, 'rice', 'MOP')} -> {(1.0, 0.0, 1.0, 'rice', 'DAP')} (3,1.0)\n",
      "{(1.0, 0.0, 2.0, 'rice', 'MOP'), (1.0, 0.0, 1.0, 'rice', 'DAP')} -> {(0.0, 0.0, 3.0, 'rice', 'DAP')} (3,1.0)\n",
      "{(0.0, 0.0, 3.0, 'rice', 'DAP')} -> {(0.0, 0.0, 2.0, 'rice', 'Urea'), (1.0, 0.0, 1.0, 'rice', 'DAP'), (1.0, 0.0, 1.0, 'rice', 'MOP')} (3,1.0)\n",
      "{(1.0, 0.0, 1.0, 'rice', 'DAP')} -> {(0.0, 0.0, 3.0, 'rice', 'DAP'), (0.0, 0.0, 2.0, 'rice', 'Urea'), (1.0, 0.0, 1.0, 'rice', 'MOP')} (3,1.0)\n",
      "{(1.0, 0.0, 1.0, 'rice', 'MOP')} -> {(0.0, 0.0, 3.0, 'rice', 'DAP'), (1.0, 0.0, 1.0, 'rice', 'DAP'), (0.0, 0.0, 2.0, 'rice', 'Urea')} (3,1.0)\n",
      "{(0.0, 0.0, 2.0, 'rice', 'Urea')} -> {(0.0, 0.0, 3.0, 'rice', 'DAP'), (1.0, 0.0, 1.0, 'rice', 'DAP'), (1.0, 0.0, 1.0, 'rice', 'MOP')} (3,1.0)\n",
      "{(0.0, 0.0, 3.0, 'rice', 'DAP'), (1.0, 0.0, 1.0, 'rice', 'DAP')} -> {(0.0, 0.0, 2.0, 'rice', 'Urea'), (1.0, 0.0, 1.0, 'rice', 'MOP')} (3,1.0)\n",
      "{(0.0, 0.0, 3.0, 'rice', 'DAP'), (1.0, 0.0, 1.0, 'rice', 'MOP')} -> {(0.0, 0.0, 2.0, 'rice', 'Urea'), (1.0, 0.0, 1.0, 'rice', 'DAP')} (3,1.0)\n",
      "{(0.0, 0.0, 3.0, 'rice', 'DAP'), (0.0, 0.0, 2.0, 'rice', 'Urea')} -> {(1.0, 0.0, 1.0, 'rice', 'DAP'), (1.0, 0.0, 1.0, 'rice', 'MOP')} (3,1.0)\n",
      "{(1.0, 0.0, 1.0, 'rice', 'DAP'), (1.0, 0.0, 1.0, 'rice', 'MOP')} -> {(0.0, 0.0, 3.0, 'rice', 'DAP'), (0.0, 0.0, 2.0, 'rice', 'Urea')} (3,1.0)\n",
      "{(0.0, 0.0, 2.0, 'rice', 'Urea'), (1.0, 0.0, 1.0, 'rice', 'DAP')} -> {(0.0, 0.0, 3.0, 'rice', 'DAP'), (1.0, 0.0, 1.0, 'rice', 'MOP')} (3,1.0)\n",
      "{(0.0, 0.0, 2.0, 'rice', 'Urea'), (1.0, 0.0, 1.0, 'rice', 'MOP')} -> {(0.0, 0.0, 3.0, 'rice', 'DAP'), (1.0, 0.0, 1.0, 'rice', 'DAP')} (3,1.0)\n",
      "{(0.0, 0.0, 3.0, 'rice', 'DAP'), (1.0, 0.0, 1.0, 'rice', 'DAP'), (1.0, 0.0, 1.0, 'rice', 'MOP')} -> {(0.0, 0.0, 2.0, 'rice', 'Urea')} (3,1.0)\n",
      "{(0.0, 0.0, 3.0, 'rice', 'DAP'), (1.0, 0.0, 1.0, 'rice', 'DAP'), (0.0, 0.0, 2.0, 'rice', 'Urea')} -> {(1.0, 0.0, 1.0, 'rice', 'MOP')} (3,1.0)\n",
      "{(0.0, 0.0, 3.0, 'rice', 'DAP'), (0.0, 0.0, 2.0, 'rice', 'Urea'), (1.0, 0.0, 1.0, 'rice', 'MOP')} -> {(1.0, 0.0, 1.0, 'rice', 'DAP')} (3,1.0)\n",
      "{(0.0, 0.0, 2.0, 'rice', 'Urea'), (1.0, 0.0, 1.0, 'rice', 'DAP'), (1.0, 0.0, 1.0, 'rice', 'MOP')} -> {(0.0, 0.0, 3.0, 'rice', 'DAP')} (3,1.0)\n",
      "{(1.0, 0.0, 2.0, 'rice', 'MOP')} -> {(0.0, 0.0, 2.0, 'rice', 'Urea'), (1.0, 0.0, 1.0, 'rice', 'MOP')} (3,1.0)\n",
      "{(1.0, 0.0, 1.0, 'rice', 'MOP')} -> {(1.0, 0.0, 2.0, 'rice', 'MOP'), (0.0, 0.0, 2.0, 'rice', 'Urea')} (3,1.0)\n",
      "{(0.0, 0.0, 2.0, 'rice', 'Urea')} -> {(1.0, 0.0, 2.0, 'rice', 'MOP'), (1.0, 0.0, 1.0, 'rice', 'MOP')} (3,1.0)\n",
      "{(1.0, 0.0, 2.0, 'rice', 'MOP'), (1.0, 0.0, 1.0, 'rice', 'MOP')} -> {(0.0, 0.0, 2.0, 'rice', 'Urea')} (3,1.0)\n",
      "{(1.0, 0.0, 2.0, 'rice', 'MOP'), (0.0, 0.0, 2.0, 'rice', 'Urea')} -> {(1.0, 0.0, 1.0, 'rice', 'MOP')} (3,1.0)\n",
      "{(0.0, 0.0, 2.0, 'rice', 'Urea'), (1.0, 0.0, 1.0, 'rice', 'MOP')} -> {(1.0, 0.0, 2.0, 'rice', 'MOP')} (3,1.0)\n",
      "{(1.0, 2.0, 0.0, 'Coconut', 'MOP')} -> {(2.0, 3.0, 0.0, 'Coconut', 'DAP'), (1.0, 0.0, 1.0, 'Coconut', 'MOP')} (3,1.0)\n",
      "{(1.0, 0.0, 1.0, 'Coconut', 'MOP')} -> {(1.0, 2.0, 0.0, 'Coconut', 'MOP'), (2.0, 3.0, 0.0, 'Coconut', 'DAP')} (3,1.0)\n",
      "{(1.0, 2.0, 0.0, 'Coconut', 'MOP'), (2.0, 3.0, 0.0, 'Coconut', 'DAP')} -> {(1.0, 0.0, 1.0, 'Coconut', 'MOP')} (3,1.0)\n",
      "{(1.0, 2.0, 0.0, 'Coconut', 'MOP'), (1.0, 0.0, 1.0, 'Coconut', 'MOP')} -> {(2.0, 3.0, 0.0, 'Coconut', 'DAP')} (3,1.0)\n",
      "{(2.0, 3.0, 0.0, 'Coconut', 'DAP'), (1.0, 0.0, 1.0, 'Coconut', 'MOP')} -> {(1.0, 2.0, 0.0, 'Coconut', 'MOP')} (3,1.0)\n",
      "{(2.0, 3.0, 1.0, 'Coconut', 'DAP')} -> {(2.0, 3.0, 0.0, 'Coconut', 'DAP'), (2.0, 2.0, 0.0, 'Coconut', 'Good NPK')} (3,1.0)\n",
      "{(2.0, 2.0, 0.0, 'Coconut', 'Good NPK')} -> {(2.0, 3.0, 0.0, 'Coconut', 'DAP'), (2.0, 3.0, 1.0, 'Coconut', 'DAP')} (3,1.0)\n",
      "{(2.0, 3.0, 0.0, 'Coconut', 'DAP'), (2.0, 3.0, 1.0, 'Coconut', 'DAP')} -> {(2.0, 2.0, 0.0, 'Coconut', 'Good NPK')} (3,1.0)\n",
      "{(2.0, 3.0, 0.0, 'Coconut', 'DAP'), (2.0, 2.0, 0.0, 'Coconut', 'Good NPK')} -> {(2.0, 3.0, 1.0, 'Coconut', 'DAP')} (3,1.0)\n",
      "{(2.0, 3.0, 1.0, 'Coconut', 'DAP'), (2.0, 2.0, 0.0, 'Coconut', 'Good NPK')} -> {(2.0, 3.0, 0.0, 'Coconut', 'DAP')} (3,1.0)\n",
      "{(2.0, 3.0, 1.0, 'Coconut', 'DAP')} -> {(2.0, 3.0, 0.0, 'Coconut', 'DAP'), (1.0, 3.0, 1.0, 'Coconut', 'DAP')} (3,1.0)\n",
      "{(1.0, 3.0, 1.0, 'Coconut', 'DAP')} -> {(2.0, 3.0, 0.0, 'Coconut', 'DAP'), (2.0, 3.0, 1.0, 'Coconut', 'DAP')} (3,1.0)\n",
      "{(2.0, 3.0, 0.0, 'Coconut', 'DAP'), (2.0, 3.0, 1.0, 'Coconut', 'DAP')} -> {(1.0, 3.0, 1.0, 'Coconut', 'DAP')} (3,1.0)\n",
      "{(2.0, 3.0, 0.0, 'Coconut', 'DAP'), (1.0, 3.0, 1.0, 'Coconut', 'DAP')} -> {(2.0, 3.0, 1.0, 'Coconut', 'DAP')} (3,1.0)\n",
      "{(2.0, 3.0, 1.0, 'Coconut', 'DAP'), (1.0, 3.0, 1.0, 'Coconut', 'DAP')} -> {(2.0, 3.0, 0.0, 'Coconut', 'DAP')} (3,1.0)\n",
      "{(2.0, 3.0, 1.0, 'Coconut', 'DAP')} -> {(2.0, 3.0, 0.0, 'Coconut', 'DAP'), (1.0, 2.0, 0.0, 'Coconut', 'Urea')} (3,1.0)\n",
      "{(2.0, 3.0, 0.0, 'Coconut', 'DAP'), (2.0, 3.0, 1.0, 'Coconut', 'DAP')} -> {(1.0, 2.0, 0.0, 'Coconut', 'Urea')} (3,1.0)\n",
      "{(2.0, 3.0, 1.0, 'Coconut', 'DAP'), (1.0, 2.0, 0.0, 'Coconut', 'Urea')} -> {(2.0, 3.0, 0.0, 'Coconut', 'DAP')} (3,1.0)\n",
      "{(0.0, 0.0, 3.0, 'rice', 'DAP')} -> {(1.0, 0.0, 2.0, 'rice', 'MOP'), (1.0, 0.0, 1.0, 'rice', 'DAP'), (1.0, 0.0, 2.0, 'rice', 'Urea')} (3,1.0)\n",
      "{(1.0, 0.0, 1.0, 'rice', 'DAP')} -> {(0.0, 0.0, 3.0, 'rice', 'DAP'), (1.0, 0.0, 2.0, 'rice', 'Urea'), (1.0, 0.0, 2.0, 'rice', 'MOP')} (3,1.0)\n",
      "{(1.0, 0.0, 2.0, 'rice', 'MOP')} -> {(0.0, 0.0, 3.0, 'rice', 'DAP'), (1.0, 0.0, 1.0, 'rice', 'DAP'), (1.0, 0.0, 2.0, 'rice', 'Urea')} (3,1.0)\n",
      "{(1.0, 0.0, 2.0, 'rice', 'Urea')} -> {(0.0, 0.0, 3.0, 'rice', 'DAP'), (1.0, 0.0, 1.0, 'rice', 'DAP'), (1.0, 0.0, 2.0, 'rice', 'MOP')} (3,1.0)\n",
      "{(0.0, 0.0, 3.0, 'rice', 'DAP'), (1.0, 0.0, 1.0, 'rice', 'DAP')} -> {(1.0, 0.0, 2.0, 'rice', 'MOP'), (1.0, 0.0, 2.0, 'rice', 'Urea')} (3,1.0)\n",
      "{(0.0, 0.0, 3.0, 'rice', 'DAP'), (1.0, 0.0, 2.0, 'rice', 'MOP')} -> {(1.0, 0.0, 1.0, 'rice', 'DAP'), (1.0, 0.0, 2.0, 'rice', 'Urea')} (3,1.0)\n",
      "{(0.0, 0.0, 3.0, 'rice', 'DAP'), (1.0, 0.0, 2.0, 'rice', 'Urea')} -> {(1.0, 0.0, 2.0, 'rice', 'MOP'), (1.0, 0.0, 1.0, 'rice', 'DAP')} (3,1.0)\n",
      "{(1.0, 0.0, 2.0, 'rice', 'MOP'), (1.0, 0.0, 1.0, 'rice', 'DAP')} -> {(0.0, 0.0, 3.0, 'rice', 'DAP'), (1.0, 0.0, 2.0, 'rice', 'Urea')} (3,1.0)\n",
      "{(1.0, 0.0, 1.0, 'rice', 'DAP'), (1.0, 0.0, 2.0, 'rice', 'Urea')} -> {(0.0, 0.0, 3.0, 'rice', 'DAP'), (1.0, 0.0, 2.0, 'rice', 'MOP')} (3,1.0)\n",
      "{(1.0, 0.0, 2.0, 'rice', 'MOP'), (1.0, 0.0, 2.0, 'rice', 'Urea')} -> {(0.0, 0.0, 3.0, 'rice', 'DAP'), (1.0, 0.0, 1.0, 'rice', 'DAP')} (3,1.0)\n",
      "{(0.0, 0.0, 3.0, 'rice', 'DAP'), (1.0, 0.0, 1.0, 'rice', 'DAP'), (1.0, 0.0, 2.0, 'rice', 'MOP')} -> {(1.0, 0.0, 2.0, 'rice', 'Urea')} (3,1.0)\n",
      "{(0.0, 0.0, 3.0, 'rice', 'DAP'), (1.0, 0.0, 1.0, 'rice', 'DAP'), (1.0, 0.0, 2.0, 'rice', 'Urea')} -> {(1.0, 0.0, 2.0, 'rice', 'MOP')} (3,1.0)\n",
      "{(0.0, 0.0, 3.0, 'rice', 'DAP'), (1.0, 0.0, 2.0, 'rice', 'Urea'), (1.0, 0.0, 2.0, 'rice', 'MOP')} -> {(1.0, 0.0, 1.0, 'rice', 'DAP')} (3,1.0)\n",
      "{(1.0, 0.0, 2.0, 'rice', 'MOP'), (1.0, 0.0, 1.0, 'rice', 'DAP'), (1.0, 0.0, 2.0, 'rice', 'Urea')} -> {(0.0, 0.0, 3.0, 'rice', 'DAP')} (3,1.0)\n",
      "{(2.0, 2.0, 0.0, 'Coconut', 'MOP')} -> {(2.0, 3.0, 0.0, 'Coconut', 'DAP'), (1.0, 2.0, 0.0, 'Coconut', 'Urea')} (3,1.0)\n",
      "{(2.0, 3.0, 0.0, 'Coconut', 'DAP'), (2.0, 2.0, 0.0, 'Coconut', 'MOP')} -> {(1.0, 2.0, 0.0, 'Coconut', 'Urea')} (3,1.0)\n",
      "{(2.0, 2.0, 0.0, 'Coconut', 'MOP'), (1.0, 2.0, 0.0, 'Coconut', 'Urea')} -> {(2.0, 3.0, 0.0, 'Coconut', 'DAP')} (3,1.0)\n",
      "{(2.0, 3.0, 2.0, 'Coconut', 'MOP')} -> {(2.0, 3.0, 0.0, 'Coconut', 'DAP'), (1.0, 2.0, 0.0, 'Coconut', 'Urea')} (3,1.0)\n",
      "{(2.0, 3.0, 0.0, 'Coconut', 'DAP'), (2.0, 3.0, 2.0, 'Coconut', 'MOP')} -> {(1.0, 2.0, 0.0, 'Coconut', 'Urea')} (3,1.0)\n",
      "{(1.0, 2.0, 0.0, 'Coconut', 'Urea'), (2.0, 3.0, 2.0, 'Coconut', 'MOP')} -> {(2.0, 3.0, 0.0, 'Coconut', 'DAP')} (3,1.0)\n",
      "{(2.0, 3.0, 1.0, 'Coconut', 'DAP')} -> {(2.0, 3.0, 0.0, 'Coconut', 'DAP'), (1.0, 2.0, 0.0, 'Coconut', 'Urea'), (1.0, 3.0, 1.0, 'Coconut', 'DAP')} (3,1.0)\n",
      "{(1.0, 3.0, 1.0, 'Coconut', 'DAP')} -> {(2.0, 3.0, 0.0, 'Coconut', 'DAP'), (2.0, 3.0, 1.0, 'Coconut', 'DAP'), (1.0, 2.0, 0.0, 'Coconut', 'Urea')} (3,1.0)\n",
      "{(2.0, 3.0, 0.0, 'Coconut', 'DAP'), (2.0, 3.0, 1.0, 'Coconut', 'DAP')} -> {(1.0, 2.0, 0.0, 'Coconut', 'Urea'), (1.0, 3.0, 1.0, 'Coconut', 'DAP')} (3,1.0)\n",
      "{(2.0, 3.0, 0.0, 'Coconut', 'DAP'), (1.0, 3.0, 1.0, 'Coconut', 'DAP')} -> {(2.0, 3.0, 1.0, 'Coconut', 'DAP'), (1.0, 2.0, 0.0, 'Coconut', 'Urea')} (3,1.0)\n",
      "{(2.0, 3.0, 1.0, 'Coconut', 'DAP'), (1.0, 2.0, 0.0, 'Coconut', 'Urea')} -> {(2.0, 3.0, 0.0, 'Coconut', 'DAP'), (1.0, 3.0, 1.0, 'Coconut', 'DAP')} (3,1.0)\n",
      "{(2.0, 3.0, 1.0, 'Coconut', 'DAP'), (1.0, 3.0, 1.0, 'Coconut', 'DAP')} -> {(2.0, 3.0, 0.0, 'Coconut', 'DAP'), (1.0, 2.0, 0.0, 'Coconut', 'Urea')} (3,1.0)\n",
      "{(1.0, 2.0, 0.0, 'Coconut', 'Urea'), (1.0, 3.0, 1.0, 'Coconut', 'DAP')} -> {(2.0, 3.0, 0.0, 'Coconut', 'DAP'), (2.0, 3.0, 1.0, 'Coconut', 'DAP')} (3,1.0)\n",
      "{(2.0, 3.0, 0.0, 'Coconut', 'DAP'), (2.0, 3.0, 1.0, 'Coconut', 'DAP'), (1.0, 2.0, 0.0, 'Coconut', 'Urea')} -> {(1.0, 3.0, 1.0, 'Coconut', 'DAP')} (3,1.0)\n",
      "{(2.0, 3.0, 0.0, 'Coconut', 'DAP'), (2.0, 3.0, 1.0, 'Coconut', 'DAP'), (1.0, 3.0, 1.0, 'Coconut', 'DAP')} -> {(1.0, 2.0, 0.0, 'Coconut', 'Urea')} (3,1.0)\n",
      "{(2.0, 3.0, 0.0, 'Coconut', 'DAP'), (1.0, 2.0, 0.0, 'Coconut', 'Urea'), (1.0, 3.0, 1.0, 'Coconut', 'DAP')} -> {(2.0, 3.0, 1.0, 'Coconut', 'DAP')} (3,1.0)\n",
      "{(2.0, 3.0, 1.0, 'Coconut', 'DAP'), (1.0, 2.0, 0.0, 'Coconut', 'Urea'), (1.0, 3.0, 1.0, 'Coconut', 'DAP')} -> {(2.0, 3.0, 0.0, 'Coconut', 'DAP')} (3,1.0)\n",
      "{(0.0, 0.0, 3.0, 'rice', 'DAP')} -> {(1.0, 0.0, 2.0, 'rice', 'MOP'), (0.0, 0.0, 2.0, 'rice', 'Urea')} (3,1.0)\n",
      "{(1.0, 0.0, 2.0, 'rice', 'MOP')} -> {(0.0, 0.0, 3.0, 'rice', 'DAP'), (0.0, 0.0, 2.0, 'rice', 'Urea')} (3,1.0)\n",
      "{(0.0, 0.0, 2.0, 'rice', 'Urea')} -> {(0.0, 0.0, 3.0, 'rice', 'DAP'), (1.0, 0.0, 2.0, 'rice', 'MOP')} (3,1.0)\n",
      "{(0.0, 0.0, 3.0, 'rice', 'DAP'), (1.0, 0.0, 2.0, 'rice', 'MOP')} -> {(0.0, 0.0, 2.0, 'rice', 'Urea')} (3,1.0)\n",
      "{(0.0, 0.0, 3.0, 'rice', 'DAP'), (0.0, 0.0, 2.0, 'rice', 'Urea')} -> {(1.0, 0.0, 2.0, 'rice', 'MOP')} (3,1.0)\n",
      "{(1.0, 0.0, 2.0, 'rice', 'MOP'), (0.0, 0.0, 2.0, 'rice', 'Urea')} -> {(0.0, 0.0, 3.0, 'rice', 'DAP')} (3,1.0)\n",
      "{(0.0, 0.0, 3.0, 'rice', 'DAP')} -> {(0.0, 0.0, 2.0, 'rice', 'Urea'), (1.0, 0.0, 1.0, 'rice', 'MOP')} (3,1.0)\n",
      "{(1.0, 0.0, 1.0, 'rice', 'MOP')} -> {(0.0, 0.0, 3.0, 'rice', 'DAP'), (0.0, 0.0, 2.0, 'rice', 'Urea')} (3,1.0)\n",
      "{(0.0, 0.0, 2.0, 'rice', 'Urea')} -> {(0.0, 0.0, 3.0, 'rice', 'DAP'), (1.0, 0.0, 1.0, 'rice', 'MOP')} (3,1.0)\n",
      "{(0.0, 0.0, 3.0, 'rice', 'DAP'), (1.0, 0.0, 1.0, 'rice', 'MOP')} -> {(0.0, 0.0, 2.0, 'rice', 'Urea')} (3,1.0)\n",
      "{(0.0, 0.0, 3.0, 'rice', 'DAP'), (0.0, 0.0, 2.0, 'rice', 'Urea')} -> {(1.0, 0.0, 1.0, 'rice', 'MOP')} (3,1.0)\n",
      "{(0.0, 0.0, 2.0, 'rice', 'Urea'), (1.0, 0.0, 1.0, 'rice', 'MOP')} -> {(0.0, 0.0, 3.0, 'rice', 'DAP')} (3,1.0)\n",
      "{(2.0, 3.0, 1.0, 'Coconut', 'MOP')} -> {(2.0, 3.0, 0.0, 'Coconut', 'Urea'), (2.0, 3.0, 2.0, 'Coconut', 'MOP')} (3,1.0)\n",
      "{(2.0, 3.0, 2.0, 'Coconut', 'MOP')} -> {(2.0, 3.0, 1.0, 'Coconut', 'MOP'), (2.0, 3.0, 0.0, 'Coconut', 'Urea')} (3,1.0)\n",
      "{(2.0, 3.0, 1.0, 'Coconut', 'MOP'), (2.0, 3.0, 0.0, 'Coconut', 'Urea')} -> {(2.0, 3.0, 2.0, 'Coconut', 'MOP')} (3,1.0)\n",
      "{(2.0, 3.0, 1.0, 'Coconut', 'MOP'), (2.0, 3.0, 2.0, 'Coconut', 'MOP')} -> {(2.0, 3.0, 0.0, 'Coconut', 'Urea')} (3,1.0)\n",
      "{(2.0, 3.0, 0.0, 'Coconut', 'Urea'), (2.0, 3.0, 2.0, 'Coconut', 'MOP')} -> {(2.0, 3.0, 1.0, 'Coconut', 'MOP')} (3,1.0)\n",
      "{(2.0, 3.0, 1.0, 'Coconut', 'DAP')} -> {(1.0, 2.0, 0.0, 'Coconut', 'Urea'), (1.0, 3.0, 1.0, 'Coconut', 'DAP')} (3,1.0)\n",
      "{(1.0, 3.0, 1.0, 'Coconut', 'DAP')} -> {(2.0, 3.0, 1.0, 'Coconut', 'DAP'), (1.0, 2.0, 0.0, 'Coconut', 'Urea')} (3,1.0)\n",
      "{(2.0, 3.0, 1.0, 'Coconut', 'DAP'), (1.0, 2.0, 0.0, 'Coconut', 'Urea')} -> {(1.0, 3.0, 1.0, 'Coconut', 'DAP')} (3,1.0)\n",
      "{(2.0, 3.0, 1.0, 'Coconut', 'DAP'), (1.0, 3.0, 1.0, 'Coconut', 'DAP')} -> {(1.0, 2.0, 0.0, 'Coconut', 'Urea')} (3,1.0)\n",
      "{(1.0, 2.0, 0.0, 'Coconut', 'Urea'), (1.0, 3.0, 1.0, 'Coconut', 'DAP')} -> {(2.0, 3.0, 1.0, 'Coconut', 'DAP')} (3,1.0)\n",
      "{(0.0, 0.0, 3.0, 'rice', 'DAP')} -> {(1.0, 0.0, 2.0, 'rice', 'MOP'), (1.0, 0.0, 1.0, 'rice', 'MOP')} (3,1.0)\n",
      "{(1.0, 0.0, 2.0, 'rice', 'MOP')} -> {(0.0, 0.0, 3.0, 'rice', 'DAP'), (1.0, 0.0, 1.0, 'rice', 'MOP')} (3,1.0)\n",
      "{(1.0, 0.0, 1.0, 'rice', 'MOP')} -> {(0.0, 0.0, 3.0, 'rice', 'DAP'), (1.0, 0.0, 2.0, 'rice', 'MOP')} (3,1.0)\n",
      "{(0.0, 0.0, 3.0, 'rice', 'DAP'), (1.0, 0.0, 2.0, 'rice', 'MOP')} -> {(1.0, 0.0, 1.0, 'rice', 'MOP')} (3,1.0)\n",
      "{(0.0, 0.0, 3.0, 'rice', 'DAP'), (1.0, 0.0, 1.0, 'rice', 'MOP')} -> {(1.0, 0.0, 2.0, 'rice', 'MOP')} (3,1.0)\n",
      "{(1.0, 0.0, 2.0, 'rice', 'MOP'), (1.0, 0.0, 1.0, 'rice', 'MOP')} -> {(0.0, 0.0, 3.0, 'rice', 'DAP')} (3,1.0)\n",
      "{(2.0, 2.0, 0.0, 'Coconut', 'Urea')} -> {(1.0, 2.0, 0.0, 'Coconut', 'Urea'), (1.0, 0.0, 1.0, 'Coconut', 'Urea')} (3,1.0)\n",
      "{(1.0, 0.0, 1.0, 'Coconut', 'Urea')} -> {(1.0, 2.0, 0.0, 'Coconut', 'Urea'), (2.0, 2.0, 0.0, 'Coconut', 'Urea')} (3,1.0)\n",
      "{(1.0, 2.0, 0.0, 'Coconut', 'Urea'), (2.0, 2.0, 0.0, 'Coconut', 'Urea')} -> {(1.0, 0.0, 1.0, 'Coconut', 'Urea')} (3,1.0)\n",
      "{(1.0, 2.0, 0.0, 'Coconut', 'Urea'), (1.0, 0.0, 1.0, 'Coconut', 'Urea')} -> {(2.0, 2.0, 0.0, 'Coconut', 'Urea')} (3,1.0)\n",
      "{(2.0, 2.0, 0.0, 'Coconut', 'Urea'), (1.0, 0.0, 1.0, 'Coconut', 'Urea')} -> {(1.0, 2.0, 0.0, 'Coconut', 'Urea')} (3,1.0)\n",
      "{(1.0, 2.0, 0.0, 'Coconut', 'MOP')} -> {(1.0, 2.0, 0.0, 'Coconut', 'Urea'), (2.0, 2.0, 0.0, 'Coconut', 'Urea')} (3,1.0)\n",
      "{(2.0, 2.0, 0.0, 'Coconut', 'Urea')} -> {(1.0, 2.0, 0.0, 'Coconut', 'MOP'), (1.0, 2.0, 0.0, 'Coconut', 'Urea')} (3,1.0)\n",
      "{(1.0, 2.0, 0.0, 'Coconut', 'MOP'), (1.0, 2.0, 0.0, 'Coconut', 'Urea')} -> {(2.0, 2.0, 0.0, 'Coconut', 'Urea')} (3,1.0)\n",
      "{(1.0, 2.0, 0.0, 'Coconut', 'MOP'), (2.0, 2.0, 0.0, 'Coconut', 'Urea')} -> {(1.0, 2.0, 0.0, 'Coconut', 'Urea')} (3,1.0)\n",
      "{(1.0, 2.0, 0.0, 'Coconut', 'Urea'), (2.0, 2.0, 0.0, 'Coconut', 'Urea')} -> {(1.0, 2.0, 0.0, 'Coconut', 'MOP')} (3,1.0)\n",
      "{(2.0, 2.0, 0.0, 'Coconut', 'Urea')} -> {(2.0, 3.0, 0.0, 'Coconut', 'DAP'), (1.0, 2.0, 0.0, 'Coconut', 'Urea')} (3,1.0)\n",
      "{(2.0, 3.0, 0.0, 'Coconut', 'DAP'), (2.0, 2.0, 0.0, 'Coconut', 'Urea')} -> {(1.0, 2.0, 0.0, 'Coconut', 'Urea')} (3,1.0)\n",
      "{(1.0, 2.0, 0.0, 'Coconut', 'Urea'), (2.0, 2.0, 0.0, 'Coconut', 'Urea')} -> {(2.0, 3.0, 0.0, 'Coconut', 'DAP')} (3,1.0)\n",
      "{(2.0, 2.0, 0.0, 'Coconut', 'Good NPK')} -> {(2.0, 3.0, 0.0, 'Coconut', 'DAP'), (1.0, 2.0, 0.0, 'Coconut', 'Urea')} (3,1.0)\n",
      "{(2.0, 3.0, 0.0, 'Coconut', 'DAP'), (2.0, 2.0, 0.0, 'Coconut', 'Good NPK')} -> {(1.0, 2.0, 0.0, 'Coconut', 'Urea')} (3,1.0)\n",
      "{(1.0, 2.0, 0.0, 'Coconut', 'Urea'), (2.0, 2.0, 0.0, 'Coconut', 'Good NPK')} -> {(2.0, 3.0, 0.0, 'Coconut', 'DAP')} (3,1.0)\n",
      "{(2.0, 3.0, 1.0, 'Coconut', 'DAP')} -> {(1.0, 2.0, 0.0, 'Coconut', 'Urea'), (2.0, 2.0, 0.0, 'Coconut', 'Good NPK')} (3,1.0)\n",
      "{(2.0, 2.0, 0.0, 'Coconut', 'Good NPK')} -> {(2.0, 3.0, 1.0, 'Coconut', 'DAP'), (1.0, 2.0, 0.0, 'Coconut', 'Urea')} (3,1.0)\n",
      "{(2.0, 3.0, 1.0, 'Coconut', 'DAP'), (1.0, 2.0, 0.0, 'Coconut', 'Urea')} -> {(2.0, 2.0, 0.0, 'Coconut', 'Good NPK')} (3,1.0)\n",
      "{(2.0, 3.0, 1.0, 'Coconut', 'DAP'), (2.0, 2.0, 0.0, 'Coconut', 'Good NPK')} -> {(1.0, 2.0, 0.0, 'Coconut', 'Urea')} (3,1.0)\n",
      "{(1.0, 2.0, 0.0, 'Coconut', 'Urea'), (2.0, 2.0, 0.0, 'Coconut', 'Good NPK')} -> {(2.0, 3.0, 1.0, 'Coconut', 'DAP')} (3,1.0)\n",
      "{(1.0, 0.0, 1.0, 'Coconut', 'MOP')} -> {(2.0, 3.0, 0.0, 'Coconut', 'DAP'), (1.0, 2.0, 0.0, 'Coconut', 'Urea'), (1.0, 0.0, 1.0, 'Coconut', 'Urea')} (3,1.0)\n",
      "{(1.0, 0.0, 1.0, 'Coconut', 'Urea')} -> {(2.0, 3.0, 0.0, 'Coconut', 'DAP'), (1.0, 2.0, 0.0, 'Coconut', 'Urea'), (1.0, 0.0, 1.0, 'Coconut', 'MOP')} (3,1.0)\n",
      "{(2.0, 3.0, 0.0, 'Coconut', 'DAP'), (1.0, 0.0, 1.0, 'Coconut', 'MOP')} -> {(1.0, 2.0, 0.0, 'Coconut', 'Urea'), (1.0, 0.0, 1.0, 'Coconut', 'Urea')} (3,1.0)\n",
      "{(2.0, 3.0, 0.0, 'Coconut', 'DAP'), (1.0, 0.0, 1.0, 'Coconut', 'Urea')} -> {(1.0, 2.0, 0.0, 'Coconut', 'Urea'), (1.0, 0.0, 1.0, 'Coconut', 'MOP')} (3,1.0)\n",
      "{(1.0, 2.0, 0.0, 'Coconut', 'Urea'), (1.0, 0.0, 1.0, 'Coconut', 'MOP')} -> {(2.0, 3.0, 0.0, 'Coconut', 'DAP'), (1.0, 0.0, 1.0, 'Coconut', 'Urea')} (3,1.0)\n",
      "{(1.0, 2.0, 0.0, 'Coconut', 'Urea'), (1.0, 0.0, 1.0, 'Coconut', 'Urea')} -> {(2.0, 3.0, 0.0, 'Coconut', 'DAP'), (1.0, 0.0, 1.0, 'Coconut', 'MOP')} (3,1.0)\n",
      "{(1.0, 0.0, 1.0, 'Coconut', 'MOP'), (1.0, 0.0, 1.0, 'Coconut', 'Urea')} -> {(2.0, 3.0, 0.0, 'Coconut', 'DAP'), (1.0, 2.0, 0.0, 'Coconut', 'Urea')} (3,1.0)\n",
      "{(2.0, 3.0, 0.0, 'Coconut', 'DAP'), (1.0, 2.0, 0.0, 'Coconut', 'Urea'), (1.0, 0.0, 1.0, 'Coconut', 'MOP')} -> {(1.0, 0.0, 1.0, 'Coconut', 'Urea')} (3,1.0)\n",
      "{(2.0, 3.0, 0.0, 'Coconut', 'DAP'), (1.0, 2.0, 0.0, 'Coconut', 'Urea'), (1.0, 0.0, 1.0, 'Coconut', 'Urea')} -> {(1.0, 0.0, 1.0, 'Coconut', 'MOP')} (3,1.0)\n",
      "{(2.0, 3.0, 0.0, 'Coconut', 'DAP'), (1.0, 0.0, 1.0, 'Coconut', 'MOP'), (1.0, 0.0, 1.0, 'Coconut', 'Urea')} -> {(1.0, 2.0, 0.0, 'Coconut', 'Urea')} (3,1.0)\n",
      "{(1.0, 2.0, 0.0, 'Coconut', 'Urea'), (1.0, 0.0, 1.0, 'Coconut', 'MOP'), (1.0, 0.0, 1.0, 'Coconut', 'Urea')} -> {(2.0, 3.0, 0.0, 'Coconut', 'DAP')} (3,1.0)\n",
      "{(2.0, 2.0, 0.0, 'Coconut', 'Urea')} -> {(2.0, 3.0, 0.0, 'Coconut', 'DAP'), (1.0, 2.0, 0.0, 'Coconut', 'Urea'), (1.0, 0.0, 1.0, 'Coconut', 'Urea')} (3,1.0)\n",
      "{(1.0, 0.0, 1.0, 'Coconut', 'Urea')} -> {(2.0, 3.0, 0.0, 'Coconut', 'DAP'), (1.0, 2.0, 0.0, 'Coconut', 'Urea'), (2.0, 2.0, 0.0, 'Coconut', 'Urea')} (3,1.0)\n",
      "{(2.0, 3.0, 0.0, 'Coconut', 'DAP'), (2.0, 2.0, 0.0, 'Coconut', 'Urea')} -> {(1.0, 2.0, 0.0, 'Coconut', 'Urea'), (1.0, 0.0, 1.0, 'Coconut', 'Urea')} (3,1.0)\n",
      "{(2.0, 3.0, 0.0, 'Coconut', 'DAP'), (1.0, 0.0, 1.0, 'Coconut', 'Urea')} -> {(1.0, 2.0, 0.0, 'Coconut', 'Urea'), (2.0, 2.0, 0.0, 'Coconut', 'Urea')} (3,1.0)\n",
      "{(1.0, 2.0, 0.0, 'Coconut', 'Urea'), (2.0, 2.0, 0.0, 'Coconut', 'Urea')} -> {(2.0, 3.0, 0.0, 'Coconut', 'DAP'), (1.0, 0.0, 1.0, 'Coconut', 'Urea')} (3,1.0)\n",
      "{(1.0, 2.0, 0.0, 'Coconut', 'Urea'), (1.0, 0.0, 1.0, 'Coconut', 'Urea')} -> {(2.0, 3.0, 0.0, 'Coconut', 'DAP'), (2.0, 2.0, 0.0, 'Coconut', 'Urea')} (3,1.0)\n",
      "{(2.0, 2.0, 0.0, 'Coconut', 'Urea'), (1.0, 0.0, 1.0, 'Coconut', 'Urea')} -> {(2.0, 3.0, 0.0, 'Coconut', 'DAP'), (1.0, 2.0, 0.0, 'Coconut', 'Urea')} (3,1.0)\n",
      "{(2.0, 3.0, 0.0, 'Coconut', 'DAP'), (1.0, 2.0, 0.0, 'Coconut', 'Urea'), (2.0, 2.0, 0.0, 'Coconut', 'Urea')} -> {(1.0, 0.0, 1.0, 'Coconut', 'Urea')} (3,1.0)\n",
      "{(2.0, 3.0, 0.0, 'Coconut', 'DAP'), (1.0, 2.0, 0.0, 'Coconut', 'Urea'), (1.0, 0.0, 1.0, 'Coconut', 'Urea')} -> {(2.0, 2.0, 0.0, 'Coconut', 'Urea')} (3,1.0)\n",
      "{(2.0, 3.0, 0.0, 'Coconut', 'DAP'), (2.0, 2.0, 0.0, 'Coconut', 'Urea'), (1.0, 0.0, 1.0, 'Coconut', 'Urea')} -> {(1.0, 2.0, 0.0, 'Coconut', 'Urea')} (3,1.0)\n",
      "{(1.0, 2.0, 0.0, 'Coconut', 'Urea'), (2.0, 2.0, 0.0, 'Coconut', 'Urea'), (1.0, 0.0, 1.0, 'Coconut', 'Urea')} -> {(2.0, 3.0, 0.0, 'Coconut', 'DAP')} (3,1.0)\n",
      "{(2.0, 3.0, 1.0, 'Coconut', 'DAP')} -> {(2.0, 3.0, 0.0, 'Coconut', 'DAP'), (1.0, 2.0, 0.0, 'Coconut', 'Urea'), (1.0, 3.0, 1.0, 'Coconut', 'DAP')} (3,1.0)\n",
      "{(1.0, 3.0, 1.0, 'Coconut', 'DAP')} -> {(2.0, 3.0, 0.0, 'Coconut', 'DAP'), (2.0, 3.0, 1.0, 'Coconut', 'DAP'), (1.0, 2.0, 0.0, 'Coconut', 'Urea')} (3,1.0)\n",
      "{(2.0, 3.0, 0.0, 'Coconut', 'DAP'), (2.0, 3.0, 1.0, 'Coconut', 'DAP')} -> {(1.0, 2.0, 0.0, 'Coconut', 'Urea'), (1.0, 3.0, 1.0, 'Coconut', 'DAP')} (3,1.0)\n",
      "{(2.0, 3.0, 0.0, 'Coconut', 'DAP'), (1.0, 3.0, 1.0, 'Coconut', 'DAP')} -> {(2.0, 3.0, 1.0, 'Coconut', 'DAP'), (1.0, 2.0, 0.0, 'Coconut', 'Urea')} (3,1.0)\n",
      "{(2.0, 3.0, 1.0, 'Coconut', 'DAP'), (1.0, 2.0, 0.0, 'Coconut', 'Urea')} -> {(2.0, 3.0, 0.0, 'Coconut', 'DAP'), (1.0, 3.0, 1.0, 'Coconut', 'DAP')} (3,1.0)\n",
      "{(2.0, 3.0, 1.0, 'Coconut', 'DAP'), (1.0, 3.0, 1.0, 'Coconut', 'DAP')} -> {(2.0, 3.0, 0.0, 'Coconut', 'DAP'), (1.0, 2.0, 0.0, 'Coconut', 'Urea')} (3,1.0)\n",
      "{(1.0, 2.0, 0.0, 'Coconut', 'Urea'), (1.0, 3.0, 1.0, 'Coconut', 'DAP')} -> {(2.0, 3.0, 0.0, 'Coconut', 'DAP'), (2.0, 3.0, 1.0, 'Coconut', 'DAP')} (3,1.0)\n",
      "{(2.0, 3.0, 0.0, 'Coconut', 'DAP'), (2.0, 3.0, 1.0, 'Coconut', 'DAP'), (1.0, 2.0, 0.0, 'Coconut', 'Urea')} -> {(1.0, 3.0, 1.0, 'Coconut', 'DAP')} (3,1.0)\n",
      "{(2.0, 3.0, 0.0, 'Coconut', 'DAP'), (2.0, 3.0, 1.0, 'Coconut', 'DAP'), (1.0, 3.0, 1.0, 'Coconut', 'DAP')} -> {(1.0, 2.0, 0.0, 'Coconut', 'Urea')} (3,1.0)\n",
      "{(2.0, 3.0, 0.0, 'Coconut', 'DAP'), (1.0, 2.0, 0.0, 'Coconut', 'Urea'), (1.0, 3.0, 1.0, 'Coconut', 'DAP')} -> {(2.0, 3.0, 1.0, 'Coconut', 'DAP')} (3,1.0)\n",
      "{(2.0, 3.0, 1.0, 'Coconut', 'DAP'), (1.0, 2.0, 0.0, 'Coconut', 'Urea'), (1.0, 3.0, 1.0, 'Coconut', 'DAP')} -> {(2.0, 3.0, 0.0, 'Coconut', 'DAP')} (3,1.0)\n",
      "{(2.0, 3.0, 1.0, 'Coconut', 'DAP')} -> {(2.0, 3.0, 0.0, 'Coconut', 'DAP'), (1.0, 2.0, 0.0, 'Coconut', 'Urea'), (2.0, 2.0, 0.0, 'Coconut', 'Good NPK')} (3,1.0)\n",
      "{(2.0, 2.0, 0.0, 'Coconut', 'Good NPK')} -> {(2.0, 3.0, 0.0, 'Coconut', 'DAP'), (2.0, 3.0, 1.0, 'Coconut', 'DAP'), (1.0, 2.0, 0.0, 'Coconut', 'Urea')} (3,1.0)\n",
      "{(2.0, 3.0, 0.0, 'Coconut', 'DAP'), (2.0, 3.0, 1.0, 'Coconut', 'DAP')} -> {(1.0, 2.0, 0.0, 'Coconut', 'Urea'), (2.0, 2.0, 0.0, 'Coconut', 'Good NPK')} (3,1.0)\n",
      "{(2.0, 3.0, 0.0, 'Coconut', 'DAP'), (2.0, 2.0, 0.0, 'Coconut', 'Good NPK')} -> {(2.0, 3.0, 1.0, 'Coconut', 'DAP'), (1.0, 2.0, 0.0, 'Coconut', 'Urea')} (3,1.0)\n",
      "{(2.0, 3.0, 1.0, 'Coconut', 'DAP'), (1.0, 2.0, 0.0, 'Coconut', 'Urea')} -> {(2.0, 3.0, 0.0, 'Coconut', 'DAP'), (2.0, 2.0, 0.0, 'Coconut', 'Good NPK')} (3,1.0)\n",
      "{(2.0, 3.0, 1.0, 'Coconut', 'DAP'), (2.0, 2.0, 0.0, 'Coconut', 'Good NPK')} -> {(2.0, 3.0, 0.0, 'Coconut', 'DAP'), (1.0, 2.0, 0.0, 'Coconut', 'Urea')} (3,1.0)\n",
      "{(1.0, 2.0, 0.0, 'Coconut', 'Urea'), (2.0, 2.0, 0.0, 'Coconut', 'Good NPK')} -> {(2.0, 3.0, 0.0, 'Coconut', 'DAP'), (2.0, 3.0, 1.0, 'Coconut', 'DAP')} (3,1.0)\n",
      "{(2.0, 3.0, 0.0, 'Coconut', 'DAP'), (2.0, 3.0, 1.0, 'Coconut', 'DAP'), (1.0, 2.0, 0.0, 'Coconut', 'Urea')} -> {(2.0, 2.0, 0.0, 'Coconut', 'Good NPK')} (3,1.0)\n",
      "{(2.0, 3.0, 0.0, 'Coconut', 'DAP'), (2.0, 3.0, 1.0, 'Coconut', 'DAP'), (2.0, 2.0, 0.0, 'Coconut', 'Good NPK')} -> {(1.0, 2.0, 0.0, 'Coconut', 'Urea')} (3,1.0)\n",
      "{(2.0, 3.0, 0.0, 'Coconut', 'DAP'), (1.0, 2.0, 0.0, 'Coconut', 'Urea'), (2.0, 2.0, 0.0, 'Coconut', 'Good NPK')} -> {(2.0, 3.0, 1.0, 'Coconut', 'DAP')} (3,1.0)\n",
      "{(2.0, 3.0, 1.0, 'Coconut', 'DAP'), (2.0, 2.0, 0.0, 'Coconut', 'Good NPK'), (1.0, 2.0, 0.0, 'Coconut', 'Urea')} -> {(2.0, 3.0, 0.0, 'Coconut', 'DAP')} (3,1.0)\n"
     ]
    }
   ],
   "source": [
    "sorted(association_rules, key=lambda x: x[3], reverse=True)\n",
    "forte_rules=[rule for rule in association_rules if rule[3]==max(association_rules, key=lambda x: x[3])[3]]\n",
    "afficher_association_rules(forte_rules)"
   ]
  },
  {
   "cell_type": "markdown",
   "metadata": {},
   "source": [
    "Calcul Lift"
   ]
  },
  {
   "cell_type": "code",
   "execution_count": 79,
   "metadata": {},
   "outputs": [],
   "source": [
    "def lift_metric(association_rules, dataitems):\n",
    "    forte_rules=[]\n",
    "    for i in range(len(association_rules)):\n",
    "        rule=association_rules[i]\n",
    "        item1,item2,support,confiance=rule\n",
    "        P_A = 0\n",
    "        for index, row in dataitems.iterrows():\n",
    "            if all(val in row['Items'] for val in item2):\n",
    "                P_A += 1\n",
    "        lift=round(confiance / P_A, 2)\n",
    "        #lift=lift(rule)\n",
    "        forte_rules.append((rule,lift))\n",
    "        \n",
    "    sorted(forte_rules, key=lambda x: x[1], reverse=True) # Sort forte_rules\n",
    "    max_lift=max(forte_rules, key=lambda x: x[1])[1]\n",
    "    forte_rules=[(rule,lift) for rule,lift in forte_rules if lift==max_lift]\n",
    "    return forte_rules\n"
   ]
  },
  {
   "cell_type": "code",
   "execution_count": 80,
   "metadata": {},
   "outputs": [
    {
     "name": "stdout",
     "output_type": "stream",
     "text": [
      "{(1.0, 0.0, 2.0, 'rice', 'DAP')} -> {(0.0, 0.0, 3.0, 'rice', 'DAP')} (3,1.0,0.33)\n",
      "{(0.0, 0.0, 3.0, 'rice', 'DAP')} -> {(1.0, 0.0, 2.0, 'rice', 'DAP')} (3,1.0,0.33)\n",
      "{(1.0, 2.0, 0.0, 'Coconut', 'MOP')} -> {(1.0, 0.0, 1.0, 'Coconut', 'Urea')} (3,1.0,0.33)\n",
      "{(1.0, 0.0, 1.0, 'Coconut', 'Urea')} -> {(1.0, 2.0, 0.0, 'Coconut', 'MOP')} (3,1.0,0.33)\n",
      "{(1.0, 0.0, 1.0, 'rice', 'DAP')} -> {(1.0, 0.0, 1.0, 'rice', 'MOP')} (3,1.0,0.33)\n",
      "{(1.0, 0.0, 1.0, 'rice', 'MOP')} -> {(1.0, 0.0, 1.0, 'rice', 'DAP')} (3,1.0,0.33)\n",
      "{(1.0, 0.0, 1.0, 'rice', 'Good NPK')} -> {(1.0, 0.0, 1.0, 'rice', 'MOP')} (3,1.0,0.33)\n",
      "{(1.0, 0.0, 1.0, 'rice', 'MOP')} -> {(1.0, 0.0, 1.0, 'rice', 'Good NPK')} (3,1.0,0.33)\n",
      "{(2.0, 3.0, 0.0, 'Coconut', 'MOP')} -> {(1.0, 3.0, 1.0, 'Coconut', 'DAP')} (3,1.0,0.33)\n",
      "{(1.0, 3.0, 1.0, 'Coconut', 'DAP')} -> {(2.0, 3.0, 0.0, 'Coconut', 'MOP')} (3,1.0,0.33)\n",
      "{(2.0, 3.0, 1.0, 'Coconut', 'Urea')} -> {(1.0, 3.0, 1.0, 'Coconut', 'DAP')} (3,1.0,0.33)\n",
      "{(1.0, 3.0, 1.0, 'Coconut', 'DAP')} -> {(2.0, 3.0, 1.0, 'Coconut', 'Urea')} (3,1.0,0.33)\n",
      "{(1.0, 0.0, 1.0, 'rice', 'Good NPK')} -> {(1.0, 0.0, 1.0, 'rice', 'DAP')} (3,1.0,0.33)\n",
      "{(1.0, 0.0, 1.0, 'rice', 'DAP')} -> {(1.0, 0.0, 1.0, 'rice', 'Good NPK')} (3,1.0,0.33)\n",
      "{(0.0, 0.0, 2.0, 'rice', 'Urea')} -> {(1.0, 0.0, 2.0, 'rice', 'Urea')} (3,1.0,0.33)\n",
      "{(1.0, 0.0, 2.0, 'rice', 'Urea')} -> {(0.0, 0.0, 2.0, 'rice', 'Urea')} (3,1.0,0.33)\n",
      "{(1.0, 0.0, 2.0, 'rice', 'MOP')} -> {(1.0, 0.0, 2.0, 'rice', 'Urea')} (3,1.0,0.33)\n",
      "{(1.0, 0.0, 2.0, 'rice', 'Urea')} -> {(1.0, 0.0, 2.0, 'rice', 'MOP')} (3,1.0,0.33)\n",
      "{(0.0, 0.0, 3.0, 'rice', 'DAP')} -> {(1.0, 0.0, 1.0, 'rice', 'DAP')} (3,1.0,0.33)\n",
      "{(1.0, 0.0, 1.0, 'rice', 'DAP')} -> {(0.0, 0.0, 3.0, 'rice', 'DAP')} (3,1.0,0.33)\n",
      "{(1.0, 0.0, 2.0, 'rice', 'MOP')} -> {(0.0, 0.0, 2.0, 'rice', 'Urea')} (3,1.0,0.33)\n",
      "{(0.0, 0.0, 2.0, 'rice', 'Urea')} -> {(1.0, 0.0, 2.0, 'rice', 'MOP')} (3,1.0,0.33)\n",
      "{(1.0, 0.0, 2.0, 'rice', 'DAP')} -> {(1.0, 0.0, 1.0, 'rice', 'MOP')} (3,1.0,0.33)\n",
      "{(1.0, 0.0, 1.0, 'rice', 'MOP')} -> {(1.0, 0.0, 2.0, 'rice', 'DAP')} (3,1.0,0.33)\n",
      "{(1.0, 2.0, 0.0, 'Coconut', 'MOP')} -> {(1.0, 0.0, 1.0, 'Coconut', 'MOP')} (3,1.0,0.33)\n",
      "{(1.0, 0.0, 1.0, 'Coconut', 'MOP')} -> {(1.0, 2.0, 0.0, 'Coconut', 'MOP')} (3,1.0,0.33)\n",
      "{(1.0, 0.0, 3.0, 'rice', 'Urea')} -> {(0.0, 0.0, 3.0, 'rice', 'DAP')} (3,1.0,0.33)\n",
      "{(0.0, 0.0, 3.0, 'rice', 'DAP')} -> {(1.0, 0.0, 3.0, 'rice', 'Urea')} (3,1.0,0.33)\n",
      "{(1.0, 0.0, 2.0, 'rice', 'DAP')} -> {(1.0, 0.0, 1.0, 'rice', 'DAP')} (3,1.0,0.33)\n",
      "{(1.0, 0.0, 1.0, 'rice', 'DAP')} -> {(1.0, 0.0, 2.0, 'rice', 'DAP')} (3,1.0,0.33)\n",
      "{(0.0, 0.0, 3.0, 'rice', 'DAP')} -> {(1.0, 0.0, 1.0, 'rice', 'Good NPK')} (3,1.0,0.33)\n",
      "{(1.0, 0.0, 1.0, 'rice', 'Good NPK')} -> {(0.0, 0.0, 3.0, 'rice', 'DAP')} (3,1.0,0.33)\n",
      "{(2.0, 3.0, 1.0, 'Coconut', 'DAP')} -> {(2.0, 2.0, 0.0, 'Coconut', 'Good NPK')} (3,1.0,0.33)\n",
      "{(2.0, 2.0, 0.0, 'Coconut', 'Good NPK')} -> {(2.0, 3.0, 1.0, 'Coconut', 'DAP')} (3,1.0,0.33)\n",
      "{(1.0, 0.0, 1.0, 'rice', 'DAP')} -> {(1.0, 0.0, 2.0, 'rice', 'Urea')} (3,1.0,0.33)\n",
      "{(1.0, 0.0, 2.0, 'rice', 'Urea')} -> {(1.0, 0.0, 1.0, 'rice', 'DAP')} (3,1.0,0.33)\n",
      "{(1.0, 0.0, 1.0, 'rice', 'DAP')} -> {(0.0, 0.0, 2.0, 'rice', 'Urea')} (3,1.0,0.33)\n",
      "{(0.0, 0.0, 2.0, 'rice', 'Urea')} -> {(1.0, 0.0, 1.0, 'rice', 'DAP')} (3,1.0,0.33)\n",
      "{(1.0, 0.0, 1.0, 'rice', 'Good NPK')} -> {(1.0, 0.0, 2.0, 'rice', 'Urea')} (3,1.0,0.33)\n",
      "{(1.0, 0.0, 2.0, 'rice', 'Urea')} -> {(1.0, 0.0, 1.0, 'rice', 'Good NPK')} (3,1.0,0.33)\n",
      "{(1.0, 0.0, 1.0, 'rice', 'Good NPK')} -> {(0.0, 0.0, 2.0, 'rice', 'Urea')} (3,1.0,0.33)\n",
      "{(0.0, 0.0, 2.0, 'rice', 'Urea')} -> {(1.0, 0.0, 1.0, 'rice', 'Good NPK')} (3,1.0,0.33)\n",
      "{(0.0, 0.0, 3.0, 'rice', 'DAP')} -> {(1.0, 0.0, 2.0, 'rice', 'Urea')} (3,1.0,0.33)\n",
      "{(1.0, 0.0, 2.0, 'rice', 'Urea')} -> {(0.0, 0.0, 3.0, 'rice', 'DAP')} (3,1.0,0.33)\n",
      "{(1.0, 0.0, 1.0, 'Coconut', 'MOP')} -> {(2.0, 2.0, 0.0, 'Coconut', 'Urea')} (3,1.0,0.33)\n",
      "{(2.0, 2.0, 0.0, 'Coconut', 'Urea')} -> {(1.0, 0.0, 1.0, 'Coconut', 'MOP')} (3,1.0,0.33)\n",
      "{(1.0, 0.0, 2.0, 'rice', 'DAP')} -> {(1.0, 0.0, 1.0, 'rice', 'Good NPK')} (3,1.0,0.33)\n",
      "{(1.0, 0.0, 1.0, 'rice', 'Good NPK')} -> {(1.0, 0.0, 2.0, 'rice', 'DAP')} (3,1.0,0.33)\n",
      "{(0.0, 0.0, 3.0, 'rice', 'DAP')} -> {(0.0, 0.0, 2.0, 'rice', 'Urea')} (3,1.0,0.33)\n",
      "{(0.0, 0.0, 2.0, 'rice', 'Urea')} -> {(0.0, 0.0, 3.0, 'rice', 'DAP')} (3,1.0,0.33)\n",
      "{(2.0, 3.0, 1.0, 'Coconut', 'MOP')} -> {(2.0, 3.0, 2.0, 'Coconut', 'MOP')} (3,1.0,0.33)\n",
      "{(2.0, 3.0, 2.0, 'Coconut', 'MOP')} -> {(2.0, 3.0, 1.0, 'Coconut', 'MOP')} (3,1.0,0.33)\n",
      "{(2.0, 3.0, 0.0, 'Coconut', 'MOP')} -> {(2.0, 3.0, 1.0, 'Coconut', 'Urea')} (3,1.0,0.33)\n",
      "{(2.0, 3.0, 1.0, 'Coconut', 'Urea')} -> {(2.0, 3.0, 0.0, 'Coconut', 'MOP')} (3,1.0,0.33)\n",
      "{(1.0, 0.0, 3.0, 'rice', 'Urea')} -> {(1.0, 0.0, 1.0, 'rice', 'MOP')} (3,1.0,0.33)\n",
      "{(1.0, 0.0, 1.0, 'rice', 'MOP')} -> {(1.0, 0.0, 3.0, 'rice', 'Urea')} (3,1.0,0.33)\n",
      "{(1.0, 0.0, 2.0, 'rice', 'DAP')} -> {(1.0, 0.0, 2.0, 'rice', 'Urea')} (3,1.0,0.33)\n",
      "{(1.0, 0.0, 2.0, 'rice', 'Urea')} -> {(1.0, 0.0, 2.0, 'rice', 'DAP')} (3,1.0,0.33)\n",
      "{(1.0, 0.0, 2.0, 'rice', 'DAP')} -> {(0.0, 0.0, 2.0, 'rice', 'Urea')} (3,1.0,0.33)\n",
      "{(0.0, 0.0, 2.0, 'rice', 'Urea')} -> {(1.0, 0.0, 2.0, 'rice', 'DAP')} (3,1.0,0.33)\n",
      "{(1.0, 0.0, 1.0, 'rice', 'DAP')} -> {(1.0, 0.0, 2.0, 'rice', 'MOP')} (3,1.0,0.33)\n",
      "{(1.0, 0.0, 2.0, 'rice', 'MOP')} -> {(1.0, 0.0, 1.0, 'rice', 'DAP')} (3,1.0,0.33)\n",
      "{(2.0, 3.0, 1.0, 'Coconut', 'DAP')} -> {(1.0, 3.0, 1.0, 'Coconut', 'DAP')} (3,1.0,0.33)\n",
      "{(1.0, 3.0, 1.0, 'Coconut', 'DAP')} -> {(2.0, 3.0, 1.0, 'Coconut', 'DAP')} (3,1.0,0.33)\n",
      "{(1.0, 0.0, 3.0, 'rice', 'Urea')} -> {(1.0, 0.0, 1.0, 'rice', 'DAP')} (3,1.0,0.33)\n",
      "{(1.0, 0.0, 1.0, 'rice', 'DAP')} -> {(1.0, 0.0, 3.0, 'rice', 'Urea')} (3,1.0,0.33)\n",
      "{(1.0, 0.0, 1.0, 'rice', 'Good NPK')} -> {(1.0, 0.0, 2.0, 'rice', 'MOP')} (3,1.0,0.33)\n",
      "{(1.0, 0.0, 2.0, 'rice', 'MOP')} -> {(1.0, 0.0, 1.0, 'rice', 'Good NPK')} (3,1.0,0.33)\n",
      "{(0.0, 0.0, 3.0, 'rice', 'DAP')} -> {(1.0, 0.0, 2.0, 'rice', 'MOP')} (3,1.0,0.33)\n",
      "{(1.0, 0.0, 2.0, 'rice', 'MOP')} -> {(0.0, 0.0, 3.0, 'rice', 'DAP')} (3,1.0,0.33)\n",
      "{(1.0, 3.0, 1.0, 'Coconut', 'DAP')} -> {(2.0, 2.0, 0.0, 'Coconut', 'Good NPK')} (3,1.0,0.33)\n",
      "{(2.0, 2.0, 0.0, 'Coconut', 'Good NPK')} -> {(1.0, 3.0, 1.0, 'Coconut', 'DAP')} (3,1.0,0.33)\n",
      "{(2.0, 3.0, 0.0, 'Coconut', 'MOP')} -> {(2.0, 2.0, 0.0, 'Coconut', 'Good NPK')} (3,1.0,0.33)\n",
      "{(2.0, 2.0, 0.0, 'Coconut', 'Good NPK')} -> {(2.0, 3.0, 0.0, 'Coconut', 'MOP')} (3,1.0,0.33)\n",
      "{(1.0, 0.0, 3.0, 'rice', 'Urea')} -> {(1.0, 0.0, 1.0, 'rice', 'Good NPK')} (3,1.0,0.33)\n",
      "{(1.0, 0.0, 1.0, 'rice', 'Good NPK')} -> {(1.0, 0.0, 3.0, 'rice', 'Urea')} (3,1.0,0.33)\n",
      "{(2.0, 3.0, 1.0, 'Coconut', 'Urea')} -> {(2.0, 2.0, 0.0, 'Coconut', 'Good NPK')} (3,1.0,0.33)\n",
      "{(2.0, 2.0, 0.0, 'Coconut', 'Good NPK')} -> {(2.0, 3.0, 1.0, 'Coconut', 'Urea')} (3,1.0,0.33)\n",
      "{(2.0, 2.0, 0.0, 'Coconut', 'Urea')} -> {(1.0, 0.0, 1.0, 'Coconut', 'Urea')} (3,1.0,0.33)\n",
      "{(1.0, 0.0, 1.0, 'Coconut', 'Urea')} -> {(2.0, 2.0, 0.0, 'Coconut', 'Urea')} (3,1.0,0.33)\n",
      "{(1.0, 0.0, 2.0, 'rice', 'DAP')} -> {(1.0, 0.0, 2.0, 'rice', 'MOP')} (3,1.0,0.33)\n",
      "{(1.0, 0.0, 2.0, 'rice', 'MOP')} -> {(1.0, 0.0, 2.0, 'rice', 'DAP')} (3,1.0,0.33)\n",
      "{(1.0, 0.0, 3.0, 'rice', 'Urea')} -> {(1.0, 0.0, 2.0, 'rice', 'Urea')} (3,1.0,0.33)\n",
      "{(1.0, 0.0, 2.0, 'rice', 'Urea')} -> {(1.0, 0.0, 3.0, 'rice', 'Urea')} (3,1.0,0.33)\n",
      "{(1.0, 0.0, 3.0, 'rice', 'Urea')} -> {(0.0, 0.0, 2.0, 'rice', 'Urea')} (3,1.0,0.33)\n",
      "{(0.0, 0.0, 2.0, 'rice', 'Urea')} -> {(1.0, 0.0, 3.0, 'rice', 'Urea')} (3,1.0,0.33)\n",
      "{(1.0, 2.0, 0.0, 'Coconut', 'MOP')} -> {(2.0, 2.0, 0.0, 'Coconut', 'Urea')} (3,1.0,0.33)\n",
      "{(2.0, 2.0, 0.0, 'Coconut', 'Urea')} -> {(1.0, 2.0, 0.0, 'Coconut', 'MOP')} (3,1.0,0.33)\n",
      "{(0.0, 0.0, 3.0, 'rice', 'DAP')} -> {(1.0, 0.0, 1.0, 'rice', 'MOP')} (3,1.0,0.33)\n",
      "{(1.0, 0.0, 1.0, 'rice', 'MOP')} -> {(0.0, 0.0, 3.0, 'rice', 'DAP')} (3,1.0,0.33)\n",
      "{(2.0, 3.0, 1.0, 'Coconut', 'DAP')} -> {(2.0, 3.0, 1.0, 'Coconut', 'Urea')} (3,1.0,0.33)\n",
      "{(2.0, 3.0, 1.0, 'Coconut', 'Urea')} -> {(2.0, 3.0, 1.0, 'Coconut', 'DAP')} (3,1.0,0.33)\n",
      "{(1.0, 0.0, 3.0, 'rice', 'Urea')} -> {(1.0, 0.0, 2.0, 'rice', 'MOP')} (3,1.0,0.33)\n",
      "{(1.0, 0.0, 2.0, 'rice', 'MOP')} -> {(1.0, 0.0, 3.0, 'rice', 'Urea')} (3,1.0,0.33)\n",
      "{(1.0, 0.0, 1.0, 'Coconut', 'MOP')} -> {(1.0, 0.0, 1.0, 'Coconut', 'Urea')} (3,1.0,0.33)\n",
      "{(1.0, 0.0, 1.0, 'Coconut', 'Urea')} -> {(1.0, 0.0, 1.0, 'Coconut', 'MOP')} (3,1.0,0.33)\n",
      "{(1.0, 0.0, 2.0, 'rice', 'MOP')} -> {(1.0, 0.0, 1.0, 'rice', 'MOP')} (3,1.0,0.33)\n",
      "{(1.0, 0.0, 1.0, 'rice', 'MOP')} -> {(1.0, 0.0, 2.0, 'rice', 'MOP')} (3,1.0,0.33)\n",
      "{(1.0, 0.0, 1.0, 'rice', 'MOP')} -> {(1.0, 0.0, 2.0, 'rice', 'Urea')} (3,1.0,0.33)\n",
      "{(1.0, 0.0, 2.0, 'rice', 'Urea')} -> {(1.0, 0.0, 1.0, 'rice', 'MOP')} (3,1.0,0.33)\n",
      "{(1.0, 0.0, 1.0, 'rice', 'MOP')} -> {(0.0, 0.0, 2.0, 'rice', 'Urea')} (3,1.0,0.33)\n",
      "{(0.0, 0.0, 2.0, 'rice', 'Urea')} -> {(1.0, 0.0, 1.0, 'rice', 'MOP')} (3,1.0,0.33)\n",
      "{(2.0, 3.0, 0.0, 'Coconut', 'MOP')} -> {(2.0, 3.0, 1.0, 'Coconut', 'DAP')} (3,1.0,0.33)\n",
      "{(2.0, 3.0, 1.0, 'Coconut', 'DAP')} -> {(2.0, 3.0, 0.0, 'Coconut', 'MOP')} (3,1.0,0.33)\n",
      "{(1.0, 0.0, 3.0, 'rice', 'Urea')} -> {(1.0, 0.0, 2.0, 'rice', 'DAP')} (3,1.0,0.33)\n",
      "{(1.0, 0.0, 2.0, 'rice', 'DAP')} -> {(1.0, 0.0, 3.0, 'rice', 'Urea')} (3,1.0,0.33)\n",
      "{(1.0, 2.0, 0.0, 'Coconut', 'MOP')} -> {(1.0, 2.0, 0.0, 'Coconut', 'Urea'), (1.0, 0.0, 1.0, 'Coconut', 'MOP'), (1.0, 0.0, 1.0, 'Coconut', 'Urea')} (3,1.0,0.33)\n",
      "{(1.0, 0.0, 1.0, 'Coconut', 'MOP')} -> {(1.0, 2.0, 0.0, 'Coconut', 'MOP'), (1.0, 2.0, 0.0, 'Coconut', 'Urea'), (1.0, 0.0, 1.0, 'Coconut', 'Urea')} (3,1.0,0.33)\n",
      "{(1.0, 0.0, 1.0, 'Coconut', 'Urea')} -> {(1.0, 2.0, 0.0, 'Coconut', 'MOP'), (1.0, 2.0, 0.0, 'Coconut', 'Urea'), (1.0, 0.0, 1.0, 'Coconut', 'MOP')} (3,1.0,0.33)\n",
      "{(1.0, 2.0, 0.0, 'Coconut', 'MOP'), (1.0, 2.0, 0.0, 'Coconut', 'Urea')} -> {(1.0, 0.0, 1.0, 'Coconut', 'MOP'), (1.0, 0.0, 1.0, 'Coconut', 'Urea')} (3,1.0,0.33)\n",
      "{(1.0, 2.0, 0.0, 'Coconut', 'MOP'), (1.0, 0.0, 1.0, 'Coconut', 'MOP')} -> {(1.0, 2.0, 0.0, 'Coconut', 'Urea'), (1.0, 0.0, 1.0, 'Coconut', 'Urea')} (3,1.0,0.33)\n",
      "{(1.0, 2.0, 0.0, 'Coconut', 'MOP'), (1.0, 0.0, 1.0, 'Coconut', 'Urea')} -> {(1.0, 2.0, 0.0, 'Coconut', 'Urea'), (1.0, 0.0, 1.0, 'Coconut', 'MOP')} (3,1.0,0.33)\n",
      "{(1.0, 2.0, 0.0, 'Coconut', 'Urea'), (1.0, 0.0, 1.0, 'Coconut', 'MOP')} -> {(1.0, 2.0, 0.0, 'Coconut', 'MOP'), (1.0, 0.0, 1.0, 'Coconut', 'Urea')} (3,1.0,0.33)\n",
      "{(1.0, 2.0, 0.0, 'Coconut', 'Urea'), (1.0, 0.0, 1.0, 'Coconut', 'Urea')} -> {(1.0, 2.0, 0.0, 'Coconut', 'MOP'), (1.0, 0.0, 1.0, 'Coconut', 'MOP')} (3,1.0,0.33)\n",
      "{(1.0, 0.0, 1.0, 'Coconut', 'MOP'), (1.0, 0.0, 1.0, 'Coconut', 'Urea')} -> {(1.0, 2.0, 0.0, 'Coconut', 'MOP'), (1.0, 2.0, 0.0, 'Coconut', 'Urea')} (3,1.0,0.33)\n",
      "{(1.0, 2.0, 0.0, 'Coconut', 'MOP'), (1.0, 2.0, 0.0, 'Coconut', 'Urea'), (1.0, 0.0, 1.0, 'Coconut', 'MOP')} -> {(1.0, 0.0, 1.0, 'Coconut', 'Urea')} (3,1.0,0.33)\n",
      "{(1.0, 2.0, 0.0, 'Coconut', 'MOP'), (1.0, 2.0, 0.0, 'Coconut', 'Urea'), (1.0, 0.0, 1.0, 'Coconut', 'Urea')} -> {(1.0, 0.0, 1.0, 'Coconut', 'MOP')} (3,1.0,0.33)\n",
      "{(1.0, 2.0, 0.0, 'Coconut', 'Urea'), (1.0, 0.0, 1.0, 'Coconut', 'MOP'), (1.0, 0.0, 1.0, 'Coconut', 'Urea')} -> {(1.0, 2.0, 0.0, 'Coconut', 'MOP')} (3,1.0,0.33)\n",
      "{(1.0, 2.0, 0.0, 'Coconut', 'MOP')} -> {(2.0, 3.0, 0.0, 'Coconut', 'DAP'), (1.0, 0.0, 1.0, 'Coconut', 'Urea')} (3,1.0,0.33)\n",
      "{(1.0, 0.0, 1.0, 'Coconut', 'Urea')} -> {(1.0, 2.0, 0.0, 'Coconut', 'MOP'), (2.0, 3.0, 0.0, 'Coconut', 'DAP')} (3,1.0,0.33)\n",
      "{(1.0, 2.0, 0.0, 'Coconut', 'MOP'), (2.0, 3.0, 0.0, 'Coconut', 'DAP')} -> {(1.0, 0.0, 1.0, 'Coconut', 'Urea')} (3,1.0,0.33)\n",
      "{(2.0, 3.0, 0.0, 'Coconut', 'DAP'), (1.0, 0.0, 1.0, 'Coconut', 'Urea')} -> {(1.0, 2.0, 0.0, 'Coconut', 'MOP')} (3,1.0,0.33)\n",
      "{(1.0, 2.0, 0.0, 'Coconut', 'MOP')} -> {(1.0, 0.0, 1.0, 'Coconut', 'MOP'), (1.0, 0.0, 1.0, 'Coconut', 'Urea')} (3,1.0,0.33)\n",
      "{(1.0, 0.0, 1.0, 'Coconut', 'MOP')} -> {(1.0, 2.0, 0.0, 'Coconut', 'MOP'), (1.0, 0.0, 1.0, 'Coconut', 'Urea')} (3,1.0,0.33)\n",
      "{(1.0, 0.0, 1.0, 'Coconut', 'Urea')} -> {(1.0, 2.0, 0.0, 'Coconut', 'MOP'), (1.0, 0.0, 1.0, 'Coconut', 'MOP')} (3,1.0,0.33)\n",
      "{(1.0, 2.0, 0.0, 'Coconut', 'MOP'), (1.0, 0.0, 1.0, 'Coconut', 'MOP')} -> {(1.0, 0.0, 1.0, 'Coconut', 'Urea')} (3,1.0,0.33)\n",
      "{(1.0, 2.0, 0.0, 'Coconut', 'MOP'), (1.0, 0.0, 1.0, 'Coconut', 'Urea')} -> {(1.0, 0.0, 1.0, 'Coconut', 'MOP')} (3,1.0,0.33)\n",
      "{(1.0, 0.0, 1.0, 'Coconut', 'MOP'), (1.0, 0.0, 1.0, 'Coconut', 'Urea')} -> {(1.0, 2.0, 0.0, 'Coconut', 'MOP')} (3,1.0,0.33)\n",
      "{(1.0, 2.0, 0.0, 'Coconut', 'MOP')} -> {(2.0, 3.0, 0.0, 'Coconut', 'DAP'), (1.0, 0.0, 1.0, 'Coconut', 'MOP'), (1.0, 0.0, 1.0, 'Coconut', 'Urea')} (3,1.0,0.33)\n",
      "{(1.0, 0.0, 1.0, 'Coconut', 'MOP')} -> {(1.0, 2.0, 0.0, 'Coconut', 'MOP'), (2.0, 3.0, 0.0, 'Coconut', 'DAP'), (1.0, 0.0, 1.0, 'Coconut', 'Urea')} (3,1.0,0.33)\n",
      "{(1.0, 0.0, 1.0, 'Coconut', 'Urea')} -> {(1.0, 2.0, 0.0, 'Coconut', 'MOP'), (2.0, 3.0, 0.0, 'Coconut', 'DAP'), (1.0, 0.0, 1.0, 'Coconut', 'MOP')} (3,1.0,0.33)\n",
      "{(1.0, 2.0, 0.0, 'Coconut', 'MOP'), (2.0, 3.0, 0.0, 'Coconut', 'DAP')} -> {(1.0, 0.0, 1.0, 'Coconut', 'MOP'), (1.0, 0.0, 1.0, 'Coconut', 'Urea')} (3,1.0,0.33)\n",
      "{(1.0, 2.0, 0.0, 'Coconut', 'MOP'), (1.0, 0.0, 1.0, 'Coconut', 'MOP')} -> {(2.0, 3.0, 0.0, 'Coconut', 'DAP'), (1.0, 0.0, 1.0, 'Coconut', 'Urea')} (3,1.0,0.33)\n",
      "{(1.0, 2.0, 0.0, 'Coconut', 'MOP'), (1.0, 0.0, 1.0, 'Coconut', 'Urea')} -> {(2.0, 3.0, 0.0, 'Coconut', 'DAP'), (1.0, 0.0, 1.0, 'Coconut', 'MOP')} (3,1.0,0.33)\n",
      "{(2.0, 3.0, 0.0, 'Coconut', 'DAP'), (1.0, 0.0, 1.0, 'Coconut', 'MOP')} -> {(1.0, 2.0, 0.0, 'Coconut', 'MOP'), (1.0, 0.0, 1.0, 'Coconut', 'Urea')} (3,1.0,0.33)\n",
      "{(2.0, 3.0, 0.0, 'Coconut', 'DAP'), (1.0, 0.0, 1.0, 'Coconut', 'Urea')} -> {(1.0, 2.0, 0.0, 'Coconut', 'MOP'), (1.0, 0.0, 1.0, 'Coconut', 'MOP')} (3,1.0,0.33)\n",
      "{(1.0, 0.0, 1.0, 'Coconut', 'MOP'), (1.0, 0.0, 1.0, 'Coconut', 'Urea')} -> {(1.0, 2.0, 0.0, 'Coconut', 'MOP'), (2.0, 3.0, 0.0, 'Coconut', 'DAP')} (3,1.0,0.33)\n",
      "{(1.0, 2.0, 0.0, 'Coconut', 'MOP'), (2.0, 3.0, 0.0, 'Coconut', 'DAP'), (1.0, 0.0, 1.0, 'Coconut', 'MOP')} -> {(1.0, 0.0, 1.0, 'Coconut', 'Urea')} (3,1.0,0.33)\n",
      "{(1.0, 2.0, 0.0, 'Coconut', 'MOP'), (2.0, 3.0, 0.0, 'Coconut', 'DAP'), (1.0, 0.0, 1.0, 'Coconut', 'Urea')} -> {(1.0, 0.0, 1.0, 'Coconut', 'MOP')} (3,1.0,0.33)\n",
      "{(2.0, 3.0, 0.0, 'Coconut', 'DAP'), (1.0, 0.0, 1.0, 'Coconut', 'MOP'), (1.0, 0.0, 1.0, 'Coconut', 'Urea')} -> {(1.0, 2.0, 0.0, 'Coconut', 'MOP')} (3,1.0,0.33)\n",
      "{(1.0, 2.0, 0.0, 'Coconut', 'MOP')} -> {(1.0, 2.0, 0.0, 'Coconut', 'Urea'), (2.0, 2.0, 0.0, 'Coconut', 'Urea'), (1.0, 0.0, 1.0, 'Coconut', 'Urea')} (3,1.0,0.33)\n",
      "{(2.0, 2.0, 0.0, 'Coconut', 'Urea')} -> {(1.0, 2.0, 0.0, 'Coconut', 'MOP'), (1.0, 2.0, 0.0, 'Coconut', 'Urea'), (1.0, 0.0, 1.0, 'Coconut', 'Urea')} (3,1.0,0.33)\n",
      "{(1.0, 0.0, 1.0, 'Coconut', 'Urea')} -> {(1.0, 2.0, 0.0, 'Coconut', 'MOP'), (1.0, 2.0, 0.0, 'Coconut', 'Urea'), (2.0, 2.0, 0.0, 'Coconut', 'Urea')} (3,1.0,0.33)\n",
      "{(1.0, 2.0, 0.0, 'Coconut', 'MOP'), (1.0, 2.0, 0.0, 'Coconut', 'Urea')} -> {(2.0, 2.0, 0.0, 'Coconut', 'Urea'), (1.0, 0.0, 1.0, 'Coconut', 'Urea')} (3,1.0,0.33)\n",
      "{(1.0, 2.0, 0.0, 'Coconut', 'MOP'), (2.0, 2.0, 0.0, 'Coconut', 'Urea')} -> {(1.0, 2.0, 0.0, 'Coconut', 'Urea'), (1.0, 0.0, 1.0, 'Coconut', 'Urea')} (3,1.0,0.33)\n",
      "{(1.0, 2.0, 0.0, 'Coconut', 'MOP'), (1.0, 0.0, 1.0, 'Coconut', 'Urea')} -> {(1.0, 2.0, 0.0, 'Coconut', 'Urea'), (2.0, 2.0, 0.0, 'Coconut', 'Urea')} (3,1.0,0.33)\n",
      "{(1.0, 2.0, 0.0, 'Coconut', 'Urea'), (2.0, 2.0, 0.0, 'Coconut', 'Urea')} -> {(1.0, 2.0, 0.0, 'Coconut', 'MOP'), (1.0, 0.0, 1.0, 'Coconut', 'Urea')} (3,1.0,0.33)\n",
      "{(1.0, 2.0, 0.0, 'Coconut', 'Urea'), (1.0, 0.0, 1.0, 'Coconut', 'Urea')} -> {(1.0, 2.0, 0.0, 'Coconut', 'MOP'), (2.0, 2.0, 0.0, 'Coconut', 'Urea')} (3,1.0,0.33)\n",
      "{(2.0, 2.0, 0.0, 'Coconut', 'Urea'), (1.0, 0.0, 1.0, 'Coconut', 'Urea')} -> {(1.0, 2.0, 0.0, 'Coconut', 'MOP'), (1.0, 2.0, 0.0, 'Coconut', 'Urea')} (3,1.0,0.33)\n",
      "{(1.0, 2.0, 0.0, 'Coconut', 'MOP'), (1.0, 2.0, 0.0, 'Coconut', 'Urea'), (2.0, 2.0, 0.0, 'Coconut', 'Urea')} -> {(1.0, 0.0, 1.0, 'Coconut', 'Urea')} (3,1.0,0.33)\n",
      "{(1.0, 2.0, 0.0, 'Coconut', 'MOP'), (1.0, 2.0, 0.0, 'Coconut', 'Urea'), (1.0, 0.0, 1.0, 'Coconut', 'Urea')} -> {(2.0, 2.0, 0.0, 'Coconut', 'Urea')} (3,1.0,0.33)\n",
      "{(1.0, 2.0, 0.0, 'Coconut', 'Urea'), (2.0, 2.0, 0.0, 'Coconut', 'Urea'), (1.0, 0.0, 1.0, 'Coconut', 'Urea')} -> {(1.0, 2.0, 0.0, 'Coconut', 'MOP')} (3,1.0,0.33)\n",
      "{(1.0, 2.0, 0.0, 'Coconut', 'MOP')} -> {(2.0, 2.0, 0.0, 'Coconut', 'Urea'), (1.0, 0.0, 1.0, 'Coconut', 'Urea')} (3,1.0,0.33)\n",
      "{(2.0, 2.0, 0.0, 'Coconut', 'Urea')} -> {(1.0, 2.0, 0.0, 'Coconut', 'MOP'), (1.0, 0.0, 1.0, 'Coconut', 'Urea')} (3,1.0,0.33)\n",
      "{(1.0, 0.0, 1.0, 'Coconut', 'Urea')} -> {(1.0, 2.0, 0.0, 'Coconut', 'MOP'), (2.0, 2.0, 0.0, 'Coconut', 'Urea')} (3,1.0,0.33)\n",
      "{(1.0, 2.0, 0.0, 'Coconut', 'MOP'), (2.0, 2.0, 0.0, 'Coconut', 'Urea')} -> {(1.0, 0.0, 1.0, 'Coconut', 'Urea')} (3,1.0,0.33)\n",
      "{(1.0, 2.0, 0.0, 'Coconut', 'MOP'), (1.0, 0.0, 1.0, 'Coconut', 'Urea')} -> {(2.0, 2.0, 0.0, 'Coconut', 'Urea')} (3,1.0,0.33)\n",
      "{(2.0, 2.0, 0.0, 'Coconut', 'Urea'), (1.0, 0.0, 1.0, 'Coconut', 'Urea')} -> {(1.0, 2.0, 0.0, 'Coconut', 'MOP')} (3,1.0,0.33)\n",
      "{(1.0, 2.0, 0.0, 'Coconut', 'MOP')} -> {(1.0, 2.0, 0.0, 'Coconut', 'Urea'), (1.0, 0.0, 1.0, 'Coconut', 'Urea')} (3,1.0,0.33)\n",
      "{(1.0, 0.0, 1.0, 'Coconut', 'Urea')} -> {(1.0, 2.0, 0.0, 'Coconut', 'MOP'), (1.0, 2.0, 0.0, 'Coconut', 'Urea')} (3,1.0,0.33)\n",
      "{(1.0, 2.0, 0.0, 'Coconut', 'MOP'), (1.0, 2.0, 0.0, 'Coconut', 'Urea')} -> {(1.0, 0.0, 1.0, 'Coconut', 'Urea')} (3,1.0,0.33)\n",
      "{(1.0, 2.0, 0.0, 'Coconut', 'Urea'), (1.0, 0.0, 1.0, 'Coconut', 'Urea')} -> {(1.0, 2.0, 0.0, 'Coconut', 'MOP')} (3,1.0,0.33)\n",
      "{(0.0, 0.0, 3.0, 'rice', 'DAP')} -> {(1.0, 0.0, 1.0, 'rice', 'DAP'), (1.0, 0.0, 1.0, 'rice', 'MOP')} (3,1.0,0.33)\n",
      "{(1.0, 0.0, 1.0, 'rice', 'DAP')} -> {(0.0, 0.0, 3.0, 'rice', 'DAP'), (1.0, 0.0, 1.0, 'rice', 'MOP')} (3,1.0,0.33)\n",
      "{(1.0, 0.0, 1.0, 'rice', 'MOP')} -> {(0.0, 0.0, 3.0, 'rice', 'DAP'), (1.0, 0.0, 1.0, 'rice', 'DAP')} (3,1.0,0.33)\n",
      "{(0.0, 0.0, 3.0, 'rice', 'DAP'), (1.0, 0.0, 1.0, 'rice', 'DAP')} -> {(1.0, 0.0, 1.0, 'rice', 'MOP')} (3,1.0,0.33)\n",
      "{(0.0, 0.0, 3.0, 'rice', 'DAP'), (1.0, 0.0, 1.0, 'rice', 'MOP')} -> {(1.0, 0.0, 1.0, 'rice', 'DAP')} (3,1.0,0.33)\n",
      "{(1.0, 0.0, 1.0, 'rice', 'DAP'), (1.0, 0.0, 1.0, 'rice', 'MOP')} -> {(0.0, 0.0, 3.0, 'rice', 'DAP')} (3,1.0,0.33)\n",
      "{(0.0, 0.0, 3.0, 'rice', 'DAP')} -> {(1.0, 0.0, 2.0, 'rice', 'MOP'), (1.0, 0.0, 1.0, 'rice', 'DAP'), (1.0, 0.0, 1.0, 'rice', 'MOP')} (3,1.0,0.33)\n",
      "{(1.0, 0.0, 1.0, 'rice', 'DAP')} -> {(0.0, 0.0, 3.0, 'rice', 'DAP'), (1.0, 0.0, 2.0, 'rice', 'MOP'), (1.0, 0.0, 1.0, 'rice', 'MOP')} (3,1.0,0.33)\n",
      "{(1.0, 0.0, 2.0, 'rice', 'MOP')} -> {(0.0, 0.0, 3.0, 'rice', 'DAP'), (1.0, 0.0, 1.0, 'rice', 'DAP'), (1.0, 0.0, 1.0, 'rice', 'MOP')} (3,1.0,0.33)\n",
      "{(1.0, 0.0, 1.0, 'rice', 'MOP')} -> {(0.0, 0.0, 3.0, 'rice', 'DAP'), (1.0, 0.0, 1.0, 'rice', 'DAP'), (1.0, 0.0, 2.0, 'rice', 'MOP')} (3,1.0,0.33)\n",
      "{(0.0, 0.0, 3.0, 'rice', 'DAP'), (1.0, 0.0, 1.0, 'rice', 'DAP')} -> {(1.0, 0.0, 2.0, 'rice', 'MOP'), (1.0, 0.0, 1.0, 'rice', 'MOP')} (3,1.0,0.33)\n",
      "{(0.0, 0.0, 3.0, 'rice', 'DAP'), (1.0, 0.0, 2.0, 'rice', 'MOP')} -> {(1.0, 0.0, 1.0, 'rice', 'DAP'), (1.0, 0.0, 1.0, 'rice', 'MOP')} (3,1.0,0.33)\n",
      "{(0.0, 0.0, 3.0, 'rice', 'DAP'), (1.0, 0.0, 1.0, 'rice', 'MOP')} -> {(1.0, 0.0, 2.0, 'rice', 'MOP'), (1.0, 0.0, 1.0, 'rice', 'DAP')} (3,1.0,0.33)\n",
      "{(1.0, 0.0, 2.0, 'rice', 'MOP'), (1.0, 0.0, 1.0, 'rice', 'DAP')} -> {(0.0, 0.0, 3.0, 'rice', 'DAP'), (1.0, 0.0, 1.0, 'rice', 'MOP')} (3,1.0,0.33)\n",
      "{(1.0, 0.0, 1.0, 'rice', 'DAP'), (1.0, 0.0, 1.0, 'rice', 'MOP')} -> {(0.0, 0.0, 3.0, 'rice', 'DAP'), (1.0, 0.0, 2.0, 'rice', 'MOP')} (3,1.0,0.33)\n",
      "{(1.0, 0.0, 2.0, 'rice', 'MOP'), (1.0, 0.0, 1.0, 'rice', 'MOP')} -> {(0.0, 0.0, 3.0, 'rice', 'DAP'), (1.0, 0.0, 1.0, 'rice', 'DAP')} (3,1.0,0.33)\n",
      "{(0.0, 0.0, 3.0, 'rice', 'DAP'), (1.0, 0.0, 1.0, 'rice', 'DAP'), (1.0, 0.0, 2.0, 'rice', 'MOP')} -> {(1.0, 0.0, 1.0, 'rice', 'MOP')} (3,1.0,0.33)\n",
      "{(0.0, 0.0, 3.0, 'rice', 'DAP'), (1.0, 0.0, 1.0, 'rice', 'DAP'), (1.0, 0.0, 1.0, 'rice', 'MOP')} -> {(1.0, 0.0, 2.0, 'rice', 'MOP')} (3,1.0,0.33)\n",
      "{(0.0, 0.0, 3.0, 'rice', 'DAP'), (1.0, 0.0, 2.0, 'rice', 'MOP'), (1.0, 0.0, 1.0, 'rice', 'MOP')} -> {(1.0, 0.0, 1.0, 'rice', 'DAP')} (3,1.0,0.33)\n",
      "{(1.0, 0.0, 2.0, 'rice', 'MOP'), (1.0, 0.0, 1.0, 'rice', 'DAP'), (1.0, 0.0, 1.0, 'rice', 'MOP')} -> {(0.0, 0.0, 3.0, 'rice', 'DAP')} (3,1.0,0.33)\n",
      "{(1.0, 0.0, 1.0, 'Coconut', 'MOP')} -> {(2.0, 3.0, 0.0, 'Coconut', 'DAP'), (1.0, 2.0, 0.0, 'Coconut', 'Urea'), (1.0, 0.0, 1.0, 'Coconut', 'Urea')} (3,1.0,0.33)\n",
      "{(1.0, 0.0, 1.0, 'Coconut', 'Urea')} -> {(2.0, 3.0, 0.0, 'Coconut', 'DAP'), (1.0, 2.0, 0.0, 'Coconut', 'Urea'), (1.0, 0.0, 1.0, 'Coconut', 'MOP')} (3,1.0,0.33)\n",
      "{(2.0, 3.0, 0.0, 'Coconut', 'DAP'), (1.0, 0.0, 1.0, 'Coconut', 'MOP')} -> {(1.0, 2.0, 0.0, 'Coconut', 'Urea'), (1.0, 0.0, 1.0, 'Coconut', 'Urea')} (3,1.0,0.33)\n",
      "{(2.0, 3.0, 0.0, 'Coconut', 'DAP'), (1.0, 0.0, 1.0, 'Coconut', 'Urea')} -> {(1.0, 2.0, 0.0, 'Coconut', 'Urea'), (1.0, 0.0, 1.0, 'Coconut', 'MOP')} (3,1.0,0.33)\n",
      "{(1.0, 2.0, 0.0, 'Coconut', 'Urea'), (1.0, 0.0, 1.0, 'Coconut', 'MOP')} -> {(2.0, 3.0, 0.0, 'Coconut', 'DAP'), (1.0, 0.0, 1.0, 'Coconut', 'Urea')} (3,1.0,0.33)\n",
      "{(1.0, 2.0, 0.0, 'Coconut', 'Urea'), (1.0, 0.0, 1.0, 'Coconut', 'Urea')} -> {(2.0, 3.0, 0.0, 'Coconut', 'DAP'), (1.0, 0.0, 1.0, 'Coconut', 'MOP')} (3,1.0,0.33)\n",
      "{(2.0, 3.0, 0.0, 'Coconut', 'DAP'), (1.0, 2.0, 0.0, 'Coconut', 'Urea'), (1.0, 0.0, 1.0, 'Coconut', 'MOP')} -> {(1.0, 0.0, 1.0, 'Coconut', 'Urea')} (3,1.0,0.33)\n",
      "{(2.0, 3.0, 0.0, 'Coconut', 'DAP'), (1.0, 2.0, 0.0, 'Coconut', 'Urea'), (1.0, 0.0, 1.0, 'Coconut', 'Urea')} -> {(1.0, 0.0, 1.0, 'Coconut', 'MOP')} (3,1.0,0.33)\n",
      "{(1.0, 2.0, 0.0, 'Coconut', 'MOP')} -> {(1.0, 2.0, 0.0, 'Coconut', 'Urea'), (1.0, 0.0, 1.0, 'Coconut', 'MOP')} (3,1.0,0.33)\n",
      "{(1.0, 0.0, 1.0, 'Coconut', 'MOP')} -> {(1.0, 2.0, 0.0, 'Coconut', 'MOP'), (1.0, 2.0, 0.0, 'Coconut', 'Urea')} (3,1.0,0.33)\n",
      "{(1.0, 2.0, 0.0, 'Coconut', 'MOP'), (1.0, 2.0, 0.0, 'Coconut', 'Urea')} -> {(1.0, 0.0, 1.0, 'Coconut', 'MOP')} (3,1.0,0.33)\n",
      "{(1.0, 2.0, 0.0, 'Coconut', 'Urea'), (1.0, 0.0, 1.0, 'Coconut', 'MOP')} -> {(1.0, 2.0, 0.0, 'Coconut', 'MOP')} (3,1.0,0.33)\n",
      "{(1.0, 0.0, 1.0, 'Coconut', 'MOP')} -> {(1.0, 2.0, 0.0, 'Coconut', 'Urea'), (1.0, 0.0, 1.0, 'Coconut', 'Urea')} (3,1.0,0.33)\n",
      "{(1.0, 0.0, 1.0, 'Coconut', 'Urea')} -> {(1.0, 2.0, 0.0, 'Coconut', 'Urea'), (1.0, 0.0, 1.0, 'Coconut', 'MOP')} (3,1.0,0.33)\n",
      "{(1.0, 2.0, 0.0, 'Coconut', 'Urea'), (1.0, 0.0, 1.0, 'Coconut', 'MOP')} -> {(1.0, 0.0, 1.0, 'Coconut', 'Urea')} (3,1.0,0.33)\n",
      "{(1.0, 2.0, 0.0, 'Coconut', 'Urea'), (1.0, 0.0, 1.0, 'Coconut', 'Urea')} -> {(1.0, 0.0, 1.0, 'Coconut', 'MOP')} (3,1.0,0.33)\n",
      "{(1.0, 0.0, 1.0, 'Coconut', 'MOP')} -> {(2.0, 3.0, 0.0, 'Coconut', 'DAP'), (1.0, 0.0, 1.0, 'Coconut', 'Urea')} (3,1.0,0.33)\n",
      "{(1.0, 0.0, 1.0, 'Coconut', 'Urea')} -> {(2.0, 3.0, 0.0, 'Coconut', 'DAP'), (1.0, 0.0, 1.0, 'Coconut', 'MOP')} (3,1.0,0.33)\n",
      "{(2.0, 3.0, 0.0, 'Coconut', 'DAP'), (1.0, 0.0, 1.0, 'Coconut', 'MOP')} -> {(1.0, 0.0, 1.0, 'Coconut', 'Urea')} (3,1.0,0.33)\n",
      "{(2.0, 3.0, 0.0, 'Coconut', 'DAP'), (1.0, 0.0, 1.0, 'Coconut', 'Urea')} -> {(1.0, 0.0, 1.0, 'Coconut', 'MOP')} (3,1.0,0.33)\n",
      "{(2.0, 2.0, 0.0, 'Coconut', 'Urea')} -> {(2.0, 3.0, 0.0, 'Coconut', 'DAP'), (1.0, 2.0, 0.0, 'Coconut', 'Urea'), (1.0, 0.0, 1.0, 'Coconut', 'Urea')} (3,1.0,0.33)\n",
      "{(1.0, 0.0, 1.0, 'Coconut', 'Urea')} -> {(2.0, 3.0, 0.0, 'Coconut', 'DAP'), (1.0, 2.0, 0.0, 'Coconut', 'Urea'), (2.0, 2.0, 0.0, 'Coconut', 'Urea')} (3,1.0,0.33)\n",
      "{(2.0, 3.0, 0.0, 'Coconut', 'DAP'), (2.0, 2.0, 0.0, 'Coconut', 'Urea')} -> {(1.0, 2.0, 0.0, 'Coconut', 'Urea'), (1.0, 0.0, 1.0, 'Coconut', 'Urea')} (3,1.0,0.33)\n",
      "{(2.0, 3.0, 0.0, 'Coconut', 'DAP'), (1.0, 0.0, 1.0, 'Coconut', 'Urea')} -> {(1.0, 2.0, 0.0, 'Coconut', 'Urea'), (2.0, 2.0, 0.0, 'Coconut', 'Urea')} (3,1.0,0.33)\n",
      "{(1.0, 2.0, 0.0, 'Coconut', 'Urea'), (2.0, 2.0, 0.0, 'Coconut', 'Urea')} -> {(2.0, 3.0, 0.0, 'Coconut', 'DAP'), (1.0, 0.0, 1.0, 'Coconut', 'Urea')} (3,1.0,0.33)\n",
      "{(1.0, 2.0, 0.0, 'Coconut', 'Urea'), (1.0, 0.0, 1.0, 'Coconut', 'Urea')} -> {(2.0, 3.0, 0.0, 'Coconut', 'DAP'), (2.0, 2.0, 0.0, 'Coconut', 'Urea')} (3,1.0,0.33)\n",
      "{(2.0, 3.0, 0.0, 'Coconut', 'DAP'), (1.0, 2.0, 0.0, 'Coconut', 'Urea'), (2.0, 2.0, 0.0, 'Coconut', 'Urea')} -> {(1.0, 0.0, 1.0, 'Coconut', 'Urea')} (3,1.0,0.33)\n",
      "{(2.0, 3.0, 0.0, 'Coconut', 'DAP'), (1.0, 2.0, 0.0, 'Coconut', 'Urea'), (1.0, 0.0, 1.0, 'Coconut', 'Urea')} -> {(2.0, 2.0, 0.0, 'Coconut', 'Urea')} (3,1.0,0.33)\n",
      "{(2.0, 2.0, 0.0, 'Coconut', 'Urea')} -> {(2.0, 3.0, 0.0, 'Coconut', 'DAP'), (1.0, 0.0, 1.0, 'Coconut', 'Urea')} (3,1.0,0.33)\n",
      "{(1.0, 0.0, 1.0, 'Coconut', 'Urea')} -> {(2.0, 3.0, 0.0, 'Coconut', 'DAP'), (2.0, 2.0, 0.0, 'Coconut', 'Urea')} (3,1.0,0.33)\n",
      "{(2.0, 3.0, 0.0, 'Coconut', 'DAP'), (2.0, 2.0, 0.0, 'Coconut', 'Urea')} -> {(1.0, 0.0, 1.0, 'Coconut', 'Urea')} (3,1.0,0.33)\n",
      "{(2.0, 3.0, 0.0, 'Coconut', 'DAP'), (1.0, 0.0, 1.0, 'Coconut', 'Urea')} -> {(2.0, 2.0, 0.0, 'Coconut', 'Urea')} (3,1.0,0.33)\n",
      "{(0.0, 0.0, 3.0, 'rice', 'DAP')} -> {(1.0, 0.0, 2.0, 'rice', 'MOP'), (1.0, 0.0, 1.0, 'rice', 'DAP'), (0.0, 0.0, 2.0, 'rice', 'Urea')} (3,1.0,0.33)\n",
      "{(1.0, 0.0, 1.0, 'rice', 'DAP')} -> {(0.0, 0.0, 3.0, 'rice', 'DAP'), (1.0, 0.0, 2.0, 'rice', 'MOP'), (0.0, 0.0, 2.0, 'rice', 'Urea')} (3,1.0,0.33)\n",
      "{(1.0, 0.0, 2.0, 'rice', 'MOP')} -> {(0.0, 0.0, 3.0, 'rice', 'DAP'), (1.0, 0.0, 1.0, 'rice', 'DAP'), (0.0, 0.0, 2.0, 'rice', 'Urea')} (3,1.0,0.33)\n",
      "{(0.0, 0.0, 2.0, 'rice', 'Urea')} -> {(0.0, 0.0, 3.0, 'rice', 'DAP'), (1.0, 0.0, 1.0, 'rice', 'DAP'), (1.0, 0.0, 2.0, 'rice', 'MOP')} (3,1.0,0.33)\n",
      "{(0.0, 0.0, 3.0, 'rice', 'DAP'), (1.0, 0.0, 1.0, 'rice', 'DAP')} -> {(1.0, 0.0, 2.0, 'rice', 'MOP'), (0.0, 0.0, 2.0, 'rice', 'Urea')} (3,1.0,0.33)\n",
      "{(0.0, 0.0, 3.0, 'rice', 'DAP'), (1.0, 0.0, 2.0, 'rice', 'MOP')} -> {(0.0, 0.0, 2.0, 'rice', 'Urea'), (1.0, 0.0, 1.0, 'rice', 'DAP')} (3,1.0,0.33)\n",
      "{(0.0, 0.0, 3.0, 'rice', 'DAP'), (0.0, 0.0, 2.0, 'rice', 'Urea')} -> {(1.0, 0.0, 2.0, 'rice', 'MOP'), (1.0, 0.0, 1.0, 'rice', 'DAP')} (3,1.0,0.33)\n",
      "{(1.0, 0.0, 2.0, 'rice', 'MOP'), (1.0, 0.0, 1.0, 'rice', 'DAP')} -> {(0.0, 0.0, 3.0, 'rice', 'DAP'), (0.0, 0.0, 2.0, 'rice', 'Urea')} (3,1.0,0.33)\n",
      "{(0.0, 0.0, 2.0, 'rice', 'Urea'), (1.0, 0.0, 1.0, 'rice', 'DAP')} -> {(0.0, 0.0, 3.0, 'rice', 'DAP'), (1.0, 0.0, 2.0, 'rice', 'MOP')} (3,1.0,0.33)\n",
      "{(1.0, 0.0, 2.0, 'rice', 'MOP'), (0.0, 0.0, 2.0, 'rice', 'Urea')} -> {(0.0, 0.0, 3.0, 'rice', 'DAP'), (1.0, 0.0, 1.0, 'rice', 'DAP')} (3,1.0,0.33)\n",
      "{(0.0, 0.0, 3.0, 'rice', 'DAP'), (1.0, 0.0, 1.0, 'rice', 'DAP'), (1.0, 0.0, 2.0, 'rice', 'MOP')} -> {(0.0, 0.0, 2.0, 'rice', 'Urea')} (3,1.0,0.33)\n",
      "{(0.0, 0.0, 3.0, 'rice', 'DAP'), (1.0, 0.0, 1.0, 'rice', 'DAP'), (0.0, 0.0, 2.0, 'rice', 'Urea')} -> {(1.0, 0.0, 2.0, 'rice', 'MOP')} (3,1.0,0.33)\n",
      "{(0.0, 0.0, 3.0, 'rice', 'DAP'), (1.0, 0.0, 2.0, 'rice', 'MOP'), (0.0, 0.0, 2.0, 'rice', 'Urea')} -> {(1.0, 0.0, 1.0, 'rice', 'DAP')} (3,1.0,0.33)\n",
      "{(1.0, 0.0, 2.0, 'rice', 'MOP'), (1.0, 0.0, 1.0, 'rice', 'DAP'), (0.0, 0.0, 2.0, 'rice', 'Urea')} -> {(0.0, 0.0, 3.0, 'rice', 'DAP')} (3,1.0,0.33)\n",
      "{(0.0, 0.0, 3.0, 'rice', 'DAP')} -> {(1.0, 0.0, 1.0, 'rice', 'DAP'), (1.0, 0.0, 2.0, 'rice', 'Urea')} (3,1.0,0.33)\n",
      "{(1.0, 0.0, 1.0, 'rice', 'DAP')} -> {(0.0, 0.0, 3.0, 'rice', 'DAP'), (1.0, 0.0, 2.0, 'rice', 'Urea')} (3,1.0,0.33)\n",
      "{(1.0, 0.0, 2.0, 'rice', 'Urea')} -> {(0.0, 0.0, 3.0, 'rice', 'DAP'), (1.0, 0.0, 1.0, 'rice', 'DAP')} (3,1.0,0.33)\n",
      "{(0.0, 0.0, 3.0, 'rice', 'DAP'), (1.0, 0.0, 1.0, 'rice', 'DAP')} -> {(1.0, 0.0, 2.0, 'rice', 'Urea')} (3,1.0,0.33)\n",
      "{(0.0, 0.0, 3.0, 'rice', 'DAP'), (1.0, 0.0, 2.0, 'rice', 'Urea')} -> {(1.0, 0.0, 1.0, 'rice', 'DAP')} (3,1.0,0.33)\n",
      "{(1.0, 0.0, 1.0, 'rice', 'DAP'), (1.0, 0.0, 2.0, 'rice', 'Urea')} -> {(0.0, 0.0, 3.0, 'rice', 'DAP')} (3,1.0,0.33)\n",
      "{(0.0, 0.0, 3.0, 'rice', 'DAP')} -> {(0.0, 0.0, 2.0, 'rice', 'Urea'), (1.0, 0.0, 1.0, 'rice', 'DAP')} (3,1.0,0.33)\n",
      "{(1.0, 0.0, 1.0, 'rice', 'DAP')} -> {(0.0, 0.0, 3.0, 'rice', 'DAP'), (0.0, 0.0, 2.0, 'rice', 'Urea')} (3,1.0,0.33)\n",
      "{(0.0, 0.0, 2.0, 'rice', 'Urea')} -> {(0.0, 0.0, 3.0, 'rice', 'DAP'), (1.0, 0.0, 1.0, 'rice', 'DAP')} (3,1.0,0.33)\n",
      "{(0.0, 0.0, 3.0, 'rice', 'DAP'), (1.0, 0.0, 1.0, 'rice', 'DAP')} -> {(0.0, 0.0, 2.0, 'rice', 'Urea')} (3,1.0,0.33)\n",
      "{(0.0, 0.0, 3.0, 'rice', 'DAP'), (0.0, 0.0, 2.0, 'rice', 'Urea')} -> {(1.0, 0.0, 1.0, 'rice', 'DAP')} (3,1.0,0.33)\n",
      "{(0.0, 0.0, 2.0, 'rice', 'Urea'), (1.0, 0.0, 1.0, 'rice', 'DAP')} -> {(0.0, 0.0, 3.0, 'rice', 'DAP')} (3,1.0,0.33)\n",
      "{(0.0, 0.0, 3.0, 'rice', 'DAP')} -> {(1.0, 0.0, 2.0, 'rice', 'MOP'), (1.0, 0.0, 1.0, 'rice', 'DAP')} (3,1.0,0.33)\n",
      "{(1.0, 0.0, 1.0, 'rice', 'DAP')} -> {(0.0, 0.0, 3.0, 'rice', 'DAP'), (1.0, 0.0, 2.0, 'rice', 'MOP')} (3,1.0,0.33)\n",
      "{(1.0, 0.0, 2.0, 'rice', 'MOP')} -> {(0.0, 0.0, 3.0, 'rice', 'DAP'), (1.0, 0.0, 1.0, 'rice', 'DAP')} (3,1.0,0.33)\n",
      "{(0.0, 0.0, 3.0, 'rice', 'DAP'), (1.0, 0.0, 1.0, 'rice', 'DAP')} -> {(1.0, 0.0, 2.0, 'rice', 'MOP')} (3,1.0,0.33)\n",
      "{(0.0, 0.0, 3.0, 'rice', 'DAP'), (1.0, 0.0, 2.0, 'rice', 'MOP')} -> {(1.0, 0.0, 1.0, 'rice', 'DAP')} (3,1.0,0.33)\n",
      "{(1.0, 0.0, 2.0, 'rice', 'MOP'), (1.0, 0.0, 1.0, 'rice', 'DAP')} -> {(0.0, 0.0, 3.0, 'rice', 'DAP')} (3,1.0,0.33)\n",
      "{(0.0, 0.0, 3.0, 'rice', 'DAP')} -> {(0.0, 0.0, 2.0, 'rice', 'Urea'), (1.0, 0.0, 1.0, 'rice', 'DAP'), (1.0, 0.0, 1.0, 'rice', 'MOP')} (3,1.0,0.33)\n",
      "{(1.0, 0.0, 1.0, 'rice', 'DAP')} -> {(0.0, 0.0, 3.0, 'rice', 'DAP'), (0.0, 0.0, 2.0, 'rice', 'Urea'), (1.0, 0.0, 1.0, 'rice', 'MOP')} (3,1.0,0.33)\n",
      "{(1.0, 0.0, 1.0, 'rice', 'MOP')} -> {(0.0, 0.0, 3.0, 'rice', 'DAP'), (1.0, 0.0, 1.0, 'rice', 'DAP'), (0.0, 0.0, 2.0, 'rice', 'Urea')} (3,1.0,0.33)\n",
      "{(0.0, 0.0, 2.0, 'rice', 'Urea')} -> {(0.0, 0.0, 3.0, 'rice', 'DAP'), (1.0, 0.0, 1.0, 'rice', 'DAP'), (1.0, 0.0, 1.0, 'rice', 'MOP')} (3,1.0,0.33)\n",
      "{(0.0, 0.0, 3.0, 'rice', 'DAP'), (1.0, 0.0, 1.0, 'rice', 'DAP')} -> {(0.0, 0.0, 2.0, 'rice', 'Urea'), (1.0, 0.0, 1.0, 'rice', 'MOP')} (3,1.0,0.33)\n",
      "{(0.0, 0.0, 3.0, 'rice', 'DAP'), (1.0, 0.0, 1.0, 'rice', 'MOP')} -> {(0.0, 0.0, 2.0, 'rice', 'Urea'), (1.0, 0.0, 1.0, 'rice', 'DAP')} (3,1.0,0.33)\n",
      "{(0.0, 0.0, 3.0, 'rice', 'DAP'), (0.0, 0.0, 2.0, 'rice', 'Urea')} -> {(1.0, 0.0, 1.0, 'rice', 'DAP'), (1.0, 0.0, 1.0, 'rice', 'MOP')} (3,1.0,0.33)\n",
      "{(1.0, 0.0, 1.0, 'rice', 'DAP'), (1.0, 0.0, 1.0, 'rice', 'MOP')} -> {(0.0, 0.0, 3.0, 'rice', 'DAP'), (0.0, 0.0, 2.0, 'rice', 'Urea')} (3,1.0,0.33)\n",
      "{(0.0, 0.0, 2.0, 'rice', 'Urea'), (1.0, 0.0, 1.0, 'rice', 'DAP')} -> {(0.0, 0.0, 3.0, 'rice', 'DAP'), (1.0, 0.0, 1.0, 'rice', 'MOP')} (3,1.0,0.33)\n",
      "{(0.0, 0.0, 2.0, 'rice', 'Urea'), (1.0, 0.0, 1.0, 'rice', 'MOP')} -> {(0.0, 0.0, 3.0, 'rice', 'DAP'), (1.0, 0.0, 1.0, 'rice', 'DAP')} (3,1.0,0.33)\n",
      "{(0.0, 0.0, 3.0, 'rice', 'DAP'), (1.0, 0.0, 1.0, 'rice', 'DAP'), (1.0, 0.0, 1.0, 'rice', 'MOP')} -> {(0.0, 0.0, 2.0, 'rice', 'Urea')} (3,1.0,0.33)\n",
      "{(0.0, 0.0, 3.0, 'rice', 'DAP'), (1.0, 0.0, 1.0, 'rice', 'DAP'), (0.0, 0.0, 2.0, 'rice', 'Urea')} -> {(1.0, 0.0, 1.0, 'rice', 'MOP')} (3,1.0,0.33)\n",
      "{(0.0, 0.0, 3.0, 'rice', 'DAP'), (0.0, 0.0, 2.0, 'rice', 'Urea'), (1.0, 0.0, 1.0, 'rice', 'MOP')} -> {(1.0, 0.0, 1.0, 'rice', 'DAP')} (3,1.0,0.33)\n",
      "{(0.0, 0.0, 2.0, 'rice', 'Urea'), (1.0, 0.0, 1.0, 'rice', 'DAP'), (1.0, 0.0, 1.0, 'rice', 'MOP')} -> {(0.0, 0.0, 3.0, 'rice', 'DAP')} (3,1.0,0.33)\n",
      "{(1.0, 0.0, 2.0, 'rice', 'MOP')} -> {(0.0, 0.0, 2.0, 'rice', 'Urea'), (1.0, 0.0, 1.0, 'rice', 'MOP')} (3,1.0,0.33)\n",
      "{(1.0, 0.0, 1.0, 'rice', 'MOP')} -> {(1.0, 0.0, 2.0, 'rice', 'MOP'), (0.0, 0.0, 2.0, 'rice', 'Urea')} (3,1.0,0.33)\n",
      "{(0.0, 0.0, 2.0, 'rice', 'Urea')} -> {(1.0, 0.0, 2.0, 'rice', 'MOP'), (1.0, 0.0, 1.0, 'rice', 'MOP')} (3,1.0,0.33)\n",
      "{(1.0, 0.0, 2.0, 'rice', 'MOP'), (1.0, 0.0, 1.0, 'rice', 'MOP')} -> {(0.0, 0.0, 2.0, 'rice', 'Urea')} (3,1.0,0.33)\n",
      "{(1.0, 0.0, 2.0, 'rice', 'MOP'), (0.0, 0.0, 2.0, 'rice', 'Urea')} -> {(1.0, 0.0, 1.0, 'rice', 'MOP')} (3,1.0,0.33)\n",
      "{(0.0, 0.0, 2.0, 'rice', 'Urea'), (1.0, 0.0, 1.0, 'rice', 'MOP')} -> {(1.0, 0.0, 2.0, 'rice', 'MOP')} (3,1.0,0.33)\n",
      "{(1.0, 2.0, 0.0, 'Coconut', 'MOP')} -> {(2.0, 3.0, 0.0, 'Coconut', 'DAP'), (1.0, 0.0, 1.0, 'Coconut', 'MOP')} (3,1.0,0.33)\n",
      "{(1.0, 0.0, 1.0, 'Coconut', 'MOP')} -> {(1.0, 2.0, 0.0, 'Coconut', 'MOP'), (2.0, 3.0, 0.0, 'Coconut', 'DAP')} (3,1.0,0.33)\n",
      "{(1.0, 2.0, 0.0, 'Coconut', 'MOP'), (2.0, 3.0, 0.0, 'Coconut', 'DAP')} -> {(1.0, 0.0, 1.0, 'Coconut', 'MOP')} (3,1.0,0.33)\n",
      "{(2.0, 3.0, 0.0, 'Coconut', 'DAP'), (1.0, 0.0, 1.0, 'Coconut', 'MOP')} -> {(1.0, 2.0, 0.0, 'Coconut', 'MOP')} (3,1.0,0.33)\n",
      "{(2.0, 3.0, 1.0, 'Coconut', 'DAP')} -> {(2.0, 3.0, 0.0, 'Coconut', 'DAP'), (2.0, 2.0, 0.0, 'Coconut', 'Good NPK')} (3,1.0,0.33)\n",
      "{(2.0, 2.0, 0.0, 'Coconut', 'Good NPK')} -> {(2.0, 3.0, 0.0, 'Coconut', 'DAP'), (2.0, 3.0, 1.0, 'Coconut', 'DAP')} (3,1.0,0.33)\n",
      "{(2.0, 3.0, 0.0, 'Coconut', 'DAP'), (2.0, 3.0, 1.0, 'Coconut', 'DAP')} -> {(2.0, 2.0, 0.0, 'Coconut', 'Good NPK')} (3,1.0,0.33)\n",
      "{(2.0, 3.0, 0.0, 'Coconut', 'DAP'), (2.0, 2.0, 0.0, 'Coconut', 'Good NPK')} -> {(2.0, 3.0, 1.0, 'Coconut', 'DAP')} (3,1.0,0.33)\n",
      "{(2.0, 3.0, 1.0, 'Coconut', 'DAP')} -> {(2.0, 3.0, 0.0, 'Coconut', 'DAP'), (1.0, 3.0, 1.0, 'Coconut', 'DAP')} (3,1.0,0.33)\n",
      "{(1.0, 3.0, 1.0, 'Coconut', 'DAP')} -> {(2.0, 3.0, 0.0, 'Coconut', 'DAP'), (2.0, 3.0, 1.0, 'Coconut', 'DAP')} (3,1.0,0.33)\n",
      "{(2.0, 3.0, 0.0, 'Coconut', 'DAP'), (2.0, 3.0, 1.0, 'Coconut', 'DAP')} -> {(1.0, 3.0, 1.0, 'Coconut', 'DAP')} (3,1.0,0.33)\n",
      "{(2.0, 3.0, 0.0, 'Coconut', 'DAP'), (1.0, 3.0, 1.0, 'Coconut', 'DAP')} -> {(2.0, 3.0, 1.0, 'Coconut', 'DAP')} (3,1.0,0.33)\n",
      "{(0.0, 0.0, 3.0, 'rice', 'DAP')} -> {(1.0, 0.0, 2.0, 'rice', 'MOP'), (1.0, 0.0, 1.0, 'rice', 'DAP'), (1.0, 0.0, 2.0, 'rice', 'Urea')} (3,1.0,0.33)\n",
      "{(1.0, 0.0, 1.0, 'rice', 'DAP')} -> {(0.0, 0.0, 3.0, 'rice', 'DAP'), (1.0, 0.0, 2.0, 'rice', 'Urea'), (1.0, 0.0, 2.0, 'rice', 'MOP')} (3,1.0,0.33)\n",
      "{(1.0, 0.0, 2.0, 'rice', 'MOP')} -> {(0.0, 0.0, 3.0, 'rice', 'DAP'), (1.0, 0.0, 1.0, 'rice', 'DAP'), (1.0, 0.0, 2.0, 'rice', 'Urea')} (3,1.0,0.33)\n",
      "{(1.0, 0.0, 2.0, 'rice', 'Urea')} -> {(0.0, 0.0, 3.0, 'rice', 'DAP'), (1.0, 0.0, 1.0, 'rice', 'DAP'), (1.0, 0.0, 2.0, 'rice', 'MOP')} (3,1.0,0.33)\n",
      "{(0.0, 0.0, 3.0, 'rice', 'DAP'), (1.0, 0.0, 1.0, 'rice', 'DAP')} -> {(1.0, 0.0, 2.0, 'rice', 'MOP'), (1.0, 0.0, 2.0, 'rice', 'Urea')} (3,1.0,0.33)\n",
      "{(0.0, 0.0, 3.0, 'rice', 'DAP'), (1.0, 0.0, 2.0, 'rice', 'MOP')} -> {(1.0, 0.0, 1.0, 'rice', 'DAP'), (1.0, 0.0, 2.0, 'rice', 'Urea')} (3,1.0,0.33)\n",
      "{(0.0, 0.0, 3.0, 'rice', 'DAP'), (1.0, 0.0, 2.0, 'rice', 'Urea')} -> {(1.0, 0.0, 2.0, 'rice', 'MOP'), (1.0, 0.0, 1.0, 'rice', 'DAP')} (3,1.0,0.33)\n",
      "{(1.0, 0.0, 2.0, 'rice', 'MOP'), (1.0, 0.0, 1.0, 'rice', 'DAP')} -> {(0.0, 0.0, 3.0, 'rice', 'DAP'), (1.0, 0.0, 2.0, 'rice', 'Urea')} (3,1.0,0.33)\n",
      "{(1.0, 0.0, 1.0, 'rice', 'DAP'), (1.0, 0.0, 2.0, 'rice', 'Urea')} -> {(0.0, 0.0, 3.0, 'rice', 'DAP'), (1.0, 0.0, 2.0, 'rice', 'MOP')} (3,1.0,0.33)\n",
      "{(1.0, 0.0, 2.0, 'rice', 'MOP'), (1.0, 0.0, 2.0, 'rice', 'Urea')} -> {(0.0, 0.0, 3.0, 'rice', 'DAP'), (1.0, 0.0, 1.0, 'rice', 'DAP')} (3,1.0,0.33)\n",
      "{(0.0, 0.0, 3.0, 'rice', 'DAP'), (1.0, 0.0, 1.0, 'rice', 'DAP'), (1.0, 0.0, 2.0, 'rice', 'MOP')} -> {(1.0, 0.0, 2.0, 'rice', 'Urea')} (3,1.0,0.33)\n",
      "{(0.0, 0.0, 3.0, 'rice', 'DAP'), (1.0, 0.0, 1.0, 'rice', 'DAP'), (1.0, 0.0, 2.0, 'rice', 'Urea')} -> {(1.0, 0.0, 2.0, 'rice', 'MOP')} (3,1.0,0.33)\n",
      "{(0.0, 0.0, 3.0, 'rice', 'DAP'), (1.0, 0.0, 2.0, 'rice', 'Urea'), (1.0, 0.0, 2.0, 'rice', 'MOP')} -> {(1.0, 0.0, 1.0, 'rice', 'DAP')} (3,1.0,0.33)\n",
      "{(1.0, 0.0, 2.0, 'rice', 'MOP'), (1.0, 0.0, 1.0, 'rice', 'DAP'), (1.0, 0.0, 2.0, 'rice', 'Urea')} -> {(0.0, 0.0, 3.0, 'rice', 'DAP')} (3,1.0,0.33)\n",
      "{(2.0, 3.0, 1.0, 'Coconut', 'DAP')} -> {(2.0, 3.0, 0.0, 'Coconut', 'DAP'), (1.0, 2.0, 0.0, 'Coconut', 'Urea'), (1.0, 3.0, 1.0, 'Coconut', 'DAP')} (3,1.0,0.33)\n",
      "{(1.0, 3.0, 1.0, 'Coconut', 'DAP')} -> {(2.0, 3.0, 0.0, 'Coconut', 'DAP'), (2.0, 3.0, 1.0, 'Coconut', 'DAP'), (1.0, 2.0, 0.0, 'Coconut', 'Urea')} (3,1.0,0.33)\n",
      "{(2.0, 3.0, 0.0, 'Coconut', 'DAP'), (2.0, 3.0, 1.0, 'Coconut', 'DAP')} -> {(1.0, 2.0, 0.0, 'Coconut', 'Urea'), (1.0, 3.0, 1.0, 'Coconut', 'DAP')} (3,1.0,0.33)\n",
      "{(2.0, 3.0, 0.0, 'Coconut', 'DAP'), (1.0, 3.0, 1.0, 'Coconut', 'DAP')} -> {(2.0, 3.0, 1.0, 'Coconut', 'DAP'), (1.0, 2.0, 0.0, 'Coconut', 'Urea')} (3,1.0,0.33)\n",
      "{(2.0, 3.0, 1.0, 'Coconut', 'DAP'), (1.0, 2.0, 0.0, 'Coconut', 'Urea')} -> {(2.0, 3.0, 0.0, 'Coconut', 'DAP'), (1.0, 3.0, 1.0, 'Coconut', 'DAP')} (3,1.0,0.33)\n",
      "{(1.0, 2.0, 0.0, 'Coconut', 'Urea'), (1.0, 3.0, 1.0, 'Coconut', 'DAP')} -> {(2.0, 3.0, 0.0, 'Coconut', 'DAP'), (2.0, 3.0, 1.0, 'Coconut', 'DAP')} (3,1.0,0.33)\n",
      "{(2.0, 3.0, 0.0, 'Coconut', 'DAP'), (2.0, 3.0, 1.0, 'Coconut', 'DAP'), (1.0, 2.0, 0.0, 'Coconut', 'Urea')} -> {(1.0, 3.0, 1.0, 'Coconut', 'DAP')} (3,1.0,0.33)\n",
      "{(2.0, 3.0, 0.0, 'Coconut', 'DAP'), (1.0, 2.0, 0.0, 'Coconut', 'Urea'), (1.0, 3.0, 1.0, 'Coconut', 'DAP')} -> {(2.0, 3.0, 1.0, 'Coconut', 'DAP')} (3,1.0,0.33)\n",
      "{(0.0, 0.0, 3.0, 'rice', 'DAP')} -> {(1.0, 0.0, 2.0, 'rice', 'MOP'), (0.0, 0.0, 2.0, 'rice', 'Urea')} (3,1.0,0.33)\n",
      "{(1.0, 0.0, 2.0, 'rice', 'MOP')} -> {(0.0, 0.0, 3.0, 'rice', 'DAP'), (0.0, 0.0, 2.0, 'rice', 'Urea')} (3,1.0,0.33)\n",
      "{(0.0, 0.0, 2.0, 'rice', 'Urea')} -> {(0.0, 0.0, 3.0, 'rice', 'DAP'), (1.0, 0.0, 2.0, 'rice', 'MOP')} (3,1.0,0.33)\n",
      "{(0.0, 0.0, 3.0, 'rice', 'DAP'), (1.0, 0.0, 2.0, 'rice', 'MOP')} -> {(0.0, 0.0, 2.0, 'rice', 'Urea')} (3,1.0,0.33)\n",
      "{(0.0, 0.0, 3.0, 'rice', 'DAP'), (0.0, 0.0, 2.0, 'rice', 'Urea')} -> {(1.0, 0.0, 2.0, 'rice', 'MOP')} (3,1.0,0.33)\n",
      "{(1.0, 0.0, 2.0, 'rice', 'MOP'), (0.0, 0.0, 2.0, 'rice', 'Urea')} -> {(0.0, 0.0, 3.0, 'rice', 'DAP')} (3,1.0,0.33)\n",
      "{(0.0, 0.0, 3.0, 'rice', 'DAP')} -> {(0.0, 0.0, 2.0, 'rice', 'Urea'), (1.0, 0.0, 1.0, 'rice', 'MOP')} (3,1.0,0.33)\n",
      "{(1.0, 0.0, 1.0, 'rice', 'MOP')} -> {(0.0, 0.0, 3.0, 'rice', 'DAP'), (0.0, 0.0, 2.0, 'rice', 'Urea')} (3,1.0,0.33)\n",
      "{(0.0, 0.0, 2.0, 'rice', 'Urea')} -> {(0.0, 0.0, 3.0, 'rice', 'DAP'), (1.0, 0.0, 1.0, 'rice', 'MOP')} (3,1.0,0.33)\n",
      "{(0.0, 0.0, 3.0, 'rice', 'DAP'), (1.0, 0.0, 1.0, 'rice', 'MOP')} -> {(0.0, 0.0, 2.0, 'rice', 'Urea')} (3,1.0,0.33)\n",
      "{(0.0, 0.0, 3.0, 'rice', 'DAP'), (0.0, 0.0, 2.0, 'rice', 'Urea')} -> {(1.0, 0.0, 1.0, 'rice', 'MOP')} (3,1.0,0.33)\n",
      "{(0.0, 0.0, 2.0, 'rice', 'Urea'), (1.0, 0.0, 1.0, 'rice', 'MOP')} -> {(0.0, 0.0, 3.0, 'rice', 'DAP')} (3,1.0,0.33)\n",
      "{(2.0, 3.0, 1.0, 'Coconut', 'MOP')} -> {(2.0, 3.0, 0.0, 'Coconut', 'Urea'), (2.0, 3.0, 2.0, 'Coconut', 'MOP')} (3,1.0,0.33)\n",
      "{(2.0, 3.0, 2.0, 'Coconut', 'MOP')} -> {(2.0, 3.0, 1.0, 'Coconut', 'MOP'), (2.0, 3.0, 0.0, 'Coconut', 'Urea')} (3,1.0,0.33)\n",
      "{(2.0, 3.0, 1.0, 'Coconut', 'MOP'), (2.0, 3.0, 0.0, 'Coconut', 'Urea')} -> {(2.0, 3.0, 2.0, 'Coconut', 'MOP')} (3,1.0,0.33)\n",
      "{(2.0, 3.0, 0.0, 'Coconut', 'Urea'), (2.0, 3.0, 2.0, 'Coconut', 'MOP')} -> {(2.0, 3.0, 1.0, 'Coconut', 'MOP')} (3,1.0,0.33)\n",
      "{(2.0, 3.0, 1.0, 'Coconut', 'DAP')} -> {(1.0, 2.0, 0.0, 'Coconut', 'Urea'), (1.0, 3.0, 1.0, 'Coconut', 'DAP')} (3,1.0,0.33)\n",
      "{(1.0, 3.0, 1.0, 'Coconut', 'DAP')} -> {(2.0, 3.0, 1.0, 'Coconut', 'DAP'), (1.0, 2.0, 0.0, 'Coconut', 'Urea')} (3,1.0,0.33)\n",
      "{(2.0, 3.0, 1.0, 'Coconut', 'DAP'), (1.0, 2.0, 0.0, 'Coconut', 'Urea')} -> {(1.0, 3.0, 1.0, 'Coconut', 'DAP')} (3,1.0,0.33)\n",
      "{(1.0, 2.0, 0.0, 'Coconut', 'Urea'), (1.0, 3.0, 1.0, 'Coconut', 'DAP')} -> {(2.0, 3.0, 1.0, 'Coconut', 'DAP')} (3,1.0,0.33)\n",
      "{(0.0, 0.0, 3.0, 'rice', 'DAP')} -> {(1.0, 0.0, 2.0, 'rice', 'MOP'), (1.0, 0.0, 1.0, 'rice', 'MOP')} (3,1.0,0.33)\n",
      "{(1.0, 0.0, 2.0, 'rice', 'MOP')} -> {(0.0, 0.0, 3.0, 'rice', 'DAP'), (1.0, 0.0, 1.0, 'rice', 'MOP')} (3,1.0,0.33)\n",
      "{(1.0, 0.0, 1.0, 'rice', 'MOP')} -> {(0.0, 0.0, 3.0, 'rice', 'DAP'), (1.0, 0.0, 2.0, 'rice', 'MOP')} (3,1.0,0.33)\n",
      "{(0.0, 0.0, 3.0, 'rice', 'DAP'), (1.0, 0.0, 2.0, 'rice', 'MOP')} -> {(1.0, 0.0, 1.0, 'rice', 'MOP')} (3,1.0,0.33)\n",
      "{(0.0, 0.0, 3.0, 'rice', 'DAP'), (1.0, 0.0, 1.0, 'rice', 'MOP')} -> {(1.0, 0.0, 2.0, 'rice', 'MOP')} (3,1.0,0.33)\n",
      "{(1.0, 0.0, 2.0, 'rice', 'MOP'), (1.0, 0.0, 1.0, 'rice', 'MOP')} -> {(0.0, 0.0, 3.0, 'rice', 'DAP')} (3,1.0,0.33)\n",
      "{(2.0, 2.0, 0.0, 'Coconut', 'Urea')} -> {(1.0, 2.0, 0.0, 'Coconut', 'Urea'), (1.0, 0.0, 1.0, 'Coconut', 'Urea')} (3,1.0,0.33)\n",
      "{(1.0, 0.0, 1.0, 'Coconut', 'Urea')} -> {(1.0, 2.0, 0.0, 'Coconut', 'Urea'), (2.0, 2.0, 0.0, 'Coconut', 'Urea')} (3,1.0,0.33)\n",
      "{(1.0, 2.0, 0.0, 'Coconut', 'Urea'), (2.0, 2.0, 0.0, 'Coconut', 'Urea')} -> {(1.0, 0.0, 1.0, 'Coconut', 'Urea')} (3,1.0,0.33)\n",
      "{(1.0, 2.0, 0.0, 'Coconut', 'Urea'), (1.0, 0.0, 1.0, 'Coconut', 'Urea')} -> {(2.0, 2.0, 0.0, 'Coconut', 'Urea')} (3,1.0,0.33)\n",
      "{(1.0, 2.0, 0.0, 'Coconut', 'MOP')} -> {(1.0, 2.0, 0.0, 'Coconut', 'Urea'), (2.0, 2.0, 0.0, 'Coconut', 'Urea')} (3,1.0,0.33)\n",
      "{(2.0, 2.0, 0.0, 'Coconut', 'Urea')} -> {(1.0, 2.0, 0.0, 'Coconut', 'MOP'), (1.0, 2.0, 0.0, 'Coconut', 'Urea')} (3,1.0,0.33)\n",
      "{(1.0, 2.0, 0.0, 'Coconut', 'MOP'), (1.0, 2.0, 0.0, 'Coconut', 'Urea')} -> {(2.0, 2.0, 0.0, 'Coconut', 'Urea')} (3,1.0,0.33)\n",
      "{(1.0, 2.0, 0.0, 'Coconut', 'Urea'), (2.0, 2.0, 0.0, 'Coconut', 'Urea')} -> {(1.0, 2.0, 0.0, 'Coconut', 'MOP')} (3,1.0,0.33)\n",
      "{(2.0, 3.0, 1.0, 'Coconut', 'DAP')} -> {(1.0, 2.0, 0.0, 'Coconut', 'Urea'), (2.0, 2.0, 0.0, 'Coconut', 'Good NPK')} (3,1.0,0.33)\n",
      "{(2.0, 2.0, 0.0, 'Coconut', 'Good NPK')} -> {(2.0, 3.0, 1.0, 'Coconut', 'DAP'), (1.0, 2.0, 0.0, 'Coconut', 'Urea')} (3,1.0,0.33)\n",
      "{(2.0, 3.0, 1.0, 'Coconut', 'DAP'), (1.0, 2.0, 0.0, 'Coconut', 'Urea')} -> {(2.0, 2.0, 0.0, 'Coconut', 'Good NPK')} (3,1.0,0.33)\n",
      "{(1.0, 2.0, 0.0, 'Coconut', 'Urea'), (2.0, 2.0, 0.0, 'Coconut', 'Good NPK')} -> {(2.0, 3.0, 1.0, 'Coconut', 'DAP')} (3,1.0,0.33)\n",
      "{(1.0, 0.0, 1.0, 'Coconut', 'MOP')} -> {(2.0, 3.0, 0.0, 'Coconut', 'DAP'), (1.0, 2.0, 0.0, 'Coconut', 'Urea'), (1.0, 0.0, 1.0, 'Coconut', 'Urea')} (3,1.0,0.33)\n",
      "{(1.0, 0.0, 1.0, 'Coconut', 'Urea')} -> {(2.0, 3.0, 0.0, 'Coconut', 'DAP'), (1.0, 2.0, 0.0, 'Coconut', 'Urea'), (1.0, 0.0, 1.0, 'Coconut', 'MOP')} (3,1.0,0.33)\n",
      "{(2.0, 3.0, 0.0, 'Coconut', 'DAP'), (1.0, 0.0, 1.0, 'Coconut', 'MOP')} -> {(1.0, 2.0, 0.0, 'Coconut', 'Urea'), (1.0, 0.0, 1.0, 'Coconut', 'Urea')} (3,1.0,0.33)\n",
      "{(2.0, 3.0, 0.0, 'Coconut', 'DAP'), (1.0, 0.0, 1.0, 'Coconut', 'Urea')} -> {(1.0, 2.0, 0.0, 'Coconut', 'Urea'), (1.0, 0.0, 1.0, 'Coconut', 'MOP')} (3,1.0,0.33)\n",
      "{(1.0, 2.0, 0.0, 'Coconut', 'Urea'), (1.0, 0.0, 1.0, 'Coconut', 'MOP')} -> {(2.0, 3.0, 0.0, 'Coconut', 'DAP'), (1.0, 0.0, 1.0, 'Coconut', 'Urea')} (3,1.0,0.33)\n",
      "{(1.0, 2.0, 0.0, 'Coconut', 'Urea'), (1.0, 0.0, 1.0, 'Coconut', 'Urea')} -> {(2.0, 3.0, 0.0, 'Coconut', 'DAP'), (1.0, 0.0, 1.0, 'Coconut', 'MOP')} (3,1.0,0.33)\n",
      "{(2.0, 3.0, 0.0, 'Coconut', 'DAP'), (1.0, 2.0, 0.0, 'Coconut', 'Urea'), (1.0, 0.0, 1.0, 'Coconut', 'MOP')} -> {(1.0, 0.0, 1.0, 'Coconut', 'Urea')} (3,1.0,0.33)\n",
      "{(2.0, 3.0, 0.0, 'Coconut', 'DAP'), (1.0, 2.0, 0.0, 'Coconut', 'Urea'), (1.0, 0.0, 1.0, 'Coconut', 'Urea')} -> {(1.0, 0.0, 1.0, 'Coconut', 'MOP')} (3,1.0,0.33)\n",
      "{(2.0, 2.0, 0.0, 'Coconut', 'Urea')} -> {(2.0, 3.0, 0.0, 'Coconut', 'DAP'), (1.0, 2.0, 0.0, 'Coconut', 'Urea'), (1.0, 0.0, 1.0, 'Coconut', 'Urea')} (3,1.0,0.33)\n",
      "{(1.0, 0.0, 1.0, 'Coconut', 'Urea')} -> {(2.0, 3.0, 0.0, 'Coconut', 'DAP'), (1.0, 2.0, 0.0, 'Coconut', 'Urea'), (2.0, 2.0, 0.0, 'Coconut', 'Urea')} (3,1.0,0.33)\n",
      "{(2.0, 3.0, 0.0, 'Coconut', 'DAP'), (2.0, 2.0, 0.0, 'Coconut', 'Urea')} -> {(1.0, 2.0, 0.0, 'Coconut', 'Urea'), (1.0, 0.0, 1.0, 'Coconut', 'Urea')} (3,1.0,0.33)\n",
      "{(2.0, 3.0, 0.0, 'Coconut', 'DAP'), (1.0, 0.0, 1.0, 'Coconut', 'Urea')} -> {(1.0, 2.0, 0.0, 'Coconut', 'Urea'), (2.0, 2.0, 0.0, 'Coconut', 'Urea')} (3,1.0,0.33)\n",
      "{(1.0, 2.0, 0.0, 'Coconut', 'Urea'), (2.0, 2.0, 0.0, 'Coconut', 'Urea')} -> {(2.0, 3.0, 0.0, 'Coconut', 'DAP'), (1.0, 0.0, 1.0, 'Coconut', 'Urea')} (3,1.0,0.33)\n",
      "{(1.0, 2.0, 0.0, 'Coconut', 'Urea'), (1.0, 0.0, 1.0, 'Coconut', 'Urea')} -> {(2.0, 3.0, 0.0, 'Coconut', 'DAP'), (2.0, 2.0, 0.0, 'Coconut', 'Urea')} (3,1.0,0.33)\n",
      "{(2.0, 3.0, 0.0, 'Coconut', 'DAP'), (1.0, 2.0, 0.0, 'Coconut', 'Urea'), (2.0, 2.0, 0.0, 'Coconut', 'Urea')} -> {(1.0, 0.0, 1.0, 'Coconut', 'Urea')} (3,1.0,0.33)\n",
      "{(2.0, 3.0, 0.0, 'Coconut', 'DAP'), (1.0, 2.0, 0.0, 'Coconut', 'Urea'), (1.0, 0.0, 1.0, 'Coconut', 'Urea')} -> {(2.0, 2.0, 0.0, 'Coconut', 'Urea')} (3,1.0,0.33)\n",
      "{(2.0, 3.0, 1.0, 'Coconut', 'DAP')} -> {(2.0, 3.0, 0.0, 'Coconut', 'DAP'), (1.0, 2.0, 0.0, 'Coconut', 'Urea'), (1.0, 3.0, 1.0, 'Coconut', 'DAP')} (3,1.0,0.33)\n",
      "{(1.0, 3.0, 1.0, 'Coconut', 'DAP')} -> {(2.0, 3.0, 0.0, 'Coconut', 'DAP'), (2.0, 3.0, 1.0, 'Coconut', 'DAP'), (1.0, 2.0, 0.0, 'Coconut', 'Urea')} (3,1.0,0.33)\n",
      "{(2.0, 3.0, 0.0, 'Coconut', 'DAP'), (2.0, 3.0, 1.0, 'Coconut', 'DAP')} -> {(1.0, 2.0, 0.0, 'Coconut', 'Urea'), (1.0, 3.0, 1.0, 'Coconut', 'DAP')} (3,1.0,0.33)\n",
      "{(2.0, 3.0, 0.0, 'Coconut', 'DAP'), (1.0, 3.0, 1.0, 'Coconut', 'DAP')} -> {(2.0, 3.0, 1.0, 'Coconut', 'DAP'), (1.0, 2.0, 0.0, 'Coconut', 'Urea')} (3,1.0,0.33)\n",
      "{(2.0, 3.0, 1.0, 'Coconut', 'DAP'), (1.0, 2.0, 0.0, 'Coconut', 'Urea')} -> {(2.0, 3.0, 0.0, 'Coconut', 'DAP'), (1.0, 3.0, 1.0, 'Coconut', 'DAP')} (3,1.0,0.33)\n",
      "{(1.0, 2.0, 0.0, 'Coconut', 'Urea'), (1.0, 3.0, 1.0, 'Coconut', 'DAP')} -> {(2.0, 3.0, 0.0, 'Coconut', 'DAP'), (2.0, 3.0, 1.0, 'Coconut', 'DAP')} (3,1.0,0.33)\n",
      "{(2.0, 3.0, 0.0, 'Coconut', 'DAP'), (2.0, 3.0, 1.0, 'Coconut', 'DAP'), (1.0, 2.0, 0.0, 'Coconut', 'Urea')} -> {(1.0, 3.0, 1.0, 'Coconut', 'DAP')} (3,1.0,0.33)\n",
      "{(2.0, 3.0, 0.0, 'Coconut', 'DAP'), (1.0, 2.0, 0.0, 'Coconut', 'Urea'), (1.0, 3.0, 1.0, 'Coconut', 'DAP')} -> {(2.0, 3.0, 1.0, 'Coconut', 'DAP')} (3,1.0,0.33)\n",
      "{(2.0, 3.0, 1.0, 'Coconut', 'DAP')} -> {(2.0, 3.0, 0.0, 'Coconut', 'DAP'), (1.0, 2.0, 0.0, 'Coconut', 'Urea'), (2.0, 2.0, 0.0, 'Coconut', 'Good NPK')} (3,1.0,0.33)\n",
      "{(2.0, 2.0, 0.0, 'Coconut', 'Good NPK')} -> {(2.0, 3.0, 0.0, 'Coconut', 'DAP'), (2.0, 3.0, 1.0, 'Coconut', 'DAP'), (1.0, 2.0, 0.0, 'Coconut', 'Urea')} (3,1.0,0.33)\n",
      "{(2.0, 3.0, 0.0, 'Coconut', 'DAP'), (2.0, 3.0, 1.0, 'Coconut', 'DAP')} -> {(1.0, 2.0, 0.0, 'Coconut', 'Urea'), (2.0, 2.0, 0.0, 'Coconut', 'Good NPK')} (3,1.0,0.33)\n",
      "{(2.0, 3.0, 0.0, 'Coconut', 'DAP'), (2.0, 2.0, 0.0, 'Coconut', 'Good NPK')} -> {(2.0, 3.0, 1.0, 'Coconut', 'DAP'), (1.0, 2.0, 0.0, 'Coconut', 'Urea')} (3,1.0,0.33)\n",
      "{(2.0, 3.0, 1.0, 'Coconut', 'DAP'), (1.0, 2.0, 0.0, 'Coconut', 'Urea')} -> {(2.0, 3.0, 0.0, 'Coconut', 'DAP'), (2.0, 2.0, 0.0, 'Coconut', 'Good NPK')} (3,1.0,0.33)\n",
      "{(1.0, 2.0, 0.0, 'Coconut', 'Urea'), (2.0, 2.0, 0.0, 'Coconut', 'Good NPK')} -> {(2.0, 3.0, 0.0, 'Coconut', 'DAP'), (2.0, 3.0, 1.0, 'Coconut', 'DAP')} (3,1.0,0.33)\n",
      "{(2.0, 3.0, 0.0, 'Coconut', 'DAP'), (2.0, 3.0, 1.0, 'Coconut', 'DAP'), (1.0, 2.0, 0.0, 'Coconut', 'Urea')} -> {(2.0, 2.0, 0.0, 'Coconut', 'Good NPK')} (3,1.0,0.33)\n",
      "{(2.0, 3.0, 0.0, 'Coconut', 'DAP'), (1.0, 2.0, 0.0, 'Coconut', 'Urea'), (2.0, 2.0, 0.0, 'Coconut', 'Good NPK')} -> {(2.0, 3.0, 1.0, 'Coconut', 'DAP')} (3,1.0,0.33)\n"
     ]
    }
   ],
   "source": [
    "strong_association_rules=lift_metric(association_rules,dataitems)\n",
    "afficher_rules(strong_association_rules)"
   ]
  },
  {
   "cell_type": "markdown",
   "metadata": {},
   "source": [
    "Calcul Cosine"
   ]
  },
  {
   "cell_type": "code",
   "execution_count": 85,
   "metadata": {},
   "outputs": [],
   "source": [
    "import math\n",
    "def cosine_metric(association_rules, dataitems):\n",
    "    forte_rules=[]\n",
    "    for i in range(len(association_rules)):\n",
    "        rule=association_rules[i]\n",
    "        item1,item2,support,confiance=rule\n",
    "        P_A_B = 0\n",
    "        P_A = 0\n",
    "        P_B = 0\n",
    "        for index, row in dataitems.iterrows():\n",
    "            if all(i in row['Items'] for i in item1) and all(i in row['Items'] for i in item2):\n",
    "                P_A_B += 1\n",
    "            if all(i in row['Items'] for i in item1):\n",
    "                P_A += 1\n",
    "            if all(i in row['Items'] for i in item2):\n",
    "                P_B += 1\n",
    "\n",
    "        cosine=round((P_A_B / math.sqrt(P_A*P_B)),2) if P_A != 0 else 0\n",
    "        forte_rules.append((rule,cosine))\n",
    "\n",
    "    sorted(forte_rules, key=lambda x: x[1], reverse=True) # Sort forte_rules\n",
    "    max_cosine=max(forte_rules, key=lambda x: x[1])[1]\n",
    "    forte_rules=[(rule,cosine) for rule,cosine in forte_rules if cosine==max_cosine]\n",
    "    return forte_rules\n",
    "    \n"
   ]
  },
  {
   "cell_type": "code",
   "execution_count": 86,
   "metadata": {},
   "outputs": [
    {
     "name": "stdout",
     "output_type": "stream",
     "text": [
      "{(1.0, 0.0, 2.0, 'rice', 'DAP')} -> {(0.0, 0.0, 3.0, 'rice', 'DAP')} (3,1.0,1.0)\n",
      "{(0.0, 0.0, 3.0, 'rice', 'DAP')} -> {(1.0, 0.0, 2.0, 'rice', 'DAP')} (3,1.0,1.0)\n",
      "{(1.0, 2.0, 0.0, 'Coconut', 'MOP')} -> {(1.0, 0.0, 1.0, 'Coconut', 'Urea')} (3,1.0,1.0)\n",
      "{(1.0, 0.0, 1.0, 'Coconut', 'Urea')} -> {(1.0, 2.0, 0.0, 'Coconut', 'MOP')} (3,1.0,1.0)\n",
      "{(1.0, 0.0, 1.0, 'rice', 'DAP')} -> {(1.0, 0.0, 1.0, 'rice', 'MOP')} (3,1.0,1.0)\n",
      "{(1.0, 0.0, 1.0, 'rice', 'MOP')} -> {(1.0, 0.0, 1.0, 'rice', 'DAP')} (3,1.0,1.0)\n",
      "{(2.0, 3.0, 0.0, 'Coconut', 'DAP')} -> {(2.0, 3.0, 0.0, 'Coconut', 'Urea')} (4,1.0,1.0)\n",
      "{(2.0, 3.0, 0.0, 'Coconut', 'Urea')} -> {(2.0, 3.0, 0.0, 'Coconut', 'DAP')} (4,1.0,1.0)\n",
      "{(1.0, 0.0, 1.0, 'rice', 'Good NPK')} -> {(1.0, 0.0, 1.0, 'rice', 'MOP')} (3,1.0,1.0)\n",
      "{(1.0, 0.0, 1.0, 'rice', 'MOP')} -> {(1.0, 0.0, 1.0, 'rice', 'Good NPK')} (3,1.0,1.0)\n",
      "{(2.0, 3.0, 0.0, 'Coconut', 'MOP')} -> {(1.0, 3.0, 1.0, 'Coconut', 'DAP')} (3,1.0,1.0)\n",
      "{(1.0, 3.0, 1.0, 'Coconut', 'DAP')} -> {(2.0, 3.0, 0.0, 'Coconut', 'MOP')} (3,1.0,1.0)\n",
      "{(1.0, 2.0, 0.0, 'Coconut', 'Urea')} -> {(2.0, 3.0, 0.0, 'Coconut', 'Urea')} (4,1.0,1.0)\n",
      "{(2.0, 3.0, 0.0, 'Coconut', 'Urea')} -> {(1.0, 2.0, 0.0, 'Coconut', 'Urea')} (4,1.0,1.0)\n",
      "{(2.0, 3.0, 1.0, 'Coconut', 'Urea')} -> {(1.0, 3.0, 1.0, 'Coconut', 'DAP')} (3,1.0,1.0)\n",
      "{(1.0, 3.0, 1.0, 'Coconut', 'DAP')} -> {(2.0, 3.0, 1.0, 'Coconut', 'Urea')} (3,1.0,1.0)\n",
      "{(1.0, 0.0, 1.0, 'rice', 'Good NPK')} -> {(1.0, 0.0, 1.0, 'rice', 'DAP')} (3,1.0,1.0)\n",
      "{(1.0, 0.0, 1.0, 'rice', 'DAP')} -> {(1.0, 0.0, 1.0, 'rice', 'Good NPK')} (3,1.0,1.0)\n",
      "{(0.0, 0.0, 2.0, 'rice', 'Urea')} -> {(1.0, 0.0, 2.0, 'rice', 'Urea')} (3,1.0,1.0)\n",
      "{(1.0, 0.0, 2.0, 'rice', 'Urea')} -> {(0.0, 0.0, 2.0, 'rice', 'Urea')} (3,1.0,1.0)\n",
      "{(1.0, 0.0, 2.0, 'rice', 'MOP')} -> {(1.0, 0.0, 2.0, 'rice', 'Urea')} (3,1.0,1.0)\n",
      "{(1.0, 0.0, 2.0, 'rice', 'Urea')} -> {(1.0, 0.0, 2.0, 'rice', 'MOP')} (3,1.0,1.0)\n",
      "{(0.0, 0.0, 3.0, 'rice', 'DAP')} -> {(1.0, 0.0, 1.0, 'rice', 'DAP')} (3,1.0,1.0)\n",
      "{(1.0, 0.0, 1.0, 'rice', 'DAP')} -> {(0.0, 0.0, 3.0, 'rice', 'DAP')} (3,1.0,1.0)\n",
      "{(1.0, 0.0, 2.0, 'rice', 'MOP')} -> {(0.0, 0.0, 2.0, 'rice', 'Urea')} (3,1.0,1.0)\n",
      "{(0.0, 0.0, 2.0, 'rice', 'Urea')} -> {(1.0, 0.0, 2.0, 'rice', 'MOP')} (3,1.0,1.0)\n",
      "{(1.0, 0.0, 2.0, 'rice', 'DAP')} -> {(1.0, 0.0, 1.0, 'rice', 'MOP')} (3,1.0,1.0)\n",
      "{(1.0, 0.0, 1.0, 'rice', 'MOP')} -> {(1.0, 0.0, 2.0, 'rice', 'DAP')} (3,1.0,1.0)\n",
      "{(1.0, 2.0, 0.0, 'Coconut', 'MOP')} -> {(1.0, 0.0, 1.0, 'Coconut', 'MOP')} (3,1.0,1.0)\n",
      "{(1.0, 0.0, 1.0, 'Coconut', 'MOP')} -> {(1.0, 2.0, 0.0, 'Coconut', 'MOP')} (3,1.0,1.0)\n",
      "{(1.0, 0.0, 3.0, 'rice', 'Urea')} -> {(0.0, 0.0, 3.0, 'rice', 'DAP')} (3,1.0,1.0)\n",
      "{(0.0, 0.0, 3.0, 'rice', 'DAP')} -> {(1.0, 0.0, 3.0, 'rice', 'Urea')} (3,1.0,1.0)\n",
      "{(1.0, 0.0, 2.0, 'rice', 'DAP')} -> {(1.0, 0.0, 1.0, 'rice', 'DAP')} (3,1.0,1.0)\n",
      "{(1.0, 0.0, 1.0, 'rice', 'DAP')} -> {(1.0, 0.0, 2.0, 'rice', 'DAP')} (3,1.0,1.0)\n",
      "{(0.0, 0.0, 3.0, 'rice', 'DAP')} -> {(1.0, 0.0, 1.0, 'rice', 'Good NPK')} (3,1.0,1.0)\n",
      "{(1.0, 0.0, 1.0, 'rice', 'Good NPK')} -> {(0.0, 0.0, 3.0, 'rice', 'DAP')} (3,1.0,1.0)\n",
      "{(2.0, 3.0, 1.0, 'Coconut', 'DAP')} -> {(2.0, 2.0, 0.0, 'Coconut', 'Good NPK')} (3,1.0,1.0)\n",
      "{(2.0, 2.0, 0.0, 'Coconut', 'Good NPK')} -> {(2.0, 3.0, 1.0, 'Coconut', 'DAP')} (3,1.0,1.0)\n",
      "{(1.0, 0.0, 1.0, 'rice', 'DAP')} -> {(1.0, 0.0, 2.0, 'rice', 'Urea')} (3,1.0,1.0)\n",
      "{(1.0, 0.0, 2.0, 'rice', 'Urea')} -> {(1.0, 0.0, 1.0, 'rice', 'DAP')} (3,1.0,1.0)\n",
      "{(1.0, 0.0, 1.0, 'rice', 'DAP')} -> {(0.0, 0.0, 2.0, 'rice', 'Urea')} (3,1.0,1.0)\n",
      "{(0.0, 0.0, 2.0, 'rice', 'Urea')} -> {(1.0, 0.0, 1.0, 'rice', 'DAP')} (3,1.0,1.0)\n",
      "{(1.0, 0.0, 1.0, 'rice', 'Good NPK')} -> {(1.0, 0.0, 2.0, 'rice', 'Urea')} (3,1.0,1.0)\n",
      "{(1.0, 0.0, 2.0, 'rice', 'Urea')} -> {(1.0, 0.0, 1.0, 'rice', 'Good NPK')} (3,1.0,1.0)\n",
      "{(1.0, 0.0, 1.0, 'rice', 'Good NPK')} -> {(0.0, 0.0, 2.0, 'rice', 'Urea')} (3,1.0,1.0)\n",
      "{(0.0, 0.0, 2.0, 'rice', 'Urea')} -> {(1.0, 0.0, 1.0, 'rice', 'Good NPK')} (3,1.0,1.0)\n",
      "{(0.0, 0.0, 3.0, 'rice', 'DAP')} -> {(1.0, 0.0, 2.0, 'rice', 'Urea')} (3,1.0,1.0)\n",
      "{(1.0, 0.0, 2.0, 'rice', 'Urea')} -> {(0.0, 0.0, 3.0, 'rice', 'DAP')} (3,1.0,1.0)\n",
      "{(1.0, 0.0, 1.0, 'Coconut', 'MOP')} -> {(2.0, 2.0, 0.0, 'Coconut', 'Urea')} (3,1.0,1.0)\n",
      "{(2.0, 2.0, 0.0, 'Coconut', 'Urea')} -> {(1.0, 0.0, 1.0, 'Coconut', 'MOP')} (3,1.0,1.0)\n",
      "{(1.0, 0.0, 2.0, 'rice', 'DAP')} -> {(1.0, 0.0, 1.0, 'rice', 'Good NPK')} (3,1.0,1.0)\n",
      "{(1.0, 0.0, 1.0, 'rice', 'Good NPK')} -> {(1.0, 0.0, 2.0, 'rice', 'DAP')} (3,1.0,1.0)\n",
      "{(0.0, 0.0, 3.0, 'rice', 'DAP')} -> {(0.0, 0.0, 2.0, 'rice', 'Urea')} (3,1.0,1.0)\n",
      "{(0.0, 0.0, 2.0, 'rice', 'Urea')} -> {(0.0, 0.0, 3.0, 'rice', 'DAP')} (3,1.0,1.0)\n",
      "{(2.0, 3.0, 1.0, 'Coconut', 'MOP')} -> {(2.0, 3.0, 2.0, 'Coconut', 'MOP')} (3,1.0,1.0)\n",
      "{(2.0, 3.0, 2.0, 'Coconut', 'MOP')} -> {(2.0, 3.0, 1.0, 'Coconut', 'MOP')} (3,1.0,1.0)\n",
      "{(2.0, 3.0, 0.0, 'Coconut', 'MOP')} -> {(2.0, 3.0, 1.0, 'Coconut', 'Urea')} (3,1.0,1.0)\n",
      "{(2.0, 3.0, 1.0, 'Coconut', 'Urea')} -> {(2.0, 3.0, 0.0, 'Coconut', 'MOP')} (3,1.0,1.0)\n",
      "{(1.0, 0.0, 3.0, 'rice', 'Urea')} -> {(1.0, 0.0, 1.0, 'rice', 'MOP')} (3,1.0,1.0)\n",
      "{(1.0, 0.0, 1.0, 'rice', 'MOP')} -> {(1.0, 0.0, 3.0, 'rice', 'Urea')} (3,1.0,1.0)\n",
      "{(1.0, 0.0, 2.0, 'rice', 'DAP')} -> {(1.0, 0.0, 2.0, 'rice', 'Urea')} (3,1.0,1.0)\n",
      "{(1.0, 0.0, 2.0, 'rice', 'Urea')} -> {(1.0, 0.0, 2.0, 'rice', 'DAP')} (3,1.0,1.0)\n",
      "{(1.0, 0.0, 2.0, 'rice', 'DAP')} -> {(0.0, 0.0, 2.0, 'rice', 'Urea')} (3,1.0,1.0)\n",
      "{(0.0, 0.0, 2.0, 'rice', 'Urea')} -> {(1.0, 0.0, 2.0, 'rice', 'DAP')} (3,1.0,1.0)\n",
      "{(1.0, 0.0, 1.0, 'rice', 'DAP')} -> {(1.0, 0.0, 2.0, 'rice', 'MOP')} (3,1.0,1.0)\n",
      "{(1.0, 0.0, 2.0, 'rice', 'MOP')} -> {(1.0, 0.0, 1.0, 'rice', 'DAP')} (3,1.0,1.0)\n",
      "{(2.0, 3.0, 1.0, 'Coconut', 'DAP')} -> {(1.0, 3.0, 1.0, 'Coconut', 'DAP')} (3,1.0,1.0)\n",
      "{(1.0, 3.0, 1.0, 'Coconut', 'DAP')} -> {(2.0, 3.0, 1.0, 'Coconut', 'DAP')} (3,1.0,1.0)\n",
      "{(1.0, 0.0, 3.0, 'rice', 'Urea')} -> {(1.0, 0.0, 1.0, 'rice', 'DAP')} (3,1.0,1.0)\n",
      "{(1.0, 0.0, 1.0, 'rice', 'DAP')} -> {(1.0, 0.0, 3.0, 'rice', 'Urea')} (3,1.0,1.0)\n",
      "{(1.0, 0.0, 1.0, 'rice', 'Good NPK')} -> {(1.0, 0.0, 2.0, 'rice', 'MOP')} (3,1.0,1.0)\n",
      "{(1.0, 0.0, 2.0, 'rice', 'MOP')} -> {(1.0, 0.0, 1.0, 'rice', 'Good NPK')} (3,1.0,1.0)\n",
      "{(0.0, 0.0, 3.0, 'rice', 'DAP')} -> {(1.0, 0.0, 2.0, 'rice', 'MOP')} (3,1.0,1.0)\n",
      "{(1.0, 0.0, 2.0, 'rice', 'MOP')} -> {(0.0, 0.0, 3.0, 'rice', 'DAP')} (3,1.0,1.0)\n",
      "{(1.0, 3.0, 1.0, 'Coconut', 'DAP')} -> {(2.0, 2.0, 0.0, 'Coconut', 'Good NPK')} (3,1.0,1.0)\n",
      "{(2.0, 2.0, 0.0, 'Coconut', 'Good NPK')} -> {(1.0, 3.0, 1.0, 'Coconut', 'DAP')} (3,1.0,1.0)\n",
      "{(2.0, 3.0, 0.0, 'Coconut', 'MOP')} -> {(2.0, 2.0, 0.0, 'Coconut', 'Good NPK')} (3,1.0,1.0)\n",
      "{(2.0, 2.0, 0.0, 'Coconut', 'Good NPK')} -> {(2.0, 3.0, 0.0, 'Coconut', 'MOP')} (3,1.0,1.0)\n",
      "{(1.0, 0.0, 3.0, 'rice', 'Urea')} -> {(1.0, 0.0, 1.0, 'rice', 'Good NPK')} (3,1.0,1.0)\n",
      "{(1.0, 0.0, 1.0, 'rice', 'Good NPK')} -> {(1.0, 0.0, 3.0, 'rice', 'Urea')} (3,1.0,1.0)\n",
      "{(2.0, 3.0, 1.0, 'Coconut', 'Urea')} -> {(2.0, 2.0, 0.0, 'Coconut', 'Good NPK')} (3,1.0,1.0)\n",
      "{(2.0, 2.0, 0.0, 'Coconut', 'Good NPK')} -> {(2.0, 3.0, 1.0, 'Coconut', 'Urea')} (3,1.0,1.0)\n",
      "{(2.0, 2.0, 0.0, 'Coconut', 'Urea')} -> {(1.0, 0.0, 1.0, 'Coconut', 'Urea')} (3,1.0,1.0)\n",
      "{(1.0, 0.0, 1.0, 'Coconut', 'Urea')} -> {(2.0, 2.0, 0.0, 'Coconut', 'Urea')} (3,1.0,1.0)\n",
      "{(1.0, 0.0, 2.0, 'rice', 'DAP')} -> {(1.0, 0.0, 2.0, 'rice', 'MOP')} (3,1.0,1.0)\n",
      "{(1.0, 0.0, 2.0, 'rice', 'MOP')} -> {(1.0, 0.0, 2.0, 'rice', 'DAP')} (3,1.0,1.0)\n",
      "{(1.0, 0.0, 3.0, 'rice', 'Urea')} -> {(1.0, 0.0, 2.0, 'rice', 'Urea')} (3,1.0,1.0)\n",
      "{(1.0, 0.0, 2.0, 'rice', 'Urea')} -> {(1.0, 0.0, 3.0, 'rice', 'Urea')} (3,1.0,1.0)\n",
      "{(1.0, 0.0, 3.0, 'rice', 'Urea')} -> {(0.0, 0.0, 2.0, 'rice', 'Urea')} (3,1.0,1.0)\n",
      "{(0.0, 0.0, 2.0, 'rice', 'Urea')} -> {(1.0, 0.0, 3.0, 'rice', 'Urea')} (3,1.0,1.0)\n",
      "{(1.0, 2.0, 0.0, 'Coconut', 'MOP')} -> {(2.0, 2.0, 0.0, 'Coconut', 'Urea')} (3,1.0,1.0)\n",
      "{(2.0, 2.0, 0.0, 'Coconut', 'Urea')} -> {(1.0, 2.0, 0.0, 'Coconut', 'MOP')} (3,1.0,1.0)\n",
      "{(0.0, 0.0, 3.0, 'rice', 'DAP')} -> {(1.0, 0.0, 1.0, 'rice', 'MOP')} (3,1.0,1.0)\n",
      "{(1.0, 0.0, 1.0, 'rice', 'MOP')} -> {(0.0, 0.0, 3.0, 'rice', 'DAP')} (3,1.0,1.0)\n",
      "{(2.0, 3.0, 0.0, 'Coconut', 'DAP')} -> {(1.0, 2.0, 0.0, 'Coconut', 'Urea')} (4,1.0,1.0)\n",
      "{(1.0, 2.0, 0.0, 'Coconut', 'Urea')} -> {(2.0, 3.0, 0.0, 'Coconut', 'DAP')} (4,1.0,1.0)\n",
      "{(2.0, 3.0, 1.0, 'Coconut', 'DAP')} -> {(2.0, 3.0, 1.0, 'Coconut', 'Urea')} (3,1.0,1.0)\n",
      "{(2.0, 3.0, 1.0, 'Coconut', 'Urea')} -> {(2.0, 3.0, 1.0, 'Coconut', 'DAP')} (3,1.0,1.0)\n",
      "{(1.0, 0.0, 3.0, 'rice', 'Urea')} -> {(1.0, 0.0, 2.0, 'rice', 'MOP')} (3,1.0,1.0)\n",
      "{(1.0, 0.0, 2.0, 'rice', 'MOP')} -> {(1.0, 0.0, 3.0, 'rice', 'Urea')} (3,1.0,1.0)\n",
      "{(1.0, 0.0, 1.0, 'Coconut', 'MOP')} -> {(1.0, 0.0, 1.0, 'Coconut', 'Urea')} (3,1.0,1.0)\n",
      "{(1.0, 0.0, 1.0, 'Coconut', 'Urea')} -> {(1.0, 0.0, 1.0, 'Coconut', 'MOP')} (3,1.0,1.0)\n",
      "{(1.0, 0.0, 2.0, 'rice', 'MOP')} -> {(1.0, 0.0, 1.0, 'rice', 'MOP')} (3,1.0,1.0)\n",
      "{(1.0, 0.0, 1.0, 'rice', 'MOP')} -> {(1.0, 0.0, 2.0, 'rice', 'MOP')} (3,1.0,1.0)\n",
      "{(1.0, 0.0, 1.0, 'rice', 'MOP')} -> {(1.0, 0.0, 2.0, 'rice', 'Urea')} (3,1.0,1.0)\n",
      "{(1.0, 0.0, 2.0, 'rice', 'Urea')} -> {(1.0, 0.0, 1.0, 'rice', 'MOP')} (3,1.0,1.0)\n",
      "{(1.0, 0.0, 1.0, 'rice', 'MOP')} -> {(0.0, 0.0, 2.0, 'rice', 'Urea')} (3,1.0,1.0)\n",
      "{(0.0, 0.0, 2.0, 'rice', 'Urea')} -> {(1.0, 0.0, 1.0, 'rice', 'MOP')} (3,1.0,1.0)\n",
      "{(2.0, 3.0, 0.0, 'Coconut', 'MOP')} -> {(2.0, 3.0, 1.0, 'Coconut', 'DAP')} (3,1.0,1.0)\n",
      "{(2.0, 3.0, 1.0, 'Coconut', 'DAP')} -> {(2.0, 3.0, 0.0, 'Coconut', 'MOP')} (3,1.0,1.0)\n",
      "{(1.0, 0.0, 3.0, 'rice', 'Urea')} -> {(1.0, 0.0, 2.0, 'rice', 'DAP')} (3,1.0,1.0)\n",
      "{(1.0, 0.0, 2.0, 'rice', 'DAP')} -> {(1.0, 0.0, 3.0, 'rice', 'Urea')} (3,1.0,1.0)\n",
      "{(1.0, 2.0, 0.0, 'Coconut', 'MOP')} -> {(1.0, 2.0, 0.0, 'Coconut', 'Urea'), (1.0, 0.0, 1.0, 'Coconut', 'MOP'), (1.0, 0.0, 1.0, 'Coconut', 'Urea')} (3,1.0,1.0)\n",
      "{(1.0, 0.0, 1.0, 'Coconut', 'MOP')} -> {(1.0, 2.0, 0.0, 'Coconut', 'MOP'), (1.0, 2.0, 0.0, 'Coconut', 'Urea'), (1.0, 0.0, 1.0, 'Coconut', 'Urea')} (3,1.0,1.0)\n",
      "{(1.0, 0.0, 1.0, 'Coconut', 'Urea')} -> {(1.0, 2.0, 0.0, 'Coconut', 'MOP'), (1.0, 2.0, 0.0, 'Coconut', 'Urea'), (1.0, 0.0, 1.0, 'Coconut', 'MOP')} (3,1.0,1.0)\n",
      "{(1.0, 2.0, 0.0, 'Coconut', 'MOP'), (1.0, 2.0, 0.0, 'Coconut', 'Urea')} -> {(1.0, 0.0, 1.0, 'Coconut', 'MOP'), (1.0, 0.0, 1.0, 'Coconut', 'Urea')} (3,1.0,1.0)\n",
      "{(1.0, 2.0, 0.0, 'Coconut', 'MOP'), (1.0, 0.0, 1.0, 'Coconut', 'MOP')} -> {(1.0, 2.0, 0.0, 'Coconut', 'Urea'), (1.0, 0.0, 1.0, 'Coconut', 'Urea')} (3,1.0,1.0)\n",
      "{(1.0, 2.0, 0.0, 'Coconut', 'MOP'), (1.0, 0.0, 1.0, 'Coconut', 'Urea')} -> {(1.0, 2.0, 0.0, 'Coconut', 'Urea'), (1.0, 0.0, 1.0, 'Coconut', 'MOP')} (3,1.0,1.0)\n",
      "{(1.0, 2.0, 0.0, 'Coconut', 'Urea'), (1.0, 0.0, 1.0, 'Coconut', 'MOP')} -> {(1.0, 2.0, 0.0, 'Coconut', 'MOP'), (1.0, 0.0, 1.0, 'Coconut', 'Urea')} (3,1.0,1.0)\n",
      "{(1.0, 2.0, 0.0, 'Coconut', 'Urea'), (1.0, 0.0, 1.0, 'Coconut', 'Urea')} -> {(1.0, 2.0, 0.0, 'Coconut', 'MOP'), (1.0, 0.0, 1.0, 'Coconut', 'MOP')} (3,1.0,1.0)\n",
      "{(1.0, 0.0, 1.0, 'Coconut', 'MOP'), (1.0, 0.0, 1.0, 'Coconut', 'Urea')} -> {(1.0, 2.0, 0.0, 'Coconut', 'MOP'), (1.0, 2.0, 0.0, 'Coconut', 'Urea')} (3,1.0,1.0)\n",
      "{(1.0, 2.0, 0.0, 'Coconut', 'MOP'), (1.0, 2.0, 0.0, 'Coconut', 'Urea'), (1.0, 0.0, 1.0, 'Coconut', 'MOP')} -> {(1.0, 0.0, 1.0, 'Coconut', 'Urea')} (3,1.0,1.0)\n",
      "{(1.0, 2.0, 0.0, 'Coconut', 'MOP'), (1.0, 2.0, 0.0, 'Coconut', 'Urea'), (1.0, 0.0, 1.0, 'Coconut', 'Urea')} -> {(1.0, 0.0, 1.0, 'Coconut', 'MOP')} (3,1.0,1.0)\n",
      "{(1.0, 2.0, 0.0, 'Coconut', 'Urea'), (1.0, 0.0, 1.0, 'Coconut', 'MOP'), (1.0, 0.0, 1.0, 'Coconut', 'Urea')} -> {(1.0, 2.0, 0.0, 'Coconut', 'MOP')} (3,1.0,1.0)\n",
      "{(1.0, 2.0, 0.0, 'Coconut', 'MOP')} -> {(2.0, 3.0, 0.0, 'Coconut', 'DAP'), (1.0, 0.0, 1.0, 'Coconut', 'Urea')} (3,1.0,1.0)\n",
      "{(1.0, 0.0, 1.0, 'Coconut', 'Urea')} -> {(1.0, 2.0, 0.0, 'Coconut', 'MOP'), (2.0, 3.0, 0.0, 'Coconut', 'DAP')} (3,1.0,1.0)\n",
      "{(1.0, 2.0, 0.0, 'Coconut', 'MOP'), (2.0, 3.0, 0.0, 'Coconut', 'DAP')} -> {(1.0, 0.0, 1.0, 'Coconut', 'Urea')} (3,1.0,1.0)\n",
      "{(2.0, 3.0, 0.0, 'Coconut', 'DAP'), (1.0, 0.0, 1.0, 'Coconut', 'Urea')} -> {(1.0, 2.0, 0.0, 'Coconut', 'MOP')} (3,1.0,1.0)\n",
      "{(1.0, 2.0, 0.0, 'Coconut', 'MOP')} -> {(1.0, 0.0, 1.0, 'Coconut', 'MOP'), (1.0, 0.0, 1.0, 'Coconut', 'Urea')} (3,1.0,1.0)\n",
      "{(1.0, 0.0, 1.0, 'Coconut', 'MOP')} -> {(1.0, 2.0, 0.0, 'Coconut', 'MOP'), (1.0, 0.0, 1.0, 'Coconut', 'Urea')} (3,1.0,1.0)\n",
      "{(1.0, 0.0, 1.0, 'Coconut', 'Urea')} -> {(1.0, 2.0, 0.0, 'Coconut', 'MOP'), (1.0, 0.0, 1.0, 'Coconut', 'MOP')} (3,1.0,1.0)\n",
      "{(1.0, 2.0, 0.0, 'Coconut', 'MOP'), (1.0, 0.0, 1.0, 'Coconut', 'MOP')} -> {(1.0, 0.0, 1.0, 'Coconut', 'Urea')} (3,1.0,1.0)\n",
      "{(1.0, 2.0, 0.0, 'Coconut', 'MOP'), (1.0, 0.0, 1.0, 'Coconut', 'Urea')} -> {(1.0, 0.0, 1.0, 'Coconut', 'MOP')} (3,1.0,1.0)\n",
      "{(1.0, 0.0, 1.0, 'Coconut', 'MOP'), (1.0, 0.0, 1.0, 'Coconut', 'Urea')} -> {(1.0, 2.0, 0.0, 'Coconut', 'MOP')} (3,1.0,1.0)\n",
      "{(1.0, 2.0, 0.0, 'Coconut', 'MOP')} -> {(2.0, 3.0, 0.0, 'Coconut', 'DAP'), (1.0, 0.0, 1.0, 'Coconut', 'MOP'), (1.0, 0.0, 1.0, 'Coconut', 'Urea')} (3,1.0,1.0)\n",
      "{(1.0, 0.0, 1.0, 'Coconut', 'MOP')} -> {(1.0, 2.0, 0.0, 'Coconut', 'MOP'), (2.0, 3.0, 0.0, 'Coconut', 'DAP'), (1.0, 0.0, 1.0, 'Coconut', 'Urea')} (3,1.0,1.0)\n",
      "{(1.0, 0.0, 1.0, 'Coconut', 'Urea')} -> {(1.0, 2.0, 0.0, 'Coconut', 'MOP'), (2.0, 3.0, 0.0, 'Coconut', 'DAP'), (1.0, 0.0, 1.0, 'Coconut', 'MOP')} (3,1.0,1.0)\n",
      "{(1.0, 2.0, 0.0, 'Coconut', 'MOP'), (2.0, 3.0, 0.0, 'Coconut', 'DAP')} -> {(1.0, 0.0, 1.0, 'Coconut', 'MOP'), (1.0, 0.0, 1.0, 'Coconut', 'Urea')} (3,1.0,1.0)\n",
      "{(1.0, 2.0, 0.0, 'Coconut', 'MOP'), (1.0, 0.0, 1.0, 'Coconut', 'MOP')} -> {(2.0, 3.0, 0.0, 'Coconut', 'DAP'), (1.0, 0.0, 1.0, 'Coconut', 'Urea')} (3,1.0,1.0)\n",
      "{(1.0, 2.0, 0.0, 'Coconut', 'MOP'), (1.0, 0.0, 1.0, 'Coconut', 'Urea')} -> {(2.0, 3.0, 0.0, 'Coconut', 'DAP'), (1.0, 0.0, 1.0, 'Coconut', 'MOP')} (3,1.0,1.0)\n",
      "{(2.0, 3.0, 0.0, 'Coconut', 'DAP'), (1.0, 0.0, 1.0, 'Coconut', 'MOP')} -> {(1.0, 2.0, 0.0, 'Coconut', 'MOP'), (1.0, 0.0, 1.0, 'Coconut', 'Urea')} (3,1.0,1.0)\n",
      "{(2.0, 3.0, 0.0, 'Coconut', 'DAP'), (1.0, 0.0, 1.0, 'Coconut', 'Urea')} -> {(1.0, 2.0, 0.0, 'Coconut', 'MOP'), (1.0, 0.0, 1.0, 'Coconut', 'MOP')} (3,1.0,1.0)\n",
      "{(1.0, 0.0, 1.0, 'Coconut', 'MOP'), (1.0, 0.0, 1.0, 'Coconut', 'Urea')} -> {(1.0, 2.0, 0.0, 'Coconut', 'MOP'), (2.0, 3.0, 0.0, 'Coconut', 'DAP')} (3,1.0,1.0)\n",
      "{(1.0, 2.0, 0.0, 'Coconut', 'MOP'), (2.0, 3.0, 0.0, 'Coconut', 'DAP'), (1.0, 0.0, 1.0, 'Coconut', 'MOP')} -> {(1.0, 0.0, 1.0, 'Coconut', 'Urea')} (3,1.0,1.0)\n",
      "{(1.0, 2.0, 0.0, 'Coconut', 'MOP'), (2.0, 3.0, 0.0, 'Coconut', 'DAP'), (1.0, 0.0, 1.0, 'Coconut', 'Urea')} -> {(1.0, 0.0, 1.0, 'Coconut', 'MOP')} (3,1.0,1.0)\n",
      "{(2.0, 3.0, 0.0, 'Coconut', 'DAP'), (1.0, 0.0, 1.0, 'Coconut', 'MOP'), (1.0, 0.0, 1.0, 'Coconut', 'Urea')} -> {(1.0, 2.0, 0.0, 'Coconut', 'MOP')} (3,1.0,1.0)\n",
      "{(1.0, 2.0, 0.0, 'Coconut', 'MOP')} -> {(1.0, 2.0, 0.0, 'Coconut', 'Urea'), (2.0, 2.0, 0.0, 'Coconut', 'Urea'), (1.0, 0.0, 1.0, 'Coconut', 'Urea')} (3,1.0,1.0)\n",
      "{(2.0, 2.0, 0.0, 'Coconut', 'Urea')} -> {(1.0, 2.0, 0.0, 'Coconut', 'MOP'), (1.0, 2.0, 0.0, 'Coconut', 'Urea'), (1.0, 0.0, 1.0, 'Coconut', 'Urea')} (3,1.0,1.0)\n",
      "{(1.0, 0.0, 1.0, 'Coconut', 'Urea')} -> {(1.0, 2.0, 0.0, 'Coconut', 'MOP'), (1.0, 2.0, 0.0, 'Coconut', 'Urea'), (2.0, 2.0, 0.0, 'Coconut', 'Urea')} (3,1.0,1.0)\n",
      "{(1.0, 2.0, 0.0, 'Coconut', 'MOP'), (1.0, 2.0, 0.0, 'Coconut', 'Urea')} -> {(2.0, 2.0, 0.0, 'Coconut', 'Urea'), (1.0, 0.0, 1.0, 'Coconut', 'Urea')} (3,1.0,1.0)\n",
      "{(1.0, 2.0, 0.0, 'Coconut', 'MOP'), (2.0, 2.0, 0.0, 'Coconut', 'Urea')} -> {(1.0, 2.0, 0.0, 'Coconut', 'Urea'), (1.0, 0.0, 1.0, 'Coconut', 'Urea')} (3,1.0,1.0)\n",
      "{(1.0, 2.0, 0.0, 'Coconut', 'MOP'), (1.0, 0.0, 1.0, 'Coconut', 'Urea')} -> {(1.0, 2.0, 0.0, 'Coconut', 'Urea'), (2.0, 2.0, 0.0, 'Coconut', 'Urea')} (3,1.0,1.0)\n",
      "{(1.0, 2.0, 0.0, 'Coconut', 'Urea'), (2.0, 2.0, 0.0, 'Coconut', 'Urea')} -> {(1.0, 2.0, 0.0, 'Coconut', 'MOP'), (1.0, 0.0, 1.0, 'Coconut', 'Urea')} (3,1.0,1.0)\n",
      "{(1.0, 2.0, 0.0, 'Coconut', 'Urea'), (1.0, 0.0, 1.0, 'Coconut', 'Urea')} -> {(1.0, 2.0, 0.0, 'Coconut', 'MOP'), (2.0, 2.0, 0.0, 'Coconut', 'Urea')} (3,1.0,1.0)\n",
      "{(2.0, 2.0, 0.0, 'Coconut', 'Urea'), (1.0, 0.0, 1.0, 'Coconut', 'Urea')} -> {(1.0, 2.0, 0.0, 'Coconut', 'MOP'), (1.0, 2.0, 0.0, 'Coconut', 'Urea')} (3,1.0,1.0)\n",
      "{(1.0, 2.0, 0.0, 'Coconut', 'MOP'), (1.0, 2.0, 0.0, 'Coconut', 'Urea'), (2.0, 2.0, 0.0, 'Coconut', 'Urea')} -> {(1.0, 0.0, 1.0, 'Coconut', 'Urea')} (3,1.0,1.0)\n",
      "{(1.0, 2.0, 0.0, 'Coconut', 'MOP'), (1.0, 2.0, 0.0, 'Coconut', 'Urea'), (1.0, 0.0, 1.0, 'Coconut', 'Urea')} -> {(2.0, 2.0, 0.0, 'Coconut', 'Urea')} (3,1.0,1.0)\n",
      "{(1.0, 2.0, 0.0, 'Coconut', 'Urea'), (2.0, 2.0, 0.0, 'Coconut', 'Urea'), (1.0, 0.0, 1.0, 'Coconut', 'Urea')} -> {(1.0, 2.0, 0.0, 'Coconut', 'MOP')} (3,1.0,1.0)\n",
      "{(1.0, 2.0, 0.0, 'Coconut', 'MOP')} -> {(2.0, 2.0, 0.0, 'Coconut', 'Urea'), (1.0, 0.0, 1.0, 'Coconut', 'Urea')} (3,1.0,1.0)\n",
      "{(2.0, 2.0, 0.0, 'Coconut', 'Urea')} -> {(1.0, 2.0, 0.0, 'Coconut', 'MOP'), (1.0, 0.0, 1.0, 'Coconut', 'Urea')} (3,1.0,1.0)\n",
      "{(1.0, 0.0, 1.0, 'Coconut', 'Urea')} -> {(1.0, 2.0, 0.0, 'Coconut', 'MOP'), (2.0, 2.0, 0.0, 'Coconut', 'Urea')} (3,1.0,1.0)\n",
      "{(1.0, 2.0, 0.0, 'Coconut', 'MOP'), (2.0, 2.0, 0.0, 'Coconut', 'Urea')} -> {(1.0, 0.0, 1.0, 'Coconut', 'Urea')} (3,1.0,1.0)\n",
      "{(1.0, 2.0, 0.0, 'Coconut', 'MOP'), (1.0, 0.0, 1.0, 'Coconut', 'Urea')} -> {(2.0, 2.0, 0.0, 'Coconut', 'Urea')} (3,1.0,1.0)\n",
      "{(2.0, 2.0, 0.0, 'Coconut', 'Urea'), (1.0, 0.0, 1.0, 'Coconut', 'Urea')} -> {(1.0, 2.0, 0.0, 'Coconut', 'MOP')} (3,1.0,1.0)\n",
      "{(1.0, 2.0, 0.0, 'Coconut', 'MOP')} -> {(1.0, 2.0, 0.0, 'Coconut', 'Urea'), (1.0, 0.0, 1.0, 'Coconut', 'Urea')} (3,1.0,1.0)\n",
      "{(1.0, 0.0, 1.0, 'Coconut', 'Urea')} -> {(1.0, 2.0, 0.0, 'Coconut', 'MOP'), (1.0, 2.0, 0.0, 'Coconut', 'Urea')} (3,1.0,1.0)\n",
      "{(1.0, 2.0, 0.0, 'Coconut', 'MOP'), (1.0, 2.0, 0.0, 'Coconut', 'Urea')} -> {(1.0, 0.0, 1.0, 'Coconut', 'Urea')} (3,1.0,1.0)\n",
      "{(1.0, 2.0, 0.0, 'Coconut', 'Urea'), (1.0, 0.0, 1.0, 'Coconut', 'Urea')} -> {(1.0, 2.0, 0.0, 'Coconut', 'MOP')} (3,1.0,1.0)\n",
      "{(0.0, 0.0, 3.0, 'rice', 'DAP')} -> {(1.0, 0.0, 1.0, 'rice', 'DAP'), (1.0, 0.0, 1.0, 'rice', 'MOP')} (3,1.0,1.0)\n",
      "{(1.0, 0.0, 1.0, 'rice', 'DAP')} -> {(0.0, 0.0, 3.0, 'rice', 'DAP'), (1.0, 0.0, 1.0, 'rice', 'MOP')} (3,1.0,1.0)\n",
      "{(1.0, 0.0, 1.0, 'rice', 'MOP')} -> {(0.0, 0.0, 3.0, 'rice', 'DAP'), (1.0, 0.0, 1.0, 'rice', 'DAP')} (3,1.0,1.0)\n",
      "{(0.0, 0.0, 3.0, 'rice', 'DAP'), (1.0, 0.0, 1.0, 'rice', 'DAP')} -> {(1.0, 0.0, 1.0, 'rice', 'MOP')} (3,1.0,1.0)\n",
      "{(0.0, 0.0, 3.0, 'rice', 'DAP'), (1.0, 0.0, 1.0, 'rice', 'MOP')} -> {(1.0, 0.0, 1.0, 'rice', 'DAP')} (3,1.0,1.0)\n",
      "{(1.0, 0.0, 1.0, 'rice', 'DAP'), (1.0, 0.0, 1.0, 'rice', 'MOP')} -> {(0.0, 0.0, 3.0, 'rice', 'DAP')} (3,1.0,1.0)\n",
      "{(0.0, 0.0, 3.0, 'rice', 'DAP')} -> {(1.0, 0.0, 2.0, 'rice', 'MOP'), (1.0, 0.0, 1.0, 'rice', 'DAP'), (1.0, 0.0, 1.0, 'rice', 'MOP')} (3,1.0,1.0)\n",
      "{(1.0, 0.0, 1.0, 'rice', 'DAP')} -> {(0.0, 0.0, 3.0, 'rice', 'DAP'), (1.0, 0.0, 2.0, 'rice', 'MOP'), (1.0, 0.0, 1.0, 'rice', 'MOP')} (3,1.0,1.0)\n",
      "{(1.0, 0.0, 2.0, 'rice', 'MOP')} -> {(0.0, 0.0, 3.0, 'rice', 'DAP'), (1.0, 0.0, 1.0, 'rice', 'DAP'), (1.0, 0.0, 1.0, 'rice', 'MOP')} (3,1.0,1.0)\n",
      "{(1.0, 0.0, 1.0, 'rice', 'MOP')} -> {(0.0, 0.0, 3.0, 'rice', 'DAP'), (1.0, 0.0, 1.0, 'rice', 'DAP'), (1.0, 0.0, 2.0, 'rice', 'MOP')} (3,1.0,1.0)\n",
      "{(0.0, 0.0, 3.0, 'rice', 'DAP'), (1.0, 0.0, 1.0, 'rice', 'DAP')} -> {(1.0, 0.0, 2.0, 'rice', 'MOP'), (1.0, 0.0, 1.0, 'rice', 'MOP')} (3,1.0,1.0)\n",
      "{(0.0, 0.0, 3.0, 'rice', 'DAP'), (1.0, 0.0, 2.0, 'rice', 'MOP')} -> {(1.0, 0.0, 1.0, 'rice', 'DAP'), (1.0, 0.0, 1.0, 'rice', 'MOP')} (3,1.0,1.0)\n",
      "{(0.0, 0.0, 3.0, 'rice', 'DAP'), (1.0, 0.0, 1.0, 'rice', 'MOP')} -> {(1.0, 0.0, 2.0, 'rice', 'MOP'), (1.0, 0.0, 1.0, 'rice', 'DAP')} (3,1.0,1.0)\n",
      "{(1.0, 0.0, 2.0, 'rice', 'MOP'), (1.0, 0.0, 1.0, 'rice', 'DAP')} -> {(0.0, 0.0, 3.0, 'rice', 'DAP'), (1.0, 0.0, 1.0, 'rice', 'MOP')} (3,1.0,1.0)\n",
      "{(1.0, 0.0, 1.0, 'rice', 'DAP'), (1.0, 0.0, 1.0, 'rice', 'MOP')} -> {(0.0, 0.0, 3.0, 'rice', 'DAP'), (1.0, 0.0, 2.0, 'rice', 'MOP')} (3,1.0,1.0)\n",
      "{(1.0, 0.0, 2.0, 'rice', 'MOP'), (1.0, 0.0, 1.0, 'rice', 'MOP')} -> {(0.0, 0.0, 3.0, 'rice', 'DAP'), (1.0, 0.0, 1.0, 'rice', 'DAP')} (3,1.0,1.0)\n",
      "{(0.0, 0.0, 3.0, 'rice', 'DAP'), (1.0, 0.0, 1.0, 'rice', 'DAP'), (1.0, 0.0, 2.0, 'rice', 'MOP')} -> {(1.0, 0.0, 1.0, 'rice', 'MOP')} (3,1.0,1.0)\n",
      "{(0.0, 0.0, 3.0, 'rice', 'DAP'), (1.0, 0.0, 1.0, 'rice', 'DAP'), (1.0, 0.0, 1.0, 'rice', 'MOP')} -> {(1.0, 0.0, 2.0, 'rice', 'MOP')} (3,1.0,1.0)\n",
      "{(0.0, 0.0, 3.0, 'rice', 'DAP'), (1.0, 0.0, 2.0, 'rice', 'MOP'), (1.0, 0.0, 1.0, 'rice', 'MOP')} -> {(1.0, 0.0, 1.0, 'rice', 'DAP')} (3,1.0,1.0)\n",
      "{(1.0, 0.0, 2.0, 'rice', 'MOP'), (1.0, 0.0, 1.0, 'rice', 'DAP'), (1.0, 0.0, 1.0, 'rice', 'MOP')} -> {(0.0, 0.0, 3.0, 'rice', 'DAP')} (3,1.0,1.0)\n",
      "{(1.0, 0.0, 1.0, 'Coconut', 'MOP')} -> {(2.0, 3.0, 0.0, 'Coconut', 'DAP'), (1.0, 2.0, 0.0, 'Coconut', 'Urea'), (1.0, 0.0, 1.0, 'Coconut', 'Urea')} (3,1.0,1.0)\n",
      "{(1.0, 0.0, 1.0, 'Coconut', 'Urea')} -> {(2.0, 3.0, 0.0, 'Coconut', 'DAP'), (1.0, 2.0, 0.0, 'Coconut', 'Urea'), (1.0, 0.0, 1.0, 'Coconut', 'MOP')} (3,1.0,1.0)\n",
      "{(2.0, 3.0, 0.0, 'Coconut', 'DAP'), (1.0, 0.0, 1.0, 'Coconut', 'MOP')} -> {(1.0, 2.0, 0.0, 'Coconut', 'Urea'), (1.0, 0.0, 1.0, 'Coconut', 'Urea')} (3,1.0,1.0)\n",
      "{(2.0, 3.0, 0.0, 'Coconut', 'DAP'), (1.0, 0.0, 1.0, 'Coconut', 'Urea')} -> {(1.0, 2.0, 0.0, 'Coconut', 'Urea'), (1.0, 0.0, 1.0, 'Coconut', 'MOP')} (3,1.0,1.0)\n",
      "{(1.0, 2.0, 0.0, 'Coconut', 'Urea'), (1.0, 0.0, 1.0, 'Coconut', 'MOP')} -> {(2.0, 3.0, 0.0, 'Coconut', 'DAP'), (1.0, 0.0, 1.0, 'Coconut', 'Urea')} (3,1.0,1.0)\n",
      "{(1.0, 2.0, 0.0, 'Coconut', 'Urea'), (1.0, 0.0, 1.0, 'Coconut', 'Urea')} -> {(2.0, 3.0, 0.0, 'Coconut', 'DAP'), (1.0, 0.0, 1.0, 'Coconut', 'MOP')} (3,1.0,1.0)\n",
      "{(2.0, 3.0, 0.0, 'Coconut', 'DAP'), (1.0, 2.0, 0.0, 'Coconut', 'Urea'), (1.0, 0.0, 1.0, 'Coconut', 'MOP')} -> {(1.0, 0.0, 1.0, 'Coconut', 'Urea')} (3,1.0,1.0)\n",
      "{(2.0, 3.0, 0.0, 'Coconut', 'DAP'), (1.0, 2.0, 0.0, 'Coconut', 'Urea'), (1.0, 0.0, 1.0, 'Coconut', 'Urea')} -> {(1.0, 0.0, 1.0, 'Coconut', 'MOP')} (3,1.0,1.0)\n",
      "{(1.0, 2.0, 0.0, 'Coconut', 'MOP')} -> {(1.0, 2.0, 0.0, 'Coconut', 'Urea'), (1.0, 0.0, 1.0, 'Coconut', 'MOP')} (3,1.0,1.0)\n",
      "{(1.0, 0.0, 1.0, 'Coconut', 'MOP')} -> {(1.0, 2.0, 0.0, 'Coconut', 'MOP'), (1.0, 2.0, 0.0, 'Coconut', 'Urea')} (3,1.0,1.0)\n",
      "{(1.0, 2.0, 0.0, 'Coconut', 'MOP'), (1.0, 2.0, 0.0, 'Coconut', 'Urea')} -> {(1.0, 0.0, 1.0, 'Coconut', 'MOP')} (3,1.0,1.0)\n",
      "{(1.0, 2.0, 0.0, 'Coconut', 'Urea'), (1.0, 0.0, 1.0, 'Coconut', 'MOP')} -> {(1.0, 2.0, 0.0, 'Coconut', 'MOP')} (3,1.0,1.0)\n",
      "{(1.0, 0.0, 1.0, 'Coconut', 'MOP')} -> {(1.0, 2.0, 0.0, 'Coconut', 'Urea'), (1.0, 0.0, 1.0, 'Coconut', 'Urea')} (3,1.0,1.0)\n",
      "{(1.0, 0.0, 1.0, 'Coconut', 'Urea')} -> {(1.0, 2.0, 0.0, 'Coconut', 'Urea'), (1.0, 0.0, 1.0, 'Coconut', 'MOP')} (3,1.0,1.0)\n",
      "{(1.0, 2.0, 0.0, 'Coconut', 'Urea'), (1.0, 0.0, 1.0, 'Coconut', 'MOP')} -> {(1.0, 0.0, 1.0, 'Coconut', 'Urea')} (3,1.0,1.0)\n",
      "{(1.0, 2.0, 0.0, 'Coconut', 'Urea'), (1.0, 0.0, 1.0, 'Coconut', 'Urea')} -> {(1.0, 0.0, 1.0, 'Coconut', 'MOP')} (3,1.0,1.0)\n",
      "{(1.0, 0.0, 1.0, 'Coconut', 'MOP')} -> {(2.0, 3.0, 0.0, 'Coconut', 'DAP'), (1.0, 0.0, 1.0, 'Coconut', 'Urea')} (3,1.0,1.0)\n",
      "{(1.0, 0.0, 1.0, 'Coconut', 'Urea')} -> {(2.0, 3.0, 0.0, 'Coconut', 'DAP'), (1.0, 0.0, 1.0, 'Coconut', 'MOP')} (3,1.0,1.0)\n",
      "{(2.0, 3.0, 0.0, 'Coconut', 'DAP'), (1.0, 0.0, 1.0, 'Coconut', 'MOP')} -> {(1.0, 0.0, 1.0, 'Coconut', 'Urea')} (3,1.0,1.0)\n",
      "{(2.0, 3.0, 0.0, 'Coconut', 'DAP'), (1.0, 0.0, 1.0, 'Coconut', 'Urea')} -> {(1.0, 0.0, 1.0, 'Coconut', 'MOP')} (3,1.0,1.0)\n",
      "{(2.0, 2.0, 0.0, 'Coconut', 'Urea')} -> {(2.0, 3.0, 0.0, 'Coconut', 'DAP'), (1.0, 2.0, 0.0, 'Coconut', 'Urea'), (1.0, 0.0, 1.0, 'Coconut', 'Urea')} (3,1.0,1.0)\n",
      "{(1.0, 0.0, 1.0, 'Coconut', 'Urea')} -> {(2.0, 3.0, 0.0, 'Coconut', 'DAP'), (1.0, 2.0, 0.0, 'Coconut', 'Urea'), (2.0, 2.0, 0.0, 'Coconut', 'Urea')} (3,1.0,1.0)\n",
      "{(2.0, 3.0, 0.0, 'Coconut', 'DAP'), (2.0, 2.0, 0.0, 'Coconut', 'Urea')} -> {(1.0, 2.0, 0.0, 'Coconut', 'Urea'), (1.0, 0.0, 1.0, 'Coconut', 'Urea')} (3,1.0,1.0)\n",
      "{(2.0, 3.0, 0.0, 'Coconut', 'DAP'), (1.0, 0.0, 1.0, 'Coconut', 'Urea')} -> {(1.0, 2.0, 0.0, 'Coconut', 'Urea'), (2.0, 2.0, 0.0, 'Coconut', 'Urea')} (3,1.0,1.0)\n",
      "{(1.0, 2.0, 0.0, 'Coconut', 'Urea'), (2.0, 2.0, 0.0, 'Coconut', 'Urea')} -> {(2.0, 3.0, 0.0, 'Coconut', 'DAP'), (1.0, 0.0, 1.0, 'Coconut', 'Urea')} (3,1.0,1.0)\n",
      "{(1.0, 2.0, 0.0, 'Coconut', 'Urea'), (1.0, 0.0, 1.0, 'Coconut', 'Urea')} -> {(2.0, 3.0, 0.0, 'Coconut', 'DAP'), (2.0, 2.0, 0.0, 'Coconut', 'Urea')} (3,1.0,1.0)\n",
      "{(2.0, 3.0, 0.0, 'Coconut', 'DAP'), (1.0, 2.0, 0.0, 'Coconut', 'Urea'), (2.0, 2.0, 0.0, 'Coconut', 'Urea')} -> {(1.0, 0.0, 1.0, 'Coconut', 'Urea')} (3,1.0,1.0)\n",
      "{(2.0, 3.0, 0.0, 'Coconut', 'DAP'), (1.0, 2.0, 0.0, 'Coconut', 'Urea'), (1.0, 0.0, 1.0, 'Coconut', 'Urea')} -> {(2.0, 2.0, 0.0, 'Coconut', 'Urea')} (3,1.0,1.0)\n",
      "{(2.0, 2.0, 0.0, 'Coconut', 'Urea')} -> {(2.0, 3.0, 0.0, 'Coconut', 'DAP'), (1.0, 0.0, 1.0, 'Coconut', 'Urea')} (3,1.0,1.0)\n",
      "{(1.0, 0.0, 1.0, 'Coconut', 'Urea')} -> {(2.0, 3.0, 0.0, 'Coconut', 'DAP'), (2.0, 2.0, 0.0, 'Coconut', 'Urea')} (3,1.0,1.0)\n",
      "{(2.0, 3.0, 0.0, 'Coconut', 'DAP'), (2.0, 2.0, 0.0, 'Coconut', 'Urea')} -> {(1.0, 0.0, 1.0, 'Coconut', 'Urea')} (3,1.0,1.0)\n",
      "{(2.0, 3.0, 0.0, 'Coconut', 'DAP'), (1.0, 0.0, 1.0, 'Coconut', 'Urea')} -> {(2.0, 2.0, 0.0, 'Coconut', 'Urea')} (3,1.0,1.0)\n",
      "{(0.0, 0.0, 3.0, 'rice', 'DAP')} -> {(1.0, 0.0, 2.0, 'rice', 'MOP'), (1.0, 0.0, 1.0, 'rice', 'DAP'), (0.0, 0.0, 2.0, 'rice', 'Urea')} (3,1.0,1.0)\n",
      "{(1.0, 0.0, 1.0, 'rice', 'DAP')} -> {(0.0, 0.0, 3.0, 'rice', 'DAP'), (1.0, 0.0, 2.0, 'rice', 'MOP'), (0.0, 0.0, 2.0, 'rice', 'Urea')} (3,1.0,1.0)\n",
      "{(1.0, 0.0, 2.0, 'rice', 'MOP')} -> {(0.0, 0.0, 3.0, 'rice', 'DAP'), (1.0, 0.0, 1.0, 'rice', 'DAP'), (0.0, 0.0, 2.0, 'rice', 'Urea')} (3,1.0,1.0)\n",
      "{(0.0, 0.0, 2.0, 'rice', 'Urea')} -> {(0.0, 0.0, 3.0, 'rice', 'DAP'), (1.0, 0.0, 1.0, 'rice', 'DAP'), (1.0, 0.0, 2.0, 'rice', 'MOP')} (3,1.0,1.0)\n",
      "{(0.0, 0.0, 3.0, 'rice', 'DAP'), (1.0, 0.0, 1.0, 'rice', 'DAP')} -> {(1.0, 0.0, 2.0, 'rice', 'MOP'), (0.0, 0.0, 2.0, 'rice', 'Urea')} (3,1.0,1.0)\n",
      "{(0.0, 0.0, 3.0, 'rice', 'DAP'), (1.0, 0.0, 2.0, 'rice', 'MOP')} -> {(0.0, 0.0, 2.0, 'rice', 'Urea'), (1.0, 0.0, 1.0, 'rice', 'DAP')} (3,1.0,1.0)\n",
      "{(0.0, 0.0, 3.0, 'rice', 'DAP'), (0.0, 0.0, 2.0, 'rice', 'Urea')} -> {(1.0, 0.0, 2.0, 'rice', 'MOP'), (1.0, 0.0, 1.0, 'rice', 'DAP')} (3,1.0,1.0)\n",
      "{(1.0, 0.0, 2.0, 'rice', 'MOP'), (1.0, 0.0, 1.0, 'rice', 'DAP')} -> {(0.0, 0.0, 3.0, 'rice', 'DAP'), (0.0, 0.0, 2.0, 'rice', 'Urea')} (3,1.0,1.0)\n",
      "{(0.0, 0.0, 2.0, 'rice', 'Urea'), (1.0, 0.0, 1.0, 'rice', 'DAP')} -> {(0.0, 0.0, 3.0, 'rice', 'DAP'), (1.0, 0.0, 2.0, 'rice', 'MOP')} (3,1.0,1.0)\n",
      "{(1.0, 0.0, 2.0, 'rice', 'MOP'), (0.0, 0.0, 2.0, 'rice', 'Urea')} -> {(0.0, 0.0, 3.0, 'rice', 'DAP'), (1.0, 0.0, 1.0, 'rice', 'DAP')} (3,1.0,1.0)\n",
      "{(0.0, 0.0, 3.0, 'rice', 'DAP'), (1.0, 0.0, 1.0, 'rice', 'DAP'), (1.0, 0.0, 2.0, 'rice', 'MOP')} -> {(0.0, 0.0, 2.0, 'rice', 'Urea')} (3,1.0,1.0)\n",
      "{(0.0, 0.0, 3.0, 'rice', 'DAP'), (1.0, 0.0, 1.0, 'rice', 'DAP'), (0.0, 0.0, 2.0, 'rice', 'Urea')} -> {(1.0, 0.0, 2.0, 'rice', 'MOP')} (3,1.0,1.0)\n",
      "{(0.0, 0.0, 3.0, 'rice', 'DAP'), (1.0, 0.0, 2.0, 'rice', 'MOP'), (0.0, 0.0, 2.0, 'rice', 'Urea')} -> {(1.0, 0.0, 1.0, 'rice', 'DAP')} (3,1.0,1.0)\n",
      "{(1.0, 0.0, 2.0, 'rice', 'MOP'), (1.0, 0.0, 1.0, 'rice', 'DAP'), (0.0, 0.0, 2.0, 'rice', 'Urea')} -> {(0.0, 0.0, 3.0, 'rice', 'DAP')} (3,1.0,1.0)\n",
      "{(0.0, 0.0, 3.0, 'rice', 'DAP')} -> {(1.0, 0.0, 1.0, 'rice', 'DAP'), (1.0, 0.0, 2.0, 'rice', 'Urea')} (3,1.0,1.0)\n",
      "{(1.0, 0.0, 1.0, 'rice', 'DAP')} -> {(0.0, 0.0, 3.0, 'rice', 'DAP'), (1.0, 0.0, 2.0, 'rice', 'Urea')} (3,1.0,1.0)\n",
      "{(1.0, 0.0, 2.0, 'rice', 'Urea')} -> {(0.0, 0.0, 3.0, 'rice', 'DAP'), (1.0, 0.0, 1.0, 'rice', 'DAP')} (3,1.0,1.0)\n",
      "{(0.0, 0.0, 3.0, 'rice', 'DAP'), (1.0, 0.0, 1.0, 'rice', 'DAP')} -> {(1.0, 0.0, 2.0, 'rice', 'Urea')} (3,1.0,1.0)\n",
      "{(0.0, 0.0, 3.0, 'rice', 'DAP'), (1.0, 0.0, 2.0, 'rice', 'Urea')} -> {(1.0, 0.0, 1.0, 'rice', 'DAP')} (3,1.0,1.0)\n",
      "{(1.0, 0.0, 1.0, 'rice', 'DAP'), (1.0, 0.0, 2.0, 'rice', 'Urea')} -> {(0.0, 0.0, 3.0, 'rice', 'DAP')} (3,1.0,1.0)\n",
      "{(0.0, 0.0, 3.0, 'rice', 'DAP')} -> {(0.0, 0.0, 2.0, 'rice', 'Urea'), (1.0, 0.0, 1.0, 'rice', 'DAP')} (3,1.0,1.0)\n",
      "{(1.0, 0.0, 1.0, 'rice', 'DAP')} -> {(0.0, 0.0, 3.0, 'rice', 'DAP'), (0.0, 0.0, 2.0, 'rice', 'Urea')} (3,1.0,1.0)\n",
      "{(0.0, 0.0, 2.0, 'rice', 'Urea')} -> {(0.0, 0.0, 3.0, 'rice', 'DAP'), (1.0, 0.0, 1.0, 'rice', 'DAP')} (3,1.0,1.0)\n",
      "{(0.0, 0.0, 3.0, 'rice', 'DAP'), (1.0, 0.0, 1.0, 'rice', 'DAP')} -> {(0.0, 0.0, 2.0, 'rice', 'Urea')} (3,1.0,1.0)\n",
      "{(0.0, 0.0, 3.0, 'rice', 'DAP'), (0.0, 0.0, 2.0, 'rice', 'Urea')} -> {(1.0, 0.0, 1.0, 'rice', 'DAP')} (3,1.0,1.0)\n",
      "{(0.0, 0.0, 2.0, 'rice', 'Urea'), (1.0, 0.0, 1.0, 'rice', 'DAP')} -> {(0.0, 0.0, 3.0, 'rice', 'DAP')} (3,1.0,1.0)\n",
      "{(0.0, 0.0, 3.0, 'rice', 'DAP')} -> {(1.0, 0.0, 2.0, 'rice', 'MOP'), (1.0, 0.0, 1.0, 'rice', 'DAP')} (3,1.0,1.0)\n",
      "{(1.0, 0.0, 1.0, 'rice', 'DAP')} -> {(0.0, 0.0, 3.0, 'rice', 'DAP'), (1.0, 0.0, 2.0, 'rice', 'MOP')} (3,1.0,1.0)\n",
      "{(1.0, 0.0, 2.0, 'rice', 'MOP')} -> {(0.0, 0.0, 3.0, 'rice', 'DAP'), (1.0, 0.0, 1.0, 'rice', 'DAP')} (3,1.0,1.0)\n",
      "{(0.0, 0.0, 3.0, 'rice', 'DAP'), (1.0, 0.0, 1.0, 'rice', 'DAP')} -> {(1.0, 0.0, 2.0, 'rice', 'MOP')} (3,1.0,1.0)\n",
      "{(0.0, 0.0, 3.0, 'rice', 'DAP'), (1.0, 0.0, 2.0, 'rice', 'MOP')} -> {(1.0, 0.0, 1.0, 'rice', 'DAP')} (3,1.0,1.0)\n",
      "{(1.0, 0.0, 2.0, 'rice', 'MOP'), (1.0, 0.0, 1.0, 'rice', 'DAP')} -> {(0.0, 0.0, 3.0, 'rice', 'DAP')} (3,1.0,1.0)\n",
      "{(0.0, 0.0, 3.0, 'rice', 'DAP')} -> {(0.0, 0.0, 2.0, 'rice', 'Urea'), (1.0, 0.0, 1.0, 'rice', 'DAP'), (1.0, 0.0, 1.0, 'rice', 'MOP')} (3,1.0,1.0)\n",
      "{(1.0, 0.0, 1.0, 'rice', 'DAP')} -> {(0.0, 0.0, 3.0, 'rice', 'DAP'), (0.0, 0.0, 2.0, 'rice', 'Urea'), (1.0, 0.0, 1.0, 'rice', 'MOP')} (3,1.0,1.0)\n",
      "{(1.0, 0.0, 1.0, 'rice', 'MOP')} -> {(0.0, 0.0, 3.0, 'rice', 'DAP'), (1.0, 0.0, 1.0, 'rice', 'DAP'), (0.0, 0.0, 2.0, 'rice', 'Urea')} (3,1.0,1.0)\n",
      "{(0.0, 0.0, 2.0, 'rice', 'Urea')} -> {(0.0, 0.0, 3.0, 'rice', 'DAP'), (1.0, 0.0, 1.0, 'rice', 'DAP'), (1.0, 0.0, 1.0, 'rice', 'MOP')} (3,1.0,1.0)\n",
      "{(0.0, 0.0, 3.0, 'rice', 'DAP'), (1.0, 0.0, 1.0, 'rice', 'DAP')} -> {(0.0, 0.0, 2.0, 'rice', 'Urea'), (1.0, 0.0, 1.0, 'rice', 'MOP')} (3,1.0,1.0)\n",
      "{(0.0, 0.0, 3.0, 'rice', 'DAP'), (1.0, 0.0, 1.0, 'rice', 'MOP')} -> {(0.0, 0.0, 2.0, 'rice', 'Urea'), (1.0, 0.0, 1.0, 'rice', 'DAP')} (3,1.0,1.0)\n",
      "{(0.0, 0.0, 3.0, 'rice', 'DAP'), (0.0, 0.0, 2.0, 'rice', 'Urea')} -> {(1.0, 0.0, 1.0, 'rice', 'DAP'), (1.0, 0.0, 1.0, 'rice', 'MOP')} (3,1.0,1.0)\n",
      "{(1.0, 0.0, 1.0, 'rice', 'DAP'), (1.0, 0.0, 1.0, 'rice', 'MOP')} -> {(0.0, 0.0, 3.0, 'rice', 'DAP'), (0.0, 0.0, 2.0, 'rice', 'Urea')} (3,1.0,1.0)\n",
      "{(0.0, 0.0, 2.0, 'rice', 'Urea'), (1.0, 0.0, 1.0, 'rice', 'DAP')} -> {(0.0, 0.0, 3.0, 'rice', 'DAP'), (1.0, 0.0, 1.0, 'rice', 'MOP')} (3,1.0,1.0)\n",
      "{(0.0, 0.0, 2.0, 'rice', 'Urea'), (1.0, 0.0, 1.0, 'rice', 'MOP')} -> {(0.0, 0.0, 3.0, 'rice', 'DAP'), (1.0, 0.0, 1.0, 'rice', 'DAP')} (3,1.0,1.0)\n",
      "{(0.0, 0.0, 3.0, 'rice', 'DAP'), (1.0, 0.0, 1.0, 'rice', 'DAP'), (1.0, 0.0, 1.0, 'rice', 'MOP')} -> {(0.0, 0.0, 2.0, 'rice', 'Urea')} (3,1.0,1.0)\n",
      "{(0.0, 0.0, 3.0, 'rice', 'DAP'), (1.0, 0.0, 1.0, 'rice', 'DAP'), (0.0, 0.0, 2.0, 'rice', 'Urea')} -> {(1.0, 0.0, 1.0, 'rice', 'MOP')} (3,1.0,1.0)\n",
      "{(0.0, 0.0, 3.0, 'rice', 'DAP'), (0.0, 0.0, 2.0, 'rice', 'Urea'), (1.0, 0.0, 1.0, 'rice', 'MOP')} -> {(1.0, 0.0, 1.0, 'rice', 'DAP')} (3,1.0,1.0)\n",
      "{(0.0, 0.0, 2.0, 'rice', 'Urea'), (1.0, 0.0, 1.0, 'rice', 'DAP'), (1.0, 0.0, 1.0, 'rice', 'MOP')} -> {(0.0, 0.0, 3.0, 'rice', 'DAP')} (3,1.0,1.0)\n",
      "{(1.0, 0.0, 2.0, 'rice', 'MOP')} -> {(0.0, 0.0, 2.0, 'rice', 'Urea'), (1.0, 0.0, 1.0, 'rice', 'MOP')} (3,1.0,1.0)\n",
      "{(1.0, 0.0, 1.0, 'rice', 'MOP')} -> {(1.0, 0.0, 2.0, 'rice', 'MOP'), (0.0, 0.0, 2.0, 'rice', 'Urea')} (3,1.0,1.0)\n",
      "{(0.0, 0.0, 2.0, 'rice', 'Urea')} -> {(1.0, 0.0, 2.0, 'rice', 'MOP'), (1.0, 0.0, 1.0, 'rice', 'MOP')} (3,1.0,1.0)\n",
      "{(1.0, 0.0, 2.0, 'rice', 'MOP'), (1.0, 0.0, 1.0, 'rice', 'MOP')} -> {(0.0, 0.0, 2.0, 'rice', 'Urea')} (3,1.0,1.0)\n",
      "{(1.0, 0.0, 2.0, 'rice', 'MOP'), (0.0, 0.0, 2.0, 'rice', 'Urea')} -> {(1.0, 0.0, 1.0, 'rice', 'MOP')} (3,1.0,1.0)\n",
      "{(0.0, 0.0, 2.0, 'rice', 'Urea'), (1.0, 0.0, 1.0, 'rice', 'MOP')} -> {(1.0, 0.0, 2.0, 'rice', 'MOP')} (3,1.0,1.0)\n",
      "{(1.0, 2.0, 0.0, 'Coconut', 'MOP')} -> {(2.0, 3.0, 0.0, 'Coconut', 'DAP'), (1.0, 0.0, 1.0, 'Coconut', 'MOP')} (3,1.0,1.0)\n",
      "{(1.0, 0.0, 1.0, 'Coconut', 'MOP')} -> {(1.0, 2.0, 0.0, 'Coconut', 'MOP'), (2.0, 3.0, 0.0, 'Coconut', 'DAP')} (3,1.0,1.0)\n",
      "{(1.0, 2.0, 0.0, 'Coconut', 'MOP'), (2.0, 3.0, 0.0, 'Coconut', 'DAP')} -> {(1.0, 0.0, 1.0, 'Coconut', 'MOP')} (3,1.0,1.0)\n",
      "{(2.0, 3.0, 0.0, 'Coconut', 'DAP'), (1.0, 0.0, 1.0, 'Coconut', 'MOP')} -> {(1.0, 2.0, 0.0, 'Coconut', 'MOP')} (3,1.0,1.0)\n",
      "{(2.0, 3.0, 1.0, 'Coconut', 'DAP')} -> {(2.0, 3.0, 0.0, 'Coconut', 'DAP'), (2.0, 2.0, 0.0, 'Coconut', 'Good NPK')} (3,1.0,1.0)\n",
      "{(2.0, 2.0, 0.0, 'Coconut', 'Good NPK')} -> {(2.0, 3.0, 0.0, 'Coconut', 'DAP'), (2.0, 3.0, 1.0, 'Coconut', 'DAP')} (3,1.0,1.0)\n",
      "{(2.0, 3.0, 0.0, 'Coconut', 'DAP'), (2.0, 3.0, 1.0, 'Coconut', 'DAP')} -> {(2.0, 2.0, 0.0, 'Coconut', 'Good NPK')} (3,1.0,1.0)\n",
      "{(2.0, 3.0, 0.0, 'Coconut', 'DAP'), (2.0, 2.0, 0.0, 'Coconut', 'Good NPK')} -> {(2.0, 3.0, 1.0, 'Coconut', 'DAP')} (3,1.0,1.0)\n",
      "{(2.0, 3.0, 1.0, 'Coconut', 'DAP')} -> {(2.0, 3.0, 0.0, 'Coconut', 'DAP'), (1.0, 3.0, 1.0, 'Coconut', 'DAP')} (3,1.0,1.0)\n",
      "{(1.0, 3.0, 1.0, 'Coconut', 'DAP')} -> {(2.0, 3.0, 0.0, 'Coconut', 'DAP'), (2.0, 3.0, 1.0, 'Coconut', 'DAP')} (3,1.0,1.0)\n",
      "{(2.0, 3.0, 0.0, 'Coconut', 'DAP'), (2.0, 3.0, 1.0, 'Coconut', 'DAP')} -> {(1.0, 3.0, 1.0, 'Coconut', 'DAP')} (3,1.0,1.0)\n",
      "{(2.0, 3.0, 0.0, 'Coconut', 'DAP'), (1.0, 3.0, 1.0, 'Coconut', 'DAP')} -> {(2.0, 3.0, 1.0, 'Coconut', 'DAP')} (3,1.0,1.0)\n",
      "{(0.0, 0.0, 3.0, 'rice', 'DAP')} -> {(1.0, 0.0, 2.0, 'rice', 'MOP'), (1.0, 0.0, 1.0, 'rice', 'DAP'), (1.0, 0.0, 2.0, 'rice', 'Urea')} (3,1.0,1.0)\n",
      "{(1.0, 0.0, 1.0, 'rice', 'DAP')} -> {(0.0, 0.0, 3.0, 'rice', 'DAP'), (1.0, 0.0, 2.0, 'rice', 'Urea'), (1.0, 0.0, 2.0, 'rice', 'MOP')} (3,1.0,1.0)\n",
      "{(1.0, 0.0, 2.0, 'rice', 'MOP')} -> {(0.0, 0.0, 3.0, 'rice', 'DAP'), (1.0, 0.0, 1.0, 'rice', 'DAP'), (1.0, 0.0, 2.0, 'rice', 'Urea')} (3,1.0,1.0)\n",
      "{(1.0, 0.0, 2.0, 'rice', 'Urea')} -> {(0.0, 0.0, 3.0, 'rice', 'DAP'), (1.0, 0.0, 1.0, 'rice', 'DAP'), (1.0, 0.0, 2.0, 'rice', 'MOP')} (3,1.0,1.0)\n",
      "{(0.0, 0.0, 3.0, 'rice', 'DAP'), (1.0, 0.0, 1.0, 'rice', 'DAP')} -> {(1.0, 0.0, 2.0, 'rice', 'MOP'), (1.0, 0.0, 2.0, 'rice', 'Urea')} (3,1.0,1.0)\n",
      "{(0.0, 0.0, 3.0, 'rice', 'DAP'), (1.0, 0.0, 2.0, 'rice', 'MOP')} -> {(1.0, 0.0, 1.0, 'rice', 'DAP'), (1.0, 0.0, 2.0, 'rice', 'Urea')} (3,1.0,1.0)\n",
      "{(0.0, 0.0, 3.0, 'rice', 'DAP'), (1.0, 0.0, 2.0, 'rice', 'Urea')} -> {(1.0, 0.0, 2.0, 'rice', 'MOP'), (1.0, 0.0, 1.0, 'rice', 'DAP')} (3,1.0,1.0)\n",
      "{(1.0, 0.0, 2.0, 'rice', 'MOP'), (1.0, 0.0, 1.0, 'rice', 'DAP')} -> {(0.0, 0.0, 3.0, 'rice', 'DAP'), (1.0, 0.0, 2.0, 'rice', 'Urea')} (3,1.0,1.0)\n",
      "{(1.0, 0.0, 1.0, 'rice', 'DAP'), (1.0, 0.0, 2.0, 'rice', 'Urea')} -> {(0.0, 0.0, 3.0, 'rice', 'DAP'), (1.0, 0.0, 2.0, 'rice', 'MOP')} (3,1.0,1.0)\n",
      "{(1.0, 0.0, 2.0, 'rice', 'MOP'), (1.0, 0.0, 2.0, 'rice', 'Urea')} -> {(0.0, 0.0, 3.0, 'rice', 'DAP'), (1.0, 0.0, 1.0, 'rice', 'DAP')} (3,1.0,1.0)\n",
      "{(0.0, 0.0, 3.0, 'rice', 'DAP'), (1.0, 0.0, 1.0, 'rice', 'DAP'), (1.0, 0.0, 2.0, 'rice', 'MOP')} -> {(1.0, 0.0, 2.0, 'rice', 'Urea')} (3,1.0,1.0)\n",
      "{(0.0, 0.0, 3.0, 'rice', 'DAP'), (1.0, 0.0, 1.0, 'rice', 'DAP'), (1.0, 0.0, 2.0, 'rice', 'Urea')} -> {(1.0, 0.0, 2.0, 'rice', 'MOP')} (3,1.0,1.0)\n",
      "{(0.0, 0.0, 3.0, 'rice', 'DAP'), (1.0, 0.0, 2.0, 'rice', 'Urea'), (1.0, 0.0, 2.0, 'rice', 'MOP')} -> {(1.0, 0.0, 1.0, 'rice', 'DAP')} (3,1.0,1.0)\n",
      "{(1.0, 0.0, 2.0, 'rice', 'MOP'), (1.0, 0.0, 1.0, 'rice', 'DAP'), (1.0, 0.0, 2.0, 'rice', 'Urea')} -> {(0.0, 0.0, 3.0, 'rice', 'DAP')} (3,1.0,1.0)\n",
      "{(2.0, 3.0, 1.0, 'Coconut', 'DAP')} -> {(2.0, 3.0, 0.0, 'Coconut', 'DAP'), (1.0, 2.0, 0.0, 'Coconut', 'Urea'), (1.0, 3.0, 1.0, 'Coconut', 'DAP')} (3,1.0,1.0)\n",
      "{(1.0, 3.0, 1.0, 'Coconut', 'DAP')} -> {(2.0, 3.0, 0.0, 'Coconut', 'DAP'), (2.0, 3.0, 1.0, 'Coconut', 'DAP'), (1.0, 2.0, 0.0, 'Coconut', 'Urea')} (3,1.0,1.0)\n",
      "{(2.0, 3.0, 0.0, 'Coconut', 'DAP'), (2.0, 3.0, 1.0, 'Coconut', 'DAP')} -> {(1.0, 2.0, 0.0, 'Coconut', 'Urea'), (1.0, 3.0, 1.0, 'Coconut', 'DAP')} (3,1.0,1.0)\n",
      "{(2.0, 3.0, 0.0, 'Coconut', 'DAP'), (1.0, 3.0, 1.0, 'Coconut', 'DAP')} -> {(2.0, 3.0, 1.0, 'Coconut', 'DAP'), (1.0, 2.0, 0.0, 'Coconut', 'Urea')} (3,1.0,1.0)\n",
      "{(2.0, 3.0, 1.0, 'Coconut', 'DAP'), (1.0, 2.0, 0.0, 'Coconut', 'Urea')} -> {(2.0, 3.0, 0.0, 'Coconut', 'DAP'), (1.0, 3.0, 1.0, 'Coconut', 'DAP')} (3,1.0,1.0)\n",
      "{(1.0, 2.0, 0.0, 'Coconut', 'Urea'), (1.0, 3.0, 1.0, 'Coconut', 'DAP')} -> {(2.0, 3.0, 0.0, 'Coconut', 'DAP'), (2.0, 3.0, 1.0, 'Coconut', 'DAP')} (3,1.0,1.0)\n",
      "{(2.0, 3.0, 0.0, 'Coconut', 'DAP'), (2.0, 3.0, 1.0, 'Coconut', 'DAP'), (1.0, 2.0, 0.0, 'Coconut', 'Urea')} -> {(1.0, 3.0, 1.0, 'Coconut', 'DAP')} (3,1.0,1.0)\n",
      "{(2.0, 3.0, 0.0, 'Coconut', 'DAP'), (1.0, 2.0, 0.0, 'Coconut', 'Urea'), (1.0, 3.0, 1.0, 'Coconut', 'DAP')} -> {(2.0, 3.0, 1.0, 'Coconut', 'DAP')} (3,1.0,1.0)\n",
      "{(0.0, 0.0, 3.0, 'rice', 'DAP')} -> {(1.0, 0.0, 2.0, 'rice', 'MOP'), (0.0, 0.0, 2.0, 'rice', 'Urea')} (3,1.0,1.0)\n",
      "{(1.0, 0.0, 2.0, 'rice', 'MOP')} -> {(0.0, 0.0, 3.0, 'rice', 'DAP'), (0.0, 0.0, 2.0, 'rice', 'Urea')} (3,1.0,1.0)\n",
      "{(0.0, 0.0, 2.0, 'rice', 'Urea')} -> {(0.0, 0.0, 3.0, 'rice', 'DAP'), (1.0, 0.0, 2.0, 'rice', 'MOP')} (3,1.0,1.0)\n",
      "{(0.0, 0.0, 3.0, 'rice', 'DAP'), (1.0, 0.0, 2.0, 'rice', 'MOP')} -> {(0.0, 0.0, 2.0, 'rice', 'Urea')} (3,1.0,1.0)\n",
      "{(0.0, 0.0, 3.0, 'rice', 'DAP'), (0.0, 0.0, 2.0, 'rice', 'Urea')} -> {(1.0, 0.0, 2.0, 'rice', 'MOP')} (3,1.0,1.0)\n",
      "{(1.0, 0.0, 2.0, 'rice', 'MOP'), (0.0, 0.0, 2.0, 'rice', 'Urea')} -> {(0.0, 0.0, 3.0, 'rice', 'DAP')} (3,1.0,1.0)\n",
      "{(0.0, 0.0, 3.0, 'rice', 'DAP')} -> {(0.0, 0.0, 2.0, 'rice', 'Urea'), (1.0, 0.0, 1.0, 'rice', 'MOP')} (3,1.0,1.0)\n",
      "{(1.0, 0.0, 1.0, 'rice', 'MOP')} -> {(0.0, 0.0, 3.0, 'rice', 'DAP'), (0.0, 0.0, 2.0, 'rice', 'Urea')} (3,1.0,1.0)\n",
      "{(0.0, 0.0, 2.0, 'rice', 'Urea')} -> {(0.0, 0.0, 3.0, 'rice', 'DAP'), (1.0, 0.0, 1.0, 'rice', 'MOP')} (3,1.0,1.0)\n",
      "{(0.0, 0.0, 3.0, 'rice', 'DAP'), (1.0, 0.0, 1.0, 'rice', 'MOP')} -> {(0.0, 0.0, 2.0, 'rice', 'Urea')} (3,1.0,1.0)\n",
      "{(0.0, 0.0, 3.0, 'rice', 'DAP'), (0.0, 0.0, 2.0, 'rice', 'Urea')} -> {(1.0, 0.0, 1.0, 'rice', 'MOP')} (3,1.0,1.0)\n",
      "{(0.0, 0.0, 2.0, 'rice', 'Urea'), (1.0, 0.0, 1.0, 'rice', 'MOP')} -> {(0.0, 0.0, 3.0, 'rice', 'DAP')} (3,1.0,1.0)\n",
      "{(2.0, 3.0, 1.0, 'Coconut', 'MOP')} -> {(2.0, 3.0, 0.0, 'Coconut', 'Urea'), (2.0, 3.0, 2.0, 'Coconut', 'MOP')} (3,1.0,1.0)\n",
      "{(2.0, 3.0, 2.0, 'Coconut', 'MOP')} -> {(2.0, 3.0, 1.0, 'Coconut', 'MOP'), (2.0, 3.0, 0.0, 'Coconut', 'Urea')} (3,1.0,1.0)\n",
      "{(2.0, 3.0, 1.0, 'Coconut', 'MOP'), (2.0, 3.0, 0.0, 'Coconut', 'Urea')} -> {(2.0, 3.0, 2.0, 'Coconut', 'MOP')} (3,1.0,1.0)\n",
      "{(2.0, 3.0, 0.0, 'Coconut', 'Urea'), (2.0, 3.0, 2.0, 'Coconut', 'MOP')} -> {(2.0, 3.0, 1.0, 'Coconut', 'MOP')} (3,1.0,1.0)\n",
      "{(2.0, 3.0, 1.0, 'Coconut', 'DAP')} -> {(1.0, 2.0, 0.0, 'Coconut', 'Urea'), (1.0, 3.0, 1.0, 'Coconut', 'DAP')} (3,1.0,1.0)\n",
      "{(1.0, 3.0, 1.0, 'Coconut', 'DAP')} -> {(2.0, 3.0, 1.0, 'Coconut', 'DAP'), (1.0, 2.0, 0.0, 'Coconut', 'Urea')} (3,1.0,1.0)\n",
      "{(2.0, 3.0, 1.0, 'Coconut', 'DAP'), (1.0, 2.0, 0.0, 'Coconut', 'Urea')} -> {(1.0, 3.0, 1.0, 'Coconut', 'DAP')} (3,1.0,1.0)\n",
      "{(1.0, 2.0, 0.0, 'Coconut', 'Urea'), (1.0, 3.0, 1.0, 'Coconut', 'DAP')} -> {(2.0, 3.0, 1.0, 'Coconut', 'DAP')} (3,1.0,1.0)\n",
      "{(0.0, 0.0, 3.0, 'rice', 'DAP')} -> {(1.0, 0.0, 2.0, 'rice', 'MOP'), (1.0, 0.0, 1.0, 'rice', 'MOP')} (3,1.0,1.0)\n",
      "{(1.0, 0.0, 2.0, 'rice', 'MOP')} -> {(0.0, 0.0, 3.0, 'rice', 'DAP'), (1.0, 0.0, 1.0, 'rice', 'MOP')} (3,1.0,1.0)\n",
      "{(1.0, 0.0, 1.0, 'rice', 'MOP')} -> {(0.0, 0.0, 3.0, 'rice', 'DAP'), (1.0, 0.0, 2.0, 'rice', 'MOP')} (3,1.0,1.0)\n",
      "{(0.0, 0.0, 3.0, 'rice', 'DAP'), (1.0, 0.0, 2.0, 'rice', 'MOP')} -> {(1.0, 0.0, 1.0, 'rice', 'MOP')} (3,1.0,1.0)\n",
      "{(0.0, 0.0, 3.0, 'rice', 'DAP'), (1.0, 0.0, 1.0, 'rice', 'MOP')} -> {(1.0, 0.0, 2.0, 'rice', 'MOP')} (3,1.0,1.0)\n",
      "{(1.0, 0.0, 2.0, 'rice', 'MOP'), (1.0, 0.0, 1.0, 'rice', 'MOP')} -> {(0.0, 0.0, 3.0, 'rice', 'DAP')} (3,1.0,1.0)\n",
      "{(2.0, 2.0, 0.0, 'Coconut', 'Urea')} -> {(1.0, 2.0, 0.0, 'Coconut', 'Urea'), (1.0, 0.0, 1.0, 'Coconut', 'Urea')} (3,1.0,1.0)\n",
      "{(1.0, 0.0, 1.0, 'Coconut', 'Urea')} -> {(1.0, 2.0, 0.0, 'Coconut', 'Urea'), (2.0, 2.0, 0.0, 'Coconut', 'Urea')} (3,1.0,1.0)\n",
      "{(1.0, 2.0, 0.0, 'Coconut', 'Urea'), (2.0, 2.0, 0.0, 'Coconut', 'Urea')} -> {(1.0, 0.0, 1.0, 'Coconut', 'Urea')} (3,1.0,1.0)\n",
      "{(1.0, 2.0, 0.0, 'Coconut', 'Urea'), (1.0, 0.0, 1.0, 'Coconut', 'Urea')} -> {(2.0, 2.0, 0.0, 'Coconut', 'Urea')} (3,1.0,1.0)\n",
      "{(1.0, 2.0, 0.0, 'Coconut', 'MOP')} -> {(1.0, 2.0, 0.0, 'Coconut', 'Urea'), (2.0, 2.0, 0.0, 'Coconut', 'Urea')} (3,1.0,1.0)\n",
      "{(2.0, 2.0, 0.0, 'Coconut', 'Urea')} -> {(1.0, 2.0, 0.0, 'Coconut', 'MOP'), (1.0, 2.0, 0.0, 'Coconut', 'Urea')} (3,1.0,1.0)\n",
      "{(1.0, 2.0, 0.0, 'Coconut', 'MOP'), (1.0, 2.0, 0.0, 'Coconut', 'Urea')} -> {(2.0, 2.0, 0.0, 'Coconut', 'Urea')} (3,1.0,1.0)\n",
      "{(1.0, 2.0, 0.0, 'Coconut', 'Urea'), (2.0, 2.0, 0.0, 'Coconut', 'Urea')} -> {(1.0, 2.0, 0.0, 'Coconut', 'MOP')} (3,1.0,1.0)\n",
      "{(2.0, 3.0, 1.0, 'Coconut', 'DAP')} -> {(1.0, 2.0, 0.0, 'Coconut', 'Urea'), (2.0, 2.0, 0.0, 'Coconut', 'Good NPK')} (3,1.0,1.0)\n",
      "{(2.0, 2.0, 0.0, 'Coconut', 'Good NPK')} -> {(2.0, 3.0, 1.0, 'Coconut', 'DAP'), (1.0, 2.0, 0.0, 'Coconut', 'Urea')} (3,1.0,1.0)\n",
      "{(2.0, 3.0, 1.0, 'Coconut', 'DAP'), (1.0, 2.0, 0.0, 'Coconut', 'Urea')} -> {(2.0, 2.0, 0.0, 'Coconut', 'Good NPK')} (3,1.0,1.0)\n",
      "{(1.0, 2.0, 0.0, 'Coconut', 'Urea'), (2.0, 2.0, 0.0, 'Coconut', 'Good NPK')} -> {(2.0, 3.0, 1.0, 'Coconut', 'DAP')} (3,1.0,1.0)\n",
      "{(1.0, 0.0, 1.0, 'Coconut', 'MOP')} -> {(2.0, 3.0, 0.0, 'Coconut', 'DAP'), (1.0, 2.0, 0.0, 'Coconut', 'Urea'), (1.0, 0.0, 1.0, 'Coconut', 'Urea')} (3,1.0,1.0)\n",
      "{(1.0, 0.0, 1.0, 'Coconut', 'Urea')} -> {(2.0, 3.0, 0.0, 'Coconut', 'DAP'), (1.0, 2.0, 0.0, 'Coconut', 'Urea'), (1.0, 0.0, 1.0, 'Coconut', 'MOP')} (3,1.0,1.0)\n",
      "{(2.0, 3.0, 0.0, 'Coconut', 'DAP'), (1.0, 0.0, 1.0, 'Coconut', 'MOP')} -> {(1.0, 2.0, 0.0, 'Coconut', 'Urea'), (1.0, 0.0, 1.0, 'Coconut', 'Urea')} (3,1.0,1.0)\n",
      "{(2.0, 3.0, 0.0, 'Coconut', 'DAP'), (1.0, 0.0, 1.0, 'Coconut', 'Urea')} -> {(1.0, 2.0, 0.0, 'Coconut', 'Urea'), (1.0, 0.0, 1.0, 'Coconut', 'MOP')} (3,1.0,1.0)\n",
      "{(1.0, 2.0, 0.0, 'Coconut', 'Urea'), (1.0, 0.0, 1.0, 'Coconut', 'MOP')} -> {(2.0, 3.0, 0.0, 'Coconut', 'DAP'), (1.0, 0.0, 1.0, 'Coconut', 'Urea')} (3,1.0,1.0)\n",
      "{(1.0, 2.0, 0.0, 'Coconut', 'Urea'), (1.0, 0.0, 1.0, 'Coconut', 'Urea')} -> {(2.0, 3.0, 0.0, 'Coconut', 'DAP'), (1.0, 0.0, 1.0, 'Coconut', 'MOP')} (3,1.0,1.0)\n",
      "{(2.0, 3.0, 0.0, 'Coconut', 'DAP'), (1.0, 2.0, 0.0, 'Coconut', 'Urea'), (1.0, 0.0, 1.0, 'Coconut', 'MOP')} -> {(1.0, 0.0, 1.0, 'Coconut', 'Urea')} (3,1.0,1.0)\n",
      "{(2.0, 3.0, 0.0, 'Coconut', 'DAP'), (1.0, 2.0, 0.0, 'Coconut', 'Urea'), (1.0, 0.0, 1.0, 'Coconut', 'Urea')} -> {(1.0, 0.0, 1.0, 'Coconut', 'MOP')} (3,1.0,1.0)\n",
      "{(2.0, 2.0, 0.0, 'Coconut', 'Urea')} -> {(2.0, 3.0, 0.0, 'Coconut', 'DAP'), (1.0, 2.0, 0.0, 'Coconut', 'Urea'), (1.0, 0.0, 1.0, 'Coconut', 'Urea')} (3,1.0,1.0)\n",
      "{(1.0, 0.0, 1.0, 'Coconut', 'Urea')} -> {(2.0, 3.0, 0.0, 'Coconut', 'DAP'), (1.0, 2.0, 0.0, 'Coconut', 'Urea'), (2.0, 2.0, 0.0, 'Coconut', 'Urea')} (3,1.0,1.0)\n",
      "{(2.0, 3.0, 0.0, 'Coconut', 'DAP'), (2.0, 2.0, 0.0, 'Coconut', 'Urea')} -> {(1.0, 2.0, 0.0, 'Coconut', 'Urea'), (1.0, 0.0, 1.0, 'Coconut', 'Urea')} (3,1.0,1.0)\n",
      "{(2.0, 3.0, 0.0, 'Coconut', 'DAP'), (1.0, 0.0, 1.0, 'Coconut', 'Urea')} -> {(1.0, 2.0, 0.0, 'Coconut', 'Urea'), (2.0, 2.0, 0.0, 'Coconut', 'Urea')} (3,1.0,1.0)\n",
      "{(1.0, 2.0, 0.0, 'Coconut', 'Urea'), (2.0, 2.0, 0.0, 'Coconut', 'Urea')} -> {(2.0, 3.0, 0.0, 'Coconut', 'DAP'), (1.0, 0.0, 1.0, 'Coconut', 'Urea')} (3,1.0,1.0)\n",
      "{(1.0, 2.0, 0.0, 'Coconut', 'Urea'), (1.0, 0.0, 1.0, 'Coconut', 'Urea')} -> {(2.0, 3.0, 0.0, 'Coconut', 'DAP'), (2.0, 2.0, 0.0, 'Coconut', 'Urea')} (3,1.0,1.0)\n",
      "{(2.0, 3.0, 0.0, 'Coconut', 'DAP'), (1.0, 2.0, 0.0, 'Coconut', 'Urea'), (2.0, 2.0, 0.0, 'Coconut', 'Urea')} -> {(1.0, 0.0, 1.0, 'Coconut', 'Urea')} (3,1.0,1.0)\n",
      "{(2.0, 3.0, 0.0, 'Coconut', 'DAP'), (1.0, 2.0, 0.0, 'Coconut', 'Urea'), (1.0, 0.0, 1.0, 'Coconut', 'Urea')} -> {(2.0, 2.0, 0.0, 'Coconut', 'Urea')} (3,1.0,1.0)\n",
      "{(2.0, 3.0, 1.0, 'Coconut', 'DAP')} -> {(2.0, 3.0, 0.0, 'Coconut', 'DAP'), (1.0, 2.0, 0.0, 'Coconut', 'Urea'), (1.0, 3.0, 1.0, 'Coconut', 'DAP')} (3,1.0,1.0)\n",
      "{(1.0, 3.0, 1.0, 'Coconut', 'DAP')} -> {(2.0, 3.0, 0.0, 'Coconut', 'DAP'), (2.0, 3.0, 1.0, 'Coconut', 'DAP'), (1.0, 2.0, 0.0, 'Coconut', 'Urea')} (3,1.0,1.0)\n",
      "{(2.0, 3.0, 0.0, 'Coconut', 'DAP'), (2.0, 3.0, 1.0, 'Coconut', 'DAP')} -> {(1.0, 2.0, 0.0, 'Coconut', 'Urea'), (1.0, 3.0, 1.0, 'Coconut', 'DAP')} (3,1.0,1.0)\n",
      "{(2.0, 3.0, 0.0, 'Coconut', 'DAP'), (1.0, 3.0, 1.0, 'Coconut', 'DAP')} -> {(2.0, 3.0, 1.0, 'Coconut', 'DAP'), (1.0, 2.0, 0.0, 'Coconut', 'Urea')} (3,1.0,1.0)\n",
      "{(2.0, 3.0, 1.0, 'Coconut', 'DAP'), (1.0, 2.0, 0.0, 'Coconut', 'Urea')} -> {(2.0, 3.0, 0.0, 'Coconut', 'DAP'), (1.0, 3.0, 1.0, 'Coconut', 'DAP')} (3,1.0,1.0)\n",
      "{(1.0, 2.0, 0.0, 'Coconut', 'Urea'), (1.0, 3.0, 1.0, 'Coconut', 'DAP')} -> {(2.0, 3.0, 0.0, 'Coconut', 'DAP'), (2.0, 3.0, 1.0, 'Coconut', 'DAP')} (3,1.0,1.0)\n",
      "{(2.0, 3.0, 0.0, 'Coconut', 'DAP'), (2.0, 3.0, 1.0, 'Coconut', 'DAP'), (1.0, 2.0, 0.0, 'Coconut', 'Urea')} -> {(1.0, 3.0, 1.0, 'Coconut', 'DAP')} (3,1.0,1.0)\n",
      "{(2.0, 3.0, 0.0, 'Coconut', 'DAP'), (1.0, 2.0, 0.0, 'Coconut', 'Urea'), (1.0, 3.0, 1.0, 'Coconut', 'DAP')} -> {(2.0, 3.0, 1.0, 'Coconut', 'DAP')} (3,1.0,1.0)\n",
      "{(2.0, 3.0, 1.0, 'Coconut', 'DAP')} -> {(2.0, 3.0, 0.0, 'Coconut', 'DAP'), (1.0, 2.0, 0.0, 'Coconut', 'Urea'), (2.0, 2.0, 0.0, 'Coconut', 'Good NPK')} (3,1.0,1.0)\n",
      "{(2.0, 2.0, 0.0, 'Coconut', 'Good NPK')} -> {(2.0, 3.0, 0.0, 'Coconut', 'DAP'), (2.0, 3.0, 1.0, 'Coconut', 'DAP'), (1.0, 2.0, 0.0, 'Coconut', 'Urea')} (3,1.0,1.0)\n",
      "{(2.0, 3.0, 0.0, 'Coconut', 'DAP'), (2.0, 3.0, 1.0, 'Coconut', 'DAP')} -> {(1.0, 2.0, 0.0, 'Coconut', 'Urea'), (2.0, 2.0, 0.0, 'Coconut', 'Good NPK')} (3,1.0,1.0)\n",
      "{(2.0, 3.0, 0.0, 'Coconut', 'DAP'), (2.0, 2.0, 0.0, 'Coconut', 'Good NPK')} -> {(2.0, 3.0, 1.0, 'Coconut', 'DAP'), (1.0, 2.0, 0.0, 'Coconut', 'Urea')} (3,1.0,1.0)\n",
      "{(2.0, 3.0, 1.0, 'Coconut', 'DAP'), (1.0, 2.0, 0.0, 'Coconut', 'Urea')} -> {(2.0, 3.0, 0.0, 'Coconut', 'DAP'), (2.0, 2.0, 0.0, 'Coconut', 'Good NPK')} (3,1.0,1.0)\n",
      "{(1.0, 2.0, 0.0, 'Coconut', 'Urea'), (2.0, 2.0, 0.0, 'Coconut', 'Good NPK')} -> {(2.0, 3.0, 0.0, 'Coconut', 'DAP'), (2.0, 3.0, 1.0, 'Coconut', 'DAP')} (3,1.0,1.0)\n",
      "{(2.0, 3.0, 0.0, 'Coconut', 'DAP'), (2.0, 3.0, 1.0, 'Coconut', 'DAP'), (1.0, 2.0, 0.0, 'Coconut', 'Urea')} -> {(2.0, 2.0, 0.0, 'Coconut', 'Good NPK')} (3,1.0,1.0)\n",
      "{(2.0, 3.0, 0.0, 'Coconut', 'DAP'), (1.0, 2.0, 0.0, 'Coconut', 'Urea'), (2.0, 2.0, 0.0, 'Coconut', 'Good NPK')} -> {(2.0, 3.0, 1.0, 'Coconut', 'DAP')} (3,1.0,1.0)\n"
     ]
    }
   ],
   "source": [
    "strong_association_rules=cosine_metric(association_rules,dataitems)\n",
    "afficher_rules(strong_association_rules)"
   ]
  },
  {
   "cell_type": "markdown",
   "metadata": {},
   "source": [
    "Calcul Jaccard"
   ]
  },
  {
   "cell_type": "code",
   "execution_count": 87,
   "metadata": {},
   "outputs": [],
   "source": [
    "def jaccard_metric(association_rules, dataitems):\n",
    "    forte_rules=[]\n",
    "    for i in range(len(association_rules)):\n",
    "        rule=association_rules[i]\n",
    "        item1,item2,support,confiance=rule\n",
    "        P_A_B = 0\n",
    "        P_A = 0\n",
    "        P_B = 0\n",
    "        for index, row in dataitems.iterrows():\n",
    "            if all(i in row['Items'] for i in item1) and all(i in row['Items'] for i in item2):\n",
    "                P_A_B += 1\n",
    "            if all(i in row['Items'] for i in item1):\n",
    "                P_A += 1\n",
    "            if all(i in row['Items'] for i in item2):\n",
    "                P_B += 1\n",
    "        jaccard=round((P_A_B / (P_A + P_B - P_A_B)),2)\n",
    "        forte_rules.append((rule,jaccard))\n",
    "\n",
    "    sorted(forte_rules, key=lambda x: x[1], reverse=True) # Sort forte_rules\n",
    "    max_jaccard=max(forte_rules, key=lambda x: x[1])[1]\n",
    "    forte_rules=[(rule,jaccard) for rule,jaccard in forte_rules if jaccard==max_jaccard]\n",
    "    return forte_rules"
   ]
  },
  {
   "cell_type": "code",
   "execution_count": 89,
   "metadata": {},
   "outputs": [
    {
     "name": "stdout",
     "output_type": "stream",
     "text": [
      "{(1.0, 0.0, 2.0, 'rice', 'DAP')} -> {(0.0, 0.0, 3.0, 'rice', 'DAP')} (3,1.0,1.0)\n",
      "{(0.0, 0.0, 3.0, 'rice', 'DAP')} -> {(1.0, 0.0, 2.0, 'rice', 'DAP')} (3,1.0,1.0)\n",
      "{(1.0, 2.0, 0.0, 'Coconut', 'MOP')} -> {(1.0, 0.0, 1.0, 'Coconut', 'Urea')} (3,1.0,1.0)\n",
      "{(1.0, 0.0, 1.0, 'Coconut', 'Urea')} -> {(1.0, 2.0, 0.0, 'Coconut', 'MOP')} (3,1.0,1.0)\n",
      "{(1.0, 0.0, 1.0, 'rice', 'DAP')} -> {(1.0, 0.0, 1.0, 'rice', 'MOP')} (3,1.0,1.0)\n",
      "{(1.0, 0.0, 1.0, 'rice', 'MOP')} -> {(1.0, 0.0, 1.0, 'rice', 'DAP')} (3,1.0,1.0)\n",
      "{(2.0, 3.0, 0.0, 'Coconut', 'DAP')} -> {(2.0, 3.0, 0.0, 'Coconut', 'Urea')} (4,1.0,1.0)\n",
      "{(2.0, 3.0, 0.0, 'Coconut', 'Urea')} -> {(2.0, 3.0, 0.0, 'Coconut', 'DAP')} (4,1.0,1.0)\n",
      "{(1.0, 0.0, 1.0, 'rice', 'Good NPK')} -> {(1.0, 0.0, 1.0, 'rice', 'MOP')} (3,1.0,1.0)\n",
      "{(1.0, 0.0, 1.0, 'rice', 'MOP')} -> {(1.0, 0.0, 1.0, 'rice', 'Good NPK')} (3,1.0,1.0)\n",
      "{(2.0, 3.0, 0.0, 'Coconut', 'MOP')} -> {(1.0, 3.0, 1.0, 'Coconut', 'DAP')} (3,1.0,1.0)\n",
      "{(1.0, 3.0, 1.0, 'Coconut', 'DAP')} -> {(2.0, 3.0, 0.0, 'Coconut', 'MOP')} (3,1.0,1.0)\n",
      "{(1.0, 2.0, 0.0, 'Coconut', 'Urea')} -> {(2.0, 3.0, 0.0, 'Coconut', 'Urea')} (4,1.0,1.0)\n",
      "{(2.0, 3.0, 0.0, 'Coconut', 'Urea')} -> {(1.0, 2.0, 0.0, 'Coconut', 'Urea')} (4,1.0,1.0)\n",
      "{(2.0, 3.0, 1.0, 'Coconut', 'Urea')} -> {(1.0, 3.0, 1.0, 'Coconut', 'DAP')} (3,1.0,1.0)\n",
      "{(1.0, 3.0, 1.0, 'Coconut', 'DAP')} -> {(2.0, 3.0, 1.0, 'Coconut', 'Urea')} (3,1.0,1.0)\n",
      "{(1.0, 0.0, 1.0, 'rice', 'Good NPK')} -> {(1.0, 0.0, 1.0, 'rice', 'DAP')} (3,1.0,1.0)\n",
      "{(1.0, 0.0, 1.0, 'rice', 'DAP')} -> {(1.0, 0.0, 1.0, 'rice', 'Good NPK')} (3,1.0,1.0)\n",
      "{(0.0, 0.0, 2.0, 'rice', 'Urea')} -> {(1.0, 0.0, 2.0, 'rice', 'Urea')} (3,1.0,1.0)\n",
      "{(1.0, 0.0, 2.0, 'rice', 'Urea')} -> {(0.0, 0.0, 2.0, 'rice', 'Urea')} (3,1.0,1.0)\n",
      "{(1.0, 0.0, 2.0, 'rice', 'MOP')} -> {(1.0, 0.0, 2.0, 'rice', 'Urea')} (3,1.0,1.0)\n",
      "{(1.0, 0.0, 2.0, 'rice', 'Urea')} -> {(1.0, 0.0, 2.0, 'rice', 'MOP')} (3,1.0,1.0)\n",
      "{(0.0, 0.0, 3.0, 'rice', 'DAP')} -> {(1.0, 0.0, 1.0, 'rice', 'DAP')} (3,1.0,1.0)\n",
      "{(1.0, 0.0, 1.0, 'rice', 'DAP')} -> {(0.0, 0.0, 3.0, 'rice', 'DAP')} (3,1.0,1.0)\n",
      "{(1.0, 0.0, 2.0, 'rice', 'MOP')} -> {(0.0, 0.0, 2.0, 'rice', 'Urea')} (3,1.0,1.0)\n",
      "{(0.0, 0.0, 2.0, 'rice', 'Urea')} -> {(1.0, 0.0, 2.0, 'rice', 'MOP')} (3,1.0,1.0)\n",
      "{(1.0, 0.0, 2.0, 'rice', 'DAP')} -> {(1.0, 0.0, 1.0, 'rice', 'MOP')} (3,1.0,1.0)\n",
      "{(1.0, 0.0, 1.0, 'rice', 'MOP')} -> {(1.0, 0.0, 2.0, 'rice', 'DAP')} (3,1.0,1.0)\n",
      "{(1.0, 2.0, 0.0, 'Coconut', 'MOP')} -> {(1.0, 0.0, 1.0, 'Coconut', 'MOP')} (3,1.0,1.0)\n",
      "{(1.0, 0.0, 1.0, 'Coconut', 'MOP')} -> {(1.0, 2.0, 0.0, 'Coconut', 'MOP')} (3,1.0,1.0)\n",
      "{(1.0, 0.0, 3.0, 'rice', 'Urea')} -> {(0.0, 0.0, 3.0, 'rice', 'DAP')} (3,1.0,1.0)\n",
      "{(0.0, 0.0, 3.0, 'rice', 'DAP')} -> {(1.0, 0.0, 3.0, 'rice', 'Urea')} (3,1.0,1.0)\n",
      "{(1.0, 0.0, 2.0, 'rice', 'DAP')} -> {(1.0, 0.0, 1.0, 'rice', 'DAP')} (3,1.0,1.0)\n",
      "{(1.0, 0.0, 1.0, 'rice', 'DAP')} -> {(1.0, 0.0, 2.0, 'rice', 'DAP')} (3,1.0,1.0)\n",
      "{(0.0, 0.0, 3.0, 'rice', 'DAP')} -> {(1.0, 0.0, 1.0, 'rice', 'Good NPK')} (3,1.0,1.0)\n",
      "{(1.0, 0.0, 1.0, 'rice', 'Good NPK')} -> {(0.0, 0.0, 3.0, 'rice', 'DAP')} (3,1.0,1.0)\n",
      "{(2.0, 3.0, 1.0, 'Coconut', 'DAP')} -> {(2.0, 2.0, 0.0, 'Coconut', 'Good NPK')} (3,1.0,1.0)\n",
      "{(2.0, 2.0, 0.0, 'Coconut', 'Good NPK')} -> {(2.0, 3.0, 1.0, 'Coconut', 'DAP')} (3,1.0,1.0)\n",
      "{(1.0, 0.0, 1.0, 'rice', 'DAP')} -> {(1.0, 0.0, 2.0, 'rice', 'Urea')} (3,1.0,1.0)\n",
      "{(1.0, 0.0, 2.0, 'rice', 'Urea')} -> {(1.0, 0.0, 1.0, 'rice', 'DAP')} (3,1.0,1.0)\n",
      "{(1.0, 0.0, 1.0, 'rice', 'DAP')} -> {(0.0, 0.0, 2.0, 'rice', 'Urea')} (3,1.0,1.0)\n",
      "{(0.0, 0.0, 2.0, 'rice', 'Urea')} -> {(1.0, 0.0, 1.0, 'rice', 'DAP')} (3,1.0,1.0)\n",
      "{(1.0, 0.0, 1.0, 'rice', 'Good NPK')} -> {(1.0, 0.0, 2.0, 'rice', 'Urea')} (3,1.0,1.0)\n",
      "{(1.0, 0.0, 2.0, 'rice', 'Urea')} -> {(1.0, 0.0, 1.0, 'rice', 'Good NPK')} (3,1.0,1.0)\n",
      "{(1.0, 0.0, 1.0, 'rice', 'Good NPK')} -> {(0.0, 0.0, 2.0, 'rice', 'Urea')} (3,1.0,1.0)\n",
      "{(0.0, 0.0, 2.0, 'rice', 'Urea')} -> {(1.0, 0.0, 1.0, 'rice', 'Good NPK')} (3,1.0,1.0)\n",
      "{(0.0, 0.0, 3.0, 'rice', 'DAP')} -> {(1.0, 0.0, 2.0, 'rice', 'Urea')} (3,1.0,1.0)\n",
      "{(1.0, 0.0, 2.0, 'rice', 'Urea')} -> {(0.0, 0.0, 3.0, 'rice', 'DAP')} (3,1.0,1.0)\n",
      "{(1.0, 0.0, 1.0, 'Coconut', 'MOP')} -> {(2.0, 2.0, 0.0, 'Coconut', 'Urea')} (3,1.0,1.0)\n",
      "{(2.0, 2.0, 0.0, 'Coconut', 'Urea')} -> {(1.0, 0.0, 1.0, 'Coconut', 'MOP')} (3,1.0,1.0)\n",
      "{(1.0, 0.0, 2.0, 'rice', 'DAP')} -> {(1.0, 0.0, 1.0, 'rice', 'Good NPK')} (3,1.0,1.0)\n",
      "{(1.0, 0.0, 1.0, 'rice', 'Good NPK')} -> {(1.0, 0.0, 2.0, 'rice', 'DAP')} (3,1.0,1.0)\n",
      "{(0.0, 0.0, 3.0, 'rice', 'DAP')} -> {(0.0, 0.0, 2.0, 'rice', 'Urea')} (3,1.0,1.0)\n",
      "{(0.0, 0.0, 2.0, 'rice', 'Urea')} -> {(0.0, 0.0, 3.0, 'rice', 'DAP')} (3,1.0,1.0)\n",
      "{(2.0, 3.0, 1.0, 'Coconut', 'MOP')} -> {(2.0, 3.0, 2.0, 'Coconut', 'MOP')} (3,1.0,1.0)\n",
      "{(2.0, 3.0, 2.0, 'Coconut', 'MOP')} -> {(2.0, 3.0, 1.0, 'Coconut', 'MOP')} (3,1.0,1.0)\n",
      "{(2.0, 3.0, 0.0, 'Coconut', 'MOP')} -> {(2.0, 3.0, 1.0, 'Coconut', 'Urea')} (3,1.0,1.0)\n",
      "{(2.0, 3.0, 1.0, 'Coconut', 'Urea')} -> {(2.0, 3.0, 0.0, 'Coconut', 'MOP')} (3,1.0,1.0)\n",
      "{(1.0, 0.0, 3.0, 'rice', 'Urea')} -> {(1.0, 0.0, 1.0, 'rice', 'MOP')} (3,1.0,1.0)\n",
      "{(1.0, 0.0, 1.0, 'rice', 'MOP')} -> {(1.0, 0.0, 3.0, 'rice', 'Urea')} (3,1.0,1.0)\n",
      "{(1.0, 0.0, 2.0, 'rice', 'DAP')} -> {(1.0, 0.0, 2.0, 'rice', 'Urea')} (3,1.0,1.0)\n",
      "{(1.0, 0.0, 2.0, 'rice', 'Urea')} -> {(1.0, 0.0, 2.0, 'rice', 'DAP')} (3,1.0,1.0)\n",
      "{(1.0, 0.0, 2.0, 'rice', 'DAP')} -> {(0.0, 0.0, 2.0, 'rice', 'Urea')} (3,1.0,1.0)\n",
      "{(0.0, 0.0, 2.0, 'rice', 'Urea')} -> {(1.0, 0.0, 2.0, 'rice', 'DAP')} (3,1.0,1.0)\n",
      "{(1.0, 0.0, 1.0, 'rice', 'DAP')} -> {(1.0, 0.0, 2.0, 'rice', 'MOP')} (3,1.0,1.0)\n",
      "{(1.0, 0.0, 2.0, 'rice', 'MOP')} -> {(1.0, 0.0, 1.0, 'rice', 'DAP')} (3,1.0,1.0)\n",
      "{(2.0, 3.0, 1.0, 'Coconut', 'DAP')} -> {(1.0, 3.0, 1.0, 'Coconut', 'DAP')} (3,1.0,1.0)\n",
      "{(1.0, 3.0, 1.0, 'Coconut', 'DAP')} -> {(2.0, 3.0, 1.0, 'Coconut', 'DAP')} (3,1.0,1.0)\n",
      "{(1.0, 0.0, 3.0, 'rice', 'Urea')} -> {(1.0, 0.0, 1.0, 'rice', 'DAP')} (3,1.0,1.0)\n",
      "{(1.0, 0.0, 1.0, 'rice', 'DAP')} -> {(1.0, 0.0, 3.0, 'rice', 'Urea')} (3,1.0,1.0)\n",
      "{(1.0, 0.0, 1.0, 'rice', 'Good NPK')} -> {(1.0, 0.0, 2.0, 'rice', 'MOP')} (3,1.0,1.0)\n",
      "{(1.0, 0.0, 2.0, 'rice', 'MOP')} -> {(1.0, 0.0, 1.0, 'rice', 'Good NPK')} (3,1.0,1.0)\n",
      "{(0.0, 0.0, 3.0, 'rice', 'DAP')} -> {(1.0, 0.0, 2.0, 'rice', 'MOP')} (3,1.0,1.0)\n",
      "{(1.0, 0.0, 2.0, 'rice', 'MOP')} -> {(0.0, 0.0, 3.0, 'rice', 'DAP')} (3,1.0,1.0)\n",
      "{(1.0, 3.0, 1.0, 'Coconut', 'DAP')} -> {(2.0, 2.0, 0.0, 'Coconut', 'Good NPK')} (3,1.0,1.0)\n",
      "{(2.0, 2.0, 0.0, 'Coconut', 'Good NPK')} -> {(1.0, 3.0, 1.0, 'Coconut', 'DAP')} (3,1.0,1.0)\n",
      "{(2.0, 3.0, 0.0, 'Coconut', 'MOP')} -> {(2.0, 2.0, 0.0, 'Coconut', 'Good NPK')} (3,1.0,1.0)\n",
      "{(2.0, 2.0, 0.0, 'Coconut', 'Good NPK')} -> {(2.0, 3.0, 0.0, 'Coconut', 'MOP')} (3,1.0,1.0)\n",
      "{(1.0, 0.0, 3.0, 'rice', 'Urea')} -> {(1.0, 0.0, 1.0, 'rice', 'Good NPK')} (3,1.0,1.0)\n",
      "{(1.0, 0.0, 1.0, 'rice', 'Good NPK')} -> {(1.0, 0.0, 3.0, 'rice', 'Urea')} (3,1.0,1.0)\n",
      "{(2.0, 3.0, 1.0, 'Coconut', 'Urea')} -> {(2.0, 2.0, 0.0, 'Coconut', 'Good NPK')} (3,1.0,1.0)\n",
      "{(2.0, 2.0, 0.0, 'Coconut', 'Good NPK')} -> {(2.0, 3.0, 1.0, 'Coconut', 'Urea')} (3,1.0,1.0)\n",
      "{(2.0, 2.0, 0.0, 'Coconut', 'Urea')} -> {(1.0, 0.0, 1.0, 'Coconut', 'Urea')} (3,1.0,1.0)\n",
      "{(1.0, 0.0, 1.0, 'Coconut', 'Urea')} -> {(2.0, 2.0, 0.0, 'Coconut', 'Urea')} (3,1.0,1.0)\n",
      "{(1.0, 0.0, 2.0, 'rice', 'DAP')} -> {(1.0, 0.0, 2.0, 'rice', 'MOP')} (3,1.0,1.0)\n",
      "{(1.0, 0.0, 2.0, 'rice', 'MOP')} -> {(1.0, 0.0, 2.0, 'rice', 'DAP')} (3,1.0,1.0)\n",
      "{(1.0, 0.0, 3.0, 'rice', 'Urea')} -> {(1.0, 0.0, 2.0, 'rice', 'Urea')} (3,1.0,1.0)\n",
      "{(1.0, 0.0, 2.0, 'rice', 'Urea')} -> {(1.0, 0.0, 3.0, 'rice', 'Urea')} (3,1.0,1.0)\n",
      "{(1.0, 0.0, 3.0, 'rice', 'Urea')} -> {(0.0, 0.0, 2.0, 'rice', 'Urea')} (3,1.0,1.0)\n",
      "{(0.0, 0.0, 2.0, 'rice', 'Urea')} -> {(1.0, 0.0, 3.0, 'rice', 'Urea')} (3,1.0,1.0)\n",
      "{(1.0, 2.0, 0.0, 'Coconut', 'MOP')} -> {(2.0, 2.0, 0.0, 'Coconut', 'Urea')} (3,1.0,1.0)\n",
      "{(2.0, 2.0, 0.0, 'Coconut', 'Urea')} -> {(1.0, 2.0, 0.0, 'Coconut', 'MOP')} (3,1.0,1.0)\n",
      "{(0.0, 0.0, 3.0, 'rice', 'DAP')} -> {(1.0, 0.0, 1.0, 'rice', 'MOP')} (3,1.0,1.0)\n",
      "{(1.0, 0.0, 1.0, 'rice', 'MOP')} -> {(0.0, 0.0, 3.0, 'rice', 'DAP')} (3,1.0,1.0)\n",
      "{(2.0, 3.0, 0.0, 'Coconut', 'DAP')} -> {(1.0, 2.0, 0.0, 'Coconut', 'Urea')} (4,1.0,1.0)\n",
      "{(1.0, 2.0, 0.0, 'Coconut', 'Urea')} -> {(2.0, 3.0, 0.0, 'Coconut', 'DAP')} (4,1.0,1.0)\n",
      "{(2.0, 3.0, 1.0, 'Coconut', 'DAP')} -> {(2.0, 3.0, 1.0, 'Coconut', 'Urea')} (3,1.0,1.0)\n",
      "{(2.0, 3.0, 1.0, 'Coconut', 'Urea')} -> {(2.0, 3.0, 1.0, 'Coconut', 'DAP')} (3,1.0,1.0)\n",
      "{(1.0, 0.0, 3.0, 'rice', 'Urea')} -> {(1.0, 0.0, 2.0, 'rice', 'MOP')} (3,1.0,1.0)\n",
      "{(1.0, 0.0, 2.0, 'rice', 'MOP')} -> {(1.0, 0.0, 3.0, 'rice', 'Urea')} (3,1.0,1.0)\n",
      "{(1.0, 0.0, 1.0, 'Coconut', 'MOP')} -> {(1.0, 0.0, 1.0, 'Coconut', 'Urea')} (3,1.0,1.0)\n",
      "{(1.0, 0.0, 1.0, 'Coconut', 'Urea')} -> {(1.0, 0.0, 1.0, 'Coconut', 'MOP')} (3,1.0,1.0)\n",
      "{(1.0, 0.0, 2.0, 'rice', 'MOP')} -> {(1.0, 0.0, 1.0, 'rice', 'MOP')} (3,1.0,1.0)\n",
      "{(1.0, 0.0, 1.0, 'rice', 'MOP')} -> {(1.0, 0.0, 2.0, 'rice', 'MOP')} (3,1.0,1.0)\n",
      "{(1.0, 0.0, 1.0, 'rice', 'MOP')} -> {(1.0, 0.0, 2.0, 'rice', 'Urea')} (3,1.0,1.0)\n",
      "{(1.0, 0.0, 2.0, 'rice', 'Urea')} -> {(1.0, 0.0, 1.0, 'rice', 'MOP')} (3,1.0,1.0)\n",
      "{(1.0, 0.0, 1.0, 'rice', 'MOP')} -> {(0.0, 0.0, 2.0, 'rice', 'Urea')} (3,1.0,1.0)\n",
      "{(0.0, 0.0, 2.0, 'rice', 'Urea')} -> {(1.0, 0.0, 1.0, 'rice', 'MOP')} (3,1.0,1.0)\n",
      "{(2.0, 3.0, 0.0, 'Coconut', 'MOP')} -> {(2.0, 3.0, 1.0, 'Coconut', 'DAP')} (3,1.0,1.0)\n",
      "{(2.0, 3.0, 1.0, 'Coconut', 'DAP')} -> {(2.0, 3.0, 0.0, 'Coconut', 'MOP')} (3,1.0,1.0)\n",
      "{(1.0, 0.0, 3.0, 'rice', 'Urea')} -> {(1.0, 0.0, 2.0, 'rice', 'DAP')} (3,1.0,1.0)\n",
      "{(1.0, 0.0, 2.0, 'rice', 'DAP')} -> {(1.0, 0.0, 3.0, 'rice', 'Urea')} (3,1.0,1.0)\n",
      "{(1.0, 2.0, 0.0, 'Coconut', 'MOP')} -> {(1.0, 2.0, 0.0, 'Coconut', 'Urea'), (1.0, 0.0, 1.0, 'Coconut', 'MOP'), (1.0, 0.0, 1.0, 'Coconut', 'Urea')} (3,1.0,1.0)\n",
      "{(1.0, 0.0, 1.0, 'Coconut', 'MOP')} -> {(1.0, 2.0, 0.0, 'Coconut', 'MOP'), (1.0, 2.0, 0.0, 'Coconut', 'Urea'), (1.0, 0.0, 1.0, 'Coconut', 'Urea')} (3,1.0,1.0)\n",
      "{(1.0, 0.0, 1.0, 'Coconut', 'Urea')} -> {(1.0, 2.0, 0.0, 'Coconut', 'MOP'), (1.0, 2.0, 0.0, 'Coconut', 'Urea'), (1.0, 0.0, 1.0, 'Coconut', 'MOP')} (3,1.0,1.0)\n",
      "{(1.0, 2.0, 0.0, 'Coconut', 'MOP'), (1.0, 2.0, 0.0, 'Coconut', 'Urea')} -> {(1.0, 0.0, 1.0, 'Coconut', 'MOP'), (1.0, 0.0, 1.0, 'Coconut', 'Urea')} (3,1.0,1.0)\n",
      "{(1.0, 2.0, 0.0, 'Coconut', 'MOP'), (1.0, 0.0, 1.0, 'Coconut', 'MOP')} -> {(1.0, 2.0, 0.0, 'Coconut', 'Urea'), (1.0, 0.0, 1.0, 'Coconut', 'Urea')} (3,1.0,1.0)\n",
      "{(1.0, 2.0, 0.0, 'Coconut', 'MOP'), (1.0, 0.0, 1.0, 'Coconut', 'Urea')} -> {(1.0, 2.0, 0.0, 'Coconut', 'Urea'), (1.0, 0.0, 1.0, 'Coconut', 'MOP')} (3,1.0,1.0)\n",
      "{(1.0, 2.0, 0.0, 'Coconut', 'Urea'), (1.0, 0.0, 1.0, 'Coconut', 'MOP')} -> {(1.0, 2.0, 0.0, 'Coconut', 'MOP'), (1.0, 0.0, 1.0, 'Coconut', 'Urea')} (3,1.0,1.0)\n",
      "{(1.0, 2.0, 0.0, 'Coconut', 'Urea'), (1.0, 0.0, 1.0, 'Coconut', 'Urea')} -> {(1.0, 2.0, 0.0, 'Coconut', 'MOP'), (1.0, 0.0, 1.0, 'Coconut', 'MOP')} (3,1.0,1.0)\n",
      "{(1.0, 0.0, 1.0, 'Coconut', 'MOP'), (1.0, 0.0, 1.0, 'Coconut', 'Urea')} -> {(1.0, 2.0, 0.0, 'Coconut', 'MOP'), (1.0, 2.0, 0.0, 'Coconut', 'Urea')} (3,1.0,1.0)\n",
      "{(1.0, 2.0, 0.0, 'Coconut', 'MOP'), (1.0, 2.0, 0.0, 'Coconut', 'Urea'), (1.0, 0.0, 1.0, 'Coconut', 'MOP')} -> {(1.0, 0.0, 1.0, 'Coconut', 'Urea')} (3,1.0,1.0)\n",
      "{(1.0, 2.0, 0.0, 'Coconut', 'MOP'), (1.0, 2.0, 0.0, 'Coconut', 'Urea'), (1.0, 0.0, 1.0, 'Coconut', 'Urea')} -> {(1.0, 0.0, 1.0, 'Coconut', 'MOP')} (3,1.0,1.0)\n",
      "{(1.0, 2.0, 0.0, 'Coconut', 'Urea'), (1.0, 0.0, 1.0, 'Coconut', 'MOP'), (1.0, 0.0, 1.0, 'Coconut', 'Urea')} -> {(1.0, 2.0, 0.0, 'Coconut', 'MOP')} (3,1.0,1.0)\n",
      "{(1.0, 2.0, 0.0, 'Coconut', 'MOP')} -> {(2.0, 3.0, 0.0, 'Coconut', 'DAP'), (1.0, 0.0, 1.0, 'Coconut', 'Urea')} (3,1.0,1.0)\n",
      "{(1.0, 0.0, 1.0, 'Coconut', 'Urea')} -> {(1.0, 2.0, 0.0, 'Coconut', 'MOP'), (2.0, 3.0, 0.0, 'Coconut', 'DAP')} (3,1.0,1.0)\n",
      "{(1.0, 2.0, 0.0, 'Coconut', 'MOP'), (2.0, 3.0, 0.0, 'Coconut', 'DAP')} -> {(1.0, 0.0, 1.0, 'Coconut', 'Urea')} (3,1.0,1.0)\n",
      "{(2.0, 3.0, 0.0, 'Coconut', 'DAP'), (1.0, 0.0, 1.0, 'Coconut', 'Urea')} -> {(1.0, 2.0, 0.0, 'Coconut', 'MOP')} (3,1.0,1.0)\n",
      "{(1.0, 2.0, 0.0, 'Coconut', 'MOP')} -> {(1.0, 0.0, 1.0, 'Coconut', 'MOP'), (1.0, 0.0, 1.0, 'Coconut', 'Urea')} (3,1.0,1.0)\n",
      "{(1.0, 0.0, 1.0, 'Coconut', 'MOP')} -> {(1.0, 2.0, 0.0, 'Coconut', 'MOP'), (1.0, 0.0, 1.0, 'Coconut', 'Urea')} (3,1.0,1.0)\n",
      "{(1.0, 0.0, 1.0, 'Coconut', 'Urea')} -> {(1.0, 2.0, 0.0, 'Coconut', 'MOP'), (1.0, 0.0, 1.0, 'Coconut', 'MOP')} (3,1.0,1.0)\n",
      "{(1.0, 2.0, 0.0, 'Coconut', 'MOP'), (1.0, 0.0, 1.0, 'Coconut', 'MOP')} -> {(1.0, 0.0, 1.0, 'Coconut', 'Urea')} (3,1.0,1.0)\n",
      "{(1.0, 2.0, 0.0, 'Coconut', 'MOP'), (1.0, 0.0, 1.0, 'Coconut', 'Urea')} -> {(1.0, 0.0, 1.0, 'Coconut', 'MOP')} (3,1.0,1.0)\n",
      "{(1.0, 0.0, 1.0, 'Coconut', 'MOP'), (1.0, 0.0, 1.0, 'Coconut', 'Urea')} -> {(1.0, 2.0, 0.0, 'Coconut', 'MOP')} (3,1.0,1.0)\n",
      "{(1.0, 2.0, 0.0, 'Coconut', 'MOP')} -> {(2.0, 3.0, 0.0, 'Coconut', 'DAP'), (1.0, 0.0, 1.0, 'Coconut', 'MOP'), (1.0, 0.0, 1.0, 'Coconut', 'Urea')} (3,1.0,1.0)\n",
      "{(1.0, 0.0, 1.0, 'Coconut', 'MOP')} -> {(1.0, 2.0, 0.0, 'Coconut', 'MOP'), (2.0, 3.0, 0.0, 'Coconut', 'DAP'), (1.0, 0.0, 1.0, 'Coconut', 'Urea')} (3,1.0,1.0)\n",
      "{(1.0, 0.0, 1.0, 'Coconut', 'Urea')} -> {(1.0, 2.0, 0.0, 'Coconut', 'MOP'), (2.0, 3.0, 0.0, 'Coconut', 'DAP'), (1.0, 0.0, 1.0, 'Coconut', 'MOP')} (3,1.0,1.0)\n",
      "{(1.0, 2.0, 0.0, 'Coconut', 'MOP'), (2.0, 3.0, 0.0, 'Coconut', 'DAP')} -> {(1.0, 0.0, 1.0, 'Coconut', 'MOP'), (1.0, 0.0, 1.0, 'Coconut', 'Urea')} (3,1.0,1.0)\n",
      "{(1.0, 2.0, 0.0, 'Coconut', 'MOP'), (1.0, 0.0, 1.0, 'Coconut', 'MOP')} -> {(2.0, 3.0, 0.0, 'Coconut', 'DAP'), (1.0, 0.0, 1.0, 'Coconut', 'Urea')} (3,1.0,1.0)\n",
      "{(1.0, 2.0, 0.0, 'Coconut', 'MOP'), (1.0, 0.0, 1.0, 'Coconut', 'Urea')} -> {(2.0, 3.0, 0.0, 'Coconut', 'DAP'), (1.0, 0.0, 1.0, 'Coconut', 'MOP')} (3,1.0,1.0)\n",
      "{(2.0, 3.0, 0.0, 'Coconut', 'DAP'), (1.0, 0.0, 1.0, 'Coconut', 'MOP')} -> {(1.0, 2.0, 0.0, 'Coconut', 'MOP'), (1.0, 0.0, 1.0, 'Coconut', 'Urea')} (3,1.0,1.0)\n",
      "{(2.0, 3.0, 0.0, 'Coconut', 'DAP'), (1.0, 0.0, 1.0, 'Coconut', 'Urea')} -> {(1.0, 2.0, 0.0, 'Coconut', 'MOP'), (1.0, 0.0, 1.0, 'Coconut', 'MOP')} (3,1.0,1.0)\n",
      "{(1.0, 0.0, 1.0, 'Coconut', 'MOP'), (1.0, 0.0, 1.0, 'Coconut', 'Urea')} -> {(1.0, 2.0, 0.0, 'Coconut', 'MOP'), (2.0, 3.0, 0.0, 'Coconut', 'DAP')} (3,1.0,1.0)\n",
      "{(1.0, 2.0, 0.0, 'Coconut', 'MOP'), (2.0, 3.0, 0.0, 'Coconut', 'DAP'), (1.0, 0.0, 1.0, 'Coconut', 'MOP')} -> {(1.0, 0.0, 1.0, 'Coconut', 'Urea')} (3,1.0,1.0)\n",
      "{(1.0, 2.0, 0.0, 'Coconut', 'MOP'), (2.0, 3.0, 0.0, 'Coconut', 'DAP'), (1.0, 0.0, 1.0, 'Coconut', 'Urea')} -> {(1.0, 0.0, 1.0, 'Coconut', 'MOP')} (3,1.0,1.0)\n",
      "{(2.0, 3.0, 0.0, 'Coconut', 'DAP'), (1.0, 0.0, 1.0, 'Coconut', 'MOP'), (1.0, 0.0, 1.0, 'Coconut', 'Urea')} -> {(1.0, 2.0, 0.0, 'Coconut', 'MOP')} (3,1.0,1.0)\n",
      "{(1.0, 2.0, 0.0, 'Coconut', 'MOP')} -> {(1.0, 2.0, 0.0, 'Coconut', 'Urea'), (2.0, 2.0, 0.0, 'Coconut', 'Urea'), (1.0, 0.0, 1.0, 'Coconut', 'Urea')} (3,1.0,1.0)\n",
      "{(2.0, 2.0, 0.0, 'Coconut', 'Urea')} -> {(1.0, 2.0, 0.0, 'Coconut', 'MOP'), (1.0, 2.0, 0.0, 'Coconut', 'Urea'), (1.0, 0.0, 1.0, 'Coconut', 'Urea')} (3,1.0,1.0)\n",
      "{(1.0, 0.0, 1.0, 'Coconut', 'Urea')} -> {(1.0, 2.0, 0.0, 'Coconut', 'MOP'), (1.0, 2.0, 0.0, 'Coconut', 'Urea'), (2.0, 2.0, 0.0, 'Coconut', 'Urea')} (3,1.0,1.0)\n",
      "{(1.0, 2.0, 0.0, 'Coconut', 'MOP'), (1.0, 2.0, 0.0, 'Coconut', 'Urea')} -> {(2.0, 2.0, 0.0, 'Coconut', 'Urea'), (1.0, 0.0, 1.0, 'Coconut', 'Urea')} (3,1.0,1.0)\n",
      "{(1.0, 2.0, 0.0, 'Coconut', 'MOP'), (2.0, 2.0, 0.0, 'Coconut', 'Urea')} -> {(1.0, 2.0, 0.0, 'Coconut', 'Urea'), (1.0, 0.0, 1.0, 'Coconut', 'Urea')} (3,1.0,1.0)\n",
      "{(1.0, 2.0, 0.0, 'Coconut', 'MOP'), (1.0, 0.0, 1.0, 'Coconut', 'Urea')} -> {(1.0, 2.0, 0.0, 'Coconut', 'Urea'), (2.0, 2.0, 0.0, 'Coconut', 'Urea')} (3,1.0,1.0)\n",
      "{(1.0, 2.0, 0.0, 'Coconut', 'Urea'), (2.0, 2.0, 0.0, 'Coconut', 'Urea')} -> {(1.0, 2.0, 0.0, 'Coconut', 'MOP'), (1.0, 0.0, 1.0, 'Coconut', 'Urea')} (3,1.0,1.0)\n",
      "{(1.0, 2.0, 0.0, 'Coconut', 'Urea'), (1.0, 0.0, 1.0, 'Coconut', 'Urea')} -> {(1.0, 2.0, 0.0, 'Coconut', 'MOP'), (2.0, 2.0, 0.0, 'Coconut', 'Urea')} (3,1.0,1.0)\n",
      "{(2.0, 2.0, 0.0, 'Coconut', 'Urea'), (1.0, 0.0, 1.0, 'Coconut', 'Urea')} -> {(1.0, 2.0, 0.0, 'Coconut', 'MOP'), (1.0, 2.0, 0.0, 'Coconut', 'Urea')} (3,1.0,1.0)\n",
      "{(1.0, 2.0, 0.0, 'Coconut', 'MOP'), (1.0, 2.0, 0.0, 'Coconut', 'Urea'), (2.0, 2.0, 0.0, 'Coconut', 'Urea')} -> {(1.0, 0.0, 1.0, 'Coconut', 'Urea')} (3,1.0,1.0)\n",
      "{(1.0, 2.0, 0.0, 'Coconut', 'MOP'), (1.0, 2.0, 0.0, 'Coconut', 'Urea'), (1.0, 0.0, 1.0, 'Coconut', 'Urea')} -> {(2.0, 2.0, 0.0, 'Coconut', 'Urea')} (3,1.0,1.0)\n",
      "{(1.0, 2.0, 0.0, 'Coconut', 'Urea'), (2.0, 2.0, 0.0, 'Coconut', 'Urea'), (1.0, 0.0, 1.0, 'Coconut', 'Urea')} -> {(1.0, 2.0, 0.0, 'Coconut', 'MOP')} (3,1.0,1.0)\n",
      "{(1.0, 2.0, 0.0, 'Coconut', 'MOP')} -> {(2.0, 2.0, 0.0, 'Coconut', 'Urea'), (1.0, 0.0, 1.0, 'Coconut', 'Urea')} (3,1.0,1.0)\n",
      "{(2.0, 2.0, 0.0, 'Coconut', 'Urea')} -> {(1.0, 2.0, 0.0, 'Coconut', 'MOP'), (1.0, 0.0, 1.0, 'Coconut', 'Urea')} (3,1.0,1.0)\n",
      "{(1.0, 0.0, 1.0, 'Coconut', 'Urea')} -> {(1.0, 2.0, 0.0, 'Coconut', 'MOP'), (2.0, 2.0, 0.0, 'Coconut', 'Urea')} (3,1.0,1.0)\n",
      "{(1.0, 2.0, 0.0, 'Coconut', 'MOP'), (2.0, 2.0, 0.0, 'Coconut', 'Urea')} -> {(1.0, 0.0, 1.0, 'Coconut', 'Urea')} (3,1.0,1.0)\n",
      "{(1.0, 2.0, 0.0, 'Coconut', 'MOP'), (1.0, 0.0, 1.0, 'Coconut', 'Urea')} -> {(2.0, 2.0, 0.0, 'Coconut', 'Urea')} (3,1.0,1.0)\n",
      "{(2.0, 2.0, 0.0, 'Coconut', 'Urea'), (1.0, 0.0, 1.0, 'Coconut', 'Urea')} -> {(1.0, 2.0, 0.0, 'Coconut', 'MOP')} (3,1.0,1.0)\n",
      "{(1.0, 2.0, 0.0, 'Coconut', 'MOP')} -> {(1.0, 2.0, 0.0, 'Coconut', 'Urea'), (1.0, 0.0, 1.0, 'Coconut', 'Urea')} (3,1.0,1.0)\n",
      "{(1.0, 0.0, 1.0, 'Coconut', 'Urea')} -> {(1.0, 2.0, 0.0, 'Coconut', 'MOP'), (1.0, 2.0, 0.0, 'Coconut', 'Urea')} (3,1.0,1.0)\n",
      "{(1.0, 2.0, 0.0, 'Coconut', 'MOP'), (1.0, 2.0, 0.0, 'Coconut', 'Urea')} -> {(1.0, 0.0, 1.0, 'Coconut', 'Urea')} (3,1.0,1.0)\n",
      "{(1.0, 2.0, 0.0, 'Coconut', 'Urea'), (1.0, 0.0, 1.0, 'Coconut', 'Urea')} -> {(1.0, 2.0, 0.0, 'Coconut', 'MOP')} (3,1.0,1.0)\n",
      "{(0.0, 0.0, 3.0, 'rice', 'DAP')} -> {(1.0, 0.0, 1.0, 'rice', 'DAP'), (1.0, 0.0, 1.0, 'rice', 'MOP')} (3,1.0,1.0)\n",
      "{(1.0, 0.0, 1.0, 'rice', 'DAP')} -> {(0.0, 0.0, 3.0, 'rice', 'DAP'), (1.0, 0.0, 1.0, 'rice', 'MOP')} (3,1.0,1.0)\n",
      "{(1.0, 0.0, 1.0, 'rice', 'MOP')} -> {(0.0, 0.0, 3.0, 'rice', 'DAP'), (1.0, 0.0, 1.0, 'rice', 'DAP')} (3,1.0,1.0)\n",
      "{(0.0, 0.0, 3.0, 'rice', 'DAP'), (1.0, 0.0, 1.0, 'rice', 'DAP')} -> {(1.0, 0.0, 1.0, 'rice', 'MOP')} (3,1.0,1.0)\n",
      "{(0.0, 0.0, 3.0, 'rice', 'DAP'), (1.0, 0.0, 1.0, 'rice', 'MOP')} -> {(1.0, 0.0, 1.0, 'rice', 'DAP')} (3,1.0,1.0)\n",
      "{(1.0, 0.0, 1.0, 'rice', 'DAP'), (1.0, 0.0, 1.0, 'rice', 'MOP')} -> {(0.0, 0.0, 3.0, 'rice', 'DAP')} (3,1.0,1.0)\n",
      "{(0.0, 0.0, 3.0, 'rice', 'DAP')} -> {(1.0, 0.0, 2.0, 'rice', 'MOP'), (1.0, 0.0, 1.0, 'rice', 'DAP'), (1.0, 0.0, 1.0, 'rice', 'MOP')} (3,1.0,1.0)\n",
      "{(1.0, 0.0, 1.0, 'rice', 'DAP')} -> {(0.0, 0.0, 3.0, 'rice', 'DAP'), (1.0, 0.0, 2.0, 'rice', 'MOP'), (1.0, 0.0, 1.0, 'rice', 'MOP')} (3,1.0,1.0)\n",
      "{(1.0, 0.0, 2.0, 'rice', 'MOP')} -> {(0.0, 0.0, 3.0, 'rice', 'DAP'), (1.0, 0.0, 1.0, 'rice', 'DAP'), (1.0, 0.0, 1.0, 'rice', 'MOP')} (3,1.0,1.0)\n",
      "{(1.0, 0.0, 1.0, 'rice', 'MOP')} -> {(0.0, 0.0, 3.0, 'rice', 'DAP'), (1.0, 0.0, 1.0, 'rice', 'DAP'), (1.0, 0.0, 2.0, 'rice', 'MOP')} (3,1.0,1.0)\n",
      "{(0.0, 0.0, 3.0, 'rice', 'DAP'), (1.0, 0.0, 1.0, 'rice', 'DAP')} -> {(1.0, 0.0, 2.0, 'rice', 'MOP'), (1.0, 0.0, 1.0, 'rice', 'MOP')} (3,1.0,1.0)\n",
      "{(0.0, 0.0, 3.0, 'rice', 'DAP'), (1.0, 0.0, 2.0, 'rice', 'MOP')} -> {(1.0, 0.0, 1.0, 'rice', 'DAP'), (1.0, 0.0, 1.0, 'rice', 'MOP')} (3,1.0,1.0)\n",
      "{(0.0, 0.0, 3.0, 'rice', 'DAP'), (1.0, 0.0, 1.0, 'rice', 'MOP')} -> {(1.0, 0.0, 2.0, 'rice', 'MOP'), (1.0, 0.0, 1.0, 'rice', 'DAP')} (3,1.0,1.0)\n",
      "{(1.0, 0.0, 2.0, 'rice', 'MOP'), (1.0, 0.0, 1.0, 'rice', 'DAP')} -> {(0.0, 0.0, 3.0, 'rice', 'DAP'), (1.0, 0.0, 1.0, 'rice', 'MOP')} (3,1.0,1.0)\n",
      "{(1.0, 0.0, 1.0, 'rice', 'DAP'), (1.0, 0.0, 1.0, 'rice', 'MOP')} -> {(0.0, 0.0, 3.0, 'rice', 'DAP'), (1.0, 0.0, 2.0, 'rice', 'MOP')} (3,1.0,1.0)\n",
      "{(1.0, 0.0, 2.0, 'rice', 'MOP'), (1.0, 0.0, 1.0, 'rice', 'MOP')} -> {(0.0, 0.0, 3.0, 'rice', 'DAP'), (1.0, 0.0, 1.0, 'rice', 'DAP')} (3,1.0,1.0)\n",
      "{(0.0, 0.0, 3.0, 'rice', 'DAP'), (1.0, 0.0, 1.0, 'rice', 'DAP'), (1.0, 0.0, 2.0, 'rice', 'MOP')} -> {(1.0, 0.0, 1.0, 'rice', 'MOP')} (3,1.0,1.0)\n",
      "{(0.0, 0.0, 3.0, 'rice', 'DAP'), (1.0, 0.0, 1.0, 'rice', 'DAP'), (1.0, 0.0, 1.0, 'rice', 'MOP')} -> {(1.0, 0.0, 2.0, 'rice', 'MOP')} (3,1.0,1.0)\n",
      "{(0.0, 0.0, 3.0, 'rice', 'DAP'), (1.0, 0.0, 2.0, 'rice', 'MOP'), (1.0, 0.0, 1.0, 'rice', 'MOP')} -> {(1.0, 0.0, 1.0, 'rice', 'DAP')} (3,1.0,1.0)\n",
      "{(1.0, 0.0, 2.0, 'rice', 'MOP'), (1.0, 0.0, 1.0, 'rice', 'DAP'), (1.0, 0.0, 1.0, 'rice', 'MOP')} -> {(0.0, 0.0, 3.0, 'rice', 'DAP')} (3,1.0,1.0)\n",
      "{(1.0, 0.0, 1.0, 'Coconut', 'MOP')} -> {(2.0, 3.0, 0.0, 'Coconut', 'DAP'), (1.0, 2.0, 0.0, 'Coconut', 'Urea'), (1.0, 0.0, 1.0, 'Coconut', 'Urea')} (3,1.0,1.0)\n",
      "{(1.0, 0.0, 1.0, 'Coconut', 'Urea')} -> {(2.0, 3.0, 0.0, 'Coconut', 'DAP'), (1.0, 2.0, 0.0, 'Coconut', 'Urea'), (1.0, 0.0, 1.0, 'Coconut', 'MOP')} (3,1.0,1.0)\n",
      "{(2.0, 3.0, 0.0, 'Coconut', 'DAP'), (1.0, 0.0, 1.0, 'Coconut', 'MOP')} -> {(1.0, 2.0, 0.0, 'Coconut', 'Urea'), (1.0, 0.0, 1.0, 'Coconut', 'Urea')} (3,1.0,1.0)\n",
      "{(2.0, 3.0, 0.0, 'Coconut', 'DAP'), (1.0, 0.0, 1.0, 'Coconut', 'Urea')} -> {(1.0, 2.0, 0.0, 'Coconut', 'Urea'), (1.0, 0.0, 1.0, 'Coconut', 'MOP')} (3,1.0,1.0)\n",
      "{(1.0, 2.0, 0.0, 'Coconut', 'Urea'), (1.0, 0.0, 1.0, 'Coconut', 'MOP')} -> {(2.0, 3.0, 0.0, 'Coconut', 'DAP'), (1.0, 0.0, 1.0, 'Coconut', 'Urea')} (3,1.0,1.0)\n",
      "{(1.0, 2.0, 0.0, 'Coconut', 'Urea'), (1.0, 0.0, 1.0, 'Coconut', 'Urea')} -> {(2.0, 3.0, 0.0, 'Coconut', 'DAP'), (1.0, 0.0, 1.0, 'Coconut', 'MOP')} (3,1.0,1.0)\n",
      "{(2.0, 3.0, 0.0, 'Coconut', 'DAP'), (1.0, 2.0, 0.0, 'Coconut', 'Urea'), (1.0, 0.0, 1.0, 'Coconut', 'MOP')} -> {(1.0, 0.0, 1.0, 'Coconut', 'Urea')} (3,1.0,1.0)\n",
      "{(2.0, 3.0, 0.0, 'Coconut', 'DAP'), (1.0, 2.0, 0.0, 'Coconut', 'Urea'), (1.0, 0.0, 1.0, 'Coconut', 'Urea')} -> {(1.0, 0.0, 1.0, 'Coconut', 'MOP')} (3,1.0,1.0)\n",
      "{(1.0, 2.0, 0.0, 'Coconut', 'MOP')} -> {(1.0, 2.0, 0.0, 'Coconut', 'Urea'), (1.0, 0.0, 1.0, 'Coconut', 'MOP')} (3,1.0,1.0)\n",
      "{(1.0, 0.0, 1.0, 'Coconut', 'MOP')} -> {(1.0, 2.0, 0.0, 'Coconut', 'MOP'), (1.0, 2.0, 0.0, 'Coconut', 'Urea')} (3,1.0,1.0)\n",
      "{(1.0, 2.0, 0.0, 'Coconut', 'MOP'), (1.0, 2.0, 0.0, 'Coconut', 'Urea')} -> {(1.0, 0.0, 1.0, 'Coconut', 'MOP')} (3,1.0,1.0)\n",
      "{(1.0, 2.0, 0.0, 'Coconut', 'Urea'), (1.0, 0.0, 1.0, 'Coconut', 'MOP')} -> {(1.0, 2.0, 0.0, 'Coconut', 'MOP')} (3,1.0,1.0)\n",
      "{(1.0, 0.0, 1.0, 'Coconut', 'MOP')} -> {(1.0, 2.0, 0.0, 'Coconut', 'Urea'), (1.0, 0.0, 1.0, 'Coconut', 'Urea')} (3,1.0,1.0)\n",
      "{(1.0, 0.0, 1.0, 'Coconut', 'Urea')} -> {(1.0, 2.0, 0.0, 'Coconut', 'Urea'), (1.0, 0.0, 1.0, 'Coconut', 'MOP')} (3,1.0,1.0)\n",
      "{(1.0, 2.0, 0.0, 'Coconut', 'Urea'), (1.0, 0.0, 1.0, 'Coconut', 'MOP')} -> {(1.0, 0.0, 1.0, 'Coconut', 'Urea')} (3,1.0,1.0)\n",
      "{(1.0, 2.0, 0.0, 'Coconut', 'Urea'), (1.0, 0.0, 1.0, 'Coconut', 'Urea')} -> {(1.0, 0.0, 1.0, 'Coconut', 'MOP')} (3,1.0,1.0)\n",
      "{(1.0, 0.0, 1.0, 'Coconut', 'MOP')} -> {(2.0, 3.0, 0.0, 'Coconut', 'DAP'), (1.0, 0.0, 1.0, 'Coconut', 'Urea')} (3,1.0,1.0)\n",
      "{(1.0, 0.0, 1.0, 'Coconut', 'Urea')} -> {(2.0, 3.0, 0.0, 'Coconut', 'DAP'), (1.0, 0.0, 1.0, 'Coconut', 'MOP')} (3,1.0,1.0)\n",
      "{(2.0, 3.0, 0.0, 'Coconut', 'DAP'), (1.0, 0.0, 1.0, 'Coconut', 'MOP')} -> {(1.0, 0.0, 1.0, 'Coconut', 'Urea')} (3,1.0,1.0)\n",
      "{(2.0, 3.0, 0.0, 'Coconut', 'DAP'), (1.0, 0.0, 1.0, 'Coconut', 'Urea')} -> {(1.0, 0.0, 1.0, 'Coconut', 'MOP')} (3,1.0,1.0)\n",
      "{(2.0, 2.0, 0.0, 'Coconut', 'Urea')} -> {(2.0, 3.0, 0.0, 'Coconut', 'DAP'), (1.0, 2.0, 0.0, 'Coconut', 'Urea'), (1.0, 0.0, 1.0, 'Coconut', 'Urea')} (3,1.0,1.0)\n",
      "{(1.0, 0.0, 1.0, 'Coconut', 'Urea')} -> {(2.0, 3.0, 0.0, 'Coconut', 'DAP'), (1.0, 2.0, 0.0, 'Coconut', 'Urea'), (2.0, 2.0, 0.0, 'Coconut', 'Urea')} (3,1.0,1.0)\n",
      "{(2.0, 3.0, 0.0, 'Coconut', 'DAP'), (2.0, 2.0, 0.0, 'Coconut', 'Urea')} -> {(1.0, 2.0, 0.0, 'Coconut', 'Urea'), (1.0, 0.0, 1.0, 'Coconut', 'Urea')} (3,1.0,1.0)\n",
      "{(2.0, 3.0, 0.0, 'Coconut', 'DAP'), (1.0, 0.0, 1.0, 'Coconut', 'Urea')} -> {(1.0, 2.0, 0.0, 'Coconut', 'Urea'), (2.0, 2.0, 0.0, 'Coconut', 'Urea')} (3,1.0,1.0)\n",
      "{(1.0, 2.0, 0.0, 'Coconut', 'Urea'), (2.0, 2.0, 0.0, 'Coconut', 'Urea')} -> {(2.0, 3.0, 0.0, 'Coconut', 'DAP'), (1.0, 0.0, 1.0, 'Coconut', 'Urea')} (3,1.0,1.0)\n",
      "{(1.0, 2.0, 0.0, 'Coconut', 'Urea'), (1.0, 0.0, 1.0, 'Coconut', 'Urea')} -> {(2.0, 3.0, 0.0, 'Coconut', 'DAP'), (2.0, 2.0, 0.0, 'Coconut', 'Urea')} (3,1.0,1.0)\n",
      "{(2.0, 3.0, 0.0, 'Coconut', 'DAP'), (1.0, 2.0, 0.0, 'Coconut', 'Urea'), (2.0, 2.0, 0.0, 'Coconut', 'Urea')} -> {(1.0, 0.0, 1.0, 'Coconut', 'Urea')} (3,1.0,1.0)\n",
      "{(2.0, 3.0, 0.0, 'Coconut', 'DAP'), (1.0, 2.0, 0.0, 'Coconut', 'Urea'), (1.0, 0.0, 1.0, 'Coconut', 'Urea')} -> {(2.0, 2.0, 0.0, 'Coconut', 'Urea')} (3,1.0,1.0)\n",
      "{(2.0, 2.0, 0.0, 'Coconut', 'Urea')} -> {(2.0, 3.0, 0.0, 'Coconut', 'DAP'), (1.0, 0.0, 1.0, 'Coconut', 'Urea')} (3,1.0,1.0)\n",
      "{(1.0, 0.0, 1.0, 'Coconut', 'Urea')} -> {(2.0, 3.0, 0.0, 'Coconut', 'DAP'), (2.0, 2.0, 0.0, 'Coconut', 'Urea')} (3,1.0,1.0)\n",
      "{(2.0, 3.0, 0.0, 'Coconut', 'DAP'), (2.0, 2.0, 0.0, 'Coconut', 'Urea')} -> {(1.0, 0.0, 1.0, 'Coconut', 'Urea')} (3,1.0,1.0)\n",
      "{(2.0, 3.0, 0.0, 'Coconut', 'DAP'), (1.0, 0.0, 1.0, 'Coconut', 'Urea')} -> {(2.0, 2.0, 0.0, 'Coconut', 'Urea')} (3,1.0,1.0)\n",
      "{(0.0, 0.0, 3.0, 'rice', 'DAP')} -> {(1.0, 0.0, 2.0, 'rice', 'MOP'), (1.0, 0.0, 1.0, 'rice', 'DAP'), (0.0, 0.0, 2.0, 'rice', 'Urea')} (3,1.0,1.0)\n",
      "{(1.0, 0.0, 1.0, 'rice', 'DAP')} -> {(0.0, 0.0, 3.0, 'rice', 'DAP'), (1.0, 0.0, 2.0, 'rice', 'MOP'), (0.0, 0.0, 2.0, 'rice', 'Urea')} (3,1.0,1.0)\n",
      "{(1.0, 0.0, 2.0, 'rice', 'MOP')} -> {(0.0, 0.0, 3.0, 'rice', 'DAP'), (1.0, 0.0, 1.0, 'rice', 'DAP'), (0.0, 0.0, 2.0, 'rice', 'Urea')} (3,1.0,1.0)\n",
      "{(0.0, 0.0, 2.0, 'rice', 'Urea')} -> {(0.0, 0.0, 3.0, 'rice', 'DAP'), (1.0, 0.0, 1.0, 'rice', 'DAP'), (1.0, 0.0, 2.0, 'rice', 'MOP')} (3,1.0,1.0)\n",
      "{(0.0, 0.0, 3.0, 'rice', 'DAP'), (1.0, 0.0, 1.0, 'rice', 'DAP')} -> {(1.0, 0.0, 2.0, 'rice', 'MOP'), (0.0, 0.0, 2.0, 'rice', 'Urea')} (3,1.0,1.0)\n",
      "{(0.0, 0.0, 3.0, 'rice', 'DAP'), (1.0, 0.0, 2.0, 'rice', 'MOP')} -> {(0.0, 0.0, 2.0, 'rice', 'Urea'), (1.0, 0.0, 1.0, 'rice', 'DAP')} (3,1.0,1.0)\n",
      "{(0.0, 0.0, 3.0, 'rice', 'DAP'), (0.0, 0.0, 2.0, 'rice', 'Urea')} -> {(1.0, 0.0, 2.0, 'rice', 'MOP'), (1.0, 0.0, 1.0, 'rice', 'DAP')} (3,1.0,1.0)\n",
      "{(1.0, 0.0, 2.0, 'rice', 'MOP'), (1.0, 0.0, 1.0, 'rice', 'DAP')} -> {(0.0, 0.0, 3.0, 'rice', 'DAP'), (0.0, 0.0, 2.0, 'rice', 'Urea')} (3,1.0,1.0)\n",
      "{(0.0, 0.0, 2.0, 'rice', 'Urea'), (1.0, 0.0, 1.0, 'rice', 'DAP')} -> {(0.0, 0.0, 3.0, 'rice', 'DAP'), (1.0, 0.0, 2.0, 'rice', 'MOP')} (3,1.0,1.0)\n",
      "{(1.0, 0.0, 2.0, 'rice', 'MOP'), (0.0, 0.0, 2.0, 'rice', 'Urea')} -> {(0.0, 0.0, 3.0, 'rice', 'DAP'), (1.0, 0.0, 1.0, 'rice', 'DAP')} (3,1.0,1.0)\n",
      "{(0.0, 0.0, 3.0, 'rice', 'DAP'), (1.0, 0.0, 1.0, 'rice', 'DAP'), (1.0, 0.0, 2.0, 'rice', 'MOP')} -> {(0.0, 0.0, 2.0, 'rice', 'Urea')} (3,1.0,1.0)\n",
      "{(0.0, 0.0, 3.0, 'rice', 'DAP'), (1.0, 0.0, 1.0, 'rice', 'DAP'), (0.0, 0.0, 2.0, 'rice', 'Urea')} -> {(1.0, 0.0, 2.0, 'rice', 'MOP')} (3,1.0,1.0)\n",
      "{(0.0, 0.0, 3.0, 'rice', 'DAP'), (1.0, 0.0, 2.0, 'rice', 'MOP'), (0.0, 0.0, 2.0, 'rice', 'Urea')} -> {(1.0, 0.0, 1.0, 'rice', 'DAP')} (3,1.0,1.0)\n",
      "{(1.0, 0.0, 2.0, 'rice', 'MOP'), (1.0, 0.0, 1.0, 'rice', 'DAP'), (0.0, 0.0, 2.0, 'rice', 'Urea')} -> {(0.0, 0.0, 3.0, 'rice', 'DAP')} (3,1.0,1.0)\n",
      "{(0.0, 0.0, 3.0, 'rice', 'DAP')} -> {(1.0, 0.0, 1.0, 'rice', 'DAP'), (1.0, 0.0, 2.0, 'rice', 'Urea')} (3,1.0,1.0)\n",
      "{(1.0, 0.0, 1.0, 'rice', 'DAP')} -> {(0.0, 0.0, 3.0, 'rice', 'DAP'), (1.0, 0.0, 2.0, 'rice', 'Urea')} (3,1.0,1.0)\n",
      "{(1.0, 0.0, 2.0, 'rice', 'Urea')} -> {(0.0, 0.0, 3.0, 'rice', 'DAP'), (1.0, 0.0, 1.0, 'rice', 'DAP')} (3,1.0,1.0)\n",
      "{(0.0, 0.0, 3.0, 'rice', 'DAP'), (1.0, 0.0, 1.0, 'rice', 'DAP')} -> {(1.0, 0.0, 2.0, 'rice', 'Urea')} (3,1.0,1.0)\n",
      "{(0.0, 0.0, 3.0, 'rice', 'DAP'), (1.0, 0.0, 2.0, 'rice', 'Urea')} -> {(1.0, 0.0, 1.0, 'rice', 'DAP')} (3,1.0,1.0)\n",
      "{(1.0, 0.0, 1.0, 'rice', 'DAP'), (1.0, 0.0, 2.0, 'rice', 'Urea')} -> {(0.0, 0.0, 3.0, 'rice', 'DAP')} (3,1.0,1.0)\n",
      "{(0.0, 0.0, 3.0, 'rice', 'DAP')} -> {(0.0, 0.0, 2.0, 'rice', 'Urea'), (1.0, 0.0, 1.0, 'rice', 'DAP')} (3,1.0,1.0)\n",
      "{(1.0, 0.0, 1.0, 'rice', 'DAP')} -> {(0.0, 0.0, 3.0, 'rice', 'DAP'), (0.0, 0.0, 2.0, 'rice', 'Urea')} (3,1.0,1.0)\n",
      "{(0.0, 0.0, 2.0, 'rice', 'Urea')} -> {(0.0, 0.0, 3.0, 'rice', 'DAP'), (1.0, 0.0, 1.0, 'rice', 'DAP')} (3,1.0,1.0)\n",
      "{(0.0, 0.0, 3.0, 'rice', 'DAP'), (1.0, 0.0, 1.0, 'rice', 'DAP')} -> {(0.0, 0.0, 2.0, 'rice', 'Urea')} (3,1.0,1.0)\n",
      "{(0.0, 0.0, 3.0, 'rice', 'DAP'), (0.0, 0.0, 2.0, 'rice', 'Urea')} -> {(1.0, 0.0, 1.0, 'rice', 'DAP')} (3,1.0,1.0)\n",
      "{(0.0, 0.0, 2.0, 'rice', 'Urea'), (1.0, 0.0, 1.0, 'rice', 'DAP')} -> {(0.0, 0.0, 3.0, 'rice', 'DAP')} (3,1.0,1.0)\n",
      "{(0.0, 0.0, 3.0, 'rice', 'DAP')} -> {(1.0, 0.0, 2.0, 'rice', 'MOP'), (1.0, 0.0, 1.0, 'rice', 'DAP')} (3,1.0,1.0)\n",
      "{(1.0, 0.0, 1.0, 'rice', 'DAP')} -> {(0.0, 0.0, 3.0, 'rice', 'DAP'), (1.0, 0.0, 2.0, 'rice', 'MOP')} (3,1.0,1.0)\n",
      "{(1.0, 0.0, 2.0, 'rice', 'MOP')} -> {(0.0, 0.0, 3.0, 'rice', 'DAP'), (1.0, 0.0, 1.0, 'rice', 'DAP')} (3,1.0,1.0)\n",
      "{(0.0, 0.0, 3.0, 'rice', 'DAP'), (1.0, 0.0, 1.0, 'rice', 'DAP')} -> {(1.0, 0.0, 2.0, 'rice', 'MOP')} (3,1.0,1.0)\n",
      "{(0.0, 0.0, 3.0, 'rice', 'DAP'), (1.0, 0.0, 2.0, 'rice', 'MOP')} -> {(1.0, 0.0, 1.0, 'rice', 'DAP')} (3,1.0,1.0)\n",
      "{(1.0, 0.0, 2.0, 'rice', 'MOP'), (1.0, 0.0, 1.0, 'rice', 'DAP')} -> {(0.0, 0.0, 3.0, 'rice', 'DAP')} (3,1.0,1.0)\n",
      "{(0.0, 0.0, 3.0, 'rice', 'DAP')} -> {(0.0, 0.0, 2.0, 'rice', 'Urea'), (1.0, 0.0, 1.0, 'rice', 'DAP'), (1.0, 0.0, 1.0, 'rice', 'MOP')} (3,1.0,1.0)\n",
      "{(1.0, 0.0, 1.0, 'rice', 'DAP')} -> {(0.0, 0.0, 3.0, 'rice', 'DAP'), (0.0, 0.0, 2.0, 'rice', 'Urea'), (1.0, 0.0, 1.0, 'rice', 'MOP')} (3,1.0,1.0)\n",
      "{(1.0, 0.0, 1.0, 'rice', 'MOP')} -> {(0.0, 0.0, 3.0, 'rice', 'DAP'), (1.0, 0.0, 1.0, 'rice', 'DAP'), (0.0, 0.0, 2.0, 'rice', 'Urea')} (3,1.0,1.0)\n",
      "{(0.0, 0.0, 2.0, 'rice', 'Urea')} -> {(0.0, 0.0, 3.0, 'rice', 'DAP'), (1.0, 0.0, 1.0, 'rice', 'DAP'), (1.0, 0.0, 1.0, 'rice', 'MOP')} (3,1.0,1.0)\n",
      "{(0.0, 0.0, 3.0, 'rice', 'DAP'), (1.0, 0.0, 1.0, 'rice', 'DAP')} -> {(0.0, 0.0, 2.0, 'rice', 'Urea'), (1.0, 0.0, 1.0, 'rice', 'MOP')} (3,1.0,1.0)\n",
      "{(0.0, 0.0, 3.0, 'rice', 'DAP'), (1.0, 0.0, 1.0, 'rice', 'MOP')} -> {(0.0, 0.0, 2.0, 'rice', 'Urea'), (1.0, 0.0, 1.0, 'rice', 'DAP')} (3,1.0,1.0)\n",
      "{(0.0, 0.0, 3.0, 'rice', 'DAP'), (0.0, 0.0, 2.0, 'rice', 'Urea')} -> {(1.0, 0.0, 1.0, 'rice', 'DAP'), (1.0, 0.0, 1.0, 'rice', 'MOP')} (3,1.0,1.0)\n",
      "{(1.0, 0.0, 1.0, 'rice', 'DAP'), (1.0, 0.0, 1.0, 'rice', 'MOP')} -> {(0.0, 0.0, 3.0, 'rice', 'DAP'), (0.0, 0.0, 2.0, 'rice', 'Urea')} (3,1.0,1.0)\n",
      "{(0.0, 0.0, 2.0, 'rice', 'Urea'), (1.0, 0.0, 1.0, 'rice', 'DAP')} -> {(0.0, 0.0, 3.0, 'rice', 'DAP'), (1.0, 0.0, 1.0, 'rice', 'MOP')} (3,1.0,1.0)\n",
      "{(0.0, 0.0, 2.0, 'rice', 'Urea'), (1.0, 0.0, 1.0, 'rice', 'MOP')} -> {(0.0, 0.0, 3.0, 'rice', 'DAP'), (1.0, 0.0, 1.0, 'rice', 'DAP')} (3,1.0,1.0)\n",
      "{(0.0, 0.0, 3.0, 'rice', 'DAP'), (1.0, 0.0, 1.0, 'rice', 'DAP'), (1.0, 0.0, 1.0, 'rice', 'MOP')} -> {(0.0, 0.0, 2.0, 'rice', 'Urea')} (3,1.0,1.0)\n",
      "{(0.0, 0.0, 3.0, 'rice', 'DAP'), (1.0, 0.0, 1.0, 'rice', 'DAP'), (0.0, 0.0, 2.0, 'rice', 'Urea')} -> {(1.0, 0.0, 1.0, 'rice', 'MOP')} (3,1.0,1.0)\n",
      "{(0.0, 0.0, 3.0, 'rice', 'DAP'), (0.0, 0.0, 2.0, 'rice', 'Urea'), (1.0, 0.0, 1.0, 'rice', 'MOP')} -> {(1.0, 0.0, 1.0, 'rice', 'DAP')} (3,1.0,1.0)\n",
      "{(0.0, 0.0, 2.0, 'rice', 'Urea'), (1.0, 0.0, 1.0, 'rice', 'DAP'), (1.0, 0.0, 1.0, 'rice', 'MOP')} -> {(0.0, 0.0, 3.0, 'rice', 'DAP')} (3,1.0,1.0)\n",
      "{(1.0, 0.0, 2.0, 'rice', 'MOP')} -> {(0.0, 0.0, 2.0, 'rice', 'Urea'), (1.0, 0.0, 1.0, 'rice', 'MOP')} (3,1.0,1.0)\n",
      "{(1.0, 0.0, 1.0, 'rice', 'MOP')} -> {(1.0, 0.0, 2.0, 'rice', 'MOP'), (0.0, 0.0, 2.0, 'rice', 'Urea')} (3,1.0,1.0)\n",
      "{(0.0, 0.0, 2.0, 'rice', 'Urea')} -> {(1.0, 0.0, 2.0, 'rice', 'MOP'), (1.0, 0.0, 1.0, 'rice', 'MOP')} (3,1.0,1.0)\n",
      "{(1.0, 0.0, 2.0, 'rice', 'MOP'), (1.0, 0.0, 1.0, 'rice', 'MOP')} -> {(0.0, 0.0, 2.0, 'rice', 'Urea')} (3,1.0,1.0)\n",
      "{(1.0, 0.0, 2.0, 'rice', 'MOP'), (0.0, 0.0, 2.0, 'rice', 'Urea')} -> {(1.0, 0.0, 1.0, 'rice', 'MOP')} (3,1.0,1.0)\n",
      "{(0.0, 0.0, 2.0, 'rice', 'Urea'), (1.0, 0.0, 1.0, 'rice', 'MOP')} -> {(1.0, 0.0, 2.0, 'rice', 'MOP')} (3,1.0,1.0)\n",
      "{(1.0, 2.0, 0.0, 'Coconut', 'MOP')} -> {(2.0, 3.0, 0.0, 'Coconut', 'DAP'), (1.0, 0.0, 1.0, 'Coconut', 'MOP')} (3,1.0,1.0)\n",
      "{(1.0, 0.0, 1.0, 'Coconut', 'MOP')} -> {(1.0, 2.0, 0.0, 'Coconut', 'MOP'), (2.0, 3.0, 0.0, 'Coconut', 'DAP')} (3,1.0,1.0)\n",
      "{(1.0, 2.0, 0.0, 'Coconut', 'MOP'), (2.0, 3.0, 0.0, 'Coconut', 'DAP')} -> {(1.0, 0.0, 1.0, 'Coconut', 'MOP')} (3,1.0,1.0)\n",
      "{(2.0, 3.0, 0.0, 'Coconut', 'DAP'), (1.0, 0.0, 1.0, 'Coconut', 'MOP')} -> {(1.0, 2.0, 0.0, 'Coconut', 'MOP')} (3,1.0,1.0)\n",
      "{(2.0, 3.0, 1.0, 'Coconut', 'DAP')} -> {(2.0, 3.0, 0.0, 'Coconut', 'DAP'), (2.0, 2.0, 0.0, 'Coconut', 'Good NPK')} (3,1.0,1.0)\n",
      "{(2.0, 2.0, 0.0, 'Coconut', 'Good NPK')} -> {(2.0, 3.0, 0.0, 'Coconut', 'DAP'), (2.0, 3.0, 1.0, 'Coconut', 'DAP')} (3,1.0,1.0)\n",
      "{(2.0, 3.0, 0.0, 'Coconut', 'DAP'), (2.0, 3.0, 1.0, 'Coconut', 'DAP')} -> {(2.0, 2.0, 0.0, 'Coconut', 'Good NPK')} (3,1.0,1.0)\n",
      "{(2.0, 3.0, 0.0, 'Coconut', 'DAP'), (2.0, 2.0, 0.0, 'Coconut', 'Good NPK')} -> {(2.0, 3.0, 1.0, 'Coconut', 'DAP')} (3,1.0,1.0)\n",
      "{(2.0, 3.0, 1.0, 'Coconut', 'DAP')} -> {(2.0, 3.0, 0.0, 'Coconut', 'DAP'), (1.0, 3.0, 1.0, 'Coconut', 'DAP')} (3,1.0,1.0)\n",
      "{(1.0, 3.0, 1.0, 'Coconut', 'DAP')} -> {(2.0, 3.0, 0.0, 'Coconut', 'DAP'), (2.0, 3.0, 1.0, 'Coconut', 'DAP')} (3,1.0,1.0)\n",
      "{(2.0, 3.0, 0.0, 'Coconut', 'DAP'), (2.0, 3.0, 1.0, 'Coconut', 'DAP')} -> {(1.0, 3.0, 1.0, 'Coconut', 'DAP')} (3,1.0,1.0)\n",
      "{(2.0, 3.0, 0.0, 'Coconut', 'DAP'), (1.0, 3.0, 1.0, 'Coconut', 'DAP')} -> {(2.0, 3.0, 1.0, 'Coconut', 'DAP')} (3,1.0,1.0)\n",
      "{(0.0, 0.0, 3.0, 'rice', 'DAP')} -> {(1.0, 0.0, 2.0, 'rice', 'MOP'), (1.0, 0.0, 1.0, 'rice', 'DAP'), (1.0, 0.0, 2.0, 'rice', 'Urea')} (3,1.0,1.0)\n",
      "{(1.0, 0.0, 1.0, 'rice', 'DAP')} -> {(0.0, 0.0, 3.0, 'rice', 'DAP'), (1.0, 0.0, 2.0, 'rice', 'Urea'), (1.0, 0.0, 2.0, 'rice', 'MOP')} (3,1.0,1.0)\n",
      "{(1.0, 0.0, 2.0, 'rice', 'MOP')} -> {(0.0, 0.0, 3.0, 'rice', 'DAP'), (1.0, 0.0, 1.0, 'rice', 'DAP'), (1.0, 0.0, 2.0, 'rice', 'Urea')} (3,1.0,1.0)\n",
      "{(1.0, 0.0, 2.0, 'rice', 'Urea')} -> {(0.0, 0.0, 3.0, 'rice', 'DAP'), (1.0, 0.0, 1.0, 'rice', 'DAP'), (1.0, 0.0, 2.0, 'rice', 'MOP')} (3,1.0,1.0)\n",
      "{(0.0, 0.0, 3.0, 'rice', 'DAP'), (1.0, 0.0, 1.0, 'rice', 'DAP')} -> {(1.0, 0.0, 2.0, 'rice', 'MOP'), (1.0, 0.0, 2.0, 'rice', 'Urea')} (3,1.0,1.0)\n",
      "{(0.0, 0.0, 3.0, 'rice', 'DAP'), (1.0, 0.0, 2.0, 'rice', 'MOP')} -> {(1.0, 0.0, 1.0, 'rice', 'DAP'), (1.0, 0.0, 2.0, 'rice', 'Urea')} (3,1.0,1.0)\n",
      "{(0.0, 0.0, 3.0, 'rice', 'DAP'), (1.0, 0.0, 2.0, 'rice', 'Urea')} -> {(1.0, 0.0, 2.0, 'rice', 'MOP'), (1.0, 0.0, 1.0, 'rice', 'DAP')} (3,1.0,1.0)\n",
      "{(1.0, 0.0, 2.0, 'rice', 'MOP'), (1.0, 0.0, 1.0, 'rice', 'DAP')} -> {(0.0, 0.0, 3.0, 'rice', 'DAP'), (1.0, 0.0, 2.0, 'rice', 'Urea')} (3,1.0,1.0)\n",
      "{(1.0, 0.0, 1.0, 'rice', 'DAP'), (1.0, 0.0, 2.0, 'rice', 'Urea')} -> {(0.0, 0.0, 3.0, 'rice', 'DAP'), (1.0, 0.0, 2.0, 'rice', 'MOP')} (3,1.0,1.0)\n",
      "{(1.0, 0.0, 2.0, 'rice', 'MOP'), (1.0, 0.0, 2.0, 'rice', 'Urea')} -> {(0.0, 0.0, 3.0, 'rice', 'DAP'), (1.0, 0.0, 1.0, 'rice', 'DAP')} (3,1.0,1.0)\n",
      "{(0.0, 0.0, 3.0, 'rice', 'DAP'), (1.0, 0.0, 1.0, 'rice', 'DAP'), (1.0, 0.0, 2.0, 'rice', 'MOP')} -> {(1.0, 0.0, 2.0, 'rice', 'Urea')} (3,1.0,1.0)\n",
      "{(0.0, 0.0, 3.0, 'rice', 'DAP'), (1.0, 0.0, 1.0, 'rice', 'DAP'), (1.0, 0.0, 2.0, 'rice', 'Urea')} -> {(1.0, 0.0, 2.0, 'rice', 'MOP')} (3,1.0,1.0)\n",
      "{(0.0, 0.0, 3.0, 'rice', 'DAP'), (1.0, 0.0, 2.0, 'rice', 'Urea'), (1.0, 0.0, 2.0, 'rice', 'MOP')} -> {(1.0, 0.0, 1.0, 'rice', 'DAP')} (3,1.0,1.0)\n",
      "{(1.0, 0.0, 2.0, 'rice', 'MOP'), (1.0, 0.0, 1.0, 'rice', 'DAP'), (1.0, 0.0, 2.0, 'rice', 'Urea')} -> {(0.0, 0.0, 3.0, 'rice', 'DAP')} (3,1.0,1.0)\n",
      "{(2.0, 3.0, 1.0, 'Coconut', 'DAP')} -> {(2.0, 3.0, 0.0, 'Coconut', 'DAP'), (1.0, 2.0, 0.0, 'Coconut', 'Urea'), (1.0, 3.0, 1.0, 'Coconut', 'DAP')} (3,1.0,1.0)\n",
      "{(1.0, 3.0, 1.0, 'Coconut', 'DAP')} -> {(2.0, 3.0, 0.0, 'Coconut', 'DAP'), (2.0, 3.0, 1.0, 'Coconut', 'DAP'), (1.0, 2.0, 0.0, 'Coconut', 'Urea')} (3,1.0,1.0)\n",
      "{(2.0, 3.0, 0.0, 'Coconut', 'DAP'), (2.0, 3.0, 1.0, 'Coconut', 'DAP')} -> {(1.0, 2.0, 0.0, 'Coconut', 'Urea'), (1.0, 3.0, 1.0, 'Coconut', 'DAP')} (3,1.0,1.0)\n",
      "{(2.0, 3.0, 0.0, 'Coconut', 'DAP'), (1.0, 3.0, 1.0, 'Coconut', 'DAP')} -> {(2.0, 3.0, 1.0, 'Coconut', 'DAP'), (1.0, 2.0, 0.0, 'Coconut', 'Urea')} (3,1.0,1.0)\n",
      "{(2.0, 3.0, 1.0, 'Coconut', 'DAP'), (1.0, 2.0, 0.0, 'Coconut', 'Urea')} -> {(2.0, 3.0, 0.0, 'Coconut', 'DAP'), (1.0, 3.0, 1.0, 'Coconut', 'DAP')} (3,1.0,1.0)\n",
      "{(1.0, 2.0, 0.0, 'Coconut', 'Urea'), (1.0, 3.0, 1.0, 'Coconut', 'DAP')} -> {(2.0, 3.0, 0.0, 'Coconut', 'DAP'), (2.0, 3.0, 1.0, 'Coconut', 'DAP')} (3,1.0,1.0)\n",
      "{(2.0, 3.0, 0.0, 'Coconut', 'DAP'), (2.0, 3.0, 1.0, 'Coconut', 'DAP'), (1.0, 2.0, 0.0, 'Coconut', 'Urea')} -> {(1.0, 3.0, 1.0, 'Coconut', 'DAP')} (3,1.0,1.0)\n",
      "{(2.0, 3.0, 0.0, 'Coconut', 'DAP'), (1.0, 2.0, 0.0, 'Coconut', 'Urea'), (1.0, 3.0, 1.0, 'Coconut', 'DAP')} -> {(2.0, 3.0, 1.0, 'Coconut', 'DAP')} (3,1.0,1.0)\n",
      "{(0.0, 0.0, 3.0, 'rice', 'DAP')} -> {(1.0, 0.0, 2.0, 'rice', 'MOP'), (0.0, 0.0, 2.0, 'rice', 'Urea')} (3,1.0,1.0)\n",
      "{(1.0, 0.0, 2.0, 'rice', 'MOP')} -> {(0.0, 0.0, 3.0, 'rice', 'DAP'), (0.0, 0.0, 2.0, 'rice', 'Urea')} (3,1.0,1.0)\n",
      "{(0.0, 0.0, 2.0, 'rice', 'Urea')} -> {(0.0, 0.0, 3.0, 'rice', 'DAP'), (1.0, 0.0, 2.0, 'rice', 'MOP')} (3,1.0,1.0)\n",
      "{(0.0, 0.0, 3.0, 'rice', 'DAP'), (1.0, 0.0, 2.0, 'rice', 'MOP')} -> {(0.0, 0.0, 2.0, 'rice', 'Urea')} (3,1.0,1.0)\n",
      "{(0.0, 0.0, 3.0, 'rice', 'DAP'), (0.0, 0.0, 2.0, 'rice', 'Urea')} -> {(1.0, 0.0, 2.0, 'rice', 'MOP')} (3,1.0,1.0)\n",
      "{(1.0, 0.0, 2.0, 'rice', 'MOP'), (0.0, 0.0, 2.0, 'rice', 'Urea')} -> {(0.0, 0.0, 3.0, 'rice', 'DAP')} (3,1.0,1.0)\n",
      "{(0.0, 0.0, 3.0, 'rice', 'DAP')} -> {(0.0, 0.0, 2.0, 'rice', 'Urea'), (1.0, 0.0, 1.0, 'rice', 'MOP')} (3,1.0,1.0)\n",
      "{(1.0, 0.0, 1.0, 'rice', 'MOP')} -> {(0.0, 0.0, 3.0, 'rice', 'DAP'), (0.0, 0.0, 2.0, 'rice', 'Urea')} (3,1.0,1.0)\n",
      "{(0.0, 0.0, 2.0, 'rice', 'Urea')} -> {(0.0, 0.0, 3.0, 'rice', 'DAP'), (1.0, 0.0, 1.0, 'rice', 'MOP')} (3,1.0,1.0)\n",
      "{(0.0, 0.0, 3.0, 'rice', 'DAP'), (1.0, 0.0, 1.0, 'rice', 'MOP')} -> {(0.0, 0.0, 2.0, 'rice', 'Urea')} (3,1.0,1.0)\n",
      "{(0.0, 0.0, 3.0, 'rice', 'DAP'), (0.0, 0.0, 2.0, 'rice', 'Urea')} -> {(1.0, 0.0, 1.0, 'rice', 'MOP')} (3,1.0,1.0)\n",
      "{(0.0, 0.0, 2.0, 'rice', 'Urea'), (1.0, 0.0, 1.0, 'rice', 'MOP')} -> {(0.0, 0.0, 3.0, 'rice', 'DAP')} (3,1.0,1.0)\n",
      "{(2.0, 3.0, 1.0, 'Coconut', 'MOP')} -> {(2.0, 3.0, 0.0, 'Coconut', 'Urea'), (2.0, 3.0, 2.0, 'Coconut', 'MOP')} (3,1.0,1.0)\n",
      "{(2.0, 3.0, 2.0, 'Coconut', 'MOP')} -> {(2.0, 3.0, 1.0, 'Coconut', 'MOP'), (2.0, 3.0, 0.0, 'Coconut', 'Urea')} (3,1.0,1.0)\n",
      "{(2.0, 3.0, 1.0, 'Coconut', 'MOP'), (2.0, 3.0, 0.0, 'Coconut', 'Urea')} -> {(2.0, 3.0, 2.0, 'Coconut', 'MOP')} (3,1.0,1.0)\n",
      "{(2.0, 3.0, 0.0, 'Coconut', 'Urea'), (2.0, 3.0, 2.0, 'Coconut', 'MOP')} -> {(2.0, 3.0, 1.0, 'Coconut', 'MOP')} (3,1.0,1.0)\n",
      "{(2.0, 3.0, 1.0, 'Coconut', 'DAP')} -> {(1.0, 2.0, 0.0, 'Coconut', 'Urea'), (1.0, 3.0, 1.0, 'Coconut', 'DAP')} (3,1.0,1.0)\n",
      "{(1.0, 3.0, 1.0, 'Coconut', 'DAP')} -> {(2.0, 3.0, 1.0, 'Coconut', 'DAP'), (1.0, 2.0, 0.0, 'Coconut', 'Urea')} (3,1.0,1.0)\n",
      "{(2.0, 3.0, 1.0, 'Coconut', 'DAP'), (1.0, 2.0, 0.0, 'Coconut', 'Urea')} -> {(1.0, 3.0, 1.0, 'Coconut', 'DAP')} (3,1.0,1.0)\n",
      "{(1.0, 2.0, 0.0, 'Coconut', 'Urea'), (1.0, 3.0, 1.0, 'Coconut', 'DAP')} -> {(2.0, 3.0, 1.0, 'Coconut', 'DAP')} (3,1.0,1.0)\n",
      "{(0.0, 0.0, 3.0, 'rice', 'DAP')} -> {(1.0, 0.0, 2.0, 'rice', 'MOP'), (1.0, 0.0, 1.0, 'rice', 'MOP')} (3,1.0,1.0)\n",
      "{(1.0, 0.0, 2.0, 'rice', 'MOP')} -> {(0.0, 0.0, 3.0, 'rice', 'DAP'), (1.0, 0.0, 1.0, 'rice', 'MOP')} (3,1.0,1.0)\n",
      "{(1.0, 0.0, 1.0, 'rice', 'MOP')} -> {(0.0, 0.0, 3.0, 'rice', 'DAP'), (1.0, 0.0, 2.0, 'rice', 'MOP')} (3,1.0,1.0)\n",
      "{(0.0, 0.0, 3.0, 'rice', 'DAP'), (1.0, 0.0, 2.0, 'rice', 'MOP')} -> {(1.0, 0.0, 1.0, 'rice', 'MOP')} (3,1.0,1.0)\n",
      "{(0.0, 0.0, 3.0, 'rice', 'DAP'), (1.0, 0.0, 1.0, 'rice', 'MOP')} -> {(1.0, 0.0, 2.0, 'rice', 'MOP')} (3,1.0,1.0)\n",
      "{(1.0, 0.0, 2.0, 'rice', 'MOP'), (1.0, 0.0, 1.0, 'rice', 'MOP')} -> {(0.0, 0.0, 3.0, 'rice', 'DAP')} (3,1.0,1.0)\n",
      "{(2.0, 2.0, 0.0, 'Coconut', 'Urea')} -> {(1.0, 2.0, 0.0, 'Coconut', 'Urea'), (1.0, 0.0, 1.0, 'Coconut', 'Urea')} (3,1.0,1.0)\n",
      "{(1.0, 0.0, 1.0, 'Coconut', 'Urea')} -> {(1.0, 2.0, 0.0, 'Coconut', 'Urea'), (2.0, 2.0, 0.0, 'Coconut', 'Urea')} (3,1.0,1.0)\n",
      "{(1.0, 2.0, 0.0, 'Coconut', 'Urea'), (2.0, 2.0, 0.0, 'Coconut', 'Urea')} -> {(1.0, 0.0, 1.0, 'Coconut', 'Urea')} (3,1.0,1.0)\n",
      "{(1.0, 2.0, 0.0, 'Coconut', 'Urea'), (1.0, 0.0, 1.0, 'Coconut', 'Urea')} -> {(2.0, 2.0, 0.0, 'Coconut', 'Urea')} (3,1.0,1.0)\n",
      "{(1.0, 2.0, 0.0, 'Coconut', 'MOP')} -> {(1.0, 2.0, 0.0, 'Coconut', 'Urea'), (2.0, 2.0, 0.0, 'Coconut', 'Urea')} (3,1.0,1.0)\n",
      "{(2.0, 2.0, 0.0, 'Coconut', 'Urea')} -> {(1.0, 2.0, 0.0, 'Coconut', 'MOP'), (1.0, 2.0, 0.0, 'Coconut', 'Urea')} (3,1.0,1.0)\n",
      "{(1.0, 2.0, 0.0, 'Coconut', 'MOP'), (1.0, 2.0, 0.0, 'Coconut', 'Urea')} -> {(2.0, 2.0, 0.0, 'Coconut', 'Urea')} (3,1.0,1.0)\n",
      "{(1.0, 2.0, 0.0, 'Coconut', 'Urea'), (2.0, 2.0, 0.0, 'Coconut', 'Urea')} -> {(1.0, 2.0, 0.0, 'Coconut', 'MOP')} (3,1.0,1.0)\n",
      "{(2.0, 3.0, 1.0, 'Coconut', 'DAP')} -> {(1.0, 2.0, 0.0, 'Coconut', 'Urea'), (2.0, 2.0, 0.0, 'Coconut', 'Good NPK')} (3,1.0,1.0)\n",
      "{(2.0, 2.0, 0.0, 'Coconut', 'Good NPK')} -> {(2.0, 3.0, 1.0, 'Coconut', 'DAP'), (1.0, 2.0, 0.0, 'Coconut', 'Urea')} (3,1.0,1.0)\n",
      "{(2.0, 3.0, 1.0, 'Coconut', 'DAP'), (1.0, 2.0, 0.0, 'Coconut', 'Urea')} -> {(2.0, 2.0, 0.0, 'Coconut', 'Good NPK')} (3,1.0,1.0)\n",
      "{(1.0, 2.0, 0.0, 'Coconut', 'Urea'), (2.0, 2.0, 0.0, 'Coconut', 'Good NPK')} -> {(2.0, 3.0, 1.0, 'Coconut', 'DAP')} (3,1.0,1.0)\n",
      "{(1.0, 0.0, 1.0, 'Coconut', 'MOP')} -> {(2.0, 3.0, 0.0, 'Coconut', 'DAP'), (1.0, 2.0, 0.0, 'Coconut', 'Urea'), (1.0, 0.0, 1.0, 'Coconut', 'Urea')} (3,1.0,1.0)\n",
      "{(1.0, 0.0, 1.0, 'Coconut', 'Urea')} -> {(2.0, 3.0, 0.0, 'Coconut', 'DAP'), (1.0, 2.0, 0.0, 'Coconut', 'Urea'), (1.0, 0.0, 1.0, 'Coconut', 'MOP')} (3,1.0,1.0)\n",
      "{(2.0, 3.0, 0.0, 'Coconut', 'DAP'), (1.0, 0.0, 1.0, 'Coconut', 'MOP')} -> {(1.0, 2.0, 0.0, 'Coconut', 'Urea'), (1.0, 0.0, 1.0, 'Coconut', 'Urea')} (3,1.0,1.0)\n",
      "{(2.0, 3.0, 0.0, 'Coconut', 'DAP'), (1.0, 0.0, 1.0, 'Coconut', 'Urea')} -> {(1.0, 2.0, 0.0, 'Coconut', 'Urea'), (1.0, 0.0, 1.0, 'Coconut', 'MOP')} (3,1.0,1.0)\n",
      "{(1.0, 2.0, 0.0, 'Coconut', 'Urea'), (1.0, 0.0, 1.0, 'Coconut', 'MOP')} -> {(2.0, 3.0, 0.0, 'Coconut', 'DAP'), (1.0, 0.0, 1.0, 'Coconut', 'Urea')} (3,1.0,1.0)\n",
      "{(1.0, 2.0, 0.0, 'Coconut', 'Urea'), (1.0, 0.0, 1.0, 'Coconut', 'Urea')} -> {(2.0, 3.0, 0.0, 'Coconut', 'DAP'), (1.0, 0.0, 1.0, 'Coconut', 'MOP')} (3,1.0,1.0)\n",
      "{(2.0, 3.0, 0.0, 'Coconut', 'DAP'), (1.0, 2.0, 0.0, 'Coconut', 'Urea'), (1.0, 0.0, 1.0, 'Coconut', 'MOP')} -> {(1.0, 0.0, 1.0, 'Coconut', 'Urea')} (3,1.0,1.0)\n",
      "{(2.0, 3.0, 0.0, 'Coconut', 'DAP'), (1.0, 2.0, 0.0, 'Coconut', 'Urea'), (1.0, 0.0, 1.0, 'Coconut', 'Urea')} -> {(1.0, 0.0, 1.0, 'Coconut', 'MOP')} (3,1.0,1.0)\n",
      "{(2.0, 2.0, 0.0, 'Coconut', 'Urea')} -> {(2.0, 3.0, 0.0, 'Coconut', 'DAP'), (1.0, 2.0, 0.0, 'Coconut', 'Urea'), (1.0, 0.0, 1.0, 'Coconut', 'Urea')} (3,1.0,1.0)\n",
      "{(1.0, 0.0, 1.0, 'Coconut', 'Urea')} -> {(2.0, 3.0, 0.0, 'Coconut', 'DAP'), (1.0, 2.0, 0.0, 'Coconut', 'Urea'), (2.0, 2.0, 0.0, 'Coconut', 'Urea')} (3,1.0,1.0)\n",
      "{(2.0, 3.0, 0.0, 'Coconut', 'DAP'), (2.0, 2.0, 0.0, 'Coconut', 'Urea')} -> {(1.0, 2.0, 0.0, 'Coconut', 'Urea'), (1.0, 0.0, 1.0, 'Coconut', 'Urea')} (3,1.0,1.0)\n",
      "{(2.0, 3.0, 0.0, 'Coconut', 'DAP'), (1.0, 0.0, 1.0, 'Coconut', 'Urea')} -> {(1.0, 2.0, 0.0, 'Coconut', 'Urea'), (2.0, 2.0, 0.0, 'Coconut', 'Urea')} (3,1.0,1.0)\n",
      "{(1.0, 2.0, 0.0, 'Coconut', 'Urea'), (2.0, 2.0, 0.0, 'Coconut', 'Urea')} -> {(2.0, 3.0, 0.0, 'Coconut', 'DAP'), (1.0, 0.0, 1.0, 'Coconut', 'Urea')} (3,1.0,1.0)\n",
      "{(1.0, 2.0, 0.0, 'Coconut', 'Urea'), (1.0, 0.0, 1.0, 'Coconut', 'Urea')} -> {(2.0, 3.0, 0.0, 'Coconut', 'DAP'), (2.0, 2.0, 0.0, 'Coconut', 'Urea')} (3,1.0,1.0)\n",
      "{(2.0, 3.0, 0.0, 'Coconut', 'DAP'), (1.0, 2.0, 0.0, 'Coconut', 'Urea'), (2.0, 2.0, 0.0, 'Coconut', 'Urea')} -> {(1.0, 0.0, 1.0, 'Coconut', 'Urea')} (3,1.0,1.0)\n",
      "{(2.0, 3.0, 0.0, 'Coconut', 'DAP'), (1.0, 2.0, 0.0, 'Coconut', 'Urea'), (1.0, 0.0, 1.0, 'Coconut', 'Urea')} -> {(2.0, 2.0, 0.0, 'Coconut', 'Urea')} (3,1.0,1.0)\n",
      "{(2.0, 3.0, 1.0, 'Coconut', 'DAP')} -> {(2.0, 3.0, 0.0, 'Coconut', 'DAP'), (1.0, 2.0, 0.0, 'Coconut', 'Urea'), (1.0, 3.0, 1.0, 'Coconut', 'DAP')} (3,1.0,1.0)\n",
      "{(1.0, 3.0, 1.0, 'Coconut', 'DAP')} -> {(2.0, 3.0, 0.0, 'Coconut', 'DAP'), (2.0, 3.0, 1.0, 'Coconut', 'DAP'), (1.0, 2.0, 0.0, 'Coconut', 'Urea')} (3,1.0,1.0)\n",
      "{(2.0, 3.0, 0.0, 'Coconut', 'DAP'), (2.0, 3.0, 1.0, 'Coconut', 'DAP')} -> {(1.0, 2.0, 0.0, 'Coconut', 'Urea'), (1.0, 3.0, 1.0, 'Coconut', 'DAP')} (3,1.0,1.0)\n",
      "{(2.0, 3.0, 0.0, 'Coconut', 'DAP'), (1.0, 3.0, 1.0, 'Coconut', 'DAP')} -> {(2.0, 3.0, 1.0, 'Coconut', 'DAP'), (1.0, 2.0, 0.0, 'Coconut', 'Urea')} (3,1.0,1.0)\n",
      "{(2.0, 3.0, 1.0, 'Coconut', 'DAP'), (1.0, 2.0, 0.0, 'Coconut', 'Urea')} -> {(2.0, 3.0, 0.0, 'Coconut', 'DAP'), (1.0, 3.0, 1.0, 'Coconut', 'DAP')} (3,1.0,1.0)\n",
      "{(1.0, 2.0, 0.0, 'Coconut', 'Urea'), (1.0, 3.0, 1.0, 'Coconut', 'DAP')} -> {(2.0, 3.0, 0.0, 'Coconut', 'DAP'), (2.0, 3.0, 1.0, 'Coconut', 'DAP')} (3,1.0,1.0)\n",
      "{(2.0, 3.0, 0.0, 'Coconut', 'DAP'), (2.0, 3.0, 1.0, 'Coconut', 'DAP'), (1.0, 2.0, 0.0, 'Coconut', 'Urea')} -> {(1.0, 3.0, 1.0, 'Coconut', 'DAP')} (3,1.0,1.0)\n",
      "{(2.0, 3.0, 0.0, 'Coconut', 'DAP'), (1.0, 2.0, 0.0, 'Coconut', 'Urea'), (1.0, 3.0, 1.0, 'Coconut', 'DAP')} -> {(2.0, 3.0, 1.0, 'Coconut', 'DAP')} (3,1.0,1.0)\n",
      "{(2.0, 3.0, 1.0, 'Coconut', 'DAP')} -> {(2.0, 3.0, 0.0, 'Coconut', 'DAP'), (1.0, 2.0, 0.0, 'Coconut', 'Urea'), (2.0, 2.0, 0.0, 'Coconut', 'Good NPK')} (3,1.0,1.0)\n",
      "{(2.0, 2.0, 0.0, 'Coconut', 'Good NPK')} -> {(2.0, 3.0, 0.0, 'Coconut', 'DAP'), (2.0, 3.0, 1.0, 'Coconut', 'DAP'), (1.0, 2.0, 0.0, 'Coconut', 'Urea')} (3,1.0,1.0)\n",
      "{(2.0, 3.0, 0.0, 'Coconut', 'DAP'), (2.0, 3.0, 1.0, 'Coconut', 'DAP')} -> {(1.0, 2.0, 0.0, 'Coconut', 'Urea'), (2.0, 2.0, 0.0, 'Coconut', 'Good NPK')} (3,1.0,1.0)\n",
      "{(2.0, 3.0, 0.0, 'Coconut', 'DAP'), (2.0, 2.0, 0.0, 'Coconut', 'Good NPK')} -> {(2.0, 3.0, 1.0, 'Coconut', 'DAP'), (1.0, 2.0, 0.0, 'Coconut', 'Urea')} (3,1.0,1.0)\n",
      "{(2.0, 3.0, 1.0, 'Coconut', 'DAP'), (1.0, 2.0, 0.0, 'Coconut', 'Urea')} -> {(2.0, 3.0, 0.0, 'Coconut', 'DAP'), (2.0, 2.0, 0.0, 'Coconut', 'Good NPK')} (3,1.0,1.0)\n",
      "{(1.0, 2.0, 0.0, 'Coconut', 'Urea'), (2.0, 2.0, 0.0, 'Coconut', 'Good NPK')} -> {(2.0, 3.0, 0.0, 'Coconut', 'DAP'), (2.0, 3.0, 1.0, 'Coconut', 'DAP')} (3,1.0,1.0)\n",
      "{(2.0, 3.0, 0.0, 'Coconut', 'DAP'), (2.0, 3.0, 1.0, 'Coconut', 'DAP'), (1.0, 2.0, 0.0, 'Coconut', 'Urea')} -> {(2.0, 2.0, 0.0, 'Coconut', 'Good NPK')} (3,1.0,1.0)\n",
      "{(2.0, 3.0, 0.0, 'Coconut', 'DAP'), (1.0, 2.0, 0.0, 'Coconut', 'Urea'), (2.0, 2.0, 0.0, 'Coconut', 'Good NPK')} -> {(2.0, 3.0, 1.0, 'Coconut', 'DAP')} (3,1.0,1.0)\n"
     ]
    }
   ],
   "source": [
    "strong_association_rules = jaccard_metric(association_rules,dataitems)\n",
    "afficher_rules(strong_association_rules)"
   ]
  },
  {
   "cell_type": "markdown",
   "metadata": {},
   "source": [
    "Calcul Kulczynski"
   ]
  },
  {
   "cell_type": "code",
   "execution_count": 93,
   "metadata": {},
   "outputs": [],
   "source": [
    "def kulczynski_metric(association_rules, dataitems):\n",
    "    forte_rules=[]\n",
    "    for i in range(len(association_rules)):\n",
    "        rule=association_rules[i]\n",
    "        item1,item2,support,confiance=rule\n",
    "        P_A_B = 0\n",
    "        P_A = 0\n",
    "        P_B = 0\n",
    "        for index, row in dataitems.iterrows():\n",
    "            if all(i in row['Items'] for i in item1) and all(i in row['Items'] for i in item2):\n",
    "                P_A_B += 1\n",
    "            if all(i in row['Items'] for i in item1):\n",
    "                P_A += 1\n",
    "            if all(i in row['Items'] for i in item2):\n",
    "                P_B += 1\n",
    "        kulczynski= round(((1/2)*((P_A_B/P_A)+(P_A_B/P_B))),2)\n",
    "        forte_rules.append((rule,kulczynski))\n",
    "\n",
    "    sorted(forte_rules, key=lambda x: x[1], reverse=True) # Sort forte_rules\n",
    "    max_kulczynski=max(forte_rules, key=lambda x: x[1])[1]\n",
    "    forte_rules=[(rule,kulczynski) for rule,kulczynski in forte_rules if kulczynski==max_kulczynski]\n",
    "    return forte_rules"
   ]
  },
  {
   "cell_type": "code",
   "execution_count": 94,
   "metadata": {},
   "outputs": [
    {
     "name": "stdout",
     "output_type": "stream",
     "text": [
      "{(1.0, 0.0, 2.0, 'rice', 'DAP')} -> {(0.0, 0.0, 3.0, 'rice', 'DAP')} (3,1.0,1.0)\n",
      "{(0.0, 0.0, 3.0, 'rice', 'DAP')} -> {(1.0, 0.0, 2.0, 'rice', 'DAP')} (3,1.0,1.0)\n",
      "{(1.0, 2.0, 0.0, 'Coconut', 'MOP')} -> {(1.0, 0.0, 1.0, 'Coconut', 'Urea')} (3,1.0,1.0)\n",
      "{(1.0, 0.0, 1.0, 'Coconut', 'Urea')} -> {(1.0, 2.0, 0.0, 'Coconut', 'MOP')} (3,1.0,1.0)\n",
      "{(1.0, 0.0, 1.0, 'rice', 'DAP')} -> {(1.0, 0.0, 1.0, 'rice', 'MOP')} (3,1.0,1.0)\n",
      "{(1.0, 0.0, 1.0, 'rice', 'MOP')} -> {(1.0, 0.0, 1.0, 'rice', 'DAP')} (3,1.0,1.0)\n",
      "{(2.0, 3.0, 0.0, 'Coconut', 'DAP')} -> {(2.0, 3.0, 0.0, 'Coconut', 'Urea')} (4,1.0,1.0)\n",
      "{(2.0, 3.0, 0.0, 'Coconut', 'Urea')} -> {(2.0, 3.0, 0.0, 'Coconut', 'DAP')} (4,1.0,1.0)\n",
      "{(1.0, 0.0, 1.0, 'rice', 'Good NPK')} -> {(1.0, 0.0, 1.0, 'rice', 'MOP')} (3,1.0,1.0)\n",
      "{(1.0, 0.0, 1.0, 'rice', 'MOP')} -> {(1.0, 0.0, 1.0, 'rice', 'Good NPK')} (3,1.0,1.0)\n",
      "{(2.0, 3.0, 0.0, 'Coconut', 'MOP')} -> {(1.0, 3.0, 1.0, 'Coconut', 'DAP')} (3,1.0,1.0)\n",
      "{(1.0, 3.0, 1.0, 'Coconut', 'DAP')} -> {(2.0, 3.0, 0.0, 'Coconut', 'MOP')} (3,1.0,1.0)\n",
      "{(1.0, 2.0, 0.0, 'Coconut', 'Urea')} -> {(2.0, 3.0, 0.0, 'Coconut', 'Urea')} (4,1.0,1.0)\n",
      "{(2.0, 3.0, 0.0, 'Coconut', 'Urea')} -> {(1.0, 2.0, 0.0, 'Coconut', 'Urea')} (4,1.0,1.0)\n",
      "{(2.0, 3.0, 1.0, 'Coconut', 'Urea')} -> {(1.0, 3.0, 1.0, 'Coconut', 'DAP')} (3,1.0,1.0)\n",
      "{(1.0, 3.0, 1.0, 'Coconut', 'DAP')} -> {(2.0, 3.0, 1.0, 'Coconut', 'Urea')} (3,1.0,1.0)\n",
      "{(1.0, 0.0, 1.0, 'rice', 'Good NPK')} -> {(1.0, 0.0, 1.0, 'rice', 'DAP')} (3,1.0,1.0)\n",
      "{(1.0, 0.0, 1.0, 'rice', 'DAP')} -> {(1.0, 0.0, 1.0, 'rice', 'Good NPK')} (3,1.0,1.0)\n",
      "{(0.0, 0.0, 2.0, 'rice', 'Urea')} -> {(1.0, 0.0, 2.0, 'rice', 'Urea')} (3,1.0,1.0)\n",
      "{(1.0, 0.0, 2.0, 'rice', 'Urea')} -> {(0.0, 0.0, 2.0, 'rice', 'Urea')} (3,1.0,1.0)\n",
      "{(1.0, 0.0, 2.0, 'rice', 'MOP')} -> {(1.0, 0.0, 2.0, 'rice', 'Urea')} (3,1.0,1.0)\n",
      "{(1.0, 0.0, 2.0, 'rice', 'Urea')} -> {(1.0, 0.0, 2.0, 'rice', 'MOP')} (3,1.0,1.0)\n",
      "{(0.0, 0.0, 3.0, 'rice', 'DAP')} -> {(1.0, 0.0, 1.0, 'rice', 'DAP')} (3,1.0,1.0)\n",
      "{(1.0, 0.0, 1.0, 'rice', 'DAP')} -> {(0.0, 0.0, 3.0, 'rice', 'DAP')} (3,1.0,1.0)\n",
      "{(1.0, 0.0, 2.0, 'rice', 'MOP')} -> {(0.0, 0.0, 2.0, 'rice', 'Urea')} (3,1.0,1.0)\n",
      "{(0.0, 0.0, 2.0, 'rice', 'Urea')} -> {(1.0, 0.0, 2.0, 'rice', 'MOP')} (3,1.0,1.0)\n",
      "{(1.0, 0.0, 2.0, 'rice', 'DAP')} -> {(1.0, 0.0, 1.0, 'rice', 'MOP')} (3,1.0,1.0)\n",
      "{(1.0, 0.0, 1.0, 'rice', 'MOP')} -> {(1.0, 0.0, 2.0, 'rice', 'DAP')} (3,1.0,1.0)\n",
      "{(1.0, 2.0, 0.0, 'Coconut', 'MOP')} -> {(1.0, 0.0, 1.0, 'Coconut', 'MOP')} (3,1.0,1.0)\n",
      "{(1.0, 0.0, 1.0, 'Coconut', 'MOP')} -> {(1.0, 2.0, 0.0, 'Coconut', 'MOP')} (3,1.0,1.0)\n",
      "{(1.0, 0.0, 3.0, 'rice', 'Urea')} -> {(0.0, 0.0, 3.0, 'rice', 'DAP')} (3,1.0,1.0)\n",
      "{(0.0, 0.0, 3.0, 'rice', 'DAP')} -> {(1.0, 0.0, 3.0, 'rice', 'Urea')} (3,1.0,1.0)\n",
      "{(1.0, 0.0, 2.0, 'rice', 'DAP')} -> {(1.0, 0.0, 1.0, 'rice', 'DAP')} (3,1.0,1.0)\n",
      "{(1.0, 0.0, 1.0, 'rice', 'DAP')} -> {(1.0, 0.0, 2.0, 'rice', 'DAP')} (3,1.0,1.0)\n",
      "{(0.0, 0.0, 3.0, 'rice', 'DAP')} -> {(1.0, 0.0, 1.0, 'rice', 'Good NPK')} (3,1.0,1.0)\n",
      "{(1.0, 0.0, 1.0, 'rice', 'Good NPK')} -> {(0.0, 0.0, 3.0, 'rice', 'DAP')} (3,1.0,1.0)\n",
      "{(2.0, 3.0, 1.0, 'Coconut', 'DAP')} -> {(2.0, 2.0, 0.0, 'Coconut', 'Good NPK')} (3,1.0,1.0)\n",
      "{(2.0, 2.0, 0.0, 'Coconut', 'Good NPK')} -> {(2.0, 3.0, 1.0, 'Coconut', 'DAP')} (3,1.0,1.0)\n",
      "{(1.0, 0.0, 1.0, 'rice', 'DAP')} -> {(1.0, 0.0, 2.0, 'rice', 'Urea')} (3,1.0,1.0)\n",
      "{(1.0, 0.0, 2.0, 'rice', 'Urea')} -> {(1.0, 0.0, 1.0, 'rice', 'DAP')} (3,1.0,1.0)\n",
      "{(1.0, 0.0, 1.0, 'rice', 'DAP')} -> {(0.0, 0.0, 2.0, 'rice', 'Urea')} (3,1.0,1.0)\n",
      "{(0.0, 0.0, 2.0, 'rice', 'Urea')} -> {(1.0, 0.0, 1.0, 'rice', 'DAP')} (3,1.0,1.0)\n",
      "{(1.0, 0.0, 1.0, 'rice', 'Good NPK')} -> {(1.0, 0.0, 2.0, 'rice', 'Urea')} (3,1.0,1.0)\n",
      "{(1.0, 0.0, 2.0, 'rice', 'Urea')} -> {(1.0, 0.0, 1.0, 'rice', 'Good NPK')} (3,1.0,1.0)\n",
      "{(1.0, 0.0, 1.0, 'rice', 'Good NPK')} -> {(0.0, 0.0, 2.0, 'rice', 'Urea')} (3,1.0,1.0)\n",
      "{(0.0, 0.0, 2.0, 'rice', 'Urea')} -> {(1.0, 0.0, 1.0, 'rice', 'Good NPK')} (3,1.0,1.0)\n",
      "{(0.0, 0.0, 3.0, 'rice', 'DAP')} -> {(1.0, 0.0, 2.0, 'rice', 'Urea')} (3,1.0,1.0)\n",
      "{(1.0, 0.0, 2.0, 'rice', 'Urea')} -> {(0.0, 0.0, 3.0, 'rice', 'DAP')} (3,1.0,1.0)\n",
      "{(1.0, 0.0, 1.0, 'Coconut', 'MOP')} -> {(2.0, 2.0, 0.0, 'Coconut', 'Urea')} (3,1.0,1.0)\n",
      "{(2.0, 2.0, 0.0, 'Coconut', 'Urea')} -> {(1.0, 0.0, 1.0, 'Coconut', 'MOP')} (3,1.0,1.0)\n",
      "{(1.0, 0.0, 2.0, 'rice', 'DAP')} -> {(1.0, 0.0, 1.0, 'rice', 'Good NPK')} (3,1.0,1.0)\n",
      "{(1.0, 0.0, 1.0, 'rice', 'Good NPK')} -> {(1.0, 0.0, 2.0, 'rice', 'DAP')} (3,1.0,1.0)\n",
      "{(0.0, 0.0, 3.0, 'rice', 'DAP')} -> {(0.0, 0.0, 2.0, 'rice', 'Urea')} (3,1.0,1.0)\n",
      "{(0.0, 0.0, 2.0, 'rice', 'Urea')} -> {(0.0, 0.0, 3.0, 'rice', 'DAP')} (3,1.0,1.0)\n",
      "{(2.0, 3.0, 1.0, 'Coconut', 'MOP')} -> {(2.0, 3.0, 2.0, 'Coconut', 'MOP')} (3,1.0,1.0)\n",
      "{(2.0, 3.0, 2.0, 'Coconut', 'MOP')} -> {(2.0, 3.0, 1.0, 'Coconut', 'MOP')} (3,1.0,1.0)\n",
      "{(2.0, 3.0, 0.0, 'Coconut', 'MOP')} -> {(2.0, 3.0, 1.0, 'Coconut', 'Urea')} (3,1.0,1.0)\n",
      "{(2.0, 3.0, 1.0, 'Coconut', 'Urea')} -> {(2.0, 3.0, 0.0, 'Coconut', 'MOP')} (3,1.0,1.0)\n",
      "{(1.0, 0.0, 3.0, 'rice', 'Urea')} -> {(1.0, 0.0, 1.0, 'rice', 'MOP')} (3,1.0,1.0)\n",
      "{(1.0, 0.0, 1.0, 'rice', 'MOP')} -> {(1.0, 0.0, 3.0, 'rice', 'Urea')} (3,1.0,1.0)\n",
      "{(1.0, 0.0, 2.0, 'rice', 'DAP')} -> {(1.0, 0.0, 2.0, 'rice', 'Urea')} (3,1.0,1.0)\n",
      "{(1.0, 0.0, 2.0, 'rice', 'Urea')} -> {(1.0, 0.0, 2.0, 'rice', 'DAP')} (3,1.0,1.0)\n",
      "{(1.0, 0.0, 2.0, 'rice', 'DAP')} -> {(0.0, 0.0, 2.0, 'rice', 'Urea')} (3,1.0,1.0)\n",
      "{(0.0, 0.0, 2.0, 'rice', 'Urea')} -> {(1.0, 0.0, 2.0, 'rice', 'DAP')} (3,1.0,1.0)\n",
      "{(1.0, 0.0, 1.0, 'rice', 'DAP')} -> {(1.0, 0.0, 2.0, 'rice', 'MOP')} (3,1.0,1.0)\n",
      "{(1.0, 0.0, 2.0, 'rice', 'MOP')} -> {(1.0, 0.0, 1.0, 'rice', 'DAP')} (3,1.0,1.0)\n",
      "{(2.0, 3.0, 1.0, 'Coconut', 'DAP')} -> {(1.0, 3.0, 1.0, 'Coconut', 'DAP')} (3,1.0,1.0)\n",
      "{(1.0, 3.0, 1.0, 'Coconut', 'DAP')} -> {(2.0, 3.0, 1.0, 'Coconut', 'DAP')} (3,1.0,1.0)\n",
      "{(1.0, 0.0, 3.0, 'rice', 'Urea')} -> {(1.0, 0.0, 1.0, 'rice', 'DAP')} (3,1.0,1.0)\n",
      "{(1.0, 0.0, 1.0, 'rice', 'DAP')} -> {(1.0, 0.0, 3.0, 'rice', 'Urea')} (3,1.0,1.0)\n",
      "{(1.0, 0.0, 1.0, 'rice', 'Good NPK')} -> {(1.0, 0.0, 2.0, 'rice', 'MOP')} (3,1.0,1.0)\n",
      "{(1.0, 0.0, 2.0, 'rice', 'MOP')} -> {(1.0, 0.0, 1.0, 'rice', 'Good NPK')} (3,1.0,1.0)\n",
      "{(0.0, 0.0, 3.0, 'rice', 'DAP')} -> {(1.0, 0.0, 2.0, 'rice', 'MOP')} (3,1.0,1.0)\n",
      "{(1.0, 0.0, 2.0, 'rice', 'MOP')} -> {(0.0, 0.0, 3.0, 'rice', 'DAP')} (3,1.0,1.0)\n",
      "{(1.0, 3.0, 1.0, 'Coconut', 'DAP')} -> {(2.0, 2.0, 0.0, 'Coconut', 'Good NPK')} (3,1.0,1.0)\n",
      "{(2.0, 2.0, 0.0, 'Coconut', 'Good NPK')} -> {(1.0, 3.0, 1.0, 'Coconut', 'DAP')} (3,1.0,1.0)\n",
      "{(2.0, 3.0, 0.0, 'Coconut', 'MOP')} -> {(2.0, 2.0, 0.0, 'Coconut', 'Good NPK')} (3,1.0,1.0)\n",
      "{(2.0, 2.0, 0.0, 'Coconut', 'Good NPK')} -> {(2.0, 3.0, 0.0, 'Coconut', 'MOP')} (3,1.0,1.0)\n",
      "{(1.0, 0.0, 3.0, 'rice', 'Urea')} -> {(1.0, 0.0, 1.0, 'rice', 'Good NPK')} (3,1.0,1.0)\n",
      "{(1.0, 0.0, 1.0, 'rice', 'Good NPK')} -> {(1.0, 0.0, 3.0, 'rice', 'Urea')} (3,1.0,1.0)\n",
      "{(2.0, 3.0, 1.0, 'Coconut', 'Urea')} -> {(2.0, 2.0, 0.0, 'Coconut', 'Good NPK')} (3,1.0,1.0)\n",
      "{(2.0, 2.0, 0.0, 'Coconut', 'Good NPK')} -> {(2.0, 3.0, 1.0, 'Coconut', 'Urea')} (3,1.0,1.0)\n",
      "{(2.0, 2.0, 0.0, 'Coconut', 'Urea')} -> {(1.0, 0.0, 1.0, 'Coconut', 'Urea')} (3,1.0,1.0)\n",
      "{(1.0, 0.0, 1.0, 'Coconut', 'Urea')} -> {(2.0, 2.0, 0.0, 'Coconut', 'Urea')} (3,1.0,1.0)\n",
      "{(1.0, 0.0, 2.0, 'rice', 'DAP')} -> {(1.0, 0.0, 2.0, 'rice', 'MOP')} (3,1.0,1.0)\n",
      "{(1.0, 0.0, 2.0, 'rice', 'MOP')} -> {(1.0, 0.0, 2.0, 'rice', 'DAP')} (3,1.0,1.0)\n",
      "{(1.0, 0.0, 3.0, 'rice', 'Urea')} -> {(1.0, 0.0, 2.0, 'rice', 'Urea')} (3,1.0,1.0)\n",
      "{(1.0, 0.0, 2.0, 'rice', 'Urea')} -> {(1.0, 0.0, 3.0, 'rice', 'Urea')} (3,1.0,1.0)\n",
      "{(1.0, 0.0, 3.0, 'rice', 'Urea')} -> {(0.0, 0.0, 2.0, 'rice', 'Urea')} (3,1.0,1.0)\n",
      "{(0.0, 0.0, 2.0, 'rice', 'Urea')} -> {(1.0, 0.0, 3.0, 'rice', 'Urea')} (3,1.0,1.0)\n",
      "{(1.0, 2.0, 0.0, 'Coconut', 'MOP')} -> {(2.0, 2.0, 0.0, 'Coconut', 'Urea')} (3,1.0,1.0)\n",
      "{(2.0, 2.0, 0.0, 'Coconut', 'Urea')} -> {(1.0, 2.0, 0.0, 'Coconut', 'MOP')} (3,1.0,1.0)\n",
      "{(0.0, 0.0, 3.0, 'rice', 'DAP')} -> {(1.0, 0.0, 1.0, 'rice', 'MOP')} (3,1.0,1.0)\n",
      "{(1.0, 0.0, 1.0, 'rice', 'MOP')} -> {(0.0, 0.0, 3.0, 'rice', 'DAP')} (3,1.0,1.0)\n",
      "{(2.0, 3.0, 0.0, 'Coconut', 'DAP')} -> {(1.0, 2.0, 0.0, 'Coconut', 'Urea')} (4,1.0,1.0)\n",
      "{(1.0, 2.0, 0.0, 'Coconut', 'Urea')} -> {(2.0, 3.0, 0.0, 'Coconut', 'DAP')} (4,1.0,1.0)\n",
      "{(2.0, 3.0, 1.0, 'Coconut', 'DAP')} -> {(2.0, 3.0, 1.0, 'Coconut', 'Urea')} (3,1.0,1.0)\n",
      "{(2.0, 3.0, 1.0, 'Coconut', 'Urea')} -> {(2.0, 3.0, 1.0, 'Coconut', 'DAP')} (3,1.0,1.0)\n",
      "{(1.0, 0.0, 3.0, 'rice', 'Urea')} -> {(1.0, 0.0, 2.0, 'rice', 'MOP')} (3,1.0,1.0)\n",
      "{(1.0, 0.0, 2.0, 'rice', 'MOP')} -> {(1.0, 0.0, 3.0, 'rice', 'Urea')} (3,1.0,1.0)\n",
      "{(1.0, 0.0, 1.0, 'Coconut', 'MOP')} -> {(1.0, 0.0, 1.0, 'Coconut', 'Urea')} (3,1.0,1.0)\n",
      "{(1.0, 0.0, 1.0, 'Coconut', 'Urea')} -> {(1.0, 0.0, 1.0, 'Coconut', 'MOP')} (3,1.0,1.0)\n",
      "{(1.0, 0.0, 2.0, 'rice', 'MOP')} -> {(1.0, 0.0, 1.0, 'rice', 'MOP')} (3,1.0,1.0)\n",
      "{(1.0, 0.0, 1.0, 'rice', 'MOP')} -> {(1.0, 0.0, 2.0, 'rice', 'MOP')} (3,1.0,1.0)\n",
      "{(1.0, 0.0, 1.0, 'rice', 'MOP')} -> {(1.0, 0.0, 2.0, 'rice', 'Urea')} (3,1.0,1.0)\n",
      "{(1.0, 0.0, 2.0, 'rice', 'Urea')} -> {(1.0, 0.0, 1.0, 'rice', 'MOP')} (3,1.0,1.0)\n",
      "{(1.0, 0.0, 1.0, 'rice', 'MOP')} -> {(0.0, 0.0, 2.0, 'rice', 'Urea')} (3,1.0,1.0)\n",
      "{(0.0, 0.0, 2.0, 'rice', 'Urea')} -> {(1.0, 0.0, 1.0, 'rice', 'MOP')} (3,1.0,1.0)\n",
      "{(2.0, 3.0, 0.0, 'Coconut', 'MOP')} -> {(2.0, 3.0, 1.0, 'Coconut', 'DAP')} (3,1.0,1.0)\n",
      "{(2.0, 3.0, 1.0, 'Coconut', 'DAP')} -> {(2.0, 3.0, 0.0, 'Coconut', 'MOP')} (3,1.0,1.0)\n",
      "{(1.0, 0.0, 3.0, 'rice', 'Urea')} -> {(1.0, 0.0, 2.0, 'rice', 'DAP')} (3,1.0,1.0)\n",
      "{(1.0, 0.0, 2.0, 'rice', 'DAP')} -> {(1.0, 0.0, 3.0, 'rice', 'Urea')} (3,1.0,1.0)\n",
      "{(1.0, 2.0, 0.0, 'Coconut', 'MOP')} -> {(1.0, 2.0, 0.0, 'Coconut', 'Urea'), (1.0, 0.0, 1.0, 'Coconut', 'MOP'), (1.0, 0.0, 1.0, 'Coconut', 'Urea')} (3,1.0,1.0)\n",
      "{(1.0, 0.0, 1.0, 'Coconut', 'MOP')} -> {(1.0, 2.0, 0.0, 'Coconut', 'MOP'), (1.0, 2.0, 0.0, 'Coconut', 'Urea'), (1.0, 0.0, 1.0, 'Coconut', 'Urea')} (3,1.0,1.0)\n",
      "{(1.0, 0.0, 1.0, 'Coconut', 'Urea')} -> {(1.0, 2.0, 0.0, 'Coconut', 'MOP'), (1.0, 2.0, 0.0, 'Coconut', 'Urea'), (1.0, 0.0, 1.0, 'Coconut', 'MOP')} (3,1.0,1.0)\n",
      "{(1.0, 2.0, 0.0, 'Coconut', 'MOP'), (1.0, 2.0, 0.0, 'Coconut', 'Urea')} -> {(1.0, 0.0, 1.0, 'Coconut', 'MOP'), (1.0, 0.0, 1.0, 'Coconut', 'Urea')} (3,1.0,1.0)\n",
      "{(1.0, 2.0, 0.0, 'Coconut', 'MOP'), (1.0, 0.0, 1.0, 'Coconut', 'MOP')} -> {(1.0, 2.0, 0.0, 'Coconut', 'Urea'), (1.0, 0.0, 1.0, 'Coconut', 'Urea')} (3,1.0,1.0)\n",
      "{(1.0, 2.0, 0.0, 'Coconut', 'MOP'), (1.0, 0.0, 1.0, 'Coconut', 'Urea')} -> {(1.0, 2.0, 0.0, 'Coconut', 'Urea'), (1.0, 0.0, 1.0, 'Coconut', 'MOP')} (3,1.0,1.0)\n",
      "{(1.0, 2.0, 0.0, 'Coconut', 'Urea'), (1.0, 0.0, 1.0, 'Coconut', 'MOP')} -> {(1.0, 2.0, 0.0, 'Coconut', 'MOP'), (1.0, 0.0, 1.0, 'Coconut', 'Urea')} (3,1.0,1.0)\n",
      "{(1.0, 2.0, 0.0, 'Coconut', 'Urea'), (1.0, 0.0, 1.0, 'Coconut', 'Urea')} -> {(1.0, 2.0, 0.0, 'Coconut', 'MOP'), (1.0, 0.0, 1.0, 'Coconut', 'MOP')} (3,1.0,1.0)\n",
      "{(1.0, 0.0, 1.0, 'Coconut', 'MOP'), (1.0, 0.0, 1.0, 'Coconut', 'Urea')} -> {(1.0, 2.0, 0.0, 'Coconut', 'MOP'), (1.0, 2.0, 0.0, 'Coconut', 'Urea')} (3,1.0,1.0)\n",
      "{(1.0, 2.0, 0.0, 'Coconut', 'MOP'), (1.0, 2.0, 0.0, 'Coconut', 'Urea'), (1.0, 0.0, 1.0, 'Coconut', 'MOP')} -> {(1.0, 0.0, 1.0, 'Coconut', 'Urea')} (3,1.0,1.0)\n",
      "{(1.0, 2.0, 0.0, 'Coconut', 'MOP'), (1.0, 2.0, 0.0, 'Coconut', 'Urea'), (1.0, 0.0, 1.0, 'Coconut', 'Urea')} -> {(1.0, 0.0, 1.0, 'Coconut', 'MOP')} (3,1.0,1.0)\n",
      "{(1.0, 2.0, 0.0, 'Coconut', 'Urea'), (1.0, 0.0, 1.0, 'Coconut', 'MOP'), (1.0, 0.0, 1.0, 'Coconut', 'Urea')} -> {(1.0, 2.0, 0.0, 'Coconut', 'MOP')} (3,1.0,1.0)\n",
      "{(1.0, 2.0, 0.0, 'Coconut', 'MOP')} -> {(2.0, 3.0, 0.0, 'Coconut', 'DAP'), (1.0, 0.0, 1.0, 'Coconut', 'Urea')} (3,1.0,1.0)\n",
      "{(1.0, 0.0, 1.0, 'Coconut', 'Urea')} -> {(1.0, 2.0, 0.0, 'Coconut', 'MOP'), (2.0, 3.0, 0.0, 'Coconut', 'DAP')} (3,1.0,1.0)\n",
      "{(1.0, 2.0, 0.0, 'Coconut', 'MOP'), (2.0, 3.0, 0.0, 'Coconut', 'DAP')} -> {(1.0, 0.0, 1.0, 'Coconut', 'Urea')} (3,1.0,1.0)\n",
      "{(2.0, 3.0, 0.0, 'Coconut', 'DAP'), (1.0, 0.0, 1.0, 'Coconut', 'Urea')} -> {(1.0, 2.0, 0.0, 'Coconut', 'MOP')} (3,1.0,1.0)\n",
      "{(1.0, 2.0, 0.0, 'Coconut', 'MOP')} -> {(1.0, 0.0, 1.0, 'Coconut', 'MOP'), (1.0, 0.0, 1.0, 'Coconut', 'Urea')} (3,1.0,1.0)\n",
      "{(1.0, 0.0, 1.0, 'Coconut', 'MOP')} -> {(1.0, 2.0, 0.0, 'Coconut', 'MOP'), (1.0, 0.0, 1.0, 'Coconut', 'Urea')} (3,1.0,1.0)\n",
      "{(1.0, 0.0, 1.0, 'Coconut', 'Urea')} -> {(1.0, 2.0, 0.0, 'Coconut', 'MOP'), (1.0, 0.0, 1.0, 'Coconut', 'MOP')} (3,1.0,1.0)\n",
      "{(1.0, 2.0, 0.0, 'Coconut', 'MOP'), (1.0, 0.0, 1.0, 'Coconut', 'MOP')} -> {(1.0, 0.0, 1.0, 'Coconut', 'Urea')} (3,1.0,1.0)\n",
      "{(1.0, 2.0, 0.0, 'Coconut', 'MOP'), (1.0, 0.0, 1.0, 'Coconut', 'Urea')} -> {(1.0, 0.0, 1.0, 'Coconut', 'MOP')} (3,1.0,1.0)\n",
      "{(1.0, 0.0, 1.0, 'Coconut', 'MOP'), (1.0, 0.0, 1.0, 'Coconut', 'Urea')} -> {(1.0, 2.0, 0.0, 'Coconut', 'MOP')} (3,1.0,1.0)\n",
      "{(1.0, 2.0, 0.0, 'Coconut', 'MOP')} -> {(2.0, 3.0, 0.0, 'Coconut', 'DAP'), (1.0, 0.0, 1.0, 'Coconut', 'MOP'), (1.0, 0.0, 1.0, 'Coconut', 'Urea')} (3,1.0,1.0)\n",
      "{(1.0, 0.0, 1.0, 'Coconut', 'MOP')} -> {(1.0, 2.0, 0.0, 'Coconut', 'MOP'), (2.0, 3.0, 0.0, 'Coconut', 'DAP'), (1.0, 0.0, 1.0, 'Coconut', 'Urea')} (3,1.0,1.0)\n",
      "{(1.0, 0.0, 1.0, 'Coconut', 'Urea')} -> {(1.0, 2.0, 0.0, 'Coconut', 'MOP'), (2.0, 3.0, 0.0, 'Coconut', 'DAP'), (1.0, 0.0, 1.0, 'Coconut', 'MOP')} (3,1.0,1.0)\n",
      "{(1.0, 2.0, 0.0, 'Coconut', 'MOP'), (2.0, 3.0, 0.0, 'Coconut', 'DAP')} -> {(1.0, 0.0, 1.0, 'Coconut', 'MOP'), (1.0, 0.0, 1.0, 'Coconut', 'Urea')} (3,1.0,1.0)\n",
      "{(1.0, 2.0, 0.0, 'Coconut', 'MOP'), (1.0, 0.0, 1.0, 'Coconut', 'MOP')} -> {(2.0, 3.0, 0.0, 'Coconut', 'DAP'), (1.0, 0.0, 1.0, 'Coconut', 'Urea')} (3,1.0,1.0)\n",
      "{(1.0, 2.0, 0.0, 'Coconut', 'MOP'), (1.0, 0.0, 1.0, 'Coconut', 'Urea')} -> {(2.0, 3.0, 0.0, 'Coconut', 'DAP'), (1.0, 0.0, 1.0, 'Coconut', 'MOP')} (3,1.0,1.0)\n",
      "{(2.0, 3.0, 0.0, 'Coconut', 'DAP'), (1.0, 0.0, 1.0, 'Coconut', 'MOP')} -> {(1.0, 2.0, 0.0, 'Coconut', 'MOP'), (1.0, 0.0, 1.0, 'Coconut', 'Urea')} (3,1.0,1.0)\n",
      "{(2.0, 3.0, 0.0, 'Coconut', 'DAP'), (1.0, 0.0, 1.0, 'Coconut', 'Urea')} -> {(1.0, 2.0, 0.0, 'Coconut', 'MOP'), (1.0, 0.0, 1.0, 'Coconut', 'MOP')} (3,1.0,1.0)\n",
      "{(1.0, 0.0, 1.0, 'Coconut', 'MOP'), (1.0, 0.0, 1.0, 'Coconut', 'Urea')} -> {(1.0, 2.0, 0.0, 'Coconut', 'MOP'), (2.0, 3.0, 0.0, 'Coconut', 'DAP')} (3,1.0,1.0)\n",
      "{(1.0, 2.0, 0.0, 'Coconut', 'MOP'), (2.0, 3.0, 0.0, 'Coconut', 'DAP'), (1.0, 0.0, 1.0, 'Coconut', 'MOP')} -> {(1.0, 0.0, 1.0, 'Coconut', 'Urea')} (3,1.0,1.0)\n",
      "{(1.0, 2.0, 0.0, 'Coconut', 'MOP'), (2.0, 3.0, 0.0, 'Coconut', 'DAP'), (1.0, 0.0, 1.0, 'Coconut', 'Urea')} -> {(1.0, 0.0, 1.0, 'Coconut', 'MOP')} (3,1.0,1.0)\n",
      "{(2.0, 3.0, 0.0, 'Coconut', 'DAP'), (1.0, 0.0, 1.0, 'Coconut', 'MOP'), (1.0, 0.0, 1.0, 'Coconut', 'Urea')} -> {(1.0, 2.0, 0.0, 'Coconut', 'MOP')} (3,1.0,1.0)\n",
      "{(1.0, 2.0, 0.0, 'Coconut', 'MOP')} -> {(1.0, 2.0, 0.0, 'Coconut', 'Urea'), (2.0, 2.0, 0.0, 'Coconut', 'Urea'), (1.0, 0.0, 1.0, 'Coconut', 'Urea')} (3,1.0,1.0)\n",
      "{(2.0, 2.0, 0.0, 'Coconut', 'Urea')} -> {(1.0, 2.0, 0.0, 'Coconut', 'MOP'), (1.0, 2.0, 0.0, 'Coconut', 'Urea'), (1.0, 0.0, 1.0, 'Coconut', 'Urea')} (3,1.0,1.0)\n",
      "{(1.0, 0.0, 1.0, 'Coconut', 'Urea')} -> {(1.0, 2.0, 0.0, 'Coconut', 'MOP'), (1.0, 2.0, 0.0, 'Coconut', 'Urea'), (2.0, 2.0, 0.0, 'Coconut', 'Urea')} (3,1.0,1.0)\n",
      "{(1.0, 2.0, 0.0, 'Coconut', 'MOP'), (1.0, 2.0, 0.0, 'Coconut', 'Urea')} -> {(2.0, 2.0, 0.0, 'Coconut', 'Urea'), (1.0, 0.0, 1.0, 'Coconut', 'Urea')} (3,1.0,1.0)\n",
      "{(1.0, 2.0, 0.0, 'Coconut', 'MOP'), (2.0, 2.0, 0.0, 'Coconut', 'Urea')} -> {(1.0, 2.0, 0.0, 'Coconut', 'Urea'), (1.0, 0.0, 1.0, 'Coconut', 'Urea')} (3,1.0,1.0)\n",
      "{(1.0, 2.0, 0.0, 'Coconut', 'MOP'), (1.0, 0.0, 1.0, 'Coconut', 'Urea')} -> {(1.0, 2.0, 0.0, 'Coconut', 'Urea'), (2.0, 2.0, 0.0, 'Coconut', 'Urea')} (3,1.0,1.0)\n",
      "{(1.0, 2.0, 0.0, 'Coconut', 'Urea'), (2.0, 2.0, 0.0, 'Coconut', 'Urea')} -> {(1.0, 2.0, 0.0, 'Coconut', 'MOP'), (1.0, 0.0, 1.0, 'Coconut', 'Urea')} (3,1.0,1.0)\n",
      "{(1.0, 2.0, 0.0, 'Coconut', 'Urea'), (1.0, 0.0, 1.0, 'Coconut', 'Urea')} -> {(1.0, 2.0, 0.0, 'Coconut', 'MOP'), (2.0, 2.0, 0.0, 'Coconut', 'Urea')} (3,1.0,1.0)\n",
      "{(2.0, 2.0, 0.0, 'Coconut', 'Urea'), (1.0, 0.0, 1.0, 'Coconut', 'Urea')} -> {(1.0, 2.0, 0.0, 'Coconut', 'MOP'), (1.0, 2.0, 0.0, 'Coconut', 'Urea')} (3,1.0,1.0)\n",
      "{(1.0, 2.0, 0.0, 'Coconut', 'MOP'), (1.0, 2.0, 0.0, 'Coconut', 'Urea'), (2.0, 2.0, 0.0, 'Coconut', 'Urea')} -> {(1.0, 0.0, 1.0, 'Coconut', 'Urea')} (3,1.0,1.0)\n",
      "{(1.0, 2.0, 0.0, 'Coconut', 'MOP'), (1.0, 2.0, 0.0, 'Coconut', 'Urea'), (1.0, 0.0, 1.0, 'Coconut', 'Urea')} -> {(2.0, 2.0, 0.0, 'Coconut', 'Urea')} (3,1.0,1.0)\n",
      "{(1.0, 2.0, 0.0, 'Coconut', 'Urea'), (2.0, 2.0, 0.0, 'Coconut', 'Urea'), (1.0, 0.0, 1.0, 'Coconut', 'Urea')} -> {(1.0, 2.0, 0.0, 'Coconut', 'MOP')} (3,1.0,1.0)\n",
      "{(1.0, 2.0, 0.0, 'Coconut', 'MOP')} -> {(2.0, 2.0, 0.0, 'Coconut', 'Urea'), (1.0, 0.0, 1.0, 'Coconut', 'Urea')} (3,1.0,1.0)\n",
      "{(2.0, 2.0, 0.0, 'Coconut', 'Urea')} -> {(1.0, 2.0, 0.0, 'Coconut', 'MOP'), (1.0, 0.0, 1.0, 'Coconut', 'Urea')} (3,1.0,1.0)\n",
      "{(1.0, 0.0, 1.0, 'Coconut', 'Urea')} -> {(1.0, 2.0, 0.0, 'Coconut', 'MOP'), (2.0, 2.0, 0.0, 'Coconut', 'Urea')} (3,1.0,1.0)\n",
      "{(1.0, 2.0, 0.0, 'Coconut', 'MOP'), (2.0, 2.0, 0.0, 'Coconut', 'Urea')} -> {(1.0, 0.0, 1.0, 'Coconut', 'Urea')} (3,1.0,1.0)\n",
      "{(1.0, 2.0, 0.0, 'Coconut', 'MOP'), (1.0, 0.0, 1.0, 'Coconut', 'Urea')} -> {(2.0, 2.0, 0.0, 'Coconut', 'Urea')} (3,1.0,1.0)\n",
      "{(2.0, 2.0, 0.0, 'Coconut', 'Urea'), (1.0, 0.0, 1.0, 'Coconut', 'Urea')} -> {(1.0, 2.0, 0.0, 'Coconut', 'MOP')} (3,1.0,1.0)\n",
      "{(1.0, 2.0, 0.0, 'Coconut', 'MOP')} -> {(1.0, 2.0, 0.0, 'Coconut', 'Urea'), (1.0, 0.0, 1.0, 'Coconut', 'Urea')} (3,1.0,1.0)\n",
      "{(1.0, 0.0, 1.0, 'Coconut', 'Urea')} -> {(1.0, 2.0, 0.0, 'Coconut', 'MOP'), (1.0, 2.0, 0.0, 'Coconut', 'Urea')} (3,1.0,1.0)\n",
      "{(1.0, 2.0, 0.0, 'Coconut', 'MOP'), (1.0, 2.0, 0.0, 'Coconut', 'Urea')} -> {(1.0, 0.0, 1.0, 'Coconut', 'Urea')} (3,1.0,1.0)\n",
      "{(1.0, 2.0, 0.0, 'Coconut', 'Urea'), (1.0, 0.0, 1.0, 'Coconut', 'Urea')} -> {(1.0, 2.0, 0.0, 'Coconut', 'MOP')} (3,1.0,1.0)\n",
      "{(0.0, 0.0, 3.0, 'rice', 'DAP')} -> {(1.0, 0.0, 1.0, 'rice', 'DAP'), (1.0, 0.0, 1.0, 'rice', 'MOP')} (3,1.0,1.0)\n",
      "{(1.0, 0.0, 1.0, 'rice', 'DAP')} -> {(0.0, 0.0, 3.0, 'rice', 'DAP'), (1.0, 0.0, 1.0, 'rice', 'MOP')} (3,1.0,1.0)\n",
      "{(1.0, 0.0, 1.0, 'rice', 'MOP')} -> {(0.0, 0.0, 3.0, 'rice', 'DAP'), (1.0, 0.0, 1.0, 'rice', 'DAP')} (3,1.0,1.0)\n",
      "{(0.0, 0.0, 3.0, 'rice', 'DAP'), (1.0, 0.0, 1.0, 'rice', 'DAP')} -> {(1.0, 0.0, 1.0, 'rice', 'MOP')} (3,1.0,1.0)\n",
      "{(0.0, 0.0, 3.0, 'rice', 'DAP'), (1.0, 0.0, 1.0, 'rice', 'MOP')} -> {(1.0, 0.0, 1.0, 'rice', 'DAP')} (3,1.0,1.0)\n",
      "{(1.0, 0.0, 1.0, 'rice', 'DAP'), (1.0, 0.0, 1.0, 'rice', 'MOP')} -> {(0.0, 0.0, 3.0, 'rice', 'DAP')} (3,1.0,1.0)\n",
      "{(0.0, 0.0, 3.0, 'rice', 'DAP')} -> {(1.0, 0.0, 2.0, 'rice', 'MOP'), (1.0, 0.0, 1.0, 'rice', 'DAP'), (1.0, 0.0, 1.0, 'rice', 'MOP')} (3,1.0,1.0)\n",
      "{(1.0, 0.0, 1.0, 'rice', 'DAP')} -> {(0.0, 0.0, 3.0, 'rice', 'DAP'), (1.0, 0.0, 2.0, 'rice', 'MOP'), (1.0, 0.0, 1.0, 'rice', 'MOP')} (3,1.0,1.0)\n",
      "{(1.0, 0.0, 2.0, 'rice', 'MOP')} -> {(0.0, 0.0, 3.0, 'rice', 'DAP'), (1.0, 0.0, 1.0, 'rice', 'DAP'), (1.0, 0.0, 1.0, 'rice', 'MOP')} (3,1.0,1.0)\n",
      "{(1.0, 0.0, 1.0, 'rice', 'MOP')} -> {(0.0, 0.0, 3.0, 'rice', 'DAP'), (1.0, 0.0, 1.0, 'rice', 'DAP'), (1.0, 0.0, 2.0, 'rice', 'MOP')} (3,1.0,1.0)\n",
      "{(0.0, 0.0, 3.0, 'rice', 'DAP'), (1.0, 0.0, 1.0, 'rice', 'DAP')} -> {(1.0, 0.0, 2.0, 'rice', 'MOP'), (1.0, 0.0, 1.0, 'rice', 'MOP')} (3,1.0,1.0)\n",
      "{(0.0, 0.0, 3.0, 'rice', 'DAP'), (1.0, 0.0, 2.0, 'rice', 'MOP')} -> {(1.0, 0.0, 1.0, 'rice', 'DAP'), (1.0, 0.0, 1.0, 'rice', 'MOP')} (3,1.0,1.0)\n",
      "{(0.0, 0.0, 3.0, 'rice', 'DAP'), (1.0, 0.0, 1.0, 'rice', 'MOP')} -> {(1.0, 0.0, 2.0, 'rice', 'MOP'), (1.0, 0.0, 1.0, 'rice', 'DAP')} (3,1.0,1.0)\n",
      "{(1.0, 0.0, 2.0, 'rice', 'MOP'), (1.0, 0.0, 1.0, 'rice', 'DAP')} -> {(0.0, 0.0, 3.0, 'rice', 'DAP'), (1.0, 0.0, 1.0, 'rice', 'MOP')} (3,1.0,1.0)\n",
      "{(1.0, 0.0, 1.0, 'rice', 'DAP'), (1.0, 0.0, 1.0, 'rice', 'MOP')} -> {(0.0, 0.0, 3.0, 'rice', 'DAP'), (1.0, 0.0, 2.0, 'rice', 'MOP')} (3,1.0,1.0)\n",
      "{(1.0, 0.0, 2.0, 'rice', 'MOP'), (1.0, 0.0, 1.0, 'rice', 'MOP')} -> {(0.0, 0.0, 3.0, 'rice', 'DAP'), (1.0, 0.0, 1.0, 'rice', 'DAP')} (3,1.0,1.0)\n",
      "{(0.0, 0.0, 3.0, 'rice', 'DAP'), (1.0, 0.0, 1.0, 'rice', 'DAP'), (1.0, 0.0, 2.0, 'rice', 'MOP')} -> {(1.0, 0.0, 1.0, 'rice', 'MOP')} (3,1.0,1.0)\n",
      "{(0.0, 0.0, 3.0, 'rice', 'DAP'), (1.0, 0.0, 1.0, 'rice', 'DAP'), (1.0, 0.0, 1.0, 'rice', 'MOP')} -> {(1.0, 0.0, 2.0, 'rice', 'MOP')} (3,1.0,1.0)\n",
      "{(0.0, 0.0, 3.0, 'rice', 'DAP'), (1.0, 0.0, 2.0, 'rice', 'MOP'), (1.0, 0.0, 1.0, 'rice', 'MOP')} -> {(1.0, 0.0, 1.0, 'rice', 'DAP')} (3,1.0,1.0)\n",
      "{(1.0, 0.0, 2.0, 'rice', 'MOP'), (1.0, 0.0, 1.0, 'rice', 'DAP'), (1.0, 0.0, 1.0, 'rice', 'MOP')} -> {(0.0, 0.0, 3.0, 'rice', 'DAP')} (3,1.0,1.0)\n",
      "{(1.0, 0.0, 1.0, 'Coconut', 'MOP')} -> {(2.0, 3.0, 0.0, 'Coconut', 'DAP'), (1.0, 2.0, 0.0, 'Coconut', 'Urea'), (1.0, 0.0, 1.0, 'Coconut', 'Urea')} (3,1.0,1.0)\n",
      "{(1.0, 0.0, 1.0, 'Coconut', 'Urea')} -> {(2.0, 3.0, 0.0, 'Coconut', 'DAP'), (1.0, 2.0, 0.0, 'Coconut', 'Urea'), (1.0, 0.0, 1.0, 'Coconut', 'MOP')} (3,1.0,1.0)\n",
      "{(2.0, 3.0, 0.0, 'Coconut', 'DAP'), (1.0, 0.0, 1.0, 'Coconut', 'MOP')} -> {(1.0, 2.0, 0.0, 'Coconut', 'Urea'), (1.0, 0.0, 1.0, 'Coconut', 'Urea')} (3,1.0,1.0)\n",
      "{(2.0, 3.0, 0.0, 'Coconut', 'DAP'), (1.0, 0.0, 1.0, 'Coconut', 'Urea')} -> {(1.0, 2.0, 0.0, 'Coconut', 'Urea'), (1.0, 0.0, 1.0, 'Coconut', 'MOP')} (3,1.0,1.0)\n",
      "{(1.0, 2.0, 0.0, 'Coconut', 'Urea'), (1.0, 0.0, 1.0, 'Coconut', 'MOP')} -> {(2.0, 3.0, 0.0, 'Coconut', 'DAP'), (1.0, 0.0, 1.0, 'Coconut', 'Urea')} (3,1.0,1.0)\n",
      "{(1.0, 2.0, 0.0, 'Coconut', 'Urea'), (1.0, 0.0, 1.0, 'Coconut', 'Urea')} -> {(2.0, 3.0, 0.0, 'Coconut', 'DAP'), (1.0, 0.0, 1.0, 'Coconut', 'MOP')} (3,1.0,1.0)\n",
      "{(2.0, 3.0, 0.0, 'Coconut', 'DAP'), (1.0, 2.0, 0.0, 'Coconut', 'Urea'), (1.0, 0.0, 1.0, 'Coconut', 'MOP')} -> {(1.0, 0.0, 1.0, 'Coconut', 'Urea')} (3,1.0,1.0)\n",
      "{(2.0, 3.0, 0.0, 'Coconut', 'DAP'), (1.0, 2.0, 0.0, 'Coconut', 'Urea'), (1.0, 0.0, 1.0, 'Coconut', 'Urea')} -> {(1.0, 0.0, 1.0, 'Coconut', 'MOP')} (3,1.0,1.0)\n",
      "{(1.0, 2.0, 0.0, 'Coconut', 'MOP')} -> {(1.0, 2.0, 0.0, 'Coconut', 'Urea'), (1.0, 0.0, 1.0, 'Coconut', 'MOP')} (3,1.0,1.0)\n",
      "{(1.0, 0.0, 1.0, 'Coconut', 'MOP')} -> {(1.0, 2.0, 0.0, 'Coconut', 'MOP'), (1.0, 2.0, 0.0, 'Coconut', 'Urea')} (3,1.0,1.0)\n",
      "{(1.0, 2.0, 0.0, 'Coconut', 'MOP'), (1.0, 2.0, 0.0, 'Coconut', 'Urea')} -> {(1.0, 0.0, 1.0, 'Coconut', 'MOP')} (3,1.0,1.0)\n",
      "{(1.0, 2.0, 0.0, 'Coconut', 'Urea'), (1.0, 0.0, 1.0, 'Coconut', 'MOP')} -> {(1.0, 2.0, 0.0, 'Coconut', 'MOP')} (3,1.0,1.0)\n",
      "{(1.0, 0.0, 1.0, 'Coconut', 'MOP')} -> {(1.0, 2.0, 0.0, 'Coconut', 'Urea'), (1.0, 0.0, 1.0, 'Coconut', 'Urea')} (3,1.0,1.0)\n",
      "{(1.0, 0.0, 1.0, 'Coconut', 'Urea')} -> {(1.0, 2.0, 0.0, 'Coconut', 'Urea'), (1.0, 0.0, 1.0, 'Coconut', 'MOP')} (3,1.0,1.0)\n",
      "{(1.0, 2.0, 0.0, 'Coconut', 'Urea'), (1.0, 0.0, 1.0, 'Coconut', 'MOP')} -> {(1.0, 0.0, 1.0, 'Coconut', 'Urea')} (3,1.0,1.0)\n",
      "{(1.0, 2.0, 0.0, 'Coconut', 'Urea'), (1.0, 0.0, 1.0, 'Coconut', 'Urea')} -> {(1.0, 0.0, 1.0, 'Coconut', 'MOP')} (3,1.0,1.0)\n",
      "{(1.0, 0.0, 1.0, 'Coconut', 'MOP')} -> {(2.0, 3.0, 0.0, 'Coconut', 'DAP'), (1.0, 0.0, 1.0, 'Coconut', 'Urea')} (3,1.0,1.0)\n",
      "{(1.0, 0.0, 1.0, 'Coconut', 'Urea')} -> {(2.0, 3.0, 0.0, 'Coconut', 'DAP'), (1.0, 0.0, 1.0, 'Coconut', 'MOP')} (3,1.0,1.0)\n",
      "{(2.0, 3.0, 0.0, 'Coconut', 'DAP'), (1.0, 0.0, 1.0, 'Coconut', 'MOP')} -> {(1.0, 0.0, 1.0, 'Coconut', 'Urea')} (3,1.0,1.0)\n",
      "{(2.0, 3.0, 0.0, 'Coconut', 'DAP'), (1.0, 0.0, 1.0, 'Coconut', 'Urea')} -> {(1.0, 0.0, 1.0, 'Coconut', 'MOP')} (3,1.0,1.0)\n",
      "{(2.0, 2.0, 0.0, 'Coconut', 'Urea')} -> {(2.0, 3.0, 0.0, 'Coconut', 'DAP'), (1.0, 2.0, 0.0, 'Coconut', 'Urea'), (1.0, 0.0, 1.0, 'Coconut', 'Urea')} (3,1.0,1.0)\n",
      "{(1.0, 0.0, 1.0, 'Coconut', 'Urea')} -> {(2.0, 3.0, 0.0, 'Coconut', 'DAP'), (1.0, 2.0, 0.0, 'Coconut', 'Urea'), (2.0, 2.0, 0.0, 'Coconut', 'Urea')} (3,1.0,1.0)\n",
      "{(2.0, 3.0, 0.0, 'Coconut', 'DAP'), (2.0, 2.0, 0.0, 'Coconut', 'Urea')} -> {(1.0, 2.0, 0.0, 'Coconut', 'Urea'), (1.0, 0.0, 1.0, 'Coconut', 'Urea')} (3,1.0,1.0)\n",
      "{(2.0, 3.0, 0.0, 'Coconut', 'DAP'), (1.0, 0.0, 1.0, 'Coconut', 'Urea')} -> {(1.0, 2.0, 0.0, 'Coconut', 'Urea'), (2.0, 2.0, 0.0, 'Coconut', 'Urea')} (3,1.0,1.0)\n",
      "{(1.0, 2.0, 0.0, 'Coconut', 'Urea'), (2.0, 2.0, 0.0, 'Coconut', 'Urea')} -> {(2.0, 3.0, 0.0, 'Coconut', 'DAP'), (1.0, 0.0, 1.0, 'Coconut', 'Urea')} (3,1.0,1.0)\n",
      "{(1.0, 2.0, 0.0, 'Coconut', 'Urea'), (1.0, 0.0, 1.0, 'Coconut', 'Urea')} -> {(2.0, 3.0, 0.0, 'Coconut', 'DAP'), (2.0, 2.0, 0.0, 'Coconut', 'Urea')} (3,1.0,1.0)\n",
      "{(2.0, 3.0, 0.0, 'Coconut', 'DAP'), (1.0, 2.0, 0.0, 'Coconut', 'Urea'), (2.0, 2.0, 0.0, 'Coconut', 'Urea')} -> {(1.0, 0.0, 1.0, 'Coconut', 'Urea')} (3,1.0,1.0)\n",
      "{(2.0, 3.0, 0.0, 'Coconut', 'DAP'), (1.0, 2.0, 0.0, 'Coconut', 'Urea'), (1.0, 0.0, 1.0, 'Coconut', 'Urea')} -> {(2.0, 2.0, 0.0, 'Coconut', 'Urea')} (3,1.0,1.0)\n",
      "{(2.0, 2.0, 0.0, 'Coconut', 'Urea')} -> {(2.0, 3.0, 0.0, 'Coconut', 'DAP'), (1.0, 0.0, 1.0, 'Coconut', 'Urea')} (3,1.0,1.0)\n",
      "{(1.0, 0.0, 1.0, 'Coconut', 'Urea')} -> {(2.0, 3.0, 0.0, 'Coconut', 'DAP'), (2.0, 2.0, 0.0, 'Coconut', 'Urea')} (3,1.0,1.0)\n",
      "{(2.0, 3.0, 0.0, 'Coconut', 'DAP'), (2.0, 2.0, 0.0, 'Coconut', 'Urea')} -> {(1.0, 0.0, 1.0, 'Coconut', 'Urea')} (3,1.0,1.0)\n",
      "{(2.0, 3.0, 0.0, 'Coconut', 'DAP'), (1.0, 0.0, 1.0, 'Coconut', 'Urea')} -> {(2.0, 2.0, 0.0, 'Coconut', 'Urea')} (3,1.0,1.0)\n",
      "{(0.0, 0.0, 3.0, 'rice', 'DAP')} -> {(1.0, 0.0, 2.0, 'rice', 'MOP'), (1.0, 0.0, 1.0, 'rice', 'DAP'), (0.0, 0.0, 2.0, 'rice', 'Urea')} (3,1.0,1.0)\n",
      "{(1.0, 0.0, 1.0, 'rice', 'DAP')} -> {(0.0, 0.0, 3.0, 'rice', 'DAP'), (1.0, 0.0, 2.0, 'rice', 'MOP'), (0.0, 0.0, 2.0, 'rice', 'Urea')} (3,1.0,1.0)\n",
      "{(1.0, 0.0, 2.0, 'rice', 'MOP')} -> {(0.0, 0.0, 3.0, 'rice', 'DAP'), (1.0, 0.0, 1.0, 'rice', 'DAP'), (0.0, 0.0, 2.0, 'rice', 'Urea')} (3,1.0,1.0)\n",
      "{(0.0, 0.0, 2.0, 'rice', 'Urea')} -> {(0.0, 0.0, 3.0, 'rice', 'DAP'), (1.0, 0.0, 1.0, 'rice', 'DAP'), (1.0, 0.0, 2.0, 'rice', 'MOP')} (3,1.0,1.0)\n",
      "{(0.0, 0.0, 3.0, 'rice', 'DAP'), (1.0, 0.0, 1.0, 'rice', 'DAP')} -> {(1.0, 0.0, 2.0, 'rice', 'MOP'), (0.0, 0.0, 2.0, 'rice', 'Urea')} (3,1.0,1.0)\n",
      "{(0.0, 0.0, 3.0, 'rice', 'DAP'), (1.0, 0.0, 2.0, 'rice', 'MOP')} -> {(0.0, 0.0, 2.0, 'rice', 'Urea'), (1.0, 0.0, 1.0, 'rice', 'DAP')} (3,1.0,1.0)\n",
      "{(0.0, 0.0, 3.0, 'rice', 'DAP'), (0.0, 0.0, 2.0, 'rice', 'Urea')} -> {(1.0, 0.0, 2.0, 'rice', 'MOP'), (1.0, 0.0, 1.0, 'rice', 'DAP')} (3,1.0,1.0)\n",
      "{(1.0, 0.0, 2.0, 'rice', 'MOP'), (1.0, 0.0, 1.0, 'rice', 'DAP')} -> {(0.0, 0.0, 3.0, 'rice', 'DAP'), (0.0, 0.0, 2.0, 'rice', 'Urea')} (3,1.0,1.0)\n",
      "{(0.0, 0.0, 2.0, 'rice', 'Urea'), (1.0, 0.0, 1.0, 'rice', 'DAP')} -> {(0.0, 0.0, 3.0, 'rice', 'DAP'), (1.0, 0.0, 2.0, 'rice', 'MOP')} (3,1.0,1.0)\n",
      "{(1.0, 0.0, 2.0, 'rice', 'MOP'), (0.0, 0.0, 2.0, 'rice', 'Urea')} -> {(0.0, 0.0, 3.0, 'rice', 'DAP'), (1.0, 0.0, 1.0, 'rice', 'DAP')} (3,1.0,1.0)\n",
      "{(0.0, 0.0, 3.0, 'rice', 'DAP'), (1.0, 0.0, 1.0, 'rice', 'DAP'), (1.0, 0.0, 2.0, 'rice', 'MOP')} -> {(0.0, 0.0, 2.0, 'rice', 'Urea')} (3,1.0,1.0)\n",
      "{(0.0, 0.0, 3.0, 'rice', 'DAP'), (1.0, 0.0, 1.0, 'rice', 'DAP'), (0.0, 0.0, 2.0, 'rice', 'Urea')} -> {(1.0, 0.0, 2.0, 'rice', 'MOP')} (3,1.0,1.0)\n",
      "{(0.0, 0.0, 3.0, 'rice', 'DAP'), (1.0, 0.0, 2.0, 'rice', 'MOP'), (0.0, 0.0, 2.0, 'rice', 'Urea')} -> {(1.0, 0.0, 1.0, 'rice', 'DAP')} (3,1.0,1.0)\n",
      "{(1.0, 0.0, 2.0, 'rice', 'MOP'), (1.0, 0.0, 1.0, 'rice', 'DAP'), (0.0, 0.0, 2.0, 'rice', 'Urea')} -> {(0.0, 0.0, 3.0, 'rice', 'DAP')} (3,1.0,1.0)\n",
      "{(0.0, 0.0, 3.0, 'rice', 'DAP')} -> {(1.0, 0.0, 1.0, 'rice', 'DAP'), (1.0, 0.0, 2.0, 'rice', 'Urea')} (3,1.0,1.0)\n",
      "{(1.0, 0.0, 1.0, 'rice', 'DAP')} -> {(0.0, 0.0, 3.0, 'rice', 'DAP'), (1.0, 0.0, 2.0, 'rice', 'Urea')} (3,1.0,1.0)\n",
      "{(1.0, 0.0, 2.0, 'rice', 'Urea')} -> {(0.0, 0.0, 3.0, 'rice', 'DAP'), (1.0, 0.0, 1.0, 'rice', 'DAP')} (3,1.0,1.0)\n",
      "{(0.0, 0.0, 3.0, 'rice', 'DAP'), (1.0, 0.0, 1.0, 'rice', 'DAP')} -> {(1.0, 0.0, 2.0, 'rice', 'Urea')} (3,1.0,1.0)\n",
      "{(0.0, 0.0, 3.0, 'rice', 'DAP'), (1.0, 0.0, 2.0, 'rice', 'Urea')} -> {(1.0, 0.0, 1.0, 'rice', 'DAP')} (3,1.0,1.0)\n",
      "{(1.0, 0.0, 1.0, 'rice', 'DAP'), (1.0, 0.0, 2.0, 'rice', 'Urea')} -> {(0.0, 0.0, 3.0, 'rice', 'DAP')} (3,1.0,1.0)\n",
      "{(0.0, 0.0, 3.0, 'rice', 'DAP')} -> {(0.0, 0.0, 2.0, 'rice', 'Urea'), (1.0, 0.0, 1.0, 'rice', 'DAP')} (3,1.0,1.0)\n",
      "{(1.0, 0.0, 1.0, 'rice', 'DAP')} -> {(0.0, 0.0, 3.0, 'rice', 'DAP'), (0.0, 0.0, 2.0, 'rice', 'Urea')} (3,1.0,1.0)\n",
      "{(0.0, 0.0, 2.0, 'rice', 'Urea')} -> {(0.0, 0.0, 3.0, 'rice', 'DAP'), (1.0, 0.0, 1.0, 'rice', 'DAP')} (3,1.0,1.0)\n",
      "{(0.0, 0.0, 3.0, 'rice', 'DAP'), (1.0, 0.0, 1.0, 'rice', 'DAP')} -> {(0.0, 0.0, 2.0, 'rice', 'Urea')} (3,1.0,1.0)\n",
      "{(0.0, 0.0, 3.0, 'rice', 'DAP'), (0.0, 0.0, 2.0, 'rice', 'Urea')} -> {(1.0, 0.0, 1.0, 'rice', 'DAP')} (3,1.0,1.0)\n",
      "{(0.0, 0.0, 2.0, 'rice', 'Urea'), (1.0, 0.0, 1.0, 'rice', 'DAP')} -> {(0.0, 0.0, 3.0, 'rice', 'DAP')} (3,1.0,1.0)\n",
      "{(0.0, 0.0, 3.0, 'rice', 'DAP')} -> {(1.0, 0.0, 2.0, 'rice', 'MOP'), (1.0, 0.0, 1.0, 'rice', 'DAP')} (3,1.0,1.0)\n",
      "{(1.0, 0.0, 1.0, 'rice', 'DAP')} -> {(0.0, 0.0, 3.0, 'rice', 'DAP'), (1.0, 0.0, 2.0, 'rice', 'MOP')} (3,1.0,1.0)\n",
      "{(1.0, 0.0, 2.0, 'rice', 'MOP')} -> {(0.0, 0.0, 3.0, 'rice', 'DAP'), (1.0, 0.0, 1.0, 'rice', 'DAP')} (3,1.0,1.0)\n",
      "{(0.0, 0.0, 3.0, 'rice', 'DAP'), (1.0, 0.0, 1.0, 'rice', 'DAP')} -> {(1.0, 0.0, 2.0, 'rice', 'MOP')} (3,1.0,1.0)\n",
      "{(0.0, 0.0, 3.0, 'rice', 'DAP'), (1.0, 0.0, 2.0, 'rice', 'MOP')} -> {(1.0, 0.0, 1.0, 'rice', 'DAP')} (3,1.0,1.0)\n",
      "{(1.0, 0.0, 2.0, 'rice', 'MOP'), (1.0, 0.0, 1.0, 'rice', 'DAP')} -> {(0.0, 0.0, 3.0, 'rice', 'DAP')} (3,1.0,1.0)\n",
      "{(0.0, 0.0, 3.0, 'rice', 'DAP')} -> {(0.0, 0.0, 2.0, 'rice', 'Urea'), (1.0, 0.0, 1.0, 'rice', 'DAP'), (1.0, 0.0, 1.0, 'rice', 'MOP')} (3,1.0,1.0)\n",
      "{(1.0, 0.0, 1.0, 'rice', 'DAP')} -> {(0.0, 0.0, 3.0, 'rice', 'DAP'), (0.0, 0.0, 2.0, 'rice', 'Urea'), (1.0, 0.0, 1.0, 'rice', 'MOP')} (3,1.0,1.0)\n",
      "{(1.0, 0.0, 1.0, 'rice', 'MOP')} -> {(0.0, 0.0, 3.0, 'rice', 'DAP'), (1.0, 0.0, 1.0, 'rice', 'DAP'), (0.0, 0.0, 2.0, 'rice', 'Urea')} (3,1.0,1.0)\n",
      "{(0.0, 0.0, 2.0, 'rice', 'Urea')} -> {(0.0, 0.0, 3.0, 'rice', 'DAP'), (1.0, 0.0, 1.0, 'rice', 'DAP'), (1.0, 0.0, 1.0, 'rice', 'MOP')} (3,1.0,1.0)\n",
      "{(0.0, 0.0, 3.0, 'rice', 'DAP'), (1.0, 0.0, 1.0, 'rice', 'DAP')} -> {(0.0, 0.0, 2.0, 'rice', 'Urea'), (1.0, 0.0, 1.0, 'rice', 'MOP')} (3,1.0,1.0)\n",
      "{(0.0, 0.0, 3.0, 'rice', 'DAP'), (1.0, 0.0, 1.0, 'rice', 'MOP')} -> {(0.0, 0.0, 2.0, 'rice', 'Urea'), (1.0, 0.0, 1.0, 'rice', 'DAP')} (3,1.0,1.0)\n",
      "{(0.0, 0.0, 3.0, 'rice', 'DAP'), (0.0, 0.0, 2.0, 'rice', 'Urea')} -> {(1.0, 0.0, 1.0, 'rice', 'DAP'), (1.0, 0.0, 1.0, 'rice', 'MOP')} (3,1.0,1.0)\n",
      "{(1.0, 0.0, 1.0, 'rice', 'DAP'), (1.0, 0.0, 1.0, 'rice', 'MOP')} -> {(0.0, 0.0, 3.0, 'rice', 'DAP'), (0.0, 0.0, 2.0, 'rice', 'Urea')} (3,1.0,1.0)\n",
      "{(0.0, 0.0, 2.0, 'rice', 'Urea'), (1.0, 0.0, 1.0, 'rice', 'DAP')} -> {(0.0, 0.0, 3.0, 'rice', 'DAP'), (1.0, 0.0, 1.0, 'rice', 'MOP')} (3,1.0,1.0)\n",
      "{(0.0, 0.0, 2.0, 'rice', 'Urea'), (1.0, 0.0, 1.0, 'rice', 'MOP')} -> {(0.0, 0.0, 3.0, 'rice', 'DAP'), (1.0, 0.0, 1.0, 'rice', 'DAP')} (3,1.0,1.0)\n",
      "{(0.0, 0.0, 3.0, 'rice', 'DAP'), (1.0, 0.0, 1.0, 'rice', 'DAP'), (1.0, 0.0, 1.0, 'rice', 'MOP')} -> {(0.0, 0.0, 2.0, 'rice', 'Urea')} (3,1.0,1.0)\n",
      "{(0.0, 0.0, 3.0, 'rice', 'DAP'), (1.0, 0.0, 1.0, 'rice', 'DAP'), (0.0, 0.0, 2.0, 'rice', 'Urea')} -> {(1.0, 0.0, 1.0, 'rice', 'MOP')} (3,1.0,1.0)\n",
      "{(0.0, 0.0, 3.0, 'rice', 'DAP'), (0.0, 0.0, 2.0, 'rice', 'Urea'), (1.0, 0.0, 1.0, 'rice', 'MOP')} -> {(1.0, 0.0, 1.0, 'rice', 'DAP')} (3,1.0,1.0)\n",
      "{(0.0, 0.0, 2.0, 'rice', 'Urea'), (1.0, 0.0, 1.0, 'rice', 'DAP'), (1.0, 0.0, 1.0, 'rice', 'MOP')} -> {(0.0, 0.0, 3.0, 'rice', 'DAP')} (3,1.0,1.0)\n",
      "{(1.0, 0.0, 2.0, 'rice', 'MOP')} -> {(0.0, 0.0, 2.0, 'rice', 'Urea'), (1.0, 0.0, 1.0, 'rice', 'MOP')} (3,1.0,1.0)\n",
      "{(1.0, 0.0, 1.0, 'rice', 'MOP')} -> {(1.0, 0.0, 2.0, 'rice', 'MOP'), (0.0, 0.0, 2.0, 'rice', 'Urea')} (3,1.0,1.0)\n",
      "{(0.0, 0.0, 2.0, 'rice', 'Urea')} -> {(1.0, 0.0, 2.0, 'rice', 'MOP'), (1.0, 0.0, 1.0, 'rice', 'MOP')} (3,1.0,1.0)\n",
      "{(1.0, 0.0, 2.0, 'rice', 'MOP'), (1.0, 0.0, 1.0, 'rice', 'MOP')} -> {(0.0, 0.0, 2.0, 'rice', 'Urea')} (3,1.0,1.0)\n",
      "{(1.0, 0.0, 2.0, 'rice', 'MOP'), (0.0, 0.0, 2.0, 'rice', 'Urea')} -> {(1.0, 0.0, 1.0, 'rice', 'MOP')} (3,1.0,1.0)\n",
      "{(0.0, 0.0, 2.0, 'rice', 'Urea'), (1.0, 0.0, 1.0, 'rice', 'MOP')} -> {(1.0, 0.0, 2.0, 'rice', 'MOP')} (3,1.0,1.0)\n",
      "{(1.0, 2.0, 0.0, 'Coconut', 'MOP')} -> {(2.0, 3.0, 0.0, 'Coconut', 'DAP'), (1.0, 0.0, 1.0, 'Coconut', 'MOP')} (3,1.0,1.0)\n",
      "{(1.0, 0.0, 1.0, 'Coconut', 'MOP')} -> {(1.0, 2.0, 0.0, 'Coconut', 'MOP'), (2.0, 3.0, 0.0, 'Coconut', 'DAP')} (3,1.0,1.0)\n",
      "{(1.0, 2.0, 0.0, 'Coconut', 'MOP'), (2.0, 3.0, 0.0, 'Coconut', 'DAP')} -> {(1.0, 0.0, 1.0, 'Coconut', 'MOP')} (3,1.0,1.0)\n",
      "{(2.0, 3.0, 0.0, 'Coconut', 'DAP'), (1.0, 0.0, 1.0, 'Coconut', 'MOP')} -> {(1.0, 2.0, 0.0, 'Coconut', 'MOP')} (3,1.0,1.0)\n",
      "{(2.0, 3.0, 1.0, 'Coconut', 'DAP')} -> {(2.0, 3.0, 0.0, 'Coconut', 'DAP'), (2.0, 2.0, 0.0, 'Coconut', 'Good NPK')} (3,1.0,1.0)\n",
      "{(2.0, 2.0, 0.0, 'Coconut', 'Good NPK')} -> {(2.0, 3.0, 0.0, 'Coconut', 'DAP'), (2.0, 3.0, 1.0, 'Coconut', 'DAP')} (3,1.0,1.0)\n",
      "{(2.0, 3.0, 0.0, 'Coconut', 'DAP'), (2.0, 3.0, 1.0, 'Coconut', 'DAP')} -> {(2.0, 2.0, 0.0, 'Coconut', 'Good NPK')} (3,1.0,1.0)\n",
      "{(2.0, 3.0, 0.0, 'Coconut', 'DAP'), (2.0, 2.0, 0.0, 'Coconut', 'Good NPK')} -> {(2.0, 3.0, 1.0, 'Coconut', 'DAP')} (3,1.0,1.0)\n",
      "{(2.0, 3.0, 1.0, 'Coconut', 'DAP')} -> {(2.0, 3.0, 0.0, 'Coconut', 'DAP'), (1.0, 3.0, 1.0, 'Coconut', 'DAP')} (3,1.0,1.0)\n",
      "{(1.0, 3.0, 1.0, 'Coconut', 'DAP')} -> {(2.0, 3.0, 0.0, 'Coconut', 'DAP'), (2.0, 3.0, 1.0, 'Coconut', 'DAP')} (3,1.0,1.0)\n",
      "{(2.0, 3.0, 0.0, 'Coconut', 'DAP'), (2.0, 3.0, 1.0, 'Coconut', 'DAP')} -> {(1.0, 3.0, 1.0, 'Coconut', 'DAP')} (3,1.0,1.0)\n",
      "{(2.0, 3.0, 0.0, 'Coconut', 'DAP'), (1.0, 3.0, 1.0, 'Coconut', 'DAP')} -> {(2.0, 3.0, 1.0, 'Coconut', 'DAP')} (3,1.0,1.0)\n",
      "{(0.0, 0.0, 3.0, 'rice', 'DAP')} -> {(1.0, 0.0, 2.0, 'rice', 'MOP'), (1.0, 0.0, 1.0, 'rice', 'DAP'), (1.0, 0.0, 2.0, 'rice', 'Urea')} (3,1.0,1.0)\n",
      "{(1.0, 0.0, 1.0, 'rice', 'DAP')} -> {(0.0, 0.0, 3.0, 'rice', 'DAP'), (1.0, 0.0, 2.0, 'rice', 'Urea'), (1.0, 0.0, 2.0, 'rice', 'MOP')} (3,1.0,1.0)\n",
      "{(1.0, 0.0, 2.0, 'rice', 'MOP')} -> {(0.0, 0.0, 3.0, 'rice', 'DAP'), (1.0, 0.0, 1.0, 'rice', 'DAP'), (1.0, 0.0, 2.0, 'rice', 'Urea')} (3,1.0,1.0)\n",
      "{(1.0, 0.0, 2.0, 'rice', 'Urea')} -> {(0.0, 0.0, 3.0, 'rice', 'DAP'), (1.0, 0.0, 1.0, 'rice', 'DAP'), (1.0, 0.0, 2.0, 'rice', 'MOP')} (3,1.0,1.0)\n",
      "{(0.0, 0.0, 3.0, 'rice', 'DAP'), (1.0, 0.0, 1.0, 'rice', 'DAP')} -> {(1.0, 0.0, 2.0, 'rice', 'MOP'), (1.0, 0.0, 2.0, 'rice', 'Urea')} (3,1.0,1.0)\n",
      "{(0.0, 0.0, 3.0, 'rice', 'DAP'), (1.0, 0.0, 2.0, 'rice', 'MOP')} -> {(1.0, 0.0, 1.0, 'rice', 'DAP'), (1.0, 0.0, 2.0, 'rice', 'Urea')} (3,1.0,1.0)\n",
      "{(0.0, 0.0, 3.0, 'rice', 'DAP'), (1.0, 0.0, 2.0, 'rice', 'Urea')} -> {(1.0, 0.0, 2.0, 'rice', 'MOP'), (1.0, 0.0, 1.0, 'rice', 'DAP')} (3,1.0,1.0)\n",
      "{(1.0, 0.0, 2.0, 'rice', 'MOP'), (1.0, 0.0, 1.0, 'rice', 'DAP')} -> {(0.0, 0.0, 3.0, 'rice', 'DAP'), (1.0, 0.0, 2.0, 'rice', 'Urea')} (3,1.0,1.0)\n",
      "{(1.0, 0.0, 1.0, 'rice', 'DAP'), (1.0, 0.0, 2.0, 'rice', 'Urea')} -> {(0.0, 0.0, 3.0, 'rice', 'DAP'), (1.0, 0.0, 2.0, 'rice', 'MOP')} (3,1.0,1.0)\n",
      "{(1.0, 0.0, 2.0, 'rice', 'MOP'), (1.0, 0.0, 2.0, 'rice', 'Urea')} -> {(0.0, 0.0, 3.0, 'rice', 'DAP'), (1.0, 0.0, 1.0, 'rice', 'DAP')} (3,1.0,1.0)\n",
      "{(0.0, 0.0, 3.0, 'rice', 'DAP'), (1.0, 0.0, 1.0, 'rice', 'DAP'), (1.0, 0.0, 2.0, 'rice', 'MOP')} -> {(1.0, 0.0, 2.0, 'rice', 'Urea')} (3,1.0,1.0)\n",
      "{(0.0, 0.0, 3.0, 'rice', 'DAP'), (1.0, 0.0, 1.0, 'rice', 'DAP'), (1.0, 0.0, 2.0, 'rice', 'Urea')} -> {(1.0, 0.0, 2.0, 'rice', 'MOP')} (3,1.0,1.0)\n",
      "{(0.0, 0.0, 3.0, 'rice', 'DAP'), (1.0, 0.0, 2.0, 'rice', 'Urea'), (1.0, 0.0, 2.0, 'rice', 'MOP')} -> {(1.0, 0.0, 1.0, 'rice', 'DAP')} (3,1.0,1.0)\n",
      "{(1.0, 0.0, 2.0, 'rice', 'MOP'), (1.0, 0.0, 1.0, 'rice', 'DAP'), (1.0, 0.0, 2.0, 'rice', 'Urea')} -> {(0.0, 0.0, 3.0, 'rice', 'DAP')} (3,1.0,1.0)\n",
      "{(2.0, 3.0, 1.0, 'Coconut', 'DAP')} -> {(2.0, 3.0, 0.0, 'Coconut', 'DAP'), (1.0, 2.0, 0.0, 'Coconut', 'Urea'), (1.0, 3.0, 1.0, 'Coconut', 'DAP')} (3,1.0,1.0)\n",
      "{(1.0, 3.0, 1.0, 'Coconut', 'DAP')} -> {(2.0, 3.0, 0.0, 'Coconut', 'DAP'), (2.0, 3.0, 1.0, 'Coconut', 'DAP'), (1.0, 2.0, 0.0, 'Coconut', 'Urea')} (3,1.0,1.0)\n",
      "{(2.0, 3.0, 0.0, 'Coconut', 'DAP'), (2.0, 3.0, 1.0, 'Coconut', 'DAP')} -> {(1.0, 2.0, 0.0, 'Coconut', 'Urea'), (1.0, 3.0, 1.0, 'Coconut', 'DAP')} (3,1.0,1.0)\n",
      "{(2.0, 3.0, 0.0, 'Coconut', 'DAP'), (1.0, 3.0, 1.0, 'Coconut', 'DAP')} -> {(2.0, 3.0, 1.0, 'Coconut', 'DAP'), (1.0, 2.0, 0.0, 'Coconut', 'Urea')} (3,1.0,1.0)\n",
      "{(2.0, 3.0, 1.0, 'Coconut', 'DAP'), (1.0, 2.0, 0.0, 'Coconut', 'Urea')} -> {(2.0, 3.0, 0.0, 'Coconut', 'DAP'), (1.0, 3.0, 1.0, 'Coconut', 'DAP')} (3,1.0,1.0)\n",
      "{(1.0, 2.0, 0.0, 'Coconut', 'Urea'), (1.0, 3.0, 1.0, 'Coconut', 'DAP')} -> {(2.0, 3.0, 0.0, 'Coconut', 'DAP'), (2.0, 3.0, 1.0, 'Coconut', 'DAP')} (3,1.0,1.0)\n",
      "{(2.0, 3.0, 0.0, 'Coconut', 'DAP'), (2.0, 3.0, 1.0, 'Coconut', 'DAP'), (1.0, 2.0, 0.0, 'Coconut', 'Urea')} -> {(1.0, 3.0, 1.0, 'Coconut', 'DAP')} (3,1.0,1.0)\n",
      "{(2.0, 3.0, 0.0, 'Coconut', 'DAP'), (1.0, 2.0, 0.0, 'Coconut', 'Urea'), (1.0, 3.0, 1.0, 'Coconut', 'DAP')} -> {(2.0, 3.0, 1.0, 'Coconut', 'DAP')} (3,1.0,1.0)\n",
      "{(0.0, 0.0, 3.0, 'rice', 'DAP')} -> {(1.0, 0.0, 2.0, 'rice', 'MOP'), (0.0, 0.0, 2.0, 'rice', 'Urea')} (3,1.0,1.0)\n",
      "{(1.0, 0.0, 2.0, 'rice', 'MOP')} -> {(0.0, 0.0, 3.0, 'rice', 'DAP'), (0.0, 0.0, 2.0, 'rice', 'Urea')} (3,1.0,1.0)\n",
      "{(0.0, 0.0, 2.0, 'rice', 'Urea')} -> {(0.0, 0.0, 3.0, 'rice', 'DAP'), (1.0, 0.0, 2.0, 'rice', 'MOP')} (3,1.0,1.0)\n",
      "{(0.0, 0.0, 3.0, 'rice', 'DAP'), (1.0, 0.0, 2.0, 'rice', 'MOP')} -> {(0.0, 0.0, 2.0, 'rice', 'Urea')} (3,1.0,1.0)\n",
      "{(0.0, 0.0, 3.0, 'rice', 'DAP'), (0.0, 0.0, 2.0, 'rice', 'Urea')} -> {(1.0, 0.0, 2.0, 'rice', 'MOP')} (3,1.0,1.0)\n",
      "{(1.0, 0.0, 2.0, 'rice', 'MOP'), (0.0, 0.0, 2.0, 'rice', 'Urea')} -> {(0.0, 0.0, 3.0, 'rice', 'DAP')} (3,1.0,1.0)\n",
      "{(0.0, 0.0, 3.0, 'rice', 'DAP')} -> {(0.0, 0.0, 2.0, 'rice', 'Urea'), (1.0, 0.0, 1.0, 'rice', 'MOP')} (3,1.0,1.0)\n",
      "{(1.0, 0.0, 1.0, 'rice', 'MOP')} -> {(0.0, 0.0, 3.0, 'rice', 'DAP'), (0.0, 0.0, 2.0, 'rice', 'Urea')} (3,1.0,1.0)\n",
      "{(0.0, 0.0, 2.0, 'rice', 'Urea')} -> {(0.0, 0.0, 3.0, 'rice', 'DAP'), (1.0, 0.0, 1.0, 'rice', 'MOP')} (3,1.0,1.0)\n",
      "{(0.0, 0.0, 3.0, 'rice', 'DAP'), (1.0, 0.0, 1.0, 'rice', 'MOP')} -> {(0.0, 0.0, 2.0, 'rice', 'Urea')} (3,1.0,1.0)\n",
      "{(0.0, 0.0, 3.0, 'rice', 'DAP'), (0.0, 0.0, 2.0, 'rice', 'Urea')} -> {(1.0, 0.0, 1.0, 'rice', 'MOP')} (3,1.0,1.0)\n",
      "{(0.0, 0.0, 2.0, 'rice', 'Urea'), (1.0, 0.0, 1.0, 'rice', 'MOP')} -> {(0.0, 0.0, 3.0, 'rice', 'DAP')} (3,1.0,1.0)\n",
      "{(2.0, 3.0, 1.0, 'Coconut', 'MOP')} -> {(2.0, 3.0, 0.0, 'Coconut', 'Urea'), (2.0, 3.0, 2.0, 'Coconut', 'MOP')} (3,1.0,1.0)\n",
      "{(2.0, 3.0, 2.0, 'Coconut', 'MOP')} -> {(2.0, 3.0, 1.0, 'Coconut', 'MOP'), (2.0, 3.0, 0.0, 'Coconut', 'Urea')} (3,1.0,1.0)\n",
      "{(2.0, 3.0, 1.0, 'Coconut', 'MOP'), (2.0, 3.0, 0.0, 'Coconut', 'Urea')} -> {(2.0, 3.0, 2.0, 'Coconut', 'MOP')} (3,1.0,1.0)\n",
      "{(2.0, 3.0, 0.0, 'Coconut', 'Urea'), (2.0, 3.0, 2.0, 'Coconut', 'MOP')} -> {(2.0, 3.0, 1.0, 'Coconut', 'MOP')} (3,1.0,1.0)\n",
      "{(2.0, 3.0, 1.0, 'Coconut', 'DAP')} -> {(1.0, 2.0, 0.0, 'Coconut', 'Urea'), (1.0, 3.0, 1.0, 'Coconut', 'DAP')} (3,1.0,1.0)\n",
      "{(1.0, 3.0, 1.0, 'Coconut', 'DAP')} -> {(2.0, 3.0, 1.0, 'Coconut', 'DAP'), (1.0, 2.0, 0.0, 'Coconut', 'Urea')} (3,1.0,1.0)\n",
      "{(2.0, 3.0, 1.0, 'Coconut', 'DAP'), (1.0, 2.0, 0.0, 'Coconut', 'Urea')} -> {(1.0, 3.0, 1.0, 'Coconut', 'DAP')} (3,1.0,1.0)\n",
      "{(1.0, 2.0, 0.0, 'Coconut', 'Urea'), (1.0, 3.0, 1.0, 'Coconut', 'DAP')} -> {(2.0, 3.0, 1.0, 'Coconut', 'DAP')} (3,1.0,1.0)\n",
      "{(0.0, 0.0, 3.0, 'rice', 'DAP')} -> {(1.0, 0.0, 2.0, 'rice', 'MOP'), (1.0, 0.0, 1.0, 'rice', 'MOP')} (3,1.0,1.0)\n",
      "{(1.0, 0.0, 2.0, 'rice', 'MOP')} -> {(0.0, 0.0, 3.0, 'rice', 'DAP'), (1.0, 0.0, 1.0, 'rice', 'MOP')} (3,1.0,1.0)\n",
      "{(1.0, 0.0, 1.0, 'rice', 'MOP')} -> {(0.0, 0.0, 3.0, 'rice', 'DAP'), (1.0, 0.0, 2.0, 'rice', 'MOP')} (3,1.0,1.0)\n",
      "{(0.0, 0.0, 3.0, 'rice', 'DAP'), (1.0, 0.0, 2.0, 'rice', 'MOP')} -> {(1.0, 0.0, 1.0, 'rice', 'MOP')} (3,1.0,1.0)\n",
      "{(0.0, 0.0, 3.0, 'rice', 'DAP'), (1.0, 0.0, 1.0, 'rice', 'MOP')} -> {(1.0, 0.0, 2.0, 'rice', 'MOP')} (3,1.0,1.0)\n",
      "{(1.0, 0.0, 2.0, 'rice', 'MOP'), (1.0, 0.0, 1.0, 'rice', 'MOP')} -> {(0.0, 0.0, 3.0, 'rice', 'DAP')} (3,1.0,1.0)\n",
      "{(2.0, 2.0, 0.0, 'Coconut', 'Urea')} -> {(1.0, 2.0, 0.0, 'Coconut', 'Urea'), (1.0, 0.0, 1.0, 'Coconut', 'Urea')} (3,1.0,1.0)\n",
      "{(1.0, 0.0, 1.0, 'Coconut', 'Urea')} -> {(1.0, 2.0, 0.0, 'Coconut', 'Urea'), (2.0, 2.0, 0.0, 'Coconut', 'Urea')} (3,1.0,1.0)\n",
      "{(1.0, 2.0, 0.0, 'Coconut', 'Urea'), (2.0, 2.0, 0.0, 'Coconut', 'Urea')} -> {(1.0, 0.0, 1.0, 'Coconut', 'Urea')} (3,1.0,1.0)\n",
      "{(1.0, 2.0, 0.0, 'Coconut', 'Urea'), (1.0, 0.0, 1.0, 'Coconut', 'Urea')} -> {(2.0, 2.0, 0.0, 'Coconut', 'Urea')} (3,1.0,1.0)\n",
      "{(1.0, 2.0, 0.0, 'Coconut', 'MOP')} -> {(1.0, 2.0, 0.0, 'Coconut', 'Urea'), (2.0, 2.0, 0.0, 'Coconut', 'Urea')} (3,1.0,1.0)\n",
      "{(2.0, 2.0, 0.0, 'Coconut', 'Urea')} -> {(1.0, 2.0, 0.0, 'Coconut', 'MOP'), (1.0, 2.0, 0.0, 'Coconut', 'Urea')} (3,1.0,1.0)\n",
      "{(1.0, 2.0, 0.0, 'Coconut', 'MOP'), (1.0, 2.0, 0.0, 'Coconut', 'Urea')} -> {(2.0, 2.0, 0.0, 'Coconut', 'Urea')} (3,1.0,1.0)\n",
      "{(1.0, 2.0, 0.0, 'Coconut', 'Urea'), (2.0, 2.0, 0.0, 'Coconut', 'Urea')} -> {(1.0, 2.0, 0.0, 'Coconut', 'MOP')} (3,1.0,1.0)\n",
      "{(2.0, 3.0, 1.0, 'Coconut', 'DAP')} -> {(1.0, 2.0, 0.0, 'Coconut', 'Urea'), (2.0, 2.0, 0.0, 'Coconut', 'Good NPK')} (3,1.0,1.0)\n",
      "{(2.0, 2.0, 0.0, 'Coconut', 'Good NPK')} -> {(2.0, 3.0, 1.0, 'Coconut', 'DAP'), (1.0, 2.0, 0.0, 'Coconut', 'Urea')} (3,1.0,1.0)\n",
      "{(2.0, 3.0, 1.0, 'Coconut', 'DAP'), (1.0, 2.0, 0.0, 'Coconut', 'Urea')} -> {(2.0, 2.0, 0.0, 'Coconut', 'Good NPK')} (3,1.0,1.0)\n",
      "{(1.0, 2.0, 0.0, 'Coconut', 'Urea'), (2.0, 2.0, 0.0, 'Coconut', 'Good NPK')} -> {(2.0, 3.0, 1.0, 'Coconut', 'DAP')} (3,1.0,1.0)\n",
      "{(1.0, 0.0, 1.0, 'Coconut', 'MOP')} -> {(2.0, 3.0, 0.0, 'Coconut', 'DAP'), (1.0, 2.0, 0.0, 'Coconut', 'Urea'), (1.0, 0.0, 1.0, 'Coconut', 'Urea')} (3,1.0,1.0)\n",
      "{(1.0, 0.0, 1.0, 'Coconut', 'Urea')} -> {(2.0, 3.0, 0.0, 'Coconut', 'DAP'), (1.0, 2.0, 0.0, 'Coconut', 'Urea'), (1.0, 0.0, 1.0, 'Coconut', 'MOP')} (3,1.0,1.0)\n",
      "{(2.0, 3.0, 0.0, 'Coconut', 'DAP'), (1.0, 0.0, 1.0, 'Coconut', 'MOP')} -> {(1.0, 2.0, 0.0, 'Coconut', 'Urea'), (1.0, 0.0, 1.0, 'Coconut', 'Urea')} (3,1.0,1.0)\n",
      "{(2.0, 3.0, 0.0, 'Coconut', 'DAP'), (1.0, 0.0, 1.0, 'Coconut', 'Urea')} -> {(1.0, 2.0, 0.0, 'Coconut', 'Urea'), (1.0, 0.0, 1.0, 'Coconut', 'MOP')} (3,1.0,1.0)\n",
      "{(1.0, 2.0, 0.0, 'Coconut', 'Urea'), (1.0, 0.0, 1.0, 'Coconut', 'MOP')} -> {(2.0, 3.0, 0.0, 'Coconut', 'DAP'), (1.0, 0.0, 1.0, 'Coconut', 'Urea')} (3,1.0,1.0)\n",
      "{(1.0, 2.0, 0.0, 'Coconut', 'Urea'), (1.0, 0.0, 1.0, 'Coconut', 'Urea')} -> {(2.0, 3.0, 0.0, 'Coconut', 'DAP'), (1.0, 0.0, 1.0, 'Coconut', 'MOP')} (3,1.0,1.0)\n",
      "{(2.0, 3.0, 0.0, 'Coconut', 'DAP'), (1.0, 2.0, 0.0, 'Coconut', 'Urea'), (1.0, 0.0, 1.0, 'Coconut', 'MOP')} -> {(1.0, 0.0, 1.0, 'Coconut', 'Urea')} (3,1.0,1.0)\n",
      "{(2.0, 3.0, 0.0, 'Coconut', 'DAP'), (1.0, 2.0, 0.0, 'Coconut', 'Urea'), (1.0, 0.0, 1.0, 'Coconut', 'Urea')} -> {(1.0, 0.0, 1.0, 'Coconut', 'MOP')} (3,1.0,1.0)\n",
      "{(2.0, 2.0, 0.0, 'Coconut', 'Urea')} -> {(2.0, 3.0, 0.0, 'Coconut', 'DAP'), (1.0, 2.0, 0.0, 'Coconut', 'Urea'), (1.0, 0.0, 1.0, 'Coconut', 'Urea')} (3,1.0,1.0)\n",
      "{(1.0, 0.0, 1.0, 'Coconut', 'Urea')} -> {(2.0, 3.0, 0.0, 'Coconut', 'DAP'), (1.0, 2.0, 0.0, 'Coconut', 'Urea'), (2.0, 2.0, 0.0, 'Coconut', 'Urea')} (3,1.0,1.0)\n",
      "{(2.0, 3.0, 0.0, 'Coconut', 'DAP'), (2.0, 2.0, 0.0, 'Coconut', 'Urea')} -> {(1.0, 2.0, 0.0, 'Coconut', 'Urea'), (1.0, 0.0, 1.0, 'Coconut', 'Urea')} (3,1.0,1.0)\n",
      "{(2.0, 3.0, 0.0, 'Coconut', 'DAP'), (1.0, 0.0, 1.0, 'Coconut', 'Urea')} -> {(1.0, 2.0, 0.0, 'Coconut', 'Urea'), (2.0, 2.0, 0.0, 'Coconut', 'Urea')} (3,1.0,1.0)\n",
      "{(1.0, 2.0, 0.0, 'Coconut', 'Urea'), (2.0, 2.0, 0.0, 'Coconut', 'Urea')} -> {(2.0, 3.0, 0.0, 'Coconut', 'DAP'), (1.0, 0.0, 1.0, 'Coconut', 'Urea')} (3,1.0,1.0)\n",
      "{(1.0, 2.0, 0.0, 'Coconut', 'Urea'), (1.0, 0.0, 1.0, 'Coconut', 'Urea')} -> {(2.0, 3.0, 0.0, 'Coconut', 'DAP'), (2.0, 2.0, 0.0, 'Coconut', 'Urea')} (3,1.0,1.0)\n",
      "{(2.0, 3.0, 0.0, 'Coconut', 'DAP'), (1.0, 2.0, 0.0, 'Coconut', 'Urea'), (2.0, 2.0, 0.0, 'Coconut', 'Urea')} -> {(1.0, 0.0, 1.0, 'Coconut', 'Urea')} (3,1.0,1.0)\n",
      "{(2.0, 3.0, 0.0, 'Coconut', 'DAP'), (1.0, 2.0, 0.0, 'Coconut', 'Urea'), (1.0, 0.0, 1.0, 'Coconut', 'Urea')} -> {(2.0, 2.0, 0.0, 'Coconut', 'Urea')} (3,1.0,1.0)\n",
      "{(2.0, 3.0, 1.0, 'Coconut', 'DAP')} -> {(2.0, 3.0, 0.0, 'Coconut', 'DAP'), (1.0, 2.0, 0.0, 'Coconut', 'Urea'), (1.0, 3.0, 1.0, 'Coconut', 'DAP')} (3,1.0,1.0)\n",
      "{(1.0, 3.0, 1.0, 'Coconut', 'DAP')} -> {(2.0, 3.0, 0.0, 'Coconut', 'DAP'), (2.0, 3.0, 1.0, 'Coconut', 'DAP'), (1.0, 2.0, 0.0, 'Coconut', 'Urea')} (3,1.0,1.0)\n",
      "{(2.0, 3.0, 0.0, 'Coconut', 'DAP'), (2.0, 3.0, 1.0, 'Coconut', 'DAP')} -> {(1.0, 2.0, 0.0, 'Coconut', 'Urea'), (1.0, 3.0, 1.0, 'Coconut', 'DAP')} (3,1.0,1.0)\n",
      "{(2.0, 3.0, 0.0, 'Coconut', 'DAP'), (1.0, 3.0, 1.0, 'Coconut', 'DAP')} -> {(2.0, 3.0, 1.0, 'Coconut', 'DAP'), (1.0, 2.0, 0.0, 'Coconut', 'Urea')} (3,1.0,1.0)\n",
      "{(2.0, 3.0, 1.0, 'Coconut', 'DAP'), (1.0, 2.0, 0.0, 'Coconut', 'Urea')} -> {(2.0, 3.0, 0.0, 'Coconut', 'DAP'), (1.0, 3.0, 1.0, 'Coconut', 'DAP')} (3,1.0,1.0)\n",
      "{(1.0, 2.0, 0.0, 'Coconut', 'Urea'), (1.0, 3.0, 1.0, 'Coconut', 'DAP')} -> {(2.0, 3.0, 0.0, 'Coconut', 'DAP'), (2.0, 3.0, 1.0, 'Coconut', 'DAP')} (3,1.0,1.0)\n",
      "{(2.0, 3.0, 0.0, 'Coconut', 'DAP'), (2.0, 3.0, 1.0, 'Coconut', 'DAP'), (1.0, 2.0, 0.0, 'Coconut', 'Urea')} -> {(1.0, 3.0, 1.0, 'Coconut', 'DAP')} (3,1.0,1.0)\n",
      "{(2.0, 3.0, 0.0, 'Coconut', 'DAP'), (1.0, 2.0, 0.0, 'Coconut', 'Urea'), (1.0, 3.0, 1.0, 'Coconut', 'DAP')} -> {(2.0, 3.0, 1.0, 'Coconut', 'DAP')} (3,1.0,1.0)\n",
      "{(2.0, 3.0, 1.0, 'Coconut', 'DAP')} -> {(2.0, 3.0, 0.0, 'Coconut', 'DAP'), (1.0, 2.0, 0.0, 'Coconut', 'Urea'), (2.0, 2.0, 0.0, 'Coconut', 'Good NPK')} (3,1.0,1.0)\n",
      "{(2.0, 2.0, 0.0, 'Coconut', 'Good NPK')} -> {(2.0, 3.0, 0.0, 'Coconut', 'DAP'), (2.0, 3.0, 1.0, 'Coconut', 'DAP'), (1.0, 2.0, 0.0, 'Coconut', 'Urea')} (3,1.0,1.0)\n",
      "{(2.0, 3.0, 0.0, 'Coconut', 'DAP'), (2.0, 3.0, 1.0, 'Coconut', 'DAP')} -> {(1.0, 2.0, 0.0, 'Coconut', 'Urea'), (2.0, 2.0, 0.0, 'Coconut', 'Good NPK')} (3,1.0,1.0)\n",
      "{(2.0, 3.0, 0.0, 'Coconut', 'DAP'), (2.0, 2.0, 0.0, 'Coconut', 'Good NPK')} -> {(2.0, 3.0, 1.0, 'Coconut', 'DAP'), (1.0, 2.0, 0.0, 'Coconut', 'Urea')} (3,1.0,1.0)\n",
      "{(2.0, 3.0, 1.0, 'Coconut', 'DAP'), (1.0, 2.0, 0.0, 'Coconut', 'Urea')} -> {(2.0, 3.0, 0.0, 'Coconut', 'DAP'), (2.0, 2.0, 0.0, 'Coconut', 'Good NPK')} (3,1.0,1.0)\n",
      "{(1.0, 2.0, 0.0, 'Coconut', 'Urea'), (2.0, 2.0, 0.0, 'Coconut', 'Good NPK')} -> {(2.0, 3.0, 0.0, 'Coconut', 'DAP'), (2.0, 3.0, 1.0, 'Coconut', 'DAP')} (3,1.0,1.0)\n",
      "{(2.0, 3.0, 0.0, 'Coconut', 'DAP'), (2.0, 3.0, 1.0, 'Coconut', 'DAP'), (1.0, 2.0, 0.0, 'Coconut', 'Urea')} -> {(2.0, 2.0, 0.0, 'Coconut', 'Good NPK')} (3,1.0,1.0)\n",
      "{(2.0, 3.0, 0.0, 'Coconut', 'DAP'), (1.0, 2.0, 0.0, 'Coconut', 'Urea'), (2.0, 2.0, 0.0, 'Coconut', 'Good NPK')} -> {(2.0, 3.0, 1.0, 'Coconut', 'DAP')} (3,1.0,1.0)\n"
     ]
    }
   ],
   "source": [
    "strong_association_rules = kulczynski_metric(association_rules,dataitems)\n",
    "afficher_rules(strong_association_rules)"
   ]
  },
  {
   "cell_type": "markdown",
   "metadata": {},
   "source": [
    "Insertion d'observations et recommandation"
   ]
  },
  {
   "cell_type": "code",
   "execution_count": 145,
   "metadata": {},
   "outputs": [],
   "source": [
    "import random\n",
    "def recommandation_soil(observation,data):\n",
    "    recommandations=[]\n",
    "    for index, row in data.iterrows():\n",
    "        if observation in row['Items']:\n",
    "            recommandations.append(row['Transaction'])\n",
    "    return random.choice(list(set(recommandations)))"
   ]
  },
  {
   "cell_type": "code",
   "execution_count": 149,
   "metadata": {},
   "outputs": [],
   "source": [
    "import random\n",
    "def recommandation_item(observation,data,RA):\n",
    "    recommandations=[]\n",
    "    for rule in RA:\n",
    "        item1,item2,support,confiance=rule\n",
    "        if observation in item1 and len(item2)==1 :\n",
    "            recommandations.append((item2,support,confiance))\n",
    "    recommandations=[item for item in recommandations if item[1]==max(recommandations, key=lambda x: x[1])[1]]\n",
    "    recommandations=[item[0] for item in recommandations if item[2]==max(recommandations, key=lambda x: x[2])[2]]\n",
    "    \n",
    "    return random.choice(recommandations)\n",
    "    \n",
    "    "
   ]
  },
  {
   "cell_type": "code",
   "execution_count": 147,
   "metadata": {},
   "outputs": [
    {
     "data": {
      "text/plain": [
       "'alluvial'"
      ]
     },
     "execution_count": 147,
     "metadata": {},
     "output_type": "execute_result"
    }
   ],
   "source": [
    "recomm=recommandation_soil((2.0, 3.0, 2.0, 'Coconut', 'DAP'),dataitems)\n",
    "recomm"
   ]
  },
  {
   "cell_type": "code",
   "execution_count": 150,
   "metadata": {},
   "outputs": [
    {
     "data": {
      "text/plain": [
       "{(1.0, 3.0, 1.0, 'Coconut', 'DAP')}"
      ]
     },
     "execution_count": 150,
     "metadata": {},
     "output_type": "execute_result"
    }
   ],
   "source": [
    "rec=recommandation_item((2.0,3.0,1.0,'Coconut','DAP'),dataitems,association_rules)\n",
    "rec"
   ]
  },
  {
   "cell_type": "code",
   "execution_count": 106,
   "metadata": {},
   "outputs": [
    {
     "name": "stdout",
     "output_type": "stream",
     "text": [
      "<class 'pandas.core.frame.DataFrame'>\n",
      "RangeIndex: 7 entries, 0 to 6\n",
      "Data columns (total 2 columns):\n",
      " #   Column       Non-Null Count  Dtype \n",
      "---  ------       --------------  ----- \n",
      " 0   Transaction  7 non-null      object\n",
      " 1   Items        7 non-null      object\n",
      "dtypes: object(2)\n",
      "memory usage: 244.0+ bytes\n"
     ]
    }
   ],
   "source": [
    "data = pd.read_csv(\"./dataitems.csv\")\n",
    "data.info()"
   ]
  },
  {
   "cell_type": "code",
   "execution_count": 112,
   "metadata": {},
   "outputs": [
    {
     "data": {
      "text/html": [
       "<div>\n",
       "<style scoped>\n",
       "    .dataframe tbody tr th:only-of-type {\n",
       "        vertical-align: middle;\n",
       "    }\n",
       "\n",
       "    .dataframe tbody tr th {\n",
       "        vertical-align: top;\n",
       "    }\n",
       "\n",
       "    .dataframe thead th {\n",
       "        text-align: right;\n",
       "    }\n",
       "</style>\n",
       "<table border=\"1\" class=\"dataframe\">\n",
       "  <thead>\n",
       "    <tr style=\"text-align: right;\">\n",
       "      <th></th>\n",
       "      <th>Transaction</th>\n",
       "      <th>Items</th>\n",
       "    </tr>\n",
       "  </thead>\n",
       "  <tbody>\n",
       "    <tr>\n",
       "      <th>0</th>\n",
       "      <td>Clayey</td>\n",
       "      <td>[(1.0, 0.0, 3.0, rice, DAP), (1.0, 0.0, 2.0, r...</td>\n",
       "    </tr>\n",
       "    <tr>\n",
       "      <th>1</th>\n",
       "      <td>alluvial</td>\n",
       "      <td>[(1.0, 2.0, 0.0, Coconut, Urea), (2.0, 3.0, 2....</td>\n",
       "    </tr>\n",
       "    <tr>\n",
       "      <th>2</th>\n",
       "      <td>clay loam</td>\n",
       "      <td>[(0.0, 0.0, 2.0, rice, Urea), (1.0, 0.0, 2.0, ...</td>\n",
       "    </tr>\n",
       "    <tr>\n",
       "      <th>3</th>\n",
       "      <td>coastal</td>\n",
       "      <td>[(1.0, 3.0, 1.0, Coconut, Urea), (1.0, 3.0, 0....</td>\n",
       "    </tr>\n",
       "    <tr>\n",
       "      <th>4</th>\n",
       "      <td>laterite</td>\n",
       "      <td>[(2.0, 3.0, 1.0, Coconut, Good NPK), (1.0, 3.0...</td>\n",
       "    </tr>\n",
       "    <tr>\n",
       "      <th>5</th>\n",
       "      <td>sandy</td>\n",
       "      <td>[(1.0, 3.0, 1.0, Coconut, Urea), (2.0, 2.0, 0....</td>\n",
       "    </tr>\n",
       "    <tr>\n",
       "      <th>6</th>\n",
       "      <td>silty clay</td>\n",
       "      <td>[(0.0, 0.0, 3.0, rice, MOP), (0.0, 0.0, 2.0, r...</td>\n",
       "    </tr>\n",
       "  </tbody>\n",
       "</table>\n",
       "</div>"
      ],
      "text/plain": [
       "  Transaction                                              Items\n",
       "0      Clayey  [(1.0, 0.0, 3.0, rice, DAP), (1.0, 0.0, 2.0, r...\n",
       "1    alluvial  [(1.0, 2.0, 0.0, Coconut, Urea), (2.0, 3.0, 2....\n",
       "2   clay loam  [(0.0, 0.0, 2.0, rice, Urea), (1.0, 0.0, 2.0, ...\n",
       "3     coastal  [(1.0, 3.0, 1.0, Coconut, Urea), (1.0, 3.0, 0....\n",
       "4    laterite  [(2.0, 3.0, 1.0, Coconut, Good NPK), (1.0, 3.0...\n",
       "5       sandy  [(1.0, 3.0, 1.0, Coconut, Urea), (2.0, 2.0, 0....\n",
       "6  silty clay  [(0.0, 0.0, 3.0, rice, MOP), (0.0, 0.0, 2.0, r..."
      ]
     },
     "execution_count": 112,
     "metadata": {},
     "output_type": "execute_result"
    }
   ],
   "source": [
    "dataitems"
   ]
  },
  {
   "cell_type": "code",
   "execution_count": 113,
   "metadata": {},
   "outputs": [
    {
     "data": {
      "text/html": [
       "<div>\n",
       "<style scoped>\n",
       "    .dataframe tbody tr th:only-of-type {\n",
       "        vertical-align: middle;\n",
       "    }\n",
       "\n",
       "    .dataframe tbody tr th {\n",
       "        vertical-align: top;\n",
       "    }\n",
       "\n",
       "    .dataframe thead th {\n",
       "        text-align: right;\n",
       "    }\n",
       "</style>\n",
       "<table border=\"1\" class=\"dataframe\">\n",
       "  <thead>\n",
       "    <tr style=\"text-align: right;\">\n",
       "      <th></th>\n",
       "      <th>Transaction</th>\n",
       "      <th>Items</th>\n",
       "    </tr>\n",
       "  </thead>\n",
       "  <tbody>\n",
       "    <tr>\n",
       "      <th>0</th>\n",
       "      <td>Clayey</td>\n",
       "      <td>[(1.0, 0.0, 3.0, 'rice', 'DAP'), (1.0, 0.0, 2....</td>\n",
       "    </tr>\n",
       "    <tr>\n",
       "      <th>1</th>\n",
       "      <td>alluvial</td>\n",
       "      <td>[(1.0, 2.0, 0.0, 'Coconut', 'Urea'), (2.0, 3.0...</td>\n",
       "    </tr>\n",
       "    <tr>\n",
       "      <th>2</th>\n",
       "      <td>clay loam</td>\n",
       "      <td>[(0.0, 0.0, 2.0, 'rice', 'Urea'), (1.0, 0.0, 2...</td>\n",
       "    </tr>\n",
       "    <tr>\n",
       "      <th>3</th>\n",
       "      <td>coastal</td>\n",
       "      <td>[(1.0, 3.0, 1.0, 'Coconut', 'Urea'), (1.0, 3.0...</td>\n",
       "    </tr>\n",
       "    <tr>\n",
       "      <th>4</th>\n",
       "      <td>laterite</td>\n",
       "      <td>[(2.0, 3.0, 1.0, 'Coconut', 'Good NPK'), (1.0,...</td>\n",
       "    </tr>\n",
       "    <tr>\n",
       "      <th>5</th>\n",
       "      <td>sandy</td>\n",
       "      <td>[(1.0, 3.0, 1.0, 'Coconut', 'Urea'), (2.0, 2.0...</td>\n",
       "    </tr>\n",
       "    <tr>\n",
       "      <th>6</th>\n",
       "      <td>silty clay</td>\n",
       "      <td>[(0.0, 0.0, 3.0, 'rice', 'MOP'), (0.0, 0.0, 2....</td>\n",
       "    </tr>\n",
       "  </tbody>\n",
       "</table>\n",
       "</div>"
      ],
      "text/plain": [
       "  Transaction                                              Items\n",
       "0      Clayey  [(1.0, 0.0, 3.0, 'rice', 'DAP'), (1.0, 0.0, 2....\n",
       "1    alluvial  [(1.0, 2.0, 0.0, 'Coconut', 'Urea'), (2.0, 3.0...\n",
       "2   clay loam  [(0.0, 0.0, 2.0, 'rice', 'Urea'), (1.0, 0.0, 2...\n",
       "3     coastal  [(1.0, 3.0, 1.0, 'Coconut', 'Urea'), (1.0, 3.0...\n",
       "4    laterite  [(2.0, 3.0, 1.0, 'Coconut', 'Good NPK'), (1.0,...\n",
       "5       sandy  [(1.0, 3.0, 1.0, 'Coconut', 'Urea'), (2.0, 2.0...\n",
       "6  silty clay  [(0.0, 0.0, 3.0, 'rice', 'MOP'), (0.0, 0.0, 2...."
      ]
     },
     "execution_count": 113,
     "metadata": {},
     "output_type": "execute_result"
    }
   ],
   "source": [
    "data"
   ]
  },
  {
   "cell_type": "code",
   "execution_count": 108,
   "metadata": {},
   "outputs": [
    {
     "ename": "TypeError",
     "evalue": "'in <string>' requires string as left operand, not tuple",
     "output_type": "error",
     "traceback": [
      "\u001b[1;31m---------------------------------------------------------------------------\u001b[0m",
      "\u001b[1;31mTypeError\u001b[0m                                 Traceback (most recent call last)",
      "Cell \u001b[1;32mIn[108], line 1\u001b[0m\n\u001b[1;32m----> 1\u001b[0m \u001b[43mAR_per_confiance_level\u001b[49m\u001b[43m(\u001b[49m\u001b[43mFP\u001b[49m\u001b[43m,\u001b[49m\u001b[43mdata\u001b[49m\u001b[43m)\u001b[49m\n",
      "Cell \u001b[1;32mIn[95], line 5\u001b[0m, in \u001b[0;36mAR_per_confiance_level\u001b[1;34m(FP, dataitems)\u001b[0m\n\u001b[0;32m      3\u001b[0m nb_rules\u001b[38;5;241m=\u001b[39m[]\n\u001b[0;32m      4\u001b[0m \u001b[38;5;28;01mwhile\u001b[39;00m(i\u001b[38;5;241m<\u001b[39m\u001b[38;5;241m1\u001b[39m):\n\u001b[1;32m----> 5\u001b[0m     association_rules\u001b[38;5;241m=\u001b[39m\u001b[43mgenerate_association_rules\u001b[49m\u001b[43m(\u001b[49m\u001b[43mFP\u001b[49m\u001b[43m,\u001b[49m\u001b[43mi\u001b[49m\u001b[43m,\u001b[49m\u001b[43mdataitems\u001b[49m\u001b[43m)\u001b[49m\n\u001b[0;32m      6\u001b[0m     nb_rules\u001b[38;5;241m.\u001b[39mappend((i,\u001b[38;5;28mlen\u001b[39m(association_rules)))\n\u001b[0;32m      7\u001b[0m     i\u001b[38;5;241m+\u001b[39m\u001b[38;5;241m=\u001b[39m\u001b[38;5;241m0.1\u001b[39m\n",
      "Cell \u001b[1;32mIn[72], line 16\u001b[0m, in \u001b[0;36mgenerate_association_rules\u001b[1;34m(FP, conf_min, dataitems)\u001b[0m\n\u001b[0;32m     14\u001b[0m \u001b[38;5;28;01mfor\u001b[39;00m antecedent \u001b[38;5;129;01min\u001b[39;00m combinations(itemset, r):\n\u001b[0;32m     15\u001b[0m     consequent \u001b[38;5;241m=\u001b[39m \u001b[38;5;28mtuple\u001b[39m(\u001b[38;5;28mset\u001b[39m(itemset) \u001b[38;5;241m-\u001b[39m \u001b[38;5;28mset\u001b[39m(antecedent))\n\u001b[1;32m---> 16\u001b[0m     conf\u001b[38;5;241m=\u001b[39m\u001b[43mconfiance\u001b[49m\u001b[43m(\u001b[49m\u001b[43mantecedent\u001b[49m\u001b[43m,\u001b[49m\u001b[43mconsequent\u001b[49m\u001b[43m,\u001b[49m\u001b[43mdataitems\u001b[49m\u001b[43m)\u001b[49m\n\u001b[0;32m     17\u001b[0m     \u001b[38;5;28;01mif\u001b[39;00m(conf\u001b[38;5;241m>\u001b[39m\u001b[38;5;241m=\u001b[39mconf_min):\n\u001b[0;32m     18\u001b[0m         association_rules\u001b[38;5;241m.\u001b[39mappend((\u001b[38;5;28mset\u001b[39m(antecedent), \u001b[38;5;28mset\u001b[39m(consequent),support,conf))\n",
      "Cell \u001b[1;32mIn[71], line 6\u001b[0m, in \u001b[0;36mconfiance\u001b[1;34m(item1, item2, data)\u001b[0m\n\u001b[0;32m      4\u001b[0m P_A \u001b[38;5;241m=\u001b[39m \u001b[38;5;241m0\u001b[39m\n\u001b[0;32m      5\u001b[0m \u001b[38;5;28;01mfor\u001b[39;00m index, row \u001b[38;5;129;01min\u001b[39;00m data\u001b[38;5;241m.\u001b[39miterrows():\n\u001b[1;32m----> 6\u001b[0m     \u001b[38;5;28;01mif\u001b[39;00m \u001b[38;5;28mall\u001b[39m(i \u001b[38;5;129;01min\u001b[39;00m row[\u001b[38;5;124m'\u001b[39m\u001b[38;5;124mItems\u001b[39m\u001b[38;5;124m'\u001b[39m] \u001b[38;5;28;01mfor\u001b[39;00m i \u001b[38;5;129;01min\u001b[39;00m item1) \u001b[38;5;129;01mand\u001b[39;00m \u001b[38;5;28mall\u001b[39m(i \u001b[38;5;129;01min\u001b[39;00m row[\u001b[38;5;124m'\u001b[39m\u001b[38;5;124mItems\u001b[39m\u001b[38;5;124m'\u001b[39m] \u001b[38;5;28;01mfor\u001b[39;00m i \u001b[38;5;129;01min\u001b[39;00m item2):\n\u001b[0;32m      7\u001b[0m         P_A_B \u001b[38;5;241m+\u001b[39m\u001b[38;5;241m=\u001b[39m \u001b[38;5;241m1\u001b[39m\n\u001b[0;32m      8\u001b[0m     \u001b[38;5;28;01mif\u001b[39;00m \u001b[38;5;28mall\u001b[39m(i \u001b[38;5;129;01min\u001b[39;00m row[\u001b[38;5;124m'\u001b[39m\u001b[38;5;124mItems\u001b[39m\u001b[38;5;124m'\u001b[39m] \u001b[38;5;28;01mfor\u001b[39;00m i \u001b[38;5;129;01min\u001b[39;00m item1):\n",
      "Cell \u001b[1;32mIn[71], line 6\u001b[0m, in \u001b[0;36m<genexpr>\u001b[1;34m(.0)\u001b[0m\n\u001b[0;32m      4\u001b[0m P_A \u001b[38;5;241m=\u001b[39m \u001b[38;5;241m0\u001b[39m\n\u001b[0;32m      5\u001b[0m \u001b[38;5;28;01mfor\u001b[39;00m index, row \u001b[38;5;129;01min\u001b[39;00m data\u001b[38;5;241m.\u001b[39miterrows():\n\u001b[1;32m----> 6\u001b[0m     \u001b[38;5;28;01mif\u001b[39;00m \u001b[38;5;28mall\u001b[39m(\u001b[43mi\u001b[49m\u001b[43m \u001b[49m\u001b[38;5;129;43;01min\u001b[39;49;00m\u001b[43m \u001b[49m\u001b[43mrow\u001b[49m\u001b[43m[\u001b[49m\u001b[38;5;124;43m'\u001b[39;49m\u001b[38;5;124;43mItems\u001b[39;49m\u001b[38;5;124;43m'\u001b[39;49m\u001b[43m]\u001b[49m \u001b[38;5;28;01mfor\u001b[39;00m i \u001b[38;5;129;01min\u001b[39;00m item1) \u001b[38;5;129;01mand\u001b[39;00m \u001b[38;5;28mall\u001b[39m(i \u001b[38;5;129;01min\u001b[39;00m row[\u001b[38;5;124m'\u001b[39m\u001b[38;5;124mItems\u001b[39m\u001b[38;5;124m'\u001b[39m] \u001b[38;5;28;01mfor\u001b[39;00m i \u001b[38;5;129;01min\u001b[39;00m item2):\n\u001b[0;32m      7\u001b[0m         P_A_B \u001b[38;5;241m+\u001b[39m\u001b[38;5;241m=\u001b[39m \u001b[38;5;241m1\u001b[39m\n\u001b[0;32m      8\u001b[0m     \u001b[38;5;28;01mif\u001b[39;00m \u001b[38;5;28mall\u001b[39m(i \u001b[38;5;129;01min\u001b[39;00m row[\u001b[38;5;124m'\u001b[39m\u001b[38;5;124mItems\u001b[39m\u001b[38;5;124m'\u001b[39m] \u001b[38;5;28;01mfor\u001b[39;00m i \u001b[38;5;129;01min\u001b[39;00m item1):\n",
      "\u001b[1;31mTypeError\u001b[0m: 'in <string>' requires string as left operand, not tuple"
     ]
    }
   ],
   "source": [
    "AR_per_confiance_level(FP,data)"
   ]
  },
  {
   "cell_type": "code",
   "execution_count": 105,
   "metadata": {},
   "outputs": [],
   "source": [
    "dataitems.to_csv(\"./dataitems.csv\",index=False)"
   ]
  }
 ],
 "metadata": {
  "kernelspec": {
   "display_name": "Python 3",
   "language": "python",
   "name": "python3"
  },
  "language_info": {
   "codemirror_mode": {
    "name": "ipython",
    "version": 3
   },
   "file_extension": ".py",
   "mimetype": "text/x-python",
   "name": "python",
   "nbconvert_exporter": "python",
   "pygments_lexer": "ipython3",
   "version": "3.11.4"
  }
 },
 "nbformat": 4,
 "nbformat_minor": 2
}
