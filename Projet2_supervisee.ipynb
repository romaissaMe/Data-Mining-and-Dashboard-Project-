{
 "cells": [
  {
   "cell_type": "code",
   "execution_count": 2,
   "metadata": {},
   "outputs": [],
   "source": [
    "import numpy as np\n",
    "import pandas as pd\n",
    "import matplotlib.pyplot as plt\n",
    "import seaborn as sns\n",
    "from sklearn.model_selection import train_test_split\n",
    "from algorithms import DecisionTree, RandomForest, KNN\n",
    "from metrics import confusion_matrix,accuracy,specificity,precision,recall,f_score, find_FN, find_FP, find_TN, find_TP\n",
    "#from sklearn.metrics import accuracy_score\n",
    "#from metrics import confusion_matrix\n",
    "import time\n",
    "import joblib\n",
    "from sklearn.metrics import classification_report"
   ]
  },
  {
   "cell_type": "code",
   "execution_count": 3,
   "metadata": {},
   "outputs": [],
   "source": [
    "import math\n",
    "\n",
    "def discretisation_width(dataset,columns,k=None):\n",
    "    n = dataset.shape[0]\n",
    "    if k==None:\n",
    "        k = round(1 + (10 / 3) * math.log10(n))  \n",
    "    for colonne in columns:\n",
    "        val_column=dataset[colonne]\n",
    "        largeur = (float(max(val_column)) - float(min(val_column))) / k  \n",
    "\n",
    "        intervales = []\n",
    "        for i in range(k):\n",
    "            valI_min = round((min(val_column) + largeur * i), 4)\n",
    "            valI_max = round((min(val_column) + largeur * (i + 1)), 4)\n",
    "            limites = (valI_min, valI_max)\n",
    "            intervales.append((i, limites))\n",
    "\n",
    "        for index,valeur in enumerate(val_column):\n",
    "            for i, limites in intervales:\n",
    "                valMin, valMax = limites\n",
    "                if valeur==max(val_column):\n",
    "                    dataset.at[index, colonne] = k-1\n",
    "                if valMin <= valeur < valMax:\n",
    "                    dataset.at[index, colonne] = i\n",
    "                    break\n",
    "                \n",
    "        dataset[colonne] = dataset[colonne].astype('category')\n",
    "    return intervales\n"
   ]
  },
  {
   "cell_type": "code",
   "execution_count": 7,
   "metadata": {},
   "outputs": [
    {
     "data": {
      "text/html": [
       "<div>\n",
       "<style scoped>\n",
       "    .dataframe tbody tr th:only-of-type {\n",
       "        vertical-align: middle;\n",
       "    }\n",
       "\n",
       "    .dataframe tbody tr th {\n",
       "        vertical-align: top;\n",
       "    }\n",
       "\n",
       "    .dataframe thead th {\n",
       "        text-align: right;\n",
       "    }\n",
       "</style>\n",
       "<table border=\"1\" class=\"dataframe\">\n",
       "  <thead>\n",
       "    <tr style=\"text-align: right;\">\n",
       "      <th></th>\n",
       "      <th>Fertility</th>\n",
       "      <th>N</th>\n",
       "      <th>P</th>\n",
       "      <th>K</th>\n",
       "      <th>pH</th>\n",
       "      <th>EC</th>\n",
       "      <th>S</th>\n",
       "      <th>Zn</th>\n",
       "      <th>Fe</th>\n",
       "      <th>Cu</th>\n",
       "      <th>Mn</th>\n",
       "      <th>B</th>\n",
       "      <th>OM</th>\n",
       "    </tr>\n",
       "  </thead>\n",
       "  <tbody>\n",
       "    <tr>\n",
       "      <th>0</th>\n",
       "      <td>0</td>\n",
       "      <td>0.2389</td>\n",
       "      <td>0.3065</td>\n",
       "      <td>0.5008</td>\n",
       "      <td>0.3731</td>\n",
       "      <td>0.5600</td>\n",
       "      <td>0.3413</td>\n",
       "      <td>0.2459</td>\n",
       "      <td>0.0097</td>\n",
       "      <td>0.3487</td>\n",
       "      <td>0.4392</td>\n",
       "      <td>0.0568</td>\n",
       "      <td>0.5128</td>\n",
       "    </tr>\n",
       "    <tr>\n",
       "      <th>1</th>\n",
       "      <td>2</td>\n",
       "      <td>0.8599</td>\n",
       "      <td>0.6452</td>\n",
       "      <td>0.2828</td>\n",
       "      <td>0.9701</td>\n",
       "      <td>0.3733</td>\n",
       "      <td>0.5437</td>\n",
       "      <td>0.6885</td>\n",
       "      <td>0.3008</td>\n",
       "      <td>0.5077</td>\n",
       "      <td>0.4648</td>\n",
       "      <td>0.2955</td>\n",
       "      <td>0.9145</td>\n",
       "    </tr>\n",
       "    <tr>\n",
       "      <th>2</th>\n",
       "      <td>0</td>\n",
       "      <td>0.5796</td>\n",
       "      <td>0.2796</td>\n",
       "      <td>0.5008</td>\n",
       "      <td>0.2612</td>\n",
       "      <td>0.5733</td>\n",
       "      <td>0.7937</td>\n",
       "      <td>0.3279</td>\n",
       "      <td>0.0213</td>\n",
       "      <td>0.2462</td>\n",
       "      <td>0.3892</td>\n",
       "      <td>0.7727</td>\n",
       "      <td>0.5812</td>\n",
       "    </tr>\n",
       "    <tr>\n",
       "      <th>3</th>\n",
       "      <td>0</td>\n",
       "      <td>0.5796</td>\n",
       "      <td>0.2903</td>\n",
       "      <td>0.5008</td>\n",
       "      <td>0.4627</td>\n",
       "      <td>0.7200</td>\n",
       "      <td>0.5238</td>\n",
       "      <td>0.3770</td>\n",
       "      <td>0.0725</td>\n",
       "      <td>0.7590</td>\n",
       "      <td>0.1307</td>\n",
       "      <td>0.6023</td>\n",
       "      <td>0.6239</td>\n",
       "    </tr>\n",
       "    <tr>\n",
       "      <th>4</th>\n",
       "      <td>0</td>\n",
       "      <td>0.3790</td>\n",
       "      <td>0.4194</td>\n",
       "      <td>0.7346</td>\n",
       "      <td>0.3881</td>\n",
       "      <td>0.4933</td>\n",
       "      <td>1.0000</td>\n",
       "      <td>0.8197</td>\n",
       "      <td>0.0687</td>\n",
       "      <td>0.5436</td>\n",
       "      <td>0.3361</td>\n",
       "      <td>0.6705</td>\n",
       "      <td>0.8632</td>\n",
       "    </tr>\n",
       "    <tr>\n",
       "      <th>...</th>\n",
       "      <td>...</td>\n",
       "      <td>...</td>\n",
       "      <td>...</td>\n",
       "      <td>...</td>\n",
       "      <td>...</td>\n",
       "      <td>...</td>\n",
       "      <td>...</td>\n",
       "      <td>...</td>\n",
       "      <td>...</td>\n",
       "      <td>...</td>\n",
       "      <td>...</td>\n",
       "      <td>...</td>\n",
       "      <td>...</td>\n",
       "    </tr>\n",
       "    <tr>\n",
       "      <th>617</th>\n",
       "      <td>1</td>\n",
       "      <td>0.9172</td>\n",
       "      <td>0.4194</td>\n",
       "      <td>0.6003</td>\n",
       "      <td>0.7463</td>\n",
       "      <td>0.4133</td>\n",
       "      <td>0.4476</td>\n",
       "      <td>0.4426</td>\n",
       "      <td>0.4333</td>\n",
       "      <td>0.3077</td>\n",
       "      <td>0.5577</td>\n",
       "      <td>0.7159</td>\n",
       "      <td>0.1624</td>\n",
       "    </tr>\n",
       "    <tr>\n",
       "      <th>618</th>\n",
       "      <td>1</td>\n",
       "      <td>0.6401</td>\n",
       "      <td>0.3280</td>\n",
       "      <td>0.3839</td>\n",
       "      <td>0.2090</td>\n",
       "      <td>0.3600</td>\n",
       "      <td>0.1841</td>\n",
       "      <td>0.4262</td>\n",
       "      <td>0.7785</td>\n",
       "      <td>0.1846</td>\n",
       "      <td>0.4019</td>\n",
       "      <td>0.3864</td>\n",
       "      <td>0.0000</td>\n",
       "    </tr>\n",
       "    <tr>\n",
       "      <th>619</th>\n",
       "      <td>1</td>\n",
       "      <td>0.6783</td>\n",
       "      <td>0.3387</td>\n",
       "      <td>0.2006</td>\n",
       "      <td>0.4925</td>\n",
       "      <td>0.5600</td>\n",
       "      <td>0.4000</td>\n",
       "      <td>0.5410</td>\n",
       "      <td>0.3250</td>\n",
       "      <td>0.2769</td>\n",
       "      <td>0.3253</td>\n",
       "      <td>0.2955</td>\n",
       "      <td>0.3333</td>\n",
       "    </tr>\n",
       "    <tr>\n",
       "      <th>620</th>\n",
       "      <td>2</td>\n",
       "      <td>0.8185</td>\n",
       "      <td>0.5860</td>\n",
       "      <td>0.2338</td>\n",
       "      <td>0.3134</td>\n",
       "      <td>0.6000</td>\n",
       "      <td>0.3040</td>\n",
       "      <td>0.8033</td>\n",
       "      <td>0.4226</td>\n",
       "      <td>0.4769</td>\n",
       "      <td>0.6711</td>\n",
       "      <td>0.5341</td>\n",
       "      <td>0.8291</td>\n",
       "    </tr>\n",
       "    <tr>\n",
       "      <th>621</th>\n",
       "      <td>0</td>\n",
       "      <td>0.6401</td>\n",
       "      <td>0.3978</td>\n",
       "      <td>0.3665</td>\n",
       "      <td>0.3955</td>\n",
       "      <td>0.7200</td>\n",
       "      <td>0.7111</td>\n",
       "      <td>0.5902</td>\n",
       "      <td>0.6915</td>\n",
       "      <td>0.9128</td>\n",
       "      <td>0.5373</td>\n",
       "      <td>0.6477</td>\n",
       "      <td>0.6667</td>\n",
       "    </tr>\n",
       "  </tbody>\n",
       "</table>\n",
       "<p>622 rows × 13 columns</p>\n",
       "</div>"
      ],
      "text/plain": [
       "     Fertility       N       P       K      pH      EC       S      Zn  \\\n",
       "0            0  0.2389  0.3065  0.5008  0.3731  0.5600  0.3413  0.2459   \n",
       "1            2  0.8599  0.6452  0.2828  0.9701  0.3733  0.5437  0.6885   \n",
       "2            0  0.5796  0.2796  0.5008  0.2612  0.5733  0.7937  0.3279   \n",
       "3            0  0.5796  0.2903  0.5008  0.4627  0.7200  0.5238  0.3770   \n",
       "4            0  0.3790  0.4194  0.7346  0.3881  0.4933  1.0000  0.8197   \n",
       "..         ...     ...     ...     ...     ...     ...     ...     ...   \n",
       "617          1  0.9172  0.4194  0.6003  0.7463  0.4133  0.4476  0.4426   \n",
       "618          1  0.6401  0.3280  0.3839  0.2090  0.3600  0.1841  0.4262   \n",
       "619          1  0.6783  0.3387  0.2006  0.4925  0.5600  0.4000  0.5410   \n",
       "620          2  0.8185  0.5860  0.2338  0.3134  0.6000  0.3040  0.8033   \n",
       "621          0  0.6401  0.3978  0.3665  0.3955  0.7200  0.7111  0.5902   \n",
       "\n",
       "         Fe      Cu      Mn       B      OM  \n",
       "0    0.0097  0.3487  0.4392  0.0568  0.5128  \n",
       "1    0.3008  0.5077  0.4648  0.2955  0.9145  \n",
       "2    0.0213  0.2462  0.3892  0.7727  0.5812  \n",
       "3    0.0725  0.7590  0.1307  0.6023  0.6239  \n",
       "4    0.0687  0.5436  0.3361  0.6705  0.8632  \n",
       "..      ...     ...     ...     ...     ...  \n",
       "617  0.4333  0.3077  0.5577  0.7159  0.1624  \n",
       "618  0.7785  0.1846  0.4019  0.3864  0.0000  \n",
       "619  0.3250  0.2769  0.3253  0.2955  0.3333  \n",
       "620  0.4226  0.4769  0.6711  0.5341  0.8291  \n",
       "621  0.6915  0.9128  0.5373  0.6477  0.6667  \n",
       "\n",
       "[622 rows x 13 columns]"
      ]
     },
     "execution_count": 7,
     "metadata": {},
     "output_type": "execute_result"
    }
   ],
   "source": [
    "data = pd.read_csv(\"./new_dataset.csv\")\n",
    "data"
   ]
  },
  {
   "cell_type": "code",
   "execution_count": 5,
   "metadata": {},
   "outputs": [
    {
     "data": {
      "text/html": [
       "<div>\n",
       "<style scoped>\n",
       "    .dataframe tbody tr th:only-of-type {\n",
       "        vertical-align: middle;\n",
       "    }\n",
       "\n",
       "    .dataframe tbody tr th {\n",
       "        vertical-align: top;\n",
       "    }\n",
       "\n",
       "    .dataframe thead th {\n",
       "        text-align: right;\n",
       "    }\n",
       "</style>\n",
       "<table border=\"1\" class=\"dataframe\">\n",
       "  <thead>\n",
       "    <tr style=\"text-align: right;\">\n",
       "      <th></th>\n",
       "      <th>Fertility</th>\n",
       "      <th>N</th>\n",
       "      <th>P</th>\n",
       "      <th>K</th>\n",
       "      <th>pH</th>\n",
       "      <th>EC</th>\n",
       "      <th>S</th>\n",
       "      <th>Zn</th>\n",
       "      <th>Fe</th>\n",
       "      <th>Cu</th>\n",
       "      <th>Mn</th>\n",
       "      <th>B</th>\n",
       "      <th>OM</th>\n",
       "    </tr>\n",
       "  </thead>\n",
       "  <tbody>\n",
       "    <tr>\n",
       "      <th>0</th>\n",
       "      <td>0</td>\n",
       "      <td>0.0</td>\n",
       "      <td>0.0</td>\n",
       "      <td>1.0</td>\n",
       "      <td>1.0</td>\n",
       "      <td>1.0</td>\n",
       "      <td>1.0</td>\n",
       "      <td>0.0</td>\n",
       "      <td>0.0</td>\n",
       "      <td>1.0</td>\n",
       "      <td>1.0</td>\n",
       "      <td>0.0</td>\n",
       "      <td>1.0</td>\n",
       "    </tr>\n",
       "    <tr>\n",
       "      <th>1</th>\n",
       "      <td>2</td>\n",
       "      <td>2.0</td>\n",
       "      <td>1.0</td>\n",
       "      <td>0.0</td>\n",
       "      <td>2.0</td>\n",
       "      <td>1.0</td>\n",
       "      <td>1.0</td>\n",
       "      <td>2.0</td>\n",
       "      <td>0.0</td>\n",
       "      <td>1.0</td>\n",
       "      <td>1.0</td>\n",
       "      <td>0.0</td>\n",
       "      <td>2.0</td>\n",
       "    </tr>\n",
       "    <tr>\n",
       "      <th>2</th>\n",
       "      <td>0</td>\n",
       "      <td>1.0</td>\n",
       "      <td>0.0</td>\n",
       "      <td>1.0</td>\n",
       "      <td>0.0</td>\n",
       "      <td>1.0</td>\n",
       "      <td>2.0</td>\n",
       "      <td>0.0</td>\n",
       "      <td>0.0</td>\n",
       "      <td>0.0</td>\n",
       "      <td>1.0</td>\n",
       "      <td>2.0</td>\n",
       "      <td>1.0</td>\n",
       "    </tr>\n",
       "    <tr>\n",
       "      <th>3</th>\n",
       "      <td>0</td>\n",
       "      <td>1.0</td>\n",
       "      <td>0.0</td>\n",
       "      <td>1.0</td>\n",
       "      <td>1.0</td>\n",
       "      <td>2.0</td>\n",
       "      <td>1.0</td>\n",
       "      <td>1.0</td>\n",
       "      <td>0.0</td>\n",
       "      <td>2.0</td>\n",
       "      <td>0.0</td>\n",
       "      <td>1.0</td>\n",
       "      <td>1.0</td>\n",
       "    </tr>\n",
       "    <tr>\n",
       "      <th>4</th>\n",
       "      <td>0</td>\n",
       "      <td>1.0</td>\n",
       "      <td>1.0</td>\n",
       "      <td>2.0</td>\n",
       "      <td>1.0</td>\n",
       "      <td>1.0</td>\n",
       "      <td>1.0</td>\n",
       "      <td>2.0</td>\n",
       "      <td>0.0</td>\n",
       "      <td>1.0</td>\n",
       "      <td>1.0</td>\n",
       "      <td>2.0</td>\n",
       "      <td>2.0</td>\n",
       "    </tr>\n",
       "    <tr>\n",
       "      <th>...</th>\n",
       "      <td>...</td>\n",
       "      <td>...</td>\n",
       "      <td>...</td>\n",
       "      <td>...</td>\n",
       "      <td>...</td>\n",
       "      <td>...</td>\n",
       "      <td>...</td>\n",
       "      <td>...</td>\n",
       "      <td>...</td>\n",
       "      <td>...</td>\n",
       "      <td>...</td>\n",
       "      <td>...</td>\n",
       "      <td>...</td>\n",
       "    </tr>\n",
       "    <tr>\n",
       "      <th>617</th>\n",
       "      <td>1</td>\n",
       "      <td>2.0</td>\n",
       "      <td>1.0</td>\n",
       "      <td>1.0</td>\n",
       "      <td>2.0</td>\n",
       "      <td>1.0</td>\n",
       "      <td>1.0</td>\n",
       "      <td>1.0</td>\n",
       "      <td>1.0</td>\n",
       "      <td>0.0</td>\n",
       "      <td>1.0</td>\n",
       "      <td>2.0</td>\n",
       "      <td>0.0</td>\n",
       "    </tr>\n",
       "    <tr>\n",
       "      <th>618</th>\n",
       "      <td>1</td>\n",
       "      <td>1.0</td>\n",
       "      <td>0.0</td>\n",
       "      <td>1.0</td>\n",
       "      <td>0.0</td>\n",
       "      <td>1.0</td>\n",
       "      <td>0.0</td>\n",
       "      <td>1.0</td>\n",
       "      <td>2.0</td>\n",
       "      <td>0.0</td>\n",
       "      <td>1.0</td>\n",
       "      <td>1.0</td>\n",
       "      <td>0.0</td>\n",
       "    </tr>\n",
       "    <tr>\n",
       "      <th>619</th>\n",
       "      <td>1</td>\n",
       "      <td>2.0</td>\n",
       "      <td>1.0</td>\n",
       "      <td>0.0</td>\n",
       "      <td>1.0</td>\n",
       "      <td>1.0</td>\n",
       "      <td>1.0</td>\n",
       "      <td>1.0</td>\n",
       "      <td>0.0</td>\n",
       "      <td>0.0</td>\n",
       "      <td>0.0</td>\n",
       "      <td>0.0</td>\n",
       "      <td>1.0</td>\n",
       "    </tr>\n",
       "    <tr>\n",
       "      <th>620</th>\n",
       "      <td>2</td>\n",
       "      <td>2.0</td>\n",
       "      <td>1.0</td>\n",
       "      <td>0.0</td>\n",
       "      <td>0.0</td>\n",
       "      <td>1.0</td>\n",
       "      <td>0.0</td>\n",
       "      <td>2.0</td>\n",
       "      <td>1.0</td>\n",
       "      <td>1.0</td>\n",
       "      <td>2.0</td>\n",
       "      <td>1.0</td>\n",
       "      <td>2.0</td>\n",
       "    </tr>\n",
       "    <tr>\n",
       "      <th>621</th>\n",
       "      <td>0</td>\n",
       "      <td>1.0</td>\n",
       "      <td>1.0</td>\n",
       "      <td>1.0</td>\n",
       "      <td>1.0</td>\n",
       "      <td>2.0</td>\n",
       "      <td>2.0</td>\n",
       "      <td>1.0</td>\n",
       "      <td>2.0</td>\n",
       "      <td>2.0</td>\n",
       "      <td>1.0</td>\n",
       "      <td>1.0</td>\n",
       "      <td>2.0</td>\n",
       "    </tr>\n",
       "  </tbody>\n",
       "</table>\n",
       "<p>622 rows × 13 columns</p>\n",
       "</div>"
      ],
      "text/plain": [
       "     Fertility    N    P    K   pH   EC    S   Zn   Fe   Cu   Mn    B   OM\n",
       "0            0  0.0  0.0  1.0  1.0  1.0  1.0  0.0  0.0  1.0  1.0  0.0  1.0\n",
       "1            2  2.0  1.0  0.0  2.0  1.0  1.0  2.0  0.0  1.0  1.0  0.0  2.0\n",
       "2            0  1.0  0.0  1.0  0.0  1.0  2.0  0.0  0.0  0.0  1.0  2.0  1.0\n",
       "3            0  1.0  0.0  1.0  1.0  2.0  1.0  1.0  0.0  2.0  0.0  1.0  1.0\n",
       "4            0  1.0  1.0  2.0  1.0  1.0  1.0  2.0  0.0  1.0  1.0  2.0  2.0\n",
       "..         ...  ...  ...  ...  ...  ...  ...  ...  ...  ...  ...  ...  ...\n",
       "617          1  2.0  1.0  1.0  2.0  1.0  1.0  1.0  1.0  0.0  1.0  2.0  0.0\n",
       "618          1  1.0  0.0  1.0  0.0  1.0  0.0  1.0  2.0  0.0  1.0  1.0  0.0\n",
       "619          1  2.0  1.0  0.0  1.0  1.0  1.0  1.0  0.0  0.0  0.0  0.0  1.0\n",
       "620          2  2.0  1.0  0.0  0.0  1.0  0.0  2.0  1.0  1.0  2.0  1.0  2.0\n",
       "621          0  1.0  1.0  1.0  1.0  2.0  2.0  1.0  2.0  2.0  1.0  1.0  2.0\n",
       "\n",
       "[622 rows x 13 columns]"
      ]
     },
     "execution_count": 5,
     "metadata": {},
     "output_type": "execute_result"
    }
   ],
   "source": [
    "data_discretise=data.copy()\n",
    "columns=data_discretise.columns[1:].tolist()\n",
    "intervales=discretisation_width(data_discretise, columns, 3)\n",
    "\n",
    "data_discretise"
   ]
  },
  {
   "cell_type": "code",
   "execution_count": 332,
   "metadata": {},
   "outputs": [],
   "source": [
    "data_discretise.to_csv(\"./new_dataset_discretise.csv\",index=False)"
   ]
  },
  {
   "cell_type": "code",
   "execution_count": 4,
   "metadata": {},
   "outputs": [],
   "source": [
    "data_discretise = pd.read_csv(\"./new_dataset_discretise.csv\")"
   ]
  },
  {
   "cell_type": "markdown",
   "metadata": {},
   "source": [
    "Séparation des données"
   ]
  },
  {
   "cell_type": "code",
   "execution_count": 5,
   "metadata": {},
   "outputs": [],
   "source": [
    "def split_train_test(data):\n",
    "    # List of unique class labels\n",
    "    unique_classes = data['Fertility'].unique()\n",
    "\n",
    "    # Dictionary to store train and test sets for each class\n",
    "    class_splits = {}\n",
    "\n",
    "    # Loop through each class\n",
    "    for class_label in unique_classes:\n",
    "        # Extract rows corresponding to the current class\n",
    "        class_data = data[data['Fertility'] == class_label]\n",
    "\n",
    "        # Split the class data_discretise into train and test sets\n",
    "        X, y = class_data.iloc[:, 1:].values, class_data.iloc[:, 0].values\n",
    "        X_train_class, X_test_class, y_train_class, y_test_class = train_test_split(X, y, test_size=0.2, random_state=42)\n",
    "\n",
    "        # Store the splits in the dictionary\n",
    "        class_splits[class_label] = {'X_train': X_train_class, 'X_test': X_test_class, 'y_train': y_train_class, 'y_test': y_test_class}\n",
    "    # Concatenate the train and test sets \n",
    "    X_train = np.concatenate([class_splits[label]['X_train'] for label in unique_classes], axis=0)\n",
    "    X_test = np.concatenate([class_splits[label]['X_test'] for label in unique_classes], axis=0)\n",
    "    y_train= np.concatenate([class_splits[label]['y_train'] for label in unique_classes], axis=0)\n",
    "    y_test= np.concatenate([class_splits[label]['y_test'] for label in unique_classes], axis=0)\n",
    "\n",
    "    return X_train, X_test, y_train, y_test"
   ]
  },
  {
   "cell_type": "markdown",
   "metadata": {},
   "source": [
    "For Decision Tree and Random Forest"
   ]
  },
  {
   "cell_type": "code",
   "execution_count": 32,
   "metadata": {},
   "outputs": [],
   "source": [
    "X_train_1, X_test_1, y_train_1, y_test_1 = split_train_test(data_discretise)"
   ]
  },
  {
   "cell_type": "markdown",
   "metadata": {},
   "source": [
    "For KNN"
   ]
  },
  {
   "cell_type": "code",
   "execution_count": 8,
   "metadata": {},
   "outputs": [],
   "source": [
    "X_train_2, X_test_2, y_train_2, y_test_2 = split_train_test(data)"
   ]
  },
  {
   "cell_type": "markdown",
   "metadata": {},
   "source": [
    "Decision Tree Training:"
   ]
  },
  {
   "cell_type": "markdown",
   "metadata": {},
   "source": [
    "finding the best hyperparameters for decision tree:"
   ]
  },
  {
   "cell_type": "code",
   "execution_count": 351,
   "metadata": {},
   "outputs": [
    {
     "data": {
      "text/plain": [
       "30"
      ]
     },
     "execution_count": 351,
     "metadata": {},
     "output_type": "execute_result"
    }
   ],
   "source": [
    "# For min_sample_split\n",
    "accuracy_dt=[]\n",
    "for i in range(10,100):\n",
    "    Decision_tree_model = DecisionTree(min_samples_split=i) \n",
    "    Decision_tree_model.fit(X_train_1, y_train_1)\n",
    "    y_pred_rf = Decision_tree_model.predict(X_test_1)\n",
    "    accuracy_dt.append(accuracy(y_test_1, y_pred_rf))\n",
    "best_min_sample_split=np.argmax(accuracy_dt)+10 # we add 10 because the first case(index 0) contains 10\n",
    "best_min_sample_split"
   ]
  },
  {
   "cell_type": "code",
   "execution_count": 352,
   "metadata": {},
   "outputs": [
    {
     "data": {
      "text/plain": [
       "50"
      ]
     },
     "execution_count": 352,
     "metadata": {},
     "output_type": "execute_result"
    }
   ],
   "source": [
    "# For max_depth\n",
    "accuracy_dt=[]\n",
    "for i in range(50,500,50):\n",
    "    Decision_tree_model = DecisionTree(min_samples_split=best_min_sample_split,max_depth=i) \n",
    "    Decision_tree_model.fit(X_train_1, y_train_1)\n",
    "    y_pred_rf = Decision_tree_model.predict(X_test_1)\n",
    "    accuracy_dt.append(accuracy(y_test_1, y_pred_rf))\n",
    "best_max_depth=np.argmax(accuracy_dt)*50 + 50 # We multiply by 50 bechause the step is 50 and we add 50 because the first value is 50\n",
    "best_max_depth"
   ]
  },
  {
   "cell_type": "code",
   "execution_count": 353,
   "metadata": {},
   "outputs": [],
   "source": [
    "decision_tree_model = DecisionTree(min_samples_split=best_min_sample_split,max_depth=best_max_depth) # Create an instance of the DecisionTree class with hyperparameters we found\n",
    "decision_tree_model.fit(X_train_1, y_train_1)\n",
    "y_pred_dt = decision_tree_model.predict(X_test_1)\n"
   ]
  },
  {
   "cell_type": "code",
   "execution_count": 354,
   "metadata": {},
   "outputs": [
    {
     "data": {
      "text/plain": [
       "0.8888888888888888"
      ]
     },
     "execution_count": 354,
     "metadata": {},
     "output_type": "execute_result"
    }
   ],
   "source": [
    "accuracy(y_test_1, y_pred_dt)\n"
   ]
  },
  {
   "cell_type": "code",
   "execution_count": 355,
   "metadata": {},
   "outputs": [
    {
     "data": {
      "text/plain": [
       "['decision_tree_model.pkl']"
      ]
     },
     "execution_count": 355,
     "metadata": {},
     "output_type": "execute_result"
    }
   ],
   "source": [
    "joblib.dump(decision_tree_model, 'decision_tree_model.pkl') # Save the best model that have the best hyperparameters"
   ]
  },
  {
   "cell_type": "markdown",
   "metadata": {},
   "source": [
    "Random Forest Training:"
   ]
  },
  {
   "cell_type": "markdown",
   "metadata": {},
   "source": [
    "finding the best hyperparameters for random forest"
   ]
  },
  {
   "cell_type": "code",
   "execution_count": 68,
   "metadata": {},
   "outputs": [
    {
     "data": {
      "text/plain": [
       "35"
      ]
     },
     "execution_count": 68,
     "metadata": {},
     "output_type": "execute_result"
    }
   ],
   "source": [
    "# For min_sample_split\n",
    "accuracy_rf=[]\n",
    "for i in range(10,100):\n",
    "    RandomForest_model = RandomForest(min_samples_split=i) \n",
    "    RandomForest_model.fit(X_train_1, y_train_1)\n",
    "    y_pred_rf = RandomForest_model.predict(X_test_1)\n",
    "    accuracy_rf.append(accuracy(y_test_1, y_pred_rf))\n",
    "best_min_sample_split=np.argmax(accuracy_rf)+10 # we add 10 because the first case(index 0) contains 10\n",
    "best_min_sample_split\n"
   ]
  },
  {
   "cell_type": "code",
   "execution_count": 71,
   "metadata": {},
   "outputs": [
    {
     "data": {
      "text/plain": [
       "10"
      ]
     },
     "execution_count": 71,
     "metadata": {},
     "output_type": "execute_result"
    }
   ],
   "source": [
    "# For n_trees\n",
    "accuracy_rf=[]\n",
    "for i in range(10,100,10):\n",
    "    RandomForest_model = RandomForest(min_samples_split=best_min_sample_split,n_trees=i) \n",
    "    RandomForest_model.fit(X_train_1, y_train_1)\n",
    "    y_pred_rf = RandomForest_model.predict(X_test_1)\n",
    "    accuracy_rf.append(accuracy(y_test_1, y_pred_rf))\n",
    "best_n_trees=np.argmax(accuracy_rf)*10+10 # we add 10 because the first case(index 0) contains 10 and we multiply by 10 because the step is 10\n",
    "best_n_trees"
   ]
  },
  {
   "cell_type": "code",
   "execution_count": 72,
   "metadata": {},
   "outputs": [
    {
     "data": {
      "text/plain": [
       "150"
      ]
     },
     "execution_count": 72,
     "metadata": {},
     "output_type": "execute_result"
    }
   ],
   "source": [
    "# For max_depth\n",
    "accuracy_rf=[]\n",
    "for i in range(50,500,50):\n",
    "    RandomForest_model = RandomForest(min_samples_split=best_min_sample_split,n_trees=best_n_trees,max_depth=i) \n",
    "    RandomForest_model.fit(X_train_1, y_train_1)\n",
    "    y_pred_rf = RandomForest_model.predict(X_test_1)\n",
    "    accuracy_rf.append(accuracy(y_test_1, y_pred_rf))\n",
    "best_max_depth=np.argmax(accuracy_rf)*50+50 # we add 50 because the first case(index 0) contains 50 and the step is 50\n",
    "best_max_depth"
   ]
  },
  {
   "cell_type": "code",
   "execution_count": 73,
   "metadata": {},
   "outputs": [],
   "source": [
    "RandomForest_model = RandomForest(min_samples_split=best_m_sample_split,max_depth=best_max_depth,n_trees=best_n_trees) # Create an instance of the RandomForest class with hyperparameters we found\n",
    "RandomForest_model.fit(X_train_1, y_train_1)\n",
    "y_pred_rf = RandomForest_model.predict(X_test_1)"
   ]
  },
  {
   "cell_type": "code",
   "execution_count": 74,
   "metadata": {},
   "outputs": [
    {
     "data": {
      "text/plain": [
       "0.8809523809523809"
      ]
     },
     "execution_count": 74,
     "metadata": {},
     "output_type": "execute_result"
    }
   ],
   "source": [
    "accuracy(y_test_1, y_pred_rf)"
   ]
  },
  {
   "cell_type": "code",
   "execution_count": 75,
   "metadata": {},
   "outputs": [
    {
     "data": {
      "text/plain": [
       "['random_forest_model.pkl']"
      ]
     },
     "execution_count": 75,
     "metadata": {},
     "output_type": "execute_result"
    }
   ],
   "source": [
    "joblib.dump(RandomForest_model, 'random_forest_model.pkl') # Save the model that have the best hyperparameters"
   ]
  },
  {
   "cell_type": "markdown",
   "metadata": {},
   "source": [
    "KNN Training:"
   ]
  },
  {
   "cell_type": "markdown",
   "metadata": {},
   "source": [
    "finding the best hyperarameter for knn"
   ]
  },
  {
   "cell_type": "code",
   "execution_count": 9,
   "metadata": {},
   "outputs": [
    {
     "data": {
      "text/plain": [
       "30"
      ]
     },
     "execution_count": 9,
     "metadata": {},
     "output_type": "execute_result"
    }
   ],
   "source": [
    "# For k number of neighbours\n",
    "accuracy_knn=[]\n",
    "for i in range(2,100):\n",
    "    knn_model = KNN(i) \n",
    "    knn_model.fit(X_train_2, y_train_2)\n",
    "    knn_pred = knn_model.predict(X_test_2)\n",
    "    accuracy_knn.append(accuracy(y_test_2, knn_pred))\n",
    "best_k=np.argmax(accuracy_knn)+2\n",
    "best_k"
   ]
  },
  {
   "cell_type": "code",
   "execution_count": 14,
   "metadata": {},
   "outputs": [],
   "source": [
    "knn_model = KNN(best_k,\"euclidean\") # Create an instance of the KNN class with hyperparameters we found\n",
    "knn_model.fit(X_train_2, y_train_2)\n",
    "knn_pred = knn_model.predict(X_test_2)\n"
   ]
  },
  {
   "cell_type": "code",
   "execution_count": 15,
   "metadata": {},
   "outputs": [
    {
     "data": {
      "text/plain": [
       "0.8809523809523809"
      ]
     },
     "execution_count": 15,
     "metadata": {},
     "output_type": "execute_result"
    }
   ],
   "source": [
    "accuracy(y_test_2, knn_pred)"
   ]
  },
  {
   "cell_type": "code",
   "execution_count": 16,
   "metadata": {},
   "outputs": [
    {
     "data": {
      "text/plain": [
       "['knn_model.pkl']"
      ]
     },
     "execution_count": 16,
     "metadata": {},
     "output_type": "execute_result"
    }
   ],
   "source": [
    "joblib.dump(knn_model, 'knn_model.pkl') # Save the best model that have the best accuracy score"
   ]
  },
  {
   "cell_type": "code",
   "execution_count": 18,
   "metadata": {},
   "outputs": [
    {
     "data": {
      "text/plain": [
       "30"
      ]
     },
     "execution_count": 18,
     "metadata": {},
     "output_type": "execute_result"
    }
   ],
   "source": [
    "knn_model = joblib.load('knn_model.pkl') # Load the saved model\n",
    "knn_model.k"
   ]
  },
  {
   "cell_type": "code",
   "execution_count": 20,
   "metadata": {},
   "outputs": [
    {
     "data": {
      "text/plain": [
       "array([[52.,  5.,  0.],\n",
       "       [ 5., 59.,  0.],\n",
       "       [ 0.,  5.,  0.]])"
      ]
     },
     "execution_count": 20,
     "metadata": {},
     "output_type": "execute_result"
    }
   ],
   "source": [
    "confusion_matrix(y_test_2, knn_pred)"
   ]
  },
  {
   "cell_type": "markdown",
   "metadata": {},
   "source": [
    "Load the models"
   ]
  },
  {
   "cell_type": "code",
   "execution_count": 75,
   "metadata": {},
   "outputs": [],
   "source": [
    "loaded_decision_tree_model = joblib.load('decision_tree_model.pkl') # Load the saved model\n",
    "loaded_random_forest_model = joblib.load('random_forest_model.pkl') # Load the saved model\n",
    "loaded_knn_model = joblib.load('knn_model.pkl') # Load the saved model"
   ]
  },
  {
   "cell_type": "markdown",
   "metadata": {},
   "source": [
    "Application des algorithmes"
   ]
  },
  {
   "cell_type": "markdown",
   "metadata": {},
   "source": [
    "Test"
   ]
  },
  {
   "cell_type": "markdown",
   "metadata": {},
   "source": [
    "Pour une instance"
   ]
  },
  {
   "cell_type": "code",
   "execution_count": 89,
   "metadata": {},
   "outputs": [],
   "source": [
    "import random\n",
    "def tester_instance(model,X_test):\n",
    "    i=random.randint(0,len(X_test)) # Get a random index\n",
    "    instance_test=X_test[i:i+1] # Get an instance from the test set\n",
    "    loaded_model = joblib.load(model)\n",
    "    pred =loaded_model.predict(instance_test)\n",
    "    return pred, i"
   ]
  },
  {
   "cell_type": "code",
   "execution_count": 90,
   "metadata": {},
   "outputs": [
    {
     "name": "stdout",
     "output_type": "stream",
     "text": [
      "real value:  [0]  predicted value:  [0]\n"
     ]
    }
   ],
   "source": [
    "# Decision Tree\n",
    "y_pred_dt, i = tester_instance('decision_tree_model.pkl',X_test_1)\n",
    "print(\"real value: \", y_test_1[i:i+1], \" predicted value: \", y_pred_dt) # Print the real value and the predicted value"
   ]
  },
  {
   "cell_type": "code",
   "execution_count": 91,
   "metadata": {},
   "outputs": [
    {
     "name": "stdout",
     "output_type": "stream",
     "text": [
      "real value:  [1]  predicted value:  [1]\n"
     ]
    }
   ],
   "source": [
    "# Random Forest\n",
    "y_pred_rf, i = tester_instance('random_forest_model.pkl',X_test_1)\n",
    "print(\"real value: \", y_test_1[i:i+1], \" predicted value: \", y_pred_rf)"
   ]
  },
  {
   "cell_type": "code",
   "execution_count": 92,
   "metadata": {},
   "outputs": [
    {
     "name": "stdout",
     "output_type": "stream",
     "text": [
      "real value:  [1]  predicted value:  [1]\n"
     ]
    }
   ],
   "source": [
    "# KNN\n",
    "knn_pred, i = tester_instance('knn_model.pkl',X_test_2)\n",
    "print(\"real value: \", y_test_2[i:i+1], \" predicted value: \", knn_pred)"
   ]
  },
  {
   "cell_type": "markdown",
   "metadata": {},
   "source": [
    "Pour plusieurs instances"
   ]
  },
  {
   "cell_type": "code",
   "execution_count": 111,
   "metadata": {},
   "outputs": [
    {
     "name": "stdout",
     "output_type": "stream",
     "text": [
      "[0 0 0 0 0 0 0 0 0 0 0 0 0 0 0 0 0 0 0 0 0 0 0 0 0 0 0 0 0 0 0 0 0 0 0 0 0\n",
      " 0 0 0 0 0 0 0 0 0 0 0 0 0 0 0 0 0 0 0 0 1 1 1 1 0 1 0 0 0 1 1 1 0 1 1 1 1\n",
      " 1 1 1 1 1 1 0 0 1 1 1 1 1 1 1 1 1 1 1 1 1 1 1 1 1 1 1 1 1 1 1 1 1 1 1 1 1\n",
      " 0 1 1 1 0 1 1 1 1 1 1 1 1 1 0]\n"
     ]
    }
   ],
   "source": [
    "# Decision Tree\n",
    "y_pred_dt = loaded_decision_tree_model.predict(X_test_1)\n",
    "print(y_pred_dt)\n"
   ]
  },
  {
   "cell_type": "code",
   "execution_count": 114,
   "metadata": {},
   "outputs": [],
   "source": [
    "import plotly.express as px\n",
    "import plotly.graph_objects as go\n",
    "\n",
    "def true_vs_predicted_labels_plot(y_test, y_pred):\n",
    "    x_values = list(range(len(y_test)))  # Convert range to a list\n",
    "\n",
    "    fig = go.Figure()\n",
    "\n",
    "    # Add trace for true values (y_test)\n",
    "    fig.add_trace(go.Scatter(x=x_values, y=y_test, mode='markers', name='True Values'))\n",
    "\n",
    "    # Add trace for predicted values (y_pred)\n",
    "    fig.add_trace(go.Scatter(x=x_values, y=y_pred, mode='markers', name='Predicted Values'))\n",
    "\n",
    "    # Update marker colors for true and predicted values\n",
    "    fig.update_traces(marker=dict(color='blue'), selector=dict(name='True Values'))\n",
    "    fig.update_traces(marker=dict(color='red'), selector=dict(name='Predicted Values'))\n",
    "\n",
    "    # Update layout\n",
    "    fig.update_layout(\n",
    "        title='True vs Predicted Values',\n",
    "        xaxis_title='Index',\n",
    "        yaxis_title='Values'\n",
    "    )\n",
    "\n",
    "    fig.show()\n",
    "\n"
   ]
  },
  {
   "cell_type": "code",
   "execution_count": 115,
   "metadata": {},
   "outputs": [
    {
     "data": {
      "application/vnd.plotly.v1+json": {
       "config": {
        "plotlyServerURL": "https://plot.ly"
       },
       "data": [
        {
         "marker": {
          "color": "blue"
         },
         "mode": "markers",
         "name": "True Values",
         "type": "scatter",
         "x": [
          0,
          1,
          2,
          3,
          4,
          5,
          6,
          7,
          8,
          9,
          10,
          11,
          12,
          13,
          14,
          15,
          16,
          17,
          18,
          19,
          20,
          21,
          22,
          23,
          24,
          25,
          26,
          27,
          28,
          29,
          30,
          31,
          32,
          33,
          34,
          35,
          36,
          37,
          38,
          39,
          40,
          41,
          42,
          43,
          44,
          45,
          46,
          47,
          48,
          49,
          50,
          51,
          52,
          53,
          54,
          55,
          56,
          57,
          58,
          59,
          60,
          61,
          62,
          63,
          64,
          65,
          66,
          67,
          68,
          69,
          70,
          71,
          72,
          73,
          74,
          75,
          76,
          77,
          78,
          79,
          80,
          81,
          82,
          83,
          84,
          85,
          86,
          87,
          88,
          89,
          90,
          91,
          92,
          93,
          94,
          95,
          96,
          97,
          98,
          99,
          100,
          101,
          102,
          103,
          104,
          105,
          106,
          107,
          108,
          109,
          110,
          111,
          112,
          113,
          114,
          115,
          116,
          117,
          118,
          119,
          120,
          121,
          122,
          123,
          124,
          125
         ],
         "y": [
          0,
          0,
          0,
          0,
          0,
          0,
          0,
          0,
          0,
          0,
          0,
          0,
          0,
          0,
          0,
          0,
          0,
          0,
          0,
          0,
          0,
          0,
          0,
          0,
          0,
          0,
          0,
          0,
          0,
          0,
          0,
          0,
          0,
          0,
          0,
          0,
          0,
          0,
          0,
          0,
          0,
          0,
          0,
          0,
          0,
          0,
          0,
          0,
          0,
          0,
          0,
          0,
          0,
          0,
          0,
          0,
          0,
          2,
          2,
          2,
          2,
          2,
          1,
          1,
          1,
          1,
          1,
          1,
          1,
          1,
          1,
          1,
          1,
          1,
          1,
          1,
          1,
          1,
          1,
          1,
          1,
          1,
          1,
          1,
          1,
          1,
          1,
          1,
          1,
          1,
          1,
          1,
          1,
          1,
          1,
          1,
          1,
          1,
          1,
          1,
          1,
          1,
          1,
          1,
          1,
          1,
          1,
          1,
          1,
          1,
          1,
          1,
          1,
          1,
          1,
          1,
          1,
          1,
          1,
          1,
          1,
          1,
          1,
          1,
          1,
          1
         ]
        },
        {
         "marker": {
          "color": "red"
         },
         "mode": "markers",
         "name": "Predicted Values",
         "type": "scatter",
         "x": [
          0,
          1,
          2,
          3,
          4,
          5,
          6,
          7,
          8,
          9,
          10,
          11,
          12,
          13,
          14,
          15,
          16,
          17,
          18,
          19,
          20,
          21,
          22,
          23,
          24,
          25,
          26,
          27,
          28,
          29,
          30,
          31,
          32,
          33,
          34,
          35,
          36,
          37,
          38,
          39,
          40,
          41,
          42,
          43,
          44,
          45,
          46,
          47,
          48,
          49,
          50,
          51,
          52,
          53,
          54,
          55,
          56,
          57,
          58,
          59,
          60,
          61,
          62,
          63,
          64,
          65,
          66,
          67,
          68,
          69,
          70,
          71,
          72,
          73,
          74,
          75,
          76,
          77,
          78,
          79,
          80,
          81,
          82,
          83,
          84,
          85,
          86,
          87,
          88,
          89,
          90,
          91,
          92,
          93,
          94,
          95,
          96,
          97,
          98,
          99,
          100,
          101,
          102,
          103,
          104,
          105,
          106,
          107,
          108,
          109,
          110,
          111,
          112,
          113,
          114,
          115,
          116,
          117,
          118,
          119,
          120,
          121,
          122,
          123,
          124,
          125
         ],
         "y": [
          0,
          0,
          0,
          0,
          0,
          0,
          0,
          0,
          0,
          0,
          0,
          0,
          0,
          0,
          0,
          0,
          0,
          0,
          0,
          0,
          0,
          0,
          0,
          0,
          0,
          0,
          0,
          0,
          0,
          0,
          0,
          0,
          0,
          0,
          0,
          0,
          0,
          0,
          0,
          0,
          0,
          0,
          0,
          0,
          0,
          0,
          0,
          0,
          0,
          0,
          0,
          0,
          0,
          0,
          0,
          0,
          0,
          1,
          1,
          1,
          1,
          0,
          1,
          0,
          0,
          0,
          1,
          1,
          1,
          0,
          1,
          1,
          1,
          1,
          1,
          1,
          1,
          1,
          1,
          1,
          0,
          0,
          1,
          1,
          1,
          1,
          1,
          1,
          1,
          1,
          1,
          1,
          1,
          1,
          1,
          1,
          1,
          1,
          1,
          1,
          1,
          1,
          1,
          1,
          1,
          1,
          1,
          1,
          1,
          1,
          1,
          0,
          1,
          1,
          1,
          0,
          1,
          1,
          1,
          1,
          1,
          1,
          1,
          1,
          1,
          0
         ]
        }
       ],
       "layout": {
        "template": {
         "data": {
          "bar": [
           {
            "error_x": {
             "color": "#2a3f5f"
            },
            "error_y": {
             "color": "#2a3f5f"
            },
            "marker": {
             "line": {
              "color": "#E5ECF6",
              "width": 0.5
             },
             "pattern": {
              "fillmode": "overlay",
              "size": 10,
              "solidity": 0.2
             }
            },
            "type": "bar"
           }
          ],
          "barpolar": [
           {
            "marker": {
             "line": {
              "color": "#E5ECF6",
              "width": 0.5
             },
             "pattern": {
              "fillmode": "overlay",
              "size": 10,
              "solidity": 0.2
             }
            },
            "type": "barpolar"
           }
          ],
          "carpet": [
           {
            "aaxis": {
             "endlinecolor": "#2a3f5f",
             "gridcolor": "white",
             "linecolor": "white",
             "minorgridcolor": "white",
             "startlinecolor": "#2a3f5f"
            },
            "baxis": {
             "endlinecolor": "#2a3f5f",
             "gridcolor": "white",
             "linecolor": "white",
             "minorgridcolor": "white",
             "startlinecolor": "#2a3f5f"
            },
            "type": "carpet"
           }
          ],
          "choropleth": [
           {
            "colorbar": {
             "outlinewidth": 0,
             "ticks": ""
            },
            "type": "choropleth"
           }
          ],
          "contour": [
           {
            "colorbar": {
             "outlinewidth": 0,
             "ticks": ""
            },
            "colorscale": [
             [
              0,
              "#0d0887"
             ],
             [
              0.1111111111111111,
              "#46039f"
             ],
             [
              0.2222222222222222,
              "#7201a8"
             ],
             [
              0.3333333333333333,
              "#9c179e"
             ],
             [
              0.4444444444444444,
              "#bd3786"
             ],
             [
              0.5555555555555556,
              "#d8576b"
             ],
             [
              0.6666666666666666,
              "#ed7953"
             ],
             [
              0.7777777777777778,
              "#fb9f3a"
             ],
             [
              0.8888888888888888,
              "#fdca26"
             ],
             [
              1,
              "#f0f921"
             ]
            ],
            "type": "contour"
           }
          ],
          "contourcarpet": [
           {
            "colorbar": {
             "outlinewidth": 0,
             "ticks": ""
            },
            "type": "contourcarpet"
           }
          ],
          "heatmap": [
           {
            "colorbar": {
             "outlinewidth": 0,
             "ticks": ""
            },
            "colorscale": [
             [
              0,
              "#0d0887"
             ],
             [
              0.1111111111111111,
              "#46039f"
             ],
             [
              0.2222222222222222,
              "#7201a8"
             ],
             [
              0.3333333333333333,
              "#9c179e"
             ],
             [
              0.4444444444444444,
              "#bd3786"
             ],
             [
              0.5555555555555556,
              "#d8576b"
             ],
             [
              0.6666666666666666,
              "#ed7953"
             ],
             [
              0.7777777777777778,
              "#fb9f3a"
             ],
             [
              0.8888888888888888,
              "#fdca26"
             ],
             [
              1,
              "#f0f921"
             ]
            ],
            "type": "heatmap"
           }
          ],
          "heatmapgl": [
           {
            "colorbar": {
             "outlinewidth": 0,
             "ticks": ""
            },
            "colorscale": [
             [
              0,
              "#0d0887"
             ],
             [
              0.1111111111111111,
              "#46039f"
             ],
             [
              0.2222222222222222,
              "#7201a8"
             ],
             [
              0.3333333333333333,
              "#9c179e"
             ],
             [
              0.4444444444444444,
              "#bd3786"
             ],
             [
              0.5555555555555556,
              "#d8576b"
             ],
             [
              0.6666666666666666,
              "#ed7953"
             ],
             [
              0.7777777777777778,
              "#fb9f3a"
             ],
             [
              0.8888888888888888,
              "#fdca26"
             ],
             [
              1,
              "#f0f921"
             ]
            ],
            "type": "heatmapgl"
           }
          ],
          "histogram": [
           {
            "marker": {
             "pattern": {
              "fillmode": "overlay",
              "size": 10,
              "solidity": 0.2
             }
            },
            "type": "histogram"
           }
          ],
          "histogram2d": [
           {
            "colorbar": {
             "outlinewidth": 0,
             "ticks": ""
            },
            "colorscale": [
             [
              0,
              "#0d0887"
             ],
             [
              0.1111111111111111,
              "#46039f"
             ],
             [
              0.2222222222222222,
              "#7201a8"
             ],
             [
              0.3333333333333333,
              "#9c179e"
             ],
             [
              0.4444444444444444,
              "#bd3786"
             ],
             [
              0.5555555555555556,
              "#d8576b"
             ],
             [
              0.6666666666666666,
              "#ed7953"
             ],
             [
              0.7777777777777778,
              "#fb9f3a"
             ],
             [
              0.8888888888888888,
              "#fdca26"
             ],
             [
              1,
              "#f0f921"
             ]
            ],
            "type": "histogram2d"
           }
          ],
          "histogram2dcontour": [
           {
            "colorbar": {
             "outlinewidth": 0,
             "ticks": ""
            },
            "colorscale": [
             [
              0,
              "#0d0887"
             ],
             [
              0.1111111111111111,
              "#46039f"
             ],
             [
              0.2222222222222222,
              "#7201a8"
             ],
             [
              0.3333333333333333,
              "#9c179e"
             ],
             [
              0.4444444444444444,
              "#bd3786"
             ],
             [
              0.5555555555555556,
              "#d8576b"
             ],
             [
              0.6666666666666666,
              "#ed7953"
             ],
             [
              0.7777777777777778,
              "#fb9f3a"
             ],
             [
              0.8888888888888888,
              "#fdca26"
             ],
             [
              1,
              "#f0f921"
             ]
            ],
            "type": "histogram2dcontour"
           }
          ],
          "mesh3d": [
           {
            "colorbar": {
             "outlinewidth": 0,
             "ticks": ""
            },
            "type": "mesh3d"
           }
          ],
          "parcoords": [
           {
            "line": {
             "colorbar": {
              "outlinewidth": 0,
              "ticks": ""
             }
            },
            "type": "parcoords"
           }
          ],
          "pie": [
           {
            "automargin": true,
            "type": "pie"
           }
          ],
          "scatter": [
           {
            "fillpattern": {
             "fillmode": "overlay",
             "size": 10,
             "solidity": 0.2
            },
            "type": "scatter"
           }
          ],
          "scatter3d": [
           {
            "line": {
             "colorbar": {
              "outlinewidth": 0,
              "ticks": ""
             }
            },
            "marker": {
             "colorbar": {
              "outlinewidth": 0,
              "ticks": ""
             }
            },
            "type": "scatter3d"
           }
          ],
          "scattercarpet": [
           {
            "marker": {
             "colorbar": {
              "outlinewidth": 0,
              "ticks": ""
             }
            },
            "type": "scattercarpet"
           }
          ],
          "scattergeo": [
           {
            "marker": {
             "colorbar": {
              "outlinewidth": 0,
              "ticks": ""
             }
            },
            "type": "scattergeo"
           }
          ],
          "scattergl": [
           {
            "marker": {
             "colorbar": {
              "outlinewidth": 0,
              "ticks": ""
             }
            },
            "type": "scattergl"
           }
          ],
          "scattermapbox": [
           {
            "marker": {
             "colorbar": {
              "outlinewidth": 0,
              "ticks": ""
             }
            },
            "type": "scattermapbox"
           }
          ],
          "scatterpolar": [
           {
            "marker": {
             "colorbar": {
              "outlinewidth": 0,
              "ticks": ""
             }
            },
            "type": "scatterpolar"
           }
          ],
          "scatterpolargl": [
           {
            "marker": {
             "colorbar": {
              "outlinewidth": 0,
              "ticks": ""
             }
            },
            "type": "scatterpolargl"
           }
          ],
          "scatterternary": [
           {
            "marker": {
             "colorbar": {
              "outlinewidth": 0,
              "ticks": ""
             }
            },
            "type": "scatterternary"
           }
          ],
          "surface": [
           {
            "colorbar": {
             "outlinewidth": 0,
             "ticks": ""
            },
            "colorscale": [
             [
              0,
              "#0d0887"
             ],
             [
              0.1111111111111111,
              "#46039f"
             ],
             [
              0.2222222222222222,
              "#7201a8"
             ],
             [
              0.3333333333333333,
              "#9c179e"
             ],
             [
              0.4444444444444444,
              "#bd3786"
             ],
             [
              0.5555555555555556,
              "#d8576b"
             ],
             [
              0.6666666666666666,
              "#ed7953"
             ],
             [
              0.7777777777777778,
              "#fb9f3a"
             ],
             [
              0.8888888888888888,
              "#fdca26"
             ],
             [
              1,
              "#f0f921"
             ]
            ],
            "type": "surface"
           }
          ],
          "table": [
           {
            "cells": {
             "fill": {
              "color": "#EBF0F8"
             },
             "line": {
              "color": "white"
             }
            },
            "header": {
             "fill": {
              "color": "#C8D4E3"
             },
             "line": {
              "color": "white"
             }
            },
            "type": "table"
           }
          ]
         },
         "layout": {
          "annotationdefaults": {
           "arrowcolor": "#2a3f5f",
           "arrowhead": 0,
           "arrowwidth": 1
          },
          "autotypenumbers": "strict",
          "coloraxis": {
           "colorbar": {
            "outlinewidth": 0,
            "ticks": ""
           }
          },
          "colorscale": {
           "diverging": [
            [
             0,
             "#8e0152"
            ],
            [
             0.1,
             "#c51b7d"
            ],
            [
             0.2,
             "#de77ae"
            ],
            [
             0.3,
             "#f1b6da"
            ],
            [
             0.4,
             "#fde0ef"
            ],
            [
             0.5,
             "#f7f7f7"
            ],
            [
             0.6,
             "#e6f5d0"
            ],
            [
             0.7,
             "#b8e186"
            ],
            [
             0.8,
             "#7fbc41"
            ],
            [
             0.9,
             "#4d9221"
            ],
            [
             1,
             "#276419"
            ]
           ],
           "sequential": [
            [
             0,
             "#0d0887"
            ],
            [
             0.1111111111111111,
             "#46039f"
            ],
            [
             0.2222222222222222,
             "#7201a8"
            ],
            [
             0.3333333333333333,
             "#9c179e"
            ],
            [
             0.4444444444444444,
             "#bd3786"
            ],
            [
             0.5555555555555556,
             "#d8576b"
            ],
            [
             0.6666666666666666,
             "#ed7953"
            ],
            [
             0.7777777777777778,
             "#fb9f3a"
            ],
            [
             0.8888888888888888,
             "#fdca26"
            ],
            [
             1,
             "#f0f921"
            ]
           ],
           "sequentialminus": [
            [
             0,
             "#0d0887"
            ],
            [
             0.1111111111111111,
             "#46039f"
            ],
            [
             0.2222222222222222,
             "#7201a8"
            ],
            [
             0.3333333333333333,
             "#9c179e"
            ],
            [
             0.4444444444444444,
             "#bd3786"
            ],
            [
             0.5555555555555556,
             "#d8576b"
            ],
            [
             0.6666666666666666,
             "#ed7953"
            ],
            [
             0.7777777777777778,
             "#fb9f3a"
            ],
            [
             0.8888888888888888,
             "#fdca26"
            ],
            [
             1,
             "#f0f921"
            ]
           ]
          },
          "colorway": [
           "#636efa",
           "#EF553B",
           "#00cc96",
           "#ab63fa",
           "#FFA15A",
           "#19d3f3",
           "#FF6692",
           "#B6E880",
           "#FF97FF",
           "#FECB52"
          ],
          "font": {
           "color": "#2a3f5f"
          },
          "geo": {
           "bgcolor": "white",
           "lakecolor": "white",
           "landcolor": "#E5ECF6",
           "showlakes": true,
           "showland": true,
           "subunitcolor": "white"
          },
          "hoverlabel": {
           "align": "left"
          },
          "hovermode": "closest",
          "mapbox": {
           "style": "light"
          },
          "paper_bgcolor": "white",
          "plot_bgcolor": "#E5ECF6",
          "polar": {
           "angularaxis": {
            "gridcolor": "white",
            "linecolor": "white",
            "ticks": ""
           },
           "bgcolor": "#E5ECF6",
           "radialaxis": {
            "gridcolor": "white",
            "linecolor": "white",
            "ticks": ""
           }
          },
          "scene": {
           "xaxis": {
            "backgroundcolor": "#E5ECF6",
            "gridcolor": "white",
            "gridwidth": 2,
            "linecolor": "white",
            "showbackground": true,
            "ticks": "",
            "zerolinecolor": "white"
           },
           "yaxis": {
            "backgroundcolor": "#E5ECF6",
            "gridcolor": "white",
            "gridwidth": 2,
            "linecolor": "white",
            "showbackground": true,
            "ticks": "",
            "zerolinecolor": "white"
           },
           "zaxis": {
            "backgroundcolor": "#E5ECF6",
            "gridcolor": "white",
            "gridwidth": 2,
            "linecolor": "white",
            "showbackground": true,
            "ticks": "",
            "zerolinecolor": "white"
           }
          },
          "shapedefaults": {
           "line": {
            "color": "#2a3f5f"
           }
          },
          "ternary": {
           "aaxis": {
            "gridcolor": "white",
            "linecolor": "white",
            "ticks": ""
           },
           "baxis": {
            "gridcolor": "white",
            "linecolor": "white",
            "ticks": ""
           },
           "bgcolor": "#E5ECF6",
           "caxis": {
            "gridcolor": "white",
            "linecolor": "white",
            "ticks": ""
           }
          },
          "title": {
           "x": 0.05
          },
          "xaxis": {
           "automargin": true,
           "gridcolor": "white",
           "linecolor": "white",
           "ticks": "",
           "title": {
            "standoff": 15
           },
           "zerolinecolor": "white",
           "zerolinewidth": 2
          },
          "yaxis": {
           "automargin": true,
           "gridcolor": "white",
           "linecolor": "white",
           "ticks": "",
           "title": {
            "standoff": 15
           },
           "zerolinecolor": "white",
           "zerolinewidth": 2
          }
         }
        },
        "title": {
         "text": "True vs Predicted Values"
        },
        "xaxis": {
         "title": {
          "text": "Index"
         }
        },
        "yaxis": {
         "title": {
          "text": "Values"
         }
        }
       }
      }
     },
     "metadata": {},
     "output_type": "display_data"
    }
   ],
   "source": [
    "# Call the function with appropriate data\n",
    "true_vs_predicted_labels_plot(y_test_1, y_pred_dt)"
   ]
  },
  {
   "cell_type": "code",
   "execution_count": 116,
   "metadata": {},
   "outputs": [
    {
     "name": "stdout",
     "output_type": "stream",
     "text": [
      "[0 0 0 0 0 0 0 0 0 0 0 0 0 0 0 0 0 0 0 0 0 0 0 0 0 0 0 0 0 0 0 0 0 0 0 0 0\n",
      " 0 0 0 0 0 0 0 0 0 0 0 0 0 0 0 0 0 0 0 0 1 1 1 1 0 1 0 0 0 1 1 1 0 1 1 1 1\n",
      " 1 1 1 1 1 1 0 0 1 1 1 1 1 2 1 1 1 1 1 1 1 1 1 1 1 1 1 1 1 1 1 1 1 1 1 1 1\n",
      " 0 1 1 1 0 1 1 1 1 1 1 1 1 1 0]\n"
     ]
    }
   ],
   "source": [
    "# Random Forest\n",
    "y_pred_rf = loaded_random_forest_model.predict(X_test_1)\n",
    "print(y_pred_rf)\n"
   ]
  },
  {
   "cell_type": "code",
   "execution_count": 117,
   "metadata": {},
   "outputs": [
    {
     "data": {
      "application/vnd.plotly.v1+json": {
       "config": {
        "plotlyServerURL": "https://plot.ly"
       },
       "data": [
        {
         "marker": {
          "color": "blue"
         },
         "mode": "markers",
         "name": "True Values",
         "type": "scatter",
         "x": [
          0,
          1,
          2,
          3,
          4,
          5,
          6,
          7,
          8,
          9,
          10,
          11,
          12,
          13,
          14,
          15,
          16,
          17,
          18,
          19,
          20,
          21,
          22,
          23,
          24,
          25,
          26,
          27,
          28,
          29,
          30,
          31,
          32,
          33,
          34,
          35,
          36,
          37,
          38,
          39,
          40,
          41,
          42,
          43,
          44,
          45,
          46,
          47,
          48,
          49,
          50,
          51,
          52,
          53,
          54,
          55,
          56,
          57,
          58,
          59,
          60,
          61,
          62,
          63,
          64,
          65,
          66,
          67,
          68,
          69,
          70,
          71,
          72,
          73,
          74,
          75,
          76,
          77,
          78,
          79,
          80,
          81,
          82,
          83,
          84,
          85,
          86,
          87,
          88,
          89,
          90,
          91,
          92,
          93,
          94,
          95,
          96,
          97,
          98,
          99,
          100,
          101,
          102,
          103,
          104,
          105,
          106,
          107,
          108,
          109,
          110,
          111,
          112,
          113,
          114,
          115,
          116,
          117,
          118,
          119,
          120,
          121,
          122,
          123,
          124,
          125
         ],
         "y": [
          0,
          0,
          0,
          0,
          0,
          0,
          0,
          0,
          0,
          0,
          0,
          0,
          0,
          0,
          0,
          0,
          0,
          0,
          0,
          0,
          0,
          0,
          0,
          0,
          0,
          0,
          0,
          0,
          0,
          0,
          0,
          0,
          0,
          0,
          0,
          0,
          0,
          0,
          0,
          0,
          0,
          0,
          0,
          0,
          0,
          0,
          0,
          0,
          0,
          0,
          0,
          0,
          0,
          0,
          0,
          0,
          0,
          2,
          2,
          2,
          2,
          2,
          1,
          1,
          1,
          1,
          1,
          1,
          1,
          1,
          1,
          1,
          1,
          1,
          1,
          1,
          1,
          1,
          1,
          1,
          1,
          1,
          1,
          1,
          1,
          1,
          1,
          1,
          1,
          1,
          1,
          1,
          1,
          1,
          1,
          1,
          1,
          1,
          1,
          1,
          1,
          1,
          1,
          1,
          1,
          1,
          1,
          1,
          1,
          1,
          1,
          1,
          1,
          1,
          1,
          1,
          1,
          1,
          1,
          1,
          1,
          1,
          1,
          1,
          1,
          1
         ]
        },
        {
         "marker": {
          "color": "red"
         },
         "mode": "markers",
         "name": "Predicted Values",
         "type": "scatter",
         "x": [
          0,
          1,
          2,
          3,
          4,
          5,
          6,
          7,
          8,
          9,
          10,
          11,
          12,
          13,
          14,
          15,
          16,
          17,
          18,
          19,
          20,
          21,
          22,
          23,
          24,
          25,
          26,
          27,
          28,
          29,
          30,
          31,
          32,
          33,
          34,
          35,
          36,
          37,
          38,
          39,
          40,
          41,
          42,
          43,
          44,
          45,
          46,
          47,
          48,
          49,
          50,
          51,
          52,
          53,
          54,
          55,
          56,
          57,
          58,
          59,
          60,
          61,
          62,
          63,
          64,
          65,
          66,
          67,
          68,
          69,
          70,
          71,
          72,
          73,
          74,
          75,
          76,
          77,
          78,
          79,
          80,
          81,
          82,
          83,
          84,
          85,
          86,
          87,
          88,
          89,
          90,
          91,
          92,
          93,
          94,
          95,
          96,
          97,
          98,
          99,
          100,
          101,
          102,
          103,
          104,
          105,
          106,
          107,
          108,
          109,
          110,
          111,
          112,
          113,
          114,
          115,
          116,
          117,
          118,
          119,
          120,
          121,
          122,
          123,
          124,
          125
         ],
         "y": [
          0,
          0,
          0,
          0,
          0,
          0,
          0,
          0,
          0,
          0,
          0,
          0,
          0,
          0,
          0,
          0,
          0,
          0,
          0,
          0,
          0,
          0,
          0,
          0,
          0,
          0,
          0,
          0,
          0,
          0,
          0,
          0,
          0,
          0,
          0,
          0,
          0,
          0,
          0,
          0,
          0,
          0,
          0,
          0,
          0,
          0,
          0,
          0,
          0,
          0,
          0,
          0,
          0,
          0,
          0,
          0,
          0,
          1,
          1,
          1,
          1,
          0,
          1,
          0,
          0,
          0,
          1,
          1,
          1,
          0,
          1,
          1,
          1,
          1,
          1,
          1,
          1,
          1,
          1,
          1,
          0,
          0,
          1,
          1,
          1,
          1,
          1,
          2,
          1,
          1,
          1,
          1,
          1,
          1,
          1,
          1,
          1,
          1,
          1,
          1,
          1,
          1,
          1,
          1,
          1,
          1,
          1,
          1,
          1,
          1,
          1,
          0,
          1,
          1,
          1,
          0,
          1,
          1,
          1,
          1,
          1,
          1,
          1,
          1,
          1,
          0
         ]
        }
       ],
       "layout": {
        "template": {
         "data": {
          "bar": [
           {
            "error_x": {
             "color": "#2a3f5f"
            },
            "error_y": {
             "color": "#2a3f5f"
            },
            "marker": {
             "line": {
              "color": "#E5ECF6",
              "width": 0.5
             },
             "pattern": {
              "fillmode": "overlay",
              "size": 10,
              "solidity": 0.2
             }
            },
            "type": "bar"
           }
          ],
          "barpolar": [
           {
            "marker": {
             "line": {
              "color": "#E5ECF6",
              "width": 0.5
             },
             "pattern": {
              "fillmode": "overlay",
              "size": 10,
              "solidity": 0.2
             }
            },
            "type": "barpolar"
           }
          ],
          "carpet": [
           {
            "aaxis": {
             "endlinecolor": "#2a3f5f",
             "gridcolor": "white",
             "linecolor": "white",
             "minorgridcolor": "white",
             "startlinecolor": "#2a3f5f"
            },
            "baxis": {
             "endlinecolor": "#2a3f5f",
             "gridcolor": "white",
             "linecolor": "white",
             "minorgridcolor": "white",
             "startlinecolor": "#2a3f5f"
            },
            "type": "carpet"
           }
          ],
          "choropleth": [
           {
            "colorbar": {
             "outlinewidth": 0,
             "ticks": ""
            },
            "type": "choropleth"
           }
          ],
          "contour": [
           {
            "colorbar": {
             "outlinewidth": 0,
             "ticks": ""
            },
            "colorscale": [
             [
              0,
              "#0d0887"
             ],
             [
              0.1111111111111111,
              "#46039f"
             ],
             [
              0.2222222222222222,
              "#7201a8"
             ],
             [
              0.3333333333333333,
              "#9c179e"
             ],
             [
              0.4444444444444444,
              "#bd3786"
             ],
             [
              0.5555555555555556,
              "#d8576b"
             ],
             [
              0.6666666666666666,
              "#ed7953"
             ],
             [
              0.7777777777777778,
              "#fb9f3a"
             ],
             [
              0.8888888888888888,
              "#fdca26"
             ],
             [
              1,
              "#f0f921"
             ]
            ],
            "type": "contour"
           }
          ],
          "contourcarpet": [
           {
            "colorbar": {
             "outlinewidth": 0,
             "ticks": ""
            },
            "type": "contourcarpet"
           }
          ],
          "heatmap": [
           {
            "colorbar": {
             "outlinewidth": 0,
             "ticks": ""
            },
            "colorscale": [
             [
              0,
              "#0d0887"
             ],
             [
              0.1111111111111111,
              "#46039f"
             ],
             [
              0.2222222222222222,
              "#7201a8"
             ],
             [
              0.3333333333333333,
              "#9c179e"
             ],
             [
              0.4444444444444444,
              "#bd3786"
             ],
             [
              0.5555555555555556,
              "#d8576b"
             ],
             [
              0.6666666666666666,
              "#ed7953"
             ],
             [
              0.7777777777777778,
              "#fb9f3a"
             ],
             [
              0.8888888888888888,
              "#fdca26"
             ],
             [
              1,
              "#f0f921"
             ]
            ],
            "type": "heatmap"
           }
          ],
          "heatmapgl": [
           {
            "colorbar": {
             "outlinewidth": 0,
             "ticks": ""
            },
            "colorscale": [
             [
              0,
              "#0d0887"
             ],
             [
              0.1111111111111111,
              "#46039f"
             ],
             [
              0.2222222222222222,
              "#7201a8"
             ],
             [
              0.3333333333333333,
              "#9c179e"
             ],
             [
              0.4444444444444444,
              "#bd3786"
             ],
             [
              0.5555555555555556,
              "#d8576b"
             ],
             [
              0.6666666666666666,
              "#ed7953"
             ],
             [
              0.7777777777777778,
              "#fb9f3a"
             ],
             [
              0.8888888888888888,
              "#fdca26"
             ],
             [
              1,
              "#f0f921"
             ]
            ],
            "type": "heatmapgl"
           }
          ],
          "histogram": [
           {
            "marker": {
             "pattern": {
              "fillmode": "overlay",
              "size": 10,
              "solidity": 0.2
             }
            },
            "type": "histogram"
           }
          ],
          "histogram2d": [
           {
            "colorbar": {
             "outlinewidth": 0,
             "ticks": ""
            },
            "colorscale": [
             [
              0,
              "#0d0887"
             ],
             [
              0.1111111111111111,
              "#46039f"
             ],
             [
              0.2222222222222222,
              "#7201a8"
             ],
             [
              0.3333333333333333,
              "#9c179e"
             ],
             [
              0.4444444444444444,
              "#bd3786"
             ],
             [
              0.5555555555555556,
              "#d8576b"
             ],
             [
              0.6666666666666666,
              "#ed7953"
             ],
             [
              0.7777777777777778,
              "#fb9f3a"
             ],
             [
              0.8888888888888888,
              "#fdca26"
             ],
             [
              1,
              "#f0f921"
             ]
            ],
            "type": "histogram2d"
           }
          ],
          "histogram2dcontour": [
           {
            "colorbar": {
             "outlinewidth": 0,
             "ticks": ""
            },
            "colorscale": [
             [
              0,
              "#0d0887"
             ],
             [
              0.1111111111111111,
              "#46039f"
             ],
             [
              0.2222222222222222,
              "#7201a8"
             ],
             [
              0.3333333333333333,
              "#9c179e"
             ],
             [
              0.4444444444444444,
              "#bd3786"
             ],
             [
              0.5555555555555556,
              "#d8576b"
             ],
             [
              0.6666666666666666,
              "#ed7953"
             ],
             [
              0.7777777777777778,
              "#fb9f3a"
             ],
             [
              0.8888888888888888,
              "#fdca26"
             ],
             [
              1,
              "#f0f921"
             ]
            ],
            "type": "histogram2dcontour"
           }
          ],
          "mesh3d": [
           {
            "colorbar": {
             "outlinewidth": 0,
             "ticks": ""
            },
            "type": "mesh3d"
           }
          ],
          "parcoords": [
           {
            "line": {
             "colorbar": {
              "outlinewidth": 0,
              "ticks": ""
             }
            },
            "type": "parcoords"
           }
          ],
          "pie": [
           {
            "automargin": true,
            "type": "pie"
           }
          ],
          "scatter": [
           {
            "fillpattern": {
             "fillmode": "overlay",
             "size": 10,
             "solidity": 0.2
            },
            "type": "scatter"
           }
          ],
          "scatter3d": [
           {
            "line": {
             "colorbar": {
              "outlinewidth": 0,
              "ticks": ""
             }
            },
            "marker": {
             "colorbar": {
              "outlinewidth": 0,
              "ticks": ""
             }
            },
            "type": "scatter3d"
           }
          ],
          "scattercarpet": [
           {
            "marker": {
             "colorbar": {
              "outlinewidth": 0,
              "ticks": ""
             }
            },
            "type": "scattercarpet"
           }
          ],
          "scattergeo": [
           {
            "marker": {
             "colorbar": {
              "outlinewidth": 0,
              "ticks": ""
             }
            },
            "type": "scattergeo"
           }
          ],
          "scattergl": [
           {
            "marker": {
             "colorbar": {
              "outlinewidth": 0,
              "ticks": ""
             }
            },
            "type": "scattergl"
           }
          ],
          "scattermapbox": [
           {
            "marker": {
             "colorbar": {
              "outlinewidth": 0,
              "ticks": ""
             }
            },
            "type": "scattermapbox"
           }
          ],
          "scatterpolar": [
           {
            "marker": {
             "colorbar": {
              "outlinewidth": 0,
              "ticks": ""
             }
            },
            "type": "scatterpolar"
           }
          ],
          "scatterpolargl": [
           {
            "marker": {
             "colorbar": {
              "outlinewidth": 0,
              "ticks": ""
             }
            },
            "type": "scatterpolargl"
           }
          ],
          "scatterternary": [
           {
            "marker": {
             "colorbar": {
              "outlinewidth": 0,
              "ticks": ""
             }
            },
            "type": "scatterternary"
           }
          ],
          "surface": [
           {
            "colorbar": {
             "outlinewidth": 0,
             "ticks": ""
            },
            "colorscale": [
             [
              0,
              "#0d0887"
             ],
             [
              0.1111111111111111,
              "#46039f"
             ],
             [
              0.2222222222222222,
              "#7201a8"
             ],
             [
              0.3333333333333333,
              "#9c179e"
             ],
             [
              0.4444444444444444,
              "#bd3786"
             ],
             [
              0.5555555555555556,
              "#d8576b"
             ],
             [
              0.6666666666666666,
              "#ed7953"
             ],
             [
              0.7777777777777778,
              "#fb9f3a"
             ],
             [
              0.8888888888888888,
              "#fdca26"
             ],
             [
              1,
              "#f0f921"
             ]
            ],
            "type": "surface"
           }
          ],
          "table": [
           {
            "cells": {
             "fill": {
              "color": "#EBF0F8"
             },
             "line": {
              "color": "white"
             }
            },
            "header": {
             "fill": {
              "color": "#C8D4E3"
             },
             "line": {
              "color": "white"
             }
            },
            "type": "table"
           }
          ]
         },
         "layout": {
          "annotationdefaults": {
           "arrowcolor": "#2a3f5f",
           "arrowhead": 0,
           "arrowwidth": 1
          },
          "autotypenumbers": "strict",
          "coloraxis": {
           "colorbar": {
            "outlinewidth": 0,
            "ticks": ""
           }
          },
          "colorscale": {
           "diverging": [
            [
             0,
             "#8e0152"
            ],
            [
             0.1,
             "#c51b7d"
            ],
            [
             0.2,
             "#de77ae"
            ],
            [
             0.3,
             "#f1b6da"
            ],
            [
             0.4,
             "#fde0ef"
            ],
            [
             0.5,
             "#f7f7f7"
            ],
            [
             0.6,
             "#e6f5d0"
            ],
            [
             0.7,
             "#b8e186"
            ],
            [
             0.8,
             "#7fbc41"
            ],
            [
             0.9,
             "#4d9221"
            ],
            [
             1,
             "#276419"
            ]
           ],
           "sequential": [
            [
             0,
             "#0d0887"
            ],
            [
             0.1111111111111111,
             "#46039f"
            ],
            [
             0.2222222222222222,
             "#7201a8"
            ],
            [
             0.3333333333333333,
             "#9c179e"
            ],
            [
             0.4444444444444444,
             "#bd3786"
            ],
            [
             0.5555555555555556,
             "#d8576b"
            ],
            [
             0.6666666666666666,
             "#ed7953"
            ],
            [
             0.7777777777777778,
             "#fb9f3a"
            ],
            [
             0.8888888888888888,
             "#fdca26"
            ],
            [
             1,
             "#f0f921"
            ]
           ],
           "sequentialminus": [
            [
             0,
             "#0d0887"
            ],
            [
             0.1111111111111111,
             "#46039f"
            ],
            [
             0.2222222222222222,
             "#7201a8"
            ],
            [
             0.3333333333333333,
             "#9c179e"
            ],
            [
             0.4444444444444444,
             "#bd3786"
            ],
            [
             0.5555555555555556,
             "#d8576b"
            ],
            [
             0.6666666666666666,
             "#ed7953"
            ],
            [
             0.7777777777777778,
             "#fb9f3a"
            ],
            [
             0.8888888888888888,
             "#fdca26"
            ],
            [
             1,
             "#f0f921"
            ]
           ]
          },
          "colorway": [
           "#636efa",
           "#EF553B",
           "#00cc96",
           "#ab63fa",
           "#FFA15A",
           "#19d3f3",
           "#FF6692",
           "#B6E880",
           "#FF97FF",
           "#FECB52"
          ],
          "font": {
           "color": "#2a3f5f"
          },
          "geo": {
           "bgcolor": "white",
           "lakecolor": "white",
           "landcolor": "#E5ECF6",
           "showlakes": true,
           "showland": true,
           "subunitcolor": "white"
          },
          "hoverlabel": {
           "align": "left"
          },
          "hovermode": "closest",
          "mapbox": {
           "style": "light"
          },
          "paper_bgcolor": "white",
          "plot_bgcolor": "#E5ECF6",
          "polar": {
           "angularaxis": {
            "gridcolor": "white",
            "linecolor": "white",
            "ticks": ""
           },
           "bgcolor": "#E5ECF6",
           "radialaxis": {
            "gridcolor": "white",
            "linecolor": "white",
            "ticks": ""
           }
          },
          "scene": {
           "xaxis": {
            "backgroundcolor": "#E5ECF6",
            "gridcolor": "white",
            "gridwidth": 2,
            "linecolor": "white",
            "showbackground": true,
            "ticks": "",
            "zerolinecolor": "white"
           },
           "yaxis": {
            "backgroundcolor": "#E5ECF6",
            "gridcolor": "white",
            "gridwidth": 2,
            "linecolor": "white",
            "showbackground": true,
            "ticks": "",
            "zerolinecolor": "white"
           },
           "zaxis": {
            "backgroundcolor": "#E5ECF6",
            "gridcolor": "white",
            "gridwidth": 2,
            "linecolor": "white",
            "showbackground": true,
            "ticks": "",
            "zerolinecolor": "white"
           }
          },
          "shapedefaults": {
           "line": {
            "color": "#2a3f5f"
           }
          },
          "ternary": {
           "aaxis": {
            "gridcolor": "white",
            "linecolor": "white",
            "ticks": ""
           },
           "baxis": {
            "gridcolor": "white",
            "linecolor": "white",
            "ticks": ""
           },
           "bgcolor": "#E5ECF6",
           "caxis": {
            "gridcolor": "white",
            "linecolor": "white",
            "ticks": ""
           }
          },
          "title": {
           "x": 0.05
          },
          "xaxis": {
           "automargin": true,
           "gridcolor": "white",
           "linecolor": "white",
           "ticks": "",
           "title": {
            "standoff": 15
           },
           "zerolinecolor": "white",
           "zerolinewidth": 2
          },
          "yaxis": {
           "automargin": true,
           "gridcolor": "white",
           "linecolor": "white",
           "ticks": "",
           "title": {
            "standoff": 15
           },
           "zerolinecolor": "white",
           "zerolinewidth": 2
          }
         }
        },
        "title": {
         "text": "True vs Predicted Values"
        },
        "xaxis": {
         "title": {
          "text": "Index"
         }
        },
        "yaxis": {
         "title": {
          "text": "Values"
         }
        }
       }
      }
     },
     "metadata": {},
     "output_type": "display_data"
    }
   ],
   "source": [
    "# Call the function with appropriate data\n",
    "true_vs_predicted_labels_plot(y_test_1, y_pred_rf)"
   ]
  },
  {
   "cell_type": "code",
   "execution_count": 119,
   "metadata": {},
   "outputs": [
    {
     "name": "stdout",
     "output_type": "stream",
     "text": [
      "[0, 0, 0, 0, 0, 0, 0, 0, 0, 0, 0, 1, 0, 0, 0, 0, 0, 1, 0, 1, 0, 0, 0, 0, 0, 0, 0, 0, 0, 0, 0, 0, 0, 0, 0, 0, 0, 0, 0, 1, 0, 0, 0, 0, 0, 1, 0, 0, 0, 0, 0, 0, 0, 0, 0, 0, 0, 1, 1, 1, 1, 1, 1, 1, 0, 1, 1, 1, 1, 1, 1, 1, 1, 1, 1, 1, 1, 1, 1, 1, 0, 0, 1, 1, 1, 1, 1, 1, 1, 1, 1, 1, 1, 1, 1, 1, 1, 1, 0, 1, 1, 1, 1, 1, 1, 1, 1, 1, 1, 1, 1, 0, 1, 1, 1, 1, 1, 1, 1, 1, 1, 1, 1, 1, 1, 1]\n"
     ]
    }
   ],
   "source": [
    "# KNN\n",
    "y_pred_knn = loaded_knn_model.predict(X_test_2)\n",
    "print(y_pred_knn)\n"
   ]
  },
  {
   "cell_type": "code",
   "execution_count": 120,
   "metadata": {},
   "outputs": [
    {
     "data": {
      "application/vnd.plotly.v1+json": {
       "config": {
        "plotlyServerURL": "https://plot.ly"
       },
       "data": [
        {
         "marker": {
          "color": "blue"
         },
         "mode": "markers",
         "name": "True Values",
         "type": "scatter",
         "x": [
          0,
          1,
          2,
          3,
          4,
          5,
          6,
          7,
          8,
          9,
          10,
          11,
          12,
          13,
          14,
          15,
          16,
          17,
          18,
          19,
          20,
          21,
          22,
          23,
          24,
          25,
          26,
          27,
          28,
          29,
          30,
          31,
          32,
          33,
          34,
          35,
          36,
          37,
          38,
          39,
          40,
          41,
          42,
          43,
          44,
          45,
          46,
          47,
          48,
          49,
          50,
          51,
          52,
          53,
          54,
          55,
          56,
          57,
          58,
          59,
          60,
          61,
          62,
          63,
          64,
          65,
          66,
          67,
          68,
          69,
          70,
          71,
          72,
          73,
          74,
          75,
          76,
          77,
          78,
          79,
          80,
          81,
          82,
          83,
          84,
          85,
          86,
          87,
          88,
          89,
          90,
          91,
          92,
          93,
          94,
          95,
          96,
          97,
          98,
          99,
          100,
          101,
          102,
          103,
          104,
          105,
          106,
          107,
          108,
          109,
          110,
          111,
          112,
          113,
          114,
          115,
          116,
          117,
          118,
          119,
          120,
          121,
          122,
          123,
          124,
          125
         ],
         "y": [
          0,
          0,
          0,
          0,
          0,
          0,
          0,
          0,
          0,
          0,
          0,
          0,
          0,
          0,
          0,
          0,
          0,
          0,
          0,
          0,
          0,
          0,
          0,
          0,
          0,
          0,
          0,
          0,
          0,
          0,
          0,
          0,
          0,
          0,
          0,
          0,
          0,
          0,
          0,
          0,
          0,
          0,
          0,
          0,
          0,
          0,
          0,
          0,
          0,
          0,
          0,
          0,
          0,
          0,
          0,
          0,
          0,
          2,
          2,
          2,
          2,
          2,
          1,
          1,
          1,
          1,
          1,
          1,
          1,
          1,
          1,
          1,
          1,
          1,
          1,
          1,
          1,
          1,
          1,
          1,
          1,
          1,
          1,
          1,
          1,
          1,
          1,
          1,
          1,
          1,
          1,
          1,
          1,
          1,
          1,
          1,
          1,
          1,
          1,
          1,
          1,
          1,
          1,
          1,
          1,
          1,
          1,
          1,
          1,
          1,
          1,
          1,
          1,
          1,
          1,
          1,
          1,
          1,
          1,
          1,
          1,
          1,
          1,
          1,
          1,
          1
         ]
        },
        {
         "marker": {
          "color": "red"
         },
         "mode": "markers",
         "name": "Predicted Values",
         "type": "scatter",
         "x": [
          0,
          1,
          2,
          3,
          4,
          5,
          6,
          7,
          8,
          9,
          10,
          11,
          12,
          13,
          14,
          15,
          16,
          17,
          18,
          19,
          20,
          21,
          22,
          23,
          24,
          25,
          26,
          27,
          28,
          29,
          30,
          31,
          32,
          33,
          34,
          35,
          36,
          37,
          38,
          39,
          40,
          41,
          42,
          43,
          44,
          45,
          46,
          47,
          48,
          49,
          50,
          51,
          52,
          53,
          54,
          55,
          56,
          57,
          58,
          59,
          60,
          61,
          62,
          63,
          64,
          65,
          66,
          67,
          68,
          69,
          70,
          71,
          72,
          73,
          74,
          75,
          76,
          77,
          78,
          79,
          80,
          81,
          82,
          83,
          84,
          85,
          86,
          87,
          88,
          89,
          90,
          91,
          92,
          93,
          94,
          95,
          96,
          97,
          98,
          99,
          100,
          101,
          102,
          103,
          104,
          105,
          106,
          107,
          108,
          109,
          110,
          111,
          112,
          113,
          114,
          115,
          116,
          117,
          118,
          119,
          120,
          121,
          122,
          123,
          124,
          125
         ],
         "y": [
          0,
          0,
          0,
          0,
          0,
          0,
          0,
          0,
          0,
          0,
          0,
          1,
          0,
          0,
          0,
          0,
          0,
          1,
          0,
          1,
          0,
          0,
          0,
          0,
          0,
          0,
          0,
          0,
          0,
          0,
          0,
          0,
          0,
          0,
          0,
          0,
          0,
          0,
          0,
          1,
          0,
          0,
          0,
          0,
          0,
          1,
          0,
          0,
          0,
          0,
          0,
          0,
          0,
          0,
          0,
          0,
          0,
          1,
          1,
          1,
          1,
          1,
          1,
          1,
          0,
          1,
          1,
          1,
          1,
          1,
          1,
          1,
          1,
          1,
          1,
          1,
          1,
          1,
          1,
          1,
          0,
          0,
          1,
          1,
          1,
          1,
          1,
          1,
          1,
          1,
          1,
          1,
          1,
          1,
          1,
          1,
          1,
          1,
          0,
          1,
          1,
          1,
          1,
          1,
          1,
          1,
          1,
          1,
          1,
          1,
          1,
          0,
          1,
          1,
          1,
          1,
          1,
          1,
          1,
          1,
          1,
          1,
          1,
          1,
          1,
          1
         ]
        }
       ],
       "layout": {
        "template": {
         "data": {
          "bar": [
           {
            "error_x": {
             "color": "#2a3f5f"
            },
            "error_y": {
             "color": "#2a3f5f"
            },
            "marker": {
             "line": {
              "color": "#E5ECF6",
              "width": 0.5
             },
             "pattern": {
              "fillmode": "overlay",
              "size": 10,
              "solidity": 0.2
             }
            },
            "type": "bar"
           }
          ],
          "barpolar": [
           {
            "marker": {
             "line": {
              "color": "#E5ECF6",
              "width": 0.5
             },
             "pattern": {
              "fillmode": "overlay",
              "size": 10,
              "solidity": 0.2
             }
            },
            "type": "barpolar"
           }
          ],
          "carpet": [
           {
            "aaxis": {
             "endlinecolor": "#2a3f5f",
             "gridcolor": "white",
             "linecolor": "white",
             "minorgridcolor": "white",
             "startlinecolor": "#2a3f5f"
            },
            "baxis": {
             "endlinecolor": "#2a3f5f",
             "gridcolor": "white",
             "linecolor": "white",
             "minorgridcolor": "white",
             "startlinecolor": "#2a3f5f"
            },
            "type": "carpet"
           }
          ],
          "choropleth": [
           {
            "colorbar": {
             "outlinewidth": 0,
             "ticks": ""
            },
            "type": "choropleth"
           }
          ],
          "contour": [
           {
            "colorbar": {
             "outlinewidth": 0,
             "ticks": ""
            },
            "colorscale": [
             [
              0,
              "#0d0887"
             ],
             [
              0.1111111111111111,
              "#46039f"
             ],
             [
              0.2222222222222222,
              "#7201a8"
             ],
             [
              0.3333333333333333,
              "#9c179e"
             ],
             [
              0.4444444444444444,
              "#bd3786"
             ],
             [
              0.5555555555555556,
              "#d8576b"
             ],
             [
              0.6666666666666666,
              "#ed7953"
             ],
             [
              0.7777777777777778,
              "#fb9f3a"
             ],
             [
              0.8888888888888888,
              "#fdca26"
             ],
             [
              1,
              "#f0f921"
             ]
            ],
            "type": "contour"
           }
          ],
          "contourcarpet": [
           {
            "colorbar": {
             "outlinewidth": 0,
             "ticks": ""
            },
            "type": "contourcarpet"
           }
          ],
          "heatmap": [
           {
            "colorbar": {
             "outlinewidth": 0,
             "ticks": ""
            },
            "colorscale": [
             [
              0,
              "#0d0887"
             ],
             [
              0.1111111111111111,
              "#46039f"
             ],
             [
              0.2222222222222222,
              "#7201a8"
             ],
             [
              0.3333333333333333,
              "#9c179e"
             ],
             [
              0.4444444444444444,
              "#bd3786"
             ],
             [
              0.5555555555555556,
              "#d8576b"
             ],
             [
              0.6666666666666666,
              "#ed7953"
             ],
             [
              0.7777777777777778,
              "#fb9f3a"
             ],
             [
              0.8888888888888888,
              "#fdca26"
             ],
             [
              1,
              "#f0f921"
             ]
            ],
            "type": "heatmap"
           }
          ],
          "heatmapgl": [
           {
            "colorbar": {
             "outlinewidth": 0,
             "ticks": ""
            },
            "colorscale": [
             [
              0,
              "#0d0887"
             ],
             [
              0.1111111111111111,
              "#46039f"
             ],
             [
              0.2222222222222222,
              "#7201a8"
             ],
             [
              0.3333333333333333,
              "#9c179e"
             ],
             [
              0.4444444444444444,
              "#bd3786"
             ],
             [
              0.5555555555555556,
              "#d8576b"
             ],
             [
              0.6666666666666666,
              "#ed7953"
             ],
             [
              0.7777777777777778,
              "#fb9f3a"
             ],
             [
              0.8888888888888888,
              "#fdca26"
             ],
             [
              1,
              "#f0f921"
             ]
            ],
            "type": "heatmapgl"
           }
          ],
          "histogram": [
           {
            "marker": {
             "pattern": {
              "fillmode": "overlay",
              "size": 10,
              "solidity": 0.2
             }
            },
            "type": "histogram"
           }
          ],
          "histogram2d": [
           {
            "colorbar": {
             "outlinewidth": 0,
             "ticks": ""
            },
            "colorscale": [
             [
              0,
              "#0d0887"
             ],
             [
              0.1111111111111111,
              "#46039f"
             ],
             [
              0.2222222222222222,
              "#7201a8"
             ],
             [
              0.3333333333333333,
              "#9c179e"
             ],
             [
              0.4444444444444444,
              "#bd3786"
             ],
             [
              0.5555555555555556,
              "#d8576b"
             ],
             [
              0.6666666666666666,
              "#ed7953"
             ],
             [
              0.7777777777777778,
              "#fb9f3a"
             ],
             [
              0.8888888888888888,
              "#fdca26"
             ],
             [
              1,
              "#f0f921"
             ]
            ],
            "type": "histogram2d"
           }
          ],
          "histogram2dcontour": [
           {
            "colorbar": {
             "outlinewidth": 0,
             "ticks": ""
            },
            "colorscale": [
             [
              0,
              "#0d0887"
             ],
             [
              0.1111111111111111,
              "#46039f"
             ],
             [
              0.2222222222222222,
              "#7201a8"
             ],
             [
              0.3333333333333333,
              "#9c179e"
             ],
             [
              0.4444444444444444,
              "#bd3786"
             ],
             [
              0.5555555555555556,
              "#d8576b"
             ],
             [
              0.6666666666666666,
              "#ed7953"
             ],
             [
              0.7777777777777778,
              "#fb9f3a"
             ],
             [
              0.8888888888888888,
              "#fdca26"
             ],
             [
              1,
              "#f0f921"
             ]
            ],
            "type": "histogram2dcontour"
           }
          ],
          "mesh3d": [
           {
            "colorbar": {
             "outlinewidth": 0,
             "ticks": ""
            },
            "type": "mesh3d"
           }
          ],
          "parcoords": [
           {
            "line": {
             "colorbar": {
              "outlinewidth": 0,
              "ticks": ""
             }
            },
            "type": "parcoords"
           }
          ],
          "pie": [
           {
            "automargin": true,
            "type": "pie"
           }
          ],
          "scatter": [
           {
            "fillpattern": {
             "fillmode": "overlay",
             "size": 10,
             "solidity": 0.2
            },
            "type": "scatter"
           }
          ],
          "scatter3d": [
           {
            "line": {
             "colorbar": {
              "outlinewidth": 0,
              "ticks": ""
             }
            },
            "marker": {
             "colorbar": {
              "outlinewidth": 0,
              "ticks": ""
             }
            },
            "type": "scatter3d"
           }
          ],
          "scattercarpet": [
           {
            "marker": {
             "colorbar": {
              "outlinewidth": 0,
              "ticks": ""
             }
            },
            "type": "scattercarpet"
           }
          ],
          "scattergeo": [
           {
            "marker": {
             "colorbar": {
              "outlinewidth": 0,
              "ticks": ""
             }
            },
            "type": "scattergeo"
           }
          ],
          "scattergl": [
           {
            "marker": {
             "colorbar": {
              "outlinewidth": 0,
              "ticks": ""
             }
            },
            "type": "scattergl"
           }
          ],
          "scattermapbox": [
           {
            "marker": {
             "colorbar": {
              "outlinewidth": 0,
              "ticks": ""
             }
            },
            "type": "scattermapbox"
           }
          ],
          "scatterpolar": [
           {
            "marker": {
             "colorbar": {
              "outlinewidth": 0,
              "ticks": ""
             }
            },
            "type": "scatterpolar"
           }
          ],
          "scatterpolargl": [
           {
            "marker": {
             "colorbar": {
              "outlinewidth": 0,
              "ticks": ""
             }
            },
            "type": "scatterpolargl"
           }
          ],
          "scatterternary": [
           {
            "marker": {
             "colorbar": {
              "outlinewidth": 0,
              "ticks": ""
             }
            },
            "type": "scatterternary"
           }
          ],
          "surface": [
           {
            "colorbar": {
             "outlinewidth": 0,
             "ticks": ""
            },
            "colorscale": [
             [
              0,
              "#0d0887"
             ],
             [
              0.1111111111111111,
              "#46039f"
             ],
             [
              0.2222222222222222,
              "#7201a8"
             ],
             [
              0.3333333333333333,
              "#9c179e"
             ],
             [
              0.4444444444444444,
              "#bd3786"
             ],
             [
              0.5555555555555556,
              "#d8576b"
             ],
             [
              0.6666666666666666,
              "#ed7953"
             ],
             [
              0.7777777777777778,
              "#fb9f3a"
             ],
             [
              0.8888888888888888,
              "#fdca26"
             ],
             [
              1,
              "#f0f921"
             ]
            ],
            "type": "surface"
           }
          ],
          "table": [
           {
            "cells": {
             "fill": {
              "color": "#EBF0F8"
             },
             "line": {
              "color": "white"
             }
            },
            "header": {
             "fill": {
              "color": "#C8D4E3"
             },
             "line": {
              "color": "white"
             }
            },
            "type": "table"
           }
          ]
         },
         "layout": {
          "annotationdefaults": {
           "arrowcolor": "#2a3f5f",
           "arrowhead": 0,
           "arrowwidth": 1
          },
          "autotypenumbers": "strict",
          "coloraxis": {
           "colorbar": {
            "outlinewidth": 0,
            "ticks": ""
           }
          },
          "colorscale": {
           "diverging": [
            [
             0,
             "#8e0152"
            ],
            [
             0.1,
             "#c51b7d"
            ],
            [
             0.2,
             "#de77ae"
            ],
            [
             0.3,
             "#f1b6da"
            ],
            [
             0.4,
             "#fde0ef"
            ],
            [
             0.5,
             "#f7f7f7"
            ],
            [
             0.6,
             "#e6f5d0"
            ],
            [
             0.7,
             "#b8e186"
            ],
            [
             0.8,
             "#7fbc41"
            ],
            [
             0.9,
             "#4d9221"
            ],
            [
             1,
             "#276419"
            ]
           ],
           "sequential": [
            [
             0,
             "#0d0887"
            ],
            [
             0.1111111111111111,
             "#46039f"
            ],
            [
             0.2222222222222222,
             "#7201a8"
            ],
            [
             0.3333333333333333,
             "#9c179e"
            ],
            [
             0.4444444444444444,
             "#bd3786"
            ],
            [
             0.5555555555555556,
             "#d8576b"
            ],
            [
             0.6666666666666666,
             "#ed7953"
            ],
            [
             0.7777777777777778,
             "#fb9f3a"
            ],
            [
             0.8888888888888888,
             "#fdca26"
            ],
            [
             1,
             "#f0f921"
            ]
           ],
           "sequentialminus": [
            [
             0,
             "#0d0887"
            ],
            [
             0.1111111111111111,
             "#46039f"
            ],
            [
             0.2222222222222222,
             "#7201a8"
            ],
            [
             0.3333333333333333,
             "#9c179e"
            ],
            [
             0.4444444444444444,
             "#bd3786"
            ],
            [
             0.5555555555555556,
             "#d8576b"
            ],
            [
             0.6666666666666666,
             "#ed7953"
            ],
            [
             0.7777777777777778,
             "#fb9f3a"
            ],
            [
             0.8888888888888888,
             "#fdca26"
            ],
            [
             1,
             "#f0f921"
            ]
           ]
          },
          "colorway": [
           "#636efa",
           "#EF553B",
           "#00cc96",
           "#ab63fa",
           "#FFA15A",
           "#19d3f3",
           "#FF6692",
           "#B6E880",
           "#FF97FF",
           "#FECB52"
          ],
          "font": {
           "color": "#2a3f5f"
          },
          "geo": {
           "bgcolor": "white",
           "lakecolor": "white",
           "landcolor": "#E5ECF6",
           "showlakes": true,
           "showland": true,
           "subunitcolor": "white"
          },
          "hoverlabel": {
           "align": "left"
          },
          "hovermode": "closest",
          "mapbox": {
           "style": "light"
          },
          "paper_bgcolor": "white",
          "plot_bgcolor": "#E5ECF6",
          "polar": {
           "angularaxis": {
            "gridcolor": "white",
            "linecolor": "white",
            "ticks": ""
           },
           "bgcolor": "#E5ECF6",
           "radialaxis": {
            "gridcolor": "white",
            "linecolor": "white",
            "ticks": ""
           }
          },
          "scene": {
           "xaxis": {
            "backgroundcolor": "#E5ECF6",
            "gridcolor": "white",
            "gridwidth": 2,
            "linecolor": "white",
            "showbackground": true,
            "ticks": "",
            "zerolinecolor": "white"
           },
           "yaxis": {
            "backgroundcolor": "#E5ECF6",
            "gridcolor": "white",
            "gridwidth": 2,
            "linecolor": "white",
            "showbackground": true,
            "ticks": "",
            "zerolinecolor": "white"
           },
           "zaxis": {
            "backgroundcolor": "#E5ECF6",
            "gridcolor": "white",
            "gridwidth": 2,
            "linecolor": "white",
            "showbackground": true,
            "ticks": "",
            "zerolinecolor": "white"
           }
          },
          "shapedefaults": {
           "line": {
            "color": "#2a3f5f"
           }
          },
          "ternary": {
           "aaxis": {
            "gridcolor": "white",
            "linecolor": "white",
            "ticks": ""
           },
           "baxis": {
            "gridcolor": "white",
            "linecolor": "white",
            "ticks": ""
           },
           "bgcolor": "#E5ECF6",
           "caxis": {
            "gridcolor": "white",
            "linecolor": "white",
            "ticks": ""
           }
          },
          "title": {
           "x": 0.05
          },
          "xaxis": {
           "automargin": true,
           "gridcolor": "white",
           "linecolor": "white",
           "ticks": "",
           "title": {
            "standoff": 15
           },
           "zerolinecolor": "white",
           "zerolinewidth": 2
          },
          "yaxis": {
           "automargin": true,
           "gridcolor": "white",
           "linecolor": "white",
           "ticks": "",
           "title": {
            "standoff": 15
           },
           "zerolinecolor": "white",
           "zerolinewidth": 2
          }
         }
        },
        "title": {
         "text": "True vs Predicted Values"
        },
        "xaxis": {
         "title": {
          "text": "Index"
         }
        },
        "yaxis": {
         "title": {
          "text": "Values"
         }
        }
       }
      }
     },
     "metadata": {},
     "output_type": "display_data"
    }
   ],
   "source": [
    "# Call the function with appropriate data\n",
    "true_vs_predicted_labels_plot(y_test_1, y_pred_knn)"
   ]
  },
  {
   "cell_type": "markdown",
   "metadata": {},
   "source": [
    "Evaluation"
   ]
  },
  {
   "cell_type": "markdown",
   "metadata": {},
   "source": [
    "Confusion matrix"
   ]
  },
  {
   "cell_type": "markdown",
   "metadata": {},
   "source": [
    "Decision Tree"
   ]
  },
  {
   "cell_type": "code",
   "execution_count": 122,
   "metadata": {},
   "outputs": [
    {
     "name": "stdout",
     "output_type": "stream",
     "text": [
      "              precision    recall  f1-score   support\n",
      "\n",
      "           0       0.85      1.00      0.92        57\n",
      "           1       0.93      0.86      0.89        64\n",
      "           2       0.00      0.00      0.00         5\n",
      "\n",
      "    accuracy                           0.89       126\n",
      "   macro avg       0.59      0.62      0.60       126\n",
      "weighted avg       0.86      0.89      0.87       126\n",
      "\n"
     ]
    },
    {
     "name": "stderr",
     "output_type": "stream",
     "text": [
      "c:\\Users\\lenovo\\AppData\\Local\\Programs\\Python\\Python311\\Lib\\site-packages\\sklearn\\metrics\\_classification.py:1471: UndefinedMetricWarning:\n",
      "\n",
      "Precision and F-score are ill-defined and being set to 0.0 in labels with no predicted samples. Use `zero_division` parameter to control this behavior.\n",
      "\n",
      "c:\\Users\\lenovo\\AppData\\Local\\Programs\\Python\\Python311\\Lib\\site-packages\\sklearn\\metrics\\_classification.py:1471: UndefinedMetricWarning:\n",
      "\n",
      "Precision and F-score are ill-defined and being set to 0.0 in labels with no predicted samples. Use `zero_division` parameter to control this behavior.\n",
      "\n",
      "c:\\Users\\lenovo\\AppData\\Local\\Programs\\Python\\Python311\\Lib\\site-packages\\sklearn\\metrics\\_classification.py:1471: UndefinedMetricWarning:\n",
      "\n",
      "Precision and F-score are ill-defined and being set to 0.0 in labels with no predicted samples. Use `zero_division` parameter to control this behavior.\n",
      "\n"
     ]
    }
   ],
   "source": [
    "print(classification_report(y_test_1,y_pred_dt))"
   ]
  },
  {
   "cell_type": "code",
   "execution_count": 123,
   "metadata": {},
   "outputs": [
    {
     "data": {
      "image/png": "[encoded data removed]",
      "text/plain": [
       "<Figure size 640x480 with 2 Axes>"
      ]
     },
     "metadata": {},
     "output_type": "display_data"
    }
   ],
   "source": [
    "cm_dt = confusion_matrix(y_test_1, y_pred_dt)\n",
    "sns.heatmap(cm_dt, annot=True)\n",
    "plt.title('Confusion matrix for Decision Tree')\n",
    "plt.ylabel('Actual label')\n",
    "plt.xlabel('Predicted label')\n",
    "plt.show()"
   ]
  },
  {
   "cell_type": "markdown",
   "metadata": {},
   "source": [
    "Random Forest"
   ]
  },
  {
   "cell_type": "code",
   "execution_count": 99,
   "metadata": {},
   "outputs": [
    {
     "name": "stdout",
     "output_type": "stream",
     "text": [
      "              precision    recall  f1-score   support\n",
      "\n",
      "           0       0.85      0.96      0.90        57\n",
      "           1       0.89      0.78      0.83        64\n",
      "           2       0.00      0.00      0.00         5\n",
      "\n",
      "    accuracy                           0.83       126\n",
      "   macro avg       0.58      0.58      0.58       126\n",
      "weighted avg       0.84      0.83      0.83       126\n",
      "\n"
     ]
    }
   ],
   "source": [
    "print(classification_report(y_test_1,y_pred_rf))"
   ]
  },
  {
   "cell_type": "code",
   "execution_count": 140,
   "metadata": {},
   "outputs": [],
   "source": [
    "import plotly.graph_objs as go\n",
    "import numpy as np\n",
    "\n",
    "def confusion_matrix_plot(y_test, y_pred):\n",
    "    conf_matrix = confusion_matrix(y_test, y_pred)\n",
    "\n",
    "    # Create a list of strings for displaying values in annotations\n",
    "    annotations = []\n",
    "    for i in range(conf_matrix.shape[0]):\n",
    "        for j in range(conf_matrix.shape[1]):\n",
    "            annotations.append(dict(x=j, y=i, text=str(conf_matrix[i][j]), showarrow=False))\n",
    "\n",
    "    # Create a trace for the heatmap\n",
    "    trace = go.Heatmap(z=conf_matrix,\n",
    "                    x=['0', '1', '2'],  # Replace with your class labels\n",
    "                    y=['0', '1', '2'],  # Replace with your class labels\n",
    "                    colorscale='Viridis')\n",
    "\n",
    "    # Create a figure and add the trace with annotations\n",
    "    layout = go.Layout(title='Confusion Matrix', xaxis=dict(title='Predicted'), yaxis=dict(title='Actual'), annotations=annotations)\n",
    "    fig = go.Figure(data=[trace], layout=layout)\n",
    "\n",
    "    # Show the figure\n",
    "    fig.show()\n"
   ]
  },
  {
   "cell_type": "code",
   "execution_count": 139,
   "metadata": {},
   "outputs": [
    {
     "data": {
      "application/vnd.plotly.v1+json": {
       "config": {
        "plotlyServerURL": "https://plot.ly"
       },
       "data": [
        {
         "colorscale": [
          [
           0,
           "rgb(0,0,0)"
          ],
          [
           0.3333333333333333,
           "rgb(230,0,0)"
          ],
          [
           0.6666666666666666,
           "rgb(255,210,0)"
          ],
          [
           1,
           "rgb(255,255,255)"
          ]
         ],
         "type": "heatmap",
         "x": [
          "0",
          "1",
          "2"
         ],
         "y": [
          "0",
          "1",
          "2"
         ],
         "z": [
          [
           57,
           0,
           0
          ],
          [
           9,
           55,
           0
          ],
          [
           1,
           4,
           0
          ]
         ]
        }
       ],
       "layout": {
        "annotations": [
         {
          "showarrow": false,
          "text": "57",
          "x": 0,
          "y": 0
         },
         {
          "showarrow": false,
          "text": "0",
          "x": 1,
          "y": 0
         },
         {
          "showarrow": false,
          "text": "0",
          "x": 2,
          "y": 0
         },
         {
          "showarrow": false,
          "text": "9",
          "x": 0,
          "y": 1
         },
         {
          "showarrow": false,
          "text": "55",
          "x": 1,
          "y": 1
         },
         {
          "showarrow": false,
          "text": "0",
          "x": 2,
          "y": 1
         },
         {
          "showarrow": false,
          "text": "1",
          "x": 0,
          "y": 2
         },
         {
          "showarrow": false,
          "text": "4",
          "x": 1,
          "y": 2
         },
         {
          "showarrow": false,
          "text": "0",
          "x": 2,
          "y": 2
         }
        ],
        "template": {
         "data": {
          "bar": [
           {
            "error_x": {
             "color": "#2a3f5f"
            },
            "error_y": {
             "color": "#2a3f5f"
            },
            "marker": {
             "line": {
              "color": "#E5ECF6",
              "width": 0.5
             },
             "pattern": {
              "fillmode": "overlay",
              "size": 10,
              "solidity": 0.2
             }
            },
            "type": "bar"
           }
          ],
          "barpolar": [
           {
            "marker": {
             "line": {
              "color": "#E5ECF6",
              "width": 0.5
             },
             "pattern": {
              "fillmode": "overlay",
              "size": 10,
              "solidity": 0.2
             }
            },
            "type": "barpolar"
           }
          ],
          "carpet": [
           {
            "aaxis": {
             "endlinecolor": "#2a3f5f",
             "gridcolor": "white",
             "linecolor": "white",
             "minorgridcolor": "white",
             "startlinecolor": "#2a3f5f"
            },
            "baxis": {
             "endlinecolor": "#2a3f5f",
             "gridcolor": "white",
             "linecolor": "white",
             "minorgridcolor": "white",
             "startlinecolor": "#2a3f5f"
            },
            "type": "carpet"
           }
          ],
          "choropleth": [
           {
            "colorbar": {
             "outlinewidth": 0,
             "ticks": ""
            },
            "type": "choropleth"
           }
          ],
          "contour": [
           {
            "colorbar": {
             "outlinewidth": 0,
             "ticks": ""
            },
            "colorscale": [
             [
              0,
              "#0d0887"
             ],
             [
              0.1111111111111111,
              "#46039f"
             ],
             [
              0.2222222222222222,
              "#7201a8"
             ],
             [
              0.3333333333333333,
              "#9c179e"
             ],
             [
              0.4444444444444444,
              "#bd3786"
             ],
             [
              0.5555555555555556,
              "#d8576b"
             ],
             [
              0.6666666666666666,
              "#ed7953"
             ],
             [
              0.7777777777777778,
              "#fb9f3a"
             ],
             [
              0.8888888888888888,
              "#fdca26"
             ],
             [
              1,
              "#f0f921"
             ]
            ],
            "type": "contour"
           }
          ],
          "contourcarpet": [
           {
            "colorbar": {
             "outlinewidth": 0,
             "ticks": ""
            },
            "type": "contourcarpet"
           }
          ],
          "heatmap": [
           {
            "colorbar": {
             "outlinewidth": 0,
             "ticks": ""
            },
            "colorscale": [
             [
              0,
              "#0d0887"
             ],
             [
              0.1111111111111111,
              "#46039f"
             ],
             [
              0.2222222222222222,
              "#7201a8"
             ],
             [
              0.3333333333333333,
              "#9c179e"
             ],
             [
              0.4444444444444444,
              "#bd3786"
             ],
             [
              0.5555555555555556,
              "#d8576b"
             ],
             [
              0.6666666666666666,
              "#ed7953"
             ],
             [
              0.7777777777777778,
              "#fb9f3a"
             ],
             [
              0.8888888888888888,
              "#fdca26"
             ],
             [
              1,
              "#f0f921"
             ]
            ],
            "type": "heatmap"
           }
          ],
          "heatmapgl": [
           {
            "colorbar": {
             "outlinewidth": 0,
             "ticks": ""
            },
            "colorscale": [
             [
              0,
              "#0d0887"
             ],
             [
              0.1111111111111111,
              "#46039f"
             ],
             [
              0.2222222222222222,
              "#7201a8"
             ],
             [
              0.3333333333333333,
              "#9c179e"
             ],
             [
              0.4444444444444444,
              "#bd3786"
             ],
             [
              0.5555555555555556,
              "#d8576b"
             ],
             [
              0.6666666666666666,
              "#ed7953"
             ],
             [
              0.7777777777777778,
              "#fb9f3a"
             ],
             [
              0.8888888888888888,
              "#fdca26"
             ],
             [
              1,
              "#f0f921"
             ]
            ],
            "type": "heatmapgl"
           }
          ],
          "histogram": [
           {
            "marker": {
             "pattern": {
              "fillmode": "overlay",
              "size": 10,
              "solidity": 0.2
             }
            },
            "type": "histogram"
           }
          ],
          "histogram2d": [
           {
            "colorbar": {
             "outlinewidth": 0,
             "ticks": ""
            },
            "colorscale": [
             [
              0,
              "#0d0887"
             ],
             [
              0.1111111111111111,
              "#46039f"
             ],
             [
              0.2222222222222222,
              "#7201a8"
             ],
             [
              0.3333333333333333,
              "#9c179e"
             ],
             [
              0.4444444444444444,
              "#bd3786"
             ],
             [
              0.5555555555555556,
              "#d8576b"
             ],
             [
              0.6666666666666666,
              "#ed7953"
             ],
             [
              0.7777777777777778,
              "#fb9f3a"
             ],
             [
              0.8888888888888888,
              "#fdca26"
             ],
             [
              1,
              "#f0f921"
             ]
            ],
            "type": "histogram2d"
           }
          ],
          "histogram2dcontour": [
           {
            "colorbar": {
             "outlinewidth": 0,
             "ticks": ""
            },
            "colorscale": [
             [
              0,
              "#0d0887"
             ],
             [
              0.1111111111111111,
              "#46039f"
             ],
             [
              0.2222222222222222,
              "#7201a8"
             ],
             [
              0.3333333333333333,
              "#9c179e"
             ],
             [
              0.4444444444444444,
              "#bd3786"
             ],
             [
              0.5555555555555556,
              "#d8576b"
             ],
             [
              0.6666666666666666,
              "#ed7953"
             ],
             [
              0.7777777777777778,
              "#fb9f3a"
             ],
             [
              0.8888888888888888,
              "#fdca26"
             ],
             [
              1,
              "#f0f921"
             ]
            ],
            "type": "histogram2dcontour"
           }
          ],
          "mesh3d": [
           {
            "colorbar": {
             "outlinewidth": 0,
             "ticks": ""
            },
            "type": "mesh3d"
           }
          ],
          "parcoords": [
           {
            "line": {
             "colorbar": {
              "outlinewidth": 0,
              "ticks": ""
             }
            },
            "type": "parcoords"
           }
          ],
          "pie": [
           {
            "automargin": true,
            "type": "pie"
           }
          ],
          "scatter": [
           {
            "fillpattern": {
             "fillmode": "overlay",
             "size": 10,
             "solidity": 0.2
            },
            "type": "scatter"
           }
          ],
          "scatter3d": [
           {
            "line": {
             "colorbar": {
              "outlinewidth": 0,
              "ticks": ""
             }
            },
            "marker": {
             "colorbar": {
              "outlinewidth": 0,
              "ticks": ""
             }
            },
            "type": "scatter3d"
           }
          ],
          "scattercarpet": [
           {
            "marker": {
             "colorbar": {
              "outlinewidth": 0,
              "ticks": ""
             }
            },
            "type": "scattercarpet"
           }
          ],
          "scattergeo": [
           {
            "marker": {
             "colorbar": {
              "outlinewidth": 0,
              "ticks": ""
             }
            },
            "type": "scattergeo"
           }
          ],
          "scattergl": [
           {
            "marker": {
             "colorbar": {
              "outlinewidth": 0,
              "ticks": ""
             }
            },
            "type": "scattergl"
           }
          ],
          "scattermapbox": [
           {
            "marker": {
             "colorbar": {
              "outlinewidth": 0,
              "ticks": ""
             }
            },
            "type": "scattermapbox"
           }
          ],
          "scatterpolar": [
           {
            "marker": {
             "colorbar": {
              "outlinewidth": 0,
              "ticks": ""
             }
            },
            "type": "scatterpolar"
           }
          ],
          "scatterpolargl": [
           {
            "marker": {
             "colorbar": {
              "outlinewidth": 0,
              "ticks": ""
             }
            },
            "type": "scatterpolargl"
           }
          ],
          "scatterternary": [
           {
            "marker": {
             "colorbar": {
              "outlinewidth": 0,
              "ticks": ""
             }
            },
            "type": "scatterternary"
           }
          ],
          "surface": [
           {
            "colorbar": {
             "outlinewidth": 0,
             "ticks": ""
            },
            "colorscale": [
             [
              0,
              "#0d0887"
             ],
             [
              0.1111111111111111,
              "#46039f"
             ],
             [
              0.2222222222222222,
              "#7201a8"
             ],
             [
              0.3333333333333333,
              "#9c179e"
             ],
             [
              0.4444444444444444,
              "#bd3786"
             ],
             [
              0.5555555555555556,
              "#d8576b"
             ],
             [
              0.6666666666666666,
              "#ed7953"
             ],
             [
              0.7777777777777778,
              "#fb9f3a"
             ],
             [
              0.8888888888888888,
              "#fdca26"
             ],
             [
              1,
              "#f0f921"
             ]
            ],
            "type": "surface"
           }
          ],
          "table": [
           {
            "cells": {
             "fill": {
              "color": "#EBF0F8"
             },
             "line": {
              "color": "white"
             }
            },
            "header": {
             "fill": {
              "color": "#C8D4E3"
             },
             "line": {
              "color": "white"
             }
            },
            "type": "table"
           }
          ]
         },
         "layout": {
          "annotationdefaults": {
           "arrowcolor": "#2a3f5f",
           "arrowhead": 0,
           "arrowwidth": 1
          },
          "autotypenumbers": "strict",
          "coloraxis": {
           "colorbar": {
            "outlinewidth": 0,
            "ticks": ""
           }
          },
          "colorscale": {
           "diverging": [
            [
             0,
             "#8e0152"
            ],
            [
             0.1,
             "#c51b7d"
            ],
            [
             0.2,
             "#de77ae"
            ],
            [
             0.3,
             "#f1b6da"
            ],
            [
             0.4,
             "#fde0ef"
            ],
            [
             0.5,
             "#f7f7f7"
            ],
            [
             0.6,
             "#e6f5d0"
            ],
            [
             0.7,
             "#b8e186"
            ],
            [
             0.8,
             "#7fbc41"
            ],
            [
             0.9,
             "#4d9221"
            ],
            [
             1,
             "#276419"
            ]
           ],
           "sequential": [
            [
             0,
             "#0d0887"
            ],
            [
             0.1111111111111111,
             "#46039f"
            ],
            [
             0.2222222222222222,
             "#7201a8"
            ],
            [
             0.3333333333333333,
             "#9c179e"
            ],
            [
             0.4444444444444444,
             "#bd3786"
            ],
            [
             0.5555555555555556,
             "#d8576b"
            ],
            [
             0.6666666666666666,
             "#ed7953"
            ],
            [
             0.7777777777777778,
             "#fb9f3a"
            ],
            [
             0.8888888888888888,
             "#fdca26"
            ],
            [
             1,
             "#f0f921"
            ]
           ],
           "sequentialminus": [
            [
             0,
             "#0d0887"
            ],
            [
             0.1111111111111111,
             "#46039f"
            ],
            [
             0.2222222222222222,
             "#7201a8"
            ],
            [
             0.3333333333333333,
             "#9c179e"
            ],
            [
             0.4444444444444444,
             "#bd3786"
            ],
            [
             0.5555555555555556,
             "#d8576b"
            ],
            [
             0.6666666666666666,
             "#ed7953"
            ],
            [
             0.7777777777777778,
             "#fb9f3a"
            ],
            [
             0.8888888888888888,
             "#fdca26"
            ],
            [
             1,
             "#f0f921"
            ]
           ]
          },
          "colorway": [
           "#636efa",
           "#EF553B",
           "#00cc96",
           "#ab63fa",
           "#FFA15A",
           "#19d3f3",
           "#FF6692",
           "#B6E880",
           "#FF97FF",
           "#FECB52"
          ],
          "font": {
           "color": "#2a3f5f"
          },
          "geo": {
           "bgcolor": "white",
           "lakecolor": "white",
           "landcolor": "#E5ECF6",
           "showlakes": true,
           "showland": true,
           "subunitcolor": "white"
          },
          "hoverlabel": {
           "align": "left"
          },
          "hovermode": "closest",
          "mapbox": {
           "style": "light"
          },
          "paper_bgcolor": "white",
          "plot_bgcolor": "#E5ECF6",
          "polar": {
           "angularaxis": {
            "gridcolor": "white",
            "linecolor": "white",
            "ticks": ""
           },
           "bgcolor": "#E5ECF6",
           "radialaxis": {
            "gridcolor": "white",
            "linecolor": "white",
            "ticks": ""
           }
          },
          "scene": {
           "xaxis": {
            "backgroundcolor": "#E5ECF6",
            "gridcolor": "white",
            "gridwidth": 2,
            "linecolor": "white",
            "showbackground": true,
            "ticks": "",
            "zerolinecolor": "white"
           },
           "yaxis": {
            "backgroundcolor": "#E5ECF6",
            "gridcolor": "white",
            "gridwidth": 2,
            "linecolor": "white",
            "showbackground": true,
            "ticks": "",
            "zerolinecolor": "white"
           },
           "zaxis": {
            "backgroundcolor": "#E5ECF6",
            "gridcolor": "white",
            "gridwidth": 2,
            "linecolor": "white",
            "showbackground": true,
            "ticks": "",
            "zerolinecolor": "white"
           }
          },
          "shapedefaults": {
           "line": {
            "color": "#2a3f5f"
           }
          },
          "ternary": {
           "aaxis": {
            "gridcolor": "white",
            "linecolor": "white",
            "ticks": ""
           },
           "baxis": {
            "gridcolor": "white",
            "linecolor": "white",
            "ticks": ""
           },
           "bgcolor": "#E5ECF6",
           "caxis": {
            "gridcolor": "white",
            "linecolor": "white",
            "ticks": ""
           }
          },
          "title": {
           "x": 0.05
          },
          "xaxis": {
           "automargin": true,
           "gridcolor": "white",
           "linecolor": "white",
           "ticks": "",
           "title": {
            "standoff": 15
           },
           "zerolinecolor": "white",
           "zerolinewidth": 2
          },
          "yaxis": {
           "automargin": true,
           "gridcolor": "white",
           "linecolor": "white",
           "ticks": "",
           "title": {
            "standoff": 15
           },
           "zerolinecolor": "white",
           "zerolinewidth": 2
          }
         }
        },
        "title": {
         "text": "Confusion Matrix"
        },
        "xaxis": {
         "title": {
          "text": "Predicted"
         }
        },
        "yaxis": {
         "title": {
          "text": "Actual"
         }
        }
       }
      }
     },
     "metadata": {},
     "output_type": "display_data"
    }
   ],
   "source": [
    "confusion_matrix_plot(y_test_1, y_pred_dt)"
   ]
  },
  {
   "cell_type": "code",
   "execution_count": 141,
   "metadata": {},
   "outputs": [
    {
     "data": {
      "application/vnd.plotly.v1+json": {
       "config": {
        "plotlyServerURL": "https://plot.ly"
       },
       "data": [
        {
         "colorscale": [
          [
           0,
           "#440154"
          ],
          [
           0.1111111111111111,
           "#482878"
          ],
          [
           0.2222222222222222,
           "#3e4989"
          ],
          [
           0.3333333333333333,
           "#31688e"
          ],
          [
           0.4444444444444444,
           "#26828e"
          ],
          [
           0.5555555555555556,
           "#1f9e89"
          ],
          [
           0.6666666666666666,
           "#35b779"
          ],
          [
           0.7777777777777778,
           "#6ece58"
          ],
          [
           0.8888888888888888,
           "#b5de2b"
          ],
          [
           1,
           "#fde725"
          ]
         ],
         "type": "heatmap",
         "x": [
          "0",
          "1",
          "2"
         ],
         "y": [
          "0",
          "1",
          "2"
         ],
         "z": [
          [
           57,
           0,
           0
          ],
          [
           9,
           54,
           1
          ],
          [
           1,
           4,
           0
          ]
         ]
        }
       ],
       "layout": {
        "annotations": [
         {
          "showarrow": false,
          "text": "57",
          "x": 0,
          "y": 0
         },
         {
          "showarrow": false,
          "text": "0",
          "x": 1,
          "y": 0
         },
         {
          "showarrow": false,
          "text": "0",
          "x": 2,
          "y": 0
         },
         {
          "showarrow": false,
          "text": "9",
          "x": 0,
          "y": 1
         },
         {
          "showarrow": false,
          "text": "54",
          "x": 1,
          "y": 1
         },
         {
          "showarrow": false,
          "text": "1",
          "x": 2,
          "y": 1
         },
         {
          "showarrow": false,
          "text": "1",
          "x": 0,
          "y": 2
         },
         {
          "showarrow": false,
          "text": "4",
          "x": 1,
          "y": 2
         },
         {
          "showarrow": false,
          "text": "0",
          "x": 2,
          "y": 2
         }
        ],
        "template": {
         "data": {
          "bar": [
           {
            "error_x": {
             "color": "#2a3f5f"
            },
            "error_y": {
             "color": "#2a3f5f"
            },
            "marker": {
             "line": {
              "color": "#E5ECF6",
              "width": 0.5
             },
             "pattern": {
              "fillmode": "overlay",
              "size": 10,
              "solidity": 0.2
             }
            },
            "type": "bar"
           }
          ],
          "barpolar": [
           {
            "marker": {
             "line": {
              "color": "#E5ECF6",
              "width": 0.5
             },
             "pattern": {
              "fillmode": "overlay",
              "size": 10,
              "solidity": 0.2
             }
            },
            "type": "barpolar"
           }
          ],
          "carpet": [
           {
            "aaxis": {
             "endlinecolor": "#2a3f5f",
             "gridcolor": "white",
             "linecolor": "white",
             "minorgridcolor": "white",
             "startlinecolor": "#2a3f5f"
            },
            "baxis": {
             "endlinecolor": "#2a3f5f",
             "gridcolor": "white",
             "linecolor": "white",
             "minorgridcolor": "white",
             "startlinecolor": "#2a3f5f"
            },
            "type": "carpet"
           }
          ],
          "choropleth": [
           {
            "colorbar": {
             "outlinewidth": 0,
             "ticks": ""
            },
            "type": "choropleth"
           }
          ],
          "contour": [
           {
            "colorbar": {
             "outlinewidth": 0,
             "ticks": ""
            },
            "colorscale": [
             [
              0,
              "#0d0887"
             ],
             [
              0.1111111111111111,
              "#46039f"
             ],
             [
              0.2222222222222222,
              "#7201a8"
             ],
             [
              0.3333333333333333,
              "#9c179e"
             ],
             [
              0.4444444444444444,
              "#bd3786"
             ],
             [
              0.5555555555555556,
              "#d8576b"
             ],
             [
              0.6666666666666666,
              "#ed7953"
             ],
             [
              0.7777777777777778,
              "#fb9f3a"
             ],
             [
              0.8888888888888888,
              "#fdca26"
             ],
             [
              1,
              "#f0f921"
             ]
            ],
            "type": "contour"
           }
          ],
          "contourcarpet": [
           {
            "colorbar": {
             "outlinewidth": 0,
             "ticks": ""
            },
            "type": "contourcarpet"
           }
          ],
          "heatmap": [
           {
            "colorbar": {
             "outlinewidth": 0,
             "ticks": ""
            },
            "colorscale": [
             [
              0,
              "#0d0887"
             ],
             [
              0.1111111111111111,
              "#46039f"
             ],
             [
              0.2222222222222222,
              "#7201a8"
             ],
             [
              0.3333333333333333,
              "#9c179e"
             ],
             [
              0.4444444444444444,
              "#bd3786"
             ],
             [
              0.5555555555555556,
              "#d8576b"
             ],
             [
              0.6666666666666666,
              "#ed7953"
             ],
             [
              0.7777777777777778,
              "#fb9f3a"
             ],
             [
              0.8888888888888888,
              "#fdca26"
             ],
             [
              1,
              "#f0f921"
             ]
            ],
            "type": "heatmap"
           }
          ],
          "heatmapgl": [
           {
            "colorbar": {
             "outlinewidth": 0,
             "ticks": ""
            },
            "colorscale": [
             [
              0,
              "#0d0887"
             ],
             [
              0.1111111111111111,
              "#46039f"
             ],
             [
              0.2222222222222222,
              "#7201a8"
             ],
             [
              0.3333333333333333,
              "#9c179e"
             ],
             [
              0.4444444444444444,
              "#bd3786"
             ],
             [
              0.5555555555555556,
              "#d8576b"
             ],
             [
              0.6666666666666666,
              "#ed7953"
             ],
             [
              0.7777777777777778,
              "#fb9f3a"
             ],
             [
              0.8888888888888888,
              "#fdca26"
             ],
             [
              1,
              "#f0f921"
             ]
            ],
            "type": "heatmapgl"
           }
          ],
          "histogram": [
           {
            "marker": {
             "pattern": {
              "fillmode": "overlay",
              "size": 10,
              "solidity": 0.2
             }
            },
            "type": "histogram"
           }
          ],
          "histogram2d": [
           {
            "colorbar": {
             "outlinewidth": 0,
             "ticks": ""
            },
            "colorscale": [
             [
              0,
              "#0d0887"
             ],
             [
              0.1111111111111111,
              "#46039f"
             ],
             [
              0.2222222222222222,
              "#7201a8"
             ],
             [
              0.3333333333333333,
              "#9c179e"
             ],
             [
              0.4444444444444444,
              "#bd3786"
             ],
             [
              0.5555555555555556,
              "#d8576b"
             ],
             [
              0.6666666666666666,
              "#ed7953"
             ],
             [
              0.7777777777777778,
              "#fb9f3a"
             ],
             [
              0.8888888888888888,
              "#fdca26"
             ],
             [
              1,
              "#f0f921"
             ]
            ],
            "type": "histogram2d"
           }
          ],
          "histogram2dcontour": [
           {
            "colorbar": {
             "outlinewidth": 0,
             "ticks": ""
            },
            "colorscale": [
             [
              0,
              "#0d0887"
             ],
             [
              0.1111111111111111,
              "#46039f"
             ],
             [
              0.2222222222222222,
              "#7201a8"
             ],
             [
              0.3333333333333333,
              "#9c179e"
             ],
             [
              0.4444444444444444,
              "#bd3786"
             ],
             [
              0.5555555555555556,
              "#d8576b"
             ],
             [
              0.6666666666666666,
              "#ed7953"
             ],
             [
              0.7777777777777778,
              "#fb9f3a"
             ],
             [
              0.8888888888888888,
              "#fdca26"
             ],
             [
              1,
              "#f0f921"
             ]
            ],
            "type": "histogram2dcontour"
           }
          ],
          "mesh3d": [
           {
            "colorbar": {
             "outlinewidth": 0,
             "ticks": ""
            },
            "type": "mesh3d"
           }
          ],
          "parcoords": [
           {
            "line": {
             "colorbar": {
              "outlinewidth": 0,
              "ticks": ""
             }
            },
            "type": "parcoords"
           }
          ],
          "pie": [
           {
            "automargin": true,
            "type": "pie"
           }
          ],
          "scatter": [
           {
            "fillpattern": {
             "fillmode": "overlay",
             "size": 10,
             "solidity": 0.2
            },
            "type": "scatter"
           }
          ],
          "scatter3d": [
           {
            "line": {
             "colorbar": {
              "outlinewidth": 0,
              "ticks": ""
             }
            },
            "marker": {
             "colorbar": {
              "outlinewidth": 0,
              "ticks": ""
             }
            },
            "type": "scatter3d"
           }
          ],
          "scattercarpet": [
           {
            "marker": {
             "colorbar": {
              "outlinewidth": 0,
              "ticks": ""
             }
            },
            "type": "scattercarpet"
           }
          ],
          "scattergeo": [
           {
            "marker": {
             "colorbar": {
              "outlinewidth": 0,
              "ticks": ""
             }
            },
            "type": "scattergeo"
           }
          ],
          "scattergl": [
           {
            "marker": {
             "colorbar": {
              "outlinewidth": 0,
              "ticks": ""
             }
            },
            "type": "scattergl"
           }
          ],
          "scattermapbox": [
           {
            "marker": {
             "colorbar": {
              "outlinewidth": 0,
              "ticks": ""
             }
            },
            "type": "scattermapbox"
           }
          ],
          "scatterpolar": [
           {
            "marker": {
             "colorbar": {
              "outlinewidth": 0,
              "ticks": ""
             }
            },
            "type": "scatterpolar"
           }
          ],
          "scatterpolargl": [
           {
            "marker": {
             "colorbar": {
              "outlinewidth": 0,
              "ticks": ""
             }
            },
            "type": "scatterpolargl"
           }
          ],
          "scatterternary": [
           {
            "marker": {
             "colorbar": {
              "outlinewidth": 0,
              "ticks": ""
             }
            },
            "type": "scatterternary"
           }
          ],
          "surface": [
           {
            "colorbar": {
             "outlinewidth": 0,
             "ticks": ""
            },
            "colorscale": [
             [
              0,
              "#0d0887"
             ],
             [
              0.1111111111111111,
              "#46039f"
             ],
             [
              0.2222222222222222,
              "#7201a8"
             ],
             [
              0.3333333333333333,
              "#9c179e"
             ],
             [
              0.4444444444444444,
              "#bd3786"
             ],
             [
              0.5555555555555556,
              "#d8576b"
             ],
             [
              0.6666666666666666,
              "#ed7953"
             ],
             [
              0.7777777777777778,
              "#fb9f3a"
             ],
             [
              0.8888888888888888,
              "#fdca26"
             ],
             [
              1,
              "#f0f921"
             ]
            ],
            "type": "surface"
           }
          ],
          "table": [
           {
            "cells": {
             "fill": {
              "color": "#EBF0F8"
             },
             "line": {
              "color": "white"
             }
            },
            "header": {
             "fill": {
              "color": "#C8D4E3"
             },
             "line": {
              "color": "white"
             }
            },
            "type": "table"
           }
          ]
         },
         "layout": {
          "annotationdefaults": {
           "arrowcolor": "#2a3f5f",
           "arrowhead": 0,
           "arrowwidth": 1
          },
          "autotypenumbers": "strict",
          "coloraxis": {
           "colorbar": {
            "outlinewidth": 0,
            "ticks": ""
           }
          },
          "colorscale": {
           "diverging": [
            [
             0,
             "#8e0152"
            ],
            [
             0.1,
             "#c51b7d"
            ],
            [
             0.2,
             "#de77ae"
            ],
            [
             0.3,
             "#f1b6da"
            ],
            [
             0.4,
             "#fde0ef"
            ],
            [
             0.5,
             "#f7f7f7"
            ],
            [
             0.6,
             "#e6f5d0"
            ],
            [
             0.7,
             "#b8e186"
            ],
            [
             0.8,
             "#7fbc41"
            ],
            [
             0.9,
             "#4d9221"
            ],
            [
             1,
             "#276419"
            ]
           ],
           "sequential": [
            [
             0,
             "#0d0887"
            ],
            [
             0.1111111111111111,
             "#46039f"
            ],
            [
             0.2222222222222222,
             "#7201a8"
            ],
            [
             0.3333333333333333,
             "#9c179e"
            ],
            [
             0.4444444444444444,
             "#bd3786"
            ],
            [
             0.5555555555555556,
             "#d8576b"
            ],
            [
             0.6666666666666666,
             "#ed7953"
            ],
            [
             0.7777777777777778,
             "#fb9f3a"
            ],
            [
             0.8888888888888888,
             "#fdca26"
            ],
            [
             1,
             "#f0f921"
            ]
           ],
           "sequentialminus": [
            [
             0,
             "#0d0887"
            ],
            [
             0.1111111111111111,
             "#46039f"
            ],
            [
             0.2222222222222222,
             "#7201a8"
            ],
            [
             0.3333333333333333,
             "#9c179e"
            ],
            [
             0.4444444444444444,
             "#bd3786"
            ],
            [
             0.5555555555555556,
             "#d8576b"
            ],
            [
             0.6666666666666666,
             "#ed7953"
            ],
            [
             0.7777777777777778,
             "#fb9f3a"
            ],
            [
             0.8888888888888888,
             "#fdca26"
            ],
            [
             1,
             "#f0f921"
            ]
           ]
          },
          "colorway": [
           "#636efa",
           "#EF553B",
           "#00cc96",
           "#ab63fa",
           "#FFA15A",
           "#19d3f3",
           "#FF6692",
           "#B6E880",
           "#FF97FF",
           "#FECB52"
          ],
          "font": {
           "color": "#2a3f5f"
          },
          "geo": {
           "bgcolor": "white",
           "lakecolor": "white",
           "landcolor": "#E5ECF6",
           "showlakes": true,
           "showland": true,
           "subunitcolor": "white"
          },
          "hoverlabel": {
           "align": "left"
          },
          "hovermode": "closest",
          "mapbox": {
           "style": "light"
          },
          "paper_bgcolor": "white",
          "plot_bgcolor": "#E5ECF6",
          "polar": {
           "angularaxis": {
            "gridcolor": "white",
            "linecolor": "white",
            "ticks": ""
           },
           "bgcolor": "#E5ECF6",
           "radialaxis": {
            "gridcolor": "white",
            "linecolor": "white",
            "ticks": ""
           }
          },
          "scene": {
           "xaxis": {
            "backgroundcolor": "#E5ECF6",
            "gridcolor": "white",
            "gridwidth": 2,
            "linecolor": "white",
            "showbackground": true,
            "ticks": "",
            "zerolinecolor": "white"
           },
           "yaxis": {
            "backgroundcolor": "#E5ECF6",
            "gridcolor": "white",
            "gridwidth": 2,
            "linecolor": "white",
            "showbackground": true,
            "ticks": "",
            "zerolinecolor": "white"
           },
           "zaxis": {
            "backgroundcolor": "#E5ECF6",
            "gridcolor": "white",
            "gridwidth": 2,
            "linecolor": "white",
            "showbackground": true,
            "ticks": "",
            "zerolinecolor": "white"
           }
          },
          "shapedefaults": {
           "line": {
            "color": "#2a3f5f"
           }
          },
          "ternary": {
           "aaxis": {
            "gridcolor": "white",
            "linecolor": "white",
            "ticks": ""
           },
           "baxis": {
            "gridcolor": "white",
            "linecolor": "white",
            "ticks": ""
           },
           "bgcolor": "#E5ECF6",
           "caxis": {
            "gridcolor": "white",
            "linecolor": "white",
            "ticks": ""
           }
          },
          "title": {
           "x": 0.05
          },
          "xaxis": {
           "automargin": true,
           "gridcolor": "white",
           "linecolor": "white",
           "ticks": "",
           "title": {
            "standoff": 15
           },
           "zerolinecolor": "white",
           "zerolinewidth": 2
          },
          "yaxis": {
           "automargin": true,
           "gridcolor": "white",
           "linecolor": "white",
           "ticks": "",
           "title": {
            "standoff": 15
           },
           "zerolinecolor": "white",
           "zerolinewidth": 2
          }
         }
        },
        "title": {
         "text": "Confusion Matrix"
        },
        "xaxis": {
         "title": {
          "text": "Predicted"
         }
        },
        "yaxis": {
         "title": {
          "text": "Actual"
         }
        }
       }
      }
     },
     "metadata": {},
     "output_type": "display_data"
    }
   ],
   "source": [
    "confusion_matrix_plot(y_test_1, y_pred_rf)"
   ]
  },
  {
   "cell_type": "code",
   "execution_count": 143,
   "metadata": {},
   "outputs": [
    {
     "data": {
      "application/vnd.plotly.v1+json": {
       "config": {
        "plotlyServerURL": "https://plot.ly"
       },
       "data": [
        {
         "colorscale": [
          [
           0,
           "#440154"
          ],
          [
           0.1111111111111111,
           "#482878"
          ],
          [
           0.2222222222222222,
           "#3e4989"
          ],
          [
           0.3333333333333333,
           "#31688e"
          ],
          [
           0.4444444444444444,
           "#26828e"
          ],
          [
           0.5555555555555556,
           "#1f9e89"
          ],
          [
           0.6666666666666666,
           "#35b779"
          ],
          [
           0.7777777777777778,
           "#6ece58"
          ],
          [
           0.8888888888888888,
           "#b5de2b"
          ],
          [
           1,
           "#fde725"
          ]
         ],
         "type": "heatmap",
         "x": [
          "0",
          "1",
          "2"
         ],
         "y": [
          "0",
          "1",
          "2"
         ],
         "z": [
          [
           52,
           5,
           0
          ],
          [
           5,
           59,
           0
          ],
          [
           0,
           5,
           0
          ]
         ]
        }
       ],
       "layout": {
        "annotations": [
         {
          "showarrow": false,
          "text": "52",
          "x": 0,
          "y": 0
         },
         {
          "showarrow": false,
          "text": "5",
          "x": 1,
          "y": 0
         },
         {
          "showarrow": false,
          "text": "0",
          "x": 2,
          "y": 0
         },
         {
          "showarrow": false,
          "text": "5",
          "x": 0,
          "y": 1
         },
         {
          "showarrow": false,
          "text": "59",
          "x": 1,
          "y": 1
         },
         {
          "showarrow": false,
          "text": "0",
          "x": 2,
          "y": 1
         },
         {
          "showarrow": false,
          "text": "0",
          "x": 0,
          "y": 2
         },
         {
          "showarrow": false,
          "text": "5",
          "x": 1,
          "y": 2
         },
         {
          "showarrow": false,
          "text": "0",
          "x": 2,
          "y": 2
         }
        ],
        "template": {
         "data": {
          "bar": [
           {
            "error_x": {
             "color": "#2a3f5f"
            },
            "error_y": {
             "color": "#2a3f5f"
            },
            "marker": {
             "line": {
              "color": "#E5ECF6",
              "width": 0.5
             },
             "pattern": {
              "fillmode": "overlay",
              "size": 10,
              "solidity": 0.2
             }
            },
            "type": "bar"
           }
          ],
          "barpolar": [
           {
            "marker": {
             "line": {
              "color": "#E5ECF6",
              "width": 0.5
             },
             "pattern": {
              "fillmode": "overlay",
              "size": 10,
              "solidity": 0.2
             }
            },
            "type": "barpolar"
           }
          ],
          "carpet": [
           {
            "aaxis": {
             "endlinecolor": "#2a3f5f",
             "gridcolor": "white",
             "linecolor": "white",
             "minorgridcolor": "white",
             "startlinecolor": "#2a3f5f"
            },
            "baxis": {
             "endlinecolor": "#2a3f5f",
             "gridcolor": "white",
             "linecolor": "white",
             "minorgridcolor": "white",
             "startlinecolor": "#2a3f5f"
            },
            "type": "carpet"
           }
          ],
          "choropleth": [
           {
            "colorbar": {
             "outlinewidth": 0,
             "ticks": ""
            },
            "type": "choropleth"
           }
          ],
          "contour": [
           {
            "colorbar": {
             "outlinewidth": 0,
             "ticks": ""
            },
            "colorscale": [
             [
              0,
              "#0d0887"
             ],
             [
              0.1111111111111111,
              "#46039f"
             ],
             [
              0.2222222222222222,
              "#7201a8"
             ],
             [
              0.3333333333333333,
              "#9c179e"
             ],
             [
              0.4444444444444444,
              "#bd3786"
             ],
             [
              0.5555555555555556,
              "#d8576b"
             ],
             [
              0.6666666666666666,
              "#ed7953"
             ],
             [
              0.7777777777777778,
              "#fb9f3a"
             ],
             [
              0.8888888888888888,
              "#fdca26"
             ],
             [
              1,
              "#f0f921"
             ]
            ],
            "type": "contour"
           }
          ],
          "contourcarpet": [
           {
            "colorbar": {
             "outlinewidth": 0,
             "ticks": ""
            },
            "type": "contourcarpet"
           }
          ],
          "heatmap": [
           {
            "colorbar": {
             "outlinewidth": 0,
             "ticks": ""
            },
            "colorscale": [
             [
              0,
              "#0d0887"
             ],
             [
              0.1111111111111111,
              "#46039f"
             ],
             [
              0.2222222222222222,
              "#7201a8"
             ],
             [
              0.3333333333333333,
              "#9c179e"
             ],
             [
              0.4444444444444444,
              "#bd3786"
             ],
             [
              0.5555555555555556,
              "#d8576b"
             ],
             [
              0.6666666666666666,
              "#ed7953"
             ],
             [
              0.7777777777777778,
              "#fb9f3a"
             ],
             [
              0.8888888888888888,
              "#fdca26"
             ],
             [
              1,
              "#f0f921"
             ]
            ],
            "type": "heatmap"
           }
          ],
          "heatmapgl": [
           {
            "colorbar": {
             "outlinewidth": 0,
             "ticks": ""
            },
            "colorscale": [
             [
              0,
              "#0d0887"
             ],
             [
              0.1111111111111111,
              "#46039f"
             ],
             [
              0.2222222222222222,
              "#7201a8"
             ],
             [
              0.3333333333333333,
              "#9c179e"
             ],
             [
              0.4444444444444444,
              "#bd3786"
             ],
             [
              0.5555555555555556,
              "#d8576b"
             ],
             [
              0.6666666666666666,
              "#ed7953"
             ],
             [
              0.7777777777777778,
              "#fb9f3a"
             ],
             [
              0.8888888888888888,
              "#fdca26"
             ],
             [
              1,
              "#f0f921"
             ]
            ],
            "type": "heatmapgl"
           }
          ],
          "histogram": [
           {
            "marker": {
             "pattern": {
              "fillmode": "overlay",
              "size": 10,
              "solidity": 0.2
             }
            },
            "type": "histogram"
           }
          ],
          "histogram2d": [
           {
            "colorbar": {
             "outlinewidth": 0,
             "ticks": ""
            },
            "colorscale": [
             [
              0,
              "#0d0887"
             ],
             [
              0.1111111111111111,
              "#46039f"
             ],
             [
              0.2222222222222222,
              "#7201a8"
             ],
             [
              0.3333333333333333,
              "#9c179e"
             ],
             [
              0.4444444444444444,
              "#bd3786"
             ],
             [
              0.5555555555555556,
              "#d8576b"
             ],
             [
              0.6666666666666666,
              "#ed7953"
             ],
             [
              0.7777777777777778,
              "#fb9f3a"
             ],
             [
              0.8888888888888888,
              "#fdca26"
             ],
             [
              1,
              "#f0f921"
             ]
            ],
            "type": "histogram2d"
           }
          ],
          "histogram2dcontour": [
           {
            "colorbar": {
             "outlinewidth": 0,
             "ticks": ""
            },
            "colorscale": [
             [
              0,
              "#0d0887"
             ],
             [
              0.1111111111111111,
              "#46039f"
             ],
             [
              0.2222222222222222,
              "#7201a8"
             ],
             [
              0.3333333333333333,
              "#9c179e"
             ],
             [
              0.4444444444444444,
              "#bd3786"
             ],
             [
              0.5555555555555556,
              "#d8576b"
             ],
             [
              0.6666666666666666,
              "#ed7953"
             ],
             [
              0.7777777777777778,
              "#fb9f3a"
             ],
             [
              0.8888888888888888,
              "#fdca26"
             ],
             [
              1,
              "#f0f921"
             ]
            ],
            "type": "histogram2dcontour"
           }
          ],
          "mesh3d": [
           {
            "colorbar": {
             "outlinewidth": 0,
             "ticks": ""
            },
            "type": "mesh3d"
           }
          ],
          "parcoords": [
           {
            "line": {
             "colorbar": {
              "outlinewidth": 0,
              "ticks": ""
             }
            },
            "type": "parcoords"
           }
          ],
          "pie": [
           {
            "automargin": true,
            "type": "pie"
           }
          ],
          "scatter": [
           {
            "fillpattern": {
             "fillmode": "overlay",
             "size": 10,
             "solidity": 0.2
            },
            "type": "scatter"
           }
          ],
          "scatter3d": [
           {
            "line": {
             "colorbar": {
              "outlinewidth": 0,
              "ticks": ""
             }
            },
            "marker": {
             "colorbar": {
              "outlinewidth": 0,
              "ticks": ""
             }
            },
            "type": "scatter3d"
           }
          ],
          "scattercarpet": [
           {
            "marker": {
             "colorbar": {
              "outlinewidth": 0,
              "ticks": ""
             }
            },
            "type": "scattercarpet"
           }
          ],
          "scattergeo": [
           {
            "marker": {
             "colorbar": {
              "outlinewidth": 0,
              "ticks": ""
             }
            },
            "type": "scattergeo"
           }
          ],
          "scattergl": [
           {
            "marker": {
             "colorbar": {
              "outlinewidth": 0,
              "ticks": ""
             }
            },
            "type": "scattergl"
           }
          ],
          "scattermapbox": [
           {
            "marker": {
             "colorbar": {
              "outlinewidth": 0,
              "ticks": ""
             }
            },
            "type": "scattermapbox"
           }
          ],
          "scatterpolar": [
           {
            "marker": {
             "colorbar": {
              "outlinewidth": 0,
              "ticks": ""
             }
            },
            "type": "scatterpolar"
           }
          ],
          "scatterpolargl": [
           {
            "marker": {
             "colorbar": {
              "outlinewidth": 0,
              "ticks": ""
             }
            },
            "type": "scatterpolargl"
           }
          ],
          "scatterternary": [
           {
            "marker": {
             "colorbar": {
              "outlinewidth": 0,
              "ticks": ""
             }
            },
            "type": "scatterternary"
           }
          ],
          "surface": [
           {
            "colorbar": {
             "outlinewidth": 0,
             "ticks": ""
            },
            "colorscale": [
             [
              0,
              "#0d0887"
             ],
             [
              0.1111111111111111,
              "#46039f"
             ],
             [
              0.2222222222222222,
              "#7201a8"
             ],
             [
              0.3333333333333333,
              "#9c179e"
             ],
             [
              0.4444444444444444,
              "#bd3786"
             ],
             [
              0.5555555555555556,
              "#d8576b"
             ],
             [
              0.6666666666666666,
              "#ed7953"
             ],
             [
              0.7777777777777778,
              "#fb9f3a"
             ],
             [
              0.8888888888888888,
              "#fdca26"
             ],
             [
              1,
              "#f0f921"
             ]
            ],
            "type": "surface"
           }
          ],
          "table": [
           {
            "cells": {
             "fill": {
              "color": "#EBF0F8"
             },
             "line": {
              "color": "white"
             }
            },
            "header": {
             "fill": {
              "color": "#C8D4E3"
             },
             "line": {
              "color": "white"
             }
            },
            "type": "table"
           }
          ]
         },
         "layout": {
          "annotationdefaults": {
           "arrowcolor": "#2a3f5f",
           "arrowhead": 0,
           "arrowwidth": 1
          },
          "autotypenumbers": "strict",
          "coloraxis": {
           "colorbar": {
            "outlinewidth": 0,
            "ticks": ""
           }
          },
          "colorscale": {
           "diverging": [
            [
             0,
             "#8e0152"
            ],
            [
             0.1,
             "#c51b7d"
            ],
            [
             0.2,
             "#de77ae"
            ],
            [
             0.3,
             "#f1b6da"
            ],
            [
             0.4,
             "#fde0ef"
            ],
            [
             0.5,
             "#f7f7f7"
            ],
            [
             0.6,
             "#e6f5d0"
            ],
            [
             0.7,
             "#b8e186"
            ],
            [
             0.8,
             "#7fbc41"
            ],
            [
             0.9,
             "#4d9221"
            ],
            [
             1,
             "#276419"
            ]
           ],
           "sequential": [
            [
             0,
             "#0d0887"
            ],
            [
             0.1111111111111111,
             "#46039f"
            ],
            [
             0.2222222222222222,
             "#7201a8"
            ],
            [
             0.3333333333333333,
             "#9c179e"
            ],
            [
             0.4444444444444444,
             "#bd3786"
            ],
            [
             0.5555555555555556,
             "#d8576b"
            ],
            [
             0.6666666666666666,
             "#ed7953"
            ],
            [
             0.7777777777777778,
             "#fb9f3a"
            ],
            [
             0.8888888888888888,
             "#fdca26"
            ],
            [
             1,
             "#f0f921"
            ]
           ],
           "sequentialminus": [
            [
             0,
             "#0d0887"
            ],
            [
             0.1111111111111111,
             "#46039f"
            ],
            [
             0.2222222222222222,
             "#7201a8"
            ],
            [
             0.3333333333333333,
             "#9c179e"
            ],
            [
             0.4444444444444444,
             "#bd3786"
            ],
            [
             0.5555555555555556,
             "#d8576b"
            ],
            [
             0.6666666666666666,
             "#ed7953"
            ],
            [
             0.7777777777777778,
             "#fb9f3a"
            ],
            [
             0.8888888888888888,
             "#fdca26"
            ],
            [
             1,
             "#f0f921"
            ]
           ]
          },
          "colorway": [
           "#636efa",
           "#EF553B",
           "#00cc96",
           "#ab63fa",
           "#FFA15A",
           "#19d3f3",
           "#FF6692",
           "#B6E880",
           "#FF97FF",
           "#FECB52"
          ],
          "font": {
           "color": "#2a3f5f"
          },
          "geo": {
           "bgcolor": "white",
           "lakecolor": "white",
           "landcolor": "#E5ECF6",
           "showlakes": true,
           "showland": true,
           "subunitcolor": "white"
          },
          "hoverlabel": {
           "align": "left"
          },
          "hovermode": "closest",
          "mapbox": {
           "style": "light"
          },
          "paper_bgcolor": "white",
          "plot_bgcolor": "#E5ECF6",
          "polar": {
           "angularaxis": {
            "gridcolor": "white",
            "linecolor": "white",
            "ticks": ""
           },
           "bgcolor": "#E5ECF6",
           "radialaxis": {
            "gridcolor": "white",
            "linecolor": "white",
            "ticks": ""
           }
          },
          "scene": {
           "xaxis": {
            "backgroundcolor": "#E5ECF6",
            "gridcolor": "white",
            "gridwidth": 2,
            "linecolor": "white",
            "showbackground": true,
            "ticks": "",
            "zerolinecolor": "white"
           },
           "yaxis": {
            "backgroundcolor": "#E5ECF6",
            "gridcolor": "white",
            "gridwidth": 2,
            "linecolor": "white",
            "showbackground": true,
            "ticks": "",
            "zerolinecolor": "white"
           },
           "zaxis": {
            "backgroundcolor": "#E5ECF6",
            "gridcolor": "white",
            "gridwidth": 2,
            "linecolor": "white",
            "showbackground": true,
            "ticks": "",
            "zerolinecolor": "white"
           }
          },
          "shapedefaults": {
           "line": {
            "color": "#2a3f5f"
           }
          },
          "ternary": {
           "aaxis": {
            "gridcolor": "white",
            "linecolor": "white",
            "ticks": ""
           },
           "baxis": {
            "gridcolor": "white",
            "linecolor": "white",
            "ticks": ""
           },
           "bgcolor": "#E5ECF6",
           "caxis": {
            "gridcolor": "white",
            "linecolor": "white",
            "ticks": ""
           }
          },
          "title": {
           "x": 0.05
          },
          "xaxis": {
           "automargin": true,
           "gridcolor": "white",
           "linecolor": "white",
           "ticks": "",
           "title": {
            "standoff": 15
           },
           "zerolinecolor": "white",
           "zerolinewidth": 2
          },
          "yaxis": {
           "automargin": true,
           "gridcolor": "white",
           "linecolor": "white",
           "ticks": "",
           "title": {
            "standoff": 15
           },
           "zerolinecolor": "white",
           "zerolinewidth": 2
          }
         }
        },
        "title": {
         "text": "Confusion Matrix"
        },
        "xaxis": {
         "title": {
          "text": "Predicted"
         }
        },
        "yaxis": {
         "title": {
          "text": "Actual"
         }
        }
       }
      }
     },
     "metadata": {},
     "output_type": "display_data"
    }
   ],
   "source": [
    "confusion_matrix_plot(y_test_1, y_pred_knn)"
   ]
  },
  {
   "cell_type": "markdown",
   "metadata": {},
   "source": [
    "KNN"
   ]
  },
  {
   "cell_type": "code",
   "execution_count": 19,
   "metadata": {},
   "outputs": [
    {
     "name": "stdout",
     "output_type": "stream",
     "text": [
      "              precision    recall  f1-score   support\n",
      "\n",
      "           0       0.91      0.91      0.91        57\n",
      "           1       0.86      0.92      0.89        64\n",
      "           2       0.00      0.00      0.00         5\n",
      "\n",
      "    accuracy                           0.88       126\n",
      "   macro avg       0.59      0.61      0.60       126\n",
      "weighted avg       0.85      0.88      0.86       126\n",
      "\n"
     ]
    },
    {
     "name": "stderr",
     "output_type": "stream",
     "text": [
      "c:\\Users\\lenovo\\AppData\\Local\\Programs\\Python\\Python311\\Lib\\site-packages\\sklearn\\metrics\\_classification.py:1471: UndefinedMetricWarning: Precision and F-score are ill-defined and being set to 0.0 in labels with no predicted samples. Use `zero_division` parameter to control this behavior.\n",
      "  _warn_prf(average, modifier, msg_start, len(result))\n",
      "c:\\Users\\lenovo\\AppData\\Local\\Programs\\Python\\Python311\\Lib\\site-packages\\sklearn\\metrics\\_classification.py:1471: UndefinedMetricWarning: Precision and F-score are ill-defined and being set to 0.0 in labels with no predicted samples. Use `zero_division` parameter to control this behavior.\n",
      "  _warn_prf(average, modifier, msg_start, len(result))\n",
      "c:\\Users\\lenovo\\AppData\\Local\\Programs\\Python\\Python311\\Lib\\site-packages\\sklearn\\metrics\\_classification.py:1471: UndefinedMetricWarning: Precision and F-score are ill-defined and being set to 0.0 in labels with no predicted samples. Use `zero_division` parameter to control this behavior.\n",
      "  _warn_prf(average, modifier, msg_start, len(result))\n"
     ]
    }
   ],
   "source": [
    "print(classification_report(y_test_2,knn_pred))"
   ]
  },
  {
   "cell_type": "code",
   "execution_count": 156,
   "metadata": {},
   "outputs": [
    {
     "ename": "IndexError",
     "evalue": "list index out of range",
     "output_type": "error",
     "traceback": [
      "\u001b[1;31m---------------------------------------------------------------------------\u001b[0m",
      "\u001b[1;31mIndexError\u001b[0m                                Traceback (most recent call last)",
      "Cell \u001b[1;32mIn[156], line 7\u001b[0m\n\u001b[0;32m      5\u001b[0m         matrix[y_true[i]][y_pred[i]]\u001b[38;5;241m+\u001b[39m\u001b[38;5;241m=\u001b[39m\u001b[38;5;241m1\u001b[39m\n\u001b[0;32m      6\u001b[0m     \u001b[38;5;28;01mreturn\u001b[39;00m matrix\n\u001b[1;32m----> 7\u001b[0m cm_knn \u001b[38;5;241m=\u001b[39m \u001b[43mconfusion_matrix\u001b[49m\u001b[43m(\u001b[49m\u001b[43my_test_1\u001b[49m\u001b[43m,\u001b[49m\u001b[43m \u001b[49m\u001b[43mknn_pred\u001b[49m\u001b[43m)\u001b[49m\n\u001b[0;32m      8\u001b[0m sns\u001b[38;5;241m.\u001b[39mheatmap(cm_knn, annot\u001b[38;5;241m=\u001b[39m\u001b[38;5;28;01mTrue\u001b[39;00m)\n\u001b[0;32m      9\u001b[0m plt\u001b[38;5;241m.\u001b[39mtitle(\u001b[38;5;124m'\u001b[39m\u001b[38;5;124mConfusion matrix for KNN\u001b[39m\u001b[38;5;124m'\u001b[39m)\n",
      "Cell \u001b[1;32mIn[156], line 5\u001b[0m, in \u001b[0;36mconfusion_matrix\u001b[1;34m(y_true, y_pred)\u001b[0m\n\u001b[0;32m      3\u001b[0m matrix\u001b[38;5;241m=\u001b[39mnp\u001b[38;5;241m.\u001b[39mzeros((\u001b[38;5;28mlen\u001b[39m(classes),\u001b[38;5;28mlen\u001b[39m(classes)))\n\u001b[0;32m      4\u001b[0m \u001b[38;5;28;01mfor\u001b[39;00m i \u001b[38;5;129;01min\u001b[39;00m \u001b[38;5;28mrange\u001b[39m(\u001b[38;5;28mlen\u001b[39m(y_true)):\n\u001b[1;32m----> 5\u001b[0m     matrix[y_true[i]][\u001b[43my_pred\u001b[49m\u001b[43m[\u001b[49m\u001b[43mi\u001b[49m\u001b[43m]\u001b[49m]\u001b[38;5;241m+\u001b[39m\u001b[38;5;241m=\u001b[39m\u001b[38;5;241m1\u001b[39m\n\u001b[0;32m      6\u001b[0m \u001b[38;5;28;01mreturn\u001b[39;00m matrix\n",
      "\u001b[1;31mIndexError\u001b[0m: list index out of range"
     ]
    }
   ],
   "source": [
    "def confusion_matrix(y_true,y_pred):\n",
    "    classes=np.unique(y_true)\n",
    "    matrix=np.zeros((len(classes),len(classes)))\n",
    "    for i in range(len(y_true)):\n",
    "        matrix[y_true[i]][y_pred[i]]+=1\n",
    "    return matrix\n",
    "cm_knn = confusion_matrix(y_test_1, knn_pred)\n",
    "sns.heatmap(cm_knn, annot=True)\n",
    "plt.title('Confusion matrix for KNN')\n",
    "plt.ylabel('Actual label')\n",
    "plt.xlabel('Predicted label')\n",
    "plt.show()"
   ]
  },
  {
   "cell_type": "code",
   "execution_count": null,
   "metadata": {},
   "outputs": [],
   "source": [
    "knn_cm=confusion_matrix(y_test_2,knn_pred)"
   ]
  },
  {
   "cell_type": "markdown",
   "metadata": {},
   "source": [
    "Effet des hyperparametres sur le classifieur:"
   ]
  },
  {
   "cell_type": "code",
   "execution_count": 10,
   "metadata": {},
   "outputs": [
    {
     "name": "stderr",
     "output_type": "stream",
     "text": [
      "c:\\Users\\Meriem\\AppData\\Local\\Programs\\Python\\Python312\\Lib\\site-packages\\sklearn\\model_selection\\_validation.py:425: FitFailedWarning: \n",
      "66 fits failed out of a total of 900.\n",
      "The score on these train-test partitions for these parameters will be set to nan.\n",
      "If these failures are not expected, you can try to debug them by setting error_score='raise'.\n",
      "\n",
      "Below are more details about the failures:\n",
      "--------------------------------------------------------------------------------\n",
      "1 fits failed with the following error:\n",
      "Traceback (most recent call last):\n",
      "  File \"c:\\Users\\Meriem\\AppData\\Local\\Programs\\Python\\Python312\\Lib\\site-packages\\sklearn\\model_selection\\_validation.py\", line 729, in _fit_and_score\n",
      "    estimator.fit(X_train, y_train, **fit_params)\n",
      "  File \"d:\\TRETEC\\M2 SII\\Data Mining\\TP\\Projet\\algorithms.py\", line 30, in fit\n",
      "    self.root = self._grow_tree(X, y)\n",
      "                ^^^^^^^^^^^^^^^^^^^^^\n",
      "  File \"d:\\TRETEC\\M2 SII\\Data Mining\\TP\\Projet\\algorithms.py\", line 50, in _grow_tree\n",
      "    left_child = self._grow_tree(X[left_idxs,:], y[left_idxs], depth=depth+1)\n",
      "                 ^^^^^^^^^^^^^^^^^^^^^^^^^^^^^^^^^^^^^^^^^^^^^^^^^^^^^^^^^^^^\n",
      "  File \"d:\\TRETEC\\M2 SII\\Data Mining\\TP\\Projet\\algorithms.py\", line 50, in _grow_tree\n",
      "    left_child = self._grow_tree(X[left_idxs,:], y[left_idxs], depth=depth+1)\n",
      "                 ^^^^^^^^^^^^^^^^^^^^^^^^^^^^^^^^^^^^^^^^^^^^^^^^^^^^^^^^^^^^\n",
      "  File \"d:\\TRETEC\\M2 SII\\Data Mining\\TP\\Projet\\algorithms.py\", line 50, in _grow_tree\n",
      "    left_child = self._grow_tree(X[left_idxs,:], y[left_idxs], depth=depth+1)\n",
      "                 ^^^^^^^^^^^^^^^^^^^^^^^^^^^^^^^^^^^^^^^^^^^^^^^^^^^^^^^^^^^^\n",
      "  [Previous line repeated 5 more times]\n",
      "  File \"d:\\TRETEC\\M2 SII\\Data Mining\\TP\\Projet\\algorithms.py\", line 51, in _grow_tree\n",
      "    right_child = self._grow_tree(X[right_idxs,:], y[right_idxs], depth=depth+1)\n",
      "                  ^^^^^^^^^^^^^^^^^^^^^^^^^^^^^^^^^^^^^^^^^^^^^^^^^^^^^^^^^^^^^^\n",
      "  File \"d:\\TRETEC\\M2 SII\\Data Mining\\TP\\Projet\\algorithms.py\", line 51, in _grow_tree\n",
      "    right_child = self._grow_tree(X[right_idxs,:], y[right_idxs], depth=depth+1)\n",
      "                  ^^^^^^^^^^^^^^^^^^^^^^^^^^^^^^^^^^^^^^^^^^^^^^^^^^^^^^^^^^^^^^\n",
      "  File \"d:\\TRETEC\\M2 SII\\Data Mining\\TP\\Projet\\algorithms.py\", line 40, in _grow_tree\n",
      "    leaf_value = self._most_common_label(y)\n",
      "                 ^^^^^^^^^^^^^^^^^^^^^^^^^^\n",
      "  File \"d:\\TRETEC\\M2 SII\\Data Mining\\TP\\Projet\\algorithms.py\", line 72, in _most_common_label\n",
      "    most_common = counter.most_common(1)[0][0]\n",
      "                  ~~~~~~~~~~~~~~~~~~~~~~^^^\n",
      "IndexError: list index out of range\n",
      "\n",
      "--------------------------------------------------------------------------------\n",
      "1 fits failed with the following error:\n",
      "Traceback (most recent call last):\n",
      "  File \"c:\\Users\\Meriem\\AppData\\Local\\Programs\\Python\\Python312\\Lib\\site-packages\\sklearn\\model_selection\\_validation.py\", line 729, in _fit_and_score\n",
      "    estimator.fit(X_train, y_train, **fit_params)\n",
      "  File \"d:\\TRETEC\\M2 SII\\Data Mining\\TP\\Projet\\algorithms.py\", line 30, in fit\n",
      "    self.root = self._grow_tree(X, y)\n",
      "                ^^^^^^^^^^^^^^^^^^^^^\n",
      "  File \"d:\\TRETEC\\M2 SII\\Data Mining\\TP\\Projet\\algorithms.py\", line 51, in _grow_tree\n",
      "    right_child = self._grow_tree(X[right_idxs,:], y[right_idxs], depth=depth+1)\n",
      "                  ^^^^^^^^^^^^^^^^^^^^^^^^^^^^^^^^^^^^^^^^^^^^^^^^^^^^^^^^^^^^^^\n",
      "  File \"d:\\TRETEC\\M2 SII\\Data Mining\\TP\\Projet\\algorithms.py\", line 50, in _grow_tree\n",
      "    left_child = self._grow_tree(X[left_idxs,:], y[left_idxs], depth=depth+1)\n",
      "                 ^^^^^^^^^^^^^^^^^^^^^^^^^^^^^^^^^^^^^^^^^^^^^^^^^^^^^^^^^^^^\n",
      "  File \"d:\\TRETEC\\M2 SII\\Data Mining\\TP\\Projet\\algorithms.py\", line 50, in _grow_tree\n",
      "    left_child = self._grow_tree(X[left_idxs,:], y[left_idxs], depth=depth+1)\n",
      "                 ^^^^^^^^^^^^^^^^^^^^^^^^^^^^^^^^^^^^^^^^^^^^^^^^^^^^^^^^^^^^\n",
      "  File \"d:\\TRETEC\\M2 SII\\Data Mining\\TP\\Projet\\algorithms.py\", line 50, in _grow_tree\n",
      "    left_child = self._grow_tree(X[left_idxs,:], y[left_idxs], depth=depth+1)\n",
      "                 ^^^^^^^^^^^^^^^^^^^^^^^^^^^^^^^^^^^^^^^^^^^^^^^^^^^^^^^^^^^^\n",
      "  [Previous line repeated 4 more times]\n",
      "  File \"d:\\TRETEC\\M2 SII\\Data Mining\\TP\\Projet\\algorithms.py\", line 51, in _grow_tree\n",
      "    right_child = self._grow_tree(X[right_idxs,:], y[right_idxs], depth=depth+1)\n",
      "                  ^^^^^^^^^^^^^^^^^^^^^^^^^^^^^^^^^^^^^^^^^^^^^^^^^^^^^^^^^^^^^^\n",
      "  File \"d:\\TRETEC\\M2 SII\\Data Mining\\TP\\Projet\\algorithms.py\", line 50, in _grow_tree\n",
      "    left_child = self._grow_tree(X[left_idxs,:], y[left_idxs], depth=depth+1)\n",
      "                 ^^^^^^^^^^^^^^^^^^^^^^^^^^^^^^^^^^^^^^^^^^^^^^^^^^^^^^^^^^^^\n",
      "  File \"d:\\TRETEC\\M2 SII\\Data Mining\\TP\\Projet\\algorithms.py\", line 50, in _grow_tree\n",
      "    left_child = self._grow_tree(X[left_idxs,:], y[left_idxs], depth=depth+1)\n",
      "                 ^^^^^^^^^^^^^^^^^^^^^^^^^^^^^^^^^^^^^^^^^^^^^^^^^^^^^^^^^^^^\n",
      "  File \"d:\\TRETEC\\M2 SII\\Data Mining\\TP\\Projet\\algorithms.py\", line 51, in _grow_tree\n",
      "    right_child = self._grow_tree(X[right_idxs,:], y[right_idxs], depth=depth+1)\n",
      "                  ^^^^^^^^^^^^^^^^^^^^^^^^^^^^^^^^^^^^^^^^^^^^^^^^^^^^^^^^^^^^^^\n",
      "  File \"d:\\TRETEC\\M2 SII\\Data Mining\\TP\\Projet\\algorithms.py\", line 40, in _grow_tree\n",
      "    leaf_value = self._most_common_label(y)\n",
      "                 ^^^^^^^^^^^^^^^^^^^^^^^^^^\n",
      "  File \"d:\\TRETEC\\M2 SII\\Data Mining\\TP\\Projet\\algorithms.py\", line 72, in _most_common_label\n",
      "    most_common = counter.most_common(1)[0][0]\n",
      "                  ~~~~~~~~~~~~~~~~~~~~~~^^^\n",
      "IndexError: list index out of range\n",
      "\n",
      "--------------------------------------------------------------------------------\n",
      "1 fits failed with the following error:\n",
      "Traceback (most recent call last):\n",
      "  File \"c:\\Users\\Meriem\\AppData\\Local\\Programs\\Python\\Python312\\Lib\\site-packages\\sklearn\\model_selection\\_validation.py\", line 729, in _fit_and_score\n",
      "    estimator.fit(X_train, y_train, **fit_params)\n",
      "  File \"d:\\TRETEC\\M2 SII\\Data Mining\\TP\\Projet\\algorithms.py\", line 30, in fit\n",
      "    self.root = self._grow_tree(X, y)\n",
      "                ^^^^^^^^^^^^^^^^^^^^^\n",
      "  File \"d:\\TRETEC\\M2 SII\\Data Mining\\TP\\Projet\\algorithms.py\", line 50, in _grow_tree\n",
      "    left_child = self._grow_tree(X[left_idxs,:], y[left_idxs], depth=depth+1)\n",
      "                 ^^^^^^^^^^^^^^^^^^^^^^^^^^^^^^^^^^^^^^^^^^^^^^^^^^^^^^^^^^^^\n",
      "  File \"d:\\TRETEC\\M2 SII\\Data Mining\\TP\\Projet\\algorithms.py\", line 50, in _grow_tree\n",
      "    left_child = self._grow_tree(X[left_idxs,:], y[left_idxs], depth=depth+1)\n",
      "                 ^^^^^^^^^^^^^^^^^^^^^^^^^^^^^^^^^^^^^^^^^^^^^^^^^^^^^^^^^^^^\n",
      "  File \"d:\\TRETEC\\M2 SII\\Data Mining\\TP\\Projet\\algorithms.py\", line 50, in _grow_tree\n",
      "    left_child = self._grow_tree(X[left_idxs,:], y[left_idxs], depth=depth+1)\n",
      "                 ^^^^^^^^^^^^^^^^^^^^^^^^^^^^^^^^^^^^^^^^^^^^^^^^^^^^^^^^^^^^\n",
      "  File \"d:\\TRETEC\\M2 SII\\Data Mining\\TP\\Projet\\algorithms.py\", line 51, in _grow_tree\n",
      "    right_child = self._grow_tree(X[right_idxs,:], y[right_idxs], depth=depth+1)\n",
      "                  ^^^^^^^^^^^^^^^^^^^^^^^^^^^^^^^^^^^^^^^^^^^^^^^^^^^^^^^^^^^^^^\n",
      "  File \"d:\\TRETEC\\M2 SII\\Data Mining\\TP\\Projet\\algorithms.py\", line 50, in _grow_tree\n",
      "    left_child = self._grow_tree(X[left_idxs,:], y[left_idxs], depth=depth+1)\n",
      "                 ^^^^^^^^^^^^^^^^^^^^^^^^^^^^^^^^^^^^^^^^^^^^^^^^^^^^^^^^^^^^\n",
      "  File \"d:\\TRETEC\\M2 SII\\Data Mining\\TP\\Projet\\algorithms.py\", line 50, in _grow_tree\n",
      "    left_child = self._grow_tree(X[left_idxs,:], y[left_idxs], depth=depth+1)\n",
      "                 ^^^^^^^^^^^^^^^^^^^^^^^^^^^^^^^^^^^^^^^^^^^^^^^^^^^^^^^^^^^^\n",
      "  File \"d:\\TRETEC\\M2 SII\\Data Mining\\TP\\Projet\\algorithms.py\", line 50, in _grow_tree\n",
      "    left_child = self._grow_tree(X[left_idxs,:], y[left_idxs], depth=depth+1)\n",
      "                 ^^^^^^^^^^^^^^^^^^^^^^^^^^^^^^^^^^^^^^^^^^^^^^^^^^^^^^^^^^^^\n",
      "  [Previous line repeated 3 more times]\n",
      "  File \"d:\\TRETEC\\M2 SII\\Data Mining\\TP\\Projet\\algorithms.py\", line 51, in _grow_tree\n",
      "    right_child = self._grow_tree(X[right_idxs,:], y[right_idxs], depth=depth+1)\n",
      "                  ^^^^^^^^^^^^^^^^^^^^^^^^^^^^^^^^^^^^^^^^^^^^^^^^^^^^^^^^^^^^^^\n",
      "  File \"d:\\TRETEC\\M2 SII\\Data Mining\\TP\\Projet\\algorithms.py\", line 50, in _grow_tree\n",
      "    left_child = self._grow_tree(X[left_idxs,:], y[left_idxs], depth=depth+1)\n",
      "                 ^^^^^^^^^^^^^^^^^^^^^^^^^^^^^^^^^^^^^^^^^^^^^^^^^^^^^^^^^^^^\n",
      "  File \"d:\\TRETEC\\M2 SII\\Data Mining\\TP\\Projet\\algorithms.py\", line 50, in _grow_tree\n",
      "    left_child = self._grow_tree(X[left_idxs,:], y[left_idxs], depth=depth+1)\n",
      "                 ^^^^^^^^^^^^^^^^^^^^^^^^^^^^^^^^^^^^^^^^^^^^^^^^^^^^^^^^^^^^\n",
      "  File \"d:\\TRETEC\\M2 SII\\Data Mining\\TP\\Projet\\algorithms.py\", line 51, in _grow_tree\n",
      "    right_child = self._grow_tree(X[right_idxs,:], y[right_idxs], depth=depth+1)\n",
      "                  ^^^^^^^^^^^^^^^^^^^^^^^^^^^^^^^^^^^^^^^^^^^^^^^^^^^^^^^^^^^^^^\n",
      "  File \"d:\\TRETEC\\M2 SII\\Data Mining\\TP\\Projet\\algorithms.py\", line 40, in _grow_tree\n",
      "    leaf_value = self._most_common_label(y)\n",
      "                 ^^^^^^^^^^^^^^^^^^^^^^^^^^\n",
      "  File \"d:\\TRETEC\\M2 SII\\Data Mining\\TP\\Projet\\algorithms.py\", line 72, in _most_common_label\n",
      "    most_common = counter.most_common(1)[0][0]\n",
      "                  ~~~~~~~~~~~~~~~~~~~~~~^^^\n",
      "IndexError: list index out of range\n",
      "\n",
      "--------------------------------------------------------------------------------\n",
      "1 fits failed with the following error:\n",
      "Traceback (most recent call last):\n",
      "  File \"c:\\Users\\Meriem\\AppData\\Local\\Programs\\Python\\Python312\\Lib\\site-packages\\sklearn\\model_selection\\_validation.py\", line 729, in _fit_and_score\n",
      "    estimator.fit(X_train, y_train, **fit_params)\n",
      "  File \"d:\\TRETEC\\M2 SII\\Data Mining\\TP\\Projet\\algorithms.py\", line 30, in fit\n",
      "    self.root = self._grow_tree(X, y)\n",
      "                ^^^^^^^^^^^^^^^^^^^^^\n",
      "  File \"d:\\TRETEC\\M2 SII\\Data Mining\\TP\\Projet\\algorithms.py\", line 50, in _grow_tree\n",
      "    left_child = self._grow_tree(X[left_idxs,:], y[left_idxs], depth=depth+1)\n",
      "                 ^^^^^^^^^^^^^^^^^^^^^^^^^^^^^^^^^^^^^^^^^^^^^^^^^^^^^^^^^^^^\n",
      "  File \"d:\\TRETEC\\M2 SII\\Data Mining\\TP\\Projet\\algorithms.py\", line 50, in _grow_tree\n",
      "    left_child = self._grow_tree(X[left_idxs,:], y[left_idxs], depth=depth+1)\n",
      "                 ^^^^^^^^^^^^^^^^^^^^^^^^^^^^^^^^^^^^^^^^^^^^^^^^^^^^^^^^^^^^\n",
      "  File \"d:\\TRETEC\\M2 SII\\Data Mining\\TP\\Projet\\algorithms.py\", line 50, in _grow_tree\n",
      "    left_child = self._grow_tree(X[left_idxs,:], y[left_idxs], depth=depth+1)\n",
      "                 ^^^^^^^^^^^^^^^^^^^^^^^^^^^^^^^^^^^^^^^^^^^^^^^^^^^^^^^^^^^^\n",
      "  File \"d:\\TRETEC\\M2 SII\\Data Mining\\TP\\Projet\\algorithms.py\", line 51, in _grow_tree\n",
      "    right_child = self._grow_tree(X[right_idxs,:], y[right_idxs], depth=depth+1)\n",
      "                  ^^^^^^^^^^^^^^^^^^^^^^^^^^^^^^^^^^^^^^^^^^^^^^^^^^^^^^^^^^^^^^\n",
      "  File \"d:\\TRETEC\\M2 SII\\Data Mining\\TP\\Projet\\algorithms.py\", line 50, in _grow_tree\n",
      "    left_child = self._grow_tree(X[left_idxs,:], y[left_idxs], depth=depth+1)\n",
      "                 ^^^^^^^^^^^^^^^^^^^^^^^^^^^^^^^^^^^^^^^^^^^^^^^^^^^^^^^^^^^^\n",
      "  File \"d:\\TRETEC\\M2 SII\\Data Mining\\TP\\Projet\\algorithms.py\", line 50, in _grow_tree\n",
      "    left_child = self._grow_tree(X[left_idxs,:], y[left_idxs], depth=depth+1)\n",
      "                 ^^^^^^^^^^^^^^^^^^^^^^^^^^^^^^^^^^^^^^^^^^^^^^^^^^^^^^^^^^^^\n",
      "  File \"d:\\TRETEC\\M2 SII\\Data Mining\\TP\\Projet\\algorithms.py\", line 50, in _grow_tree\n",
      "    left_child = self._grow_tree(X[left_idxs,:], y[left_idxs], depth=depth+1)\n",
      "                 ^^^^^^^^^^^^^^^^^^^^^^^^^^^^^^^^^^^^^^^^^^^^^^^^^^^^^^^^^^^^\n",
      "  File \"d:\\TRETEC\\M2 SII\\Data Mining\\TP\\Projet\\algorithms.py\", line 51, in _grow_tree\n",
      "    right_child = self._grow_tree(X[right_idxs,:], y[right_idxs], depth=depth+1)\n",
      "                  ^^^^^^^^^^^^^^^^^^^^^^^^^^^^^^^^^^^^^^^^^^^^^^^^^^^^^^^^^^^^^^\n",
      "  File \"d:\\TRETEC\\M2 SII\\Data Mining\\TP\\Projet\\algorithms.py\", line 40, in _grow_tree\n",
      "    leaf_value = self._most_common_label(y)\n",
      "                 ^^^^^^^^^^^^^^^^^^^^^^^^^^\n",
      "  File \"d:\\TRETEC\\M2 SII\\Data Mining\\TP\\Projet\\algorithms.py\", line 72, in _most_common_label\n",
      "    most_common = counter.most_common(1)[0][0]\n",
      "                  ~~~~~~~~~~~~~~~~~~~~~~^^^\n",
      "IndexError: list index out of range\n",
      "\n",
      "--------------------------------------------------------------------------------\n",
      "3 fits failed with the following error:\n",
      "Traceback (most recent call last):\n",
      "  File \"c:\\Users\\Meriem\\AppData\\Local\\Programs\\Python\\Python312\\Lib\\site-packages\\sklearn\\model_selection\\_validation.py\", line 729, in _fit_and_score\n",
      "    estimator.fit(X_train, y_train, **fit_params)\n",
      "  File \"d:\\TRETEC\\M2 SII\\Data Mining\\TP\\Projet\\algorithms.py\", line 30, in fit\n",
      "    self.root = self._grow_tree(X, y)\n",
      "                ^^^^^^^^^^^^^^^^^^^^^\n",
      "  File \"d:\\TRETEC\\M2 SII\\Data Mining\\TP\\Projet\\algorithms.py\", line 50, in _grow_tree\n",
      "    left_child = self._grow_tree(X[left_idxs,:], y[left_idxs], depth=depth+1)\n",
      "                 ^^^^^^^^^^^^^^^^^^^^^^^^^^^^^^^^^^^^^^^^^^^^^^^^^^^^^^^^^^^^\n",
      "  File \"d:\\TRETEC\\M2 SII\\Data Mining\\TP\\Projet\\algorithms.py\", line 50, in _grow_tree\n",
      "    left_child = self._grow_tree(X[left_idxs,:], y[left_idxs], depth=depth+1)\n",
      "                 ^^^^^^^^^^^^^^^^^^^^^^^^^^^^^^^^^^^^^^^^^^^^^^^^^^^^^^^^^^^^\n",
      "  File \"d:\\TRETEC\\M2 SII\\Data Mining\\TP\\Projet\\algorithms.py\", line 50, in _grow_tree\n",
      "    left_child = self._grow_tree(X[left_idxs,:], y[left_idxs], depth=depth+1)\n",
      "                 ^^^^^^^^^^^^^^^^^^^^^^^^^^^^^^^^^^^^^^^^^^^^^^^^^^^^^^^^^^^^\n",
      "  [Previous line repeated 1 more time]\n",
      "  File \"d:\\TRETEC\\M2 SII\\Data Mining\\TP\\Projet\\algorithms.py\", line 51, in _grow_tree\n",
      "    right_child = self._grow_tree(X[right_idxs,:], y[right_idxs], depth=depth+1)\n",
      "                  ^^^^^^^^^^^^^^^^^^^^^^^^^^^^^^^^^^^^^^^^^^^^^^^^^^^^^^^^^^^^^^\n",
      "  File \"d:\\TRETEC\\M2 SII\\Data Mining\\TP\\Projet\\algorithms.py\", line 50, in _grow_tree\n",
      "    left_child = self._grow_tree(X[left_idxs,:], y[left_idxs], depth=depth+1)\n",
      "                 ^^^^^^^^^^^^^^^^^^^^^^^^^^^^^^^^^^^^^^^^^^^^^^^^^^^^^^^^^^^^\n",
      "  File \"d:\\TRETEC\\M2 SII\\Data Mining\\TP\\Projet\\algorithms.py\", line 51, in _grow_tree\n",
      "    right_child = self._grow_tree(X[right_idxs,:], y[right_idxs], depth=depth+1)\n",
      "                  ^^^^^^^^^^^^^^^^^^^^^^^^^^^^^^^^^^^^^^^^^^^^^^^^^^^^^^^^^^^^^^\n",
      "  File \"d:\\TRETEC\\M2 SII\\Data Mining\\TP\\Projet\\algorithms.py\", line 51, in _grow_tree\n",
      "    right_child = self._grow_tree(X[right_idxs,:], y[right_idxs], depth=depth+1)\n",
      "                  ^^^^^^^^^^^^^^^^^^^^^^^^^^^^^^^^^^^^^^^^^^^^^^^^^^^^^^^^^^^^^^\n",
      "  File \"d:\\TRETEC\\M2 SII\\Data Mining\\TP\\Projet\\algorithms.py\", line 40, in _grow_tree\n",
      "    leaf_value = self._most_common_label(y)\n",
      "                 ^^^^^^^^^^^^^^^^^^^^^^^^^^\n",
      "  File \"d:\\TRETEC\\M2 SII\\Data Mining\\TP\\Projet\\algorithms.py\", line 72, in _most_common_label\n",
      "    most_common = counter.most_common(1)[0][0]\n",
      "                  ~~~~~~~~~~~~~~~~~~~~~~^^^\n",
      "IndexError: list index out of range\n",
      "\n",
      "--------------------------------------------------------------------------------\n",
      "1 fits failed with the following error:\n",
      "Traceback (most recent call last):\n",
      "  File \"c:\\Users\\Meriem\\AppData\\Local\\Programs\\Python\\Python312\\Lib\\site-packages\\sklearn\\model_selection\\_validation.py\", line 729, in _fit_and_score\n",
      "    estimator.fit(X_train, y_train, **fit_params)\n",
      "  File \"d:\\TRETEC\\M2 SII\\Data Mining\\TP\\Projet\\algorithms.py\", line 30, in fit\n",
      "    self.root = self._grow_tree(X, y)\n",
      "                ^^^^^^^^^^^^^^^^^^^^^\n",
      "  File \"d:\\TRETEC\\M2 SII\\Data Mining\\TP\\Projet\\algorithms.py\", line 50, in _grow_tree\n",
      "    left_child = self._grow_tree(X[left_idxs,:], y[left_idxs], depth=depth+1)\n",
      "                 ^^^^^^^^^^^^^^^^^^^^^^^^^^^^^^^^^^^^^^^^^^^^^^^^^^^^^^^^^^^^\n",
      "  File \"d:\\TRETEC\\M2 SII\\Data Mining\\TP\\Projet\\algorithms.py\", line 51, in _grow_tree\n",
      "    right_child = self._grow_tree(X[right_idxs,:], y[right_idxs], depth=depth+1)\n",
      "                  ^^^^^^^^^^^^^^^^^^^^^^^^^^^^^^^^^^^^^^^^^^^^^^^^^^^^^^^^^^^^^^\n",
      "  File \"d:\\TRETEC\\M2 SII\\Data Mining\\TP\\Projet\\algorithms.py\", line 51, in _grow_tree\n",
      "    right_child = self._grow_tree(X[right_idxs,:], y[right_idxs], depth=depth+1)\n",
      "                  ^^^^^^^^^^^^^^^^^^^^^^^^^^^^^^^^^^^^^^^^^^^^^^^^^^^^^^^^^^^^^^\n",
      "  File \"d:\\TRETEC\\M2 SII\\Data Mining\\TP\\Projet\\algorithms.py\", line 50, in _grow_tree\n",
      "    left_child = self._grow_tree(X[left_idxs,:], y[left_idxs], depth=depth+1)\n",
      "                 ^^^^^^^^^^^^^^^^^^^^^^^^^^^^^^^^^^^^^^^^^^^^^^^^^^^^^^^^^^^^\n",
      "  File \"d:\\TRETEC\\M2 SII\\Data Mining\\TP\\Projet\\algorithms.py\", line 50, in _grow_tree\n",
      "    left_child = self._grow_tree(X[left_idxs,:], y[left_idxs], depth=depth+1)\n",
      "                 ^^^^^^^^^^^^^^^^^^^^^^^^^^^^^^^^^^^^^^^^^^^^^^^^^^^^^^^^^^^^\n",
      "  File \"d:\\TRETEC\\M2 SII\\Data Mining\\TP\\Projet\\algorithms.py\", line 50, in _grow_tree\n",
      "    left_child = self._grow_tree(X[left_idxs,:], y[left_idxs], depth=depth+1)\n",
      "                 ^^^^^^^^^^^^^^^^^^^^^^^^^^^^^^^^^^^^^^^^^^^^^^^^^^^^^^^^^^^^\n",
      "  [Previous line repeated 1 more time]\n",
      "  File \"d:\\TRETEC\\M2 SII\\Data Mining\\TP\\Projet\\algorithms.py\", line 51, in _grow_tree\n",
      "    right_child = self._grow_tree(X[right_idxs,:], y[right_idxs], depth=depth+1)\n",
      "                  ^^^^^^^^^^^^^^^^^^^^^^^^^^^^^^^^^^^^^^^^^^^^^^^^^^^^^^^^^^^^^^\n",
      "  File \"d:\\TRETEC\\M2 SII\\Data Mining\\TP\\Projet\\algorithms.py\", line 51, in _grow_tree\n",
      "    right_child = self._grow_tree(X[right_idxs,:], y[right_idxs], depth=depth+1)\n",
      "                  ^^^^^^^^^^^^^^^^^^^^^^^^^^^^^^^^^^^^^^^^^^^^^^^^^^^^^^^^^^^^^^\n",
      "  File \"d:\\TRETEC\\M2 SII\\Data Mining\\TP\\Projet\\algorithms.py\", line 51, in _grow_tree\n",
      "    right_child = self._grow_tree(X[right_idxs,:], y[right_idxs], depth=depth+1)\n",
      "                  ^^^^^^^^^^^^^^^^^^^^^^^^^^^^^^^^^^^^^^^^^^^^^^^^^^^^^^^^^^^^^^\n",
      "  [Previous line repeated 1 more time]\n",
      "  File \"d:\\TRETEC\\M2 SII\\Data Mining\\TP\\Projet\\algorithms.py\", line 40, in _grow_tree\n",
      "    leaf_value = self._most_common_label(y)\n",
      "                 ^^^^^^^^^^^^^^^^^^^^^^^^^^\n",
      "  File \"d:\\TRETEC\\M2 SII\\Data Mining\\TP\\Projet\\algorithms.py\", line 72, in _most_common_label\n",
      "    most_common = counter.most_common(1)[0][0]\n",
      "                  ~~~~~~~~~~~~~~~~~~~~~~^^^\n",
      "IndexError: list index out of range\n",
      "\n",
      "--------------------------------------------------------------------------------\n",
      "1 fits failed with the following error:\n",
      "Traceback (most recent call last):\n",
      "  File \"c:\\Users\\Meriem\\AppData\\Local\\Programs\\Python\\Python312\\Lib\\site-packages\\sklearn\\model_selection\\_validation.py\", line 729, in _fit_and_score\n",
      "    estimator.fit(X_train, y_train, **fit_params)\n",
      "  File \"d:\\TRETEC\\M2 SII\\Data Mining\\TP\\Projet\\algorithms.py\", line 30, in fit\n",
      "    self.root = self._grow_tree(X, y)\n",
      "                ^^^^^^^^^^^^^^^^^^^^^\n",
      "  File \"d:\\TRETEC\\M2 SII\\Data Mining\\TP\\Projet\\algorithms.py\", line 50, in _grow_tree\n",
      "    left_child = self._grow_tree(X[left_idxs,:], y[left_idxs], depth=depth+1)\n",
      "                 ^^^^^^^^^^^^^^^^^^^^^^^^^^^^^^^^^^^^^^^^^^^^^^^^^^^^^^^^^^^^\n",
      "  File \"d:\\TRETEC\\M2 SII\\Data Mining\\TP\\Projet\\algorithms.py\", line 50, in _grow_tree\n",
      "    left_child = self._grow_tree(X[left_idxs,:], y[left_idxs], depth=depth+1)\n",
      "                 ^^^^^^^^^^^^^^^^^^^^^^^^^^^^^^^^^^^^^^^^^^^^^^^^^^^^^^^^^^^^\n",
      "  File \"d:\\TRETEC\\M2 SII\\Data Mining\\TP\\Projet\\algorithms.py\", line 50, in _grow_tree\n",
      "    left_child = self._grow_tree(X[left_idxs,:], y[left_idxs], depth=depth+1)\n",
      "                 ^^^^^^^^^^^^^^^^^^^^^^^^^^^^^^^^^^^^^^^^^^^^^^^^^^^^^^^^^^^^\n",
      "  File \"d:\\TRETEC\\M2 SII\\Data Mining\\TP\\Projet\\algorithms.py\", line 51, in _grow_tree\n",
      "    right_child = self._grow_tree(X[right_idxs,:], y[right_idxs], depth=depth+1)\n",
      "                  ^^^^^^^^^^^^^^^^^^^^^^^^^^^^^^^^^^^^^^^^^^^^^^^^^^^^^^^^^^^^^^\n",
      "  File \"d:\\TRETEC\\M2 SII\\Data Mining\\TP\\Projet\\algorithms.py\", line 51, in _grow_tree\n",
      "    right_child = self._grow_tree(X[right_idxs,:], y[right_idxs], depth=depth+1)\n",
      "                  ^^^^^^^^^^^^^^^^^^^^^^^^^^^^^^^^^^^^^^^^^^^^^^^^^^^^^^^^^^^^^^\n",
      "  File \"d:\\TRETEC\\M2 SII\\Data Mining\\TP\\Projet\\algorithms.py\", line 50, in _grow_tree\n",
      "    left_child = self._grow_tree(X[left_idxs,:], y[left_idxs], depth=depth+1)\n",
      "                 ^^^^^^^^^^^^^^^^^^^^^^^^^^^^^^^^^^^^^^^^^^^^^^^^^^^^^^^^^^^^\n",
      "  File \"d:\\TRETEC\\M2 SII\\Data Mining\\TP\\Projet\\algorithms.py\", line 50, in _grow_tree\n",
      "    left_child = self._grow_tree(X[left_idxs,:], y[left_idxs], depth=depth+1)\n",
      "                 ^^^^^^^^^^^^^^^^^^^^^^^^^^^^^^^^^^^^^^^^^^^^^^^^^^^^^^^^^^^^\n",
      "  File \"d:\\TRETEC\\M2 SII\\Data Mining\\TP\\Projet\\algorithms.py\", line 51, in _grow_tree\n",
      "    right_child = self._grow_tree(X[right_idxs,:], y[right_idxs], depth=depth+1)\n",
      "                  ^^^^^^^^^^^^^^^^^^^^^^^^^^^^^^^^^^^^^^^^^^^^^^^^^^^^^^^^^^^^^^\n",
      "  File \"d:\\TRETEC\\M2 SII\\Data Mining\\TP\\Projet\\algorithms.py\", line 50, in _grow_tree\n",
      "    left_child = self._grow_tree(X[left_idxs,:], y[left_idxs], depth=depth+1)\n",
      "                 ^^^^^^^^^^^^^^^^^^^^^^^^^^^^^^^^^^^^^^^^^^^^^^^^^^^^^^^^^^^^\n",
      "  File \"d:\\TRETEC\\M2 SII\\Data Mining\\TP\\Projet\\algorithms.py\", line 50, in _grow_tree\n",
      "    left_child = self._grow_tree(X[left_idxs,:], y[left_idxs], depth=depth+1)\n",
      "                 ^^^^^^^^^^^^^^^^^^^^^^^^^^^^^^^^^^^^^^^^^^^^^^^^^^^^^^^^^^^^\n",
      "  File \"d:\\TRETEC\\M2 SII\\Data Mining\\TP\\Projet\\algorithms.py\", line 50, in _grow_tree\n",
      "    left_child = self._grow_tree(X[left_idxs,:], y[left_idxs], depth=depth+1)\n",
      "                 ^^^^^^^^^^^^^^^^^^^^^^^^^^^^^^^^^^^^^^^^^^^^^^^^^^^^^^^^^^^^\n",
      "  [Previous line repeated 1 more time]\n",
      "  File \"d:\\TRETEC\\M2 SII\\Data Mining\\TP\\Projet\\algorithms.py\", line 51, in _grow_tree\n",
      "    right_child = self._grow_tree(X[right_idxs,:], y[right_idxs], depth=depth+1)\n",
      "                  ^^^^^^^^^^^^^^^^^^^^^^^^^^^^^^^^^^^^^^^^^^^^^^^^^^^^^^^^^^^^^^\n",
      "  File \"d:\\TRETEC\\M2 SII\\Data Mining\\TP\\Projet\\algorithms.py\", line 40, in _grow_tree\n",
      "    leaf_value = self._most_common_label(y)\n",
      "                 ^^^^^^^^^^^^^^^^^^^^^^^^^^\n",
      "  File \"d:\\TRETEC\\M2 SII\\Data Mining\\TP\\Projet\\algorithms.py\", line 72, in _most_common_label\n",
      "    most_common = counter.most_common(1)[0][0]\n",
      "                  ~~~~~~~~~~~~~~~~~~~~~~^^^\n",
      "IndexError: list index out of range\n",
      "\n",
      "--------------------------------------------------------------------------------\n",
      "1 fits failed with the following error:\n",
      "Traceback (most recent call last):\n",
      "  File \"c:\\Users\\Meriem\\AppData\\Local\\Programs\\Python\\Python312\\Lib\\site-packages\\sklearn\\model_selection\\_validation.py\", line 729, in _fit_and_score\n",
      "    estimator.fit(X_train, y_train, **fit_params)\n",
      "  File \"d:\\TRETEC\\M2 SII\\Data Mining\\TP\\Projet\\algorithms.py\", line 30, in fit\n",
      "    self.root = self._grow_tree(X, y)\n",
      "                ^^^^^^^^^^^^^^^^^^^^^\n",
      "  File \"d:\\TRETEC\\M2 SII\\Data Mining\\TP\\Projet\\algorithms.py\", line 50, in _grow_tree\n",
      "    left_child = self._grow_tree(X[left_idxs,:], y[left_idxs], depth=depth+1)\n",
      "                 ^^^^^^^^^^^^^^^^^^^^^^^^^^^^^^^^^^^^^^^^^^^^^^^^^^^^^^^^^^^^\n",
      "  File \"d:\\TRETEC\\M2 SII\\Data Mining\\TP\\Projet\\algorithms.py\", line 50, in _grow_tree\n",
      "    left_child = self._grow_tree(X[left_idxs,:], y[left_idxs], depth=depth+1)\n",
      "                 ^^^^^^^^^^^^^^^^^^^^^^^^^^^^^^^^^^^^^^^^^^^^^^^^^^^^^^^^^^^^\n",
      "  File \"d:\\TRETEC\\M2 SII\\Data Mining\\TP\\Projet\\algorithms.py\", line 50, in _grow_tree\n",
      "    left_child = self._grow_tree(X[left_idxs,:], y[left_idxs], depth=depth+1)\n",
      "                 ^^^^^^^^^^^^^^^^^^^^^^^^^^^^^^^^^^^^^^^^^^^^^^^^^^^^^^^^^^^^\n",
      "  [Previous line repeated 4 more times]\n",
      "  File \"d:\\TRETEC\\M2 SII\\Data Mining\\TP\\Projet\\algorithms.py\", line 51, in _grow_tree\n",
      "    right_child = self._grow_tree(X[right_idxs,:], y[right_idxs], depth=depth+1)\n",
      "                  ^^^^^^^^^^^^^^^^^^^^^^^^^^^^^^^^^^^^^^^^^^^^^^^^^^^^^^^^^^^^^^\n",
      "  File \"d:\\TRETEC\\M2 SII\\Data Mining\\TP\\Projet\\algorithms.py\", line 51, in _grow_tree\n",
      "    right_child = self._grow_tree(X[right_idxs,:], y[right_idxs], depth=depth+1)\n",
      "                  ^^^^^^^^^^^^^^^^^^^^^^^^^^^^^^^^^^^^^^^^^^^^^^^^^^^^^^^^^^^^^^\n",
      "  File \"d:\\TRETEC\\M2 SII\\Data Mining\\TP\\Projet\\algorithms.py\", line 51, in _grow_tree\n",
      "    right_child = self._grow_tree(X[right_idxs,:], y[right_idxs], depth=depth+1)\n",
      "                  ^^^^^^^^^^^^^^^^^^^^^^^^^^^^^^^^^^^^^^^^^^^^^^^^^^^^^^^^^^^^^^\n",
      "  File \"d:\\TRETEC\\M2 SII\\Data Mining\\TP\\Projet\\algorithms.py\", line 40, in _grow_tree\n",
      "    leaf_value = self._most_common_label(y)\n",
      "                 ^^^^^^^^^^^^^^^^^^^^^^^^^^\n",
      "  File \"d:\\TRETEC\\M2 SII\\Data Mining\\TP\\Projet\\algorithms.py\", line 72, in _most_common_label\n",
      "    most_common = counter.most_common(1)[0][0]\n",
      "                  ~~~~~~~~~~~~~~~~~~~~~~^^^\n",
      "IndexError: list index out of range\n",
      "\n",
      "--------------------------------------------------------------------------------\n",
      "1 fits failed with the following error:\n",
      "Traceback (most recent call last):\n",
      "  File \"c:\\Users\\Meriem\\AppData\\Local\\Programs\\Python\\Python312\\Lib\\site-packages\\sklearn\\model_selection\\_validation.py\", line 729, in _fit_and_score\n",
      "    estimator.fit(X_train, y_train, **fit_params)\n",
      "  File \"d:\\TRETEC\\M2 SII\\Data Mining\\TP\\Projet\\algorithms.py\", line 30, in fit\n",
      "    self.root = self._grow_tree(X, y)\n",
      "                ^^^^^^^^^^^^^^^^^^^^^\n",
      "  File \"d:\\TRETEC\\M2 SII\\Data Mining\\TP\\Projet\\algorithms.py\", line 50, in _grow_tree\n",
      "    left_child = self._grow_tree(X[left_idxs,:], y[left_idxs], depth=depth+1)\n",
      "                 ^^^^^^^^^^^^^^^^^^^^^^^^^^^^^^^^^^^^^^^^^^^^^^^^^^^^^^^^^^^^\n",
      "  File \"d:\\TRETEC\\M2 SII\\Data Mining\\TP\\Projet\\algorithms.py\", line 50, in _grow_tree\n",
      "    left_child = self._grow_tree(X[left_idxs,:], y[left_idxs], depth=depth+1)\n",
      "                 ^^^^^^^^^^^^^^^^^^^^^^^^^^^^^^^^^^^^^^^^^^^^^^^^^^^^^^^^^^^^\n",
      "  File \"d:\\TRETEC\\M2 SII\\Data Mining\\TP\\Projet\\algorithms.py\", line 50, in _grow_tree\n",
      "    left_child = self._grow_tree(X[left_idxs,:], y[left_idxs], depth=depth+1)\n",
      "                 ^^^^^^^^^^^^^^^^^^^^^^^^^^^^^^^^^^^^^^^^^^^^^^^^^^^^^^^^^^^^\n",
      "  File \"d:\\TRETEC\\M2 SII\\Data Mining\\TP\\Projet\\algorithms.py\", line 51, in _grow_tree\n",
      "    right_child = self._grow_tree(X[right_idxs,:], y[right_idxs], depth=depth+1)\n",
      "                  ^^^^^^^^^^^^^^^^^^^^^^^^^^^^^^^^^^^^^^^^^^^^^^^^^^^^^^^^^^^^^^\n",
      "  File \"d:\\TRETEC\\M2 SII\\Data Mining\\TP\\Projet\\algorithms.py\", line 50, in _grow_tree\n",
      "    left_child = self._grow_tree(X[left_idxs,:], y[left_idxs], depth=depth+1)\n",
      "                 ^^^^^^^^^^^^^^^^^^^^^^^^^^^^^^^^^^^^^^^^^^^^^^^^^^^^^^^^^^^^\n",
      "  File \"d:\\TRETEC\\M2 SII\\Data Mining\\TP\\Projet\\algorithms.py\", line 50, in _grow_tree\n",
      "    left_child = self._grow_tree(X[left_idxs,:], y[left_idxs], depth=depth+1)\n",
      "                 ^^^^^^^^^^^^^^^^^^^^^^^^^^^^^^^^^^^^^^^^^^^^^^^^^^^^^^^^^^^^\n",
      "  File \"d:\\TRETEC\\M2 SII\\Data Mining\\TP\\Projet\\algorithms.py\", line 50, in _grow_tree\n",
      "    left_child = self._grow_tree(X[left_idxs,:], y[left_idxs], depth=depth+1)\n",
      "                 ^^^^^^^^^^^^^^^^^^^^^^^^^^^^^^^^^^^^^^^^^^^^^^^^^^^^^^^^^^^^\n",
      "  [Previous line repeated 1 more time]\n",
      "  File \"d:\\TRETEC\\M2 SII\\Data Mining\\TP\\Projet\\algorithms.py\", line 51, in _grow_tree\n",
      "    right_child = self._grow_tree(X[right_idxs,:], y[right_idxs], depth=depth+1)\n",
      "                  ^^^^^^^^^^^^^^^^^^^^^^^^^^^^^^^^^^^^^^^^^^^^^^^^^^^^^^^^^^^^^^\n",
      "  File \"d:\\TRETEC\\M2 SII\\Data Mining\\TP\\Projet\\algorithms.py\", line 40, in _grow_tree\n",
      "    leaf_value = self._most_common_label(y)\n",
      "                 ^^^^^^^^^^^^^^^^^^^^^^^^^^\n",
      "  File \"d:\\TRETEC\\M2 SII\\Data Mining\\TP\\Projet\\algorithms.py\", line 72, in _most_common_label\n",
      "    most_common = counter.most_common(1)[0][0]\n",
      "                  ~~~~~~~~~~~~~~~~~~~~~~^^^\n",
      "IndexError: list index out of range\n",
      "\n",
      "--------------------------------------------------------------------------------\n",
      "1 fits failed with the following error:\n",
      "Traceback (most recent call last):\n",
      "  File \"c:\\Users\\Meriem\\AppData\\Local\\Programs\\Python\\Python312\\Lib\\site-packages\\sklearn\\model_selection\\_validation.py\", line 729, in _fit_and_score\n",
      "    estimator.fit(X_train, y_train, **fit_params)\n",
      "  File \"d:\\TRETEC\\M2 SII\\Data Mining\\TP\\Projet\\algorithms.py\", line 30, in fit\n",
      "    self.root = self._grow_tree(X, y)\n",
      "                ^^^^^^^^^^^^^^^^^^^^^\n",
      "  File \"d:\\TRETEC\\M2 SII\\Data Mining\\TP\\Projet\\algorithms.py\", line 51, in _grow_tree\n",
      "    right_child = self._grow_tree(X[right_idxs,:], y[right_idxs], depth=depth+1)\n",
      "                  ^^^^^^^^^^^^^^^^^^^^^^^^^^^^^^^^^^^^^^^^^^^^^^^^^^^^^^^^^^^^^^\n",
      "  File \"d:\\TRETEC\\M2 SII\\Data Mining\\TP\\Projet\\algorithms.py\", line 50, in _grow_tree\n",
      "    left_child = self._grow_tree(X[left_idxs,:], y[left_idxs], depth=depth+1)\n",
      "                 ^^^^^^^^^^^^^^^^^^^^^^^^^^^^^^^^^^^^^^^^^^^^^^^^^^^^^^^^^^^^\n",
      "  File \"d:\\TRETEC\\M2 SII\\Data Mining\\TP\\Projet\\algorithms.py\", line 50, in _grow_tree\n",
      "    left_child = self._grow_tree(X[left_idxs,:], y[left_idxs], depth=depth+1)\n",
      "                 ^^^^^^^^^^^^^^^^^^^^^^^^^^^^^^^^^^^^^^^^^^^^^^^^^^^^^^^^^^^^\n",
      "  File \"d:\\TRETEC\\M2 SII\\Data Mining\\TP\\Projet\\algorithms.py\", line 50, in _grow_tree\n",
      "    left_child = self._grow_tree(X[left_idxs,:], y[left_idxs], depth=depth+1)\n",
      "                 ^^^^^^^^^^^^^^^^^^^^^^^^^^^^^^^^^^^^^^^^^^^^^^^^^^^^^^^^^^^^\n",
      "  [Previous line repeated 1 more time]\n",
      "  File \"d:\\TRETEC\\M2 SII\\Data Mining\\TP\\Projet\\algorithms.py\", line 51, in _grow_tree\n",
      "    right_child = self._grow_tree(X[right_idxs,:], y[right_idxs], depth=depth+1)\n",
      "                  ^^^^^^^^^^^^^^^^^^^^^^^^^^^^^^^^^^^^^^^^^^^^^^^^^^^^^^^^^^^^^^\n",
      "  File \"d:\\TRETEC\\M2 SII\\Data Mining\\TP\\Projet\\algorithms.py\", line 50, in _grow_tree\n",
      "    left_child = self._grow_tree(X[left_idxs,:], y[left_idxs], depth=depth+1)\n",
      "                 ^^^^^^^^^^^^^^^^^^^^^^^^^^^^^^^^^^^^^^^^^^^^^^^^^^^^^^^^^^^^\n",
      "  File \"d:\\TRETEC\\M2 SII\\Data Mining\\TP\\Projet\\algorithms.py\", line 51, in _grow_tree\n",
      "    right_child = self._grow_tree(X[right_idxs,:], y[right_idxs], depth=depth+1)\n",
      "                  ^^^^^^^^^^^^^^^^^^^^^^^^^^^^^^^^^^^^^^^^^^^^^^^^^^^^^^^^^^^^^^\n",
      "  File \"d:\\TRETEC\\M2 SII\\Data Mining\\TP\\Projet\\algorithms.py\", line 50, in _grow_tree\n",
      "    left_child = self._grow_tree(X[left_idxs,:], y[left_idxs], depth=depth+1)\n",
      "                 ^^^^^^^^^^^^^^^^^^^^^^^^^^^^^^^^^^^^^^^^^^^^^^^^^^^^^^^^^^^^\n",
      "  File \"d:\\TRETEC\\M2 SII\\Data Mining\\TP\\Projet\\algorithms.py\", line 50, in _grow_tree\n",
      "    left_child = self._grow_tree(X[left_idxs,:], y[left_idxs], depth=depth+1)\n",
      "                 ^^^^^^^^^^^^^^^^^^^^^^^^^^^^^^^^^^^^^^^^^^^^^^^^^^^^^^^^^^^^\n",
      "  File \"d:\\TRETEC\\M2 SII\\Data Mining\\TP\\Projet\\algorithms.py\", line 51, in _grow_tree\n",
      "    right_child = self._grow_tree(X[right_idxs,:], y[right_idxs], depth=depth+1)\n",
      "                  ^^^^^^^^^^^^^^^^^^^^^^^^^^^^^^^^^^^^^^^^^^^^^^^^^^^^^^^^^^^^^^\n",
      "  File \"d:\\TRETEC\\M2 SII\\Data Mining\\TP\\Projet\\algorithms.py\", line 40, in _grow_tree\n",
      "    leaf_value = self._most_common_label(y)\n",
      "                 ^^^^^^^^^^^^^^^^^^^^^^^^^^\n",
      "  File \"d:\\TRETEC\\M2 SII\\Data Mining\\TP\\Projet\\algorithms.py\", line 72, in _most_common_label\n",
      "    most_common = counter.most_common(1)[0][0]\n",
      "                  ~~~~~~~~~~~~~~~~~~~~~~^^^\n",
      "IndexError: list index out of range\n",
      "\n",
      "--------------------------------------------------------------------------------\n",
      "1 fits failed with the following error:\n",
      "Traceback (most recent call last):\n",
      "  File \"c:\\Users\\Meriem\\AppData\\Local\\Programs\\Python\\Python312\\Lib\\site-packages\\sklearn\\model_selection\\_validation.py\", line 729, in _fit_and_score\n",
      "    estimator.fit(X_train, y_train, **fit_params)\n",
      "  File \"d:\\TRETEC\\M2 SII\\Data Mining\\TP\\Projet\\algorithms.py\", line 30, in fit\n",
      "    self.root = self._grow_tree(X, y)\n",
      "                ^^^^^^^^^^^^^^^^^^^^^\n",
      "  File \"d:\\TRETEC\\M2 SII\\Data Mining\\TP\\Projet\\algorithms.py\", line 51, in _grow_tree\n",
      "    right_child = self._grow_tree(X[right_idxs,:], y[right_idxs], depth=depth+1)\n",
      "                  ^^^^^^^^^^^^^^^^^^^^^^^^^^^^^^^^^^^^^^^^^^^^^^^^^^^^^^^^^^^^^^\n",
      "  File \"d:\\TRETEC\\M2 SII\\Data Mining\\TP\\Projet\\algorithms.py\", line 50, in _grow_tree\n",
      "    left_child = self._grow_tree(X[left_idxs,:], y[left_idxs], depth=depth+1)\n",
      "                 ^^^^^^^^^^^^^^^^^^^^^^^^^^^^^^^^^^^^^^^^^^^^^^^^^^^^^^^^^^^^\n",
      "  File \"d:\\TRETEC\\M2 SII\\Data Mining\\TP\\Projet\\algorithms.py\", line 50, in _grow_tree\n",
      "    left_child = self._grow_tree(X[left_idxs,:], y[left_idxs], depth=depth+1)\n",
      "                 ^^^^^^^^^^^^^^^^^^^^^^^^^^^^^^^^^^^^^^^^^^^^^^^^^^^^^^^^^^^^\n",
      "  File \"d:\\TRETEC\\M2 SII\\Data Mining\\TP\\Projet\\algorithms.py\", line 51, in _grow_tree\n",
      "    right_child = self._grow_tree(X[right_idxs,:], y[right_idxs], depth=depth+1)\n",
      "                  ^^^^^^^^^^^^^^^^^^^^^^^^^^^^^^^^^^^^^^^^^^^^^^^^^^^^^^^^^^^^^^\n",
      "  File \"d:\\TRETEC\\M2 SII\\Data Mining\\TP\\Projet\\algorithms.py\", line 40, in _grow_tree\n",
      "    leaf_value = self._most_common_label(y)\n",
      "                 ^^^^^^^^^^^^^^^^^^^^^^^^^^\n",
      "  File \"d:\\TRETEC\\M2 SII\\Data Mining\\TP\\Projet\\algorithms.py\", line 72, in _most_common_label\n",
      "    most_common = counter.most_common(1)[0][0]\n",
      "                  ~~~~~~~~~~~~~~~~~~~~~~^^^\n",
      "IndexError: list index out of range\n",
      "\n",
      "--------------------------------------------------------------------------------\n",
      "1 fits failed with the following error:\n",
      "Traceback (most recent call last):\n",
      "  File \"c:\\Users\\Meriem\\AppData\\Local\\Programs\\Python\\Python312\\Lib\\site-packages\\sklearn\\model_selection\\_validation.py\", line 729, in _fit_and_score\n",
      "    estimator.fit(X_train, y_train, **fit_params)\n",
      "  File \"d:\\TRETEC\\M2 SII\\Data Mining\\TP\\Projet\\algorithms.py\", line 30, in fit\n",
      "    self.root = self._grow_tree(X, y)\n",
      "                ^^^^^^^^^^^^^^^^^^^^^\n",
      "  File \"d:\\TRETEC\\M2 SII\\Data Mining\\TP\\Projet\\algorithms.py\", line 50, in _grow_tree\n",
      "    left_child = self._grow_tree(X[left_idxs,:], y[left_idxs], depth=depth+1)\n",
      "                 ^^^^^^^^^^^^^^^^^^^^^^^^^^^^^^^^^^^^^^^^^^^^^^^^^^^^^^^^^^^^\n",
      "  File \"d:\\TRETEC\\M2 SII\\Data Mining\\TP\\Projet\\algorithms.py\", line 50, in _grow_tree\n",
      "    left_child = self._grow_tree(X[left_idxs,:], y[left_idxs], depth=depth+1)\n",
      "                 ^^^^^^^^^^^^^^^^^^^^^^^^^^^^^^^^^^^^^^^^^^^^^^^^^^^^^^^^^^^^\n",
      "  File \"d:\\TRETEC\\M2 SII\\Data Mining\\TP\\Projet\\algorithms.py\", line 50, in _grow_tree\n",
      "    left_child = self._grow_tree(X[left_idxs,:], y[left_idxs], depth=depth+1)\n",
      "                 ^^^^^^^^^^^^^^^^^^^^^^^^^^^^^^^^^^^^^^^^^^^^^^^^^^^^^^^^^^^^\n",
      "  [Previous line repeated 3 more times]\n",
      "  File \"d:\\TRETEC\\M2 SII\\Data Mining\\TP\\Projet\\algorithms.py\", line 51, in _grow_tree\n",
      "    right_child = self._grow_tree(X[right_idxs,:], y[right_idxs], depth=depth+1)\n",
      "                  ^^^^^^^^^^^^^^^^^^^^^^^^^^^^^^^^^^^^^^^^^^^^^^^^^^^^^^^^^^^^^^\n",
      "  File \"d:\\TRETEC\\M2 SII\\Data Mining\\TP\\Projet\\algorithms.py\", line 50, in _grow_tree\n",
      "    left_child = self._grow_tree(X[left_idxs,:], y[left_idxs], depth=depth+1)\n",
      "                 ^^^^^^^^^^^^^^^^^^^^^^^^^^^^^^^^^^^^^^^^^^^^^^^^^^^^^^^^^^^^\n",
      "  File \"d:\\TRETEC\\M2 SII\\Data Mining\\TP\\Projet\\algorithms.py\", line 50, in _grow_tree\n",
      "    left_child = self._grow_tree(X[left_idxs,:], y[left_idxs], depth=depth+1)\n",
      "                 ^^^^^^^^^^^^^^^^^^^^^^^^^^^^^^^^^^^^^^^^^^^^^^^^^^^^^^^^^^^^\n",
      "  File \"d:\\TRETEC\\M2 SII\\Data Mining\\TP\\Projet\\algorithms.py\", line 50, in _grow_tree\n",
      "    left_child = self._grow_tree(X[left_idxs,:], y[left_idxs], depth=depth+1)\n",
      "                 ^^^^^^^^^^^^^^^^^^^^^^^^^^^^^^^^^^^^^^^^^^^^^^^^^^^^^^^^^^^^\n",
      "  File \"d:\\TRETEC\\M2 SII\\Data Mining\\TP\\Projet\\algorithms.py\", line 51, in _grow_tree\n",
      "    right_child = self._grow_tree(X[right_idxs,:], y[right_idxs], depth=depth+1)\n",
      "                  ^^^^^^^^^^^^^^^^^^^^^^^^^^^^^^^^^^^^^^^^^^^^^^^^^^^^^^^^^^^^^^\n",
      "  File \"d:\\TRETEC\\M2 SII\\Data Mining\\TP\\Projet\\algorithms.py\", line 40, in _grow_tree\n",
      "    leaf_value = self._most_common_label(y)\n",
      "                 ^^^^^^^^^^^^^^^^^^^^^^^^^^\n",
      "  File \"d:\\TRETEC\\M2 SII\\Data Mining\\TP\\Projet\\algorithms.py\", line 72, in _most_common_label\n",
      "    most_common = counter.most_common(1)[0][0]\n",
      "                  ~~~~~~~~~~~~~~~~~~~~~~^^^\n",
      "IndexError: list index out of range\n",
      "\n",
      "--------------------------------------------------------------------------------\n",
      "1 fits failed with the following error:\n",
      "Traceback (most recent call last):\n",
      "  File \"c:\\Users\\Meriem\\AppData\\Local\\Programs\\Python\\Python312\\Lib\\site-packages\\sklearn\\model_selection\\_validation.py\", line 729, in _fit_and_score\n",
      "    estimator.fit(X_train, y_train, **fit_params)\n",
      "  File \"d:\\TRETEC\\M2 SII\\Data Mining\\TP\\Projet\\algorithms.py\", line 30, in fit\n",
      "    self.root = self._grow_tree(X, y)\n",
      "                ^^^^^^^^^^^^^^^^^^^^^\n",
      "  File \"d:\\TRETEC\\M2 SII\\Data Mining\\TP\\Projet\\algorithms.py\", line 50, in _grow_tree\n",
      "    left_child = self._grow_tree(X[left_idxs,:], y[left_idxs], depth=depth+1)\n",
      "                 ^^^^^^^^^^^^^^^^^^^^^^^^^^^^^^^^^^^^^^^^^^^^^^^^^^^^^^^^^^^^\n",
      "  File \"d:\\TRETEC\\M2 SII\\Data Mining\\TP\\Projet\\algorithms.py\", line 50, in _grow_tree\n",
      "    left_child = self._grow_tree(X[left_idxs,:], y[left_idxs], depth=depth+1)\n",
      "                 ^^^^^^^^^^^^^^^^^^^^^^^^^^^^^^^^^^^^^^^^^^^^^^^^^^^^^^^^^^^^\n",
      "  File \"d:\\TRETEC\\M2 SII\\Data Mining\\TP\\Projet\\algorithms.py\", line 50, in _grow_tree\n",
      "    left_child = self._grow_tree(X[left_idxs,:], y[left_idxs], depth=depth+1)\n",
      "                 ^^^^^^^^^^^^^^^^^^^^^^^^^^^^^^^^^^^^^^^^^^^^^^^^^^^^^^^^^^^^\n",
      "  File \"d:\\TRETEC\\M2 SII\\Data Mining\\TP\\Projet\\algorithms.py\", line 51, in _grow_tree\n",
      "    right_child = self._grow_tree(X[right_idxs,:], y[right_idxs], depth=depth+1)\n",
      "                  ^^^^^^^^^^^^^^^^^^^^^^^^^^^^^^^^^^^^^^^^^^^^^^^^^^^^^^^^^^^^^^\n",
      "  File \"d:\\TRETEC\\M2 SII\\Data Mining\\TP\\Projet\\algorithms.py\", line 50, in _grow_tree\n",
      "    left_child = self._grow_tree(X[left_idxs,:], y[left_idxs], depth=depth+1)\n",
      "                 ^^^^^^^^^^^^^^^^^^^^^^^^^^^^^^^^^^^^^^^^^^^^^^^^^^^^^^^^^^^^\n",
      "  File \"d:\\TRETEC\\M2 SII\\Data Mining\\TP\\Projet\\algorithms.py\", line 50, in _grow_tree\n",
      "    left_child = self._grow_tree(X[left_idxs,:], y[left_idxs], depth=depth+1)\n",
      "                 ^^^^^^^^^^^^^^^^^^^^^^^^^^^^^^^^^^^^^^^^^^^^^^^^^^^^^^^^^^^^\n",
      "  File \"d:\\TRETEC\\M2 SII\\Data Mining\\TP\\Projet\\algorithms.py\", line 51, in _grow_tree\n",
      "    right_child = self._grow_tree(X[right_idxs,:], y[right_idxs], depth=depth+1)\n",
      "                  ^^^^^^^^^^^^^^^^^^^^^^^^^^^^^^^^^^^^^^^^^^^^^^^^^^^^^^^^^^^^^^\n",
      "  File \"d:\\TRETEC\\M2 SII\\Data Mining\\TP\\Projet\\algorithms.py\", line 51, in _grow_tree\n",
      "    right_child = self._grow_tree(X[right_idxs,:], y[right_idxs], depth=depth+1)\n",
      "                  ^^^^^^^^^^^^^^^^^^^^^^^^^^^^^^^^^^^^^^^^^^^^^^^^^^^^^^^^^^^^^^\n",
      "  File \"d:\\TRETEC\\M2 SII\\Data Mining\\TP\\Projet\\algorithms.py\", line 40, in _grow_tree\n",
      "    leaf_value = self._most_common_label(y)\n",
      "                 ^^^^^^^^^^^^^^^^^^^^^^^^^^\n",
      "  File \"d:\\TRETEC\\M2 SII\\Data Mining\\TP\\Projet\\algorithms.py\", line 72, in _most_common_label\n",
      "    most_common = counter.most_common(1)[0][0]\n",
      "                  ~~~~~~~~~~~~~~~~~~~~~~^^^\n",
      "IndexError: list index out of range\n",
      "\n",
      "--------------------------------------------------------------------------------\n",
      "1 fits failed with the following error:\n",
      "Traceback (most recent call last):\n",
      "  File \"c:\\Users\\Meriem\\AppData\\Local\\Programs\\Python\\Python312\\Lib\\site-packages\\sklearn\\model_selection\\_validation.py\", line 729, in _fit_and_score\n",
      "    estimator.fit(X_train, y_train, **fit_params)\n",
      "  File \"d:\\TRETEC\\M2 SII\\Data Mining\\TP\\Projet\\algorithms.py\", line 30, in fit\n",
      "    self.root = self._grow_tree(X, y)\n",
      "                ^^^^^^^^^^^^^^^^^^^^^\n",
      "  File \"d:\\TRETEC\\M2 SII\\Data Mining\\TP\\Projet\\algorithms.py\", line 50, in _grow_tree\n",
      "    left_child = self._grow_tree(X[left_idxs,:], y[left_idxs], depth=depth+1)\n",
      "                 ^^^^^^^^^^^^^^^^^^^^^^^^^^^^^^^^^^^^^^^^^^^^^^^^^^^^^^^^^^^^\n",
      "  File \"d:\\TRETEC\\M2 SII\\Data Mining\\TP\\Projet\\algorithms.py\", line 51, in _grow_tree\n",
      "    right_child = self._grow_tree(X[right_idxs,:], y[right_idxs], depth=depth+1)\n",
      "                  ^^^^^^^^^^^^^^^^^^^^^^^^^^^^^^^^^^^^^^^^^^^^^^^^^^^^^^^^^^^^^^\n",
      "  File \"d:\\TRETEC\\M2 SII\\Data Mining\\TP\\Projet\\algorithms.py\", line 50, in _grow_tree\n",
      "    left_child = self._grow_tree(X[left_idxs,:], y[left_idxs], depth=depth+1)\n",
      "                 ^^^^^^^^^^^^^^^^^^^^^^^^^^^^^^^^^^^^^^^^^^^^^^^^^^^^^^^^^^^^\n",
      "  File \"d:\\TRETEC\\M2 SII\\Data Mining\\TP\\Projet\\algorithms.py\", line 50, in _grow_tree\n",
      "    left_child = self._grow_tree(X[left_idxs,:], y[left_idxs], depth=depth+1)\n",
      "                 ^^^^^^^^^^^^^^^^^^^^^^^^^^^^^^^^^^^^^^^^^^^^^^^^^^^^^^^^^^^^\n",
      "  File \"d:\\TRETEC\\M2 SII\\Data Mining\\TP\\Projet\\algorithms.py\", line 50, in _grow_tree\n",
      "    left_child = self._grow_tree(X[left_idxs,:], y[left_idxs], depth=depth+1)\n",
      "                 ^^^^^^^^^^^^^^^^^^^^^^^^^^^^^^^^^^^^^^^^^^^^^^^^^^^^^^^^^^^^\n",
      "  [Previous line repeated 2 more times]\n",
      "  File \"d:\\TRETEC\\M2 SII\\Data Mining\\TP\\Projet\\algorithms.py\", line 51, in _grow_tree\n",
      "    right_child = self._grow_tree(X[right_idxs,:], y[right_idxs], depth=depth+1)\n",
      "                  ^^^^^^^^^^^^^^^^^^^^^^^^^^^^^^^^^^^^^^^^^^^^^^^^^^^^^^^^^^^^^^\n",
      "  File \"d:\\TRETEC\\M2 SII\\Data Mining\\TP\\Projet\\algorithms.py\", line 40, in _grow_tree\n",
      "    leaf_value = self._most_common_label(y)\n",
      "                 ^^^^^^^^^^^^^^^^^^^^^^^^^^\n",
      "  File \"d:\\TRETEC\\M2 SII\\Data Mining\\TP\\Projet\\algorithms.py\", line 72, in _most_common_label\n",
      "    most_common = counter.most_common(1)[0][0]\n",
      "                  ~~~~~~~~~~~~~~~~~~~~~~^^^\n",
      "IndexError: list index out of range\n",
      "\n",
      "--------------------------------------------------------------------------------\n",
      "1 fits failed with the following error:\n",
      "Traceback (most recent call last):\n",
      "  File \"c:\\Users\\Meriem\\AppData\\Local\\Programs\\Python\\Python312\\Lib\\site-packages\\sklearn\\model_selection\\_validation.py\", line 729, in _fit_and_score\n",
      "    estimator.fit(X_train, y_train, **fit_params)\n",
      "  File \"d:\\TRETEC\\M2 SII\\Data Mining\\TP\\Projet\\algorithms.py\", line 30, in fit\n",
      "    self.root = self._grow_tree(X, y)\n",
      "                ^^^^^^^^^^^^^^^^^^^^^\n",
      "  File \"d:\\TRETEC\\M2 SII\\Data Mining\\TP\\Projet\\algorithms.py\", line 50, in _grow_tree\n",
      "    left_child = self._grow_tree(X[left_idxs,:], y[left_idxs], depth=depth+1)\n",
      "                 ^^^^^^^^^^^^^^^^^^^^^^^^^^^^^^^^^^^^^^^^^^^^^^^^^^^^^^^^^^^^\n",
      "  File \"d:\\TRETEC\\M2 SII\\Data Mining\\TP\\Projet\\algorithms.py\", line 50, in _grow_tree\n",
      "    left_child = self._grow_tree(X[left_idxs,:], y[left_idxs], depth=depth+1)\n",
      "                 ^^^^^^^^^^^^^^^^^^^^^^^^^^^^^^^^^^^^^^^^^^^^^^^^^^^^^^^^^^^^\n",
      "  File \"d:\\TRETEC\\M2 SII\\Data Mining\\TP\\Projet\\algorithms.py\", line 50, in _grow_tree\n",
      "    left_child = self._grow_tree(X[left_idxs,:], y[left_idxs], depth=depth+1)\n",
      "                 ^^^^^^^^^^^^^^^^^^^^^^^^^^^^^^^^^^^^^^^^^^^^^^^^^^^^^^^^^^^^\n",
      "  [Previous line repeated 4 more times]\n",
      "  File \"d:\\TRETEC\\M2 SII\\Data Mining\\TP\\Projet\\algorithms.py\", line 51, in _grow_tree\n",
      "    right_child = self._grow_tree(X[right_idxs,:], y[right_idxs], depth=depth+1)\n",
      "                  ^^^^^^^^^^^^^^^^^^^^^^^^^^^^^^^^^^^^^^^^^^^^^^^^^^^^^^^^^^^^^^\n",
      "  File \"d:\\TRETEC\\M2 SII\\Data Mining\\TP\\Projet\\algorithms.py\", line 50, in _grow_tree\n",
      "    left_child = self._grow_tree(X[left_idxs,:], y[left_idxs], depth=depth+1)\n",
      "                 ^^^^^^^^^^^^^^^^^^^^^^^^^^^^^^^^^^^^^^^^^^^^^^^^^^^^^^^^^^^^\n",
      "  File \"d:\\TRETEC\\M2 SII\\Data Mining\\TP\\Projet\\algorithms.py\", line 50, in _grow_tree\n",
      "    left_child = self._grow_tree(X[left_idxs,:], y[left_idxs], depth=depth+1)\n",
      "                 ^^^^^^^^^^^^^^^^^^^^^^^^^^^^^^^^^^^^^^^^^^^^^^^^^^^^^^^^^^^^\n",
      "  File \"d:\\TRETEC\\M2 SII\\Data Mining\\TP\\Projet\\algorithms.py\", line 51, in _grow_tree\n",
      "    right_child = self._grow_tree(X[right_idxs,:], y[right_idxs], depth=depth+1)\n",
      "                  ^^^^^^^^^^^^^^^^^^^^^^^^^^^^^^^^^^^^^^^^^^^^^^^^^^^^^^^^^^^^^^\n",
      "  File \"d:\\TRETEC\\M2 SII\\Data Mining\\TP\\Projet\\algorithms.py\", line 51, in _grow_tree\n",
      "    right_child = self._grow_tree(X[right_idxs,:], y[right_idxs], depth=depth+1)\n",
      "                  ^^^^^^^^^^^^^^^^^^^^^^^^^^^^^^^^^^^^^^^^^^^^^^^^^^^^^^^^^^^^^^\n",
      "  File \"d:\\TRETEC\\M2 SII\\Data Mining\\TP\\Projet\\algorithms.py\", line 40, in _grow_tree\n",
      "    leaf_value = self._most_common_label(y)\n",
      "                 ^^^^^^^^^^^^^^^^^^^^^^^^^^\n",
      "  File \"d:\\TRETEC\\M2 SII\\Data Mining\\TP\\Projet\\algorithms.py\", line 72, in _most_common_label\n",
      "    most_common = counter.most_common(1)[0][0]\n",
      "                  ~~~~~~~~~~~~~~~~~~~~~~^^^\n",
      "IndexError: list index out of range\n",
      "\n",
      "--------------------------------------------------------------------------------\n",
      "1 fits failed with the following error:\n",
      "Traceback (most recent call last):\n",
      "  File \"c:\\Users\\Meriem\\AppData\\Local\\Programs\\Python\\Python312\\Lib\\site-packages\\sklearn\\model_selection\\_validation.py\", line 729, in _fit_and_score\n",
      "    estimator.fit(X_train, y_train, **fit_params)\n",
      "  File \"d:\\TRETEC\\M2 SII\\Data Mining\\TP\\Projet\\algorithms.py\", line 30, in fit\n",
      "    self.root = self._grow_tree(X, y)\n",
      "                ^^^^^^^^^^^^^^^^^^^^^\n",
      "  File \"d:\\TRETEC\\M2 SII\\Data Mining\\TP\\Projet\\algorithms.py\", line 50, in _grow_tree\n",
      "    left_child = self._grow_tree(X[left_idxs,:], y[left_idxs], depth=depth+1)\n",
      "                 ^^^^^^^^^^^^^^^^^^^^^^^^^^^^^^^^^^^^^^^^^^^^^^^^^^^^^^^^^^^^\n",
      "  File \"d:\\TRETEC\\M2 SII\\Data Mining\\TP\\Projet\\algorithms.py\", line 50, in _grow_tree\n",
      "    left_child = self._grow_tree(X[left_idxs,:], y[left_idxs], depth=depth+1)\n",
      "                 ^^^^^^^^^^^^^^^^^^^^^^^^^^^^^^^^^^^^^^^^^^^^^^^^^^^^^^^^^^^^\n",
      "  File \"d:\\TRETEC\\M2 SII\\Data Mining\\TP\\Projet\\algorithms.py\", line 50, in _grow_tree\n",
      "    left_child = self._grow_tree(X[left_idxs,:], y[left_idxs], depth=depth+1)\n",
      "                 ^^^^^^^^^^^^^^^^^^^^^^^^^^^^^^^^^^^^^^^^^^^^^^^^^^^^^^^^^^^^\n",
      "  [Previous line repeated 1 more time]\n",
      "  File \"d:\\TRETEC\\M2 SII\\Data Mining\\TP\\Projet\\algorithms.py\", line 51, in _grow_tree\n",
      "    right_child = self._grow_tree(X[right_idxs,:], y[right_idxs], depth=depth+1)\n",
      "                  ^^^^^^^^^^^^^^^^^^^^^^^^^^^^^^^^^^^^^^^^^^^^^^^^^^^^^^^^^^^^^^\n",
      "  File \"d:\\TRETEC\\M2 SII\\Data Mining\\TP\\Projet\\algorithms.py\", line 50, in _grow_tree\n",
      "    left_child = self._grow_tree(X[left_idxs,:], y[left_idxs], depth=depth+1)\n",
      "                 ^^^^^^^^^^^^^^^^^^^^^^^^^^^^^^^^^^^^^^^^^^^^^^^^^^^^^^^^^^^^\n",
      "  File \"d:\\TRETEC\\M2 SII\\Data Mining\\TP\\Projet\\algorithms.py\", line 50, in _grow_tree\n",
      "    left_child = self._grow_tree(X[left_idxs,:], y[left_idxs], depth=depth+1)\n",
      "                 ^^^^^^^^^^^^^^^^^^^^^^^^^^^^^^^^^^^^^^^^^^^^^^^^^^^^^^^^^^^^\n",
      "  File \"d:\\TRETEC\\M2 SII\\Data Mining\\TP\\Projet\\algorithms.py\", line 50, in _grow_tree\n",
      "    left_child = self._grow_tree(X[left_idxs,:], y[left_idxs], depth=depth+1)\n",
      "                 ^^^^^^^^^^^^^^^^^^^^^^^^^^^^^^^^^^^^^^^^^^^^^^^^^^^^^^^^^^^^\n",
      "  File \"d:\\TRETEC\\M2 SII\\Data Mining\\TP\\Projet\\algorithms.py\", line 51, in _grow_tree\n",
      "    right_child = self._grow_tree(X[right_idxs,:], y[right_idxs], depth=depth+1)\n",
      "                  ^^^^^^^^^^^^^^^^^^^^^^^^^^^^^^^^^^^^^^^^^^^^^^^^^^^^^^^^^^^^^^\n",
      "  File \"d:\\TRETEC\\M2 SII\\Data Mining\\TP\\Projet\\algorithms.py\", line 50, in _grow_tree\n",
      "    left_child = self._grow_tree(X[left_idxs,:], y[left_idxs], depth=depth+1)\n",
      "                 ^^^^^^^^^^^^^^^^^^^^^^^^^^^^^^^^^^^^^^^^^^^^^^^^^^^^^^^^^^^^\n",
      "  File \"d:\\TRETEC\\M2 SII\\Data Mining\\TP\\Projet\\algorithms.py\", line 51, in _grow_tree\n",
      "    right_child = self._grow_tree(X[right_idxs,:], y[right_idxs], depth=depth+1)\n",
      "                  ^^^^^^^^^^^^^^^^^^^^^^^^^^^^^^^^^^^^^^^^^^^^^^^^^^^^^^^^^^^^^^\n",
      "  File \"d:\\TRETEC\\M2 SII\\Data Mining\\TP\\Projet\\algorithms.py\", line 50, in _grow_tree\n",
      "    left_child = self._grow_tree(X[left_idxs,:], y[left_idxs], depth=depth+1)\n",
      "                 ^^^^^^^^^^^^^^^^^^^^^^^^^^^^^^^^^^^^^^^^^^^^^^^^^^^^^^^^^^^^\n",
      "  File \"d:\\TRETEC\\M2 SII\\Data Mining\\TP\\Projet\\algorithms.py\", line 50, in _grow_tree\n",
      "    left_child = self._grow_tree(X[left_idxs,:], y[left_idxs], depth=depth+1)\n",
      "                 ^^^^^^^^^^^^^^^^^^^^^^^^^^^^^^^^^^^^^^^^^^^^^^^^^^^^^^^^^^^^\n",
      "  File \"d:\\TRETEC\\M2 SII\\Data Mining\\TP\\Projet\\algorithms.py\", line 50, in _grow_tree\n",
      "    left_child = self._grow_tree(X[left_idxs,:], y[left_idxs], depth=depth+1)\n",
      "                 ^^^^^^^^^^^^^^^^^^^^^^^^^^^^^^^^^^^^^^^^^^^^^^^^^^^^^^^^^^^^\n",
      "  [Previous line repeated 4 more times]\n",
      "  File \"d:\\TRETEC\\M2 SII\\Data Mining\\TP\\Projet\\algorithms.py\", line 51, in _grow_tree\n",
      "    right_child = self._grow_tree(X[right_idxs,:], y[right_idxs], depth=depth+1)\n",
      "                  ^^^^^^^^^^^^^^^^^^^^^^^^^^^^^^^^^^^^^^^^^^^^^^^^^^^^^^^^^^^^^^\n",
      "  File \"d:\\TRETEC\\M2 SII\\Data Mining\\TP\\Projet\\algorithms.py\", line 40, in _grow_tree\n",
      "    leaf_value = self._most_common_label(y)\n",
      "                 ^^^^^^^^^^^^^^^^^^^^^^^^^^\n",
      "  File \"d:\\TRETEC\\M2 SII\\Data Mining\\TP\\Projet\\algorithms.py\", line 72, in _most_common_label\n",
      "    most_common = counter.most_common(1)[0][0]\n",
      "                  ~~~~~~~~~~~~~~~~~~~~~~^^^\n",
      "IndexError: list index out of range\n",
      "\n",
      "--------------------------------------------------------------------------------\n",
      "1 fits failed with the following error:\n",
      "Traceback (most recent call last):\n",
      "  File \"c:\\Users\\Meriem\\AppData\\Local\\Programs\\Python\\Python312\\Lib\\site-packages\\sklearn\\model_selection\\_validation.py\", line 729, in _fit_and_score\n",
      "    estimator.fit(X_train, y_train, **fit_params)\n",
      "  File \"d:\\TRETEC\\M2 SII\\Data Mining\\TP\\Projet\\algorithms.py\", line 30, in fit\n",
      "    self.root = self._grow_tree(X, y)\n",
      "                ^^^^^^^^^^^^^^^^^^^^^\n",
      "  File \"d:\\TRETEC\\M2 SII\\Data Mining\\TP\\Projet\\algorithms.py\", line 50, in _grow_tree\n",
      "    left_child = self._grow_tree(X[left_idxs,:], y[left_idxs], depth=depth+1)\n",
      "                 ^^^^^^^^^^^^^^^^^^^^^^^^^^^^^^^^^^^^^^^^^^^^^^^^^^^^^^^^^^^^\n",
      "  File \"d:\\TRETEC\\M2 SII\\Data Mining\\TP\\Projet\\algorithms.py\", line 50, in _grow_tree\n",
      "    left_child = self._grow_tree(X[left_idxs,:], y[left_idxs], depth=depth+1)\n",
      "                 ^^^^^^^^^^^^^^^^^^^^^^^^^^^^^^^^^^^^^^^^^^^^^^^^^^^^^^^^^^^^\n",
      "  File \"d:\\TRETEC\\M2 SII\\Data Mining\\TP\\Projet\\algorithms.py\", line 51, in _grow_tree\n",
      "    right_child = self._grow_tree(X[right_idxs,:], y[right_idxs], depth=depth+1)\n",
      "                  ^^^^^^^^^^^^^^^^^^^^^^^^^^^^^^^^^^^^^^^^^^^^^^^^^^^^^^^^^^^^^^\n",
      "  File \"d:\\TRETEC\\M2 SII\\Data Mining\\TP\\Projet\\algorithms.py\", line 50, in _grow_tree\n",
      "    left_child = self._grow_tree(X[left_idxs,:], y[left_idxs], depth=depth+1)\n",
      "                 ^^^^^^^^^^^^^^^^^^^^^^^^^^^^^^^^^^^^^^^^^^^^^^^^^^^^^^^^^^^^\n",
      "  File \"d:\\TRETEC\\M2 SII\\Data Mining\\TP\\Projet\\algorithms.py\", line 50, in _grow_tree\n",
      "    left_child = self._grow_tree(X[left_idxs,:], y[left_idxs], depth=depth+1)\n",
      "                 ^^^^^^^^^^^^^^^^^^^^^^^^^^^^^^^^^^^^^^^^^^^^^^^^^^^^^^^^^^^^\n",
      "  File \"d:\\TRETEC\\M2 SII\\Data Mining\\TP\\Projet\\algorithms.py\", line 51, in _grow_tree\n",
      "    right_child = self._grow_tree(X[right_idxs,:], y[right_idxs], depth=depth+1)\n",
      "                  ^^^^^^^^^^^^^^^^^^^^^^^^^^^^^^^^^^^^^^^^^^^^^^^^^^^^^^^^^^^^^^\n",
      "  File \"d:\\TRETEC\\M2 SII\\Data Mining\\TP\\Projet\\algorithms.py\", line 50, in _grow_tree\n",
      "    left_child = self._grow_tree(X[left_idxs,:], y[left_idxs], depth=depth+1)\n",
      "                 ^^^^^^^^^^^^^^^^^^^^^^^^^^^^^^^^^^^^^^^^^^^^^^^^^^^^^^^^^^^^\n",
      "  File \"d:\\TRETEC\\M2 SII\\Data Mining\\TP\\Projet\\algorithms.py\", line 51, in _grow_tree\n",
      "    right_child = self._grow_tree(X[right_idxs,:], y[right_idxs], depth=depth+1)\n",
      "                  ^^^^^^^^^^^^^^^^^^^^^^^^^^^^^^^^^^^^^^^^^^^^^^^^^^^^^^^^^^^^^^\n",
      "  File \"d:\\TRETEC\\M2 SII\\Data Mining\\TP\\Projet\\algorithms.py\", line 50, in _grow_tree\n",
      "    left_child = self._grow_tree(X[left_idxs,:], y[left_idxs], depth=depth+1)\n",
      "                 ^^^^^^^^^^^^^^^^^^^^^^^^^^^^^^^^^^^^^^^^^^^^^^^^^^^^^^^^^^^^\n",
      "  File \"d:\\TRETEC\\M2 SII\\Data Mining\\TP\\Projet\\algorithms.py\", line 50, in _grow_tree\n",
      "    left_child = self._grow_tree(X[left_idxs,:], y[left_idxs], depth=depth+1)\n",
      "                 ^^^^^^^^^^^^^^^^^^^^^^^^^^^^^^^^^^^^^^^^^^^^^^^^^^^^^^^^^^^^\n",
      "  File \"d:\\TRETEC\\M2 SII\\Data Mining\\TP\\Projet\\algorithms.py\", line 51, in _grow_tree\n",
      "    right_child = self._grow_tree(X[right_idxs,:], y[right_idxs], depth=depth+1)\n",
      "                  ^^^^^^^^^^^^^^^^^^^^^^^^^^^^^^^^^^^^^^^^^^^^^^^^^^^^^^^^^^^^^^\n",
      "  File \"d:\\TRETEC\\M2 SII\\Data Mining\\TP\\Projet\\algorithms.py\", line 50, in _grow_tree\n",
      "    left_child = self._grow_tree(X[left_idxs,:], y[left_idxs], depth=depth+1)\n",
      "                 ^^^^^^^^^^^^^^^^^^^^^^^^^^^^^^^^^^^^^^^^^^^^^^^^^^^^^^^^^^^^\n",
      "  File \"d:\\TRETEC\\M2 SII\\Data Mining\\TP\\Projet\\algorithms.py\", line 50, in _grow_tree\n",
      "    left_child = self._grow_tree(X[left_idxs,:], y[left_idxs], depth=depth+1)\n",
      "                 ^^^^^^^^^^^^^^^^^^^^^^^^^^^^^^^^^^^^^^^^^^^^^^^^^^^^^^^^^^^^\n",
      "  File \"d:\\TRETEC\\M2 SII\\Data Mining\\TP\\Projet\\algorithms.py\", line 51, in _grow_tree\n",
      "    right_child = self._grow_tree(X[right_idxs,:], y[right_idxs], depth=depth+1)\n",
      "                  ^^^^^^^^^^^^^^^^^^^^^^^^^^^^^^^^^^^^^^^^^^^^^^^^^^^^^^^^^^^^^^\n",
      "  File \"d:\\TRETEC\\M2 SII\\Data Mining\\TP\\Projet\\algorithms.py\", line 40, in _grow_tree\n",
      "    leaf_value = self._most_common_label(y)\n",
      "                 ^^^^^^^^^^^^^^^^^^^^^^^^^^\n",
      "  File \"d:\\TRETEC\\M2 SII\\Data Mining\\TP\\Projet\\algorithms.py\", line 72, in _most_common_label\n",
      "    most_common = counter.most_common(1)[0][0]\n",
      "                  ~~~~~~~~~~~~~~~~~~~~~~^^^\n",
      "IndexError: list index out of range\n",
      "\n",
      "--------------------------------------------------------------------------------\n",
      "1 fits failed with the following error:\n",
      "Traceback (most recent call last):\n",
      "  File \"c:\\Users\\Meriem\\AppData\\Local\\Programs\\Python\\Python312\\Lib\\site-packages\\sklearn\\model_selection\\_validation.py\", line 729, in _fit_and_score\n",
      "    estimator.fit(X_train, y_train, **fit_params)\n",
      "  File \"d:\\TRETEC\\M2 SII\\Data Mining\\TP\\Projet\\algorithms.py\", line 30, in fit\n",
      "    self.root = self._grow_tree(X, y)\n",
      "                ^^^^^^^^^^^^^^^^^^^^^\n",
      "  File \"d:\\TRETEC\\M2 SII\\Data Mining\\TP\\Projet\\algorithms.py\", line 50, in _grow_tree\n",
      "    left_child = self._grow_tree(X[left_idxs,:], y[left_idxs], depth=depth+1)\n",
      "                 ^^^^^^^^^^^^^^^^^^^^^^^^^^^^^^^^^^^^^^^^^^^^^^^^^^^^^^^^^^^^\n",
      "  File \"d:\\TRETEC\\M2 SII\\Data Mining\\TP\\Projet\\algorithms.py\", line 50, in _grow_tree\n",
      "    left_child = self._grow_tree(X[left_idxs,:], y[left_idxs], depth=depth+1)\n",
      "                 ^^^^^^^^^^^^^^^^^^^^^^^^^^^^^^^^^^^^^^^^^^^^^^^^^^^^^^^^^^^^\n",
      "  File \"d:\\TRETEC\\M2 SII\\Data Mining\\TP\\Projet\\algorithms.py\", line 51, in _grow_tree\n",
      "    right_child = self._grow_tree(X[right_idxs,:], y[right_idxs], depth=depth+1)\n",
      "                  ^^^^^^^^^^^^^^^^^^^^^^^^^^^^^^^^^^^^^^^^^^^^^^^^^^^^^^^^^^^^^^\n",
      "  File \"d:\\TRETEC\\M2 SII\\Data Mining\\TP\\Projet\\algorithms.py\", line 51, in _grow_tree\n",
      "    right_child = self._grow_tree(X[right_idxs,:], y[right_idxs], depth=depth+1)\n",
      "                  ^^^^^^^^^^^^^^^^^^^^^^^^^^^^^^^^^^^^^^^^^^^^^^^^^^^^^^^^^^^^^^\n",
      "  File \"d:\\TRETEC\\M2 SII\\Data Mining\\TP\\Projet\\algorithms.py\", line 50, in _grow_tree\n",
      "    left_child = self._grow_tree(X[left_idxs,:], y[left_idxs], depth=depth+1)\n",
      "                 ^^^^^^^^^^^^^^^^^^^^^^^^^^^^^^^^^^^^^^^^^^^^^^^^^^^^^^^^^^^^\n",
      "  File \"d:\\TRETEC\\M2 SII\\Data Mining\\TP\\Projet\\algorithms.py\", line 51, in _grow_tree\n",
      "    right_child = self._grow_tree(X[right_idxs,:], y[right_idxs], depth=depth+1)\n",
      "                  ^^^^^^^^^^^^^^^^^^^^^^^^^^^^^^^^^^^^^^^^^^^^^^^^^^^^^^^^^^^^^^\n",
      "  File \"d:\\TRETEC\\M2 SII\\Data Mining\\TP\\Projet\\algorithms.py\", line 40, in _grow_tree\n",
      "    leaf_value = self._most_common_label(y)\n",
      "                 ^^^^^^^^^^^^^^^^^^^^^^^^^^\n",
      "  File \"d:\\TRETEC\\M2 SII\\Data Mining\\TP\\Projet\\algorithms.py\", line 72, in _most_common_label\n",
      "    most_common = counter.most_common(1)[0][0]\n",
      "                  ~~~~~~~~~~~~~~~~~~~~~~^^^\n",
      "IndexError: list index out of range\n",
      "\n",
      "--------------------------------------------------------------------------------\n",
      "1 fits failed with the following error:\n",
      "Traceback (most recent call last):\n",
      "  File \"c:\\Users\\Meriem\\AppData\\Local\\Programs\\Python\\Python312\\Lib\\site-packages\\sklearn\\model_selection\\_validation.py\", line 729, in _fit_and_score\n",
      "    estimator.fit(X_train, y_train, **fit_params)\n",
      "  File \"d:\\TRETEC\\M2 SII\\Data Mining\\TP\\Projet\\algorithms.py\", line 30, in fit\n",
      "    self.root = self._grow_tree(X, y)\n",
      "                ^^^^^^^^^^^^^^^^^^^^^\n",
      "  File \"d:\\TRETEC\\M2 SII\\Data Mining\\TP\\Projet\\algorithms.py\", line 50, in _grow_tree\n",
      "    left_child = self._grow_tree(X[left_idxs,:], y[left_idxs], depth=depth+1)\n",
      "                 ^^^^^^^^^^^^^^^^^^^^^^^^^^^^^^^^^^^^^^^^^^^^^^^^^^^^^^^^^^^^\n",
      "  File \"d:\\TRETEC\\M2 SII\\Data Mining\\TP\\Projet\\algorithms.py\", line 50, in _grow_tree\n",
      "    left_child = self._grow_tree(X[left_idxs,:], y[left_idxs], depth=depth+1)\n",
      "                 ^^^^^^^^^^^^^^^^^^^^^^^^^^^^^^^^^^^^^^^^^^^^^^^^^^^^^^^^^^^^\n",
      "  File \"d:\\TRETEC\\M2 SII\\Data Mining\\TP\\Projet\\algorithms.py\", line 50, in _grow_tree\n",
      "    left_child = self._grow_tree(X[left_idxs,:], y[left_idxs], depth=depth+1)\n",
      "                 ^^^^^^^^^^^^^^^^^^^^^^^^^^^^^^^^^^^^^^^^^^^^^^^^^^^^^^^^^^^^\n",
      "  [Previous line repeated 4 more times]\n",
      "  File \"d:\\TRETEC\\M2 SII\\Data Mining\\TP\\Projet\\algorithms.py\", line 51, in _grow_tree\n",
      "    right_child = self._grow_tree(X[right_idxs,:], y[right_idxs], depth=depth+1)\n",
      "                  ^^^^^^^^^^^^^^^^^^^^^^^^^^^^^^^^^^^^^^^^^^^^^^^^^^^^^^^^^^^^^^\n",
      "  File \"d:\\TRETEC\\M2 SII\\Data Mining\\TP\\Projet\\algorithms.py\", line 50, in _grow_tree\n",
      "    left_child = self._grow_tree(X[left_idxs,:], y[left_idxs], depth=depth+1)\n",
      "                 ^^^^^^^^^^^^^^^^^^^^^^^^^^^^^^^^^^^^^^^^^^^^^^^^^^^^^^^^^^^^\n",
      "  File \"d:\\TRETEC\\M2 SII\\Data Mining\\TP\\Projet\\algorithms.py\", line 51, in _grow_tree\n",
      "    right_child = self._grow_tree(X[right_idxs,:], y[right_idxs], depth=depth+1)\n",
      "                  ^^^^^^^^^^^^^^^^^^^^^^^^^^^^^^^^^^^^^^^^^^^^^^^^^^^^^^^^^^^^^^\n",
      "  File \"d:\\TRETEC\\M2 SII\\Data Mining\\TP\\Projet\\algorithms.py\", line 51, in _grow_tree\n",
      "    right_child = self._grow_tree(X[right_idxs,:], y[right_idxs], depth=depth+1)\n",
      "                  ^^^^^^^^^^^^^^^^^^^^^^^^^^^^^^^^^^^^^^^^^^^^^^^^^^^^^^^^^^^^^^\n",
      "  File \"d:\\TRETEC\\M2 SII\\Data Mining\\TP\\Projet\\algorithms.py\", line 40, in _grow_tree\n",
      "    leaf_value = self._most_common_label(y)\n",
      "                 ^^^^^^^^^^^^^^^^^^^^^^^^^^\n",
      "  File \"d:\\TRETEC\\M2 SII\\Data Mining\\TP\\Projet\\algorithms.py\", line 72, in _most_common_label\n",
      "    most_common = counter.most_common(1)[0][0]\n",
      "                  ~~~~~~~~~~~~~~~~~~~~~~^^^\n",
      "IndexError: list index out of range\n",
      "\n",
      "--------------------------------------------------------------------------------\n",
      "1 fits failed with the following error:\n",
      "Traceback (most recent call last):\n",
      "  File \"c:\\Users\\Meriem\\AppData\\Local\\Programs\\Python\\Python312\\Lib\\site-packages\\sklearn\\model_selection\\_validation.py\", line 729, in _fit_and_score\n",
      "    estimator.fit(X_train, y_train, **fit_params)\n",
      "  File \"d:\\TRETEC\\M2 SII\\Data Mining\\TP\\Projet\\algorithms.py\", line 30, in fit\n",
      "    self.root = self._grow_tree(X, y)\n",
      "                ^^^^^^^^^^^^^^^^^^^^^\n",
      "  File \"d:\\TRETEC\\M2 SII\\Data Mining\\TP\\Projet\\algorithms.py\", line 50, in _grow_tree\n",
      "    left_child = self._grow_tree(X[left_idxs,:], y[left_idxs], depth=depth+1)\n",
      "                 ^^^^^^^^^^^^^^^^^^^^^^^^^^^^^^^^^^^^^^^^^^^^^^^^^^^^^^^^^^^^\n",
      "  File \"d:\\TRETEC\\M2 SII\\Data Mining\\TP\\Projet\\algorithms.py\", line 51, in _grow_tree\n",
      "    right_child = self._grow_tree(X[right_idxs,:], y[right_idxs], depth=depth+1)\n",
      "                  ^^^^^^^^^^^^^^^^^^^^^^^^^^^^^^^^^^^^^^^^^^^^^^^^^^^^^^^^^^^^^^\n",
      "  File \"d:\\TRETEC\\M2 SII\\Data Mining\\TP\\Projet\\algorithms.py\", line 50, in _grow_tree\n",
      "    left_child = self._grow_tree(X[left_idxs,:], y[left_idxs], depth=depth+1)\n",
      "                 ^^^^^^^^^^^^^^^^^^^^^^^^^^^^^^^^^^^^^^^^^^^^^^^^^^^^^^^^^^^^\n",
      "  File \"d:\\TRETEC\\M2 SII\\Data Mining\\TP\\Projet\\algorithms.py\", line 51, in _grow_tree\n",
      "    right_child = self._grow_tree(X[right_idxs,:], y[right_idxs], depth=depth+1)\n",
      "                  ^^^^^^^^^^^^^^^^^^^^^^^^^^^^^^^^^^^^^^^^^^^^^^^^^^^^^^^^^^^^^^\n",
      "  File \"d:\\TRETEC\\M2 SII\\Data Mining\\TP\\Projet\\algorithms.py\", line 50, in _grow_tree\n",
      "    left_child = self._grow_tree(X[left_idxs,:], y[left_idxs], depth=depth+1)\n",
      "                 ^^^^^^^^^^^^^^^^^^^^^^^^^^^^^^^^^^^^^^^^^^^^^^^^^^^^^^^^^^^^\n",
      "  File \"d:\\TRETEC\\M2 SII\\Data Mining\\TP\\Projet\\algorithms.py\", line 50, in _grow_tree\n",
      "    left_child = self._grow_tree(X[left_idxs,:], y[left_idxs], depth=depth+1)\n",
      "                 ^^^^^^^^^^^^^^^^^^^^^^^^^^^^^^^^^^^^^^^^^^^^^^^^^^^^^^^^^^^^\n",
      "  File \"d:\\TRETEC\\M2 SII\\Data Mining\\TP\\Projet\\algorithms.py\", line 51, in _grow_tree\n",
      "    right_child = self._grow_tree(X[right_idxs,:], y[right_idxs], depth=depth+1)\n",
      "                  ^^^^^^^^^^^^^^^^^^^^^^^^^^^^^^^^^^^^^^^^^^^^^^^^^^^^^^^^^^^^^^\n",
      "  File \"d:\\TRETEC\\M2 SII\\Data Mining\\TP\\Projet\\algorithms.py\", line 50, in _grow_tree\n",
      "    left_child = self._grow_tree(X[left_idxs,:], y[left_idxs], depth=depth+1)\n",
      "                 ^^^^^^^^^^^^^^^^^^^^^^^^^^^^^^^^^^^^^^^^^^^^^^^^^^^^^^^^^^^^\n",
      "  File \"d:\\TRETEC\\M2 SII\\Data Mining\\TP\\Projet\\algorithms.py\", line 51, in _grow_tree\n",
      "    right_child = self._grow_tree(X[right_idxs,:], y[right_idxs], depth=depth+1)\n",
      "                  ^^^^^^^^^^^^^^^^^^^^^^^^^^^^^^^^^^^^^^^^^^^^^^^^^^^^^^^^^^^^^^\n",
      "  File \"d:\\TRETEC\\M2 SII\\Data Mining\\TP\\Projet\\algorithms.py\", line 40, in _grow_tree\n",
      "    leaf_value = self._most_common_label(y)\n",
      "                 ^^^^^^^^^^^^^^^^^^^^^^^^^^\n",
      "  File \"d:\\TRETEC\\M2 SII\\Data Mining\\TP\\Projet\\algorithms.py\", line 72, in _most_common_label\n",
      "    most_common = counter.most_common(1)[0][0]\n",
      "                  ~~~~~~~~~~~~~~~~~~~~~~^^^\n",
      "IndexError: list index out of range\n",
      "\n",
      "--------------------------------------------------------------------------------\n",
      "1 fits failed with the following error:\n",
      "Traceback (most recent call last):\n",
      "  File \"c:\\Users\\Meriem\\AppData\\Local\\Programs\\Python\\Python312\\Lib\\site-packages\\sklearn\\model_selection\\_validation.py\", line 729, in _fit_and_score\n",
      "    estimator.fit(X_train, y_train, **fit_params)\n",
      "  File \"d:\\TRETEC\\M2 SII\\Data Mining\\TP\\Projet\\algorithms.py\", line 30, in fit\n",
      "    self.root = self._grow_tree(X, y)\n",
      "                ^^^^^^^^^^^^^^^^^^^^^\n",
      "  File \"d:\\TRETEC\\M2 SII\\Data Mining\\TP\\Projet\\algorithms.py\", line 50, in _grow_tree\n",
      "    left_child = self._grow_tree(X[left_idxs,:], y[left_idxs], depth=depth+1)\n",
      "                 ^^^^^^^^^^^^^^^^^^^^^^^^^^^^^^^^^^^^^^^^^^^^^^^^^^^^^^^^^^^^\n",
      "  File \"d:\\TRETEC\\M2 SII\\Data Mining\\TP\\Projet\\algorithms.py\", line 51, in _grow_tree\n",
      "    right_child = self._grow_tree(X[right_idxs,:], y[right_idxs], depth=depth+1)\n",
      "                  ^^^^^^^^^^^^^^^^^^^^^^^^^^^^^^^^^^^^^^^^^^^^^^^^^^^^^^^^^^^^^^\n",
      "  File \"d:\\TRETEC\\M2 SII\\Data Mining\\TP\\Projet\\algorithms.py\", line 50, in _grow_tree\n",
      "    left_child = self._grow_tree(X[left_idxs,:], y[left_idxs], depth=depth+1)\n",
      "                 ^^^^^^^^^^^^^^^^^^^^^^^^^^^^^^^^^^^^^^^^^^^^^^^^^^^^^^^^^^^^\n",
      "  File \"d:\\TRETEC\\M2 SII\\Data Mining\\TP\\Projet\\algorithms.py\", line 50, in _grow_tree\n",
      "    left_child = self._grow_tree(X[left_idxs,:], y[left_idxs], depth=depth+1)\n",
      "                 ^^^^^^^^^^^^^^^^^^^^^^^^^^^^^^^^^^^^^^^^^^^^^^^^^^^^^^^^^^^^\n",
      "  File \"d:\\TRETEC\\M2 SII\\Data Mining\\TP\\Projet\\algorithms.py\", line 50, in _grow_tree\n",
      "    left_child = self._grow_tree(X[left_idxs,:], y[left_idxs], depth=depth+1)\n",
      "                 ^^^^^^^^^^^^^^^^^^^^^^^^^^^^^^^^^^^^^^^^^^^^^^^^^^^^^^^^^^^^\n",
      "  File \"d:\\TRETEC\\M2 SII\\Data Mining\\TP\\Projet\\algorithms.py\", line 51, in _grow_tree\n",
      "    right_child = self._grow_tree(X[right_idxs,:], y[right_idxs], depth=depth+1)\n",
      "                  ^^^^^^^^^^^^^^^^^^^^^^^^^^^^^^^^^^^^^^^^^^^^^^^^^^^^^^^^^^^^^^\n",
      "  File \"d:\\TRETEC\\M2 SII\\Data Mining\\TP\\Projet\\algorithms.py\", line 50, in _grow_tree\n",
      "    left_child = self._grow_tree(X[left_idxs,:], y[left_idxs], depth=depth+1)\n",
      "                 ^^^^^^^^^^^^^^^^^^^^^^^^^^^^^^^^^^^^^^^^^^^^^^^^^^^^^^^^^^^^\n",
      "  File \"d:\\TRETEC\\M2 SII\\Data Mining\\TP\\Projet\\algorithms.py\", line 50, in _grow_tree\n",
      "    left_child = self._grow_tree(X[left_idxs,:], y[left_idxs], depth=depth+1)\n",
      "                 ^^^^^^^^^^^^^^^^^^^^^^^^^^^^^^^^^^^^^^^^^^^^^^^^^^^^^^^^^^^^\n",
      "  File \"d:\\TRETEC\\M2 SII\\Data Mining\\TP\\Projet\\algorithms.py\", line 51, in _grow_tree\n",
      "    right_child = self._grow_tree(X[right_idxs,:], y[right_idxs], depth=depth+1)\n",
      "                  ^^^^^^^^^^^^^^^^^^^^^^^^^^^^^^^^^^^^^^^^^^^^^^^^^^^^^^^^^^^^^^\n",
      "  File \"d:\\TRETEC\\M2 SII\\Data Mining\\TP\\Projet\\algorithms.py\", line 40, in _grow_tree\n",
      "    leaf_value = self._most_common_label(y)\n",
      "                 ^^^^^^^^^^^^^^^^^^^^^^^^^^\n",
      "  File \"d:\\TRETEC\\M2 SII\\Data Mining\\TP\\Projet\\algorithms.py\", line 72, in _most_common_label\n",
      "    most_common = counter.most_common(1)[0][0]\n",
      "                  ~~~~~~~~~~~~~~~~~~~~~~^^^\n",
      "IndexError: list index out of range\n",
      "\n",
      "--------------------------------------------------------------------------------\n",
      "1 fits failed with the following error:\n",
      "Traceback (most recent call last):\n",
      "  File \"c:\\Users\\Meriem\\AppData\\Local\\Programs\\Python\\Python312\\Lib\\site-packages\\sklearn\\model_selection\\_validation.py\", line 729, in _fit_and_score\n",
      "    estimator.fit(X_train, y_train, **fit_params)\n",
      "  File \"d:\\TRETEC\\M2 SII\\Data Mining\\TP\\Projet\\algorithms.py\", line 30, in fit\n",
      "    self.root = self._grow_tree(X, y)\n",
      "                ^^^^^^^^^^^^^^^^^^^^^\n",
      "  File \"d:\\TRETEC\\M2 SII\\Data Mining\\TP\\Projet\\algorithms.py\", line 50, in _grow_tree\n",
      "    left_child = self._grow_tree(X[left_idxs,:], y[left_idxs], depth=depth+1)\n",
      "                 ^^^^^^^^^^^^^^^^^^^^^^^^^^^^^^^^^^^^^^^^^^^^^^^^^^^^^^^^^^^^\n",
      "  File \"d:\\TRETEC\\M2 SII\\Data Mining\\TP\\Projet\\algorithms.py\", line 50, in _grow_tree\n",
      "    left_child = self._grow_tree(X[left_idxs,:], y[left_idxs], depth=depth+1)\n",
      "                 ^^^^^^^^^^^^^^^^^^^^^^^^^^^^^^^^^^^^^^^^^^^^^^^^^^^^^^^^^^^^\n",
      "  File \"d:\\TRETEC\\M2 SII\\Data Mining\\TP\\Projet\\algorithms.py\", line 50, in _grow_tree\n",
      "    left_child = self._grow_tree(X[left_idxs,:], y[left_idxs], depth=depth+1)\n",
      "                 ^^^^^^^^^^^^^^^^^^^^^^^^^^^^^^^^^^^^^^^^^^^^^^^^^^^^^^^^^^^^\n",
      "  [Previous line repeated 1 more time]\n",
      "  File \"d:\\TRETEC\\M2 SII\\Data Mining\\TP\\Projet\\algorithms.py\", line 51, in _grow_tree\n",
      "    right_child = self._grow_tree(X[right_idxs,:], y[right_idxs], depth=depth+1)\n",
      "                  ^^^^^^^^^^^^^^^^^^^^^^^^^^^^^^^^^^^^^^^^^^^^^^^^^^^^^^^^^^^^^^\n",
      "  File \"d:\\TRETEC\\M2 SII\\Data Mining\\TP\\Projet\\algorithms.py\", line 50, in _grow_tree\n",
      "    left_child = self._grow_tree(X[left_idxs,:], y[left_idxs], depth=depth+1)\n",
      "                 ^^^^^^^^^^^^^^^^^^^^^^^^^^^^^^^^^^^^^^^^^^^^^^^^^^^^^^^^^^^^\n",
      "  File \"d:\\TRETEC\\M2 SII\\Data Mining\\TP\\Projet\\algorithms.py\", line 51, in _grow_tree\n",
      "    right_child = self._grow_tree(X[right_idxs,:], y[right_idxs], depth=depth+1)\n",
      "                  ^^^^^^^^^^^^^^^^^^^^^^^^^^^^^^^^^^^^^^^^^^^^^^^^^^^^^^^^^^^^^^\n",
      "  File \"d:\\TRETEC\\M2 SII\\Data Mining\\TP\\Projet\\algorithms.py\", line 40, in _grow_tree\n",
      "    leaf_value = self._most_common_label(y)\n",
      "                 ^^^^^^^^^^^^^^^^^^^^^^^^^^\n",
      "  File \"d:\\TRETEC\\M2 SII\\Data Mining\\TP\\Projet\\algorithms.py\", line 72, in _most_common_label\n",
      "    most_common = counter.most_common(1)[0][0]\n",
      "                  ~~~~~~~~~~~~~~~~~~~~~~^^^\n",
      "IndexError: list index out of range\n",
      "\n",
      "--------------------------------------------------------------------------------\n",
      "1 fits failed with the following error:\n",
      "Traceback (most recent call last):\n",
      "  File \"c:\\Users\\Meriem\\AppData\\Local\\Programs\\Python\\Python312\\Lib\\site-packages\\sklearn\\model_selection\\_validation.py\", line 729, in _fit_and_score\n",
      "    estimator.fit(X_train, y_train, **fit_params)\n",
      "  File \"d:\\TRETEC\\M2 SII\\Data Mining\\TP\\Projet\\algorithms.py\", line 30, in fit\n",
      "    self.root = self._grow_tree(X, y)\n",
      "                ^^^^^^^^^^^^^^^^^^^^^\n",
      "  File \"d:\\TRETEC\\M2 SII\\Data Mining\\TP\\Projet\\algorithms.py\", line 50, in _grow_tree\n",
      "    left_child = self._grow_tree(X[left_idxs,:], y[left_idxs], depth=depth+1)\n",
      "                 ^^^^^^^^^^^^^^^^^^^^^^^^^^^^^^^^^^^^^^^^^^^^^^^^^^^^^^^^^^^^\n",
      "  File \"d:\\TRETEC\\M2 SII\\Data Mining\\TP\\Projet\\algorithms.py\", line 50, in _grow_tree\n",
      "    left_child = self._grow_tree(X[left_idxs,:], y[left_idxs], depth=depth+1)\n",
      "                 ^^^^^^^^^^^^^^^^^^^^^^^^^^^^^^^^^^^^^^^^^^^^^^^^^^^^^^^^^^^^\n",
      "  File \"d:\\TRETEC\\M2 SII\\Data Mining\\TP\\Projet\\algorithms.py\", line 51, in _grow_tree\n",
      "    right_child = self._grow_tree(X[right_idxs,:], y[right_idxs], depth=depth+1)\n",
      "                  ^^^^^^^^^^^^^^^^^^^^^^^^^^^^^^^^^^^^^^^^^^^^^^^^^^^^^^^^^^^^^^\n",
      "  File \"d:\\TRETEC\\M2 SII\\Data Mining\\TP\\Projet\\algorithms.py\", line 51, in _grow_tree\n",
      "    right_child = self._grow_tree(X[right_idxs,:], y[right_idxs], depth=depth+1)\n",
      "                  ^^^^^^^^^^^^^^^^^^^^^^^^^^^^^^^^^^^^^^^^^^^^^^^^^^^^^^^^^^^^^^\n",
      "  File \"d:\\TRETEC\\M2 SII\\Data Mining\\TP\\Projet\\algorithms.py\", line 51, in _grow_tree\n",
      "    right_child = self._grow_tree(X[right_idxs,:], y[right_idxs], depth=depth+1)\n",
      "                  ^^^^^^^^^^^^^^^^^^^^^^^^^^^^^^^^^^^^^^^^^^^^^^^^^^^^^^^^^^^^^^\n",
      "  File \"d:\\TRETEC\\M2 SII\\Data Mining\\TP\\Projet\\algorithms.py\", line 50, in _grow_tree\n",
      "    left_child = self._grow_tree(X[left_idxs,:], y[left_idxs], depth=depth+1)\n",
      "                 ^^^^^^^^^^^^^^^^^^^^^^^^^^^^^^^^^^^^^^^^^^^^^^^^^^^^^^^^^^^^\n",
      "  File \"d:\\TRETEC\\M2 SII\\Data Mining\\TP\\Projet\\algorithms.py\", line 51, in _grow_tree\n",
      "    right_child = self._grow_tree(X[right_idxs,:], y[right_idxs], depth=depth+1)\n",
      "                  ^^^^^^^^^^^^^^^^^^^^^^^^^^^^^^^^^^^^^^^^^^^^^^^^^^^^^^^^^^^^^^\n",
      "  File \"d:\\TRETEC\\M2 SII\\Data Mining\\TP\\Projet\\algorithms.py\", line 40, in _grow_tree\n",
      "    leaf_value = self._most_common_label(y)\n",
      "                 ^^^^^^^^^^^^^^^^^^^^^^^^^^\n",
      "  File \"d:\\TRETEC\\M2 SII\\Data Mining\\TP\\Projet\\algorithms.py\", line 72, in _most_common_label\n",
      "    most_common = counter.most_common(1)[0][0]\n",
      "                  ~~~~~~~~~~~~~~~~~~~~~~^^^\n",
      "IndexError: list index out of range\n",
      "\n",
      "--------------------------------------------------------------------------------\n",
      "1 fits failed with the following error:\n",
      "Traceback (most recent call last):\n",
      "  File \"c:\\Users\\Meriem\\AppData\\Local\\Programs\\Python\\Python312\\Lib\\site-packages\\sklearn\\model_selection\\_validation.py\", line 729, in _fit_and_score\n",
      "    estimator.fit(X_train, y_train, **fit_params)\n",
      "  File \"d:\\TRETEC\\M2 SII\\Data Mining\\TP\\Projet\\algorithms.py\", line 30, in fit\n",
      "    self.root = self._grow_tree(X, y)\n",
      "                ^^^^^^^^^^^^^^^^^^^^^\n",
      "  File \"d:\\TRETEC\\M2 SII\\Data Mining\\TP\\Projet\\algorithms.py\", line 50, in _grow_tree\n",
      "    left_child = self._grow_tree(X[left_idxs,:], y[left_idxs], depth=depth+1)\n",
      "                 ^^^^^^^^^^^^^^^^^^^^^^^^^^^^^^^^^^^^^^^^^^^^^^^^^^^^^^^^^^^^\n",
      "  File \"d:\\TRETEC\\M2 SII\\Data Mining\\TP\\Projet\\algorithms.py\", line 50, in _grow_tree\n",
      "    left_child = self._grow_tree(X[left_idxs,:], y[left_idxs], depth=depth+1)\n",
      "                 ^^^^^^^^^^^^^^^^^^^^^^^^^^^^^^^^^^^^^^^^^^^^^^^^^^^^^^^^^^^^\n",
      "  File \"d:\\TRETEC\\M2 SII\\Data Mining\\TP\\Projet\\algorithms.py\", line 50, in _grow_tree\n",
      "    left_child = self._grow_tree(X[left_idxs,:], y[left_idxs], depth=depth+1)\n",
      "                 ^^^^^^^^^^^^^^^^^^^^^^^^^^^^^^^^^^^^^^^^^^^^^^^^^^^^^^^^^^^^\n",
      "  [Previous line repeated 1 more time]\n",
      "  File \"d:\\TRETEC\\M2 SII\\Data Mining\\TP\\Projet\\algorithms.py\", line 51, in _grow_tree\n",
      "    right_child = self._grow_tree(X[right_idxs,:], y[right_idxs], depth=depth+1)\n",
      "                  ^^^^^^^^^^^^^^^^^^^^^^^^^^^^^^^^^^^^^^^^^^^^^^^^^^^^^^^^^^^^^^\n",
      "  File \"d:\\TRETEC\\M2 SII\\Data Mining\\TP\\Projet\\algorithms.py\", line 51, in _grow_tree\n",
      "    right_child = self._grow_tree(X[right_idxs,:], y[right_idxs], depth=depth+1)\n",
      "                  ^^^^^^^^^^^^^^^^^^^^^^^^^^^^^^^^^^^^^^^^^^^^^^^^^^^^^^^^^^^^^^\n",
      "  File \"d:\\TRETEC\\M2 SII\\Data Mining\\TP\\Projet\\algorithms.py\", line 50, in _grow_tree\n",
      "    left_child = self._grow_tree(X[left_idxs,:], y[left_idxs], depth=depth+1)\n",
      "                 ^^^^^^^^^^^^^^^^^^^^^^^^^^^^^^^^^^^^^^^^^^^^^^^^^^^^^^^^^^^^\n",
      "  File \"d:\\TRETEC\\M2 SII\\Data Mining\\TP\\Projet\\algorithms.py\", line 50, in _grow_tree\n",
      "    left_child = self._grow_tree(X[left_idxs,:], y[left_idxs], depth=depth+1)\n",
      "                 ^^^^^^^^^^^^^^^^^^^^^^^^^^^^^^^^^^^^^^^^^^^^^^^^^^^^^^^^^^^^\n",
      "  File \"d:\\TRETEC\\M2 SII\\Data Mining\\TP\\Projet\\algorithms.py\", line 51, in _grow_tree\n",
      "    right_child = self._grow_tree(X[right_idxs,:], y[right_idxs], depth=depth+1)\n",
      "                  ^^^^^^^^^^^^^^^^^^^^^^^^^^^^^^^^^^^^^^^^^^^^^^^^^^^^^^^^^^^^^^\n",
      "  File \"d:\\TRETEC\\M2 SII\\Data Mining\\TP\\Projet\\algorithms.py\", line 40, in _grow_tree\n",
      "    leaf_value = self._most_common_label(y)\n",
      "                 ^^^^^^^^^^^^^^^^^^^^^^^^^^\n",
      "  File \"d:\\TRETEC\\M2 SII\\Data Mining\\TP\\Projet\\algorithms.py\", line 72, in _most_common_label\n",
      "    most_common = counter.most_common(1)[0][0]\n",
      "                  ~~~~~~~~~~~~~~~~~~~~~~^^^\n",
      "IndexError: list index out of range\n",
      "\n",
      "--------------------------------------------------------------------------------\n",
      "1 fits failed with the following error:\n",
      "Traceback (most recent call last):\n",
      "  File \"c:\\Users\\Meriem\\AppData\\Local\\Programs\\Python\\Python312\\Lib\\site-packages\\sklearn\\model_selection\\_validation.py\", line 729, in _fit_and_score\n",
      "    estimator.fit(X_train, y_train, **fit_params)\n",
      "  File \"d:\\TRETEC\\M2 SII\\Data Mining\\TP\\Projet\\algorithms.py\", line 30, in fit\n",
      "    self.root = self._grow_tree(X, y)\n",
      "                ^^^^^^^^^^^^^^^^^^^^^\n",
      "  File \"d:\\TRETEC\\M2 SII\\Data Mining\\TP\\Projet\\algorithms.py\", line 50, in _grow_tree\n",
      "    left_child = self._grow_tree(X[left_idxs,:], y[left_idxs], depth=depth+1)\n",
      "                 ^^^^^^^^^^^^^^^^^^^^^^^^^^^^^^^^^^^^^^^^^^^^^^^^^^^^^^^^^^^^\n",
      "  File \"d:\\TRETEC\\M2 SII\\Data Mining\\TP\\Projet\\algorithms.py\", line 50, in _grow_tree\n",
      "    left_child = self._grow_tree(X[left_idxs,:], y[left_idxs], depth=depth+1)\n",
      "                 ^^^^^^^^^^^^^^^^^^^^^^^^^^^^^^^^^^^^^^^^^^^^^^^^^^^^^^^^^^^^\n",
      "  File \"d:\\TRETEC\\M2 SII\\Data Mining\\TP\\Projet\\algorithms.py\", line 50, in _grow_tree\n",
      "    left_child = self._grow_tree(X[left_idxs,:], y[left_idxs], depth=depth+1)\n",
      "                 ^^^^^^^^^^^^^^^^^^^^^^^^^^^^^^^^^^^^^^^^^^^^^^^^^^^^^^^^^^^^\n",
      "  [Previous line repeated 1 more time]\n",
      "  File \"d:\\TRETEC\\M2 SII\\Data Mining\\TP\\Projet\\algorithms.py\", line 51, in _grow_tree\n",
      "    right_child = self._grow_tree(X[right_idxs,:], y[right_idxs], depth=depth+1)\n",
      "                  ^^^^^^^^^^^^^^^^^^^^^^^^^^^^^^^^^^^^^^^^^^^^^^^^^^^^^^^^^^^^^^\n",
      "  File \"d:\\TRETEC\\M2 SII\\Data Mining\\TP\\Projet\\algorithms.py\", line 50, in _grow_tree\n",
      "    left_child = self._grow_tree(X[left_idxs,:], y[left_idxs], depth=depth+1)\n",
      "                 ^^^^^^^^^^^^^^^^^^^^^^^^^^^^^^^^^^^^^^^^^^^^^^^^^^^^^^^^^^^^\n",
      "  File \"d:\\TRETEC\\M2 SII\\Data Mining\\TP\\Projet\\algorithms.py\", line 50, in _grow_tree\n",
      "    left_child = self._grow_tree(X[left_idxs,:], y[left_idxs], depth=depth+1)\n",
      "                 ^^^^^^^^^^^^^^^^^^^^^^^^^^^^^^^^^^^^^^^^^^^^^^^^^^^^^^^^^^^^\n",
      "  File \"d:\\TRETEC\\M2 SII\\Data Mining\\TP\\Projet\\algorithms.py\", line 50, in _grow_tree\n",
      "    left_child = self._grow_tree(X[left_idxs,:], y[left_idxs], depth=depth+1)\n",
      "                 ^^^^^^^^^^^^^^^^^^^^^^^^^^^^^^^^^^^^^^^^^^^^^^^^^^^^^^^^^^^^\n",
      "  File \"d:\\TRETEC\\M2 SII\\Data Mining\\TP\\Projet\\algorithms.py\", line 51, in _grow_tree\n",
      "    right_child = self._grow_tree(X[right_idxs,:], y[right_idxs], depth=depth+1)\n",
      "                  ^^^^^^^^^^^^^^^^^^^^^^^^^^^^^^^^^^^^^^^^^^^^^^^^^^^^^^^^^^^^^^\n",
      "  File \"d:\\TRETEC\\M2 SII\\Data Mining\\TP\\Projet\\algorithms.py\", line 50, in _grow_tree\n",
      "    left_child = self._grow_tree(X[left_idxs,:], y[left_idxs], depth=depth+1)\n",
      "                 ^^^^^^^^^^^^^^^^^^^^^^^^^^^^^^^^^^^^^^^^^^^^^^^^^^^^^^^^^^^^\n",
      "  File \"d:\\TRETEC\\M2 SII\\Data Mining\\TP\\Projet\\algorithms.py\", line 51, in _grow_tree\n",
      "    right_child = self._grow_tree(X[right_idxs,:], y[right_idxs], depth=depth+1)\n",
      "                  ^^^^^^^^^^^^^^^^^^^^^^^^^^^^^^^^^^^^^^^^^^^^^^^^^^^^^^^^^^^^^^\n",
      "  File \"d:\\TRETEC\\M2 SII\\Data Mining\\TP\\Projet\\algorithms.py\", line 51, in _grow_tree\n",
      "    right_child = self._grow_tree(X[right_idxs,:], y[right_idxs], depth=depth+1)\n",
      "                  ^^^^^^^^^^^^^^^^^^^^^^^^^^^^^^^^^^^^^^^^^^^^^^^^^^^^^^^^^^^^^^\n",
      "  File \"d:\\TRETEC\\M2 SII\\Data Mining\\TP\\Projet\\algorithms.py\", line 40, in _grow_tree\n",
      "    leaf_value = self._most_common_label(y)\n",
      "                 ^^^^^^^^^^^^^^^^^^^^^^^^^^\n",
      "  File \"d:\\TRETEC\\M2 SII\\Data Mining\\TP\\Projet\\algorithms.py\", line 72, in _most_common_label\n",
      "    most_common = counter.most_common(1)[0][0]\n",
      "                  ~~~~~~~~~~~~~~~~~~~~~~^^^\n",
      "IndexError: list index out of range\n",
      "\n",
      "--------------------------------------------------------------------------------\n",
      "1 fits failed with the following error:\n",
      "Traceback (most recent call last):\n",
      "  File \"c:\\Users\\Meriem\\AppData\\Local\\Programs\\Python\\Python312\\Lib\\site-packages\\sklearn\\model_selection\\_validation.py\", line 729, in _fit_and_score\n",
      "    estimator.fit(X_train, y_train, **fit_params)\n",
      "  File \"d:\\TRETEC\\M2 SII\\Data Mining\\TP\\Projet\\algorithms.py\", line 30, in fit\n",
      "    self.root = self._grow_tree(X, y)\n",
      "                ^^^^^^^^^^^^^^^^^^^^^\n",
      "  File \"d:\\TRETEC\\M2 SII\\Data Mining\\TP\\Projet\\algorithms.py\", line 50, in _grow_tree\n",
      "    left_child = self._grow_tree(X[left_idxs,:], y[left_idxs], depth=depth+1)\n",
      "                 ^^^^^^^^^^^^^^^^^^^^^^^^^^^^^^^^^^^^^^^^^^^^^^^^^^^^^^^^^^^^\n",
      "  File \"d:\\TRETEC\\M2 SII\\Data Mining\\TP\\Projet\\algorithms.py\", line 50, in _grow_tree\n",
      "    left_child = self._grow_tree(X[left_idxs,:], y[left_idxs], depth=depth+1)\n",
      "                 ^^^^^^^^^^^^^^^^^^^^^^^^^^^^^^^^^^^^^^^^^^^^^^^^^^^^^^^^^^^^\n",
      "  File \"d:\\TRETEC\\M2 SII\\Data Mining\\TP\\Projet\\algorithms.py\", line 51, in _grow_tree\n",
      "    right_child = self._grow_tree(X[right_idxs,:], y[right_idxs], depth=depth+1)\n",
      "                  ^^^^^^^^^^^^^^^^^^^^^^^^^^^^^^^^^^^^^^^^^^^^^^^^^^^^^^^^^^^^^^\n",
      "  File \"d:\\TRETEC\\M2 SII\\Data Mining\\TP\\Projet\\algorithms.py\", line 50, in _grow_tree\n",
      "    left_child = self._grow_tree(X[left_idxs,:], y[left_idxs], depth=depth+1)\n",
      "                 ^^^^^^^^^^^^^^^^^^^^^^^^^^^^^^^^^^^^^^^^^^^^^^^^^^^^^^^^^^^^\n",
      "  File \"d:\\TRETEC\\M2 SII\\Data Mining\\TP\\Projet\\algorithms.py\", line 50, in _grow_tree\n",
      "    left_child = self._grow_tree(X[left_idxs,:], y[left_idxs], depth=depth+1)\n",
      "                 ^^^^^^^^^^^^^^^^^^^^^^^^^^^^^^^^^^^^^^^^^^^^^^^^^^^^^^^^^^^^\n",
      "  File \"d:\\TRETEC\\M2 SII\\Data Mining\\TP\\Projet\\algorithms.py\", line 50, in _grow_tree\n",
      "    left_child = self._grow_tree(X[left_idxs,:], y[left_idxs], depth=depth+1)\n",
      "                 ^^^^^^^^^^^^^^^^^^^^^^^^^^^^^^^^^^^^^^^^^^^^^^^^^^^^^^^^^^^^\n",
      "  File \"d:\\TRETEC\\M2 SII\\Data Mining\\TP\\Projet\\algorithms.py\", line 51, in _grow_tree\n",
      "    right_child = self._grow_tree(X[right_idxs,:], y[right_idxs], depth=depth+1)\n",
      "                  ^^^^^^^^^^^^^^^^^^^^^^^^^^^^^^^^^^^^^^^^^^^^^^^^^^^^^^^^^^^^^^\n",
      "  File \"d:\\TRETEC\\M2 SII\\Data Mining\\TP\\Projet\\algorithms.py\", line 50, in _grow_tree\n",
      "    left_child = self._grow_tree(X[left_idxs,:], y[left_idxs], depth=depth+1)\n",
      "                 ^^^^^^^^^^^^^^^^^^^^^^^^^^^^^^^^^^^^^^^^^^^^^^^^^^^^^^^^^^^^\n",
      "  File \"d:\\TRETEC\\M2 SII\\Data Mining\\TP\\Projet\\algorithms.py\", line 50, in _grow_tree\n",
      "    left_child = self._grow_tree(X[left_idxs,:], y[left_idxs], depth=depth+1)\n",
      "                 ^^^^^^^^^^^^^^^^^^^^^^^^^^^^^^^^^^^^^^^^^^^^^^^^^^^^^^^^^^^^\n",
      "  File \"d:\\TRETEC\\M2 SII\\Data Mining\\TP\\Projet\\algorithms.py\", line 50, in _grow_tree\n",
      "    left_child = self._grow_tree(X[left_idxs,:], y[left_idxs], depth=depth+1)\n",
      "                 ^^^^^^^^^^^^^^^^^^^^^^^^^^^^^^^^^^^^^^^^^^^^^^^^^^^^^^^^^^^^\n",
      "  [Previous line repeated 2 more times]\n",
      "  File \"d:\\TRETEC\\M2 SII\\Data Mining\\TP\\Projet\\algorithms.py\", line 51, in _grow_tree\n",
      "    right_child = self._grow_tree(X[right_idxs,:], y[right_idxs], depth=depth+1)\n",
      "                  ^^^^^^^^^^^^^^^^^^^^^^^^^^^^^^^^^^^^^^^^^^^^^^^^^^^^^^^^^^^^^^\n",
      "  File \"d:\\TRETEC\\M2 SII\\Data Mining\\TP\\Projet\\algorithms.py\", line 51, in _grow_tree\n",
      "    right_child = self._grow_tree(X[right_idxs,:], y[right_idxs], depth=depth+1)\n",
      "                  ^^^^^^^^^^^^^^^^^^^^^^^^^^^^^^^^^^^^^^^^^^^^^^^^^^^^^^^^^^^^^^\n",
      "  File \"d:\\TRETEC\\M2 SII\\Data Mining\\TP\\Projet\\algorithms.py\", line 51, in _grow_tree\n",
      "    right_child = self._grow_tree(X[right_idxs,:], y[right_idxs], depth=depth+1)\n",
      "                  ^^^^^^^^^^^^^^^^^^^^^^^^^^^^^^^^^^^^^^^^^^^^^^^^^^^^^^^^^^^^^^\n",
      "  File \"d:\\TRETEC\\M2 SII\\Data Mining\\TP\\Projet\\algorithms.py\", line 40, in _grow_tree\n",
      "    leaf_value = self._most_common_label(y)\n",
      "                 ^^^^^^^^^^^^^^^^^^^^^^^^^^\n",
      "  File \"d:\\TRETEC\\M2 SII\\Data Mining\\TP\\Projet\\algorithms.py\", line 72, in _most_common_label\n",
      "    most_common = counter.most_common(1)[0][0]\n",
      "                  ~~~~~~~~~~~~~~~~~~~~~~^^^\n",
      "IndexError: list index out of range\n",
      "\n",
      "--------------------------------------------------------------------------------\n",
      "1 fits failed with the following error:\n",
      "Traceback (most recent call last):\n",
      "  File \"c:\\Users\\Meriem\\AppData\\Local\\Programs\\Python\\Python312\\Lib\\site-packages\\sklearn\\model_selection\\_validation.py\", line 729, in _fit_and_score\n",
      "    estimator.fit(X_train, y_train, **fit_params)\n",
      "  File \"d:\\TRETEC\\M2 SII\\Data Mining\\TP\\Projet\\algorithms.py\", line 30, in fit\n",
      "    self.root = self._grow_tree(X, y)\n",
      "                ^^^^^^^^^^^^^^^^^^^^^\n",
      "  File \"d:\\TRETEC\\M2 SII\\Data Mining\\TP\\Projet\\algorithms.py\", line 50, in _grow_tree\n",
      "    left_child = self._grow_tree(X[left_idxs,:], y[left_idxs], depth=depth+1)\n",
      "                 ^^^^^^^^^^^^^^^^^^^^^^^^^^^^^^^^^^^^^^^^^^^^^^^^^^^^^^^^^^^^\n",
      "  File \"d:\\TRETEC\\M2 SII\\Data Mining\\TP\\Projet\\algorithms.py\", line 50, in _grow_tree\n",
      "    left_child = self._grow_tree(X[left_idxs,:], y[left_idxs], depth=depth+1)\n",
      "                 ^^^^^^^^^^^^^^^^^^^^^^^^^^^^^^^^^^^^^^^^^^^^^^^^^^^^^^^^^^^^\n",
      "  File \"d:\\TRETEC\\M2 SII\\Data Mining\\TP\\Projet\\algorithms.py\", line 50, in _grow_tree\n",
      "    left_child = self._grow_tree(X[left_idxs,:], y[left_idxs], depth=depth+1)\n",
      "                 ^^^^^^^^^^^^^^^^^^^^^^^^^^^^^^^^^^^^^^^^^^^^^^^^^^^^^^^^^^^^\n",
      "  [Previous line repeated 6 more times]\n",
      "  File \"d:\\TRETEC\\M2 SII\\Data Mining\\TP\\Projet\\algorithms.py\", line 51, in _grow_tree\n",
      "    right_child = self._grow_tree(X[right_idxs,:], y[right_idxs], depth=depth+1)\n",
      "                  ^^^^^^^^^^^^^^^^^^^^^^^^^^^^^^^^^^^^^^^^^^^^^^^^^^^^^^^^^^^^^^\n",
      "  File \"d:\\TRETEC\\M2 SII\\Data Mining\\TP\\Projet\\algorithms.py\", line 51, in _grow_tree\n",
      "    right_child = self._grow_tree(X[right_idxs,:], y[right_idxs], depth=depth+1)\n",
      "                  ^^^^^^^^^^^^^^^^^^^^^^^^^^^^^^^^^^^^^^^^^^^^^^^^^^^^^^^^^^^^^^\n",
      "  File \"d:\\TRETEC\\M2 SII\\Data Mining\\TP\\Projet\\algorithms.py\", line 51, in _grow_tree\n",
      "    right_child = self._grow_tree(X[right_idxs,:], y[right_idxs], depth=depth+1)\n",
      "                  ^^^^^^^^^^^^^^^^^^^^^^^^^^^^^^^^^^^^^^^^^^^^^^^^^^^^^^^^^^^^^^\n",
      "  File \"d:\\TRETEC\\M2 SII\\Data Mining\\TP\\Projet\\algorithms.py\", line 40, in _grow_tree\n",
      "    leaf_value = self._most_common_label(y)\n",
      "                 ^^^^^^^^^^^^^^^^^^^^^^^^^^\n",
      "  File \"d:\\TRETEC\\M2 SII\\Data Mining\\TP\\Projet\\algorithms.py\", line 72, in _most_common_label\n",
      "    most_common = counter.most_common(1)[0][0]\n",
      "                  ~~~~~~~~~~~~~~~~~~~~~~^^^\n",
      "IndexError: list index out of range\n",
      "\n",
      "--------------------------------------------------------------------------------\n",
      "1 fits failed with the following error:\n",
      "Traceback (most recent call last):\n",
      "  File \"c:\\Users\\Meriem\\AppData\\Local\\Programs\\Python\\Python312\\Lib\\site-packages\\sklearn\\model_selection\\_validation.py\", line 729, in _fit_and_score\n",
      "    estimator.fit(X_train, y_train, **fit_params)\n",
      "  File \"d:\\TRETEC\\M2 SII\\Data Mining\\TP\\Projet\\algorithms.py\", line 30, in fit\n",
      "    self.root = self._grow_tree(X, y)\n",
      "                ^^^^^^^^^^^^^^^^^^^^^\n",
      "  File \"d:\\TRETEC\\M2 SII\\Data Mining\\TP\\Projet\\algorithms.py\", line 50, in _grow_tree\n",
      "    left_child = self._grow_tree(X[left_idxs,:], y[left_idxs], depth=depth+1)\n",
      "                 ^^^^^^^^^^^^^^^^^^^^^^^^^^^^^^^^^^^^^^^^^^^^^^^^^^^^^^^^^^^^\n",
      "  File \"d:\\TRETEC\\M2 SII\\Data Mining\\TP\\Projet\\algorithms.py\", line 50, in _grow_tree\n",
      "    left_child = self._grow_tree(X[left_idxs,:], y[left_idxs], depth=depth+1)\n",
      "                 ^^^^^^^^^^^^^^^^^^^^^^^^^^^^^^^^^^^^^^^^^^^^^^^^^^^^^^^^^^^^\n",
      "  File \"d:\\TRETEC\\M2 SII\\Data Mining\\TP\\Projet\\algorithms.py\", line 51, in _grow_tree\n",
      "    right_child = self._grow_tree(X[right_idxs,:], y[right_idxs], depth=depth+1)\n",
      "                  ^^^^^^^^^^^^^^^^^^^^^^^^^^^^^^^^^^^^^^^^^^^^^^^^^^^^^^^^^^^^^^\n",
      "  File \"d:\\TRETEC\\M2 SII\\Data Mining\\TP\\Projet\\algorithms.py\", line 50, in _grow_tree\n",
      "    left_child = self._grow_tree(X[left_idxs,:], y[left_idxs], depth=depth+1)\n",
      "                 ^^^^^^^^^^^^^^^^^^^^^^^^^^^^^^^^^^^^^^^^^^^^^^^^^^^^^^^^^^^^\n",
      "  File \"d:\\TRETEC\\M2 SII\\Data Mining\\TP\\Projet\\algorithms.py\", line 50, in _grow_tree\n",
      "    left_child = self._grow_tree(X[left_idxs,:], y[left_idxs], depth=depth+1)\n",
      "                 ^^^^^^^^^^^^^^^^^^^^^^^^^^^^^^^^^^^^^^^^^^^^^^^^^^^^^^^^^^^^\n",
      "  File \"d:\\TRETEC\\M2 SII\\Data Mining\\TP\\Projet\\algorithms.py\", line 50, in _grow_tree\n",
      "    left_child = self._grow_tree(X[left_idxs,:], y[left_idxs], depth=depth+1)\n",
      "                 ^^^^^^^^^^^^^^^^^^^^^^^^^^^^^^^^^^^^^^^^^^^^^^^^^^^^^^^^^^^^\n",
      "  [Previous line repeated 1 more time]\n",
      "  File \"d:\\TRETEC\\M2 SII\\Data Mining\\TP\\Projet\\algorithms.py\", line 51, in _grow_tree\n",
      "    right_child = self._grow_tree(X[right_idxs,:], y[right_idxs], depth=depth+1)\n",
      "                  ^^^^^^^^^^^^^^^^^^^^^^^^^^^^^^^^^^^^^^^^^^^^^^^^^^^^^^^^^^^^^^\n",
      "  File \"d:\\TRETEC\\M2 SII\\Data Mining\\TP\\Projet\\algorithms.py\", line 50, in _grow_tree\n",
      "    left_child = self._grow_tree(X[left_idxs,:], y[left_idxs], depth=depth+1)\n",
      "                 ^^^^^^^^^^^^^^^^^^^^^^^^^^^^^^^^^^^^^^^^^^^^^^^^^^^^^^^^^^^^\n",
      "  File \"d:\\TRETEC\\M2 SII\\Data Mining\\TP\\Projet\\algorithms.py\", line 51, in _grow_tree\n",
      "    right_child = self._grow_tree(X[right_idxs,:], y[right_idxs], depth=depth+1)\n",
      "                  ^^^^^^^^^^^^^^^^^^^^^^^^^^^^^^^^^^^^^^^^^^^^^^^^^^^^^^^^^^^^^^\n",
      "  File \"d:\\TRETEC\\M2 SII\\Data Mining\\TP\\Projet\\algorithms.py\", line 51, in _grow_tree\n",
      "    right_child = self._grow_tree(X[right_idxs,:], y[right_idxs], depth=depth+1)\n",
      "                  ^^^^^^^^^^^^^^^^^^^^^^^^^^^^^^^^^^^^^^^^^^^^^^^^^^^^^^^^^^^^^^\n",
      "  File \"d:\\TRETEC\\M2 SII\\Data Mining\\TP\\Projet\\algorithms.py\", line 40, in _grow_tree\n",
      "    leaf_value = self._most_common_label(y)\n",
      "                 ^^^^^^^^^^^^^^^^^^^^^^^^^^\n",
      "  File \"d:\\TRETEC\\M2 SII\\Data Mining\\TP\\Projet\\algorithms.py\", line 72, in _most_common_label\n",
      "    most_common = counter.most_common(1)[0][0]\n",
      "                  ~~~~~~~~~~~~~~~~~~~~~~^^^\n",
      "IndexError: list index out of range\n",
      "\n",
      "--------------------------------------------------------------------------------\n",
      "1 fits failed with the following error:\n",
      "Traceback (most recent call last):\n",
      "  File \"c:\\Users\\Meriem\\AppData\\Local\\Programs\\Python\\Python312\\Lib\\site-packages\\sklearn\\model_selection\\_validation.py\", line 729, in _fit_and_score\n",
      "    estimator.fit(X_train, y_train, **fit_params)\n",
      "  File \"d:\\TRETEC\\M2 SII\\Data Mining\\TP\\Projet\\algorithms.py\", line 30, in fit\n",
      "    self.root = self._grow_tree(X, y)\n",
      "                ^^^^^^^^^^^^^^^^^^^^^\n",
      "  File \"d:\\TRETEC\\M2 SII\\Data Mining\\TP\\Projet\\algorithms.py\", line 50, in _grow_tree\n",
      "    left_child = self._grow_tree(X[left_idxs,:], y[left_idxs], depth=depth+1)\n",
      "                 ^^^^^^^^^^^^^^^^^^^^^^^^^^^^^^^^^^^^^^^^^^^^^^^^^^^^^^^^^^^^\n",
      "  File \"d:\\TRETEC\\M2 SII\\Data Mining\\TP\\Projet\\algorithms.py\", line 50, in _grow_tree\n",
      "    left_child = self._grow_tree(X[left_idxs,:], y[left_idxs], depth=depth+1)\n",
      "                 ^^^^^^^^^^^^^^^^^^^^^^^^^^^^^^^^^^^^^^^^^^^^^^^^^^^^^^^^^^^^\n",
      "  File \"d:\\TRETEC\\M2 SII\\Data Mining\\TP\\Projet\\algorithms.py\", line 50, in _grow_tree\n",
      "    left_child = self._grow_tree(X[left_idxs,:], y[left_idxs], depth=depth+1)\n",
      "                 ^^^^^^^^^^^^^^^^^^^^^^^^^^^^^^^^^^^^^^^^^^^^^^^^^^^^^^^^^^^^\n",
      "  [Previous line repeated 1 more time]\n",
      "  File \"d:\\TRETEC\\M2 SII\\Data Mining\\TP\\Projet\\algorithms.py\", line 51, in _grow_tree\n",
      "    right_child = self._grow_tree(X[right_idxs,:], y[right_idxs], depth=depth+1)\n",
      "                  ^^^^^^^^^^^^^^^^^^^^^^^^^^^^^^^^^^^^^^^^^^^^^^^^^^^^^^^^^^^^^^\n",
      "  File \"d:\\TRETEC\\M2 SII\\Data Mining\\TP\\Projet\\algorithms.py\", line 50, in _grow_tree\n",
      "    left_child = self._grow_tree(X[left_idxs,:], y[left_idxs], depth=depth+1)\n",
      "                 ^^^^^^^^^^^^^^^^^^^^^^^^^^^^^^^^^^^^^^^^^^^^^^^^^^^^^^^^^^^^\n",
      "  File \"d:\\TRETEC\\M2 SII\\Data Mining\\TP\\Projet\\algorithms.py\", line 50, in _grow_tree\n",
      "    left_child = self._grow_tree(X[left_idxs,:], y[left_idxs], depth=depth+1)\n",
      "                 ^^^^^^^^^^^^^^^^^^^^^^^^^^^^^^^^^^^^^^^^^^^^^^^^^^^^^^^^^^^^\n",
      "  File \"d:\\TRETEC\\M2 SII\\Data Mining\\TP\\Projet\\algorithms.py\", line 50, in _grow_tree\n",
      "    left_child = self._grow_tree(X[left_idxs,:], y[left_idxs], depth=depth+1)\n",
      "                 ^^^^^^^^^^^^^^^^^^^^^^^^^^^^^^^^^^^^^^^^^^^^^^^^^^^^^^^^^^^^\n",
      "  [Previous line repeated 1 more time]\n",
      "  File \"d:\\TRETEC\\M2 SII\\Data Mining\\TP\\Projet\\algorithms.py\", line 51, in _grow_tree\n",
      "    right_child = self._grow_tree(X[right_idxs,:], y[right_idxs], depth=depth+1)\n",
      "                  ^^^^^^^^^^^^^^^^^^^^^^^^^^^^^^^^^^^^^^^^^^^^^^^^^^^^^^^^^^^^^^\n",
      "  File \"d:\\TRETEC\\M2 SII\\Data Mining\\TP\\Projet\\algorithms.py\", line 51, in _grow_tree\n",
      "    right_child = self._grow_tree(X[right_idxs,:], y[right_idxs], depth=depth+1)\n",
      "                  ^^^^^^^^^^^^^^^^^^^^^^^^^^^^^^^^^^^^^^^^^^^^^^^^^^^^^^^^^^^^^^\n",
      "  File \"d:\\TRETEC\\M2 SII\\Data Mining\\TP\\Projet\\algorithms.py\", line 40, in _grow_tree\n",
      "    leaf_value = self._most_common_label(y)\n",
      "                 ^^^^^^^^^^^^^^^^^^^^^^^^^^\n",
      "  File \"d:\\TRETEC\\M2 SII\\Data Mining\\TP\\Projet\\algorithms.py\", line 72, in _most_common_label\n",
      "    most_common = counter.most_common(1)[0][0]\n",
      "                  ~~~~~~~~~~~~~~~~~~~~~~^^^\n",
      "IndexError: list index out of range\n",
      "\n",
      "--------------------------------------------------------------------------------\n",
      "2 fits failed with the following error:\n",
      "Traceback (most recent call last):\n",
      "  File \"c:\\Users\\Meriem\\AppData\\Local\\Programs\\Python\\Python312\\Lib\\site-packages\\sklearn\\model_selection\\_validation.py\", line 729, in _fit_and_score\n",
      "    estimator.fit(X_train, y_train, **fit_params)\n",
      "  File \"d:\\TRETEC\\M2 SII\\Data Mining\\TP\\Projet\\algorithms.py\", line 30, in fit\n",
      "    self.root = self._grow_tree(X, y)\n",
      "                ^^^^^^^^^^^^^^^^^^^^^\n",
      "  File \"d:\\TRETEC\\M2 SII\\Data Mining\\TP\\Projet\\algorithms.py\", line 50, in _grow_tree\n",
      "    left_child = self._grow_tree(X[left_idxs,:], y[left_idxs], depth=depth+1)\n",
      "                 ^^^^^^^^^^^^^^^^^^^^^^^^^^^^^^^^^^^^^^^^^^^^^^^^^^^^^^^^^^^^\n",
      "  File \"d:\\TRETEC\\M2 SII\\Data Mining\\TP\\Projet\\algorithms.py\", line 50, in _grow_tree\n",
      "    left_child = self._grow_tree(X[left_idxs,:], y[left_idxs], depth=depth+1)\n",
      "                 ^^^^^^^^^^^^^^^^^^^^^^^^^^^^^^^^^^^^^^^^^^^^^^^^^^^^^^^^^^^^\n",
      "  File \"d:\\TRETEC\\M2 SII\\Data Mining\\TP\\Projet\\algorithms.py\", line 50, in _grow_tree\n",
      "    left_child = self._grow_tree(X[left_idxs,:], y[left_idxs], depth=depth+1)\n",
      "                 ^^^^^^^^^^^^^^^^^^^^^^^^^^^^^^^^^^^^^^^^^^^^^^^^^^^^^^^^^^^^\n",
      "  [Previous line repeated 3 more times]\n",
      "  File \"d:\\TRETEC\\M2 SII\\Data Mining\\TP\\Projet\\algorithms.py\", line 51, in _grow_tree\n",
      "    right_child = self._grow_tree(X[right_idxs,:], y[right_idxs], depth=depth+1)\n",
      "                  ^^^^^^^^^^^^^^^^^^^^^^^^^^^^^^^^^^^^^^^^^^^^^^^^^^^^^^^^^^^^^^\n",
      "  File \"d:\\TRETEC\\M2 SII\\Data Mining\\TP\\Projet\\algorithms.py\", line 51, in _grow_tree\n",
      "    right_child = self._grow_tree(X[right_idxs,:], y[right_idxs], depth=depth+1)\n",
      "                  ^^^^^^^^^^^^^^^^^^^^^^^^^^^^^^^^^^^^^^^^^^^^^^^^^^^^^^^^^^^^^^\n",
      "  File \"d:\\TRETEC\\M2 SII\\Data Mining\\TP\\Projet\\algorithms.py\", line 40, in _grow_tree\n",
      "    leaf_value = self._most_common_label(y)\n",
      "                 ^^^^^^^^^^^^^^^^^^^^^^^^^^\n",
      "  File \"d:\\TRETEC\\M2 SII\\Data Mining\\TP\\Projet\\algorithms.py\", line 72, in _most_common_label\n",
      "    most_common = counter.most_common(1)[0][0]\n",
      "                  ~~~~~~~~~~~~~~~~~~~~~~^^^\n",
      "IndexError: list index out of range\n",
      "\n",
      "--------------------------------------------------------------------------------\n",
      "1 fits failed with the following error:\n",
      "Traceback (most recent call last):\n",
      "  File \"c:\\Users\\Meriem\\AppData\\Local\\Programs\\Python\\Python312\\Lib\\site-packages\\sklearn\\model_selection\\_validation.py\", line 729, in _fit_and_score\n",
      "    estimator.fit(X_train, y_train, **fit_params)\n",
      "  File \"d:\\TRETEC\\M2 SII\\Data Mining\\TP\\Projet\\algorithms.py\", line 30, in fit\n",
      "    self.root = self._grow_tree(X, y)\n",
      "                ^^^^^^^^^^^^^^^^^^^^^\n",
      "  File \"d:\\TRETEC\\M2 SII\\Data Mining\\TP\\Projet\\algorithms.py\", line 50, in _grow_tree\n",
      "    left_child = self._grow_tree(X[left_idxs,:], y[left_idxs], depth=depth+1)\n",
      "                 ^^^^^^^^^^^^^^^^^^^^^^^^^^^^^^^^^^^^^^^^^^^^^^^^^^^^^^^^^^^^\n",
      "  File \"d:\\TRETEC\\M2 SII\\Data Mining\\TP\\Projet\\algorithms.py\", line 51, in _grow_tree\n",
      "    right_child = self._grow_tree(X[right_idxs,:], y[right_idxs], depth=depth+1)\n",
      "                  ^^^^^^^^^^^^^^^^^^^^^^^^^^^^^^^^^^^^^^^^^^^^^^^^^^^^^^^^^^^^^^\n",
      "  File \"d:\\TRETEC\\M2 SII\\Data Mining\\TP\\Projet\\algorithms.py\", line 50, in _grow_tree\n",
      "    left_child = self._grow_tree(X[left_idxs,:], y[left_idxs], depth=depth+1)\n",
      "                 ^^^^^^^^^^^^^^^^^^^^^^^^^^^^^^^^^^^^^^^^^^^^^^^^^^^^^^^^^^^^\n",
      "  File \"d:\\TRETEC\\M2 SII\\Data Mining\\TP\\Projet\\algorithms.py\", line 50, in _grow_tree\n",
      "    left_child = self._grow_tree(X[left_idxs,:], y[left_idxs], depth=depth+1)\n",
      "                 ^^^^^^^^^^^^^^^^^^^^^^^^^^^^^^^^^^^^^^^^^^^^^^^^^^^^^^^^^^^^\n",
      "  File \"d:\\TRETEC\\M2 SII\\Data Mining\\TP\\Projet\\algorithms.py\", line 50, in _grow_tree\n",
      "    left_child = self._grow_tree(X[left_idxs,:], y[left_idxs], depth=depth+1)\n",
      "                 ^^^^^^^^^^^^^^^^^^^^^^^^^^^^^^^^^^^^^^^^^^^^^^^^^^^^^^^^^^^^\n",
      "  [Previous line repeated 1 more time]\n",
      "  File \"d:\\TRETEC\\M2 SII\\Data Mining\\TP\\Projet\\algorithms.py\", line 51, in _grow_tree\n",
      "    right_child = self._grow_tree(X[right_idxs,:], y[right_idxs], depth=depth+1)\n",
      "                  ^^^^^^^^^^^^^^^^^^^^^^^^^^^^^^^^^^^^^^^^^^^^^^^^^^^^^^^^^^^^^^\n",
      "  File \"d:\\TRETEC\\M2 SII\\Data Mining\\TP\\Projet\\algorithms.py\", line 50, in _grow_tree\n",
      "    left_child = self._grow_tree(X[left_idxs,:], y[left_idxs], depth=depth+1)\n",
      "                 ^^^^^^^^^^^^^^^^^^^^^^^^^^^^^^^^^^^^^^^^^^^^^^^^^^^^^^^^^^^^\n",
      "  File \"d:\\TRETEC\\M2 SII\\Data Mining\\TP\\Projet\\algorithms.py\", line 50, in _grow_tree\n",
      "    left_child = self._grow_tree(X[left_idxs,:], y[left_idxs], depth=depth+1)\n",
      "                 ^^^^^^^^^^^^^^^^^^^^^^^^^^^^^^^^^^^^^^^^^^^^^^^^^^^^^^^^^^^^\n",
      "  File \"d:\\TRETEC\\M2 SII\\Data Mining\\TP\\Projet\\algorithms.py\", line 51, in _grow_tree\n",
      "    right_child = self._grow_tree(X[right_idxs,:], y[right_idxs], depth=depth+1)\n",
      "                  ^^^^^^^^^^^^^^^^^^^^^^^^^^^^^^^^^^^^^^^^^^^^^^^^^^^^^^^^^^^^^^\n",
      "  File \"d:\\TRETEC\\M2 SII\\Data Mining\\TP\\Projet\\algorithms.py\", line 40, in _grow_tree\n",
      "    leaf_value = self._most_common_label(y)\n",
      "                 ^^^^^^^^^^^^^^^^^^^^^^^^^^\n",
      "  File \"d:\\TRETEC\\M2 SII\\Data Mining\\TP\\Projet\\algorithms.py\", line 72, in _most_common_label\n",
      "    most_common = counter.most_common(1)[0][0]\n",
      "                  ~~~~~~~~~~~~~~~~~~~~~~^^^\n",
      "IndexError: list index out of range\n",
      "\n",
      "--------------------------------------------------------------------------------\n",
      "1 fits failed with the following error:\n",
      "Traceback (most recent call last):\n",
      "  File \"c:\\Users\\Meriem\\AppData\\Local\\Programs\\Python\\Python312\\Lib\\site-packages\\sklearn\\model_selection\\_validation.py\", line 729, in _fit_and_score\n",
      "    estimator.fit(X_train, y_train, **fit_params)\n",
      "  File \"d:\\TRETEC\\M2 SII\\Data Mining\\TP\\Projet\\algorithms.py\", line 30, in fit\n",
      "    self.root = self._grow_tree(X, y)\n",
      "                ^^^^^^^^^^^^^^^^^^^^^\n",
      "  File \"d:\\TRETEC\\M2 SII\\Data Mining\\TP\\Projet\\algorithms.py\", line 50, in _grow_tree\n",
      "    left_child = self._grow_tree(X[left_idxs,:], y[left_idxs], depth=depth+1)\n",
      "                 ^^^^^^^^^^^^^^^^^^^^^^^^^^^^^^^^^^^^^^^^^^^^^^^^^^^^^^^^^^^^\n",
      "  File \"d:\\TRETEC\\M2 SII\\Data Mining\\TP\\Projet\\algorithms.py\", line 51, in _grow_tree\n",
      "    right_child = self._grow_tree(X[right_idxs,:], y[right_idxs], depth=depth+1)\n",
      "                  ^^^^^^^^^^^^^^^^^^^^^^^^^^^^^^^^^^^^^^^^^^^^^^^^^^^^^^^^^^^^^^\n",
      "  File \"d:\\TRETEC\\M2 SII\\Data Mining\\TP\\Projet\\algorithms.py\", line 50, in _grow_tree\n",
      "    left_child = self._grow_tree(X[left_idxs,:], y[left_idxs], depth=depth+1)\n",
      "                 ^^^^^^^^^^^^^^^^^^^^^^^^^^^^^^^^^^^^^^^^^^^^^^^^^^^^^^^^^^^^\n",
      "  File \"d:\\TRETEC\\M2 SII\\Data Mining\\TP\\Projet\\algorithms.py\", line 51, in _grow_tree\n",
      "    right_child = self._grow_tree(X[right_idxs,:], y[right_idxs], depth=depth+1)\n",
      "                  ^^^^^^^^^^^^^^^^^^^^^^^^^^^^^^^^^^^^^^^^^^^^^^^^^^^^^^^^^^^^^^\n",
      "  File \"d:\\TRETEC\\M2 SII\\Data Mining\\TP\\Projet\\algorithms.py\", line 50, in _grow_tree\n",
      "    left_child = self._grow_tree(X[left_idxs,:], y[left_idxs], depth=depth+1)\n",
      "                 ^^^^^^^^^^^^^^^^^^^^^^^^^^^^^^^^^^^^^^^^^^^^^^^^^^^^^^^^^^^^\n",
      "  File \"d:\\TRETEC\\M2 SII\\Data Mining\\TP\\Projet\\algorithms.py\", line 50, in _grow_tree\n",
      "    left_child = self._grow_tree(X[left_idxs,:], y[left_idxs], depth=depth+1)\n",
      "                 ^^^^^^^^^^^^^^^^^^^^^^^^^^^^^^^^^^^^^^^^^^^^^^^^^^^^^^^^^^^^\n",
      "  File \"d:\\TRETEC\\M2 SII\\Data Mining\\TP\\Projet\\algorithms.py\", line 50, in _grow_tree\n",
      "    left_child = self._grow_tree(X[left_idxs,:], y[left_idxs], depth=depth+1)\n",
      "                 ^^^^^^^^^^^^^^^^^^^^^^^^^^^^^^^^^^^^^^^^^^^^^^^^^^^^^^^^^^^^\n",
      "  File \"d:\\TRETEC\\M2 SII\\Data Mining\\TP\\Projet\\algorithms.py\", line 51, in _grow_tree\n",
      "    right_child = self._grow_tree(X[right_idxs,:], y[right_idxs], depth=depth+1)\n",
      "                  ^^^^^^^^^^^^^^^^^^^^^^^^^^^^^^^^^^^^^^^^^^^^^^^^^^^^^^^^^^^^^^\n",
      "  File \"d:\\TRETEC\\M2 SII\\Data Mining\\TP\\Projet\\algorithms.py\", line 40, in _grow_tree\n",
      "    leaf_value = self._most_common_label(y)\n",
      "                 ^^^^^^^^^^^^^^^^^^^^^^^^^^\n",
      "  File \"d:\\TRETEC\\M2 SII\\Data Mining\\TP\\Projet\\algorithms.py\", line 72, in _most_common_label\n",
      "    most_common = counter.most_common(1)[0][0]\n",
      "                  ~~~~~~~~~~~~~~~~~~~~~~^^^\n",
      "IndexError: list index out of range\n",
      "\n",
      "--------------------------------------------------------------------------------\n",
      "1 fits failed with the following error:\n",
      "Traceback (most recent call last):\n",
      "  File \"c:\\Users\\Meriem\\AppData\\Local\\Programs\\Python\\Python312\\Lib\\site-packages\\sklearn\\model_selection\\_validation.py\", line 729, in _fit_and_score\n",
      "    estimator.fit(X_train, y_train, **fit_params)\n",
      "  File \"d:\\TRETEC\\M2 SII\\Data Mining\\TP\\Projet\\algorithms.py\", line 30, in fit\n",
      "    self.root = self._grow_tree(X, y)\n",
      "                ^^^^^^^^^^^^^^^^^^^^^\n",
      "  File \"d:\\TRETEC\\M2 SII\\Data Mining\\TP\\Projet\\algorithms.py\", line 50, in _grow_tree\n",
      "    left_child = self._grow_tree(X[left_idxs,:], y[left_idxs], depth=depth+1)\n",
      "                 ^^^^^^^^^^^^^^^^^^^^^^^^^^^^^^^^^^^^^^^^^^^^^^^^^^^^^^^^^^^^\n",
      "  File \"d:\\TRETEC\\M2 SII\\Data Mining\\TP\\Projet\\algorithms.py\", line 50, in _grow_tree\n",
      "    left_child = self._grow_tree(X[left_idxs,:], y[left_idxs], depth=depth+1)\n",
      "                 ^^^^^^^^^^^^^^^^^^^^^^^^^^^^^^^^^^^^^^^^^^^^^^^^^^^^^^^^^^^^\n",
      "  File \"d:\\TRETEC\\M2 SII\\Data Mining\\TP\\Projet\\algorithms.py\", line 50, in _grow_tree\n",
      "    left_child = self._grow_tree(X[left_idxs,:], y[left_idxs], depth=depth+1)\n",
      "                 ^^^^^^^^^^^^^^^^^^^^^^^^^^^^^^^^^^^^^^^^^^^^^^^^^^^^^^^^^^^^\n",
      "  [Previous line repeated 1 more time]\n",
      "  File \"d:\\TRETEC\\M2 SII\\Data Mining\\TP\\Projet\\algorithms.py\", line 51, in _grow_tree\n",
      "    right_child = self._grow_tree(X[right_idxs,:], y[right_idxs], depth=depth+1)\n",
      "                  ^^^^^^^^^^^^^^^^^^^^^^^^^^^^^^^^^^^^^^^^^^^^^^^^^^^^^^^^^^^^^^\n",
      "  File \"d:\\TRETEC\\M2 SII\\Data Mining\\TP\\Projet\\algorithms.py\", line 50, in _grow_tree\n",
      "    left_child = self._grow_tree(X[left_idxs,:], y[left_idxs], depth=depth+1)\n",
      "                 ^^^^^^^^^^^^^^^^^^^^^^^^^^^^^^^^^^^^^^^^^^^^^^^^^^^^^^^^^^^^\n",
      "  File \"d:\\TRETEC\\M2 SII\\Data Mining\\TP\\Projet\\algorithms.py\", line 50, in _grow_tree\n",
      "    left_child = self._grow_tree(X[left_idxs,:], y[left_idxs], depth=depth+1)\n",
      "                 ^^^^^^^^^^^^^^^^^^^^^^^^^^^^^^^^^^^^^^^^^^^^^^^^^^^^^^^^^^^^\n",
      "  File \"d:\\TRETEC\\M2 SII\\Data Mining\\TP\\Projet\\algorithms.py\", line 51, in _grow_tree\n",
      "    right_child = self._grow_tree(X[right_idxs,:], y[right_idxs], depth=depth+1)\n",
      "                  ^^^^^^^^^^^^^^^^^^^^^^^^^^^^^^^^^^^^^^^^^^^^^^^^^^^^^^^^^^^^^^\n",
      "  File \"d:\\TRETEC\\M2 SII\\Data Mining\\TP\\Projet\\algorithms.py\", line 40, in _grow_tree\n",
      "    leaf_value = self._most_common_label(y)\n",
      "                 ^^^^^^^^^^^^^^^^^^^^^^^^^^\n",
      "  File \"d:\\TRETEC\\M2 SII\\Data Mining\\TP\\Projet\\algorithms.py\", line 72, in _most_common_label\n",
      "    most_common = counter.most_common(1)[0][0]\n",
      "                  ~~~~~~~~~~~~~~~~~~~~~~^^^\n",
      "IndexError: list index out of range\n",
      "\n",
      "--------------------------------------------------------------------------------\n",
      "1 fits failed with the following error:\n",
      "Traceback (most recent call last):\n",
      "  File \"c:\\Users\\Meriem\\AppData\\Local\\Programs\\Python\\Python312\\Lib\\site-packages\\sklearn\\model_selection\\_validation.py\", line 729, in _fit_and_score\n",
      "    estimator.fit(X_train, y_train, **fit_params)\n",
      "  File \"d:\\TRETEC\\M2 SII\\Data Mining\\TP\\Projet\\algorithms.py\", line 30, in fit\n",
      "    self.root = self._grow_tree(X, y)\n",
      "                ^^^^^^^^^^^^^^^^^^^^^\n",
      "  File \"d:\\TRETEC\\M2 SII\\Data Mining\\TP\\Projet\\algorithms.py\", line 50, in _grow_tree\n",
      "    left_child = self._grow_tree(X[left_idxs,:], y[left_idxs], depth=depth+1)\n",
      "                 ^^^^^^^^^^^^^^^^^^^^^^^^^^^^^^^^^^^^^^^^^^^^^^^^^^^^^^^^^^^^\n",
      "  File \"d:\\TRETEC\\M2 SII\\Data Mining\\TP\\Projet\\algorithms.py\", line 50, in _grow_tree\n",
      "    left_child = self._grow_tree(X[left_idxs,:], y[left_idxs], depth=depth+1)\n",
      "                 ^^^^^^^^^^^^^^^^^^^^^^^^^^^^^^^^^^^^^^^^^^^^^^^^^^^^^^^^^^^^\n",
      "  File \"d:\\TRETEC\\M2 SII\\Data Mining\\TP\\Projet\\algorithms.py\", line 50, in _grow_tree\n",
      "    left_child = self._grow_tree(X[left_idxs,:], y[left_idxs], depth=depth+1)\n",
      "                 ^^^^^^^^^^^^^^^^^^^^^^^^^^^^^^^^^^^^^^^^^^^^^^^^^^^^^^^^^^^^\n",
      "  File \"d:\\TRETEC\\M2 SII\\Data Mining\\TP\\Projet\\algorithms.py\", line 51, in _grow_tree\n",
      "    right_child = self._grow_tree(X[right_idxs,:], y[right_idxs], depth=depth+1)\n",
      "                  ^^^^^^^^^^^^^^^^^^^^^^^^^^^^^^^^^^^^^^^^^^^^^^^^^^^^^^^^^^^^^^\n",
      "  File \"d:\\TRETEC\\M2 SII\\Data Mining\\TP\\Projet\\algorithms.py\", line 50, in _grow_tree\n",
      "    left_child = self._grow_tree(X[left_idxs,:], y[left_idxs], depth=depth+1)\n",
      "                 ^^^^^^^^^^^^^^^^^^^^^^^^^^^^^^^^^^^^^^^^^^^^^^^^^^^^^^^^^^^^\n",
      "  File \"d:\\TRETEC\\M2 SII\\Data Mining\\TP\\Projet\\algorithms.py\", line 50, in _grow_tree\n",
      "    left_child = self._grow_tree(X[left_idxs,:], y[left_idxs], depth=depth+1)\n",
      "                 ^^^^^^^^^^^^^^^^^^^^^^^^^^^^^^^^^^^^^^^^^^^^^^^^^^^^^^^^^^^^\n",
      "  File \"d:\\TRETEC\\M2 SII\\Data Mining\\TP\\Projet\\algorithms.py\", line 50, in _grow_tree\n",
      "    left_child = self._grow_tree(X[left_idxs,:], y[left_idxs], depth=depth+1)\n",
      "                 ^^^^^^^^^^^^^^^^^^^^^^^^^^^^^^^^^^^^^^^^^^^^^^^^^^^^^^^^^^^^\n",
      "  [Previous line repeated 1 more time]\n",
      "  File \"d:\\TRETEC\\M2 SII\\Data Mining\\TP\\Projet\\algorithms.py\", line 51, in _grow_tree\n",
      "    right_child = self._grow_tree(X[right_idxs,:], y[right_idxs], depth=depth+1)\n",
      "                  ^^^^^^^^^^^^^^^^^^^^^^^^^^^^^^^^^^^^^^^^^^^^^^^^^^^^^^^^^^^^^^\n",
      "  File \"d:\\TRETEC\\M2 SII\\Data Mining\\TP\\Projet\\algorithms.py\", line 50, in _grow_tree\n",
      "    left_child = self._grow_tree(X[left_idxs,:], y[left_idxs], depth=depth+1)\n",
      "                 ^^^^^^^^^^^^^^^^^^^^^^^^^^^^^^^^^^^^^^^^^^^^^^^^^^^^^^^^^^^^\n",
      "  File \"d:\\TRETEC\\M2 SII\\Data Mining\\TP\\Projet\\algorithms.py\", line 50, in _grow_tree\n",
      "    left_child = self._grow_tree(X[left_idxs,:], y[left_idxs], depth=depth+1)\n",
      "                 ^^^^^^^^^^^^^^^^^^^^^^^^^^^^^^^^^^^^^^^^^^^^^^^^^^^^^^^^^^^^\n",
      "  File \"d:\\TRETEC\\M2 SII\\Data Mining\\TP\\Projet\\algorithms.py\", line 50, in _grow_tree\n",
      "    left_child = self._grow_tree(X[left_idxs,:], y[left_idxs], depth=depth+1)\n",
      "                 ^^^^^^^^^^^^^^^^^^^^^^^^^^^^^^^^^^^^^^^^^^^^^^^^^^^^^^^^^^^^\n",
      "  [Previous line repeated 2 more times]\n",
      "  File \"d:\\TRETEC\\M2 SII\\Data Mining\\TP\\Projet\\algorithms.py\", line 51, in _grow_tree\n",
      "    right_child = self._grow_tree(X[right_idxs,:], y[right_idxs], depth=depth+1)\n",
      "                  ^^^^^^^^^^^^^^^^^^^^^^^^^^^^^^^^^^^^^^^^^^^^^^^^^^^^^^^^^^^^^^\n",
      "  File \"d:\\TRETEC\\M2 SII\\Data Mining\\TP\\Projet\\algorithms.py\", line 51, in _grow_tree\n",
      "    right_child = self._grow_tree(X[right_idxs,:], y[right_idxs], depth=depth+1)\n",
      "                  ^^^^^^^^^^^^^^^^^^^^^^^^^^^^^^^^^^^^^^^^^^^^^^^^^^^^^^^^^^^^^^\n",
      "  File \"d:\\TRETEC\\M2 SII\\Data Mining\\TP\\Projet\\algorithms.py\", line 40, in _grow_tree\n",
      "    leaf_value = self._most_common_label(y)\n",
      "                 ^^^^^^^^^^^^^^^^^^^^^^^^^^\n",
      "  File \"d:\\TRETEC\\M2 SII\\Data Mining\\TP\\Projet\\algorithms.py\", line 72, in _most_common_label\n",
      "    most_common = counter.most_common(1)[0][0]\n",
      "                  ~~~~~~~~~~~~~~~~~~~~~~^^^\n",
      "IndexError: list index out of range\n",
      "\n",
      "--------------------------------------------------------------------------------\n",
      "1 fits failed with the following error:\n",
      "Traceback (most recent call last):\n",
      "  File \"c:\\Users\\Meriem\\AppData\\Local\\Programs\\Python\\Python312\\Lib\\site-packages\\sklearn\\model_selection\\_validation.py\", line 729, in _fit_and_score\n",
      "    estimator.fit(X_train, y_train, **fit_params)\n",
      "  File \"d:\\TRETEC\\M2 SII\\Data Mining\\TP\\Projet\\algorithms.py\", line 30, in fit\n",
      "    self.root = self._grow_tree(X, y)\n",
      "                ^^^^^^^^^^^^^^^^^^^^^\n",
      "  File \"d:\\TRETEC\\M2 SII\\Data Mining\\TP\\Projet\\algorithms.py\", line 50, in _grow_tree\n",
      "    left_child = self._grow_tree(X[left_idxs,:], y[left_idxs], depth=depth+1)\n",
      "                 ^^^^^^^^^^^^^^^^^^^^^^^^^^^^^^^^^^^^^^^^^^^^^^^^^^^^^^^^^^^^\n",
      "  File \"d:\\TRETEC\\M2 SII\\Data Mining\\TP\\Projet\\algorithms.py\", line 50, in _grow_tree\n",
      "    left_child = self._grow_tree(X[left_idxs,:], y[left_idxs], depth=depth+1)\n",
      "                 ^^^^^^^^^^^^^^^^^^^^^^^^^^^^^^^^^^^^^^^^^^^^^^^^^^^^^^^^^^^^\n",
      "  File \"d:\\TRETEC\\M2 SII\\Data Mining\\TP\\Projet\\algorithms.py\", line 50, in _grow_tree\n",
      "    left_child = self._grow_tree(X[left_idxs,:], y[left_idxs], depth=depth+1)\n",
      "                 ^^^^^^^^^^^^^^^^^^^^^^^^^^^^^^^^^^^^^^^^^^^^^^^^^^^^^^^^^^^^\n",
      "  [Previous line repeated 1 more time]\n",
      "  File \"d:\\TRETEC\\M2 SII\\Data Mining\\TP\\Projet\\algorithms.py\", line 51, in _grow_tree\n",
      "    right_child = self._grow_tree(X[right_idxs,:], y[right_idxs], depth=depth+1)\n",
      "                  ^^^^^^^^^^^^^^^^^^^^^^^^^^^^^^^^^^^^^^^^^^^^^^^^^^^^^^^^^^^^^^\n",
      "  File \"d:\\TRETEC\\M2 SII\\Data Mining\\TP\\Projet\\algorithms.py\", line 50, in _grow_tree\n",
      "    left_child = self._grow_tree(X[left_idxs,:], y[left_idxs], depth=depth+1)\n",
      "                 ^^^^^^^^^^^^^^^^^^^^^^^^^^^^^^^^^^^^^^^^^^^^^^^^^^^^^^^^^^^^\n",
      "  File \"d:\\TRETEC\\M2 SII\\Data Mining\\TP\\Projet\\algorithms.py\", line 51, in _grow_tree\n",
      "    right_child = self._grow_tree(X[right_idxs,:], y[right_idxs], depth=depth+1)\n",
      "                  ^^^^^^^^^^^^^^^^^^^^^^^^^^^^^^^^^^^^^^^^^^^^^^^^^^^^^^^^^^^^^^\n",
      "  File \"d:\\TRETEC\\M2 SII\\Data Mining\\TP\\Projet\\algorithms.py\", line 50, in _grow_tree\n",
      "    left_child = self._grow_tree(X[left_idxs,:], y[left_idxs], depth=depth+1)\n",
      "                 ^^^^^^^^^^^^^^^^^^^^^^^^^^^^^^^^^^^^^^^^^^^^^^^^^^^^^^^^^^^^\n",
      "  File \"d:\\TRETEC\\M2 SII\\Data Mining\\TP\\Projet\\algorithms.py\", line 50, in _grow_tree\n",
      "    left_child = self._grow_tree(X[left_idxs,:], y[left_idxs], depth=depth+1)\n",
      "                 ^^^^^^^^^^^^^^^^^^^^^^^^^^^^^^^^^^^^^^^^^^^^^^^^^^^^^^^^^^^^\n",
      "  File \"d:\\TRETEC\\M2 SII\\Data Mining\\TP\\Projet\\algorithms.py\", line 50, in _grow_tree\n",
      "    left_child = self._grow_tree(X[left_idxs,:], y[left_idxs], depth=depth+1)\n",
      "                 ^^^^^^^^^^^^^^^^^^^^^^^^^^^^^^^^^^^^^^^^^^^^^^^^^^^^^^^^^^^^\n",
      "  [Previous line repeated 1 more time]\n",
      "  File \"d:\\TRETEC\\M2 SII\\Data Mining\\TP\\Projet\\algorithms.py\", line 51, in _grow_tree\n",
      "    right_child = self._grow_tree(X[right_idxs,:], y[right_idxs], depth=depth+1)\n",
      "                  ^^^^^^^^^^^^^^^^^^^^^^^^^^^^^^^^^^^^^^^^^^^^^^^^^^^^^^^^^^^^^^\n",
      "  File \"d:\\TRETEC\\M2 SII\\Data Mining\\TP\\Projet\\algorithms.py\", line 40, in _grow_tree\n",
      "    leaf_value = self._most_common_label(y)\n",
      "                 ^^^^^^^^^^^^^^^^^^^^^^^^^^\n",
      "  File \"d:\\TRETEC\\M2 SII\\Data Mining\\TP\\Projet\\algorithms.py\", line 72, in _most_common_label\n",
      "    most_common = counter.most_common(1)[0][0]\n",
      "                  ~~~~~~~~~~~~~~~~~~~~~~^^^\n",
      "IndexError: list index out of range\n",
      "\n",
      "--------------------------------------------------------------------------------\n",
      "1 fits failed with the following error:\n",
      "Traceback (most recent call last):\n",
      "  File \"c:\\Users\\Meriem\\AppData\\Local\\Programs\\Python\\Python312\\Lib\\site-packages\\sklearn\\model_selection\\_validation.py\", line 729, in _fit_and_score\n",
      "    estimator.fit(X_train, y_train, **fit_params)\n",
      "  File \"d:\\TRETEC\\M2 SII\\Data Mining\\TP\\Projet\\algorithms.py\", line 30, in fit\n",
      "    self.root = self._grow_tree(X, y)\n",
      "                ^^^^^^^^^^^^^^^^^^^^^\n",
      "  File \"d:\\TRETEC\\M2 SII\\Data Mining\\TP\\Projet\\algorithms.py\", line 50, in _grow_tree\n",
      "    left_child = self._grow_tree(X[left_idxs,:], y[left_idxs], depth=depth+1)\n",
      "                 ^^^^^^^^^^^^^^^^^^^^^^^^^^^^^^^^^^^^^^^^^^^^^^^^^^^^^^^^^^^^\n",
      "  File \"d:\\TRETEC\\M2 SII\\Data Mining\\TP\\Projet\\algorithms.py\", line 51, in _grow_tree\n",
      "    right_child = self._grow_tree(X[right_idxs,:], y[right_idxs], depth=depth+1)\n",
      "                  ^^^^^^^^^^^^^^^^^^^^^^^^^^^^^^^^^^^^^^^^^^^^^^^^^^^^^^^^^^^^^^\n",
      "  File \"d:\\TRETEC\\M2 SII\\Data Mining\\TP\\Projet\\algorithms.py\", line 50, in _grow_tree\n",
      "    left_child = self._grow_tree(X[left_idxs,:], y[left_idxs], depth=depth+1)\n",
      "                 ^^^^^^^^^^^^^^^^^^^^^^^^^^^^^^^^^^^^^^^^^^^^^^^^^^^^^^^^^^^^\n",
      "  File \"d:\\TRETEC\\M2 SII\\Data Mining\\TP\\Projet\\algorithms.py\", line 50, in _grow_tree\n",
      "    left_child = self._grow_tree(X[left_idxs,:], y[left_idxs], depth=depth+1)\n",
      "                 ^^^^^^^^^^^^^^^^^^^^^^^^^^^^^^^^^^^^^^^^^^^^^^^^^^^^^^^^^^^^\n",
      "  File \"d:\\TRETEC\\M2 SII\\Data Mining\\TP\\Projet\\algorithms.py\", line 50, in _grow_tree\n",
      "    left_child = self._grow_tree(X[left_idxs,:], y[left_idxs], depth=depth+1)\n",
      "                 ^^^^^^^^^^^^^^^^^^^^^^^^^^^^^^^^^^^^^^^^^^^^^^^^^^^^^^^^^^^^\n",
      "  [Previous line repeated 3 more times]\n",
      "  File \"d:\\TRETEC\\M2 SII\\Data Mining\\TP\\Projet\\algorithms.py\", line 51, in _grow_tree\n",
      "    right_child = self._grow_tree(X[right_idxs,:], y[right_idxs], depth=depth+1)\n",
      "                  ^^^^^^^^^^^^^^^^^^^^^^^^^^^^^^^^^^^^^^^^^^^^^^^^^^^^^^^^^^^^^^\n",
      "  File \"d:\\TRETEC\\M2 SII\\Data Mining\\TP\\Projet\\algorithms.py\", line 50, in _grow_tree\n",
      "    left_child = self._grow_tree(X[left_idxs,:], y[left_idxs], depth=depth+1)\n",
      "                 ^^^^^^^^^^^^^^^^^^^^^^^^^^^^^^^^^^^^^^^^^^^^^^^^^^^^^^^^^^^^\n",
      "  File \"d:\\TRETEC\\M2 SII\\Data Mining\\TP\\Projet\\algorithms.py\", line 51, in _grow_tree\n",
      "    right_child = self._grow_tree(X[right_idxs,:], y[right_idxs], depth=depth+1)\n",
      "                  ^^^^^^^^^^^^^^^^^^^^^^^^^^^^^^^^^^^^^^^^^^^^^^^^^^^^^^^^^^^^^^\n",
      "  File \"d:\\TRETEC\\M2 SII\\Data Mining\\TP\\Projet\\algorithms.py\", line 50, in _grow_tree\n",
      "    left_child = self._grow_tree(X[left_idxs,:], y[left_idxs], depth=depth+1)\n",
      "                 ^^^^^^^^^^^^^^^^^^^^^^^^^^^^^^^^^^^^^^^^^^^^^^^^^^^^^^^^^^^^\n",
      "  File \"d:\\TRETEC\\M2 SII\\Data Mining\\TP\\Projet\\algorithms.py\", line 50, in _grow_tree\n",
      "    left_child = self._grow_tree(X[left_idxs,:], y[left_idxs], depth=depth+1)\n",
      "                 ^^^^^^^^^^^^^^^^^^^^^^^^^^^^^^^^^^^^^^^^^^^^^^^^^^^^^^^^^^^^\n",
      "  File \"d:\\TRETEC\\M2 SII\\Data Mining\\TP\\Projet\\algorithms.py\", line 50, in _grow_tree\n",
      "    left_child = self._grow_tree(X[left_idxs,:], y[left_idxs], depth=depth+1)\n",
      "                 ^^^^^^^^^^^^^^^^^^^^^^^^^^^^^^^^^^^^^^^^^^^^^^^^^^^^^^^^^^^^\n",
      "  File \"d:\\TRETEC\\M2 SII\\Data Mining\\TP\\Projet\\algorithms.py\", line 51, in _grow_tree\n",
      "    right_child = self._grow_tree(X[right_idxs,:], y[right_idxs], depth=depth+1)\n",
      "                  ^^^^^^^^^^^^^^^^^^^^^^^^^^^^^^^^^^^^^^^^^^^^^^^^^^^^^^^^^^^^^^\n",
      "  File \"d:\\TRETEC\\M2 SII\\Data Mining\\TP\\Projet\\algorithms.py\", line 40, in _grow_tree\n",
      "    leaf_value = self._most_common_label(y)\n",
      "                 ^^^^^^^^^^^^^^^^^^^^^^^^^^\n",
      "  File \"d:\\TRETEC\\M2 SII\\Data Mining\\TP\\Projet\\algorithms.py\", line 72, in _most_common_label\n",
      "    most_common = counter.most_common(1)[0][0]\n",
      "                  ~~~~~~~~~~~~~~~~~~~~~~^^^\n",
      "IndexError: list index out of range\n",
      "\n",
      "--------------------------------------------------------------------------------\n",
      "1 fits failed with the following error:\n",
      "Traceback (most recent call last):\n",
      "  File \"c:\\Users\\Meriem\\AppData\\Local\\Programs\\Python\\Python312\\Lib\\site-packages\\sklearn\\model_selection\\_validation.py\", line 729, in _fit_and_score\n",
      "    estimator.fit(X_train, y_train, **fit_params)\n",
      "  File \"d:\\TRETEC\\M2 SII\\Data Mining\\TP\\Projet\\algorithms.py\", line 30, in fit\n",
      "    self.root = self._grow_tree(X, y)\n",
      "                ^^^^^^^^^^^^^^^^^^^^^\n",
      "  File \"d:\\TRETEC\\M2 SII\\Data Mining\\TP\\Projet\\algorithms.py\", line 50, in _grow_tree\n",
      "    left_child = self._grow_tree(X[left_idxs,:], y[left_idxs], depth=depth+1)\n",
      "                 ^^^^^^^^^^^^^^^^^^^^^^^^^^^^^^^^^^^^^^^^^^^^^^^^^^^^^^^^^^^^\n",
      "  File \"d:\\TRETEC\\M2 SII\\Data Mining\\TP\\Projet\\algorithms.py\", line 50, in _grow_tree\n",
      "    left_child = self._grow_tree(X[left_idxs,:], y[left_idxs], depth=depth+1)\n",
      "                 ^^^^^^^^^^^^^^^^^^^^^^^^^^^^^^^^^^^^^^^^^^^^^^^^^^^^^^^^^^^^\n",
      "  File \"d:\\TRETEC\\M2 SII\\Data Mining\\TP\\Projet\\algorithms.py\", line 50, in _grow_tree\n",
      "    left_child = self._grow_tree(X[left_idxs,:], y[left_idxs], depth=depth+1)\n",
      "                 ^^^^^^^^^^^^^^^^^^^^^^^^^^^^^^^^^^^^^^^^^^^^^^^^^^^^^^^^^^^^\n",
      "  [Previous line repeated 2 more times]\n",
      "  File \"d:\\TRETEC\\M2 SII\\Data Mining\\TP\\Projet\\algorithms.py\", line 51, in _grow_tree\n",
      "    right_child = self._grow_tree(X[right_idxs,:], y[right_idxs], depth=depth+1)\n",
      "                  ^^^^^^^^^^^^^^^^^^^^^^^^^^^^^^^^^^^^^^^^^^^^^^^^^^^^^^^^^^^^^^\n",
      "  File \"d:\\TRETEC\\M2 SII\\Data Mining\\TP\\Projet\\algorithms.py\", line 50, in _grow_tree\n",
      "    left_child = self._grow_tree(X[left_idxs,:], y[left_idxs], depth=depth+1)\n",
      "                 ^^^^^^^^^^^^^^^^^^^^^^^^^^^^^^^^^^^^^^^^^^^^^^^^^^^^^^^^^^^^\n",
      "  File \"d:\\TRETEC\\M2 SII\\Data Mining\\TP\\Projet\\algorithms.py\", line 51, in _grow_tree\n",
      "    right_child = self._grow_tree(X[right_idxs,:], y[right_idxs], depth=depth+1)\n",
      "                  ^^^^^^^^^^^^^^^^^^^^^^^^^^^^^^^^^^^^^^^^^^^^^^^^^^^^^^^^^^^^^^\n",
      "  File \"d:\\TRETEC\\M2 SII\\Data Mining\\TP\\Projet\\algorithms.py\", line 50, in _grow_tree\n",
      "    left_child = self._grow_tree(X[left_idxs,:], y[left_idxs], depth=depth+1)\n",
      "                 ^^^^^^^^^^^^^^^^^^^^^^^^^^^^^^^^^^^^^^^^^^^^^^^^^^^^^^^^^^^^\n",
      "  File \"d:\\TRETEC\\M2 SII\\Data Mining\\TP\\Projet\\algorithms.py\", line 50, in _grow_tree\n",
      "    left_child = self._grow_tree(X[left_idxs,:], y[left_idxs], depth=depth+1)\n",
      "                 ^^^^^^^^^^^^^^^^^^^^^^^^^^^^^^^^^^^^^^^^^^^^^^^^^^^^^^^^^^^^\n",
      "  File \"d:\\TRETEC\\M2 SII\\Data Mining\\TP\\Projet\\algorithms.py\", line 50, in _grow_tree\n",
      "    left_child = self._grow_tree(X[left_idxs,:], y[left_idxs], depth=depth+1)\n",
      "                 ^^^^^^^^^^^^^^^^^^^^^^^^^^^^^^^^^^^^^^^^^^^^^^^^^^^^^^^^^^^^\n",
      "  [Previous line repeated 1 more time]\n",
      "  File \"d:\\TRETEC\\M2 SII\\Data Mining\\TP\\Projet\\algorithms.py\", line 51, in _grow_tree\n",
      "    right_child = self._grow_tree(X[right_idxs,:], y[right_idxs], depth=depth+1)\n",
      "                  ^^^^^^^^^^^^^^^^^^^^^^^^^^^^^^^^^^^^^^^^^^^^^^^^^^^^^^^^^^^^^^\n",
      "  File \"d:\\TRETEC\\M2 SII\\Data Mining\\TP\\Projet\\algorithms.py\", line 40, in _grow_tree\n",
      "    leaf_value = self._most_common_label(y)\n",
      "                 ^^^^^^^^^^^^^^^^^^^^^^^^^^\n",
      "  File \"d:\\TRETEC\\M2 SII\\Data Mining\\TP\\Projet\\algorithms.py\", line 72, in _most_common_label\n",
      "    most_common = counter.most_common(1)[0][0]\n",
      "                  ~~~~~~~~~~~~~~~~~~~~~~^^^\n",
      "IndexError: list index out of range\n",
      "\n",
      "--------------------------------------------------------------------------------\n",
      "1 fits failed with the following error:\n",
      "Traceback (most recent call last):\n",
      "  File \"c:\\Users\\Meriem\\AppData\\Local\\Programs\\Python\\Python312\\Lib\\site-packages\\sklearn\\model_selection\\_validation.py\", line 729, in _fit_and_score\n",
      "    estimator.fit(X_train, y_train, **fit_params)\n",
      "  File \"d:\\TRETEC\\M2 SII\\Data Mining\\TP\\Projet\\algorithms.py\", line 30, in fit\n",
      "    self.root = self._grow_tree(X, y)\n",
      "                ^^^^^^^^^^^^^^^^^^^^^\n",
      "  File \"d:\\TRETEC\\M2 SII\\Data Mining\\TP\\Projet\\algorithms.py\", line 50, in _grow_tree\n",
      "    left_child = self._grow_tree(X[left_idxs,:], y[left_idxs], depth=depth+1)\n",
      "                 ^^^^^^^^^^^^^^^^^^^^^^^^^^^^^^^^^^^^^^^^^^^^^^^^^^^^^^^^^^^^\n",
      "  File \"d:\\TRETEC\\M2 SII\\Data Mining\\TP\\Projet\\algorithms.py\", line 50, in _grow_tree\n",
      "    left_child = self._grow_tree(X[left_idxs,:], y[left_idxs], depth=depth+1)\n",
      "                 ^^^^^^^^^^^^^^^^^^^^^^^^^^^^^^^^^^^^^^^^^^^^^^^^^^^^^^^^^^^^\n",
      "  File \"d:\\TRETEC\\M2 SII\\Data Mining\\TP\\Projet\\algorithms.py\", line 50, in _grow_tree\n",
      "    left_child = self._grow_tree(X[left_idxs,:], y[left_idxs], depth=depth+1)\n",
      "                 ^^^^^^^^^^^^^^^^^^^^^^^^^^^^^^^^^^^^^^^^^^^^^^^^^^^^^^^^^^^^\n",
      "  File \"d:\\TRETEC\\M2 SII\\Data Mining\\TP\\Projet\\algorithms.py\", line 51, in _grow_tree\n",
      "    right_child = self._grow_tree(X[right_idxs,:], y[right_idxs], depth=depth+1)\n",
      "                  ^^^^^^^^^^^^^^^^^^^^^^^^^^^^^^^^^^^^^^^^^^^^^^^^^^^^^^^^^^^^^^\n",
      "  File \"d:\\TRETEC\\M2 SII\\Data Mining\\TP\\Projet\\algorithms.py\", line 50, in _grow_tree\n",
      "    left_child = self._grow_tree(X[left_idxs,:], y[left_idxs], depth=depth+1)\n",
      "                 ^^^^^^^^^^^^^^^^^^^^^^^^^^^^^^^^^^^^^^^^^^^^^^^^^^^^^^^^^^^^\n",
      "  File \"d:\\TRETEC\\M2 SII\\Data Mining\\TP\\Projet\\algorithms.py\", line 51, in _grow_tree\n",
      "    right_child = self._grow_tree(X[right_idxs,:], y[right_idxs], depth=depth+1)\n",
      "                  ^^^^^^^^^^^^^^^^^^^^^^^^^^^^^^^^^^^^^^^^^^^^^^^^^^^^^^^^^^^^^^\n",
      "  File \"d:\\TRETEC\\M2 SII\\Data Mining\\TP\\Projet\\algorithms.py\", line 50, in _grow_tree\n",
      "    left_child = self._grow_tree(X[left_idxs,:], y[left_idxs], depth=depth+1)\n",
      "                 ^^^^^^^^^^^^^^^^^^^^^^^^^^^^^^^^^^^^^^^^^^^^^^^^^^^^^^^^^^^^\n",
      "  File \"d:\\TRETEC\\M2 SII\\Data Mining\\TP\\Projet\\algorithms.py\", line 50, in _grow_tree\n",
      "    left_child = self._grow_tree(X[left_idxs,:], y[left_idxs], depth=depth+1)\n",
      "                 ^^^^^^^^^^^^^^^^^^^^^^^^^^^^^^^^^^^^^^^^^^^^^^^^^^^^^^^^^^^^\n",
      "  File \"d:\\TRETEC\\M2 SII\\Data Mining\\TP\\Projet\\algorithms.py\", line 51, in _grow_tree\n",
      "    right_child = self._grow_tree(X[right_idxs,:], y[right_idxs], depth=depth+1)\n",
      "                  ^^^^^^^^^^^^^^^^^^^^^^^^^^^^^^^^^^^^^^^^^^^^^^^^^^^^^^^^^^^^^^\n",
      "  File \"d:\\TRETEC\\M2 SII\\Data Mining\\TP\\Projet\\algorithms.py\", line 40, in _grow_tree\n",
      "    leaf_value = self._most_common_label(y)\n",
      "                 ^^^^^^^^^^^^^^^^^^^^^^^^^^\n",
      "  File \"d:\\TRETEC\\M2 SII\\Data Mining\\TP\\Projet\\algorithms.py\", line 72, in _most_common_label\n",
      "    most_common = counter.most_common(1)[0][0]\n",
      "                  ~~~~~~~~~~~~~~~~~~~~~~^^^\n",
      "IndexError: list index out of range\n",
      "\n",
      "--------------------------------------------------------------------------------\n",
      "1 fits failed with the following error:\n",
      "Traceback (most recent call last):\n",
      "  File \"c:\\Users\\Meriem\\AppData\\Local\\Programs\\Python\\Python312\\Lib\\site-packages\\sklearn\\model_selection\\_validation.py\", line 729, in _fit_and_score\n",
      "    estimator.fit(X_train, y_train, **fit_params)\n",
      "  File \"d:\\TRETEC\\M2 SII\\Data Mining\\TP\\Projet\\algorithms.py\", line 30, in fit\n",
      "    self.root = self._grow_tree(X, y)\n",
      "                ^^^^^^^^^^^^^^^^^^^^^\n",
      "  File \"d:\\TRETEC\\M2 SII\\Data Mining\\TP\\Projet\\algorithms.py\", line 50, in _grow_tree\n",
      "    left_child = self._grow_tree(X[left_idxs,:], y[left_idxs], depth=depth+1)\n",
      "                 ^^^^^^^^^^^^^^^^^^^^^^^^^^^^^^^^^^^^^^^^^^^^^^^^^^^^^^^^^^^^\n",
      "  File \"d:\\TRETEC\\M2 SII\\Data Mining\\TP\\Projet\\algorithms.py\", line 50, in _grow_tree\n",
      "    left_child = self._grow_tree(X[left_idxs,:], y[left_idxs], depth=depth+1)\n",
      "                 ^^^^^^^^^^^^^^^^^^^^^^^^^^^^^^^^^^^^^^^^^^^^^^^^^^^^^^^^^^^^\n",
      "  File \"d:\\TRETEC\\M2 SII\\Data Mining\\TP\\Projet\\algorithms.py\", line 51, in _grow_tree\n",
      "    right_child = self._grow_tree(X[right_idxs,:], y[right_idxs], depth=depth+1)\n",
      "                  ^^^^^^^^^^^^^^^^^^^^^^^^^^^^^^^^^^^^^^^^^^^^^^^^^^^^^^^^^^^^^^\n",
      "  File \"d:\\TRETEC\\M2 SII\\Data Mining\\TP\\Projet\\algorithms.py\", line 50, in _grow_tree\n",
      "    left_child = self._grow_tree(X[left_idxs,:], y[left_idxs], depth=depth+1)\n",
      "                 ^^^^^^^^^^^^^^^^^^^^^^^^^^^^^^^^^^^^^^^^^^^^^^^^^^^^^^^^^^^^\n",
      "  File \"d:\\TRETEC\\M2 SII\\Data Mining\\TP\\Projet\\algorithms.py\", line 51, in _grow_tree\n",
      "    right_child = self._grow_tree(X[right_idxs,:], y[right_idxs], depth=depth+1)\n",
      "                  ^^^^^^^^^^^^^^^^^^^^^^^^^^^^^^^^^^^^^^^^^^^^^^^^^^^^^^^^^^^^^^\n",
      "  File \"d:\\TRETEC\\M2 SII\\Data Mining\\TP\\Projet\\algorithms.py\", line 50, in _grow_tree\n",
      "    left_child = self._grow_tree(X[left_idxs,:], y[left_idxs], depth=depth+1)\n",
      "                 ^^^^^^^^^^^^^^^^^^^^^^^^^^^^^^^^^^^^^^^^^^^^^^^^^^^^^^^^^^^^\n",
      "  File \"d:\\TRETEC\\M2 SII\\Data Mining\\TP\\Projet\\algorithms.py\", line 51, in _grow_tree\n",
      "    right_child = self._grow_tree(X[right_idxs,:], y[right_idxs], depth=depth+1)\n",
      "                  ^^^^^^^^^^^^^^^^^^^^^^^^^^^^^^^^^^^^^^^^^^^^^^^^^^^^^^^^^^^^^^\n",
      "  File \"d:\\TRETEC\\M2 SII\\Data Mining\\TP\\Projet\\algorithms.py\", line 51, in _grow_tree\n",
      "    right_child = self._grow_tree(X[right_idxs,:], y[right_idxs], depth=depth+1)\n",
      "                  ^^^^^^^^^^^^^^^^^^^^^^^^^^^^^^^^^^^^^^^^^^^^^^^^^^^^^^^^^^^^^^\n",
      "  File \"d:\\TRETEC\\M2 SII\\Data Mining\\TP\\Projet\\algorithms.py\", line 40, in _grow_tree\n",
      "    leaf_value = self._most_common_label(y)\n",
      "                 ^^^^^^^^^^^^^^^^^^^^^^^^^^\n",
      "  File \"d:\\TRETEC\\M2 SII\\Data Mining\\TP\\Projet\\algorithms.py\", line 72, in _most_common_label\n",
      "    most_common = counter.most_common(1)[0][0]\n",
      "                  ~~~~~~~~~~~~~~~~~~~~~~^^^\n",
      "IndexError: list index out of range\n",
      "\n",
      "--------------------------------------------------------------------------------\n",
      "1 fits failed with the following error:\n",
      "Traceback (most recent call last):\n",
      "  File \"c:\\Users\\Meriem\\AppData\\Local\\Programs\\Python\\Python312\\Lib\\site-packages\\sklearn\\model_selection\\_validation.py\", line 729, in _fit_and_score\n",
      "    estimator.fit(X_train, y_train, **fit_params)\n",
      "  File \"d:\\TRETEC\\M2 SII\\Data Mining\\TP\\Projet\\algorithms.py\", line 30, in fit\n",
      "    self.root = self._grow_tree(X, y)\n",
      "                ^^^^^^^^^^^^^^^^^^^^^\n",
      "  File \"d:\\TRETEC\\M2 SII\\Data Mining\\TP\\Projet\\algorithms.py\", line 50, in _grow_tree\n",
      "    left_child = self._grow_tree(X[left_idxs,:], y[left_idxs], depth=depth+1)\n",
      "                 ^^^^^^^^^^^^^^^^^^^^^^^^^^^^^^^^^^^^^^^^^^^^^^^^^^^^^^^^^^^^\n",
      "  File \"d:\\TRETEC\\M2 SII\\Data Mining\\TP\\Projet\\algorithms.py\", line 50, in _grow_tree\n",
      "    left_child = self._grow_tree(X[left_idxs,:], y[left_idxs], depth=depth+1)\n",
      "                 ^^^^^^^^^^^^^^^^^^^^^^^^^^^^^^^^^^^^^^^^^^^^^^^^^^^^^^^^^^^^\n",
      "  File \"d:\\TRETEC\\M2 SII\\Data Mining\\TP\\Projet\\algorithms.py\", line 51, in _grow_tree\n",
      "    right_child = self._grow_tree(X[right_idxs,:], y[right_idxs], depth=depth+1)\n",
      "                  ^^^^^^^^^^^^^^^^^^^^^^^^^^^^^^^^^^^^^^^^^^^^^^^^^^^^^^^^^^^^^^\n",
      "  File \"d:\\TRETEC\\M2 SII\\Data Mining\\TP\\Projet\\algorithms.py\", line 50, in _grow_tree\n",
      "    left_child = self._grow_tree(X[left_idxs,:], y[left_idxs], depth=depth+1)\n",
      "                 ^^^^^^^^^^^^^^^^^^^^^^^^^^^^^^^^^^^^^^^^^^^^^^^^^^^^^^^^^^^^\n",
      "  File \"d:\\TRETEC\\M2 SII\\Data Mining\\TP\\Projet\\algorithms.py\", line 50, in _grow_tree\n",
      "    left_child = self._grow_tree(X[left_idxs,:], y[left_idxs], depth=depth+1)\n",
      "                 ^^^^^^^^^^^^^^^^^^^^^^^^^^^^^^^^^^^^^^^^^^^^^^^^^^^^^^^^^^^^\n",
      "  File \"d:\\TRETEC\\M2 SII\\Data Mining\\TP\\Projet\\algorithms.py\", line 51, in _grow_tree\n",
      "    right_child = self._grow_tree(X[right_idxs,:], y[right_idxs], depth=depth+1)\n",
      "                  ^^^^^^^^^^^^^^^^^^^^^^^^^^^^^^^^^^^^^^^^^^^^^^^^^^^^^^^^^^^^^^\n",
      "  File \"d:\\TRETEC\\M2 SII\\Data Mining\\TP\\Projet\\algorithms.py\", line 50, in _grow_tree\n",
      "    left_child = self._grow_tree(X[left_idxs,:], y[left_idxs], depth=depth+1)\n",
      "                 ^^^^^^^^^^^^^^^^^^^^^^^^^^^^^^^^^^^^^^^^^^^^^^^^^^^^^^^^^^^^\n",
      "  File \"d:\\TRETEC\\M2 SII\\Data Mining\\TP\\Projet\\algorithms.py\", line 50, in _grow_tree\n",
      "    left_child = self._grow_tree(X[left_idxs,:], y[left_idxs], depth=depth+1)\n",
      "                 ^^^^^^^^^^^^^^^^^^^^^^^^^^^^^^^^^^^^^^^^^^^^^^^^^^^^^^^^^^^^\n",
      "  File \"d:\\TRETEC\\M2 SII\\Data Mining\\TP\\Projet\\algorithms.py\", line 51, in _grow_tree\n",
      "    right_child = self._grow_tree(X[right_idxs,:], y[right_idxs], depth=depth+1)\n",
      "                  ^^^^^^^^^^^^^^^^^^^^^^^^^^^^^^^^^^^^^^^^^^^^^^^^^^^^^^^^^^^^^^\n",
      "  File \"d:\\TRETEC\\M2 SII\\Data Mining\\TP\\Projet\\algorithms.py\", line 40, in _grow_tree\n",
      "    leaf_value = self._most_common_label(y)\n",
      "                 ^^^^^^^^^^^^^^^^^^^^^^^^^^\n",
      "  File \"d:\\TRETEC\\M2 SII\\Data Mining\\TP\\Projet\\algorithms.py\", line 72, in _most_common_label\n",
      "    most_common = counter.most_common(1)[0][0]\n",
      "                  ~~~~~~~~~~~~~~~~~~~~~~^^^\n",
      "IndexError: list index out of range\n",
      "\n",
      "--------------------------------------------------------------------------------\n",
      "1 fits failed with the following error:\n",
      "Traceback (most recent call last):\n",
      "  File \"c:\\Users\\Meriem\\AppData\\Local\\Programs\\Python\\Python312\\Lib\\site-packages\\sklearn\\model_selection\\_validation.py\", line 729, in _fit_and_score\n",
      "    estimator.fit(X_train, y_train, **fit_params)\n",
      "  File \"d:\\TRETEC\\M2 SII\\Data Mining\\TP\\Projet\\algorithms.py\", line 30, in fit\n",
      "    self.root = self._grow_tree(X, y)\n",
      "                ^^^^^^^^^^^^^^^^^^^^^\n",
      "  File \"d:\\TRETEC\\M2 SII\\Data Mining\\TP\\Projet\\algorithms.py\", line 50, in _grow_tree\n",
      "    left_child = self._grow_tree(X[left_idxs,:], y[left_idxs], depth=depth+1)\n",
      "                 ^^^^^^^^^^^^^^^^^^^^^^^^^^^^^^^^^^^^^^^^^^^^^^^^^^^^^^^^^^^^\n",
      "  File \"d:\\TRETEC\\M2 SII\\Data Mining\\TP\\Projet\\algorithms.py\", line 50, in _grow_tree\n",
      "    left_child = self._grow_tree(X[left_idxs,:], y[left_idxs], depth=depth+1)\n",
      "                 ^^^^^^^^^^^^^^^^^^^^^^^^^^^^^^^^^^^^^^^^^^^^^^^^^^^^^^^^^^^^\n",
      "  File \"d:\\TRETEC\\M2 SII\\Data Mining\\TP\\Projet\\algorithms.py\", line 50, in _grow_tree\n",
      "    left_child = self._grow_tree(X[left_idxs,:], y[left_idxs], depth=depth+1)\n",
      "                 ^^^^^^^^^^^^^^^^^^^^^^^^^^^^^^^^^^^^^^^^^^^^^^^^^^^^^^^^^^^^\n",
      "  File \"d:\\TRETEC\\M2 SII\\Data Mining\\TP\\Projet\\algorithms.py\", line 51, in _grow_tree\n",
      "    right_child = self._grow_tree(X[right_idxs,:], y[right_idxs], depth=depth+1)\n",
      "                  ^^^^^^^^^^^^^^^^^^^^^^^^^^^^^^^^^^^^^^^^^^^^^^^^^^^^^^^^^^^^^^\n",
      "  File \"d:\\TRETEC\\M2 SII\\Data Mining\\TP\\Projet\\algorithms.py\", line 50, in _grow_tree\n",
      "    left_child = self._grow_tree(X[left_idxs,:], y[left_idxs], depth=depth+1)\n",
      "                 ^^^^^^^^^^^^^^^^^^^^^^^^^^^^^^^^^^^^^^^^^^^^^^^^^^^^^^^^^^^^\n",
      "  File \"d:\\TRETEC\\M2 SII\\Data Mining\\TP\\Projet\\algorithms.py\", line 50, in _grow_tree\n",
      "    left_child = self._grow_tree(X[left_idxs,:], y[left_idxs], depth=depth+1)\n",
      "                 ^^^^^^^^^^^^^^^^^^^^^^^^^^^^^^^^^^^^^^^^^^^^^^^^^^^^^^^^^^^^\n",
      "  File \"d:\\TRETEC\\M2 SII\\Data Mining\\TP\\Projet\\algorithms.py\", line 51, in _grow_tree\n",
      "    right_child = self._grow_tree(X[right_idxs,:], y[right_idxs], depth=depth+1)\n",
      "                  ^^^^^^^^^^^^^^^^^^^^^^^^^^^^^^^^^^^^^^^^^^^^^^^^^^^^^^^^^^^^^^\n",
      "  File \"d:\\TRETEC\\M2 SII\\Data Mining\\TP\\Projet\\algorithms.py\", line 50, in _grow_tree\n",
      "    left_child = self._grow_tree(X[left_idxs,:], y[left_idxs], depth=depth+1)\n",
      "                 ^^^^^^^^^^^^^^^^^^^^^^^^^^^^^^^^^^^^^^^^^^^^^^^^^^^^^^^^^^^^\n",
      "  File \"d:\\TRETEC\\M2 SII\\Data Mining\\TP\\Projet\\algorithms.py\", line 51, in _grow_tree\n",
      "    right_child = self._grow_tree(X[right_idxs,:], y[right_idxs], depth=depth+1)\n",
      "                  ^^^^^^^^^^^^^^^^^^^^^^^^^^^^^^^^^^^^^^^^^^^^^^^^^^^^^^^^^^^^^^\n",
      "  File \"d:\\TRETEC\\M2 SII\\Data Mining\\TP\\Projet\\algorithms.py\", line 40, in _grow_tree\n",
      "    leaf_value = self._most_common_label(y)\n",
      "                 ^^^^^^^^^^^^^^^^^^^^^^^^^^\n",
      "  File \"d:\\TRETEC\\M2 SII\\Data Mining\\TP\\Projet\\algorithms.py\", line 72, in _most_common_label\n",
      "    most_common = counter.most_common(1)[0][0]\n",
      "                  ~~~~~~~~~~~~~~~~~~~~~~^^^\n",
      "IndexError: list index out of range\n",
      "\n",
      "--------------------------------------------------------------------------------\n",
      "2 fits failed with the following error:\n",
      "Traceback (most recent call last):\n",
      "  File \"c:\\Users\\Meriem\\AppData\\Local\\Programs\\Python\\Python312\\Lib\\site-packages\\sklearn\\model_selection\\_validation.py\", line 729, in _fit_and_score\n",
      "    estimator.fit(X_train, y_train, **fit_params)\n",
      "  File \"d:\\TRETEC\\M2 SII\\Data Mining\\TP\\Projet\\algorithms.py\", line 30, in fit\n",
      "    self.root = self._grow_tree(X, y)\n",
      "                ^^^^^^^^^^^^^^^^^^^^^\n",
      "  File \"d:\\TRETEC\\M2 SII\\Data Mining\\TP\\Projet\\algorithms.py\", line 50, in _grow_tree\n",
      "    left_child = self._grow_tree(X[left_idxs,:], y[left_idxs], depth=depth+1)\n",
      "                 ^^^^^^^^^^^^^^^^^^^^^^^^^^^^^^^^^^^^^^^^^^^^^^^^^^^^^^^^^^^^\n",
      "  File \"d:\\TRETEC\\M2 SII\\Data Mining\\TP\\Projet\\algorithms.py\", line 50, in _grow_tree\n",
      "    left_child = self._grow_tree(X[left_idxs,:], y[left_idxs], depth=depth+1)\n",
      "                 ^^^^^^^^^^^^^^^^^^^^^^^^^^^^^^^^^^^^^^^^^^^^^^^^^^^^^^^^^^^^\n",
      "  File \"d:\\TRETEC\\M2 SII\\Data Mining\\TP\\Projet\\algorithms.py\", line 51, in _grow_tree\n",
      "    right_child = self._grow_tree(X[right_idxs,:], y[right_idxs], depth=depth+1)\n",
      "                  ^^^^^^^^^^^^^^^^^^^^^^^^^^^^^^^^^^^^^^^^^^^^^^^^^^^^^^^^^^^^^^\n",
      "  File \"d:\\TRETEC\\M2 SII\\Data Mining\\TP\\Projet\\algorithms.py\", line 50, in _grow_tree\n",
      "    left_child = self._grow_tree(X[left_idxs,:], y[left_idxs], depth=depth+1)\n",
      "                 ^^^^^^^^^^^^^^^^^^^^^^^^^^^^^^^^^^^^^^^^^^^^^^^^^^^^^^^^^^^^\n",
      "  File \"d:\\TRETEC\\M2 SII\\Data Mining\\TP\\Projet\\algorithms.py\", line 50, in _grow_tree\n",
      "    left_child = self._grow_tree(X[left_idxs,:], y[left_idxs], depth=depth+1)\n",
      "                 ^^^^^^^^^^^^^^^^^^^^^^^^^^^^^^^^^^^^^^^^^^^^^^^^^^^^^^^^^^^^\n",
      "  File \"d:\\TRETEC\\M2 SII\\Data Mining\\TP\\Projet\\algorithms.py\", line 50, in _grow_tree\n",
      "    left_child = self._grow_tree(X[left_idxs,:], y[left_idxs], depth=depth+1)\n",
      "                 ^^^^^^^^^^^^^^^^^^^^^^^^^^^^^^^^^^^^^^^^^^^^^^^^^^^^^^^^^^^^\n",
      "  [Previous line repeated 1 more time]\n",
      "  File \"d:\\TRETEC\\M2 SII\\Data Mining\\TP\\Projet\\algorithms.py\", line 51, in _grow_tree\n",
      "    right_child = self._grow_tree(X[right_idxs,:], y[right_idxs], depth=depth+1)\n",
      "                  ^^^^^^^^^^^^^^^^^^^^^^^^^^^^^^^^^^^^^^^^^^^^^^^^^^^^^^^^^^^^^^\n",
      "  File \"d:\\TRETEC\\M2 SII\\Data Mining\\TP\\Projet\\algorithms.py\", line 40, in _grow_tree\n",
      "    leaf_value = self._most_common_label(y)\n",
      "                 ^^^^^^^^^^^^^^^^^^^^^^^^^^\n",
      "  File \"d:\\TRETEC\\M2 SII\\Data Mining\\TP\\Projet\\algorithms.py\", line 72, in _most_common_label\n",
      "    most_common = counter.most_common(1)[0][0]\n",
      "                  ~~~~~~~~~~~~~~~~~~~~~~^^^\n",
      "IndexError: list index out of range\n",
      "\n",
      "--------------------------------------------------------------------------------\n",
      "1 fits failed with the following error:\n",
      "Traceback (most recent call last):\n",
      "  File \"c:\\Users\\Meriem\\AppData\\Local\\Programs\\Python\\Python312\\Lib\\site-packages\\sklearn\\model_selection\\_validation.py\", line 729, in _fit_and_score\n",
      "    estimator.fit(X_train, y_train, **fit_params)\n",
      "  File \"d:\\TRETEC\\M2 SII\\Data Mining\\TP\\Projet\\algorithms.py\", line 30, in fit\n",
      "    self.root = self._grow_tree(X, y)\n",
      "                ^^^^^^^^^^^^^^^^^^^^^\n",
      "  File \"d:\\TRETEC\\M2 SII\\Data Mining\\TP\\Projet\\algorithms.py\", line 50, in _grow_tree\n",
      "    left_child = self._grow_tree(X[left_idxs,:], y[left_idxs], depth=depth+1)\n",
      "                 ^^^^^^^^^^^^^^^^^^^^^^^^^^^^^^^^^^^^^^^^^^^^^^^^^^^^^^^^^^^^\n",
      "  File \"d:\\TRETEC\\M2 SII\\Data Mining\\TP\\Projet\\algorithms.py\", line 50, in _grow_tree\n",
      "    left_child = self._grow_tree(X[left_idxs,:], y[left_idxs], depth=depth+1)\n",
      "                 ^^^^^^^^^^^^^^^^^^^^^^^^^^^^^^^^^^^^^^^^^^^^^^^^^^^^^^^^^^^^\n",
      "  File \"d:\\TRETEC\\M2 SII\\Data Mining\\TP\\Projet\\algorithms.py\", line 50, in _grow_tree\n",
      "    left_child = self._grow_tree(X[left_idxs,:], y[left_idxs], depth=depth+1)\n",
      "                 ^^^^^^^^^^^^^^^^^^^^^^^^^^^^^^^^^^^^^^^^^^^^^^^^^^^^^^^^^^^^\n",
      "  [Previous line repeated 1 more time]\n",
      "  File \"d:\\TRETEC\\M2 SII\\Data Mining\\TP\\Projet\\algorithms.py\", line 51, in _grow_tree\n",
      "    right_child = self._grow_tree(X[right_idxs,:], y[right_idxs], depth=depth+1)\n",
      "                  ^^^^^^^^^^^^^^^^^^^^^^^^^^^^^^^^^^^^^^^^^^^^^^^^^^^^^^^^^^^^^^\n",
      "  File \"d:\\TRETEC\\M2 SII\\Data Mining\\TP\\Projet\\algorithms.py\", line 51, in _grow_tree\n",
      "    right_child = self._grow_tree(X[right_idxs,:], y[right_idxs], depth=depth+1)\n",
      "                  ^^^^^^^^^^^^^^^^^^^^^^^^^^^^^^^^^^^^^^^^^^^^^^^^^^^^^^^^^^^^^^\n",
      "  File \"d:\\TRETEC\\M2 SII\\Data Mining\\TP\\Projet\\algorithms.py\", line 50, in _grow_tree\n",
      "    left_child = self._grow_tree(X[left_idxs,:], y[left_idxs], depth=depth+1)\n",
      "                 ^^^^^^^^^^^^^^^^^^^^^^^^^^^^^^^^^^^^^^^^^^^^^^^^^^^^^^^^^^^^\n",
      "  File \"d:\\TRETEC\\M2 SII\\Data Mining\\TP\\Projet\\algorithms.py\", line 51, in _grow_tree\n",
      "    right_child = self._grow_tree(X[right_idxs,:], y[right_idxs], depth=depth+1)\n",
      "                  ^^^^^^^^^^^^^^^^^^^^^^^^^^^^^^^^^^^^^^^^^^^^^^^^^^^^^^^^^^^^^^\n",
      "  File \"d:\\TRETEC\\M2 SII\\Data Mining\\TP\\Projet\\algorithms.py\", line 40, in _grow_tree\n",
      "    leaf_value = self._most_common_label(y)\n",
      "                 ^^^^^^^^^^^^^^^^^^^^^^^^^^\n",
      "  File \"d:\\TRETEC\\M2 SII\\Data Mining\\TP\\Projet\\algorithms.py\", line 72, in _most_common_label\n",
      "    most_common = counter.most_common(1)[0][0]\n",
      "                  ~~~~~~~~~~~~~~~~~~~~~~^^^\n",
      "IndexError: list index out of range\n",
      "\n",
      "--------------------------------------------------------------------------------\n",
      "1 fits failed with the following error:\n",
      "Traceback (most recent call last):\n",
      "  File \"c:\\Users\\Meriem\\AppData\\Local\\Programs\\Python\\Python312\\Lib\\site-packages\\sklearn\\model_selection\\_validation.py\", line 729, in _fit_and_score\n",
      "    estimator.fit(X_train, y_train, **fit_params)\n",
      "  File \"d:\\TRETEC\\M2 SII\\Data Mining\\TP\\Projet\\algorithms.py\", line 30, in fit\n",
      "    self.root = self._grow_tree(X, y)\n",
      "                ^^^^^^^^^^^^^^^^^^^^^\n",
      "  File \"d:\\TRETEC\\M2 SII\\Data Mining\\TP\\Projet\\algorithms.py\", line 50, in _grow_tree\n",
      "    left_child = self._grow_tree(X[left_idxs,:], y[left_idxs], depth=depth+1)\n",
      "                 ^^^^^^^^^^^^^^^^^^^^^^^^^^^^^^^^^^^^^^^^^^^^^^^^^^^^^^^^^^^^\n",
      "  File \"d:\\TRETEC\\M2 SII\\Data Mining\\TP\\Projet\\algorithms.py\", line 50, in _grow_tree\n",
      "    left_child = self._grow_tree(X[left_idxs,:], y[left_idxs], depth=depth+1)\n",
      "                 ^^^^^^^^^^^^^^^^^^^^^^^^^^^^^^^^^^^^^^^^^^^^^^^^^^^^^^^^^^^^\n",
      "  File \"d:\\TRETEC\\M2 SII\\Data Mining\\TP\\Projet\\algorithms.py\", line 51, in _grow_tree\n",
      "    right_child = self._grow_tree(X[right_idxs,:], y[right_idxs], depth=depth+1)\n",
      "                  ^^^^^^^^^^^^^^^^^^^^^^^^^^^^^^^^^^^^^^^^^^^^^^^^^^^^^^^^^^^^^^\n",
      "  File \"d:\\TRETEC\\M2 SII\\Data Mining\\TP\\Projet\\algorithms.py\", line 51, in _grow_tree\n",
      "    right_child = self._grow_tree(X[right_idxs,:], y[right_idxs], depth=depth+1)\n",
      "                  ^^^^^^^^^^^^^^^^^^^^^^^^^^^^^^^^^^^^^^^^^^^^^^^^^^^^^^^^^^^^^^\n",
      "  File \"d:\\TRETEC\\M2 SII\\Data Mining\\TP\\Projet\\algorithms.py\", line 50, in _grow_tree\n",
      "    left_child = self._grow_tree(X[left_idxs,:], y[left_idxs], depth=depth+1)\n",
      "                 ^^^^^^^^^^^^^^^^^^^^^^^^^^^^^^^^^^^^^^^^^^^^^^^^^^^^^^^^^^^^\n",
      "  File \"d:\\TRETEC\\M2 SII\\Data Mining\\TP\\Projet\\algorithms.py\", line 50, in _grow_tree\n",
      "    left_child = self._grow_tree(X[left_idxs,:], y[left_idxs], depth=depth+1)\n",
      "                 ^^^^^^^^^^^^^^^^^^^^^^^^^^^^^^^^^^^^^^^^^^^^^^^^^^^^^^^^^^^^\n",
      "  File \"d:\\TRETEC\\M2 SII\\Data Mining\\TP\\Projet\\algorithms.py\", line 50, in _grow_tree\n",
      "    left_child = self._grow_tree(X[left_idxs,:], y[left_idxs], depth=depth+1)\n",
      "                 ^^^^^^^^^^^^^^^^^^^^^^^^^^^^^^^^^^^^^^^^^^^^^^^^^^^^^^^^^^^^\n",
      "  [Previous line repeated 1 more time]\n",
      "  File \"d:\\TRETEC\\M2 SII\\Data Mining\\TP\\Projet\\algorithms.py\", line 51, in _grow_tree\n",
      "    right_child = self._grow_tree(X[right_idxs,:], y[right_idxs], depth=depth+1)\n",
      "                  ^^^^^^^^^^^^^^^^^^^^^^^^^^^^^^^^^^^^^^^^^^^^^^^^^^^^^^^^^^^^^^\n",
      "  File \"d:\\TRETEC\\M2 SII\\Data Mining\\TP\\Projet\\algorithms.py\", line 40, in _grow_tree\n",
      "    leaf_value = self._most_common_label(y)\n",
      "                 ^^^^^^^^^^^^^^^^^^^^^^^^^^\n",
      "  File \"d:\\TRETEC\\M2 SII\\Data Mining\\TP\\Projet\\algorithms.py\", line 72, in _most_common_label\n",
      "    most_common = counter.most_common(1)[0][0]\n",
      "                  ~~~~~~~~~~~~~~~~~~~~~~^^^\n",
      "IndexError: list index out of range\n",
      "\n",
      "--------------------------------------------------------------------------------\n",
      "1 fits failed with the following error:\n",
      "Traceback (most recent call last):\n",
      "  File \"c:\\Users\\Meriem\\AppData\\Local\\Programs\\Python\\Python312\\Lib\\site-packages\\sklearn\\model_selection\\_validation.py\", line 729, in _fit_and_score\n",
      "    estimator.fit(X_train, y_train, **fit_params)\n",
      "  File \"d:\\TRETEC\\M2 SII\\Data Mining\\TP\\Projet\\algorithms.py\", line 30, in fit\n",
      "    self.root = self._grow_tree(X, y)\n",
      "                ^^^^^^^^^^^^^^^^^^^^^\n",
      "  File \"d:\\TRETEC\\M2 SII\\Data Mining\\TP\\Projet\\algorithms.py\", line 50, in _grow_tree\n",
      "    left_child = self._grow_tree(X[left_idxs,:], y[left_idxs], depth=depth+1)\n",
      "                 ^^^^^^^^^^^^^^^^^^^^^^^^^^^^^^^^^^^^^^^^^^^^^^^^^^^^^^^^^^^^\n",
      "  File \"d:\\TRETEC\\M2 SII\\Data Mining\\TP\\Projet\\algorithms.py\", line 50, in _grow_tree\n",
      "    left_child = self._grow_tree(X[left_idxs,:], y[left_idxs], depth=depth+1)\n",
      "                 ^^^^^^^^^^^^^^^^^^^^^^^^^^^^^^^^^^^^^^^^^^^^^^^^^^^^^^^^^^^^\n",
      "  File \"d:\\TRETEC\\M2 SII\\Data Mining\\TP\\Projet\\algorithms.py\", line 50, in _grow_tree\n",
      "    left_child = self._grow_tree(X[left_idxs,:], y[left_idxs], depth=depth+1)\n",
      "                 ^^^^^^^^^^^^^^^^^^^^^^^^^^^^^^^^^^^^^^^^^^^^^^^^^^^^^^^^^^^^\n",
      "  [Previous line repeated 2 more times]\n",
      "  File \"d:\\TRETEC\\M2 SII\\Data Mining\\TP\\Projet\\algorithms.py\", line 51, in _grow_tree\n",
      "    right_child = self._grow_tree(X[right_idxs,:], y[right_idxs], depth=depth+1)\n",
      "                  ^^^^^^^^^^^^^^^^^^^^^^^^^^^^^^^^^^^^^^^^^^^^^^^^^^^^^^^^^^^^^^\n",
      "  File \"d:\\TRETEC\\M2 SII\\Data Mining\\TP\\Projet\\algorithms.py\", line 50, in _grow_tree\n",
      "    left_child = self._grow_tree(X[left_idxs,:], y[left_idxs], depth=depth+1)\n",
      "                 ^^^^^^^^^^^^^^^^^^^^^^^^^^^^^^^^^^^^^^^^^^^^^^^^^^^^^^^^^^^^\n",
      "  File \"d:\\TRETEC\\M2 SII\\Data Mining\\TP\\Projet\\algorithms.py\", line 51, in _grow_tree\n",
      "    right_child = self._grow_tree(X[right_idxs,:], y[right_idxs], depth=depth+1)\n",
      "                  ^^^^^^^^^^^^^^^^^^^^^^^^^^^^^^^^^^^^^^^^^^^^^^^^^^^^^^^^^^^^^^\n",
      "  File \"d:\\TRETEC\\M2 SII\\Data Mining\\TP\\Projet\\algorithms.py\", line 51, in _grow_tree\n",
      "    right_child = self._grow_tree(X[right_idxs,:], y[right_idxs], depth=depth+1)\n",
      "                  ^^^^^^^^^^^^^^^^^^^^^^^^^^^^^^^^^^^^^^^^^^^^^^^^^^^^^^^^^^^^^^\n",
      "  File \"d:\\TRETEC\\M2 SII\\Data Mining\\TP\\Projet\\algorithms.py\", line 50, in _grow_tree\n",
      "    left_child = self._grow_tree(X[left_idxs,:], y[left_idxs], depth=depth+1)\n",
      "                 ^^^^^^^^^^^^^^^^^^^^^^^^^^^^^^^^^^^^^^^^^^^^^^^^^^^^^^^^^^^^\n",
      "  File \"d:\\TRETEC\\M2 SII\\Data Mining\\TP\\Projet\\algorithms.py\", line 51, in _grow_tree\n",
      "    right_child = self._grow_tree(X[right_idxs,:], y[right_idxs], depth=depth+1)\n",
      "                  ^^^^^^^^^^^^^^^^^^^^^^^^^^^^^^^^^^^^^^^^^^^^^^^^^^^^^^^^^^^^^^\n",
      "  File \"d:\\TRETEC\\M2 SII\\Data Mining\\TP\\Projet\\algorithms.py\", line 40, in _grow_tree\n",
      "    leaf_value = self._most_common_label(y)\n",
      "                 ^^^^^^^^^^^^^^^^^^^^^^^^^^\n",
      "  File \"d:\\TRETEC\\M2 SII\\Data Mining\\TP\\Projet\\algorithms.py\", line 72, in _most_common_label\n",
      "    most_common = counter.most_common(1)[0][0]\n",
      "                  ~~~~~~~~~~~~~~~~~~~~~~^^^\n",
      "IndexError: list index out of range\n",
      "\n",
      "--------------------------------------------------------------------------------\n",
      "1 fits failed with the following error:\n",
      "Traceback (most recent call last):\n",
      "  File \"c:\\Users\\Meriem\\AppData\\Local\\Programs\\Python\\Python312\\Lib\\site-packages\\sklearn\\model_selection\\_validation.py\", line 729, in _fit_and_score\n",
      "    estimator.fit(X_train, y_train, **fit_params)\n",
      "  File \"d:\\TRETEC\\M2 SII\\Data Mining\\TP\\Projet\\algorithms.py\", line 30, in fit\n",
      "    self.root = self._grow_tree(X, y)\n",
      "                ^^^^^^^^^^^^^^^^^^^^^\n",
      "  File \"d:\\TRETEC\\M2 SII\\Data Mining\\TP\\Projet\\algorithms.py\", line 50, in _grow_tree\n",
      "    left_child = self._grow_tree(X[left_idxs,:], y[left_idxs], depth=depth+1)\n",
      "                 ^^^^^^^^^^^^^^^^^^^^^^^^^^^^^^^^^^^^^^^^^^^^^^^^^^^^^^^^^^^^\n",
      "  File \"d:\\TRETEC\\M2 SII\\Data Mining\\TP\\Projet\\algorithms.py\", line 50, in _grow_tree\n",
      "    left_child = self._grow_tree(X[left_idxs,:], y[left_idxs], depth=depth+1)\n",
      "                 ^^^^^^^^^^^^^^^^^^^^^^^^^^^^^^^^^^^^^^^^^^^^^^^^^^^^^^^^^^^^\n",
      "  File \"d:\\TRETEC\\M2 SII\\Data Mining\\TP\\Projet\\algorithms.py\", line 51, in _grow_tree\n",
      "    right_child = self._grow_tree(X[right_idxs,:], y[right_idxs], depth=depth+1)\n",
      "                  ^^^^^^^^^^^^^^^^^^^^^^^^^^^^^^^^^^^^^^^^^^^^^^^^^^^^^^^^^^^^^^\n",
      "  File \"d:\\TRETEC\\M2 SII\\Data Mining\\TP\\Projet\\algorithms.py\", line 51, in _grow_tree\n",
      "    right_child = self._grow_tree(X[right_idxs,:], y[right_idxs], depth=depth+1)\n",
      "                  ^^^^^^^^^^^^^^^^^^^^^^^^^^^^^^^^^^^^^^^^^^^^^^^^^^^^^^^^^^^^^^\n",
      "  File \"d:\\TRETEC\\M2 SII\\Data Mining\\TP\\Projet\\algorithms.py\", line 40, in _grow_tree\n",
      "    leaf_value = self._most_common_label(y)\n",
      "                 ^^^^^^^^^^^^^^^^^^^^^^^^^^\n",
      "  File \"d:\\TRETEC\\M2 SII\\Data Mining\\TP\\Projet\\algorithms.py\", line 72, in _most_common_label\n",
      "    most_common = counter.most_common(1)[0][0]\n",
      "                  ~~~~~~~~~~~~~~~~~~~~~~^^^\n",
      "IndexError: list index out of range\n",
      "\n",
      "--------------------------------------------------------------------------------\n",
      "1 fits failed with the following error:\n",
      "Traceback (most recent call last):\n",
      "  File \"c:\\Users\\Meriem\\AppData\\Local\\Programs\\Python\\Python312\\Lib\\site-packages\\sklearn\\model_selection\\_validation.py\", line 729, in _fit_and_score\n",
      "    estimator.fit(X_train, y_train, **fit_params)\n",
      "  File \"d:\\TRETEC\\M2 SII\\Data Mining\\TP\\Projet\\algorithms.py\", line 30, in fit\n",
      "    self.root = self._grow_tree(X, y)\n",
      "                ^^^^^^^^^^^^^^^^^^^^^\n",
      "  File \"d:\\TRETEC\\M2 SII\\Data Mining\\TP\\Projet\\algorithms.py\", line 50, in _grow_tree\n",
      "    left_child = self._grow_tree(X[left_idxs,:], y[left_idxs], depth=depth+1)\n",
      "                 ^^^^^^^^^^^^^^^^^^^^^^^^^^^^^^^^^^^^^^^^^^^^^^^^^^^^^^^^^^^^\n",
      "  File \"d:\\TRETEC\\M2 SII\\Data Mining\\TP\\Projet\\algorithms.py\", line 50, in _grow_tree\n",
      "    left_child = self._grow_tree(X[left_idxs,:], y[left_idxs], depth=depth+1)\n",
      "                 ^^^^^^^^^^^^^^^^^^^^^^^^^^^^^^^^^^^^^^^^^^^^^^^^^^^^^^^^^^^^\n",
      "  File \"d:\\TRETEC\\M2 SII\\Data Mining\\TP\\Projet\\algorithms.py\", line 50, in _grow_tree\n",
      "    left_child = self._grow_tree(X[left_idxs,:], y[left_idxs], depth=depth+1)\n",
      "                 ^^^^^^^^^^^^^^^^^^^^^^^^^^^^^^^^^^^^^^^^^^^^^^^^^^^^^^^^^^^^\n",
      "  [Previous line repeated 4 more times]\n",
      "  File \"d:\\TRETEC\\M2 SII\\Data Mining\\TP\\Projet\\algorithms.py\", line 51, in _grow_tree\n",
      "    right_child = self._grow_tree(X[right_idxs,:], y[right_idxs], depth=depth+1)\n",
      "                  ^^^^^^^^^^^^^^^^^^^^^^^^^^^^^^^^^^^^^^^^^^^^^^^^^^^^^^^^^^^^^^\n",
      "  File \"d:\\TRETEC\\M2 SII\\Data Mining\\TP\\Projet\\algorithms.py\", line 51, in _grow_tree\n",
      "    right_child = self._grow_tree(X[right_idxs,:], y[right_idxs], depth=depth+1)\n",
      "                  ^^^^^^^^^^^^^^^^^^^^^^^^^^^^^^^^^^^^^^^^^^^^^^^^^^^^^^^^^^^^^^\n",
      "  File \"d:\\TRETEC\\M2 SII\\Data Mining\\TP\\Projet\\algorithms.py\", line 50, in _grow_tree\n",
      "    left_child = self._grow_tree(X[left_idxs,:], y[left_idxs], depth=depth+1)\n",
      "                 ^^^^^^^^^^^^^^^^^^^^^^^^^^^^^^^^^^^^^^^^^^^^^^^^^^^^^^^^^^^^\n",
      "  File \"d:\\TRETEC\\M2 SII\\Data Mining\\TP\\Projet\\algorithms.py\", line 50, in _grow_tree\n",
      "    left_child = self._grow_tree(X[left_idxs,:], y[left_idxs], depth=depth+1)\n",
      "                 ^^^^^^^^^^^^^^^^^^^^^^^^^^^^^^^^^^^^^^^^^^^^^^^^^^^^^^^^^^^^\n",
      "  File \"d:\\TRETEC\\M2 SII\\Data Mining\\TP\\Projet\\algorithms.py\", line 51, in _grow_tree\n",
      "    right_child = self._grow_tree(X[right_idxs,:], y[right_idxs], depth=depth+1)\n",
      "                  ^^^^^^^^^^^^^^^^^^^^^^^^^^^^^^^^^^^^^^^^^^^^^^^^^^^^^^^^^^^^^^\n",
      "  File \"d:\\TRETEC\\M2 SII\\Data Mining\\TP\\Projet\\algorithms.py\", line 40, in _grow_tree\n",
      "    leaf_value = self._most_common_label(y)\n",
      "                 ^^^^^^^^^^^^^^^^^^^^^^^^^^\n",
      "  File \"d:\\TRETEC\\M2 SII\\Data Mining\\TP\\Projet\\algorithms.py\", line 72, in _most_common_label\n",
      "    most_common = counter.most_common(1)[0][0]\n",
      "                  ~~~~~~~~~~~~~~~~~~~~~~^^^\n",
      "IndexError: list index out of range\n",
      "\n",
      "--------------------------------------------------------------------------------\n",
      "1 fits failed with the following error:\n",
      "Traceback (most recent call last):\n",
      "  File \"c:\\Users\\Meriem\\AppData\\Local\\Programs\\Python\\Python312\\Lib\\site-packages\\sklearn\\model_selection\\_validation.py\", line 729, in _fit_and_score\n",
      "    estimator.fit(X_train, y_train, **fit_params)\n",
      "  File \"d:\\TRETEC\\M2 SII\\Data Mining\\TP\\Projet\\algorithms.py\", line 30, in fit\n",
      "    self.root = self._grow_tree(X, y)\n",
      "                ^^^^^^^^^^^^^^^^^^^^^\n",
      "  File \"d:\\TRETEC\\M2 SII\\Data Mining\\TP\\Projet\\algorithms.py\", line 50, in _grow_tree\n",
      "    left_child = self._grow_tree(X[left_idxs,:], y[left_idxs], depth=depth+1)\n",
      "                 ^^^^^^^^^^^^^^^^^^^^^^^^^^^^^^^^^^^^^^^^^^^^^^^^^^^^^^^^^^^^\n",
      "  File \"d:\\TRETEC\\M2 SII\\Data Mining\\TP\\Projet\\algorithms.py\", line 50, in _grow_tree\n",
      "    left_child = self._grow_tree(X[left_idxs,:], y[left_idxs], depth=depth+1)\n",
      "                 ^^^^^^^^^^^^^^^^^^^^^^^^^^^^^^^^^^^^^^^^^^^^^^^^^^^^^^^^^^^^\n",
      "  File \"d:\\TRETEC\\M2 SII\\Data Mining\\TP\\Projet\\algorithms.py\", line 50, in _grow_tree\n",
      "    left_child = self._grow_tree(X[left_idxs,:], y[left_idxs], depth=depth+1)\n",
      "                 ^^^^^^^^^^^^^^^^^^^^^^^^^^^^^^^^^^^^^^^^^^^^^^^^^^^^^^^^^^^^\n",
      "  File \"d:\\TRETEC\\M2 SII\\Data Mining\\TP\\Projet\\algorithms.py\", line 51, in _grow_tree\n",
      "    right_child = self._grow_tree(X[right_idxs,:], y[right_idxs], depth=depth+1)\n",
      "                  ^^^^^^^^^^^^^^^^^^^^^^^^^^^^^^^^^^^^^^^^^^^^^^^^^^^^^^^^^^^^^^\n",
      "  File \"d:\\TRETEC\\M2 SII\\Data Mining\\TP\\Projet\\algorithms.py\", line 50, in _grow_tree\n",
      "    left_child = self._grow_tree(X[left_idxs,:], y[left_idxs], depth=depth+1)\n",
      "                 ^^^^^^^^^^^^^^^^^^^^^^^^^^^^^^^^^^^^^^^^^^^^^^^^^^^^^^^^^^^^\n",
      "  File \"d:\\TRETEC\\M2 SII\\Data Mining\\TP\\Projet\\algorithms.py\", line 50, in _grow_tree\n",
      "    left_child = self._grow_tree(X[left_idxs,:], y[left_idxs], depth=depth+1)\n",
      "                 ^^^^^^^^^^^^^^^^^^^^^^^^^^^^^^^^^^^^^^^^^^^^^^^^^^^^^^^^^^^^\n",
      "  File \"d:\\TRETEC\\M2 SII\\Data Mining\\TP\\Projet\\algorithms.py\", line 51, in _grow_tree\n",
      "    right_child = self._grow_tree(X[right_idxs,:], y[right_idxs], depth=depth+1)\n",
      "                  ^^^^^^^^^^^^^^^^^^^^^^^^^^^^^^^^^^^^^^^^^^^^^^^^^^^^^^^^^^^^^^\n",
      "  File \"d:\\TRETEC\\M2 SII\\Data Mining\\TP\\Projet\\algorithms.py\", line 50, in _grow_tree\n",
      "    left_child = self._grow_tree(X[left_idxs,:], y[left_idxs], depth=depth+1)\n",
      "                 ^^^^^^^^^^^^^^^^^^^^^^^^^^^^^^^^^^^^^^^^^^^^^^^^^^^^^^^^^^^^\n",
      "  File \"d:\\TRETEC\\M2 SII\\Data Mining\\TP\\Projet\\algorithms.py\", line 50, in _grow_tree\n",
      "    left_child = self._grow_tree(X[left_idxs,:], y[left_idxs], depth=depth+1)\n",
      "                 ^^^^^^^^^^^^^^^^^^^^^^^^^^^^^^^^^^^^^^^^^^^^^^^^^^^^^^^^^^^^\n",
      "  File \"d:\\TRETEC\\M2 SII\\Data Mining\\TP\\Projet\\algorithms.py\", line 50, in _grow_tree\n",
      "    left_child = self._grow_tree(X[left_idxs,:], y[left_idxs], depth=depth+1)\n",
      "                 ^^^^^^^^^^^^^^^^^^^^^^^^^^^^^^^^^^^^^^^^^^^^^^^^^^^^^^^^^^^^\n",
      "  File \"d:\\TRETEC\\M2 SII\\Data Mining\\TP\\Projet\\algorithms.py\", line 51, in _grow_tree\n",
      "    right_child = self._grow_tree(X[right_idxs,:], y[right_idxs], depth=depth+1)\n",
      "                  ^^^^^^^^^^^^^^^^^^^^^^^^^^^^^^^^^^^^^^^^^^^^^^^^^^^^^^^^^^^^^^\n",
      "  File \"d:\\TRETEC\\M2 SII\\Data Mining\\TP\\Projet\\algorithms.py\", line 40, in _grow_tree\n",
      "    leaf_value = self._most_common_label(y)\n",
      "                 ^^^^^^^^^^^^^^^^^^^^^^^^^^\n",
      "  File \"d:\\TRETEC\\M2 SII\\Data Mining\\TP\\Projet\\algorithms.py\", line 72, in _most_common_label\n",
      "    most_common = counter.most_common(1)[0][0]\n",
      "                  ~~~~~~~~~~~~~~~~~~~~~~^^^\n",
      "IndexError: list index out of range\n",
      "\n",
      "--------------------------------------------------------------------------------\n",
      "1 fits failed with the following error:\n",
      "Traceback (most recent call last):\n",
      "  File \"c:\\Users\\Meriem\\AppData\\Local\\Programs\\Python\\Python312\\Lib\\site-packages\\sklearn\\model_selection\\_validation.py\", line 729, in _fit_and_score\n",
      "    estimator.fit(X_train, y_train, **fit_params)\n",
      "  File \"d:\\TRETEC\\M2 SII\\Data Mining\\TP\\Projet\\algorithms.py\", line 30, in fit\n",
      "    self.root = self._grow_tree(X, y)\n",
      "                ^^^^^^^^^^^^^^^^^^^^^\n",
      "  File \"d:\\TRETEC\\M2 SII\\Data Mining\\TP\\Projet\\algorithms.py\", line 50, in _grow_tree\n",
      "    left_child = self._grow_tree(X[left_idxs,:], y[left_idxs], depth=depth+1)\n",
      "                 ^^^^^^^^^^^^^^^^^^^^^^^^^^^^^^^^^^^^^^^^^^^^^^^^^^^^^^^^^^^^\n",
      "  File \"d:\\TRETEC\\M2 SII\\Data Mining\\TP\\Projet\\algorithms.py\", line 50, in _grow_tree\n",
      "    left_child = self._grow_tree(X[left_idxs,:], y[left_idxs], depth=depth+1)\n",
      "                 ^^^^^^^^^^^^^^^^^^^^^^^^^^^^^^^^^^^^^^^^^^^^^^^^^^^^^^^^^^^^\n",
      "  File \"d:\\TRETEC\\M2 SII\\Data Mining\\TP\\Projet\\algorithms.py\", line 50, in _grow_tree\n",
      "    left_child = self._grow_tree(X[left_idxs,:], y[left_idxs], depth=depth+1)\n",
      "                 ^^^^^^^^^^^^^^^^^^^^^^^^^^^^^^^^^^^^^^^^^^^^^^^^^^^^^^^^^^^^\n",
      "  [Previous line repeated 2 more times]\n",
      "  File \"d:\\TRETEC\\M2 SII\\Data Mining\\TP\\Projet\\algorithms.py\", line 51, in _grow_tree\n",
      "    right_child = self._grow_tree(X[right_idxs,:], y[right_idxs], depth=depth+1)\n",
      "                  ^^^^^^^^^^^^^^^^^^^^^^^^^^^^^^^^^^^^^^^^^^^^^^^^^^^^^^^^^^^^^^\n",
      "  File \"d:\\TRETEC\\M2 SII\\Data Mining\\TP\\Projet\\algorithms.py\", line 50, in _grow_tree\n",
      "    left_child = self._grow_tree(X[left_idxs,:], y[left_idxs], depth=depth+1)\n",
      "                 ^^^^^^^^^^^^^^^^^^^^^^^^^^^^^^^^^^^^^^^^^^^^^^^^^^^^^^^^^^^^\n",
      "  File \"d:\\TRETEC\\M2 SII\\Data Mining\\TP\\Projet\\algorithms.py\", line 51, in _grow_tree\n",
      "    right_child = self._grow_tree(X[right_idxs,:], y[right_idxs], depth=depth+1)\n",
      "                  ^^^^^^^^^^^^^^^^^^^^^^^^^^^^^^^^^^^^^^^^^^^^^^^^^^^^^^^^^^^^^^\n",
      "  File \"d:\\TRETEC\\M2 SII\\Data Mining\\TP\\Projet\\algorithms.py\", line 50, in _grow_tree\n",
      "    left_child = self._grow_tree(X[left_idxs,:], y[left_idxs], depth=depth+1)\n",
      "                 ^^^^^^^^^^^^^^^^^^^^^^^^^^^^^^^^^^^^^^^^^^^^^^^^^^^^^^^^^^^^\n",
      "  File \"d:\\TRETEC\\M2 SII\\Data Mining\\TP\\Projet\\algorithms.py\", line 51, in _grow_tree\n",
      "    right_child = self._grow_tree(X[right_idxs,:], y[right_idxs], depth=depth+1)\n",
      "                  ^^^^^^^^^^^^^^^^^^^^^^^^^^^^^^^^^^^^^^^^^^^^^^^^^^^^^^^^^^^^^^\n",
      "  File \"d:\\TRETEC\\M2 SII\\Data Mining\\TP\\Projet\\algorithms.py\", line 51, in _grow_tree\n",
      "    right_child = self._grow_tree(X[right_idxs,:], y[right_idxs], depth=depth+1)\n",
      "                  ^^^^^^^^^^^^^^^^^^^^^^^^^^^^^^^^^^^^^^^^^^^^^^^^^^^^^^^^^^^^^^\n",
      "  File \"d:\\TRETEC\\M2 SII\\Data Mining\\TP\\Projet\\algorithms.py\", line 50, in _grow_tree\n",
      "    left_child = self._grow_tree(X[left_idxs,:], y[left_idxs], depth=depth+1)\n",
      "                 ^^^^^^^^^^^^^^^^^^^^^^^^^^^^^^^^^^^^^^^^^^^^^^^^^^^^^^^^^^^^\n",
      "  File \"d:\\TRETEC\\M2 SII\\Data Mining\\TP\\Projet\\algorithms.py\", line 51, in _grow_tree\n",
      "    right_child = self._grow_tree(X[right_idxs,:], y[right_idxs], depth=depth+1)\n",
      "                  ^^^^^^^^^^^^^^^^^^^^^^^^^^^^^^^^^^^^^^^^^^^^^^^^^^^^^^^^^^^^^^\n",
      "  File \"d:\\TRETEC\\M2 SII\\Data Mining\\TP\\Projet\\algorithms.py\", line 40, in _grow_tree\n",
      "    leaf_value = self._most_common_label(y)\n",
      "                 ^^^^^^^^^^^^^^^^^^^^^^^^^^\n",
      "  File \"d:\\TRETEC\\M2 SII\\Data Mining\\TP\\Projet\\algorithms.py\", line 72, in _most_common_label\n",
      "    most_common = counter.most_common(1)[0][0]\n",
      "                  ~~~~~~~~~~~~~~~~~~~~~~^^^\n",
      "IndexError: list index out of range\n",
      "\n",
      "--------------------------------------------------------------------------------\n",
      "1 fits failed with the following error:\n",
      "Traceback (most recent call last):\n",
      "  File \"c:\\Users\\Meriem\\AppData\\Local\\Programs\\Python\\Python312\\Lib\\site-packages\\sklearn\\model_selection\\_validation.py\", line 729, in _fit_and_score\n",
      "    estimator.fit(X_train, y_train, **fit_params)\n",
      "  File \"d:\\TRETEC\\M2 SII\\Data Mining\\TP\\Projet\\algorithms.py\", line 30, in fit\n",
      "    self.root = self._grow_tree(X, y)\n",
      "                ^^^^^^^^^^^^^^^^^^^^^\n",
      "  File \"d:\\TRETEC\\M2 SII\\Data Mining\\TP\\Projet\\algorithms.py\", line 50, in _grow_tree\n",
      "    left_child = self._grow_tree(X[left_idxs,:], y[left_idxs], depth=depth+1)\n",
      "                 ^^^^^^^^^^^^^^^^^^^^^^^^^^^^^^^^^^^^^^^^^^^^^^^^^^^^^^^^^^^^\n",
      "  File \"d:\\TRETEC\\M2 SII\\Data Mining\\TP\\Projet\\algorithms.py\", line 50, in _grow_tree\n",
      "    left_child = self._grow_tree(X[left_idxs,:], y[left_idxs], depth=depth+1)\n",
      "                 ^^^^^^^^^^^^^^^^^^^^^^^^^^^^^^^^^^^^^^^^^^^^^^^^^^^^^^^^^^^^\n",
      "  File \"d:\\TRETEC\\M2 SII\\Data Mining\\TP\\Projet\\algorithms.py\", line 50, in _grow_tree\n",
      "    left_child = self._grow_tree(X[left_idxs,:], y[left_idxs], depth=depth+1)\n",
      "                 ^^^^^^^^^^^^^^^^^^^^^^^^^^^^^^^^^^^^^^^^^^^^^^^^^^^^^^^^^^^^\n",
      "  [Previous line repeated 2 more times]\n",
      "  File \"d:\\TRETEC\\M2 SII\\Data Mining\\TP\\Projet\\algorithms.py\", line 51, in _grow_tree\n",
      "    right_child = self._grow_tree(X[right_idxs,:], y[right_idxs], depth=depth+1)\n",
      "                  ^^^^^^^^^^^^^^^^^^^^^^^^^^^^^^^^^^^^^^^^^^^^^^^^^^^^^^^^^^^^^^\n",
      "  File \"d:\\TRETEC\\M2 SII\\Data Mining\\TP\\Projet\\algorithms.py\", line 50, in _grow_tree\n",
      "    left_child = self._grow_tree(X[left_idxs,:], y[left_idxs], depth=depth+1)\n",
      "                 ^^^^^^^^^^^^^^^^^^^^^^^^^^^^^^^^^^^^^^^^^^^^^^^^^^^^^^^^^^^^\n",
      "  File \"d:\\TRETEC\\M2 SII\\Data Mining\\TP\\Projet\\algorithms.py\", line 50, in _grow_tree\n",
      "    left_child = self._grow_tree(X[left_idxs,:], y[left_idxs], depth=depth+1)\n",
      "                 ^^^^^^^^^^^^^^^^^^^^^^^^^^^^^^^^^^^^^^^^^^^^^^^^^^^^^^^^^^^^\n",
      "  File \"d:\\TRETEC\\M2 SII\\Data Mining\\TP\\Projet\\algorithms.py\", line 50, in _grow_tree\n",
      "    left_child = self._grow_tree(X[left_idxs,:], y[left_idxs], depth=depth+1)\n",
      "                 ^^^^^^^^^^^^^^^^^^^^^^^^^^^^^^^^^^^^^^^^^^^^^^^^^^^^^^^^^^^^\n",
      "  File \"d:\\TRETEC\\M2 SII\\Data Mining\\TP\\Projet\\algorithms.py\", line 51, in _grow_tree\n",
      "    right_child = self._grow_tree(X[right_idxs,:], y[right_idxs], depth=depth+1)\n",
      "                  ^^^^^^^^^^^^^^^^^^^^^^^^^^^^^^^^^^^^^^^^^^^^^^^^^^^^^^^^^^^^^^\n",
      "  File \"d:\\TRETEC\\M2 SII\\Data Mining\\TP\\Projet\\algorithms.py\", line 50, in _grow_tree\n",
      "    left_child = self._grow_tree(X[left_idxs,:], y[left_idxs], depth=depth+1)\n",
      "                 ^^^^^^^^^^^^^^^^^^^^^^^^^^^^^^^^^^^^^^^^^^^^^^^^^^^^^^^^^^^^\n",
      "  File \"d:\\TRETEC\\M2 SII\\Data Mining\\TP\\Projet\\algorithms.py\", line 51, in _grow_tree\n",
      "    right_child = self._grow_tree(X[right_idxs,:], y[right_idxs], depth=depth+1)\n",
      "                  ^^^^^^^^^^^^^^^^^^^^^^^^^^^^^^^^^^^^^^^^^^^^^^^^^^^^^^^^^^^^^^\n",
      "  File \"d:\\TRETEC\\M2 SII\\Data Mining\\TP\\Projet\\algorithms.py\", line 51, in _grow_tree\n",
      "    right_child = self._grow_tree(X[right_idxs,:], y[right_idxs], depth=depth+1)\n",
      "                  ^^^^^^^^^^^^^^^^^^^^^^^^^^^^^^^^^^^^^^^^^^^^^^^^^^^^^^^^^^^^^^\n",
      "  File \"d:\\TRETEC\\M2 SII\\Data Mining\\TP\\Projet\\algorithms.py\", line 51, in _grow_tree\n",
      "    right_child = self._grow_tree(X[right_idxs,:], y[right_idxs], depth=depth+1)\n",
      "                  ^^^^^^^^^^^^^^^^^^^^^^^^^^^^^^^^^^^^^^^^^^^^^^^^^^^^^^^^^^^^^^\n",
      "  File \"d:\\TRETEC\\M2 SII\\Data Mining\\TP\\Projet\\algorithms.py\", line 40, in _grow_tree\n",
      "    leaf_value = self._most_common_label(y)\n",
      "                 ^^^^^^^^^^^^^^^^^^^^^^^^^^\n",
      "  File \"d:\\TRETEC\\M2 SII\\Data Mining\\TP\\Projet\\algorithms.py\", line 72, in _most_common_label\n",
      "    most_common = counter.most_common(1)[0][0]\n",
      "                  ~~~~~~~~~~~~~~~~~~~~~~^^^\n",
      "IndexError: list index out of range\n",
      "\n",
      "--------------------------------------------------------------------------------\n",
      "1 fits failed with the following error:\n",
      "Traceback (most recent call last):\n",
      "  File \"c:\\Users\\Meriem\\AppData\\Local\\Programs\\Python\\Python312\\Lib\\site-packages\\sklearn\\model_selection\\_validation.py\", line 729, in _fit_and_score\n",
      "    estimator.fit(X_train, y_train, **fit_params)\n",
      "  File \"d:\\TRETEC\\M2 SII\\Data Mining\\TP\\Projet\\algorithms.py\", line 30, in fit\n",
      "    self.root = self._grow_tree(X, y)\n",
      "                ^^^^^^^^^^^^^^^^^^^^^\n",
      "  File \"d:\\TRETEC\\M2 SII\\Data Mining\\TP\\Projet\\algorithms.py\", line 50, in _grow_tree\n",
      "    left_child = self._grow_tree(X[left_idxs,:], y[left_idxs], depth=depth+1)\n",
      "                 ^^^^^^^^^^^^^^^^^^^^^^^^^^^^^^^^^^^^^^^^^^^^^^^^^^^^^^^^^^^^\n",
      "  File \"d:\\TRETEC\\M2 SII\\Data Mining\\TP\\Projet\\algorithms.py\", line 50, in _grow_tree\n",
      "    left_child = self._grow_tree(X[left_idxs,:], y[left_idxs], depth=depth+1)\n",
      "                 ^^^^^^^^^^^^^^^^^^^^^^^^^^^^^^^^^^^^^^^^^^^^^^^^^^^^^^^^^^^^\n",
      "  File \"d:\\TRETEC\\M2 SII\\Data Mining\\TP\\Projet\\algorithms.py\", line 51, in _grow_tree\n",
      "    right_child = self._grow_tree(X[right_idxs,:], y[right_idxs], depth=depth+1)\n",
      "                  ^^^^^^^^^^^^^^^^^^^^^^^^^^^^^^^^^^^^^^^^^^^^^^^^^^^^^^^^^^^^^^\n",
      "  File \"d:\\TRETEC\\M2 SII\\Data Mining\\TP\\Projet\\algorithms.py\", line 50, in _grow_tree\n",
      "    left_child = self._grow_tree(X[left_idxs,:], y[left_idxs], depth=depth+1)\n",
      "                 ^^^^^^^^^^^^^^^^^^^^^^^^^^^^^^^^^^^^^^^^^^^^^^^^^^^^^^^^^^^^\n",
      "  File \"d:\\TRETEC\\M2 SII\\Data Mining\\TP\\Projet\\algorithms.py\", line 50, in _grow_tree\n",
      "    left_child = self._grow_tree(X[left_idxs,:], y[left_idxs], depth=depth+1)\n",
      "                 ^^^^^^^^^^^^^^^^^^^^^^^^^^^^^^^^^^^^^^^^^^^^^^^^^^^^^^^^^^^^\n",
      "  File \"d:\\TRETEC\\M2 SII\\Data Mining\\TP\\Projet\\algorithms.py\", line 50, in _grow_tree\n",
      "    left_child = self._grow_tree(X[left_idxs,:], y[left_idxs], depth=depth+1)\n",
      "                 ^^^^^^^^^^^^^^^^^^^^^^^^^^^^^^^^^^^^^^^^^^^^^^^^^^^^^^^^^^^^\n",
      "  [Previous line repeated 4 more times]\n",
      "  File \"d:\\TRETEC\\M2 SII\\Data Mining\\TP\\Projet\\algorithms.py\", line 51, in _grow_tree\n",
      "    right_child = self._grow_tree(X[right_idxs,:], y[right_idxs], depth=depth+1)\n",
      "                  ^^^^^^^^^^^^^^^^^^^^^^^^^^^^^^^^^^^^^^^^^^^^^^^^^^^^^^^^^^^^^^\n",
      "  File \"d:\\TRETEC\\M2 SII\\Data Mining\\TP\\Projet\\algorithms.py\", line 50, in _grow_tree\n",
      "    left_child = self._grow_tree(X[left_idxs,:], y[left_idxs], depth=depth+1)\n",
      "                 ^^^^^^^^^^^^^^^^^^^^^^^^^^^^^^^^^^^^^^^^^^^^^^^^^^^^^^^^^^^^\n",
      "  File \"d:\\TRETEC\\M2 SII\\Data Mining\\TP\\Projet\\algorithms.py\", line 50, in _grow_tree\n",
      "    left_child = self._grow_tree(X[left_idxs,:], y[left_idxs], depth=depth+1)\n",
      "                 ^^^^^^^^^^^^^^^^^^^^^^^^^^^^^^^^^^^^^^^^^^^^^^^^^^^^^^^^^^^^\n",
      "  File \"d:\\TRETEC\\M2 SII\\Data Mining\\TP\\Projet\\algorithms.py\", line 51, in _grow_tree\n",
      "    right_child = self._grow_tree(X[right_idxs,:], y[right_idxs], depth=depth+1)\n",
      "                  ^^^^^^^^^^^^^^^^^^^^^^^^^^^^^^^^^^^^^^^^^^^^^^^^^^^^^^^^^^^^^^\n",
      "  File \"d:\\TRETEC\\M2 SII\\Data Mining\\TP\\Projet\\algorithms.py\", line 51, in _grow_tree\n",
      "    right_child = self._grow_tree(X[right_idxs,:], y[right_idxs], depth=depth+1)\n",
      "                  ^^^^^^^^^^^^^^^^^^^^^^^^^^^^^^^^^^^^^^^^^^^^^^^^^^^^^^^^^^^^^^\n",
      "  File \"d:\\TRETEC\\M2 SII\\Data Mining\\TP\\Projet\\algorithms.py\", line 40, in _grow_tree\n",
      "    leaf_value = self._most_common_label(y)\n",
      "                 ^^^^^^^^^^^^^^^^^^^^^^^^^^\n",
      "  File \"d:\\TRETEC\\M2 SII\\Data Mining\\TP\\Projet\\algorithms.py\", line 72, in _most_common_label\n",
      "    most_common = counter.most_common(1)[0][0]\n",
      "                  ~~~~~~~~~~~~~~~~~~~~~~^^^\n",
      "IndexError: list index out of range\n",
      "\n",
      "--------------------------------------------------------------------------------\n",
      "1 fits failed with the following error:\n",
      "Traceback (most recent call last):\n",
      "  File \"c:\\Users\\Meriem\\AppData\\Local\\Programs\\Python\\Python312\\Lib\\site-packages\\sklearn\\model_selection\\_validation.py\", line 729, in _fit_and_score\n",
      "    estimator.fit(X_train, y_train, **fit_params)\n",
      "  File \"d:\\TRETEC\\M2 SII\\Data Mining\\TP\\Projet\\algorithms.py\", line 30, in fit\n",
      "    self.root = self._grow_tree(X, y)\n",
      "                ^^^^^^^^^^^^^^^^^^^^^\n",
      "  File \"d:\\TRETEC\\M2 SII\\Data Mining\\TP\\Projet\\algorithms.py\", line 51, in _grow_tree\n",
      "    right_child = self._grow_tree(X[right_idxs,:], y[right_idxs], depth=depth+1)\n",
      "                  ^^^^^^^^^^^^^^^^^^^^^^^^^^^^^^^^^^^^^^^^^^^^^^^^^^^^^^^^^^^^^^\n",
      "  File \"d:\\TRETEC\\M2 SII\\Data Mining\\TP\\Projet\\algorithms.py\", line 50, in _grow_tree\n",
      "    left_child = self._grow_tree(X[left_idxs,:], y[left_idxs], depth=depth+1)\n",
      "                 ^^^^^^^^^^^^^^^^^^^^^^^^^^^^^^^^^^^^^^^^^^^^^^^^^^^^^^^^^^^^\n",
      "  File \"d:\\TRETEC\\M2 SII\\Data Mining\\TP\\Projet\\algorithms.py\", line 50, in _grow_tree\n",
      "    left_child = self._grow_tree(X[left_idxs,:], y[left_idxs], depth=depth+1)\n",
      "                 ^^^^^^^^^^^^^^^^^^^^^^^^^^^^^^^^^^^^^^^^^^^^^^^^^^^^^^^^^^^^\n",
      "  File \"d:\\TRETEC\\M2 SII\\Data Mining\\TP\\Projet\\algorithms.py\", line 50, in _grow_tree\n",
      "    left_child = self._grow_tree(X[left_idxs,:], y[left_idxs], depth=depth+1)\n",
      "                 ^^^^^^^^^^^^^^^^^^^^^^^^^^^^^^^^^^^^^^^^^^^^^^^^^^^^^^^^^^^^\n",
      "  File \"d:\\TRETEC\\M2 SII\\Data Mining\\TP\\Projet\\algorithms.py\", line 51, in _grow_tree\n",
      "    right_child = self._grow_tree(X[right_idxs,:], y[right_idxs], depth=depth+1)\n",
      "                  ^^^^^^^^^^^^^^^^^^^^^^^^^^^^^^^^^^^^^^^^^^^^^^^^^^^^^^^^^^^^^^\n",
      "  File \"d:\\TRETEC\\M2 SII\\Data Mining\\TP\\Projet\\algorithms.py\", line 51, in _grow_tree\n",
      "    right_child = self._grow_tree(X[right_idxs,:], y[right_idxs], depth=depth+1)\n",
      "                  ^^^^^^^^^^^^^^^^^^^^^^^^^^^^^^^^^^^^^^^^^^^^^^^^^^^^^^^^^^^^^^\n",
      "  File \"d:\\TRETEC\\M2 SII\\Data Mining\\TP\\Projet\\algorithms.py\", line 40, in _grow_tree\n",
      "    leaf_value = self._most_common_label(y)\n",
      "                 ^^^^^^^^^^^^^^^^^^^^^^^^^^\n",
      "  File \"d:\\TRETEC\\M2 SII\\Data Mining\\TP\\Projet\\algorithms.py\", line 72, in _most_common_label\n",
      "    most_common = counter.most_common(1)[0][0]\n",
      "                  ~~~~~~~~~~~~~~~~~~~~~~^^^\n",
      "IndexError: list index out of range\n",
      "\n",
      "--------------------------------------------------------------------------------\n",
      "1 fits failed with the following error:\n",
      "Traceback (most recent call last):\n",
      "  File \"c:\\Users\\Meriem\\AppData\\Local\\Programs\\Python\\Python312\\Lib\\site-packages\\sklearn\\model_selection\\_validation.py\", line 729, in _fit_and_score\n",
      "    estimator.fit(X_train, y_train, **fit_params)\n",
      "  File \"d:\\TRETEC\\M2 SII\\Data Mining\\TP\\Projet\\algorithms.py\", line 30, in fit\n",
      "    self.root = self._grow_tree(X, y)\n",
      "                ^^^^^^^^^^^^^^^^^^^^^\n",
      "  File \"d:\\TRETEC\\M2 SII\\Data Mining\\TP\\Projet\\algorithms.py\", line 50, in _grow_tree\n",
      "    left_child = self._grow_tree(X[left_idxs,:], y[left_idxs], depth=depth+1)\n",
      "                 ^^^^^^^^^^^^^^^^^^^^^^^^^^^^^^^^^^^^^^^^^^^^^^^^^^^^^^^^^^^^\n",
      "  File \"d:\\TRETEC\\M2 SII\\Data Mining\\TP\\Projet\\algorithms.py\", line 50, in _grow_tree\n",
      "    left_child = self._grow_tree(X[left_idxs,:], y[left_idxs], depth=depth+1)\n",
      "                 ^^^^^^^^^^^^^^^^^^^^^^^^^^^^^^^^^^^^^^^^^^^^^^^^^^^^^^^^^^^^\n",
      "  File \"d:\\TRETEC\\M2 SII\\Data Mining\\TP\\Projet\\algorithms.py\", line 50, in _grow_tree\n",
      "    left_child = self._grow_tree(X[left_idxs,:], y[left_idxs], depth=depth+1)\n",
      "                 ^^^^^^^^^^^^^^^^^^^^^^^^^^^^^^^^^^^^^^^^^^^^^^^^^^^^^^^^^^^^\n",
      "  File \"d:\\TRETEC\\M2 SII\\Data Mining\\TP\\Projet\\algorithms.py\", line 51, in _grow_tree\n",
      "    right_child = self._grow_tree(X[right_idxs,:], y[right_idxs], depth=depth+1)\n",
      "                  ^^^^^^^^^^^^^^^^^^^^^^^^^^^^^^^^^^^^^^^^^^^^^^^^^^^^^^^^^^^^^^\n",
      "  File \"d:\\TRETEC\\M2 SII\\Data Mining\\TP\\Projet\\algorithms.py\", line 50, in _grow_tree\n",
      "    left_child = self._grow_tree(X[left_idxs,:], y[left_idxs], depth=depth+1)\n",
      "                 ^^^^^^^^^^^^^^^^^^^^^^^^^^^^^^^^^^^^^^^^^^^^^^^^^^^^^^^^^^^^\n",
      "  File \"d:\\TRETEC\\M2 SII\\Data Mining\\TP\\Projet\\algorithms.py\", line 50, in _grow_tree\n",
      "    left_child = self._grow_tree(X[left_idxs,:], y[left_idxs], depth=depth+1)\n",
      "                 ^^^^^^^^^^^^^^^^^^^^^^^^^^^^^^^^^^^^^^^^^^^^^^^^^^^^^^^^^^^^\n",
      "  File \"d:\\TRETEC\\M2 SII\\Data Mining\\TP\\Projet\\algorithms.py\", line 51, in _grow_tree\n",
      "    right_child = self._grow_tree(X[right_idxs,:], y[right_idxs], depth=depth+1)\n",
      "                  ^^^^^^^^^^^^^^^^^^^^^^^^^^^^^^^^^^^^^^^^^^^^^^^^^^^^^^^^^^^^^^\n",
      "  File \"d:\\TRETEC\\M2 SII\\Data Mining\\TP\\Projet\\algorithms.py\", line 50, in _grow_tree\n",
      "    left_child = self._grow_tree(X[left_idxs,:], y[left_idxs], depth=depth+1)\n",
      "                 ^^^^^^^^^^^^^^^^^^^^^^^^^^^^^^^^^^^^^^^^^^^^^^^^^^^^^^^^^^^^\n",
      "  File \"d:\\TRETEC\\M2 SII\\Data Mining\\TP\\Projet\\algorithms.py\", line 50, in _grow_tree\n",
      "    left_child = self._grow_tree(X[left_idxs,:], y[left_idxs], depth=depth+1)\n",
      "                 ^^^^^^^^^^^^^^^^^^^^^^^^^^^^^^^^^^^^^^^^^^^^^^^^^^^^^^^^^^^^\n",
      "  File \"d:\\TRETEC\\M2 SII\\Data Mining\\TP\\Projet\\algorithms.py\", line 51, in _grow_tree\n",
      "    right_child = self._grow_tree(X[right_idxs,:], y[right_idxs], depth=depth+1)\n",
      "                  ^^^^^^^^^^^^^^^^^^^^^^^^^^^^^^^^^^^^^^^^^^^^^^^^^^^^^^^^^^^^^^\n",
      "  File \"d:\\TRETEC\\M2 SII\\Data Mining\\TP\\Projet\\algorithms.py\", line 40, in _grow_tree\n",
      "    leaf_value = self._most_common_label(y)\n",
      "                 ^^^^^^^^^^^^^^^^^^^^^^^^^^\n",
      "  File \"d:\\TRETEC\\M2 SII\\Data Mining\\TP\\Projet\\algorithms.py\", line 72, in _most_common_label\n",
      "    most_common = counter.most_common(1)[0][0]\n",
      "                  ~~~~~~~~~~~~~~~~~~~~~~^^^\n",
      "IndexError: list index out of range\n",
      "\n",
      "--------------------------------------------------------------------------------\n",
      "1 fits failed with the following error:\n",
      "Traceback (most recent call last):\n",
      "  File \"c:\\Users\\Meriem\\AppData\\Local\\Programs\\Python\\Python312\\Lib\\site-packages\\sklearn\\model_selection\\_validation.py\", line 729, in _fit_and_score\n",
      "    estimator.fit(X_train, y_train, **fit_params)\n",
      "  File \"d:\\TRETEC\\M2 SII\\Data Mining\\TP\\Projet\\algorithms.py\", line 30, in fit\n",
      "    self.root = self._grow_tree(X, y)\n",
      "                ^^^^^^^^^^^^^^^^^^^^^\n",
      "  File \"d:\\TRETEC\\M2 SII\\Data Mining\\TP\\Projet\\algorithms.py\", line 50, in _grow_tree\n",
      "    left_child = self._grow_tree(X[left_idxs,:], y[left_idxs], depth=depth+1)\n",
      "                 ^^^^^^^^^^^^^^^^^^^^^^^^^^^^^^^^^^^^^^^^^^^^^^^^^^^^^^^^^^^^\n",
      "  File \"d:\\TRETEC\\M2 SII\\Data Mining\\TP\\Projet\\algorithms.py\", line 50, in _grow_tree\n",
      "    left_child = self._grow_tree(X[left_idxs,:], y[left_idxs], depth=depth+1)\n",
      "                 ^^^^^^^^^^^^^^^^^^^^^^^^^^^^^^^^^^^^^^^^^^^^^^^^^^^^^^^^^^^^\n",
      "  File \"d:\\TRETEC\\M2 SII\\Data Mining\\TP\\Projet\\algorithms.py\", line 50, in _grow_tree\n",
      "    left_child = self._grow_tree(X[left_idxs,:], y[left_idxs], depth=depth+1)\n",
      "                 ^^^^^^^^^^^^^^^^^^^^^^^^^^^^^^^^^^^^^^^^^^^^^^^^^^^^^^^^^^^^\n",
      "  [Previous line repeated 1 more time]\n",
      "  File \"d:\\TRETEC\\M2 SII\\Data Mining\\TP\\Projet\\algorithms.py\", line 51, in _grow_tree\n",
      "    right_child = self._grow_tree(X[right_idxs,:], y[right_idxs], depth=depth+1)\n",
      "                  ^^^^^^^^^^^^^^^^^^^^^^^^^^^^^^^^^^^^^^^^^^^^^^^^^^^^^^^^^^^^^^\n",
      "  File \"d:\\TRETEC\\M2 SII\\Data Mining\\TP\\Projet\\algorithms.py\", line 50, in _grow_tree\n",
      "    left_child = self._grow_tree(X[left_idxs,:], y[left_idxs], depth=depth+1)\n",
      "                 ^^^^^^^^^^^^^^^^^^^^^^^^^^^^^^^^^^^^^^^^^^^^^^^^^^^^^^^^^^^^\n",
      "  File \"d:\\TRETEC\\M2 SII\\Data Mining\\TP\\Projet\\algorithms.py\", line 50, in _grow_tree\n",
      "    left_child = self._grow_tree(X[left_idxs,:], y[left_idxs], depth=depth+1)\n",
      "                 ^^^^^^^^^^^^^^^^^^^^^^^^^^^^^^^^^^^^^^^^^^^^^^^^^^^^^^^^^^^^\n",
      "  File \"d:\\TRETEC\\M2 SII\\Data Mining\\TP\\Projet\\algorithms.py\", line 50, in _grow_tree\n",
      "    left_child = self._grow_tree(X[left_idxs,:], y[left_idxs], depth=depth+1)\n",
      "                 ^^^^^^^^^^^^^^^^^^^^^^^^^^^^^^^^^^^^^^^^^^^^^^^^^^^^^^^^^^^^\n",
      "  File \"d:\\TRETEC\\M2 SII\\Data Mining\\TP\\Projet\\algorithms.py\", line 51, in _grow_tree\n",
      "    right_child = self._grow_tree(X[right_idxs,:], y[right_idxs], depth=depth+1)\n",
      "                  ^^^^^^^^^^^^^^^^^^^^^^^^^^^^^^^^^^^^^^^^^^^^^^^^^^^^^^^^^^^^^^\n",
      "  File \"d:\\TRETEC\\M2 SII\\Data Mining\\TP\\Projet\\algorithms.py\", line 50, in _grow_tree\n",
      "    left_child = self._grow_tree(X[left_idxs,:], y[left_idxs], depth=depth+1)\n",
      "                 ^^^^^^^^^^^^^^^^^^^^^^^^^^^^^^^^^^^^^^^^^^^^^^^^^^^^^^^^^^^^\n",
      "  File \"d:\\TRETEC\\M2 SII\\Data Mining\\TP\\Projet\\algorithms.py\", line 50, in _grow_tree\n",
      "    left_child = self._grow_tree(X[left_idxs,:], y[left_idxs], depth=depth+1)\n",
      "                 ^^^^^^^^^^^^^^^^^^^^^^^^^^^^^^^^^^^^^^^^^^^^^^^^^^^^^^^^^^^^\n",
      "  File \"d:\\TRETEC\\M2 SII\\Data Mining\\TP\\Projet\\algorithms.py\", line 50, in _grow_tree\n",
      "    left_child = self._grow_tree(X[left_idxs,:], y[left_idxs], depth=depth+1)\n",
      "                 ^^^^^^^^^^^^^^^^^^^^^^^^^^^^^^^^^^^^^^^^^^^^^^^^^^^^^^^^^^^^\n",
      "  File \"d:\\TRETEC\\M2 SII\\Data Mining\\TP\\Projet\\algorithms.py\", line 51, in _grow_tree\n",
      "    right_child = self._grow_tree(X[right_idxs,:], y[right_idxs], depth=depth+1)\n",
      "                  ^^^^^^^^^^^^^^^^^^^^^^^^^^^^^^^^^^^^^^^^^^^^^^^^^^^^^^^^^^^^^^\n",
      "  File \"d:\\TRETEC\\M2 SII\\Data Mining\\TP\\Projet\\algorithms.py\", line 40, in _grow_tree\n",
      "    leaf_value = self._most_common_label(y)\n",
      "                 ^^^^^^^^^^^^^^^^^^^^^^^^^^\n",
      "  File \"d:\\TRETEC\\M2 SII\\Data Mining\\TP\\Projet\\algorithms.py\", line 72, in _most_common_label\n",
      "    most_common = counter.most_common(1)[0][0]\n",
      "                  ~~~~~~~~~~~~~~~~~~~~~~^^^\n",
      "IndexError: list index out of range\n",
      "\n",
      "--------------------------------------------------------------------------------\n",
      "1 fits failed with the following error:\n",
      "Traceback (most recent call last):\n",
      "  File \"c:\\Users\\Meriem\\AppData\\Local\\Programs\\Python\\Python312\\Lib\\site-packages\\sklearn\\model_selection\\_validation.py\", line 729, in _fit_and_score\n",
      "    estimator.fit(X_train, y_train, **fit_params)\n",
      "  File \"d:\\TRETEC\\M2 SII\\Data Mining\\TP\\Projet\\algorithms.py\", line 30, in fit\n",
      "    self.root = self._grow_tree(X, y)\n",
      "                ^^^^^^^^^^^^^^^^^^^^^\n",
      "  File \"d:\\TRETEC\\M2 SII\\Data Mining\\TP\\Projet\\algorithms.py\", line 50, in _grow_tree\n",
      "    left_child = self._grow_tree(X[left_idxs,:], y[left_idxs], depth=depth+1)\n",
      "                 ^^^^^^^^^^^^^^^^^^^^^^^^^^^^^^^^^^^^^^^^^^^^^^^^^^^^^^^^^^^^\n",
      "  File \"d:\\TRETEC\\M2 SII\\Data Mining\\TP\\Projet\\algorithms.py\", line 51, in _grow_tree\n",
      "    right_child = self._grow_tree(X[right_idxs,:], y[right_idxs], depth=depth+1)\n",
      "                  ^^^^^^^^^^^^^^^^^^^^^^^^^^^^^^^^^^^^^^^^^^^^^^^^^^^^^^^^^^^^^^\n",
      "  File \"d:\\TRETEC\\M2 SII\\Data Mining\\TP\\Projet\\algorithms.py\", line 50, in _grow_tree\n",
      "    left_child = self._grow_tree(X[left_idxs,:], y[left_idxs], depth=depth+1)\n",
      "                 ^^^^^^^^^^^^^^^^^^^^^^^^^^^^^^^^^^^^^^^^^^^^^^^^^^^^^^^^^^^^\n",
      "  File \"d:\\TRETEC\\M2 SII\\Data Mining\\TP\\Projet\\algorithms.py\", line 51, in _grow_tree\n",
      "    right_child = self._grow_tree(X[right_idxs,:], y[right_idxs], depth=depth+1)\n",
      "                  ^^^^^^^^^^^^^^^^^^^^^^^^^^^^^^^^^^^^^^^^^^^^^^^^^^^^^^^^^^^^^^\n",
      "  File \"d:\\TRETEC\\M2 SII\\Data Mining\\TP\\Projet\\algorithms.py\", line 40, in _grow_tree\n",
      "    leaf_value = self._most_common_label(y)\n",
      "                 ^^^^^^^^^^^^^^^^^^^^^^^^^^\n",
      "  File \"d:\\TRETEC\\M2 SII\\Data Mining\\TP\\Projet\\algorithms.py\", line 72, in _most_common_label\n",
      "    most_common = counter.most_common(1)[0][0]\n",
      "                  ~~~~~~~~~~~~~~~~~~~~~~^^^\n",
      "IndexError: list index out of range\n",
      "\n",
      "--------------------------------------------------------------------------------\n",
      "1 fits failed with the following error:\n",
      "Traceback (most recent call last):\n",
      "  File \"c:\\Users\\Meriem\\AppData\\Local\\Programs\\Python\\Python312\\Lib\\site-packages\\sklearn\\model_selection\\_validation.py\", line 729, in _fit_and_score\n",
      "    estimator.fit(X_train, y_train, **fit_params)\n",
      "  File \"d:\\TRETEC\\M2 SII\\Data Mining\\TP\\Projet\\algorithms.py\", line 30, in fit\n",
      "    self.root = self._grow_tree(X, y)\n",
      "                ^^^^^^^^^^^^^^^^^^^^^\n",
      "  File \"d:\\TRETEC\\M2 SII\\Data Mining\\TP\\Projet\\algorithms.py\", line 50, in _grow_tree\n",
      "    left_child = self._grow_tree(X[left_idxs,:], y[left_idxs], depth=depth+1)\n",
      "                 ^^^^^^^^^^^^^^^^^^^^^^^^^^^^^^^^^^^^^^^^^^^^^^^^^^^^^^^^^^^^\n",
      "  File \"d:\\TRETEC\\M2 SII\\Data Mining\\TP\\Projet\\algorithms.py\", line 51, in _grow_tree\n",
      "    right_child = self._grow_tree(X[right_idxs,:], y[right_idxs], depth=depth+1)\n",
      "                  ^^^^^^^^^^^^^^^^^^^^^^^^^^^^^^^^^^^^^^^^^^^^^^^^^^^^^^^^^^^^^^\n",
      "  File \"d:\\TRETEC\\M2 SII\\Data Mining\\TP\\Projet\\algorithms.py\", line 51, in _grow_tree\n",
      "    right_child = self._grow_tree(X[right_idxs,:], y[right_idxs], depth=depth+1)\n",
      "                  ^^^^^^^^^^^^^^^^^^^^^^^^^^^^^^^^^^^^^^^^^^^^^^^^^^^^^^^^^^^^^^\n",
      "  File \"d:\\TRETEC\\M2 SII\\Data Mining\\TP\\Projet\\algorithms.py\", line 50, in _grow_tree\n",
      "    left_child = self._grow_tree(X[left_idxs,:], y[left_idxs], depth=depth+1)\n",
      "                 ^^^^^^^^^^^^^^^^^^^^^^^^^^^^^^^^^^^^^^^^^^^^^^^^^^^^^^^^^^^^\n",
      "  File \"d:\\TRETEC\\M2 SII\\Data Mining\\TP\\Projet\\algorithms.py\", line 51, in _grow_tree\n",
      "    right_child = self._grow_tree(X[right_idxs,:], y[right_idxs], depth=depth+1)\n",
      "                  ^^^^^^^^^^^^^^^^^^^^^^^^^^^^^^^^^^^^^^^^^^^^^^^^^^^^^^^^^^^^^^\n",
      "  File \"d:\\TRETEC\\M2 SII\\Data Mining\\TP\\Projet\\algorithms.py\", line 50, in _grow_tree\n",
      "    left_child = self._grow_tree(X[left_idxs,:], y[left_idxs], depth=depth+1)\n",
      "                 ^^^^^^^^^^^^^^^^^^^^^^^^^^^^^^^^^^^^^^^^^^^^^^^^^^^^^^^^^^^^\n",
      "  File \"d:\\TRETEC\\M2 SII\\Data Mining\\TP\\Projet\\algorithms.py\", line 50, in _grow_tree\n",
      "    left_child = self._grow_tree(X[left_idxs,:], y[left_idxs], depth=depth+1)\n",
      "                 ^^^^^^^^^^^^^^^^^^^^^^^^^^^^^^^^^^^^^^^^^^^^^^^^^^^^^^^^^^^^\n",
      "  File \"d:\\TRETEC\\M2 SII\\Data Mining\\TP\\Projet\\algorithms.py\", line 51, in _grow_tree\n",
      "    right_child = self._grow_tree(X[right_idxs,:], y[right_idxs], depth=depth+1)\n",
      "                  ^^^^^^^^^^^^^^^^^^^^^^^^^^^^^^^^^^^^^^^^^^^^^^^^^^^^^^^^^^^^^^\n",
      "  File \"d:\\TRETEC\\M2 SII\\Data Mining\\TP\\Projet\\algorithms.py\", line 40, in _grow_tree\n",
      "    leaf_value = self._most_common_label(y)\n",
      "                 ^^^^^^^^^^^^^^^^^^^^^^^^^^\n",
      "  File \"d:\\TRETEC\\M2 SII\\Data Mining\\TP\\Projet\\algorithms.py\", line 72, in _most_common_label\n",
      "    most_common = counter.most_common(1)[0][0]\n",
      "                  ~~~~~~~~~~~~~~~~~~~~~~^^^\n",
      "IndexError: list index out of range\n",
      "\n",
      "--------------------------------------------------------------------------------\n",
      "1 fits failed with the following error:\n",
      "Traceback (most recent call last):\n",
      "  File \"c:\\Users\\Meriem\\AppData\\Local\\Programs\\Python\\Python312\\Lib\\site-packages\\sklearn\\model_selection\\_validation.py\", line 729, in _fit_and_score\n",
      "    estimator.fit(X_train, y_train, **fit_params)\n",
      "  File \"d:\\TRETEC\\M2 SII\\Data Mining\\TP\\Projet\\algorithms.py\", line 30, in fit\n",
      "    self.root = self._grow_tree(X, y)\n",
      "                ^^^^^^^^^^^^^^^^^^^^^\n",
      "  File \"d:\\TRETEC\\M2 SII\\Data Mining\\TP\\Projet\\algorithms.py\", line 50, in _grow_tree\n",
      "    left_child = self._grow_tree(X[left_idxs,:], y[left_idxs], depth=depth+1)\n",
      "                 ^^^^^^^^^^^^^^^^^^^^^^^^^^^^^^^^^^^^^^^^^^^^^^^^^^^^^^^^^^^^\n",
      "  File \"d:\\TRETEC\\M2 SII\\Data Mining\\TP\\Projet\\algorithms.py\", line 50, in _grow_tree\n",
      "    left_child = self._grow_tree(X[left_idxs,:], y[left_idxs], depth=depth+1)\n",
      "                 ^^^^^^^^^^^^^^^^^^^^^^^^^^^^^^^^^^^^^^^^^^^^^^^^^^^^^^^^^^^^\n",
      "  File \"d:\\TRETEC\\M2 SII\\Data Mining\\TP\\Projet\\algorithms.py\", line 50, in _grow_tree\n",
      "    left_child = self._grow_tree(X[left_idxs,:], y[left_idxs], depth=depth+1)\n",
      "                 ^^^^^^^^^^^^^^^^^^^^^^^^^^^^^^^^^^^^^^^^^^^^^^^^^^^^^^^^^^^^\n",
      "  File \"d:\\TRETEC\\M2 SII\\Data Mining\\TP\\Projet\\algorithms.py\", line 51, in _grow_tree\n",
      "    right_child = self._grow_tree(X[right_idxs,:], y[right_idxs], depth=depth+1)\n",
      "                  ^^^^^^^^^^^^^^^^^^^^^^^^^^^^^^^^^^^^^^^^^^^^^^^^^^^^^^^^^^^^^^\n",
      "  File \"d:\\TRETEC\\M2 SII\\Data Mining\\TP\\Projet\\algorithms.py\", line 50, in _grow_tree\n",
      "    left_child = self._grow_tree(X[left_idxs,:], y[left_idxs], depth=depth+1)\n",
      "                 ^^^^^^^^^^^^^^^^^^^^^^^^^^^^^^^^^^^^^^^^^^^^^^^^^^^^^^^^^^^^\n",
      "  File \"d:\\TRETEC\\M2 SII\\Data Mining\\TP\\Projet\\algorithms.py\", line 50, in _grow_tree\n",
      "    left_child = self._grow_tree(X[left_idxs,:], y[left_idxs], depth=depth+1)\n",
      "                 ^^^^^^^^^^^^^^^^^^^^^^^^^^^^^^^^^^^^^^^^^^^^^^^^^^^^^^^^^^^^\n",
      "  File \"d:\\TRETEC\\M2 SII\\Data Mining\\TP\\Projet\\algorithms.py\", line 51, in _grow_tree\n",
      "    right_child = self._grow_tree(X[right_idxs,:], y[right_idxs], depth=depth+1)\n",
      "                  ^^^^^^^^^^^^^^^^^^^^^^^^^^^^^^^^^^^^^^^^^^^^^^^^^^^^^^^^^^^^^^\n",
      "  File \"d:\\TRETEC\\M2 SII\\Data Mining\\TP\\Projet\\algorithms.py\", line 40, in _grow_tree\n",
      "    leaf_value = self._most_common_label(y)\n",
      "                 ^^^^^^^^^^^^^^^^^^^^^^^^^^\n",
      "  File \"d:\\TRETEC\\M2 SII\\Data Mining\\TP\\Projet\\algorithms.py\", line 72, in _most_common_label\n",
      "    most_common = counter.most_common(1)[0][0]\n",
      "                  ~~~~~~~~~~~~~~~~~~~~~~^^^\n",
      "IndexError: list index out of range\n",
      "\n",
      "--------------------------------------------------------------------------------\n",
      "1 fits failed with the following error:\n",
      "Traceback (most recent call last):\n",
      "  File \"c:\\Users\\Meriem\\AppData\\Local\\Programs\\Python\\Python312\\Lib\\site-packages\\sklearn\\model_selection\\_validation.py\", line 729, in _fit_and_score\n",
      "    estimator.fit(X_train, y_train, **fit_params)\n",
      "  File \"d:\\TRETEC\\M2 SII\\Data Mining\\TP\\Projet\\algorithms.py\", line 30, in fit\n",
      "    self.root = self._grow_tree(X, y)\n",
      "                ^^^^^^^^^^^^^^^^^^^^^\n",
      "  File \"d:\\TRETEC\\M2 SII\\Data Mining\\TP\\Projet\\algorithms.py\", line 50, in _grow_tree\n",
      "    left_child = self._grow_tree(X[left_idxs,:], y[left_idxs], depth=depth+1)\n",
      "                 ^^^^^^^^^^^^^^^^^^^^^^^^^^^^^^^^^^^^^^^^^^^^^^^^^^^^^^^^^^^^\n",
      "  File \"d:\\TRETEC\\M2 SII\\Data Mining\\TP\\Projet\\algorithms.py\", line 50, in _grow_tree\n",
      "    left_child = self._grow_tree(X[left_idxs,:], y[left_idxs], depth=depth+1)\n",
      "                 ^^^^^^^^^^^^^^^^^^^^^^^^^^^^^^^^^^^^^^^^^^^^^^^^^^^^^^^^^^^^\n",
      "  File \"d:\\TRETEC\\M2 SII\\Data Mining\\TP\\Projet\\algorithms.py\", line 50, in _grow_tree\n",
      "    left_child = self._grow_tree(X[left_idxs,:], y[left_idxs], depth=depth+1)\n",
      "                 ^^^^^^^^^^^^^^^^^^^^^^^^^^^^^^^^^^^^^^^^^^^^^^^^^^^^^^^^^^^^\n",
      "  [Previous line repeated 4 more times]\n",
      "  File \"d:\\TRETEC\\M2 SII\\Data Mining\\TP\\Projet\\algorithms.py\", line 51, in _grow_tree\n",
      "    right_child = self._grow_tree(X[right_idxs,:], y[right_idxs], depth=depth+1)\n",
      "                  ^^^^^^^^^^^^^^^^^^^^^^^^^^^^^^^^^^^^^^^^^^^^^^^^^^^^^^^^^^^^^^\n",
      "  File \"d:\\TRETEC\\M2 SII\\Data Mining\\TP\\Projet\\algorithms.py\", line 50, in _grow_tree\n",
      "    left_child = self._grow_tree(X[left_idxs,:], y[left_idxs], depth=depth+1)\n",
      "                 ^^^^^^^^^^^^^^^^^^^^^^^^^^^^^^^^^^^^^^^^^^^^^^^^^^^^^^^^^^^^\n",
      "  File \"d:\\TRETEC\\M2 SII\\Data Mining\\TP\\Projet\\algorithms.py\", line 50, in _grow_tree\n",
      "    left_child = self._grow_tree(X[left_idxs,:], y[left_idxs], depth=depth+1)\n",
      "                 ^^^^^^^^^^^^^^^^^^^^^^^^^^^^^^^^^^^^^^^^^^^^^^^^^^^^^^^^^^^^\n",
      "  File \"d:\\TRETEC\\M2 SII\\Data Mining\\TP\\Projet\\algorithms.py\", line 51, in _grow_tree\n",
      "    right_child = self._grow_tree(X[right_idxs,:], y[right_idxs], depth=depth+1)\n",
      "                  ^^^^^^^^^^^^^^^^^^^^^^^^^^^^^^^^^^^^^^^^^^^^^^^^^^^^^^^^^^^^^^\n",
      "  File \"d:\\TRETEC\\M2 SII\\Data Mining\\TP\\Projet\\algorithms.py\", line 40, in _grow_tree\n",
      "    leaf_value = self._most_common_label(y)\n",
      "                 ^^^^^^^^^^^^^^^^^^^^^^^^^^\n",
      "  File \"d:\\TRETEC\\M2 SII\\Data Mining\\TP\\Projet\\algorithms.py\", line 72, in _most_common_label\n",
      "    most_common = counter.most_common(1)[0][0]\n",
      "                  ~~~~~~~~~~~~~~~~~~~~~~^^^\n",
      "IndexError: list index out of range\n",
      "\n",
      "--------------------------------------------------------------------------------\n",
      "1 fits failed with the following error:\n",
      "Traceback (most recent call last):\n",
      "  File \"c:\\Users\\Meriem\\AppData\\Local\\Programs\\Python\\Python312\\Lib\\site-packages\\sklearn\\model_selection\\_validation.py\", line 729, in _fit_and_score\n",
      "    estimator.fit(X_train, y_train, **fit_params)\n",
      "  File \"d:\\TRETEC\\M2 SII\\Data Mining\\TP\\Projet\\algorithms.py\", line 30, in fit\n",
      "    self.root = self._grow_tree(X, y)\n",
      "                ^^^^^^^^^^^^^^^^^^^^^\n",
      "  File \"d:\\TRETEC\\M2 SII\\Data Mining\\TP\\Projet\\algorithms.py\", line 50, in _grow_tree\n",
      "    left_child = self._grow_tree(X[left_idxs,:], y[left_idxs], depth=depth+1)\n",
      "                 ^^^^^^^^^^^^^^^^^^^^^^^^^^^^^^^^^^^^^^^^^^^^^^^^^^^^^^^^^^^^\n",
      "  File \"d:\\TRETEC\\M2 SII\\Data Mining\\TP\\Projet\\algorithms.py\", line 50, in _grow_tree\n",
      "    left_child = self._grow_tree(X[left_idxs,:], y[left_idxs], depth=depth+1)\n",
      "                 ^^^^^^^^^^^^^^^^^^^^^^^^^^^^^^^^^^^^^^^^^^^^^^^^^^^^^^^^^^^^\n",
      "  File \"d:\\TRETEC\\M2 SII\\Data Mining\\TP\\Projet\\algorithms.py\", line 51, in _grow_tree\n",
      "    right_child = self._grow_tree(X[right_idxs,:], y[right_idxs], depth=depth+1)\n",
      "                  ^^^^^^^^^^^^^^^^^^^^^^^^^^^^^^^^^^^^^^^^^^^^^^^^^^^^^^^^^^^^^^\n",
      "  File \"d:\\TRETEC\\M2 SII\\Data Mining\\TP\\Projet\\algorithms.py\", line 50, in _grow_tree\n",
      "    left_child = self._grow_tree(X[left_idxs,:], y[left_idxs], depth=depth+1)\n",
      "                 ^^^^^^^^^^^^^^^^^^^^^^^^^^^^^^^^^^^^^^^^^^^^^^^^^^^^^^^^^^^^\n",
      "  File \"d:\\TRETEC\\M2 SII\\Data Mining\\TP\\Projet\\algorithms.py\", line 50, in _grow_tree\n",
      "    left_child = self._grow_tree(X[left_idxs,:], y[left_idxs], depth=depth+1)\n",
      "                 ^^^^^^^^^^^^^^^^^^^^^^^^^^^^^^^^^^^^^^^^^^^^^^^^^^^^^^^^^^^^\n",
      "  File \"d:\\TRETEC\\M2 SII\\Data Mining\\TP\\Projet\\algorithms.py\", line 50, in _grow_tree\n",
      "    left_child = self._grow_tree(X[left_idxs,:], y[left_idxs], depth=depth+1)\n",
      "                 ^^^^^^^^^^^^^^^^^^^^^^^^^^^^^^^^^^^^^^^^^^^^^^^^^^^^^^^^^^^^\n",
      "  [Previous line repeated 7 more times]\n",
      "  File \"d:\\TRETEC\\M2 SII\\Data Mining\\TP\\Projet\\algorithms.py\", line 51, in _grow_tree\n",
      "    right_child = self._grow_tree(X[right_idxs,:], y[right_idxs], depth=depth+1)\n",
      "                  ^^^^^^^^^^^^^^^^^^^^^^^^^^^^^^^^^^^^^^^^^^^^^^^^^^^^^^^^^^^^^^\n",
      "  File \"d:\\TRETEC\\M2 SII\\Data Mining\\TP\\Projet\\algorithms.py\", line 50, in _grow_tree\n",
      "    left_child = self._grow_tree(X[left_idxs,:], y[left_idxs], depth=depth+1)\n",
      "                 ^^^^^^^^^^^^^^^^^^^^^^^^^^^^^^^^^^^^^^^^^^^^^^^^^^^^^^^^^^^^\n",
      "  File \"d:\\TRETEC\\M2 SII\\Data Mining\\TP\\Projet\\algorithms.py\", line 50, in _grow_tree\n",
      "    left_child = self._grow_tree(X[left_idxs,:], y[left_idxs], depth=depth+1)\n",
      "                 ^^^^^^^^^^^^^^^^^^^^^^^^^^^^^^^^^^^^^^^^^^^^^^^^^^^^^^^^^^^^\n",
      "  File \"d:\\TRETEC\\M2 SII\\Data Mining\\TP\\Projet\\algorithms.py\", line 51, in _grow_tree\n",
      "    right_child = self._grow_tree(X[right_idxs,:], y[right_idxs], depth=depth+1)\n",
      "                  ^^^^^^^^^^^^^^^^^^^^^^^^^^^^^^^^^^^^^^^^^^^^^^^^^^^^^^^^^^^^^^\n",
      "  File \"d:\\TRETEC\\M2 SII\\Data Mining\\TP\\Projet\\algorithms.py\", line 40, in _grow_tree\n",
      "    leaf_value = self._most_common_label(y)\n",
      "                 ^^^^^^^^^^^^^^^^^^^^^^^^^^\n",
      "  File \"d:\\TRETEC\\M2 SII\\Data Mining\\TP\\Projet\\algorithms.py\", line 72, in _most_common_label\n",
      "    most_common = counter.most_common(1)[0][0]\n",
      "                  ~~~~~~~~~~~~~~~~~~~~~~^^^\n",
      "IndexError: list index out of range\n",
      "\n",
      "--------------------------------------------------------------------------------\n",
      "1 fits failed with the following error:\n",
      "Traceback (most recent call last):\n",
      "  File \"c:\\Users\\Meriem\\AppData\\Local\\Programs\\Python\\Python312\\Lib\\site-packages\\sklearn\\model_selection\\_validation.py\", line 729, in _fit_and_score\n",
      "    estimator.fit(X_train, y_train, **fit_params)\n",
      "  File \"d:\\TRETEC\\M2 SII\\Data Mining\\TP\\Projet\\algorithms.py\", line 30, in fit\n",
      "    self.root = self._grow_tree(X, y)\n",
      "                ^^^^^^^^^^^^^^^^^^^^^\n",
      "  File \"d:\\TRETEC\\M2 SII\\Data Mining\\TP\\Projet\\algorithms.py\", line 50, in _grow_tree\n",
      "    left_child = self._grow_tree(X[left_idxs,:], y[left_idxs], depth=depth+1)\n",
      "                 ^^^^^^^^^^^^^^^^^^^^^^^^^^^^^^^^^^^^^^^^^^^^^^^^^^^^^^^^^^^^\n",
      "  File \"d:\\TRETEC\\M2 SII\\Data Mining\\TP\\Projet\\algorithms.py\", line 50, in _grow_tree\n",
      "    left_child = self._grow_tree(X[left_idxs,:], y[left_idxs], depth=depth+1)\n",
      "                 ^^^^^^^^^^^^^^^^^^^^^^^^^^^^^^^^^^^^^^^^^^^^^^^^^^^^^^^^^^^^\n",
      "  File \"d:\\TRETEC\\M2 SII\\Data Mining\\TP\\Projet\\algorithms.py\", line 50, in _grow_tree\n",
      "    left_child = self._grow_tree(X[left_idxs,:], y[left_idxs], depth=depth+1)\n",
      "                 ^^^^^^^^^^^^^^^^^^^^^^^^^^^^^^^^^^^^^^^^^^^^^^^^^^^^^^^^^^^^\n",
      "  [Previous line repeated 5 more times]\n",
      "  File \"d:\\TRETEC\\M2 SII\\Data Mining\\TP\\Projet\\algorithms.py\", line 51, in _grow_tree\n",
      "    right_child = self._grow_tree(X[right_idxs,:], y[right_idxs], depth=depth+1)\n",
      "                  ^^^^^^^^^^^^^^^^^^^^^^^^^^^^^^^^^^^^^^^^^^^^^^^^^^^^^^^^^^^^^^\n",
      "  File \"d:\\TRETEC\\M2 SII\\Data Mining\\TP\\Projet\\algorithms.py\", line 51, in _grow_tree\n",
      "    right_child = self._grow_tree(X[right_idxs,:], y[right_idxs], depth=depth+1)\n",
      "                  ^^^^^^^^^^^^^^^^^^^^^^^^^^^^^^^^^^^^^^^^^^^^^^^^^^^^^^^^^^^^^^\n",
      "  File \"d:\\TRETEC\\M2 SII\\Data Mining\\TP\\Projet\\algorithms.py\", line 50, in _grow_tree\n",
      "    left_child = self._grow_tree(X[left_idxs,:], y[left_idxs], depth=depth+1)\n",
      "                 ^^^^^^^^^^^^^^^^^^^^^^^^^^^^^^^^^^^^^^^^^^^^^^^^^^^^^^^^^^^^\n",
      "  File \"d:\\TRETEC\\M2 SII\\Data Mining\\TP\\Projet\\algorithms.py\", line 51, in _grow_tree\n",
      "    right_child = self._grow_tree(X[right_idxs,:], y[right_idxs], depth=depth+1)\n",
      "                  ^^^^^^^^^^^^^^^^^^^^^^^^^^^^^^^^^^^^^^^^^^^^^^^^^^^^^^^^^^^^^^\n",
      "  File \"d:\\TRETEC\\M2 SII\\Data Mining\\TP\\Projet\\algorithms.py\", line 50, in _grow_tree\n",
      "    left_child = self._grow_tree(X[left_idxs,:], y[left_idxs], depth=depth+1)\n",
      "                 ^^^^^^^^^^^^^^^^^^^^^^^^^^^^^^^^^^^^^^^^^^^^^^^^^^^^^^^^^^^^\n",
      "  File \"d:\\TRETEC\\M2 SII\\Data Mining\\TP\\Projet\\algorithms.py\", line 50, in _grow_tree\n",
      "    left_child = self._grow_tree(X[left_idxs,:], y[left_idxs], depth=depth+1)\n",
      "                 ^^^^^^^^^^^^^^^^^^^^^^^^^^^^^^^^^^^^^^^^^^^^^^^^^^^^^^^^^^^^\n",
      "  File \"d:\\TRETEC\\M2 SII\\Data Mining\\TP\\Projet\\algorithms.py\", line 51, in _grow_tree\n",
      "    right_child = self._grow_tree(X[right_idxs,:], y[right_idxs], depth=depth+1)\n",
      "                  ^^^^^^^^^^^^^^^^^^^^^^^^^^^^^^^^^^^^^^^^^^^^^^^^^^^^^^^^^^^^^^\n",
      "  File \"d:\\TRETEC\\M2 SII\\Data Mining\\TP\\Projet\\algorithms.py\", line 40, in _grow_tree\n",
      "    leaf_value = self._most_common_label(y)\n",
      "                 ^^^^^^^^^^^^^^^^^^^^^^^^^^\n",
      "  File \"d:\\TRETEC\\M2 SII\\Data Mining\\TP\\Projet\\algorithms.py\", line 72, in _most_common_label\n",
      "    most_common = counter.most_common(1)[0][0]\n",
      "                  ~~~~~~~~~~~~~~~~~~~~~~^^^\n",
      "IndexError: list index out of range\n",
      "\n",
      "--------------------------------------------------------------------------------\n",
      "1 fits failed with the following error:\n",
      "Traceback (most recent call last):\n",
      "  File \"c:\\Users\\Meriem\\AppData\\Local\\Programs\\Python\\Python312\\Lib\\site-packages\\sklearn\\model_selection\\_validation.py\", line 729, in _fit_and_score\n",
      "    estimator.fit(X_train, y_train, **fit_params)\n",
      "  File \"d:\\TRETEC\\M2 SII\\Data Mining\\TP\\Projet\\algorithms.py\", line 30, in fit\n",
      "    self.root = self._grow_tree(X, y)\n",
      "                ^^^^^^^^^^^^^^^^^^^^^\n",
      "  File \"d:\\TRETEC\\M2 SII\\Data Mining\\TP\\Projet\\algorithms.py\", line 50, in _grow_tree\n",
      "    left_child = self._grow_tree(X[left_idxs,:], y[left_idxs], depth=depth+1)\n",
      "                 ^^^^^^^^^^^^^^^^^^^^^^^^^^^^^^^^^^^^^^^^^^^^^^^^^^^^^^^^^^^^\n",
      "  File \"d:\\TRETEC\\M2 SII\\Data Mining\\TP\\Projet\\algorithms.py\", line 50, in _grow_tree\n",
      "    left_child = self._grow_tree(X[left_idxs,:], y[left_idxs], depth=depth+1)\n",
      "                 ^^^^^^^^^^^^^^^^^^^^^^^^^^^^^^^^^^^^^^^^^^^^^^^^^^^^^^^^^^^^\n",
      "  File \"d:\\TRETEC\\M2 SII\\Data Mining\\TP\\Projet\\algorithms.py\", line 50, in _grow_tree\n",
      "    left_child = self._grow_tree(X[left_idxs,:], y[left_idxs], depth=depth+1)\n",
      "                 ^^^^^^^^^^^^^^^^^^^^^^^^^^^^^^^^^^^^^^^^^^^^^^^^^^^^^^^^^^^^\n",
      "  File \"d:\\TRETEC\\M2 SII\\Data Mining\\TP\\Projet\\algorithms.py\", line 51, in _grow_tree\n",
      "    right_child = self._grow_tree(X[right_idxs,:], y[right_idxs], depth=depth+1)\n",
      "                  ^^^^^^^^^^^^^^^^^^^^^^^^^^^^^^^^^^^^^^^^^^^^^^^^^^^^^^^^^^^^^^\n",
      "  File \"d:\\TRETEC\\M2 SII\\Data Mining\\TP\\Projet\\algorithms.py\", line 50, in _grow_tree\n",
      "    left_child = self._grow_tree(X[left_idxs,:], y[left_idxs], depth=depth+1)\n",
      "                 ^^^^^^^^^^^^^^^^^^^^^^^^^^^^^^^^^^^^^^^^^^^^^^^^^^^^^^^^^^^^\n",
      "  File \"d:\\TRETEC\\M2 SII\\Data Mining\\TP\\Projet\\algorithms.py\", line 50, in _grow_tree\n",
      "    left_child = self._grow_tree(X[left_idxs,:], y[left_idxs], depth=depth+1)\n",
      "                 ^^^^^^^^^^^^^^^^^^^^^^^^^^^^^^^^^^^^^^^^^^^^^^^^^^^^^^^^^^^^\n",
      "  File \"d:\\TRETEC\\M2 SII\\Data Mining\\TP\\Projet\\algorithms.py\", line 51, in _grow_tree\n",
      "    right_child = self._grow_tree(X[right_idxs,:], y[right_idxs], depth=depth+1)\n",
      "                  ^^^^^^^^^^^^^^^^^^^^^^^^^^^^^^^^^^^^^^^^^^^^^^^^^^^^^^^^^^^^^^\n",
      "  File \"d:\\TRETEC\\M2 SII\\Data Mining\\TP\\Projet\\algorithms.py\", line 50, in _grow_tree\n",
      "    left_child = self._grow_tree(X[left_idxs,:], y[left_idxs], depth=depth+1)\n",
      "                 ^^^^^^^^^^^^^^^^^^^^^^^^^^^^^^^^^^^^^^^^^^^^^^^^^^^^^^^^^^^^\n",
      "  File \"d:\\TRETEC\\M2 SII\\Data Mining\\TP\\Projet\\algorithms.py\", line 50, in _grow_tree\n",
      "    left_child = self._grow_tree(X[left_idxs,:], y[left_idxs], depth=depth+1)\n",
      "                 ^^^^^^^^^^^^^^^^^^^^^^^^^^^^^^^^^^^^^^^^^^^^^^^^^^^^^^^^^^^^\n",
      "  File \"d:\\TRETEC\\M2 SII\\Data Mining\\TP\\Projet\\algorithms.py\", line 51, in _grow_tree\n",
      "    right_child = self._grow_tree(X[right_idxs,:], y[right_idxs], depth=depth+1)\n",
      "                  ^^^^^^^^^^^^^^^^^^^^^^^^^^^^^^^^^^^^^^^^^^^^^^^^^^^^^^^^^^^^^^\n",
      "  File \"d:\\TRETEC\\M2 SII\\Data Mining\\TP\\Projet\\algorithms.py\", line 51, in _grow_tree\n",
      "    right_child = self._grow_tree(X[right_idxs,:], y[right_idxs], depth=depth+1)\n",
      "                  ^^^^^^^^^^^^^^^^^^^^^^^^^^^^^^^^^^^^^^^^^^^^^^^^^^^^^^^^^^^^^^\n",
      "  File \"d:\\TRETEC\\M2 SII\\Data Mining\\TP\\Projet\\algorithms.py\", line 40, in _grow_tree\n",
      "    leaf_value = self._most_common_label(y)\n",
      "                 ^^^^^^^^^^^^^^^^^^^^^^^^^^\n",
      "  File \"d:\\TRETEC\\M2 SII\\Data Mining\\TP\\Projet\\algorithms.py\", line 72, in _most_common_label\n",
      "    most_common = counter.most_common(1)[0][0]\n",
      "                  ~~~~~~~~~~~~~~~~~~~~~~^^^\n",
      "IndexError: list index out of range\n",
      "\n",
      "--------------------------------------------------------------------------------\n",
      "1 fits failed with the following error:\n",
      "Traceback (most recent call last):\n",
      "  File \"c:\\Users\\Meriem\\AppData\\Local\\Programs\\Python\\Python312\\Lib\\site-packages\\sklearn\\model_selection\\_validation.py\", line 729, in _fit_and_score\n",
      "    estimator.fit(X_train, y_train, **fit_params)\n",
      "  File \"d:\\TRETEC\\M2 SII\\Data Mining\\TP\\Projet\\algorithms.py\", line 30, in fit\n",
      "    self.root = self._grow_tree(X, y)\n",
      "                ^^^^^^^^^^^^^^^^^^^^^\n",
      "  File \"d:\\TRETEC\\M2 SII\\Data Mining\\TP\\Projet\\algorithms.py\", line 50, in _grow_tree\n",
      "    left_child = self._grow_tree(X[left_idxs,:], y[left_idxs], depth=depth+1)\n",
      "                 ^^^^^^^^^^^^^^^^^^^^^^^^^^^^^^^^^^^^^^^^^^^^^^^^^^^^^^^^^^^^\n",
      "  File \"d:\\TRETEC\\M2 SII\\Data Mining\\TP\\Projet\\algorithms.py\", line 50, in _grow_tree\n",
      "    left_child = self._grow_tree(X[left_idxs,:], y[left_idxs], depth=depth+1)\n",
      "                 ^^^^^^^^^^^^^^^^^^^^^^^^^^^^^^^^^^^^^^^^^^^^^^^^^^^^^^^^^^^^\n",
      "  File \"d:\\TRETEC\\M2 SII\\Data Mining\\TP\\Projet\\algorithms.py\", line 51, in _grow_tree\n",
      "    right_child = self._grow_tree(X[right_idxs,:], y[right_idxs], depth=depth+1)\n",
      "                  ^^^^^^^^^^^^^^^^^^^^^^^^^^^^^^^^^^^^^^^^^^^^^^^^^^^^^^^^^^^^^^\n",
      "  File \"d:\\TRETEC\\M2 SII\\Data Mining\\TP\\Projet\\algorithms.py\", line 51, in _grow_tree\n",
      "    right_child = self._grow_tree(X[right_idxs,:], y[right_idxs], depth=depth+1)\n",
      "                  ^^^^^^^^^^^^^^^^^^^^^^^^^^^^^^^^^^^^^^^^^^^^^^^^^^^^^^^^^^^^^^\n",
      "  File \"d:\\TRETEC\\M2 SII\\Data Mining\\TP\\Projet\\algorithms.py\", line 50, in _grow_tree\n",
      "    left_child = self._grow_tree(X[left_idxs,:], y[left_idxs], depth=depth+1)\n",
      "                 ^^^^^^^^^^^^^^^^^^^^^^^^^^^^^^^^^^^^^^^^^^^^^^^^^^^^^^^^^^^^\n",
      "  File \"d:\\TRETEC\\M2 SII\\Data Mining\\TP\\Projet\\algorithms.py\", line 50, in _grow_tree\n",
      "    left_child = self._grow_tree(X[left_idxs,:], y[left_idxs], depth=depth+1)\n",
      "                 ^^^^^^^^^^^^^^^^^^^^^^^^^^^^^^^^^^^^^^^^^^^^^^^^^^^^^^^^^^^^\n",
      "  File \"d:\\TRETEC\\M2 SII\\Data Mining\\TP\\Projet\\algorithms.py\", line 51, in _grow_tree\n",
      "    right_child = self._grow_tree(X[right_idxs,:], y[right_idxs], depth=depth+1)\n",
      "                  ^^^^^^^^^^^^^^^^^^^^^^^^^^^^^^^^^^^^^^^^^^^^^^^^^^^^^^^^^^^^^^\n",
      "  File \"d:\\TRETEC\\M2 SII\\Data Mining\\TP\\Projet\\algorithms.py\", line 40, in _grow_tree\n",
      "    leaf_value = self._most_common_label(y)\n",
      "                 ^^^^^^^^^^^^^^^^^^^^^^^^^^\n",
      "  File \"d:\\TRETEC\\M2 SII\\Data Mining\\TP\\Projet\\algorithms.py\", line 72, in _most_common_label\n",
      "    most_common = counter.most_common(1)[0][0]\n",
      "                  ~~~~~~~~~~~~~~~~~~~~~~^^^\n",
      "IndexError: list index out of range\n",
      "\n",
      "  warnings.warn(some_fits_failed_message, FitFailedWarning)\n",
      "c:\\Users\\Meriem\\AppData\\Local\\Programs\\Python\\Python312\\Lib\\site-packages\\sklearn\\model_selection\\_search.py:979: UserWarning: One or more of the test scores are non-finite: [       nan        nan 0.80630303 0.81228283 0.79016162 0.80636364\n",
      "        nan 0.83046465 0.79612121 0.81632323 0.78208081 0.79824242\n",
      "        nan 0.78006061 0.81030303 0.83054545 0.82642424 0.81438384\n",
      "        nan 0.72789899 0.83450505 0.81430303 0.83046465 0.82440404\n",
      " 0.63329293 0.85866667 0.83046465 0.84056566 0.83046465 0.82440404\n",
      "        nan 0.76193939        nan 0.80840404 0.80226263 0.79424242\n",
      "        nan 0.77222222 0.81258586 0.79820202 0.81238384 0.80430303\n",
      "        nan 0.81248485 0.79838384 0.81036364 0.81438384 0.81034343\n",
      " 0.66149495 0.84854545 0.82642424 0.80824242 0.82440404 0.82440404\n",
      " 0.63806061 0.69307071 0.82228283 0.84864646 0.83450505 0.82440404\n",
      "        nan        nan 0.77418182 0.7600202  0.80034343 0.79622222\n",
      "        nan 0.85274747 0.79618182 0.82648485 0.80232323 0.80228283\n",
      "        nan 0.78854545 0.84260606 0.78628283 0.81842424 0.81438384\n",
      " 0.5559798  0.81442424 0.84248485 0.82844444 0.82644444 0.82440404\n",
      " 0.61834343 0.72593939 0.81228283 0.80446465 0.82440404 0.82440404\n",
      "        nan        nan        nan 0.80036364 0.78008081 0.80232323\n",
      "        nan 0.80642424 0.83046465 0.80228283 0.79420202 0.79622222\n",
      "        nan 0.6979798  0.81834343 0.81464646 0.83248485 0.81034343\n",
      " 0.74593939 0.84252525 0.81834343 0.82238384 0.82844444 0.82440404\n",
      " 0.61086869 0.81036364 0.79208081 0.82440404 0.83450505 0.82440404\n",
      "        nan        nan 0.79416162        nan 0.79620202 0.80632323\n",
      "        nan        nan 0.79424242 0.79424242 0.82248485 0.79622222\n",
      "        nan 0.67543434 0.84048485 0.82240404 0.82448485 0.81236364\n",
      "        nan 0.75842424 0.80420202 0.83854545 0.83046465 0.82440404\n",
      "        nan 0.77022222 0.80622222 0.83450505 0.83046465 0.82440404\n",
      "        nan        nan 0.78806061 0.80634343 0.82038384 0.79016162\n",
      "        nan 0.74381818 0.81440404 0.81238384 0.81032323 0.80430303\n",
      " 0.74753535 0.80228283 0.80840404 0.79452525 0.83240404 0.81438384\n",
      "        nan 0.82634343 0.83650505 0.84662626 0.81430303 0.82440404\n",
      " 0.80824242 0.82280808 0.83046465 0.83854545 0.82440404 0.82440404]\n",
      "  warnings.warn(\n"
     ]
    },
    {
     "data": {
      "text/html": [
       "<style>#sk-container-id-1 {color: black;}#sk-container-id-1 pre{padding: 0;}#sk-container-id-1 div.sk-toggleable {background-color: white;}#sk-container-id-1 label.sk-toggleable__label {cursor: pointer;display: block;width: 100%;margin-bottom: 0;padding: 0.3em;box-sizing: border-box;text-align: center;}#sk-container-id-1 label.sk-toggleable__label-arrow:before {content: \"▸\";float: left;margin-right: 0.25em;color: #696969;}#sk-container-id-1 label.sk-toggleable__label-arrow:hover:before {color: black;}#sk-container-id-1 div.sk-estimator:hover label.sk-toggleable__label-arrow:before {color: black;}#sk-container-id-1 div.sk-toggleable__content {max-height: 0;max-width: 0;overflow: hidden;text-align: left;background-color: #f0f8ff;}#sk-container-id-1 div.sk-toggleable__content pre {margin: 0.2em;color: black;border-radius: 0.25em;background-color: #f0f8ff;}#sk-container-id-1 input.sk-toggleable__control:checked~div.sk-toggleable__content {max-height: 200px;max-width: 100%;overflow: auto;}#sk-container-id-1 input.sk-toggleable__control:checked~label.sk-toggleable__label-arrow:before {content: \"▾\";}#sk-container-id-1 div.sk-estimator input.sk-toggleable__control:checked~label.sk-toggleable__label {background-color: #d4ebff;}#sk-container-id-1 div.sk-label input.sk-toggleable__control:checked~label.sk-toggleable__label {background-color: #d4ebff;}#sk-container-id-1 input.sk-hidden--visually {border: 0;clip: rect(1px 1px 1px 1px);clip: rect(1px, 1px, 1px, 1px);height: 1px;margin: -1px;overflow: hidden;padding: 0;position: absolute;width: 1px;}#sk-container-id-1 div.sk-estimator {font-family: monospace;background-color: #f0f8ff;border: 1px dotted black;border-radius: 0.25em;box-sizing: border-box;margin-bottom: 0.5em;}#sk-container-id-1 div.sk-estimator:hover {background-color: #d4ebff;}#sk-container-id-1 div.sk-parallel-item::after {content: \"\";width: 100%;border-bottom: 1px solid gray;flex-grow: 1;}#sk-container-id-1 div.sk-label:hover label.sk-toggleable__label {background-color: #d4ebff;}#sk-container-id-1 div.sk-serial::before {content: \"\";position: absolute;border-left: 1px solid gray;box-sizing: border-box;top: 0;bottom: 0;left: 50%;z-index: 0;}#sk-container-id-1 div.sk-serial {display: flex;flex-direction: column;align-items: center;background-color: white;padding-right: 0.2em;padding-left: 0.2em;position: relative;}#sk-container-id-1 div.sk-item {position: relative;z-index: 1;}#sk-container-id-1 div.sk-parallel {display: flex;align-items: stretch;justify-content: center;background-color: white;position: relative;}#sk-container-id-1 div.sk-item::before, #sk-container-id-1 div.sk-parallel-item::before {content: \"\";position: absolute;border-left: 1px solid gray;box-sizing: border-box;top: 0;bottom: 0;left: 50%;z-index: -1;}#sk-container-id-1 div.sk-parallel-item {display: flex;flex-direction: column;z-index: 1;position: relative;background-color: white;}#sk-container-id-1 div.sk-parallel-item:first-child::after {align-self: flex-end;width: 50%;}#sk-container-id-1 div.sk-parallel-item:last-child::after {align-self: flex-start;width: 50%;}#sk-container-id-1 div.sk-parallel-item:only-child::after {width: 0;}#sk-container-id-1 div.sk-dashed-wrapped {border: 1px dashed gray;margin: 0 0.4em 0.5em 0.4em;box-sizing: border-box;padding-bottom: 0.4em;background-color: white;}#sk-container-id-1 div.sk-label label {font-family: monospace;font-weight: bold;display: inline-block;line-height: 1.2em;}#sk-container-id-1 div.sk-label-container {text-align: center;}#sk-container-id-1 div.sk-container {/* jupyter's `normalize.less` sets `[hidden] { display: none; }` but bootstrap.min.css set `[hidden] { display: none !important; }` so we also need the `!important` here to be able to override the default hidden behavior on the sphinx rendered scikit-learn.org. See: https://github.com/scikit-learn/scikit-learn/issues/21755 */display: inline-block !important;position: relative;}#sk-container-id-1 div.sk-text-repr-fallback {display: none;}</style><div id=\"sk-container-id-1\" class=\"sk-top-container\"><div class=\"sk-text-repr-fallback\"><pre>GridSearchCV(cv=5,\n",
       "             estimator=&lt;algorithms.DecisionTree object at 0x000002CDEF5FA660&gt;,\n",
       "             param_grid={&#x27;max_depth&#x27;: [50, 100, 150, 200, 250, 300],\n",
       "                         &#x27;min_samples_split&#x27;: [10, 20, 30, 40, 50],\n",
       "                         &#x27;n_feats&#x27;: [2, 4, 6, 8, 10, 12]},\n",
       "             scoring=&#x27;accuracy&#x27;)</pre><b>In a Jupyter environment, please rerun this cell to show the HTML representation or trust the notebook. <br />On GitHub, the HTML representation is unable to render, please try loading this page with nbviewer.org.</b></div><div class=\"sk-container\" hidden><div class=\"sk-item sk-dashed-wrapped\"><div class=\"sk-label-container\"><div class=\"sk-label sk-toggleable\"><input class=\"sk-toggleable__control sk-hidden--visually\" id=\"sk-estimator-id-1\" type=\"checkbox\" ><label for=\"sk-estimator-id-1\" class=\"sk-toggleable__label sk-toggleable__label-arrow\">GridSearchCV</label><div class=\"sk-toggleable__content\"><pre>GridSearchCV(cv=5,\n",
       "             estimator=&lt;algorithms.DecisionTree object at 0x000002CDEF5FA660&gt;,\n",
       "             param_grid={&#x27;max_depth&#x27;: [50, 100, 150, 200, 250, 300],\n",
       "                         &#x27;min_samples_split&#x27;: [10, 20, 30, 40, 50],\n",
       "                         &#x27;n_feats&#x27;: [2, 4, 6, 8, 10, 12]},\n",
       "             scoring=&#x27;accuracy&#x27;)</pre></div></div></div><div class=\"sk-parallel\"><div class=\"sk-parallel-item\"><div class=\"sk-item\"><div class=\"sk-label-container\"><div class=\"sk-label sk-toggleable\"><input class=\"sk-toggleable__control sk-hidden--visually\" id=\"sk-estimator-id-2\" type=\"checkbox\" ><label for=\"sk-estimator-id-2\" class=\"sk-toggleable__label sk-toggleable__label-arrow\">estimator: DecisionTree</label><div class=\"sk-toggleable__content\"><pre>&lt;algorithms.DecisionTree object at 0x000002CDEF5FA660&gt;</pre></div></div></div><div class=\"sk-serial\"><div class=\"sk-item\"><div class=\"sk-estimator sk-toggleable\"><input class=\"sk-toggleable__control sk-hidden--visually\" id=\"sk-estimator-id-3\" type=\"checkbox\" ><label for=\"sk-estimator-id-3\" class=\"sk-toggleable__label sk-toggleable__label-arrow\">DecisionTree</label><div class=\"sk-toggleable__content\"><pre>&lt;algorithms.DecisionTree object at 0x000002CDEF5FA660&gt;</pre></div></div></div></div></div></div></div></div></div></div>"
      ],
      "text/plain": [
       "GridSearchCV(cv=5,\n",
       "             estimator=<algorithms.DecisionTree object at 0x000002CDEF5FA660>,\n",
       "             param_grid={'max_depth': [50, 100, 150, 200, 250, 300],\n",
       "                         'min_samples_split': [10, 20, 30, 40, 50],\n",
       "                         'n_feats': [2, 4, 6, 8, 10, 12]},\n",
       "             scoring='accuracy')"
      ]
     },
     "execution_count": 10,
     "metadata": {},
     "output_type": "execute_result"
    }
   ],
   "source": [
    "#Decision Tree\n",
    "from sklearn.model_selection import GridSearchCV\n",
    "param_grid={'min_samples_split':[10,20,30,40,50],'max_depth':[50,100,150,200,250,300],'n_feats':[2,4,6,8,10,12]}\n",
    "Decision_tree_model=DecisionTree()\n",
    "gs = GridSearchCV(Decision_tree_model,param_grid,scoring='accuracy',cv=5)\n",
    "gs.fit(X_train_1, y_train_1)"
   ]
  },
  {
   "cell_type": "code",
   "execution_count": 22,
   "metadata": {},
   "outputs": [
    {
     "data": {
      "text/plain": [
       "180"
      ]
     },
     "execution_count": 22,
     "metadata": {},
     "output_type": "execute_result"
    }
   ],
   "source": [
    "len(gs.cv_results_['params'])"
   ]
  },
  {
   "cell_type": "code",
   "execution_count": 33,
   "metadata": {},
   "outputs": [
    {
     "name": "stdout",
     "output_type": "stream",
     "text": [
      "{'max_depth': 300, 'min_samples_split': 30, 'n_feats': 10} test acc.: 0.8324040404040403\n",
      "{'max_depth': 150, 'min_samples_split': 20, 'n_feats': 6} test acc.: 0.7961818181818182\n",
      "{'max_depth': 100, 'min_samples_split': 50, 'n_feats': 4} test acc.: 0.6930707070707071\n",
      "{'max_depth': 200, 'min_samples_split': 50, 'n_feats': 10} test acc.: 0.8345050505050505\n",
      "{'max_depth': 50, 'min_samples_split': 40, 'n_feats': 12} test acc.: 0.8244040404040405\n",
      "{'max_depth': 50, 'min_samples_split': 10, 'n_feats': 10} test acc.: 0.7901616161616162\n",
      "{'max_depth': 50, 'min_samples_split': 10, 'n_feats': 8} test acc.: 0.8122828282828282\n",
      "{'max_depth': 150, 'min_samples_split': 10, 'n_feats': 6} test acc.: 0.7741818181818182\n"
     ]
    }
   ],
   "source": [
    "for i in range(8):\n",
    "    r=random.randint(0,len(gs.cv_results_['params']))\n",
    "    print(gs.cv_results_['params'][r], 'test acc.:', gs.cv_results_['mean_test_score'][r])"
   ]
  },
  {
   "cell_type": "code",
   "execution_count": 21,
   "metadata": {},
   "outputs": [
    {
     "data": {
      "text/html": [
       "<style>#sk-container-id-2 {color: black;}#sk-container-id-2 pre{padding: 0;}#sk-container-id-2 div.sk-toggleable {background-color: white;}#sk-container-id-2 label.sk-toggleable__label {cursor: pointer;display: block;width: 100%;margin-bottom: 0;padding: 0.3em;box-sizing: border-box;text-align: center;}#sk-container-id-2 label.sk-toggleable__label-arrow:before {content: \"▸\";float: left;margin-right: 0.25em;color: #696969;}#sk-container-id-2 label.sk-toggleable__label-arrow:hover:before {color: black;}#sk-container-id-2 div.sk-estimator:hover label.sk-toggleable__label-arrow:before {color: black;}#sk-container-id-2 div.sk-toggleable__content {max-height: 0;max-width: 0;overflow: hidden;text-align: left;background-color: #f0f8ff;}#sk-container-id-2 div.sk-toggleable__content pre {margin: 0.2em;color: black;border-radius: 0.25em;background-color: #f0f8ff;}#sk-container-id-2 input.sk-toggleable__control:checked~div.sk-toggleable__content {max-height: 200px;max-width: 100%;overflow: auto;}#sk-container-id-2 input.sk-toggleable__control:checked~label.sk-toggleable__label-arrow:before {content: \"▾\";}#sk-container-id-2 div.sk-estimator input.sk-toggleable__control:checked~label.sk-toggleable__label {background-color: #d4ebff;}#sk-container-id-2 div.sk-label input.sk-toggleable__control:checked~label.sk-toggleable__label {background-color: #d4ebff;}#sk-container-id-2 input.sk-hidden--visually {border: 0;clip: rect(1px 1px 1px 1px);clip: rect(1px, 1px, 1px, 1px);height: 1px;margin: -1px;overflow: hidden;padding: 0;position: absolute;width: 1px;}#sk-container-id-2 div.sk-estimator {font-family: monospace;background-color: #f0f8ff;border: 1px dotted black;border-radius: 0.25em;box-sizing: border-box;margin-bottom: 0.5em;}#sk-container-id-2 div.sk-estimator:hover {background-color: #d4ebff;}#sk-container-id-2 div.sk-parallel-item::after {content: \"\";width: 100%;border-bottom: 1px solid gray;flex-grow: 1;}#sk-container-id-2 div.sk-label:hover label.sk-toggleable__label {background-color: #d4ebff;}#sk-container-id-2 div.sk-serial::before {content: \"\";position: absolute;border-left: 1px solid gray;box-sizing: border-box;top: 0;bottom: 0;left: 50%;z-index: 0;}#sk-container-id-2 div.sk-serial {display: flex;flex-direction: column;align-items: center;background-color: white;padding-right: 0.2em;padding-left: 0.2em;position: relative;}#sk-container-id-2 div.sk-item {position: relative;z-index: 1;}#sk-container-id-2 div.sk-parallel {display: flex;align-items: stretch;justify-content: center;background-color: white;position: relative;}#sk-container-id-2 div.sk-item::before, #sk-container-id-2 div.sk-parallel-item::before {content: \"\";position: absolute;border-left: 1px solid gray;box-sizing: border-box;top: 0;bottom: 0;left: 50%;z-index: -1;}#sk-container-id-2 div.sk-parallel-item {display: flex;flex-direction: column;z-index: 1;position: relative;background-color: white;}#sk-container-id-2 div.sk-parallel-item:first-child::after {align-self: flex-end;width: 50%;}#sk-container-id-2 div.sk-parallel-item:last-child::after {align-self: flex-start;width: 50%;}#sk-container-id-2 div.sk-parallel-item:only-child::after {width: 0;}#sk-container-id-2 div.sk-dashed-wrapped {border: 1px dashed gray;margin: 0 0.4em 0.5em 0.4em;box-sizing: border-box;padding-bottom: 0.4em;background-color: white;}#sk-container-id-2 div.sk-label label {font-family: monospace;font-weight: bold;display: inline-block;line-height: 1.2em;}#sk-container-id-2 div.sk-label-container {text-align: center;}#sk-container-id-2 div.sk-container {/* jupyter's `normalize.less` sets `[hidden] { display: none; }` but bootstrap.min.css set `[hidden] { display: none !important; }` so we also need the `!important` here to be able to override the default hidden behavior on the sphinx rendered scikit-learn.org. See: https://github.com/scikit-learn/scikit-learn/issues/21755 */display: inline-block !important;position: relative;}#sk-container-id-2 div.sk-text-repr-fallback {display: none;}</style><div id=\"sk-container-id-2\" class=\"sk-top-container\"><div class=\"sk-text-repr-fallback\"><pre>GridSearchCV(cv=2,\n",
       "             estimator=&lt;algorithms.RandomForest object at 0x0000025D2BA36090&gt;,\n",
       "             param_grid={&#x27;max_depth&#x27;: [50, 150, 350],\n",
       "                         &#x27;min_samples_split&#x27;: [10, 35, 50],\n",
       "                         &#x27;n_feats&#x27;: [4, 8, 12], &#x27;n_trees&#x27;: [10, 50, 100]},\n",
       "             scoring=&#x27;accuracy&#x27;)</pre><b>In a Jupyter environment, please rerun this cell to show the HTML representation or trust the notebook. <br />On GitHub, the HTML representation is unable to render, please try loading this page with nbviewer.org.</b></div><div class=\"sk-container\" hidden><div class=\"sk-item sk-dashed-wrapped\"><div class=\"sk-label-container\"><div class=\"sk-label sk-toggleable\"><input class=\"sk-toggleable__control sk-hidden--visually\" id=\"sk-estimator-id-4\" type=\"checkbox\" ><label for=\"sk-estimator-id-4\" class=\"sk-toggleable__label sk-toggleable__label-arrow\">GridSearchCV</label><div class=\"sk-toggleable__content\"><pre>GridSearchCV(cv=2,\n",
       "             estimator=&lt;algorithms.RandomForest object at 0x0000025D2BA36090&gt;,\n",
       "             param_grid={&#x27;max_depth&#x27;: [50, 150, 350],\n",
       "                         &#x27;min_samples_split&#x27;: [10, 35, 50],\n",
       "                         &#x27;n_feats&#x27;: [4, 8, 12], &#x27;n_trees&#x27;: [10, 50, 100]},\n",
       "             scoring=&#x27;accuracy&#x27;)</pre></div></div></div><div class=\"sk-parallel\"><div class=\"sk-parallel-item\"><div class=\"sk-item\"><div class=\"sk-label-container\"><div class=\"sk-label sk-toggleable\"><input class=\"sk-toggleable__control sk-hidden--visually\" id=\"sk-estimator-id-5\" type=\"checkbox\" ><label for=\"sk-estimator-id-5\" class=\"sk-toggleable__label sk-toggleable__label-arrow\">estimator: RandomForest</label><div class=\"sk-toggleable__content\"><pre>&lt;algorithms.RandomForest object at 0x0000025D2BA36090&gt;</pre></div></div></div><div class=\"sk-serial\"><div class=\"sk-item\"><div class=\"sk-estimator sk-toggleable\"><input class=\"sk-toggleable__control sk-hidden--visually\" id=\"sk-estimator-id-6\" type=\"checkbox\" ><label for=\"sk-estimator-id-6\" class=\"sk-toggleable__label sk-toggleable__label-arrow\">RandomForest</label><div class=\"sk-toggleable__content\"><pre>&lt;algorithms.RandomForest object at 0x0000025D2BA36090&gt;</pre></div></div></div></div></div></div></div></div></div></div>"
      ],
      "text/plain": [
       "GridSearchCV(cv=2,\n",
       "             estimator=<algorithms.RandomForest object at 0x0000025D2BA36090>,\n",
       "             param_grid={'max_depth': [50, 150, 350],\n",
       "                         'min_samples_split': [10, 35, 50],\n",
       "                         'n_feats': [4, 8, 12], 'n_trees': [10, 50, 100]},\n",
       "             scoring='accuracy')"
      ]
     },
     "execution_count": 21,
     "metadata": {},
     "output_type": "execute_result"
    }
   ],
   "source": [
    "#Random Forest\n",
    "from sklearn.model_selection import GridSearchCV\n",
    "param_grid={'n_trees':[10,50,100],'min_samples_split':[10,35,50],'max_depth':[50,150,350],'n_feats':[4,8,12]}\n",
    "Random_forest_model=RandomForest()\n",
    "gs_rf = GridSearchCV(Random_forest_model,param_grid,scoring='accuracy',cv=2)\n",
    "gs_rf.fit(X_train_1, y_train_1)"
   ]
  },
  {
   "cell_type": "code",
   "execution_count": 28,
   "metadata": {},
   "outputs": [
    {
     "name": "stdout",
     "output_type": "stream",
     "text": [
      "{'max_depth': 350, 'min_samples_split': 50, 'n_feats': 8, 'n_trees': 50} test acc.: 0.008064516129032258\n",
      "{'max_depth': 150, 'min_samples_split': 50, 'n_feats': 4, 'n_trees': 100} test acc.: 0.008064516129032258\n",
      "{'max_depth': 50, 'min_samples_split': 10, 'n_feats': 8, 'n_trees': 10} test acc.: 0.05846774193548387\n",
      "{'max_depth': 350, 'min_samples_split': 35, 'n_feats': 12, 'n_trees': 10} test acc.: 0.008064516129032258\n",
      "{'max_depth': 350, 'min_samples_split': 35, 'n_feats': 8, 'n_trees': 50} test acc.: 0.008064516129032258\n",
      "{'max_depth': 50, 'min_samples_split': 50, 'n_feats': 12, 'n_trees': 50} test acc.: 0.008064516129032258\n",
      "{'max_depth': 50, 'min_samples_split': 10, 'n_feats': 12, 'n_trees': 10} test acc.: 0.12298387096774194\n",
      "{'max_depth': 50, 'min_samples_split': 50, 'n_feats': 8, 'n_trees': 10} test acc.: 0.008064516129032258\n"
     ]
    }
   ],
   "source": [
    "import random\n",
    "for i in range(8):\n",
    "    r=random.randint(0,len(gs_rf.cv_results_['params'])-1)\n",
    "    print(gs_rf.cv_results_['params'][r], 'test acc.:', gs_rf.cv_results_['mean_test_score'][r])"
   ]
  },
  {
   "cell_type": "code",
   "execution_count": 32,
   "metadata": {},
   "outputs": [],
   "source": [
    "# KNN\n",
    "accuracy_knn=[]\n",
    "for i in range(2,100):\n",
    "    knn = KNN(k=i)\n",
    "    knn.fit(X_train_2, y_train_2)\n",
    "    y_pred = knn.predict(X_test_2)\n",
    "    accuracy_knn.append((i,accuracy(y_test_2,y_pred)))"
   ]
  },
  {
   "cell_type": "code",
   "execution_count": 34,
   "metadata": {},
   "outputs": [
    {
     "name": "stdout",
     "output_type": "stream",
     "text": [
      "2 test acc.: 0.7936507936507936\n",
      "82 test acc.: 0.8650793650793651\n",
      "37 test acc.: 0.8571428571428571\n",
      "95 test acc.: 0.8492063492063492\n",
      "36 test acc.: 0.8650793650793651\n",
      "75 test acc.: 0.8650793650793651\n",
      "46 test acc.: 0.8650793650793651\n",
      "48 test acc.: 0.8650793650793651\n"
     ]
    },
    {
     "data": {
      "text/plain": [
       "(2, 0.7936507936507936)"
      ]
     },
     "execution_count": 34,
     "metadata": {},
     "output_type": "execute_result"
    }
   ],
   "source": [
    "for i in range(8):\n",
    "    r=random.randint(0,len(accuracy_knn))\n",
    "    print(accuracy_knn[r][0], 'test acc.:', accuracy_knn[r][1])"
   ]
  },
  {
   "cell_type": "markdown",
   "metadata": {},
   "source": [
    "Mesures de performances"
   ]
  },
  {
   "cell_type": "markdown",
   "metadata": {},
   "source": [
    "Pour chaque classe:"
   ]
  },
  {
   "cell_type": "code",
   "execution_count": 453,
   "metadata": {},
   "outputs": [
    {
     "name": "stdout",
     "output_type": "stream",
     "text": [
      "+---------+------------+---------------+-------------+----------+-----------+\n",
      "| Class   |   Accuracy |   Specificity |   Precision |   Recall |   F-Score |\n",
      "+=========+============+===============+=============+==========+===========+\n",
      "| Class 0 |    1.07018 |      0.855072 |    0.850746 | 1        |  0.919355 |\n",
      "+---------+------------+---------------+-------------+----------+-----------+\n",
      "| Class 1 |    0.875   |      0.935484 |    0.932203 | 0.859375 |  0.894309 |\n",
      "+---------+------------+---------------+-------------+----------+-----------+\n",
      "| Class 2 |    1.8     |      1        |    0        | 0        |  0        |\n",
      "+---------+------------+---------------+-------------+----------+-----------+\n"
     ]
    }
   ],
   "source": [
    "from tabulate import tabulate\n",
    "\n",
    "classes = np.unique(y_test_1)\n",
    "table_data = []\n",
    "\n",
    "for classe in classes:\n",
    "    class_accuracy = accuracy(y_test_1, y_pred_dt, classe)\n",
    "    class_specificity = specificity(y_test_1, y_pred_dt, classe)\n",
    "    class_precision = precision(y_test_1, y_pred_dt, classe)\n",
    "    class_recall = recall(y_test_1, y_pred_dt, classe)\n",
    "    class_f_score = f_score(y_test_1, y_pred_dt, classe)\n",
    "\n",
    "    table_data.append([f\"Class {classe}\", class_accuracy, class_specificity, class_precision, class_recall, class_f_score])\n",
    "\n",
    "headers = [\"Class\", \"Accuracy\", \"Specificity\", \"Precision\", \"Recall\", \"F-Score\"]\n",
    "table = tabulate(table_data, headers, tablefmt=\"grid\")\n",
    "\n",
    "print(table)\n"
   ]
  },
  {
   "cell_type": "markdown",
   "metadata": {},
   "source": [
    "Globale:"
   ]
  },
  {
   "cell_type": "code",
   "execution_count": 454,
   "metadata": {},
   "outputs": [],
   "source": [
    "def f_score(y_true,y_pred,c=None):\n",
    "    matrix=confusion_matrix(y_true,y_pred)\n",
    "    classes=np.unique(y_true)\n",
    "    if c==None:\n",
    "        global_fscore=0\n",
    "        for i in classes:\n",
    "            p=precision(y_true,y_pred,i)\n",
    "            r=recall(y_true,y_pred,i)\n",
    "            if(p==0 or r==0):\n",
    "                fscore=0\n",
    "            else:\n",
    "                fscore=2/((1/p)+(1/r))\n",
    "            global_fscore+=(fscore)\n",
    "        return global_fscore/len(classes)\n",
    "\n",
    "    else:\n",
    "        p=precision(y_true,y_pred,c)\n",
    "        r=recall(y_true,y_pred,c)\n",
    "        if (p==0 or r==0):\n",
    "            return 0\n",
    "\n",
    "        return 2/((1/p)+(1/r))"
   ]
  },
  {
   "cell_type": "code",
   "execution_count": 455,
   "metadata": {},
   "outputs": [],
   "source": [
    "table_data_global = []"
   ]
  },
  {
   "cell_type": "code",
   "execution_count": 456,
   "metadata": {},
   "outputs": [],
   "source": [
    "class_accuracy = accuracy(y_test_1, y_pred_dt)\n",
    "class_specificity = specificity(y_test_1, y_pred_dt)\n",
    "class_precision = precision(y_test_1, y_pred_dt)\n",
    "class_recall = recall(y_test_1, y_pred_dt)\n",
    "class_f_score = f_score(y_test_1, y_pred_dt)\n",
    "table_data_global.append([f\"Methode DT\", class_accuracy, class_specificity, class_precision, class_recall, class_f_score])\n"
   ]
  },
  {
   "cell_type": "markdown",
   "metadata": {},
   "source": [
    "Random Forest"
   ]
  },
  {
   "cell_type": "code",
   "execution_count": 20,
   "metadata": {},
   "outputs": [
    {
     "name": "stdout",
     "output_type": "stream",
     "text": [
      "0.9047619047619048\n"
     ]
    }
   ],
   "source": [
    "print(accuracy(y_test_1, y_pred_rf))"
   ]
  },
  {
   "cell_type": "code",
   "execution_count": 457,
   "metadata": {},
   "outputs": [
    {
     "name": "stdout",
     "output_type": "stream",
     "text": [
      "+---------+------------+---------------+-------------+----------+-----------+\n",
      "| Class   |   Accuracy |   Specificity |   Precision |   Recall |   F-Score |\n",
      "+=========+============+===============+=============+==========+===========+\n",
      "| Class 0 |    1.07018 |      0.826087 |    0.823529 | 0.982456 |  0.896    |\n",
      "+---------+------------+---------------+-------------+----------+-----------+\n",
      "| Class 1 |    0.8125  |      0.935484 |    0.927273 | 0.796875 |  0.857143 |\n",
      "+---------+------------+---------------+-------------+----------+-----------+\n",
      "| Class 2 |    2.6     |      0.983471 |    0.333333 | 0.2      |  0.25     |\n",
      "+---------+------------+---------------+-------------+----------+-----------+\n"
     ]
    }
   ],
   "source": [
    "from tabulate import tabulate\n",
    "\n",
    "classes = np.unique(y_test_1)\n",
    "table_data = []\n",
    "\n",
    "for classe in classes:\n",
    "    class_accuracy = accuracy(y_test_1, y_pred_rf, classe)\n",
    "    class_specificity = specificity(y_test_1, y_pred_rf, classe)\n",
    "    class_precision = precision(y_test_1, y_pred_rf, classe)\n",
    "    class_recall = recall(y_test_1, y_pred_rf, classe)\n",
    "    class_f_score = f_score(y_test_1, y_pred_rf, classe)\n",
    "\n",
    "    table_data.append([f\"Class {classe}\", class_accuracy, class_specificity, class_precision, class_recall, class_f_score])\n",
    "\n",
    "headers = [\"Class\", \"Accuracy\", \"Specificity\", \"Precision\", \"Recall\", \"F-Score\"]\n",
    "table = tabulate(table_data, headers, tablefmt=\"grid\")\n",
    "\n",
    "print(table)\n"
   ]
  },
  {
   "cell_type": "code",
   "execution_count": 458,
   "metadata": {},
   "outputs": [],
   "source": [
    "class_accuracy = accuracy(y_test_1, y_pred_rf)\n",
    "class_specificity = specificity(y_test_1, y_pred_rf)\n",
    "class_precision = precision(y_test_1, y_pred_rf)\n",
    "class_recall = recall(y_test_1, y_pred_rf)\n",
    "class_f_score = f_score(y_test_1, y_pred_rf)\n",
    "table_data_global.append([f\"Methode RF\", class_accuracy, class_specificity, class_precision, class_recall, class_f_score])\n"
   ]
  },
  {
   "cell_type": "markdown",
   "metadata": {},
   "source": [
    "KNN"
   ]
  },
  {
   "cell_type": "code",
   "execution_count": 459,
   "metadata": {},
   "outputs": [
    {
     "name": "stdout",
     "output_type": "stream",
     "text": [
      "+---------+------------+---------------+-------------+----------+-----------+\n",
      "| Class   |   Accuracy |   Specificity |   Precision |   Recall |   F-Score |\n",
      "+=========+============+===============+=============+==========+===========+\n",
      "| Class 0 |   1        |      0.927536 |    0.912281 | 0.912281 |  0.912281 |\n",
      "+---------+------------+---------------+-------------+----------+-----------+\n",
      "| Class 1 |   0.921875 |      0.83871  |    0.855072 | 0.921875 |  0.887218 |\n",
      "+---------+------------+---------------+-------------+----------+-----------+\n",
      "| Class 2 |   2        |      1        |    0        | 0        |  0        |\n",
      "+---------+------------+---------------+-------------+----------+-----------+\n"
     ]
    }
   ],
   "source": [
    "from tabulate import tabulate\n",
    "\n",
    "classes = np.unique(y_test_2)\n",
    "table_data = []\n",
    "\n",
    "for classe in classes:\n",
    "    class_accuracy = accuracy(y_test_2, knn_pred, classe)\n",
    "    class_specificity = specificity(y_test_2, knn_pred, classe)\n",
    "    class_precision = precision(y_test_2, knn_pred, classe)\n",
    "    class_recall = recall(y_test_2, knn_pred, classe)\n",
    "    class_f_score = f_score(y_test_2, knn_pred, classe)\n",
    "\n",
    "    table_data.append([f\"Class {classe}\", class_accuracy, class_specificity, class_precision, class_recall, class_f_score])\n",
    "\n",
    "headers = [\"Class\", \"Accuracy\", \"Specificity\", \"Precision\", \"Recall\", \"F-Score\"]\n",
    "table = tabulate(table_data, headers, tablefmt=\"grid\")\n",
    "\n",
    "print(table)\n"
   ]
  },
  {
   "cell_type": "code",
   "execution_count": 460,
   "metadata": {},
   "outputs": [],
   "source": [
    "class_accuracy = accuracy(y_test_2, knn_pred)\n",
    "class_specificity = specificity(y_test_2, knn_pred)\n",
    "class_precision = precision(y_test_2, knn_pred)\n",
    "class_recall = recall(y_test_2, knn_pred)\n",
    "class_f_score = f_score(y_test_2, knn_pred)\n",
    "table_data_global.append([f\"Methode KNN\", class_accuracy, class_specificity, class_precision, class_recall, class_f_score])\n"
   ]
  },
  {
   "cell_type": "code",
   "execution_count": 461,
   "metadata": {},
   "outputs": [
    {
     "name": "stdout",
     "output_type": "stream",
     "text": [
      "+-------------+------------+---------------+-------------+----------+-----------+\n",
      "| Class       |   Accuracy |   Specificity |   Precision |   Recall |   F-Score |\n",
      "+=============+============+===============+=============+==========+===========+\n",
      "| Methode DT  |   0.888889 |      0.930185 |    0.594317 | 0.619792 |  0.604555 |\n",
      "+-------------+------------+---------------+-------------+----------+-----------+\n",
      "| Methode RF  |   0.857143 |      0.915014 |    0.694712 | 0.659777 |  0.667714 |\n",
      "+-------------+------------+---------------+-------------+----------+-----------+\n",
      "| Methode KNN |   0.880952 |      0.922082 |    0.589118 | 0.611385 |  0.599833 |\n",
      "+-------------+------------+---------------+-------------+----------+-----------+\n"
     ]
    }
   ],
   "source": [
    "headers = [\"Class\", \"Accuracy\", \"Specificity\", \"Precision\", \"Recall\", \"F-Score\"]\n",
    "table = tabulate(table_data_global, headers, tablefmt=\"grid\")\n",
    "\n",
    "print(table)"
   ]
  },
  {
   "cell_type": "markdown",
   "metadata": {},
   "source": [
    "Temps d'execution"
   ]
  },
  {
   "cell_type": "markdown",
   "metadata": {},
   "source": [
    "Decision Tree"
   ]
  },
  {
   "cell_type": "markdown",
   "metadata": {},
   "source": [
    "Temps d'execution par rapport aux hyperparametres:"
   ]
  },
  {
   "cell_type": "code",
   "execution_count": 35,
   "metadata": {},
   "outputs": [],
   "source": [
    "# For min_sample_split\n",
    "time_execution=[]\n",
    "for i in range(10,100):\n",
    "    start_time = time.time()\n",
    "    Decision_tree_model = DecisionTree(min_samples_split=i, max_depth=50) # Keep the best max_depth\n",
    "    Decision_tree_model.fit(X_train_1, y_train_1)\n",
    "    y_pred_dt = Decision_tree_model.predict(X_test_1)\n",
    "    end_time = time.time()\n",
    "    execute_time = end_time - start_time\n",
    "    time_execution.append((i,(execute_time)))\n"
   ]
  },
  {
   "cell_type": "code",
   "execution_count": 36,
   "metadata": {},
   "outputs": [
    {
     "data": {
      "image/png": "[encoded data removed]",
      "text/plain": [
       "<Figure size 640x480 with 1 Axes>"
      ]
     },
     "metadata": {},
     "output_type": "display_data"
    }
   ],
   "source": [
    "# Extract values for plotting\n",
    "min_sample_splits, execution_times = zip(*time_execution)\n",
    "\n",
    "# Plot the results\n",
    "plt.plot(min_sample_splits, execution_times)\n",
    "plt.title('Execution Time vs. min_sample_split')\n",
    "plt.xlabel('min_sample_split')\n",
    "plt.ylabel('Execution Time (seconds)')\n",
    "plt.grid(True)\n",
    "plt.show()"
   ]
  },
  {
   "cell_type": "code",
   "execution_count": 37,
   "metadata": {},
   "outputs": [],
   "source": [
    "# For max_depth\n",
    "time_execution=[]\n",
    "for i in range(50,500,50):\n",
    "    start_time = time.time()\n",
    "    Decision_tree_model = DecisionTree(min_samples_split=30,max_depth=i) # Keep the best value for min_samples_split\n",
    "    Decision_tree_model.fit(X_train_1, y_train_1)\n",
    "    y_pred_dt =Decision_tree_model.predict(X_test_1)\n",
    "    end_time = time.time()\n",
    "    execute_time = end_time - start_time\n",
    "    time_execution.append((i,(execute_time)))\n"
   ]
  },
  {
   "cell_type": "code",
   "execution_count": 38,
   "metadata": {},
   "outputs": [
    {
     "data": {
      "image/png": "[encoded data removed]",
      "text/plain": [
       "<Figure size 640x480 with 1 Axes>"
      ]
     },
     "metadata": {},
     "output_type": "display_data"
    }
   ],
   "source": [
    "# Extract values for plotting\n",
    "max_depth, execution_times = zip(*time_execution)\n",
    "\n",
    "# Plot the results\n",
    "plt.plot(max_depth, execution_times, marker='o')\n",
    "plt.title('Execution Time vs. max depth')\n",
    "plt.xlabel('max_depth')\n",
    "plt.ylabel('Execution Time (seconds)')\n",
    "plt.grid(True)\n",
    "plt.show()"
   ]
  },
  {
   "cell_type": "code",
   "execution_count": 41,
   "metadata": {},
   "outputs": [],
   "source": [
    "# For n_features\n",
    "time_execution=[]\n",
    "for i in range(2,12):\n",
    "    start_time = time.time()\n",
    "    Decision_tree_model = DecisionTree(min_samples_split=30,max_depth=50,n_feats=i) # Keep the best values for min_samples_split and max_depth\n",
    "    Decision_tree_model.fit(X_train_1, y_train_1)\n",
    "    y_pred_dt = Decision_tree_model.predict(X_test_1)\n",
    "    end_time = time.time()\n",
    "    execute_time = end_time - start_time\n",
    "    time_execution.append((i,(execute_time)))\n"
   ]
  },
  {
   "cell_type": "code",
   "execution_count": 42,
   "metadata": {},
   "outputs": [
    {
     "data": {
      "image/png": "[encoded data removed]",
      "text/plain": [
       "<Figure size 640x480 with 1 Axes>"
      ]
     },
     "metadata": {},
     "output_type": "display_data"
    }
   ],
   "source": [
    "# Extract values for plotting\n",
    "n_features, execution_times = zip(*time_execution)\n",
    "\n",
    "# Plot the results\n",
    "plt.plot(n_features, execution_times, marker='o')\n",
    "plt.title('Execution Time vs. n_features')\n",
    "plt.xlabel('n_features')\n",
    "plt.ylabel('Execution Time (seconds)')\n",
    "plt.grid(True)\n",
    "plt.show()"
   ]
  },
  {
   "cell_type": "markdown",
   "metadata": {},
   "source": [
    "Temps d'execution par rapport au training et test:"
   ]
  },
  {
   "cell_type": "code",
   "execution_count": 45,
   "metadata": {},
   "outputs": [],
   "source": [
    "# Using the best model we calculate the mean time to fit and predict\n",
    "time_fit=0\n",
    "time_predict=0\n",
    "for i in range(100):\n",
    "    start_time = time.time()\n",
    "    loaded_decision_tree_model.fit(X_train_1, y_train_1)\n",
    "    end_time = time.time()\n",
    "    time_fit+=(end_time-start_time)\n",
    "    start_time = time.time()\n",
    "    y_pred_dt=loaded_decision_tree_model.predict(X_test_1)\n",
    "    end_time = time.time()\n",
    "    time_predict+=(end_time-start_time)\n",
    "time_fit=time_fit/100\n",
    "time_predict=time_predict/100"
   ]
  },
  {
   "cell_type": "code",
   "execution_count": 46,
   "metadata": {},
   "outputs": [
    {
     "data": {
      "image/png": "[encoded data removed]",
      "text/plain": [
       "<Figure size 640x480 with 1 Axes>"
      ]
     },
     "metadata": {},
     "output_type": "display_data"
    }
   ],
   "source": [
    "import matplotlib.pyplot as plt\n",
    "\n",
    "# Noms des algorithmes\n",
    "operation = ['Training', 'Test']\n",
    "\n",
    "# Création d'un diagramme à barres\n",
    "plt.bar(operation,[time_fit,time_predict], color=['blue','red'])\n",
    "\n",
    "# Ajout de titres et d'étiquettes\n",
    "plt.title('Comparaison du temps d\\'exécution entre training et test pour le Decision Tree')\n",
    "plt.xlabel('Opération')\n",
    "plt.ylabel('Temps d\\'exécution (en secondes)')\n",
    "\n",
    "# Affichage du diagramme\n",
    "plt.show()\n"
   ]
  },
  {
   "cell_type": "markdown",
   "metadata": {},
   "source": [
    "Random Forest"
   ]
  },
  {
   "cell_type": "markdown",
   "metadata": {},
   "source": [
    "Temps d'execution par rapport aux hyperparmetres:"
   ]
  },
  {
   "cell_type": "code",
   "execution_count": 48,
   "metadata": {},
   "outputs": [],
   "source": [
    "# For n_trees\n",
    "time_execution=[]\n",
    "for i in range(10,100,10):\n",
    "    start_time = time.time()\n",
    "    Random_forest_model = RandomForest(n_trees=i,min_samples_split=35, max_depth=350) # Keep the best min_samples_split max_depth\n",
    "    Random_forest_model.fit(X_train_1, y_train_1)\n",
    "    y_pred_rf = Random_forest_model.predict(X_test_1)\n",
    "    end_time = time.time()\n",
    "    execute_time = end_time - start_time\n",
    "    time_execution.append((i,(execute_time)))\n"
   ]
  },
  {
   "cell_type": "code",
   "execution_count": 49,
   "metadata": {},
   "outputs": [
    {
     "data": {
      "image/png": "[encoded data removed]",
      "text/plain": [
       "<Figure size 640x480 with 1 Axes>"
      ]
     },
     "metadata": {},
     "output_type": "display_data"
    }
   ],
   "source": [
    "# Extract values for plotting\n",
    "n_trees, execution_times = zip(*time_execution)\n",
    "\n",
    "# Plot the results\n",
    "plt.plot(n_trees, execution_times, marker='o')\n",
    "plt.title('Execution Time vs. n_trees')\n",
    "plt.xlabel('n_trees')\n",
    "plt.ylabel('Execution Time (seconds)')\n",
    "plt.grid(True)\n",
    "plt.show()"
   ]
  },
  {
   "cell_type": "code",
   "execution_count": 53,
   "metadata": {},
   "outputs": [],
   "source": [
    "# For min_sample_split\n",
    "time_execution=[]\n",
    "for i in range(15,100):\n",
    "    start_time = time.time()\n",
    "    Random_forest_model = RandomForest(min_samples_split=i,n_trees=10, max_depth=350) # Keep the best max_depth and n_trees\n",
    "    Random_forest_model.fit(X_train_1, y_train_1)\n",
    "    y_pred_rf = Random_forest_model.predict(X_test_1)\n",
    "    end_time = time.time()\n",
    "    execute_time = end_time - start_time\n",
    "    time_execution.append((i,(execute_time)))\n"
   ]
  },
  {
   "cell_type": "code",
   "execution_count": 54,
   "metadata": {},
   "outputs": [
    {
     "data": {
      "image/png": "[encoded data removed]",
      "text/plain": [
       "<Figure size 640x480 with 1 Axes>"
      ]
     },
     "metadata": {},
     "output_type": "display_data"
    }
   ],
   "source": [
    "# Extract values for plotting\n",
    "min_sample_split, execution_times = zip(*time_execution)\n",
    "\n",
    "# Plot the results\n",
    "plt.plot(min_sample_split, execution_times)\n",
    "plt.title('Execution Time vs. min_sample_split')\n",
    "plt.xlabel('min_sample_split')\n",
    "plt.ylabel('Execution Time (seconds)')\n",
    "plt.grid(True)\n",
    "plt.show()"
   ]
  },
  {
   "cell_type": "code",
   "execution_count": 55,
   "metadata": {},
   "outputs": [],
   "source": [
    "# For max_depth\n",
    "time_execution=[]\n",
    "for i in range(50,500,50):\n",
    "    start_time = time.time()\n",
    "    Random_forest_model = RandomForest(min_samples_split=35,n_trees=10, max_depth=i) # Keep the best min_sample_split and n_trees\n",
    "    Random_forest_model.fit(X_train_1, y_train_1)\n",
    "    y_pred_rf = Random_forest_model.predict(X_test_1)\n",
    "    end_time = time.time()\n",
    "    execute_time = end_time - start_time\n",
    "    time_execution.append((i,(execute_time)))\n"
   ]
  },
  {
   "cell_type": "code",
   "execution_count": 56,
   "metadata": {},
   "outputs": [
    {
     "data": {
      "image/png": "[encoded data removed]",
      "text/plain": [
       "<Figure size 640x480 with 1 Axes>"
      ]
     },
     "metadata": {},
     "output_type": "display_data"
    }
   ],
   "source": [
    "# Extract values for plotting\n",
    "max_depth, execution_times = zip(*time_execution)\n",
    "\n",
    "# Plot the results\n",
    "plt.plot(max_depth, execution_times, marker='o')\n",
    "plt.title('Execution Time vs. max_depth')\n",
    "plt.xlabel('max_depth')\n",
    "plt.ylabel('Execution Time (seconds)')\n",
    "plt.grid(True)\n",
    "plt.show()"
   ]
  },
  {
   "cell_type": "code",
   "execution_count": 58,
   "metadata": {},
   "outputs": [],
   "source": [
    "# For n_features\n",
    "time_execution=[]\n",
    "for i in range(2,12):\n",
    "    start_time = time.time()\n",
    "    Random_forest_model = RandomForest(min_samples_split=35,n_trees=10, max_depth=350, n_features=i) # Keep the best min_sample_split, max_depth and n_trees\n",
    "    Random_forest_model.fit(X_train_1, y_train_1)\n",
    "    y_pred_rf = Random_forest_model.predict(X_test_1)\n",
    "    end_time = time.time()\n",
    "    execute_time = end_time - start_time\n",
    "    time_execution.append((i,(execute_time)))\n"
   ]
  },
  {
   "cell_type": "code",
   "execution_count": 59,
   "metadata": {},
   "outputs": [
    {
     "data": {
      "image/png": "[encoded data removed]",
      "text/plain": [
       "<Figure size 640x480 with 1 Axes>"
      ]
     },
     "metadata": {},
     "output_type": "display_data"
    }
   ],
   "source": [
    "# Extract values for plotting\n",
    "n_features, execution_times = zip(*time_execution)\n",
    "\n",
    "# Plot the results\n",
    "plt.plot(n_features, execution_times, marker='o')\n",
    "plt.title('Execution Time vs. n_features')\n",
    "plt.xlabel('n_features')\n",
    "plt.ylabel('Execution Time (seconds)')\n",
    "plt.grid(True)\n",
    "plt.show()"
   ]
  },
  {
   "cell_type": "markdown",
   "metadata": {},
   "source": [
    "Temps d'execution par rapport au training et test: "
   ]
  },
  {
   "cell_type": "code",
   "execution_count": 60,
   "metadata": {},
   "outputs": [],
   "source": [
    "# Using the best model we calculate the mean time to fit and predict\n",
    "time_fit=0\n",
    "time_predict=0\n",
    "for i in range(100):\n",
    "    start_time = time.time()\n",
    "    loaded_random_forest_model.fit(X_train_1, y_train_1)\n",
    "    end_time = time.time()\n",
    "    time_fit+=(end_time-start_time)\n",
    "    start_time = time.time()\n",
    "    y_pred_rf=loaded_random_forest_model.predict(X_test_1)\n",
    "    end_time = time.time()\n",
    "    time_predict+=(end_time-start_time)\n",
    "time_fit=time_fit/100\n",
    "time_predict=time_predict/100"
   ]
  },
  {
   "cell_type": "code",
   "execution_count": 61,
   "metadata": {},
   "outputs": [
    {
     "data": {
      "image/png": "[encoded data removed]",
      "text/plain": [
       "<Figure size 640x480 with 1 Axes>"
      ]
     },
     "metadata": {},
     "output_type": "display_data"
    }
   ],
   "source": [
    "import matplotlib.pyplot as plt\n",
    "\n",
    "# Noms des algorithmes\n",
    "operation = ['Training', 'Test']\n",
    "\n",
    "# Création d'un diagramme à barres\n",
    "plt.bar(operation,[time_fit,time_predict], color=['blue','red'])\n",
    "\n",
    "# Ajout de titres et d'étiquettes\n",
    "plt.title('Comparaison du temps d\\'exécution entre training et test pour le Random Forest')\n",
    "plt.xlabel('Opération')\n",
    "plt.ylabel('Temps d\\'exécution (en secondes)')\n",
    "\n",
    "# Affichage du diagramme\n",
    "plt.show()\n"
   ]
  },
  {
   "cell_type": "markdown",
   "metadata": {},
   "source": [
    "KNN"
   ]
  },
  {
   "cell_type": "markdown",
   "metadata": {},
   "source": [
    "Temps d'execution par rapport aux hyperparametres:"
   ]
  },
  {
   "cell_type": "code",
   "execution_count": 62,
   "metadata": {},
   "outputs": [],
   "source": [
    "# For K number of nearest neighbours\n",
    "time_execution=[]\n",
    "for i in range(2,100):\n",
    "    start_time = time.time()\n",
    "    knn_model = KNN(k=i) \n",
    "    knn_model.fit(X_train_2, y_train_2)\n",
    "    y_pred_knn = knn_model.predict(X_test_2)\n",
    "    end_time = time.time()\n",
    "    execute_time = end_time - start_time\n",
    "    time_execution.append((i,(execute_time)))\n"
   ]
  },
  {
   "cell_type": "code",
   "execution_count": 64,
   "metadata": {},
   "outputs": [
    {
     "data": {
      "image/png": "[encoded data removed]",
      "text/plain": [
       "<Figure size 640x480 with 1 Axes>"
      ]
     },
     "metadata": {},
     "output_type": "display_data"
    }
   ],
   "source": [
    "# Extract values for plotting\n",
    "k, execution_times = zip(*time_execution)\n",
    "\n",
    "# Plot the results\n",
    "plt.plot(k, execution_times)\n",
    "plt.title('Execution Time vs. k_nearest_neighbours')\n",
    "plt.xlabel('k number of nearest neighbours')\n",
    "plt.ylabel('Execution Time (seconds)')\n",
    "plt.grid(True)\n",
    "plt.show()"
   ]
  },
  {
   "cell_type": "markdown",
   "metadata": {},
   "source": [
    "Comparaison temps d'execution entre les algorithmes"
   ]
  },
  {
   "cell_type": "code",
   "execution_count": 65,
   "metadata": {},
   "outputs": [],
   "source": [
    "# Calculate mean time execution for every classifier\n",
    "temps_execution=[]\n",
    "time_dt=0\n",
    "time_rf=0\n",
    "time_knn=0\n",
    "for i in range(100):\n",
    "    start_time = time.time()\n",
    "    loaded_decision_tree_model.fit(X_train_1, y_train_1)\n",
    "    y_pred_dt = loaded_decision_tree_model.predict(X_test_1)\n",
    "    end_time = time.time()\n",
    "    time_dt+=(end_time-start_time)\n",
    "    start_time = time.time()\n",
    "    loaded_random_forest_model.fit(X_train_1, y_train_1)\n",
    "    y_pred_rf = loaded_random_forest_model.predict(X_test_1)\n",
    "    end_time = time.time()\n",
    "    time_rf+=(end_time-start_time)\n",
    "    start_time = time.time()\n",
    "    knn_model.fit(X_train_2, y_train_2)\n",
    "    y_pred_knn = knn_model.predict(X_test_2)\n",
    "    end_time = time.time()\n",
    "    time_knn+=(end_time-start_time)\n",
    "time_dt=time_dt/100\n",
    "time_rf=time_rf/100\n",
    "time_knn=time_knn/100\n",
    "time_execution=[time_dt,time_rf,time_knn]\n"
   ]
  },
  {
   "cell_type": "code",
   "execution_count": 67,
   "metadata": {},
   "outputs": [
    {
     "data": {
      "image/png": "[encoded data removed]",
      "text/plain": [
       "<Figure size 640x480 with 1 Axes>"
      ]
     },
     "metadata": {},
     "output_type": "display_data"
    }
   ],
   "source": [
    "import matplotlib.pyplot as plt\n",
    "\n",
    "# Noms des algorithmes\n",
    "algorithmes = ['Decision Tree', 'Random Forest', 'KNN']\n",
    "\n",
    "# Création d'un diagramme à barres\n",
    "plt.bar(algorithmes, time_execution, color=['blue', 'orange', 'red'])\n",
    "\n",
    "# Ajout de titres et d'étiquettes\n",
    "plt.title('Comparaison du temps d\\'exécution des méthodes')\n",
    "plt.xlabel('Méthodes')\n",
    "plt.ylabel('Temps d\\'exécution (en secondes)')\n",
    "\n",
    "# Affichage du diagramme\n",
    "plt.show()\n"
   ]
  }
 ],
 "metadata": {
  "kernelspec": {
   "display_name": "Python 3",
   "language": "python",
   "name": "python3"
  },
  "language_info": {
   "codemirror_mode": {
    "name": "ipython",
    "version": 3
   },
   "file_extension": ".py",
   "mimetype": "text/x-python",
   "name": "python",
   "nbconvert_exporter": "python",
   "pygments_lexer": "ipython3",
   "version": "3.11.4"
  }
 },
 "nbformat": 4,
 "nbformat_minor": 2
}
